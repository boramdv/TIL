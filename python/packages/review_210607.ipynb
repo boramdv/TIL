{
 "cells": [
  {
   "cell_type": "markdown",
   "id": "eb750d1d-4e07-438f-864b-ae68ed331f25",
   "metadata": {},
   "source": [
    "# Kaggle Courses"
   ]
  },
  {
   "cell_type": "markdown",
   "id": "c1bc5acc-8e5b-4252-85e4-85404eaa69c7",
   "metadata": {},
   "source": [
    "## Pandas"
   ]
  },
  {
   "cell_type": "markdown",
   "id": "bdd3ed8a-a361-4fe5-a7df-6cee207b720b",
   "metadata": {},
   "source": [
    "### Lesson1 Tutorial & Exercise\n",
    "#### Creating, Reading and Writing"
   ]
  },
  {
   "cell_type": "markdown",
   "id": "abaaeefc-3bb1-4ef9-a74e-1333081f96d9",
   "metadata": {},
   "source": [
    "##### Tutorial"
   ]
  },
  {
   "cell_type": "code",
   "execution_count": 3,
   "id": "643f3cbf-c253-4ce1-bf76-83dd2e9f2532",
   "metadata": {},
   "outputs": [],
   "source": [
    "import pandas as pd"
   ]
  },
  {
   "cell_type": "code",
   "execution_count": 4,
   "id": "2cb7ac3f-67c0-4403-b3a9-7411942c8271",
   "metadata": {},
   "outputs": [],
   "source": [
    "# A DataFrame is a table. It contains an array of individual entries, each of which has a certain value. Each entry corresponds to a row (or record) and a column."
   ]
  },
  {
   "cell_type": "code",
   "execution_count": 4,
   "id": "3098e2d8-0a0f-49c6-bb28-58cf145d595d",
   "metadata": {},
   "outputs": [
    {
     "data": {
      "text/html": [
       "<div>\n",
       "<style scoped>\n",
       "    .dataframe tbody tr th:only-of-type {\n",
       "        vertical-align: middle;\n",
       "    }\n",
       "\n",
       "    .dataframe tbody tr th {\n",
       "        vertical-align: top;\n",
       "    }\n",
       "\n",
       "    .dataframe thead th {\n",
       "        text-align: right;\n",
       "    }\n",
       "</style>\n",
       "<table border=\"1\" class=\"dataframe\">\n",
       "  <thead>\n",
       "    <tr style=\"text-align: right;\">\n",
       "      <th></th>\n",
       "      <th>Yes</th>\n",
       "      <th>No</th>\n",
       "    </tr>\n",
       "  </thead>\n",
       "  <tbody>\n",
       "    <tr>\n",
       "      <th>0</th>\n",
       "      <td>50</td>\n",
       "      <td>131</td>\n",
       "    </tr>\n",
       "    <tr>\n",
       "      <th>1</th>\n",
       "      <td>21</td>\n",
       "      <td>2</td>\n",
       "    </tr>\n",
       "  </tbody>\n",
       "</table>\n",
       "</div>"
      ],
      "text/plain": [
       "   Yes   No\n",
       "0   50  131\n",
       "1   21    2"
      ]
     },
     "execution_count": 4,
     "metadata": {},
     "output_type": "execute_result"
    }
   ],
   "source": [
    "pd.DataFrame({'Yes': [50, 21], 'No': [131, 2]})"
   ]
  },
  {
   "cell_type": "code",
   "execution_count": 5,
   "id": "7855ab77-54e1-45c8-a5d9-b3d0436e05cc",
   "metadata": {},
   "outputs": [
    {
     "data": {
      "text/html": [
       "<div>\n",
       "<style scoped>\n",
       "    .dataframe tbody tr th:only-of-type {\n",
       "        vertical-align: middle;\n",
       "    }\n",
       "\n",
       "    .dataframe tbody tr th {\n",
       "        vertical-align: top;\n",
       "    }\n",
       "\n",
       "    .dataframe thead th {\n",
       "        text-align: right;\n",
       "    }\n",
       "</style>\n",
       "<table border=\"1\" class=\"dataframe\">\n",
       "  <thead>\n",
       "    <tr style=\"text-align: right;\">\n",
       "      <th></th>\n",
       "      <th>Bob</th>\n",
       "      <th>Sue</th>\n",
       "    </tr>\n",
       "  </thead>\n",
       "  <tbody>\n",
       "    <tr>\n",
       "      <th>0</th>\n",
       "      <td>I liked it.</td>\n",
       "      <td>Pretty good.</td>\n",
       "    </tr>\n",
       "    <tr>\n",
       "      <th>1</th>\n",
       "      <td>It was awful.</td>\n",
       "      <td>Bland</td>\n",
       "    </tr>\n",
       "  </tbody>\n",
       "</table>\n",
       "</div>"
      ],
      "text/plain": [
       "             Bob           Sue\n",
       "0    I liked it.  Pretty good.\n",
       "1  It was awful.         Bland"
      ]
     },
     "execution_count": 5,
     "metadata": {},
     "output_type": "execute_result"
    }
   ],
   "source": [
    "pd.DataFrame({'Bob' : ['I liked it.', 'It was awful.'], 'Sue': ['Pretty good.', 'Bland.']})"
   ]
  },
  {
   "cell_type": "code",
   "execution_count": 6,
   "id": "e569155c-c45b-42d9-a6b0-046c5ccd1a41",
   "metadata": {},
   "outputs": [],
   "source": [
    "# a dictionary whose keys are the column names (Bob and Sue in this example), and whose values are a list of entries."
   ]
  },
  {
   "cell_type": "code",
   "execution_count": null,
   "id": "2f6b52bd-6488-4e06-ab28-c3d85804b41b",
   "metadata": {},
   "outputs": [],
   "source": [
    "# The list of row labels used in a DataFrame is known as an Index"
   ]
  },
  {
   "cell_type": "code",
   "execution_count": 7,
   "id": "b7d44c80-8a8b-4ca1-90c8-9cefa044c95d",
   "metadata": {},
   "outputs": [
    {
     "data": {
      "text/html": [
       "<div>\n",
       "<style scoped>\n",
       "    .dataframe tbody tr th:only-of-type {\n",
       "        vertical-align: middle;\n",
       "    }\n",
       "\n",
       "    .dataframe tbody tr th {\n",
       "        vertical-align: top;\n",
       "    }\n",
       "\n",
       "    .dataframe thead th {\n",
       "        text-align: right;\n",
       "    }\n",
       "</style>\n",
       "<table border=\"1\" class=\"dataframe\">\n",
       "  <thead>\n",
       "    <tr style=\"text-align: right;\">\n",
       "      <th></th>\n",
       "      <th>Bob</th>\n",
       "      <th>Sue</th>\n",
       "    </tr>\n",
       "  </thead>\n",
       "  <tbody>\n",
       "    <tr>\n",
       "      <th>Product A</th>\n",
       "      <td>I liked it.</td>\n",
       "      <td>Pretty good.</td>\n",
       "    </tr>\n",
       "    <tr>\n",
       "      <th>Product B</th>\n",
       "      <td>It was awful.</td>\n",
       "      <td>Bland.</td>\n",
       "    </tr>\n",
       "  </tbody>\n",
       "</table>\n",
       "</div>"
      ],
      "text/plain": [
       "                     Bob           Sue\n",
       "Product A    I liked it.  Pretty good.\n",
       "Product B  It was awful.        Bland."
      ]
     },
     "execution_count": 7,
     "metadata": {},
     "output_type": "execute_result"
    }
   ],
   "source": [
    "pd.DataFrame({'Bob' : ['I liked it.', 'It was awful.'], \n",
    "              'Sue': ['Pretty good.', 'Bland.']}, \n",
    "             index=['Product A', 'Product B'])"
   ]
  },
  {
   "cell_type": "code",
   "execution_count": null,
   "id": "9f648d55-9f8d-4d95-9b6e-d08ea20bd5cb",
   "metadata": {},
   "outputs": [],
   "source": [
    "# A Series is a sequence of data values and a single column of a DataFrame.\n",
    "# If a DataFrame is a table, a Series is a list."
   ]
  },
  {
   "cell_type": "code",
   "execution_count": 8,
   "id": "2584d559-6e62-4bbf-bb7e-4826d254dd0f",
   "metadata": {},
   "outputs": [
    {
     "data": {
      "text/plain": [
       "0    1\n",
       "1    2\n",
       "2    3\n",
       "3    4\n",
       "4    5\n",
       "dtype: int64"
      ]
     },
     "execution_count": 8,
     "metadata": {},
     "output_type": "execute_result"
    }
   ],
   "source": [
    "pd.Series([1, 2, 3, 4, 5])"
   ]
  },
  {
   "cell_type": "code",
   "execution_count": null,
   "id": "62523606-4b49-4cfe-bbab-732a0b4a14d2",
   "metadata": {},
   "outputs": [],
   "source": [
    "# a Series does not have a column name, it only has one overall name"
   ]
  },
  {
   "cell_type": "code",
   "execution_count": 9,
   "id": "676715bf-3dbd-454d-a335-f07b29db5529",
   "metadata": {},
   "outputs": [
    {
     "data": {
      "text/plain": [
       "2015 Sales    30\n",
       "2016 Sales    35\n",
       "2017 Sales    40\n",
       "Name: Product A, dtype: int64"
      ]
     },
     "execution_count": 9,
     "metadata": {},
     "output_type": "execute_result"
    }
   ],
   "source": [
    "pd.Series([30, 35, 40], index=['2015 Sales', '2016 Sales', '2017 Sales'],\n",
    "         name='Product A')"
   ]
  },
  {
   "cell_type": "code",
   "execution_count": null,
   "id": "7a81572f-4e3c-45a8-bcd8-16e002243801",
   "metadata": {},
   "outputs": [],
   "source": []
  },
  {
   "cell_type": "code",
   "execution_count": null,
   "id": "e0aaeed1-8765-4544-a53b-cf4eb146a88c",
   "metadata": {},
   "outputs": [],
   "source": [
    "wine_reviews = pd.read_csv('../input/wine-reviews/winemag-data-130k-v2.csv')"
   ]
  },
  {
   "cell_type": "code",
   "execution_count": null,
   "id": "b77ae147-3272-4da2-887a-befc84d91147",
   "metadata": {},
   "outputs": [],
   "source": [
    "wine_reviews.shape"
   ]
  },
  {
   "cell_type": "code",
   "execution_count": null,
   "id": "9c0c11a8-8b89-4eca-82c8-97e47022a16a",
   "metadata": {},
   "outputs": [],
   "source": [
    "wine_reviews.head() # 5 rows"
   ]
  },
  {
   "cell_type": "code",
   "execution_count": null,
   "id": "3697b674-5aea-4f32-a0d3-8944915dc3b6",
   "metadata": {},
   "outputs": [],
   "source": [
    "# index_col=0 : pandas use that column for the index (instead of creating a new one from scratch)\n",
    "wine_reviews = pd.read_csv('../input/wine_reviews/winemag-data-130k-v2.csv', index_col=0)\n",
    "wine_reviews.head()"
   ]
  },
  {
   "cell_type": "code",
   "execution_count": null,
   "id": "82fbba88-8d91-43de-b3bd-d306d10cee37",
   "metadata": {},
   "outputs": [],
   "source": []
  },
  {
   "cell_type": "markdown",
   "id": "23279de5-2400-4178-9c65-0d57097cbb7b",
   "metadata": {},
   "source": [
    "##### Exercise"
   ]
  },
  {
   "cell_type": "code",
   "execution_count": null,
   "id": "0fbe133f-75d4-4e6c-89a4-019d123d6729",
   "metadata": {},
   "outputs": [],
   "source": [
    "fruits = pd.DataFrame([[30, 21]], columns = ['Apples', 'Bananas'])"
   ]
  },
  {
   "cell_type": "code",
   "execution_count": null,
   "id": "1008cb59-71e3-4243-96d3-019fc31a9738",
   "metadata": {},
   "outputs": [],
   "source": [
    "fruit_sales = pd.DataFrame([[35, 21], [41, 34]], columns = ['Apples', 'Bananas'],\n",
    "                          index=['2017 Sales', '2018 Sales'])"
   ]
  },
  {
   "cell_type": "code",
   "execution_count": null,
   "id": "d042d150-4bda-4cac-a228-adbcc9785e49",
   "metadata": {},
   "outputs": [],
   "source": [
    "quantities = ['4 cups', '1 cup', '2 large', '1 can']\n",
    "items = ['Flour', 'Milk', 'Eggs', 'Spam']\n",
    "recipe = pd.Series(quantities, index=items, name='Dinner')"
   ]
  },
  {
   "cell_type": "code",
   "execution_count": null,
   "id": "efcf2bd2-94aa-4798-86c8-ccdb5543b323",
   "metadata": {},
   "outputs": [],
   "source": [
    "reviews = pd.read_csv('../input/wine-reviews/winemag-data_first150k.csv', index_col=0)"
   ]
  },
  {
   "cell_type": "code",
   "execution_count": null,
   "id": "6d0055f9-b864-4846-8682-62700500c57e",
   "metadata": {},
   "outputs": [],
   "source": [
    "animals.to_csv(\"cows_and_goats.csv\")"
   ]
  },
  {
   "cell_type": "code",
   "execution_count": null,
   "id": "013c465e-0790-4327-95be-dbe9283a4526",
   "metadata": {},
   "outputs": [],
   "source": []
  },
  {
   "cell_type": "code",
   "execution_count": null,
   "id": "9f64072b-31c9-4354-b5bb-0af6226eefbf",
   "metadata": {},
   "outputs": [],
   "source": []
  },
  {
   "cell_type": "markdown",
   "id": "6476c1e1-f039-42e1-b725-60d8581808aa",
   "metadata": {},
   "source": [
    "### Lesson2 Tutorial & Exercise\n",
    "#### Indexing, Selecting & Assigning"
   ]
  },
  {
   "cell_type": "markdown",
   "id": "7ce0a953-c664-41fa-8b13-e4fa905e6b63",
   "metadata": {},
   "source": [
    "##### Tutorial"
   ]
  },
  {
   "cell_type": "code",
   "execution_count": null,
   "id": "d595df24-22f1-4fa5-abd0-ae321a3ea9ea",
   "metadata": {},
   "outputs": [],
   "source": []
  },
  {
   "cell_type": "markdown",
   "id": "ee9fb729-9422-49d4-a19f-191f5564f4f1",
   "metadata": {},
   "source": [
    "##### Exercise"
   ]
  },
  {
   "cell_type": "code",
   "execution_count": null,
   "id": "f8cb44ed-ee42-4a07-b8e9-3c4a113ef479",
   "metadata": {},
   "outputs": [],
   "source": []
  },
  {
   "cell_type": "code",
   "execution_count": null,
   "id": "8fa0f9da-2bd9-42b0-b844-2d5cf08cd6fb",
   "metadata": {},
   "outputs": [],
   "source": []
  },
  {
   "cell_type": "code",
   "execution_count": null,
   "id": "c36385bb-ba49-4224-acae-b950e058fb62",
   "metadata": {},
   "outputs": [],
   "source": []
  },
  {
   "cell_type": "markdown",
   "id": "600ce807-444e-4d67-8d6b-42ecf427a668",
   "metadata": {},
   "source": [
    "### Lesson3 Tutorial & Exercise\n",
    "#### Summary Functions and Maps"
   ]
  },
  {
   "cell_type": "markdown",
   "id": "0d4945eb-147f-491c-b28d-1630271a690e",
   "metadata": {},
   "source": [
    "##### Tutorial"
   ]
  },
  {
   "cell_type": "code",
   "execution_count": null,
   "id": "f05555fd-9645-43c2-8775-abc8839b9b48",
   "metadata": {},
   "outputs": [],
   "source": []
  },
  {
   "cell_type": "markdown",
   "id": "ff924afe-0f9d-4fab-883c-9c1949fffefc",
   "metadata": {},
   "source": [
    "##### Exercise"
   ]
  },
  {
   "cell_type": "code",
   "execution_count": null,
   "id": "c3db0a36-8eb1-4f32-ac8d-d450c7a36b1b",
   "metadata": {},
   "outputs": [],
   "source": []
  }
 ],
 "metadata": {
  "kernelspec": {
   "display_name": "Python Multi",
   "language": "python",
   "name": "multi"
  },
  "language_info": {
   "codemirror_mode": {
    "name": "ipython",
    "version": 3
   },
   "file_extension": ".py",
   "mimetype": "text/x-python",
   "name": "python",
   "nbconvert_exporter": "python",
   "pygments_lexer": "ipython3",
   "version": "3.7.6"
  }
 },
 "nbformat": 4,
 "nbformat_minor": 5
}
