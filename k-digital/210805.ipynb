{
  "nbformat": 4,
  "nbformat_minor": 0,
  "metadata": {
    "colab": {
      "name": "201_DNN_mnist_Categorical_Classification_GPU.ipynb",
      "provenance": [],
      "collapsed_sections": [],
      "toc_visible": true,
      "authorship_tag": "ABX9TyPl+Ii9V5JqAqdEjV9daRSH",
      "include_colab_link": true
    },
    "kernelspec": {
      "name": "python3",
      "display_name": "Python 3"
    },
    "language_info": {
      "name": "python"
    },
    "accelerator": "GPU"
  },
  "cells": [
    {
      "cell_type": "markdown",
      "metadata": {
        "id": "view-in-github",
        "colab_type": "text"
      },
      "source": [
        "<a href=\"https://colab.research.google.com/github/boramdv/TIL/blob/master/201_DNN_mnist_Categorical_Classification_GPU.ipynb\" target=\"_parent\"><img src=\"https://colab.research.google.com/assets/colab-badge.svg\" alt=\"Open In Colab\"/></a>"
      ]
    },
    {
      "cell_type": "markdown",
      "metadata": {
        "id": "sIt_EcOUjLP_"
      },
      "source": [
        "# MNIST - Categorical Classification"
      ]
    },
    {
      "cell_type": "code",
      "metadata": {
        "id": "FMsHADq90wgC"
      },
      "source": [
        "import warnings\n",
        "warnings.filterwarnings('ignore')"
      ],
      "execution_count": 31,
      "outputs": []
    },
    {
      "cell_type": "code",
      "metadata": {
        "colab": {
          "base_uri": "https://localhost:8080/",
          "height": 34
        },
        "id": "yl9UzG3M06mU",
        "outputId": "4ed062d5-483b-4795-e919-5f3e635c7386"
      },
      "source": [
        "import tensorflow as tf\n",
        "\n",
        "tf.__version__"
      ],
      "execution_count": 32,
      "outputs": [
        {
          "output_type": "execute_result",
          "data": {
            "application/vnd.google.colaboratory.intrinsic+json": {
              "type": "string"
            },
            "text/plain": [
              "'2.5.0'"
            ]
          },
          "metadata": {
            "tags": []
          },
          "execution_count": 32
        }
      ]
    },
    {
      "cell_type": "code",
      "metadata": {
        "colab": {
          "base_uri": "https://localhost:8080/",
          "height": 34
        },
        "id": "LeYxrW6l09RO",
        "outputId": "8533eafa-17a1-42f8-f4da-9abbf0e84e1e"
      },
      "source": [
        "# GPU 설정 확인\n",
        "\n",
        "tf.test.gpu_device_name()"
      ],
      "execution_count": 33,
      "outputs": [
        {
          "output_type": "execute_result",
          "data": {
            "application/vnd.google.colaboratory.intrinsic+json": {
              "type": "string"
            },
            "text/plain": [
              "'/device:GPU:0'"
            ]
          },
          "metadata": {
            "tags": []
          },
          "execution_count": 33
        }
      ]
    },
    {
      "cell_type": "code",
      "metadata": {
        "id": "GLncU_CR1G8e"
      },
      "source": [
        "from tensorflow.keras.datasets import mnist\n",
        "\n",
        "(X_train, y_train), (X_test, y_test) = mnist.load_data()"
      ],
      "execution_count": 34,
      "outputs": []
    },
    {
      "cell_type": "code",
      "metadata": {
        "colab": {
          "base_uri": "https://localhost:8080/"
        },
        "id": "bPWsg7Ln1f24",
        "outputId": "8924f20a-82ab-477c-b969-927cb76406d6"
      },
      "source": [
        "print(len(X_train))\n",
        "print(X_train.shape)\n",
        "\n",
        "print(len(y_train))\n",
        "print(y_train[0:5])"
      ],
      "execution_count": 35,
      "outputs": [
        {
          "output_type": "stream",
          "text": [
            "60000\n",
            "(60000, 28, 28)\n",
            "60000\n",
            "[5 0 4 1 9]\n"
          ],
          "name": "stdout"
        }
      ]
    },
    {
      "cell_type": "code",
      "metadata": {
        "colab": {
          "base_uri": "https://localhost:8080/"
        },
        "id": "uyhZMhIZ1h3-",
        "outputId": "5fe143ea-88b5-4443-f2ce-8b37cfce60b8"
      },
      "source": [
        "print(len(X_test))\n",
        "print(X_test.shape)\n",
        "\n",
        "print(len(y_test))\n",
        "print(y_test[0:5])"
      ],
      "execution_count": 36,
      "outputs": [
        {
          "output_type": "stream",
          "text": [
            "10000\n",
            "(10000, 28, 28)\n",
            "10000\n",
            "[7 2 1 0 4]\n"
          ],
          "name": "stdout"
        }
      ]
    },
    {
      "cell_type": "code",
      "metadata": {
        "colab": {
          "base_uri": "https://localhost:8080/",
          "height": 264
        },
        "id": "R1LEPd_E1ksx",
        "outputId": "4f8ac09c-0cd0-4ce3-db49-8a4df2ea9559"
      },
      "source": [
        "import matplotlib.pyplot as plt\n",
        "\n",
        "digit = X_train[4]\n",
        "plt.imshow(digit, cmap = 'gray')\n",
        "plt.show()"
      ],
      "execution_count": 37,
      "outputs": [
        {
          "output_type": "display_data",
          "data": {
            "image/png": "[encoded data removed]",
            "text/plain": [
              "<Figure size 432x288 with 1 Axes>"
            ]
          },
          "metadata": {
            "tags": [],
            "needs_background": "light"
          }
        }
      ]
    },
    {
      "cell_type": "code",
      "metadata": {
        "colab": {
          "base_uri": "https://localhost:8080/"
        },
        "id": "hbZe-iEs1pLK",
        "outputId": "990ba159-265b-4e13-e4c5-4905da9bcc82"
      },
      "source": [
        "import numpy as np\n",
        "np.set_printoptions(linewidth = 150)  # 1픽셀 데이터 약 4 cha\n",
        "\n",
        "print(X_train[4])"
      ],
      "execution_count": 38,
      "outputs": [
        {
          "output_type": "stream",
          "text": [
            "[[  0   0   0   0   0   0   0   0   0   0   0   0   0   0   0   0   0   0   0   0   0   0   0   0   0   0   0   0]\n",
            " [  0   0   0   0   0   0   0   0   0   0   0   0   0   0   0   0   0   0   0   0   0   0   0   0   0   0   0   0]\n",
            " [  0   0   0   0   0   0   0   0   0   0   0   0   0   0   0   0   0   0   0   0   0   0   0   0   0   0   0   0]\n",
            " [  0   0   0   0   0   0   0   0   0   0   0   0   0   0   0   0   0   0   0   0   0   0   0   0   0   0   0   0]\n",
            " [  0   0   0   0   0   0   0   0   0   0   0   0   0   0   0   0   0   0   0   0   0   0   0   0   0   0   0   0]\n",
            " [  0   0   0   0   0   0   0   0   0   0   0   0   0   0   0   0   0   0   0   0   0   0   0   0   0   0   0   0]\n",
            " [  0   0   0   0   0   0   0   0   0   0   0   0   0   0   0   0   0   0   0   0   0   0   0   0   0   0   0   0]\n",
            " [  0   0   0   0   0   0   0   0   0   0   0   0  55 148 210 253 253 113  87 148  55   0   0   0   0   0   0   0]\n",
            " [  0   0   0   0   0   0   0   0   0   0   0  87 232 252 253 189 210 252 252 253 168   0   0   0   0   0   0   0]\n",
            " [  0   0   0   0   0   0   0   0   0   4  57 242 252 190  65   5  12 182 252 253 116   0   0   0   0   0   0   0]\n",
            " [  0   0   0   0   0   0   0   0   0  96 252 252 183  14   0   0  92 252 252 225  21   0   0   0   0   0   0   0]\n",
            " [  0   0   0   0   0   0   0   0 132 253 252 146  14   0   0   0 215 252 252  79   0   0   0   0   0   0   0   0]\n",
            " [  0   0   0   0   0   0   0 126 253 247 176   9   0   0   8  78 245 253 129   0   0   0   0   0   0   0   0   0]\n",
            " [  0   0   0   0   0   0  16 232 252 176   0   0   0  36 201 252 252 169  11   0   0   0   0   0   0   0   0   0]\n",
            " [  0   0   0   0   0   0  22 252 252  30  22 119 197 241 253 252 251  77   0   0   0   0   0   0   0   0   0   0]\n",
            " [  0   0   0   0   0   0  16 231 252 253 252 252 252 226 227 252 231   0   0   0   0   0   0   0   0   0   0   0]\n",
            " [  0   0   0   0   0   0   0  55 235 253 217 138  42  24 192 252 143   0   0   0   0   0   0   0   0   0   0   0]\n",
            " [  0   0   0   0   0   0   0   0   0   0   0   0   0  62 255 253 109   0   0   0   0   0   0   0   0   0   0   0]\n",
            " [  0   0   0   0   0   0   0   0   0   0   0   0   0  71 253 252  21   0   0   0   0   0   0   0   0   0   0   0]\n",
            " [  0   0   0   0   0   0   0   0   0   0   0   0   0   0 253 252  21   0   0   0   0   0   0   0   0   0   0   0]\n",
            " [  0   0   0   0   0   0   0   0   0   0   0   0   0  71 253 252  21   0   0   0   0   0   0   0   0   0   0   0]\n",
            " [  0   0   0   0   0   0   0   0   0   0   0   0   0 106 253 252  21   0   0   0   0   0   0   0   0   0   0   0]\n",
            " [  0   0   0   0   0   0   0   0   0   0   0   0   0  45 255 253  21   0   0   0   0   0   0   0   0   0   0   0]\n",
            " [  0   0   0   0   0   0   0   0   0   0   0   0   0   0 218 252  56   0   0   0   0   0   0   0   0   0   0   0]\n",
            " [  0   0   0   0   0   0   0   0   0   0   0   0   0   0  96 252 189  42   0   0   0   0   0   0   0   0   0   0]\n",
            " [  0   0   0   0   0   0   0   0   0   0   0   0   0   0  14 184 252 170  11   0   0   0   0   0   0   0   0   0]\n",
            " [  0   0   0   0   0   0   0   0   0   0   0   0   0   0   0  14 147 252  42   0   0   0   0   0   0   0   0   0]\n",
            " [  0   0   0   0   0   0   0   0   0   0   0   0   0   0   0   0   0   0   0   0   0   0   0   0   0   0   0   0]]\n"
          ],
          "name": "stdout"
        }
      ]
    },
    {
      "cell_type": "code",
      "metadata": {
        "colab": {
          "base_uri": "https://localhost:8080/"
        },
        "id": "ScUwzvZy1rfe",
        "outputId": "061ecb05-f8d4-4fa0-dbad-dd0dbd86ff46"
      },
      "source": [
        "X_train = X_train.reshape((60000, 28 * 28))\n",
        "X_test = X_test.reshape((10000, 28 * 28))\n",
        "\n",
        "X_train.shape, X_test.shape"
      ],
      "execution_count": 39,
      "outputs": [
        {
          "output_type": "execute_result",
          "data": {
            "text/plain": [
              "((60000, 784), (10000, 784))"
            ]
          },
          "metadata": {
            "tags": []
          },
          "execution_count": 39
        }
      ]
    },
    {
      "cell_type": "code",
      "metadata": {
        "id": "AfaVAjgj1_FD"
      },
      "source": [
        "X_train = X_train.astype(float) / 255\n",
        "X_test = X_test.astype(float) / 255"
      ],
      "execution_count": 40,
      "outputs": []
    },
    {
      "cell_type": "code",
      "metadata": {
        "colab": {
          "base_uri": "https://localhost:8080/"
        },
        "id": "q2IlU6_N2Fqr",
        "outputId": "1ee6c444-36c5-4677-edf8-c54e58267b11"
      },
      "source": [
        "print(X_train[4])"
      ],
      "execution_count": 41,
      "outputs": [
        {
          "output_type": "stream",
          "text": [
            "[0.         0.         0.         0.         0.         0.         0.         0.         0.         0.         0.         0.         0.\n",
            " 0.         0.         0.         0.         0.         0.         0.         0.         0.         0.         0.         0.         0.\n",
            " 0.         0.         0.         0.         0.         0.         0.         0.         0.         0.         0.         0.         0.\n",
            " 0.         0.         0.         0.         0.         0.         0.         0.         0.         0.         0.         0.         0.\n",
            " 0.         0.         0.         0.         0.         0.         0.         0.         0.         0.         0.         0.         0.\n",
            " 0.         0.         0.         0.         0.         0.         0.         0.         0.         0.         0.         0.         0.\n",
            " 0.         0.         0.         0.         0.         0.         0.         0.         0.         0.         0.         0.         0.\n",
            " 0.         0.         0.         0.         0.         0.         0.         0.         0.         0.         0.         0.         0.\n",
            " 0.         0.         0.         0.         0.         0.         0.         0.         0.         0.         0.         0.         0.\n",
            " 0.         0.         0.         0.         0.         0.         0.         0.         0.         0.         0.         0.         0.\n",
            " 0.         0.         0.         0.         0.         0.         0.         0.         0.         0.         0.         0.         0.\n",
            " 0.         0.         0.         0.         0.         0.         0.         0.         0.         0.         0.         0.         0.\n",
            " 0.         0.         0.         0.         0.         0.         0.         0.         0.         0.         0.         0.         0.\n",
            " 0.         0.         0.         0.         0.         0.         0.         0.         0.         0.         0.         0.         0.\n",
            " 0.         0.         0.         0.         0.         0.         0.         0.         0.         0.         0.         0.         0.\n",
            " 0.         0.         0.         0.         0.         0.         0.         0.         0.         0.         0.         0.         0.\n",
            " 0.21568627 0.58039216 0.82352941 0.99215686 0.99215686 0.44313725 0.34117647 0.58039216 0.21568627 0.         0.         0.         0.\n",
            " 0.         0.         0.         0.         0.         0.         0.         0.         0.         0.         0.         0.         0.\n",
            " 0.         0.34117647 0.90980392 0.98823529 0.99215686 0.74117647 0.82352941 0.98823529 0.98823529 0.99215686 0.65882353 0.         0.\n",
            " 0.         0.         0.         0.         0.         0.         0.         0.         0.         0.         0.         0.         0.\n",
            " 0.         0.01568627 0.22352941 0.94901961 0.98823529 0.74509804 0.25490196 0.01960784 0.04705882 0.71372549 0.98823529 0.99215686 0.45490196\n",
            " 0.         0.         0.         0.         0.         0.         0.         0.         0.         0.         0.         0.         0.\n",
            " 0.         0.         0.         0.37647059 0.98823529 0.98823529 0.71764706 0.05490196 0.         0.         0.36078431 0.98823529 0.98823529\n",
            " 0.88235294 0.08235294 0.         0.         0.         0.         0.         0.         0.         0.         0.         0.         0.\n",
            " 0.         0.         0.         0.         0.51764706 0.99215686 0.98823529 0.57254902 0.05490196 0.         0.         0.         0.84313725\n",
            " 0.98823529 0.98823529 0.30980392 0.         0.         0.         0.         0.         0.         0.         0.         0.         0.\n",
            " 0.         0.         0.         0.         0.         0.49411765 0.99215686 0.96862745 0.69019608 0.03529412 0.         0.         0.03137255\n",
            " 0.30588235 0.96078431 0.99215686 0.50588235 0.         0.         0.         0.         0.         0.         0.         0.         0.\n",
            " 0.         0.         0.         0.         0.         0.         0.0627451  0.90980392 0.98823529 0.69019608 0.         0.         0.\n",
            " 0.14117647 0.78823529 0.98823529 0.98823529 0.6627451  0.04313725 0.         0.         0.         0.         0.         0.         0.\n",
            " 0.         0.         0.         0.         0.         0.         0.         0.         0.08627451 0.98823529 0.98823529 0.11764706 0.08627451\n",
            " 0.46666667 0.77254902 0.94509804 0.99215686 0.98823529 0.98431373 0.30196078 0.         0.         0.         0.         0.         0.\n",
            " 0.         0.         0.         0.         0.         0.         0.         0.         0.         0.         0.0627451  0.90588235 0.98823529\n",
            " 0.99215686 0.98823529 0.98823529 0.98823529 0.88627451 0.89019608 0.98823529 0.90588235 0.         0.         0.         0.         0.\n",
            " 0.         0.         0.         0.         0.         0.         0.         0.         0.         0.         0.         0.         0.\n",
            " 0.21568627 0.92156863 0.99215686 0.85098039 0.54117647 0.16470588 0.09411765 0.75294118 0.98823529 0.56078431 0.         0.         0.\n",
            " 0.         0.         0.         0.         0.         0.         0.         0.         0.         0.         0.         0.         0.\n",
            " 0.         0.         0.         0.         0.         0.         0.         0.         0.24313725 1.         0.99215686 0.42745098 0.\n",
            " 0.         0.         0.         0.         0.         0.         0.         0.         0.         0.         0.         0.         0.\n",
            " 0.         0.         0.         0.         0.         0.         0.         0.         0.         0.         0.27843137 0.99215686 0.98823529\n",
            " 0.08235294 0.         0.         0.         0.         0.         0.         0.         0.         0.         0.         0.         0.\n",
            " 0.         0.         0.         0.         0.         0.         0.         0.         0.         0.         0.         0.         0.\n",
            " 0.99215686 0.98823529 0.08235294 0.         0.         0.         0.         0.         0.         0.         0.         0.         0.\n",
            " 0.         0.         0.         0.         0.         0.         0.         0.         0.         0.         0.         0.         0.\n",
            " 0.         0.27843137 0.99215686 0.98823529 0.08235294 0.         0.         0.         0.         0.         0.         0.         0.\n",
            " 0.         0.         0.         0.         0.         0.         0.         0.         0.         0.         0.         0.         0.\n",
            " 0.         0.         0.         0.41568627 0.99215686 0.98823529 0.08235294 0.         0.         0.         0.         0.         0.\n",
            " 0.         0.         0.         0.         0.         0.         0.         0.         0.         0.         0.         0.         0.\n",
            " 0.         0.         0.         0.         0.         0.17647059 1.         0.99215686 0.08235294 0.         0.         0.         0.\n",
            " 0.         0.         0.         0.         0.         0.         0.         0.         0.         0.         0.         0.         0.\n",
            " 0.         0.         0.         0.         0.         0.         0.         0.         0.85490196 0.98823529 0.21960784 0.         0.\n",
            " 0.         0.         0.         0.         0.         0.         0.         0.         0.         0.         0.         0.         0.\n",
            " 0.         0.         0.         0.         0.         0.         0.         0.         0.         0.         0.37647059 0.98823529 0.74117647\n",
            " 0.16470588 0.         0.         0.         0.         0.         0.         0.         0.         0.         0.         0.         0.\n",
            " 0.         0.         0.         0.         0.         0.         0.         0.         0.         0.         0.         0.         0.05490196\n",
            " 0.72156863 0.98823529 0.66666667 0.04313725 0.         0.         0.         0.         0.         0.         0.         0.         0.\n",
            " 0.         0.         0.         0.         0.         0.         0.         0.         0.         0.         0.         0.         0.\n",
            " 0.         0.         0.05490196 0.57647059 0.98823529 0.16470588 0.         0.         0.         0.         0.         0.         0.\n",
            " 0.         0.         0.         0.         0.         0.         0.         0.         0.         0.         0.         0.         0.\n",
            " 0.         0.         0.         0.         0.         0.         0.         0.         0.         0.         0.         0.         0.\n",
            " 0.         0.         0.         0.        ]\n"
          ],
          "name": "stdout"
        }
      ]
    },
    {
      "cell_type": "code",
      "metadata": {
        "colab": {
          "base_uri": "https://localhost:8080/"
        },
        "id": "apdPHgtw2H5c",
        "outputId": "b78a7799-f2a5-4e41-ded7-549195d7149b"
      },
      "source": [
        "from tensorflow.keras.utils import to_categorical\n",
        "\n",
        "y_train = to_categorical(y_train)\n",
        "y_test = to_categorical(y_test)\n",
        "\n",
        "print(y_train[:5])"
      ],
      "execution_count": 42,
      "outputs": [
        {
          "output_type": "stream",
          "text": [
            "[[0. 0. 0. 0. 0. 1. 0. 0. 0. 0.]\n",
            " [1. 0. 0. 0. 0. 0. 0. 0. 0. 0.]\n",
            " [0. 0. 0. 0. 1. 0. 0. 0. 0. 0.]\n",
            " [0. 1. 0. 0. 0. 0. 0. 0. 0. 0.]\n",
            " [0. 0. 0. 0. 0. 0. 0. 0. 0. 1.]]\n"
          ],
          "name": "stdout"
        }
      ]
    },
    {
      "cell_type": "code",
      "metadata": {
        "id": "UeuYrS672Urh"
      },
      "source": [
        "# Model Define\n",
        "from tensorflow.keras import models\n",
        "from tensorflow.keras import layers\n",
        "\n",
        "mnist = models.Sequential()\n",
        "mnist.add(layers.Dense(512, activation = 'relu', input_shape = (28 * 28, )))\n",
        "mnist.add(layers.Dense(256, activation = 'relu'))\n",
        "mnist.add(layers.Dense(10, activation = 'softmax'))"
      ],
      "execution_count": 43,
      "outputs": []
    },
    {
      "cell_type": "code",
      "metadata": {
        "colab": {
          "base_uri": "https://localhost:8080/"
        },
        "id": "_uJu3cBn2t5W",
        "outputId": "4c55919d-0b12-49bd-f562-3039440617a7"
      },
      "source": [
        "mnist.summary()"
      ],
      "execution_count": 44,
      "outputs": [
        {
          "output_type": "stream",
          "text": [
            "Model: \"sequential_1\"\n",
            "_________________________________________________________________\n",
            "Layer (type)                 Output Shape              Param #   \n",
            "=================================================================\n",
            "dense_3 (Dense)              (None, 512)               401920    \n",
            "_________________________________________________________________\n",
            "dense_4 (Dense)              (None, 256)               131328    \n",
            "_________________________________________________________________\n",
            "dense_5 (Dense)              (None, 10)                2570      \n",
            "=================================================================\n",
            "Total params: 535,818\n",
            "Trainable params: 535,818\n",
            "Non-trainable params: 0\n",
            "_________________________________________________________________\n"
          ],
          "name": "stdout"
        }
      ]
    },
    {
      "cell_type": "code",
      "metadata": {
        "id": "Z87HUaRh2v6G"
      },
      "source": [
        "mnist.compile(loss = 'categorical_crossentropy',\n",
        "              optimizer = 'rmsprop',\n",
        "              metrics = ['accuracy'])"
      ],
      "execution_count": 45,
      "outputs": []
    },
    {
      "cell_type": "code",
      "metadata": {
        "colab": {
          "base_uri": "https://localhost:8080/"
        },
        "id": "-56tfD14260-",
        "outputId": "15a50ff2-2bfd-4ab7-92e1-b4af9b2acebd"
      },
      "source": [
        "%%time\n",
        "\n",
        "Hist_mnist = mnist.fit(X_train, y_train,\n",
        "                       epochs = 100,\n",
        "                       batch_size = 128,\n",
        "                       validation_split = 0.2)"
      ],
      "execution_count": 46,
      "outputs": [
        {
          "output_type": "stream",
          "text": [
            "Epoch 1/100\n",
            "375/375 [==============================] - 5s 4ms/step - loss: 0.2598 - accuracy: 0.9201 - val_loss: 0.1170 - val_accuracy: 0.9647\n",
            "Epoch 2/100\n",
            "375/375 [==============================] - 1s 4ms/step - loss: 0.0964 - accuracy: 0.9708 - val_loss: 0.1004 - val_accuracy: 0.9697\n",
            "Epoch 3/100\n",
            "375/375 [==============================] - 1s 4ms/step - loss: 0.0606 - accuracy: 0.9811 - val_loss: 0.0903 - val_accuracy: 0.9740\n",
            "Epoch 4/100\n",
            "375/375 [==============================] - 1s 4ms/step - loss: 0.0424 - accuracy: 0.9867 - val_loss: 0.0916 - val_accuracy: 0.9761\n",
            "Epoch 5/100\n",
            "375/375 [==============================] - 1s 4ms/step - loss: 0.0308 - accuracy: 0.9904 - val_loss: 0.1142 - val_accuracy: 0.9716\n",
            "Epoch 6/100\n",
            "375/375 [==============================] - 1s 3ms/step - loss: 0.0232 - accuracy: 0.9929 - val_loss: 0.1057 - val_accuracy: 0.9767\n",
            "Epoch 7/100\n",
            "375/375 [==============================] - 1s 4ms/step - loss: 0.0179 - accuracy: 0.9940 - val_loss: 0.1019 - val_accuracy: 0.9803\n",
            "Epoch 8/100\n",
            "375/375 [==============================] - 1s 4ms/step - loss: 0.0151 - accuracy: 0.9952 - val_loss: 0.1138 - val_accuracy: 0.9799\n",
            "Epoch 9/100\n",
            "375/375 [==============================] - 1s 3ms/step - loss: 0.0124 - accuracy: 0.9962 - val_loss: 0.1380 - val_accuracy: 0.9763\n",
            "Epoch 10/100\n",
            "375/375 [==============================] - 1s 4ms/step - loss: 0.0103 - accuracy: 0.9968 - val_loss: 0.1265 - val_accuracy: 0.9798\n",
            "Epoch 11/100\n",
            "375/375 [==============================] - 1s 3ms/step - loss: 0.0077 - accuracy: 0.9974 - val_loss: 0.1355 - val_accuracy: 0.9788\n",
            "Epoch 12/100\n",
            "375/375 [==============================] - 1s 4ms/step - loss: 0.0063 - accuracy: 0.9980 - val_loss: 0.1557 - val_accuracy: 0.9797\n",
            "Epoch 13/100\n",
            "375/375 [==============================] - 1s 4ms/step - loss: 0.0069 - accuracy: 0.9980 - val_loss: 0.1614 - val_accuracy: 0.9788\n",
            "Epoch 14/100\n",
            "375/375 [==============================] - 1s 4ms/step - loss: 0.0063 - accuracy: 0.9979 - val_loss: 0.1677 - val_accuracy: 0.9784\n",
            "Epoch 15/100\n",
            "375/375 [==============================] - 1s 4ms/step - loss: 0.0068 - accuracy: 0.9980 - val_loss: 0.2103 - val_accuracy: 0.9750\n",
            "Epoch 16/100\n",
            "375/375 [==============================] - 1s 4ms/step - loss: 0.0049 - accuracy: 0.9986 - val_loss: 0.1822 - val_accuracy: 0.9786\n",
            "Epoch 17/100\n",
            "375/375 [==============================] - 1s 3ms/step - loss: 0.0044 - accuracy: 0.9987 - val_loss: 0.1841 - val_accuracy: 0.9803\n",
            "Epoch 18/100\n",
            "375/375 [==============================] - 1s 3ms/step - loss: 0.0035 - accuracy: 0.9988 - val_loss: 0.2035 - val_accuracy: 0.9792\n",
            "Epoch 19/100\n",
            "375/375 [==============================] - 1s 3ms/step - loss: 0.0049 - accuracy: 0.9986 - val_loss: 0.1900 - val_accuracy: 0.9791\n",
            "Epoch 20/100\n",
            "375/375 [==============================] - 1s 3ms/step - loss: 0.0043 - accuracy: 0.9989 - val_loss: 0.2052 - val_accuracy: 0.9791\n",
            "Epoch 21/100\n",
            "375/375 [==============================] - 1s 4ms/step - loss: 0.0027 - accuracy: 0.9992 - val_loss: 0.2155 - val_accuracy: 0.9795\n",
            "Epoch 22/100\n",
            "375/375 [==============================] - 1s 3ms/step - loss: 0.0035 - accuracy: 0.9988 - val_loss: 0.2033 - val_accuracy: 0.9806\n",
            "Epoch 23/100\n",
            "375/375 [==============================] - 1s 3ms/step - loss: 0.0038 - accuracy: 0.9990 - val_loss: 0.2322 - val_accuracy: 0.9773\n",
            "Epoch 24/100\n",
            "375/375 [==============================] - 1s 3ms/step - loss: 0.0033 - accuracy: 0.9991 - val_loss: 0.2290 - val_accuracy: 0.9793\n",
            "Epoch 25/100\n",
            "375/375 [==============================] - 1s 4ms/step - loss: 0.0026 - accuracy: 0.9993 - val_loss: 0.2558 - val_accuracy: 0.9786\n",
            "Epoch 26/100\n",
            "375/375 [==============================] - 1s 4ms/step - loss: 0.0037 - accuracy: 0.9992 - val_loss: 0.2286 - val_accuracy: 0.9812\n",
            "Epoch 27/100\n",
            "375/375 [==============================] - 1s 4ms/step - loss: 0.0031 - accuracy: 0.9992 - val_loss: 0.2183 - val_accuracy: 0.9812\n",
            "Epoch 28/100\n",
            "375/375 [==============================] - 1s 3ms/step - loss: 0.0023 - accuracy: 0.9993 - val_loss: 0.2304 - val_accuracy: 0.9797\n",
            "Epoch 29/100\n",
            "375/375 [==============================] - 1s 3ms/step - loss: 0.0019 - accuracy: 0.9995 - val_loss: 0.2445 - val_accuracy: 0.9803\n",
            "Epoch 30/100\n",
            "375/375 [==============================] - 1s 3ms/step - loss: 0.0031 - accuracy: 0.9992 - val_loss: 0.2699 - val_accuracy: 0.9774\n",
            "Epoch 31/100\n",
            "375/375 [==============================] - 1s 3ms/step - loss: 0.0020 - accuracy: 0.9995 - val_loss: 0.2443 - val_accuracy: 0.9810\n",
            "Epoch 32/100\n",
            "375/375 [==============================] - 1s 4ms/step - loss: 0.0026 - accuracy: 0.9994 - val_loss: 0.2550 - val_accuracy: 0.9809\n",
            "Epoch 33/100\n",
            "375/375 [==============================] - 1s 3ms/step - loss: 0.0017 - accuracy: 0.9994 - val_loss: 0.2705 - val_accuracy: 0.9809\n",
            "Epoch 34/100\n",
            "375/375 [==============================] - 1s 3ms/step - loss: 0.0027 - accuracy: 0.9995 - val_loss: 0.2808 - val_accuracy: 0.9802\n",
            "Epoch 35/100\n",
            "375/375 [==============================] - 1s 4ms/step - loss: 0.0018 - accuracy: 0.9996 - val_loss: 0.3564 - val_accuracy: 0.9763\n",
            "Epoch 36/100\n",
            "375/375 [==============================] - 1s 3ms/step - loss: 0.0024 - accuracy: 0.9994 - val_loss: 0.2992 - val_accuracy: 0.9793\n",
            "Epoch 37/100\n",
            "375/375 [==============================] - 1s 3ms/step - loss: 0.0027 - accuracy: 0.9992 - val_loss: 0.2837 - val_accuracy: 0.9820\n",
            "Epoch 38/100\n",
            "375/375 [==============================] - 1s 3ms/step - loss: 0.0018 - accuracy: 0.9994 - val_loss: 0.2871 - val_accuracy: 0.9812\n",
            "Epoch 39/100\n",
            "375/375 [==============================] - 1s 3ms/step - loss: 0.0022 - accuracy: 0.9994 - val_loss: 0.2915 - val_accuracy: 0.9810\n",
            "Epoch 40/100\n",
            "375/375 [==============================] - 1s 3ms/step - loss: 0.0021 - accuracy: 0.9996 - val_loss: 0.3036 - val_accuracy: 0.9799\n",
            "Epoch 41/100\n",
            "375/375 [==============================] - 1s 3ms/step - loss: 0.0016 - accuracy: 0.9995 - val_loss: 0.3144 - val_accuracy: 0.9797\n",
            "Epoch 42/100\n",
            "375/375 [==============================] - 1s 4ms/step - loss: 0.0017 - accuracy: 0.9996 - val_loss: 0.3028 - val_accuracy: 0.9814\n",
            "Epoch 43/100\n",
            "375/375 [==============================] - 1s 3ms/step - loss: 0.0014 - accuracy: 0.9998 - val_loss: 0.3420 - val_accuracy: 0.9779\n",
            "Epoch 44/100\n",
            "375/375 [==============================] - 1s 4ms/step - loss: 0.0020 - accuracy: 0.9996 - val_loss: 0.3342 - val_accuracy: 0.9795\n",
            "Epoch 45/100\n",
            "375/375 [==============================] - 1s 4ms/step - loss: 0.0016 - accuracy: 0.9997 - val_loss: 0.3438 - val_accuracy: 0.9803\n",
            "Epoch 46/100\n",
            "375/375 [==============================] - 1s 4ms/step - loss: 0.0027 - accuracy: 0.9994 - val_loss: 0.3317 - val_accuracy: 0.9793\n",
            "Epoch 47/100\n",
            "375/375 [==============================] - 1s 3ms/step - loss: 0.0023 - accuracy: 0.9997 - val_loss: 0.3210 - val_accuracy: 0.9812\n",
            "Epoch 48/100\n",
            "375/375 [==============================] - 1s 3ms/step - loss: 0.0017 - accuracy: 0.9995 - val_loss: 0.3401 - val_accuracy: 0.9793\n",
            "Epoch 49/100\n",
            "375/375 [==============================] - 1s 3ms/step - loss: 0.0013 - accuracy: 0.9996 - val_loss: 0.3346 - val_accuracy: 0.9810\n",
            "Epoch 50/100\n",
            "375/375 [==============================] - 1s 4ms/step - loss: 0.0020 - accuracy: 0.9996 - val_loss: 0.3364 - val_accuracy: 0.9804\n",
            "Epoch 51/100\n",
            "375/375 [==============================] - 1s 4ms/step - loss: 0.0013 - accuracy: 0.9998 - val_loss: 0.3272 - val_accuracy: 0.9814\n",
            "Epoch 52/100\n",
            "375/375 [==============================] - 1s 3ms/step - loss: 0.0021 - accuracy: 0.9995 - val_loss: 0.3310 - val_accuracy: 0.9812\n",
            "Epoch 53/100\n",
            "375/375 [==============================] - 1s 3ms/step - loss: 0.0015 - accuracy: 0.9996 - val_loss: 0.3573 - val_accuracy: 0.9812\n",
            "Epoch 54/100\n",
            "375/375 [==============================] - 1s 3ms/step - loss: 5.1204e-04 - accuracy: 0.9999 - val_loss: 0.3578 - val_accuracy: 0.9807\n",
            "Epoch 55/100\n",
            "375/375 [==============================] - 1s 4ms/step - loss: 0.0012 - accuracy: 0.9996 - val_loss: 0.3969 - val_accuracy: 0.9787\n",
            "Epoch 56/100\n",
            "375/375 [==============================] - 1s 4ms/step - loss: 0.0019 - accuracy: 0.9996 - val_loss: 0.3810 - val_accuracy: 0.9787\n",
            "Epoch 57/100\n",
            "375/375 [==============================] - 1s 3ms/step - loss: 0.0011 - accuracy: 0.9998 - val_loss: 0.4179 - val_accuracy: 0.9760\n",
            "Epoch 58/100\n",
            "375/375 [==============================] - 1s 3ms/step - loss: 0.0019 - accuracy: 0.9996 - val_loss: 0.3697 - val_accuracy: 0.9804\n",
            "Epoch 59/100\n",
            "375/375 [==============================] - 1s 3ms/step - loss: 0.0013 - accuracy: 0.9998 - val_loss: 0.3831 - val_accuracy: 0.9794\n",
            "Epoch 60/100\n",
            "375/375 [==============================] - 1s 4ms/step - loss: 6.5972e-04 - accuracy: 0.9999 - val_loss: 0.3542 - val_accuracy: 0.9814\n",
            "Epoch 61/100\n",
            "375/375 [==============================] - 1s 3ms/step - loss: 0.0014 - accuracy: 0.9997 - val_loss: 0.3623 - val_accuracy: 0.9801\n",
            "Epoch 62/100\n",
            "375/375 [==============================] - 1s 3ms/step - loss: 8.3539e-04 - accuracy: 0.9998 - val_loss: 0.3827 - val_accuracy: 0.9803\n",
            "Epoch 63/100\n",
            "375/375 [==============================] - 1s 3ms/step - loss: 6.9615e-04 - accuracy: 0.9998 - val_loss: 0.4188 - val_accuracy: 0.9794\n",
            "Epoch 64/100\n",
            "375/375 [==============================] - 1s 3ms/step - loss: 0.0021 - accuracy: 0.9995 - val_loss: 0.3858 - val_accuracy: 0.9802\n",
            "Epoch 65/100\n",
            "375/375 [==============================] - 1s 3ms/step - loss: 0.0019 - accuracy: 0.9996 - val_loss: 0.3868 - val_accuracy: 0.9812\n",
            "Epoch 66/100\n",
            "375/375 [==============================] - 1s 3ms/step - loss: 9.4109e-04 - accuracy: 0.9998 - val_loss: 0.3763 - val_accuracy: 0.9816\n",
            "Epoch 67/100\n",
            "375/375 [==============================] - 1s 4ms/step - loss: 0.0015 - accuracy: 0.9997 - val_loss: 0.3726 - val_accuracy: 0.9815\n",
            "Epoch 68/100\n",
            "375/375 [==============================] - 1s 3ms/step - loss: 8.3743e-04 - accuracy: 0.9999 - val_loss: 0.3655 - val_accuracy: 0.9797\n",
            "Epoch 69/100\n",
            "375/375 [==============================] - 1s 4ms/step - loss: 6.5061e-04 - accuracy: 0.9999 - val_loss: 0.3817 - val_accuracy: 0.9804\n",
            "Epoch 70/100\n",
            "375/375 [==============================] - 1s 4ms/step - loss: 2.2761e-04 - accuracy: 0.9999 - val_loss: 0.3763 - val_accuracy: 0.9801\n",
            "Epoch 71/100\n",
            "375/375 [==============================] - 1s 4ms/step - loss: 5.4422e-04 - accuracy: 0.9998 - val_loss: 0.3902 - val_accuracy: 0.9798\n",
            "Epoch 72/100\n",
            "375/375 [==============================] - 1s 3ms/step - loss: 0.0017 - accuracy: 0.9998 - val_loss: 0.4001 - val_accuracy: 0.9801\n",
            "Epoch 73/100\n",
            "375/375 [==============================] - 1s 4ms/step - loss: 4.9468e-04 - accuracy: 0.9999 - val_loss: 0.4217 - val_accuracy: 0.9803\n",
            "Epoch 74/100\n",
            "375/375 [==============================] - 1s 4ms/step - loss: 3.8599e-04 - accuracy: 0.9999 - val_loss: 0.3935 - val_accuracy: 0.9803\n",
            "Epoch 75/100\n",
            "375/375 [==============================] - 1s 3ms/step - loss: 8.7836e-04 - accuracy: 0.9999 - val_loss: 0.4063 - val_accuracy: 0.9811\n",
            "Epoch 76/100\n",
            "375/375 [==============================] - 1s 4ms/step - loss: 8.4530e-04 - accuracy: 0.9998 - val_loss: 0.4199 - val_accuracy: 0.9802\n",
            "Epoch 77/100\n",
            "375/375 [==============================] - 1s 4ms/step - loss: 3.1305e-04 - accuracy: 0.9999 - val_loss: 0.4759 - val_accuracy: 0.9791\n",
            "Epoch 78/100\n",
            "375/375 [==============================] - 1s 3ms/step - loss: 5.9470e-04 - accuracy: 0.9999 - val_loss: 0.4105 - val_accuracy: 0.9810\n",
            "Epoch 79/100\n",
            "375/375 [==============================] - 1s 4ms/step - loss: 3.1618e-04 - accuracy: 0.9999 - val_loss: 0.4239 - val_accuracy: 0.9808\n",
            "Epoch 80/100\n",
            "375/375 [==============================] - 1s 3ms/step - loss: 5.7987e-04 - accuracy: 0.9999 - val_loss: 0.4010 - val_accuracy: 0.9809\n",
            "Epoch 81/100\n",
            "375/375 [==============================] - 1s 4ms/step - loss: 0.0011 - accuracy: 0.9998 - val_loss: 0.4086 - val_accuracy: 0.9810\n",
            "Epoch 82/100\n",
            "375/375 [==============================] - 1s 3ms/step - loss: 0.0012 - accuracy: 0.9998 - val_loss: 0.3991 - val_accuracy: 0.9812\n",
            "Epoch 83/100\n",
            "375/375 [==============================] - 1s 3ms/step - loss: 4.2298e-04 - accuracy: 0.9999 - val_loss: 0.4050 - val_accuracy: 0.9818\n",
            "Epoch 84/100\n",
            "375/375 [==============================] - 1s 3ms/step - loss: 8.2663e-04 - accuracy: 0.9998 - val_loss: 0.3961 - val_accuracy: 0.9812\n",
            "Epoch 85/100\n",
            "375/375 [==============================] - 1s 4ms/step - loss: 2.2956e-04 - accuracy: 1.0000 - val_loss: 0.3871 - val_accuracy: 0.9827\n",
            "Epoch 86/100\n",
            "375/375 [==============================] - 1s 4ms/step - loss: 0.0013 - accuracy: 0.9998 - val_loss: 0.4280 - val_accuracy: 0.9801\n",
            "Epoch 87/100\n",
            "375/375 [==============================] - 1s 3ms/step - loss: 2.7048e-04 - accuracy: 1.0000 - val_loss: 0.4750 - val_accuracy: 0.9809\n",
            "Epoch 88/100\n",
            "375/375 [==============================] - 1s 3ms/step - loss: 4.1184e-04 - accuracy: 0.9999 - val_loss: 0.4180 - val_accuracy: 0.9822\n",
            "Epoch 89/100\n",
            "375/375 [==============================] - 1s 3ms/step - loss: 0.0010 - accuracy: 0.9999 - val_loss: 0.4357 - val_accuracy: 0.9812\n",
            "Epoch 90/100\n",
            "375/375 [==============================] - 1s 4ms/step - loss: 9.5907e-04 - accuracy: 0.9998 - val_loss: 0.4057 - val_accuracy: 0.9821\n",
            "Epoch 91/100\n",
            "375/375 [==============================] - 1s 4ms/step - loss: 6.6873e-04 - accuracy: 0.9999 - val_loss: 0.4067 - val_accuracy: 0.9819\n",
            "Epoch 92/100\n",
            "375/375 [==============================] - 1s 3ms/step - loss: 8.3973e-05 - accuracy: 1.0000 - val_loss: 0.4417 - val_accuracy: 0.9804\n",
            "Epoch 93/100\n",
            "375/375 [==============================] - 1s 4ms/step - loss: 2.0557e-04 - accuracy: 0.9999 - val_loss: 0.4225 - val_accuracy: 0.9820\n",
            "Epoch 94/100\n",
            "375/375 [==============================] - 1s 4ms/step - loss: 4.1663e-04 - accuracy: 0.9999 - val_loss: 0.4286 - val_accuracy: 0.9802\n",
            "Epoch 95/100\n",
            "375/375 [==============================] - 1s 3ms/step - loss: 7.1432e-05 - accuracy: 1.0000 - val_loss: 0.4054 - val_accuracy: 0.9818\n",
            "Epoch 96/100\n",
            "375/375 [==============================] - 1s 4ms/step - loss: 5.5195e-07 - accuracy: 1.0000 - val_loss: 0.4147 - val_accuracy: 0.9816\n",
            "Epoch 97/100\n",
            "375/375 [==============================] - 1s 4ms/step - loss: 1.5859e-04 - accuracy: 1.0000 - val_loss: 0.4747 - val_accuracy: 0.9793\n",
            "Epoch 98/100\n",
            "375/375 [==============================] - 1s 4ms/step - loss: 7.8810e-04 - accuracy: 0.9998 - val_loss: 0.4051 - val_accuracy: 0.9819\n",
            "Epoch 99/100\n",
            "375/375 [==============================] - 1s 4ms/step - loss: 5.8632e-04 - accuracy: 0.9999 - val_loss: 0.4146 - val_accuracy: 0.9819\n",
            "Epoch 100/100\n",
            "375/375 [==============================] - 1s 3ms/step - loss: 0.0012 - accuracy: 0.9998 - val_loss: 0.4104 - val_accuracy: 0.9812\n",
            "CPU times: user 2min 24s, sys: 17 s, total: 2min 41s\n",
            "Wall time: 2min 22s\n"
          ],
          "name": "stdout"
        }
      ]
    },
    {
      "cell_type": "code",
      "metadata": {
        "colab": {
          "base_uri": "https://localhost:8080/",
          "height": 404
        },
        "id": "eoQ5YD393DcB",
        "outputId": "cf1e0fad-a051-4661-90ff-d742c050c6f6"
      },
      "source": [
        "import matplotlib.pyplot as plt\n",
        "\n",
        "epochs = range(1, len(Hist_mnist.history['loss']) + 1)\n",
        "\n",
        "plt.figure(figsize = (9, 6))\n",
        "plt.plot(epochs, Hist_mnist.history['loss'])\n",
        "plt.plot(epochs, Hist_mnist.history['val_loss'])\n",
        "# plt.ylim(0, 0.25)\n",
        "plt.title('Training & Validation Loss')\n",
        "plt.xlabel('Epochs')\n",
        "plt.ylabel('Loss')\n",
        "plt.legend(['Training Loss', 'Validation Loss'])\n",
        "plt.grid()\n",
        "plt.show()"
      ],
      "execution_count": 47,
      "outputs": [
        {
          "output_type": "display_data",
          "data": {
            "image/png": "[encoded data removed]",
            "text/plain": [
              "<Figure size 648x432 with 1 Axes>"
            ]
          },
          "metadata": {
            "tags": [],
            "needs_background": "light"
          }
        }
      ]
    },
    {
      "cell_type": "code",
      "metadata": {
        "colab": {
          "base_uri": "https://localhost:8080/"
        },
        "id": "qcBmDaIT3cnj",
        "outputId": "d0de5caf-7b41-4d82-bdff-410282ce4e08"
      },
      "source": [
        "loss, accuracy = mnist.evaluate(X_test, y_test)\n",
        "\n",
        "print('Loss = {:.5f}'.format(loss))\n",
        "print('Accuracy = {:.5f}'.format(accuracy))"
      ],
      "execution_count": 48,
      "outputs": [
        {
          "output_type": "stream",
          "text": [
            "313/313 [==============================] - 1s 2ms/step - loss: 0.3300 - accuracy: 0.9817\n",
            "Loss = 0.33003\n",
            "Accuracy = 0.98170\n"
          ],
          "name": "stdout"
        }
      ]
    },
    {
      "cell_type": "code",
      "metadata": {
        "colab": {
          "base_uri": "https://localhost:8080/"
        },
        "id": "LE3PKaHh3hRF",
        "outputId": "32b84a56-2423-474e-be3c-a7a8e38b992a"
      },
      "source": [
        "np.set_printoptions(suppress = True, precision = 9)\n",
        "print(mnist.predict(X_test[:1,:]))"
      ],
      "execution_count": 49,
      "outputs": [
        {
          "output_type": "stream",
          "text": [
            "[[0. 0. 0. 0. 0. 0. 0. 1. 0. 0.]]\n"
          ],
          "name": "stdout"
        }
      ]
    },
    {
      "cell_type": "code",
      "metadata": {
        "colab": {
          "base_uri": "https://localhost:8080/"
        },
        "id": "cKLz9gsa3ksi",
        "outputId": "e5ea8ef8-7d3f-4c6b-c707-a906fd4abac0"
      },
      "source": [
        "print(mnist.predict_classes(X_test[:1,:]))"
      ],
      "execution_count": 50,
      "outputs": [
        {
          "output_type": "stream",
          "text": [
            "[7]\n"
          ],
          "name": "stdout"
        }
      ]
    },
    {
      "cell_type": "markdown",
      "metadata": {
        "id": "-p6v3DyBqj3F"
      },
      "source": [
        "## L2 Regularization"
      ]
    },
    {
      "cell_type": "code",
      "metadata": {
        "id": "wP9pI0XN3lFI"
      },
      "source": [
        "from tensorflow.keras import models\n",
        "from tensorflow.keras import layers\n",
        "from tensorflow.keras import regularizers\n",
        "\n",
        "mnist_l2 = models.Sequential()\n",
        "mnist_l2.add(layers.Dense(512, activation = 'relu',\n",
        "                          kernel_regularizer = regularizers.l2(0.00001),\n",
        "                          input_shape = (28 * 28, )))\n",
        "mnist_l2.add(layers.Dense(256, activation = 'relu',\n",
        "                          kernel_regularizer = regularizers.l2(0.00001)))\n",
        "mnist_l2.add(layers.Dense(10, activation = 'softmax'))"
      ],
      "execution_count": 51,
      "outputs": []
    },
    {
      "cell_type": "code",
      "metadata": {
        "colab": {
          "base_uri": "https://localhost:8080/"
        },
        "id": "FNXW550nrcSw",
        "outputId": "cf9354c7-d584-49d5-ba2e-f6461ae01e72"
      },
      "source": [
        "mnist_l2.summary()"
      ],
      "execution_count": 52,
      "outputs": [
        {
          "output_type": "stream",
          "text": [
            "Model: \"sequential_2\"\n",
            "_________________________________________________________________\n",
            "Layer (type)                 Output Shape              Param #   \n",
            "=================================================================\n",
            "dense_6 (Dense)              (None, 512)               401920    \n",
            "_________________________________________________________________\n",
            "dense_7 (Dense)              (None, 256)               131328    \n",
            "_________________________________________________________________\n",
            "dense_8 (Dense)              (None, 10)                2570      \n",
            "=================================================================\n",
            "Total params: 535,818\n",
            "Trainable params: 535,818\n",
            "Non-trainable params: 0\n",
            "_________________________________________________________________\n"
          ],
          "name": "stdout"
        }
      ]
    },
    {
      "cell_type": "code",
      "metadata": {
        "id": "WSFUboOErhM-"
      },
      "source": [
        "mnist_l2.compile(loss = 'categorical_crossentropy',\n",
        "                 optimizer = 'rmsprop',\n",
        "                 metrics = ['accuracy'])"
      ],
      "execution_count": 53,
      "outputs": []
    },
    {
      "cell_type": "code",
      "metadata": {
        "colab": {
          "base_uri": "https://localhost:8080/"
        },
        "id": "tdFPP4Utrsfc",
        "outputId": "b9d6d00d-9995-4d04-9cb1-878fac62e647"
      },
      "source": [
        "%%time\n",
        "\n",
        "Hist_mnist_l2 = mnist_l2.fit(X_train, y_train,\n",
        "                             epochs = 100,\n",
        "                             batch_size = 128,\n",
        "                             validation_split = 0.2)"
      ],
      "execution_count": 54,
      "outputs": [
        {
          "output_type": "stream",
          "text": [
            "Epoch 1/100\n",
            "375/375 [==============================] - 2s 4ms/step - loss: 0.2619 - accuracy: 0.9229 - val_loss: 0.1388 - val_accuracy: 0.9592\n",
            "Epoch 2/100\n",
            "375/375 [==============================] - 1s 4ms/step - loss: 0.1024 - accuracy: 0.9713 - val_loss: 0.0979 - val_accuracy: 0.9723\n",
            "Epoch 3/100\n",
            "375/375 [==============================] - 1s 3ms/step - loss: 0.0715 - accuracy: 0.9809 - val_loss: 0.0924 - val_accuracy: 0.9762\n",
            "Epoch 4/100\n",
            "375/375 [==============================] - 1s 4ms/step - loss: 0.0547 - accuracy: 0.9857 - val_loss: 0.1016 - val_accuracy: 0.9752\n",
            "Epoch 5/100\n",
            "375/375 [==============================] - 1s 4ms/step - loss: 0.0442 - accuracy: 0.9890 - val_loss: 0.0906 - val_accuracy: 0.9791\n",
            "Epoch 6/100\n",
            "375/375 [==============================] - 1s 3ms/step - loss: 0.0374 - accuracy: 0.9916 - val_loss: 0.1102 - val_accuracy: 0.9759\n",
            "Epoch 7/100\n",
            "375/375 [==============================] - 1s 4ms/step - loss: 0.0325 - accuracy: 0.9931 - val_loss: 0.1121 - val_accuracy: 0.9767\n",
            "Epoch 8/100\n",
            "375/375 [==============================] - 1s 3ms/step - loss: 0.0300 - accuracy: 0.9939 - val_loss: 0.1100 - val_accuracy: 0.9782\n",
            "Epoch 9/100\n",
            "375/375 [==============================] - 1s 4ms/step - loss: 0.0284 - accuracy: 0.9941 - val_loss: 0.1302 - val_accuracy: 0.9747\n",
            "Epoch 10/100\n",
            "375/375 [==============================] - 1s 4ms/step - loss: 0.0261 - accuracy: 0.9952 - val_loss: 0.1133 - val_accuracy: 0.9789\n",
            "Epoch 11/100\n",
            "375/375 [==============================] - 1s 4ms/step - loss: 0.0251 - accuracy: 0.9952 - val_loss: 0.1343 - val_accuracy: 0.9755\n",
            "Epoch 12/100\n",
            "375/375 [==============================] - 1s 4ms/step - loss: 0.0237 - accuracy: 0.9960 - val_loss: 0.1182 - val_accuracy: 0.9797\n",
            "Epoch 13/100\n",
            "375/375 [==============================] - 1s 4ms/step - loss: 0.0236 - accuracy: 0.9957 - val_loss: 0.1211 - val_accuracy: 0.9786\n",
            "Epoch 14/100\n",
            "375/375 [==============================] - 1s 4ms/step - loss: 0.0215 - accuracy: 0.9964 - val_loss: 0.1442 - val_accuracy: 0.9743\n",
            "Epoch 15/100\n",
            "375/375 [==============================] - 1s 4ms/step - loss: 0.0220 - accuracy: 0.9961 - val_loss: 0.1091 - val_accuracy: 0.9779\n",
            "Epoch 16/100\n",
            "375/375 [==============================] - 1s 4ms/step - loss: 0.0203 - accuracy: 0.9965 - val_loss: 0.1356 - val_accuracy: 0.9758\n",
            "Epoch 17/100\n",
            "375/375 [==============================] - 1s 4ms/step - loss: 0.0204 - accuracy: 0.9963 - val_loss: 0.1290 - val_accuracy: 0.9782\n",
            "Epoch 18/100\n",
            "375/375 [==============================] - 1s 3ms/step - loss: 0.0187 - accuracy: 0.9970 - val_loss: 0.1174 - val_accuracy: 0.9810\n",
            "Epoch 19/100\n",
            "375/375 [==============================] - 1s 4ms/step - loss: 0.0199 - accuracy: 0.9965 - val_loss: 0.1124 - val_accuracy: 0.9803\n",
            "Epoch 20/100\n",
            "375/375 [==============================] - 1s 3ms/step - loss: 0.0188 - accuracy: 0.9970 - val_loss: 0.1350 - val_accuracy: 0.9771\n",
            "Epoch 21/100\n",
            "375/375 [==============================] - 1s 3ms/step - loss: 0.0182 - accuracy: 0.9970 - val_loss: 0.1177 - val_accuracy: 0.9785\n",
            "Epoch 22/100\n",
            "375/375 [==============================] - 1s 3ms/step - loss: 0.0174 - accuracy: 0.9973 - val_loss: 0.1231 - val_accuracy: 0.9787\n",
            "Epoch 23/100\n",
            "375/375 [==============================] - 1s 4ms/step - loss: 0.0193 - accuracy: 0.9966 - val_loss: 0.1288 - val_accuracy: 0.9764\n",
            "Epoch 24/100\n",
            "375/375 [==============================] - 1s 4ms/step - loss: 0.0171 - accuracy: 0.9971 - val_loss: 0.1236 - val_accuracy: 0.9790\n",
            "Epoch 25/100\n",
            "375/375 [==============================] - 1s 3ms/step - loss: 0.0157 - accuracy: 0.9976 - val_loss: 0.1167 - val_accuracy: 0.9795\n",
            "Epoch 26/100\n",
            "375/375 [==============================] - 1s 4ms/step - loss: 0.0156 - accuracy: 0.9977 - val_loss: 0.1172 - val_accuracy: 0.9793\n",
            "Epoch 27/100\n",
            "375/375 [==============================] - 1s 3ms/step - loss: 0.0162 - accuracy: 0.9974 - val_loss: 0.1314 - val_accuracy: 0.9797\n",
            "Epoch 28/100\n",
            "375/375 [==============================] - 1s 3ms/step - loss: 0.0162 - accuracy: 0.9973 - val_loss: 0.1263 - val_accuracy: 0.9805\n",
            "Epoch 29/100\n",
            "375/375 [==============================] - 1s 3ms/step - loss: 0.0151 - accuracy: 0.9975 - val_loss: 0.1483 - val_accuracy: 0.9777\n",
            "Epoch 30/100\n",
            "375/375 [==============================] - 1s 4ms/step - loss: 0.0157 - accuracy: 0.9974 - val_loss: 0.1165 - val_accuracy: 0.9795\n",
            "Epoch 31/100\n",
            "375/375 [==============================] - 1s 3ms/step - loss: 0.0154 - accuracy: 0.9975 - val_loss: 0.1341 - val_accuracy: 0.9774\n",
            "Epoch 32/100\n",
            "375/375 [==============================] - 1s 4ms/step - loss: 0.0150 - accuracy: 0.9977 - val_loss: 0.1347 - val_accuracy: 0.9782\n",
            "Epoch 33/100\n",
            "375/375 [==============================] - 1s 4ms/step - loss: 0.0147 - accuracy: 0.9976 - val_loss: 0.1435 - val_accuracy: 0.9783\n",
            "Epoch 34/100\n",
            "375/375 [==============================] - 1s 3ms/step - loss: 0.0151 - accuracy: 0.9977 - val_loss: 0.1206 - val_accuracy: 0.9795\n",
            "Epoch 35/100\n",
            "375/375 [==============================] - 1s 3ms/step - loss: 0.0154 - accuracy: 0.9973 - val_loss: 0.1205 - val_accuracy: 0.9797\n",
            "Epoch 36/100\n",
            "375/375 [==============================] - 1s 3ms/step - loss: 0.0147 - accuracy: 0.9979 - val_loss: 0.1250 - val_accuracy: 0.9773\n",
            "Epoch 37/100\n",
            "375/375 [==============================] - 1s 4ms/step - loss: 0.0128 - accuracy: 0.9980 - val_loss: 0.1196 - val_accuracy: 0.9793\n",
            "Epoch 38/100\n",
            "375/375 [==============================] - 1s 3ms/step - loss: 0.0143 - accuracy: 0.9975 - val_loss: 0.1400 - val_accuracy: 0.9782\n",
            "Epoch 39/100\n",
            "375/375 [==============================] - 1s 3ms/step - loss: 0.0127 - accuracy: 0.9981 - val_loss: 0.1298 - val_accuracy: 0.9789\n",
            "Epoch 40/100\n",
            "375/375 [==============================] - 1s 4ms/step - loss: 0.0130 - accuracy: 0.9979 - val_loss: 0.1330 - val_accuracy: 0.9780\n",
            "Epoch 41/100\n",
            "375/375 [==============================] - 1s 4ms/step - loss: 0.0138 - accuracy: 0.9979 - val_loss: 0.1233 - val_accuracy: 0.9804\n",
            "Epoch 42/100\n",
            "375/375 [==============================] - 1s 4ms/step - loss: 0.0130 - accuracy: 0.9981 - val_loss: 0.1294 - val_accuracy: 0.9799\n",
            "Epoch 43/100\n",
            "375/375 [==============================] - 1s 3ms/step - loss: 0.0133 - accuracy: 0.9976 - val_loss: 0.1194 - val_accuracy: 0.9812\n",
            "Epoch 44/100\n",
            "375/375 [==============================] - 1s 4ms/step - loss: 0.0124 - accuracy: 0.9977 - val_loss: 0.1252 - val_accuracy: 0.9799\n",
            "Epoch 45/100\n",
            "375/375 [==============================] - 1s 3ms/step - loss: 0.0138 - accuracy: 0.9975 - val_loss: 0.1488 - val_accuracy: 0.9740\n",
            "Epoch 46/100\n",
            "375/375 [==============================] - 1s 3ms/step - loss: 0.0127 - accuracy: 0.9980 - val_loss: 0.1290 - val_accuracy: 0.9794\n",
            "Epoch 47/100\n",
            "375/375 [==============================] - 1s 4ms/step - loss: 0.0136 - accuracy: 0.9976 - val_loss: 0.1365 - val_accuracy: 0.9793\n",
            "Epoch 48/100\n",
            "375/375 [==============================] - 1s 4ms/step - loss: 0.0136 - accuracy: 0.9976 - val_loss: 0.1443 - val_accuracy: 0.9780\n",
            "Epoch 49/100\n",
            "375/375 [==============================] - 1s 4ms/step - loss: 0.0121 - accuracy: 0.9979 - val_loss: 0.1288 - val_accuracy: 0.9784\n",
            "Epoch 50/100\n",
            "375/375 [==============================] - 1s 4ms/step - loss: 0.0128 - accuracy: 0.9978 - val_loss: 0.1409 - val_accuracy: 0.9758\n",
            "Epoch 51/100\n",
            "375/375 [==============================] - 1s 4ms/step - loss: 0.0114 - accuracy: 0.9984 - val_loss: 0.1445 - val_accuracy: 0.9769\n",
            "Epoch 52/100\n",
            "375/375 [==============================] - 1s 4ms/step - loss: 0.0133 - accuracy: 0.9977 - val_loss: 0.1389 - val_accuracy: 0.9787\n",
            "Epoch 53/100\n",
            "375/375 [==============================] - 1s 3ms/step - loss: 0.0117 - accuracy: 0.9981 - val_loss: 0.1280 - val_accuracy: 0.9793\n",
            "Epoch 54/100\n",
            "375/375 [==============================] - 1s 4ms/step - loss: 0.0132 - accuracy: 0.9978 - val_loss: 0.1383 - val_accuracy: 0.9787\n",
            "Epoch 55/100\n",
            "375/375 [==============================] - 1s 4ms/step - loss: 0.0132 - accuracy: 0.9976 - val_loss: 0.1332 - val_accuracy: 0.9791\n",
            "Epoch 56/100\n",
            "375/375 [==============================] - 1s 4ms/step - loss: 0.0108 - accuracy: 0.9982 - val_loss: 0.1619 - val_accuracy: 0.9751\n",
            "Epoch 57/100\n",
            "375/375 [==============================] - 1s 4ms/step - loss: 0.0120 - accuracy: 0.9980 - val_loss: 0.1226 - val_accuracy: 0.9807\n",
            "Epoch 58/100\n",
            "375/375 [==============================] - 1s 4ms/step - loss: 0.0118 - accuracy: 0.9981 - val_loss: 0.1383 - val_accuracy: 0.9789\n",
            "Epoch 59/100\n",
            "375/375 [==============================] - 1s 4ms/step - loss: 0.0127 - accuracy: 0.9979 - val_loss: 0.1743 - val_accuracy: 0.9739\n",
            "Epoch 60/100\n",
            "375/375 [==============================] - 1s 4ms/step - loss: 0.0120 - accuracy: 0.9979 - val_loss: 0.1484 - val_accuracy: 0.9765\n",
            "Epoch 61/100\n",
            "375/375 [==============================] - 1s 4ms/step - loss: 0.0118 - accuracy: 0.9982 - val_loss: 0.1350 - val_accuracy: 0.9787\n",
            "Epoch 62/100\n",
            "375/375 [==============================] - 1s 4ms/step - loss: 0.0112 - accuracy: 0.9982 - val_loss: 0.1432 - val_accuracy: 0.9783\n",
            "Epoch 63/100\n",
            "375/375 [==============================] - 1s 3ms/step - loss: 0.0119 - accuracy: 0.9977 - val_loss: 0.1365 - val_accuracy: 0.9787\n",
            "Epoch 64/100\n",
            "375/375 [==============================] - 1s 4ms/step - loss: 0.0114 - accuracy: 0.9983 - val_loss: 0.1423 - val_accuracy: 0.9775\n",
            "Epoch 65/100\n",
            "375/375 [==============================] - 1s 4ms/step - loss: 0.0115 - accuracy: 0.9981 - val_loss: 0.1505 - val_accuracy: 0.9775\n",
            "Epoch 66/100\n",
            "375/375 [==============================] - 1s 3ms/step - loss: 0.0120 - accuracy: 0.9981 - val_loss: 0.1407 - val_accuracy: 0.9784\n",
            "Epoch 67/100\n",
            "375/375 [==============================] - 1s 4ms/step - loss: 0.0117 - accuracy: 0.9983 - val_loss: 0.1504 - val_accuracy: 0.9787\n",
            "Epoch 68/100\n",
            "375/375 [==============================] - 1s 3ms/step - loss: 0.0112 - accuracy: 0.9980 - val_loss: 0.1332 - val_accuracy: 0.9797\n",
            "Epoch 69/100\n",
            "375/375 [==============================] - 1s 3ms/step - loss: 0.0117 - accuracy: 0.9980 - val_loss: 0.1327 - val_accuracy: 0.9789\n",
            "Epoch 70/100\n",
            "375/375 [==============================] - 1s 3ms/step - loss: 0.0101 - accuracy: 0.9983 - val_loss: 0.1418 - val_accuracy: 0.9783\n",
            "Epoch 71/100\n",
            "375/375 [==============================] - 1s 3ms/step - loss: 0.0108 - accuracy: 0.9980 - val_loss: 0.1525 - val_accuracy: 0.9776\n",
            "Epoch 72/100\n",
            "375/375 [==============================] - 1s 4ms/step - loss: 0.0115 - accuracy: 0.9979 - val_loss: 0.1510 - val_accuracy: 0.9776\n",
            "Epoch 73/100\n",
            "375/375 [==============================] - 1s 4ms/step - loss: 0.0118 - accuracy: 0.9981 - val_loss: 0.1267 - val_accuracy: 0.9802\n",
            "Epoch 74/100\n",
            "375/375 [==============================] - 1s 4ms/step - loss: 0.0106 - accuracy: 0.9983 - val_loss: 0.1327 - val_accuracy: 0.9788\n",
            "Epoch 75/100\n",
            "375/375 [==============================] - 1s 4ms/step - loss: 0.0112 - accuracy: 0.9981 - val_loss: 0.1417 - val_accuracy: 0.9795\n",
            "Epoch 76/100\n",
            "375/375 [==============================] - 1s 4ms/step - loss: 0.0113 - accuracy: 0.9981 - val_loss: 0.1553 - val_accuracy: 0.9768\n",
            "Epoch 77/100\n",
            "375/375 [==============================] - 1s 3ms/step - loss: 0.0115 - accuracy: 0.9982 - val_loss: 0.1541 - val_accuracy: 0.9771\n",
            "Epoch 78/100\n",
            "375/375 [==============================] - 1s 3ms/step - loss: 0.0118 - accuracy: 0.9980 - val_loss: 0.1498 - val_accuracy: 0.9776\n",
            "Epoch 79/100\n",
            "375/375 [==============================] - 1s 3ms/step - loss: 0.0098 - accuracy: 0.9985 - val_loss: 0.1572 - val_accuracy: 0.9764\n",
            "Epoch 80/100\n",
            "375/375 [==============================] - 1s 4ms/step - loss: 0.0109 - accuracy: 0.9981 - val_loss: 0.1268 - val_accuracy: 0.9813\n",
            "Epoch 81/100\n",
            "375/375 [==============================] - 1s 3ms/step - loss: 0.0105 - accuracy: 0.9985 - val_loss: 0.1439 - val_accuracy: 0.9789\n",
            "Epoch 82/100\n",
            "375/375 [==============================] - 1s 4ms/step - loss: 0.0117 - accuracy: 0.9979 - val_loss: 0.1537 - val_accuracy: 0.9775\n",
            "Epoch 83/100\n",
            "375/375 [==============================] - 1s 3ms/step - loss: 0.0117 - accuracy: 0.9980 - val_loss: 0.1443 - val_accuracy: 0.9789\n",
            "Epoch 84/100\n",
            "375/375 [==============================] - 1s 3ms/step - loss: 0.0111 - accuracy: 0.9983 - val_loss: 0.1522 - val_accuracy: 0.9787\n",
            "Epoch 85/100\n",
            "375/375 [==============================] - 1s 4ms/step - loss: 0.0108 - accuracy: 0.9983 - val_loss: 0.1525 - val_accuracy: 0.9783\n",
            "Epoch 86/100\n",
            "375/375 [==============================] - 1s 3ms/step - loss: 0.0102 - accuracy: 0.9984 - val_loss: 0.1571 - val_accuracy: 0.9788\n",
            "Epoch 87/100\n",
            "375/375 [==============================] - 1s 4ms/step - loss: 0.0101 - accuracy: 0.9984 - val_loss: 0.1658 - val_accuracy: 0.9773\n",
            "Epoch 88/100\n",
            "375/375 [==============================] - 1s 3ms/step - loss: 0.0110 - accuracy: 0.9981 - val_loss: 0.1459 - val_accuracy: 0.9795\n",
            "Epoch 89/100\n",
            "375/375 [==============================] - 1s 4ms/step - loss: 0.0111 - accuracy: 0.9980 - val_loss: 0.1526 - val_accuracy: 0.9793\n",
            "Epoch 90/100\n",
            "375/375 [==============================] - 1s 4ms/step - loss: 0.0101 - accuracy: 0.9981 - val_loss: 0.1574 - val_accuracy: 0.9784\n",
            "Epoch 91/100\n",
            "375/375 [==============================] - 1s 3ms/step - loss: 0.0106 - accuracy: 0.9983 - val_loss: 0.1602 - val_accuracy: 0.9767\n",
            "Epoch 92/100\n",
            "375/375 [==============================] - 1s 4ms/step - loss: 0.0106 - accuracy: 0.9984 - val_loss: 0.1578 - val_accuracy: 0.9755\n",
            "Epoch 93/100\n",
            "375/375 [==============================] - 1s 4ms/step - loss: 0.0094 - accuracy: 0.9986 - val_loss: 0.1525 - val_accuracy: 0.9794\n",
            "Epoch 94/100\n",
            "375/375 [==============================] - 1s 4ms/step - loss: 0.0106 - accuracy: 0.9983 - val_loss: 0.1555 - val_accuracy: 0.9774\n",
            "Epoch 95/100\n",
            "375/375 [==============================] - 1s 4ms/step - loss: 0.0109 - accuracy: 0.9979 - val_loss: 0.1455 - val_accuracy: 0.9787\n",
            "Epoch 96/100\n",
            "375/375 [==============================] - 1s 4ms/step - loss: 0.0099 - accuracy: 0.9984 - val_loss: 0.1575 - val_accuracy: 0.9770\n",
            "Epoch 97/100\n",
            "375/375 [==============================] - 1s 4ms/step - loss: 0.0111 - accuracy: 0.9980 - val_loss: 0.1892 - val_accuracy: 0.9768\n",
            "Epoch 98/100\n",
            "375/375 [==============================] - 1s 4ms/step - loss: 0.0112 - accuracy: 0.9980 - val_loss: 0.1620 - val_accuracy: 0.9768\n",
            "Epoch 99/100\n",
            "375/375 [==============================] - 1s 4ms/step - loss: 0.0102 - accuracy: 0.9982 - val_loss: 0.1641 - val_accuracy: 0.9773\n",
            "Epoch 100/100\n",
            "375/375 [==============================] - 1s 4ms/step - loss: 0.0119 - accuracy: 0.9980 - val_loss: 0.1870 - val_accuracy: 0.9729\n",
            "CPU times: user 2min 28s, sys: 17 s, total: 2min 45s\n",
            "Wall time: 2min 22s\n"
          ],
          "name": "stdout"
        }
      ]
    },
    {
      "cell_type": "code",
      "metadata": {
        "colab": {
          "base_uri": "https://localhost:8080/",
          "height": 404
        },
        "id": "doTDPoBisje2",
        "outputId": "ccc11b1e-591f-462b-c35f-3d6ac1c3745b"
      },
      "source": [
        "import matplotlib.pyplot as plt\n",
        "\n",
        "epochs = range(1, len(Hist_mnist_l2.history['loss']) + 1)\n",
        "\n",
        "plt.figure(figsize = (9, 6))\n",
        "plt.plot(epochs, Hist_mnist_l2.history['loss'])\n",
        "plt.plot(epochs, Hist_mnist_l2.history['val_loss'])\n",
        "# plt.ylim(0, 0.25)\n",
        "plt.title('Training & Validation Loss')\n",
        "plt.xlabel('Epochs')\n",
        "plt.ylabel('Loss')\n",
        "plt.legend(['Training Loss', 'Validation Loss'])\n",
        "plt.grid()\n",
        "plt.show()"
      ],
      "execution_count": 55,
      "outputs": [
        {
          "output_type": "display_data",
          "data": {
            "image/png": "[encoded data removed]",
            "text/plain": [
              "<Figure size 648x432 with 1 Axes>"
            ]
          },
          "metadata": {
            "tags": [],
            "needs_background": "light"
          }
        }
      ]
    },
    {
      "cell_type": "code",
      "metadata": {
        "colab": {
          "base_uri": "https://localhost:8080/"
        },
        "id": "jLMS0tOKu-9r",
        "outputId": "e50bd56b-ed6a-408d-9e1b-37aa5386f6ce"
      },
      "source": [
        "loss, accuracy = mnist_l2.evaluate(X_test, y_test)\n",
        "\n",
        "print('Loss = {:.5f}'.format(loss))\n",
        "print('Accuracy = {:.5f}'.format(accuracy))"
      ],
      "execution_count": 67,
      "outputs": [
        {
          "output_type": "stream",
          "text": [
            "313/313 [==============================] - 1s 2ms/step - loss: 0.1794 - accuracy: 0.9741\n",
            "Loss = 0.17939\n",
            "Accuracy = 0.97410\n"
          ],
          "name": "stdout"
        }
      ]
    },
    {
      "cell_type": "markdown",
      "metadata": {
        "id": "WC6dKqVSsA_P"
      },
      "source": [
        "## Dropout"
      ]
    },
    {
      "cell_type": "code",
      "metadata": {
        "id": "nqe5hkzqsELO"
      },
      "source": [
        "from tensorflow.keras import models\n",
        "from tensorflow.keras import layers\n",
        "\n",
        "mnist_do = models.Sequential()\n",
        "mnist_do.add(layers.Dense(512, activation = 'relu',input_shape = (28 * 28, )))\n",
        "mnist_do.add(layers.Dropout(0.4))\n",
        "mnist_do.add(layers.Dense(256, activation = 'relu'))\n",
        "mnist_do.add(layers.Dropout(0.2))\n",
        "mnist_do.add(layers.Dense(10, activation = 'softmax'))"
      ],
      "execution_count": 56,
      "outputs": []
    },
    {
      "cell_type": "code",
      "metadata": {
        "colab": {
          "base_uri": "https://localhost:8080/"
        },
        "id": "tzqCi5jWsEJX",
        "outputId": "94a679ac-2407-48bf-cdd4-b017592d9e28"
      },
      "source": [
        "mnist_do.summary()"
      ],
      "execution_count": 57,
      "outputs": [
        {
          "output_type": "stream",
          "text": [
            "Model: \"sequential_3\"\n",
            "_________________________________________________________________\n",
            "Layer (type)                 Output Shape              Param #   \n",
            "=================================================================\n",
            "dense_9 (Dense)              (None, 512)               401920    \n",
            "_________________________________________________________________\n",
            "dropout (Dropout)            (None, 512)               0         \n",
            "_________________________________________________________________\n",
            "dense_10 (Dense)             (None, 256)               131328    \n",
            "_________________________________________________________________\n",
            "dropout_1 (Dropout)          (None, 256)               0         \n",
            "_________________________________________________________________\n",
            "dense_11 (Dense)             (None, 10)                2570      \n",
            "=================================================================\n",
            "Total params: 535,818\n",
            "Trainable params: 535,818\n",
            "Non-trainable params: 0\n",
            "_________________________________________________________________\n"
          ],
          "name": "stdout"
        }
      ]
    },
    {
      "cell_type": "code",
      "metadata": {
        "id": "GywiJhs1sEG5"
      },
      "source": [
        "mnist_do.compile(loss = 'categorical_crossentropy',\n",
        "                 optimizer = 'rmsprop',\n",
        "                 metrics = ['accuracy'])"
      ],
      "execution_count": 58,
      "outputs": []
    },
    {
      "cell_type": "code",
      "metadata": {
        "colab": {
          "base_uri": "https://localhost:8080/"
        },
        "id": "kiPuiozzsEEB",
        "outputId": "a3563e73-d2be-46d8-c1ef-2a2915d4993e"
      },
      "source": [
        "%%time\n",
        "\n",
        "Hist_mnist_do = mnist_do.fit(X_train, y_train,\n",
        "                             epochs = 100,\n",
        "                             batch_size = 128,\n",
        "                             validation_split = 0.2)"
      ],
      "execution_count": 59,
      "outputs": [
        {
          "output_type": "stream",
          "text": [
            "Epoch 1/100\n",
            "375/375 [==============================] - 2s 4ms/step - loss: 0.3254 - accuracy: 0.9007 - val_loss: 0.1346 - val_accuracy: 0.9597\n",
            "Epoch 2/100\n",
            "375/375 [==============================] - 1s 4ms/step - loss: 0.1462 - accuracy: 0.9563 - val_loss: 0.1052 - val_accuracy: 0.9688\n",
            "Epoch 3/100\n",
            "375/375 [==============================] - 1s 3ms/step - loss: 0.1075 - accuracy: 0.9673 - val_loss: 0.0952 - val_accuracy: 0.9719\n",
            "Epoch 4/100\n",
            "375/375 [==============================] - 1s 3ms/step - loss: 0.0909 - accuracy: 0.9718 - val_loss: 0.0936 - val_accuracy: 0.9725\n",
            "Epoch 5/100\n",
            "375/375 [==============================] - 1s 3ms/step - loss: 0.0782 - accuracy: 0.9768 - val_loss: 0.0872 - val_accuracy: 0.9775\n",
            "Epoch 6/100\n",
            "375/375 [==============================] - 1s 3ms/step - loss: 0.0719 - accuracy: 0.9783 - val_loss: 0.0819 - val_accuracy: 0.9783\n",
            "Epoch 7/100\n",
            "375/375 [==============================] - 1s 4ms/step - loss: 0.0660 - accuracy: 0.9803 - val_loss: 0.0836 - val_accuracy: 0.9797\n",
            "Epoch 8/100\n",
            "375/375 [==============================] - 1s 4ms/step - loss: 0.0574 - accuracy: 0.9825 - val_loss: 0.0874 - val_accuracy: 0.9780\n",
            "Epoch 9/100\n",
            "375/375 [==============================] - 1s 4ms/step - loss: 0.0533 - accuracy: 0.9840 - val_loss: 0.0917 - val_accuracy: 0.9793\n",
            "Epoch 10/100\n",
            "375/375 [==============================] - 1s 4ms/step - loss: 0.0513 - accuracy: 0.9845 - val_loss: 0.0970 - val_accuracy: 0.9800\n",
            "Epoch 11/100\n",
            "375/375 [==============================] - 1s 4ms/step - loss: 0.0493 - accuracy: 0.9851 - val_loss: 0.1030 - val_accuracy: 0.9785\n",
            "Epoch 12/100\n",
            "375/375 [==============================] - 1s 4ms/step - loss: 0.0432 - accuracy: 0.9870 - val_loss: 0.1010 - val_accuracy: 0.9799\n",
            "Epoch 13/100\n",
            "375/375 [==============================] - 1s 4ms/step - loss: 0.0431 - accuracy: 0.9874 - val_loss: 0.0977 - val_accuracy: 0.9815\n",
            "Epoch 14/100\n",
            "375/375 [==============================] - 1s 4ms/step - loss: 0.0393 - accuracy: 0.9880 - val_loss: 0.0947 - val_accuracy: 0.9812\n",
            "Epoch 15/100\n",
            "375/375 [==============================] - 1s 4ms/step - loss: 0.0401 - accuracy: 0.9884 - val_loss: 0.1017 - val_accuracy: 0.9802\n",
            "Epoch 16/100\n",
            "375/375 [==============================] - 1s 4ms/step - loss: 0.0358 - accuracy: 0.9894 - val_loss: 0.1033 - val_accuracy: 0.9803\n",
            "Epoch 17/100\n",
            "375/375 [==============================] - 1s 4ms/step - loss: 0.0347 - accuracy: 0.9894 - val_loss: 0.1093 - val_accuracy: 0.9810\n",
            "Epoch 18/100\n",
            "375/375 [==============================] - 1s 4ms/step - loss: 0.0350 - accuracy: 0.9897 - val_loss: 0.1152 - val_accuracy: 0.9821\n",
            "Epoch 19/100\n",
            "375/375 [==============================] - 1s 4ms/step - loss: 0.0353 - accuracy: 0.9905 - val_loss: 0.1058 - val_accuracy: 0.9812\n",
            "Epoch 20/100\n",
            "375/375 [==============================] - 1s 4ms/step - loss: 0.0319 - accuracy: 0.9910 - val_loss: 0.1115 - val_accuracy: 0.9818\n",
            "Epoch 21/100\n",
            "375/375 [==============================] - 1s 4ms/step - loss: 0.0306 - accuracy: 0.9914 - val_loss: 0.1146 - val_accuracy: 0.9820\n",
            "Epoch 22/100\n",
            "375/375 [==============================] - 1s 4ms/step - loss: 0.0305 - accuracy: 0.9915 - val_loss: 0.1216 - val_accuracy: 0.9809\n",
            "Epoch 23/100\n",
            "375/375 [==============================] - 1s 4ms/step - loss: 0.0314 - accuracy: 0.9915 - val_loss: 0.1259 - val_accuracy: 0.9818\n",
            "Epoch 24/100\n",
            "375/375 [==============================] - 1s 3ms/step - loss: 0.0291 - accuracy: 0.9919 - val_loss: 0.1213 - val_accuracy: 0.9821\n",
            "Epoch 25/100\n",
            "375/375 [==============================] - 1s 4ms/step - loss: 0.0311 - accuracy: 0.9917 - val_loss: 0.1228 - val_accuracy: 0.9825\n",
            "Epoch 26/100\n",
            "375/375 [==============================] - 1s 3ms/step - loss: 0.0283 - accuracy: 0.9920 - val_loss: 0.1250 - val_accuracy: 0.9822\n",
            "Epoch 27/100\n",
            "375/375 [==============================] - 1s 4ms/step - loss: 0.0245 - accuracy: 0.9932 - val_loss: 0.1463 - val_accuracy: 0.9818\n",
            "Epoch 28/100\n",
            "375/375 [==============================] - 1s 4ms/step - loss: 0.0277 - accuracy: 0.9928 - val_loss: 0.1309 - val_accuracy: 0.9819\n",
            "Epoch 29/100\n",
            "375/375 [==============================] - 1s 4ms/step - loss: 0.0254 - accuracy: 0.9927 - val_loss: 0.1437 - val_accuracy: 0.9817\n",
            "Epoch 30/100\n",
            "375/375 [==============================] - 1s 4ms/step - loss: 0.0247 - accuracy: 0.9935 - val_loss: 0.1332 - val_accuracy: 0.9831\n",
            "Epoch 31/100\n",
            "375/375 [==============================] - 1s 3ms/step - loss: 0.0270 - accuracy: 0.9925 - val_loss: 0.1357 - val_accuracy: 0.9817\n",
            "Epoch 32/100\n",
            "375/375 [==============================] - 1s 4ms/step - loss: 0.0232 - accuracy: 0.9932 - val_loss: 0.1431 - val_accuracy: 0.9812\n",
            "Epoch 33/100\n",
            "375/375 [==============================] - 1s 3ms/step - loss: 0.0239 - accuracy: 0.9936 - val_loss: 0.1394 - val_accuracy: 0.9822\n",
            "Epoch 34/100\n",
            "375/375 [==============================] - 1s 3ms/step - loss: 0.0261 - accuracy: 0.9932 - val_loss: 0.1386 - val_accuracy: 0.9825\n",
            "Epoch 35/100\n",
            "375/375 [==============================] - 1s 3ms/step - loss: 0.0240 - accuracy: 0.9944 - val_loss: 0.1557 - val_accuracy: 0.9822\n",
            "Epoch 36/100\n",
            "375/375 [==============================] - 1s 4ms/step - loss: 0.0230 - accuracy: 0.9939 - val_loss: 0.1460 - val_accuracy: 0.9828\n",
            "Epoch 37/100\n",
            "375/375 [==============================] - 1s 4ms/step - loss: 0.0240 - accuracy: 0.9937 - val_loss: 0.1595 - val_accuracy: 0.9817\n",
            "Epoch 38/100\n",
            "375/375 [==============================] - 1s 4ms/step - loss: 0.0219 - accuracy: 0.9943 - val_loss: 0.1537 - val_accuracy: 0.9831\n",
            "Epoch 39/100\n",
            "375/375 [==============================] - 1s 3ms/step - loss: 0.0234 - accuracy: 0.9939 - val_loss: 0.1363 - val_accuracy: 0.9823\n",
            "Epoch 40/100\n",
            "375/375 [==============================] - 1s 4ms/step - loss: 0.0238 - accuracy: 0.9944 - val_loss: 0.1493 - val_accuracy: 0.9832\n",
            "Epoch 41/100\n",
            "375/375 [==============================] - 1s 4ms/step - loss: 0.0205 - accuracy: 0.9944 - val_loss: 0.1586 - val_accuracy: 0.9816\n",
            "Epoch 42/100\n",
            "375/375 [==============================] - 1s 4ms/step - loss: 0.0197 - accuracy: 0.9944 - val_loss: 0.1588 - val_accuracy: 0.9820\n",
            "Epoch 43/100\n",
            "375/375 [==============================] - 1s 4ms/step - loss: 0.0211 - accuracy: 0.9944 - val_loss: 0.1595 - val_accuracy: 0.9815\n",
            "Epoch 44/100\n",
            "375/375 [==============================] - 1s 3ms/step - loss: 0.0184 - accuracy: 0.9951 - val_loss: 0.1643 - val_accuracy: 0.9822\n",
            "Epoch 45/100\n",
            "375/375 [==============================] - 1s 4ms/step - loss: 0.0237 - accuracy: 0.9946 - val_loss: 0.1505 - val_accuracy: 0.9820\n",
            "Epoch 46/100\n",
            "375/375 [==============================] - 1s 4ms/step - loss: 0.0235 - accuracy: 0.9944 - val_loss: 0.1591 - val_accuracy: 0.9830\n",
            "Epoch 47/100\n",
            "375/375 [==============================] - 1s 4ms/step - loss: 0.0223 - accuracy: 0.9943 - val_loss: 0.1627 - val_accuracy: 0.9821\n",
            "Epoch 48/100\n",
            "375/375 [==============================] - 1s 3ms/step - loss: 0.0205 - accuracy: 0.9949 - val_loss: 0.1690 - val_accuracy: 0.9827\n",
            "Epoch 49/100\n",
            "375/375 [==============================] - 1s 3ms/step - loss: 0.0198 - accuracy: 0.9947 - val_loss: 0.1713 - val_accuracy: 0.9829\n",
            "Epoch 50/100\n",
            "375/375 [==============================] - 1s 3ms/step - loss: 0.0205 - accuracy: 0.9951 - val_loss: 0.1825 - val_accuracy: 0.9816\n",
            "Epoch 51/100\n",
            "375/375 [==============================] - 1s 4ms/step - loss: 0.0205 - accuracy: 0.9952 - val_loss: 0.1835 - val_accuracy: 0.9833\n",
            "Epoch 52/100\n",
            "375/375 [==============================] - 1s 3ms/step - loss: 0.0197 - accuracy: 0.9952 - val_loss: 0.1861 - val_accuracy: 0.9808\n",
            "Epoch 53/100\n",
            "375/375 [==============================] - 1s 4ms/step - loss: 0.0204 - accuracy: 0.9950 - val_loss: 0.1801 - val_accuracy: 0.9822\n",
            "Epoch 54/100\n",
            "375/375 [==============================] - 1s 3ms/step - loss: 0.0195 - accuracy: 0.9952 - val_loss: 0.1790 - val_accuracy: 0.9833\n",
            "Epoch 55/100\n",
            "375/375 [==============================] - 1s 3ms/step - loss: 0.0212 - accuracy: 0.9951 - val_loss: 0.1758 - val_accuracy: 0.9827\n",
            "Epoch 56/100\n",
            "375/375 [==============================] - 1s 3ms/step - loss: 0.0179 - accuracy: 0.9953 - val_loss: 0.1810 - val_accuracy: 0.9822\n",
            "Epoch 57/100\n",
            "375/375 [==============================] - 1s 3ms/step - loss: 0.0184 - accuracy: 0.9958 - val_loss: 0.1878 - val_accuracy: 0.9828\n",
            "Epoch 58/100\n",
            "375/375 [==============================] - 1s 4ms/step - loss: 0.0228 - accuracy: 0.9949 - val_loss: 0.1787 - val_accuracy: 0.9835\n",
            "Epoch 59/100\n",
            "375/375 [==============================] - 1s 4ms/step - loss: 0.0172 - accuracy: 0.9959 - val_loss: 0.1966 - val_accuracy: 0.9823\n",
            "Epoch 60/100\n",
            "375/375 [==============================] - 1s 4ms/step - loss: 0.0171 - accuracy: 0.9958 - val_loss: 0.1789 - val_accuracy: 0.9843\n",
            "Epoch 61/100\n",
            "375/375 [==============================] - 1s 4ms/step - loss: 0.0202 - accuracy: 0.9955 - val_loss: 0.1845 - val_accuracy: 0.9835\n",
            "Epoch 62/100\n",
            "375/375 [==============================] - 1s 4ms/step - loss: 0.0179 - accuracy: 0.9959 - val_loss: 0.1858 - val_accuracy: 0.9837\n",
            "Epoch 63/100\n",
            "375/375 [==============================] - 1s 4ms/step - loss: 0.0191 - accuracy: 0.9959 - val_loss: 0.1926 - val_accuracy: 0.9836\n",
            "Epoch 64/100\n",
            "375/375 [==============================] - 1s 3ms/step - loss: 0.0183 - accuracy: 0.9958 - val_loss: 0.2048 - val_accuracy: 0.9808\n",
            "Epoch 65/100\n",
            "375/375 [==============================] - 1s 4ms/step - loss: 0.0196 - accuracy: 0.9950 - val_loss: 0.1900 - val_accuracy: 0.9837\n",
            "Epoch 66/100\n",
            "375/375 [==============================] - 1s 4ms/step - loss: 0.0172 - accuracy: 0.9961 - val_loss: 0.1995 - val_accuracy: 0.9834\n",
            "Epoch 67/100\n",
            "375/375 [==============================] - 1s 4ms/step - loss: 0.0211 - accuracy: 0.9958 - val_loss: 0.1887 - val_accuracy: 0.9826\n",
            "Epoch 68/100\n",
            "375/375 [==============================] - 1s 4ms/step - loss: 0.0175 - accuracy: 0.9957 - val_loss: 0.2005 - val_accuracy: 0.9822\n",
            "Epoch 69/100\n",
            "375/375 [==============================] - 1s 4ms/step - loss: 0.0205 - accuracy: 0.9956 - val_loss: 0.1921 - val_accuracy: 0.9834\n",
            "Epoch 70/100\n",
            "375/375 [==============================] - 1s 4ms/step - loss: 0.0165 - accuracy: 0.9963 - val_loss: 0.1968 - val_accuracy: 0.9830\n",
            "Epoch 71/100\n",
            "375/375 [==============================] - 1s 4ms/step - loss: 0.0188 - accuracy: 0.9961 - val_loss: 0.2108 - val_accuracy: 0.9818\n",
            "Epoch 72/100\n",
            "375/375 [==============================] - 1s 4ms/step - loss: 0.0179 - accuracy: 0.9956 - val_loss: 0.1935 - val_accuracy: 0.9827\n",
            "Epoch 73/100\n",
            "375/375 [==============================] - 1s 4ms/step - loss: 0.0179 - accuracy: 0.9958 - val_loss: 0.1868 - val_accuracy: 0.9840\n",
            "Epoch 74/100\n",
            "375/375 [==============================] - 1s 4ms/step - loss: 0.0173 - accuracy: 0.9961 - val_loss: 0.1947 - val_accuracy: 0.9838\n",
            "Epoch 75/100\n",
            "375/375 [==============================] - 1s 4ms/step - loss: 0.0185 - accuracy: 0.9962 - val_loss: 0.1857 - val_accuracy: 0.9839\n",
            "Epoch 76/100\n",
            "375/375 [==============================] - 1s 4ms/step - loss: 0.0181 - accuracy: 0.9962 - val_loss: 0.2209 - val_accuracy: 0.9831\n",
            "Epoch 77/100\n",
            "375/375 [==============================] - 1s 4ms/step - loss: 0.0175 - accuracy: 0.9965 - val_loss: 0.2161 - val_accuracy: 0.9820\n",
            "Epoch 78/100\n",
            "375/375 [==============================] - 1s 3ms/step - loss: 0.0194 - accuracy: 0.9961 - val_loss: 0.1968 - val_accuracy: 0.9837\n",
            "Epoch 79/100\n",
            "375/375 [==============================] - 1s 3ms/step - loss: 0.0170 - accuracy: 0.9962 - val_loss: 0.2275 - val_accuracy: 0.9812\n",
            "Epoch 80/100\n",
            "375/375 [==============================] - 1s 4ms/step - loss: 0.0184 - accuracy: 0.9962 - val_loss: 0.2126 - val_accuracy: 0.9823\n",
            "Epoch 81/100\n",
            "375/375 [==============================] - 1s 4ms/step - loss: 0.0183 - accuracy: 0.9964 - val_loss: 0.2190 - val_accuracy: 0.9826\n",
            "Epoch 82/100\n",
            "375/375 [==============================] - 1s 4ms/step - loss: 0.0169 - accuracy: 0.9965 - val_loss: 0.2211 - val_accuracy: 0.9824\n",
            "Epoch 83/100\n",
            "375/375 [==============================] - 1s 4ms/step - loss: 0.0179 - accuracy: 0.9961 - val_loss: 0.2120 - val_accuracy: 0.9818\n",
            "Epoch 84/100\n",
            "375/375 [==============================] - 1s 3ms/step - loss: 0.0163 - accuracy: 0.9962 - val_loss: 0.2229 - val_accuracy: 0.9833\n",
            "Epoch 85/100\n",
            "375/375 [==============================] - 1s 4ms/step - loss: 0.0182 - accuracy: 0.9962 - val_loss: 0.2128 - val_accuracy: 0.9824\n",
            "Epoch 86/100\n",
            "375/375 [==============================] - 1s 4ms/step - loss: 0.0153 - accuracy: 0.9967 - val_loss: 0.2350 - val_accuracy: 0.9828\n",
            "Epoch 87/100\n",
            "375/375 [==============================] - 1s 4ms/step - loss: 0.0143 - accuracy: 0.9973 - val_loss: 0.2370 - val_accuracy: 0.9821\n",
            "Epoch 88/100\n",
            "375/375 [==============================] - 1s 4ms/step - loss: 0.0192 - accuracy: 0.9960 - val_loss: 0.2160 - val_accuracy: 0.9823\n",
            "Epoch 89/100\n",
            "375/375 [==============================] - 1s 4ms/step - loss: 0.0168 - accuracy: 0.9967 - val_loss: 0.2269 - val_accuracy: 0.9831\n",
            "Epoch 90/100\n",
            "375/375 [==============================] - 1s 3ms/step - loss: 0.0155 - accuracy: 0.9967 - val_loss: 0.2259 - val_accuracy: 0.9843\n",
            "Epoch 91/100\n",
            "375/375 [==============================] - 1s 4ms/step - loss: 0.0156 - accuracy: 0.9969 - val_loss: 0.2337 - val_accuracy: 0.9836\n",
            "Epoch 92/100\n",
            "375/375 [==============================] - 1s 4ms/step - loss: 0.0208 - accuracy: 0.9960 - val_loss: 0.2183 - val_accuracy: 0.9827\n",
            "Epoch 93/100\n",
            "375/375 [==============================] - 1s 3ms/step - loss: 0.0148 - accuracy: 0.9966 - val_loss: 0.2201 - val_accuracy: 0.9824\n",
            "Epoch 94/100\n",
            "375/375 [==============================] - 1s 3ms/step - loss: 0.0169 - accuracy: 0.9966 - val_loss: 0.2395 - val_accuracy: 0.9821\n",
            "Epoch 95/100\n",
            "375/375 [==============================] - 1s 3ms/step - loss: 0.0180 - accuracy: 0.9965 - val_loss: 0.2340 - val_accuracy: 0.9837\n",
            "Epoch 96/100\n",
            "375/375 [==============================] - 1s 4ms/step - loss: 0.0158 - accuracy: 0.9967 - val_loss: 0.2440 - val_accuracy: 0.9830\n",
            "Epoch 97/100\n",
            "375/375 [==============================] - 1s 4ms/step - loss: 0.0186 - accuracy: 0.9961 - val_loss: 0.2274 - val_accuracy: 0.9819\n",
            "Epoch 98/100\n",
            "375/375 [==============================] - 1s 3ms/step - loss: 0.0159 - accuracy: 0.9968 - val_loss: 0.2171 - val_accuracy: 0.9834\n",
            "Epoch 99/100\n",
            "375/375 [==============================] - 1s 4ms/step - loss: 0.0179 - accuracy: 0.9965 - val_loss: 0.2448 - val_accuracy: 0.9827\n",
            "Epoch 100/100\n",
            "375/375 [==============================] - 1s 3ms/step - loss: 0.0174 - accuracy: 0.9963 - val_loss: 0.2575 - val_accuracy: 0.9821\n",
            "CPU times: user 2min 27s, sys: 16.7 s, total: 2min 44s\n",
            "Wall time: 2min 22s\n"
          ],
          "name": "stdout"
        }
      ]
    },
    {
      "cell_type": "code",
      "metadata": {
        "colab": {
          "base_uri": "https://localhost:8080/",
          "height": 404
        },
        "id": "YAizgRJzsEBD",
        "outputId": "604a5c75-5d98-4631-a80b-afd96f91c99d"
      },
      "source": [
        "import matplotlib.pyplot as plt\n",
        "\n",
        "epochs = range(1, len(Hist_mnist_do.history['loss']) + 1)\n",
        "\n",
        "plt.figure(figsize = (9, 6))\n",
        "plt.plot(epochs, Hist_mnist_do.history['loss'])\n",
        "plt.plot(epochs, Hist_mnist_do.history['val_loss'])\n",
        "# plt.ylim(0, 0.25)\n",
        "plt.title('Training & Validation Loss')\n",
        "plt.xlabel('Epochs')\n",
        "plt.ylabel('Loss')\n",
        "plt.legend(['Training Loss', 'Validation Loss'])\n",
        "plt.grid()\n",
        "plt.show()"
      ],
      "execution_count": 60,
      "outputs": [
        {
          "output_type": "display_data",
          "data": {
            "image/png": "[encoded data removed]",
            "text/plain": [
              "<Figure size 648x432 with 1 Axes>"
            ]
          },
          "metadata": {
            "tags": [],
            "needs_background": "light"
          }
        }
      ]
    },
    {
      "cell_type": "code",
      "metadata": {
        "colab": {
          "base_uri": "https://localhost:8080/"
        },
        "id": "8SeeMCqZvDa5",
        "outputId": "ccc52157-b5f3-4219-e136-49373741a512"
      },
      "source": [
        "loss, accuracy = mnist_do.evaluate(X_test, y_test)\n",
        "\n",
        "print('Loss = {:.5f}'.format(loss))\n",
        "print('Accuracy = {:.5f}'.format(accuracy))"
      ],
      "execution_count": 68,
      "outputs": [
        {
          "output_type": "stream",
          "text": [
            "313/313 [==============================] - 1s 2ms/step - loss: 0.1960 - accuracy: 0.9833\n",
            "Loss = 0.19603\n",
            "Accuracy = 0.98330\n"
          ],
          "name": "stdout"
        }
      ]
    },
    {
      "cell_type": "markdown",
      "metadata": {
        "id": "u5lNY4bys0jQ"
      },
      "source": [
        "## Batch Normalization"
      ]
    },
    {
      "cell_type": "code",
      "metadata": {
        "id": "qfUsnD9psD5j"
      },
      "source": [
        "from tensorflow.keras import models\n",
        "from tensorflow.keras import layers\n",
        "\n",
        "mnist_bn = models.Sequential()\n",
        "mnist_bn.add(layers.Dense(512, input_shape=(28 * 28, )))\n",
        "mnist_bn.add(layers.BatchNormalization())\n",
        "mnist_bn.add(layers.Activation('relu'))\n",
        "mnist_bn.add(layers.Dense(256))\n",
        "mnist_bn.add(layers.BatchNormalization())\n",
        "mnist_bn.add(layers.Activation('relu'))\n",
        "mnist_bn.add(layers.Dense(10, activation = 'softmax'))"
      ],
      "execution_count": 61,
      "outputs": []
    },
    {
      "cell_type": "code",
      "metadata": {
        "colab": {
          "base_uri": "https://localhost:8080/"
        },
        "id": "VnK7h2lptahv",
        "outputId": "b4aa7594-7bf6-4e72-9d15-19e6cc5d2eb0"
      },
      "source": [
        "mnist_bn.summary()"
      ],
      "execution_count": 62,
      "outputs": [
        {
          "output_type": "stream",
          "text": [
            "Model: \"sequential_4\"\n",
            "_________________________________________________________________\n",
            "Layer (type)                 Output Shape              Param #   \n",
            "=================================================================\n",
            "dense_12 (Dense)             (None, 512)               401920    \n",
            "_________________________________________________________________\n",
            "batch_normalization (BatchNo (None, 512)               2048      \n",
            "_________________________________________________________________\n",
            "activation (Activation)      (None, 512)               0         \n",
            "_________________________________________________________________\n",
            "dense_13 (Dense)             (None, 256)               131328    \n",
            "_________________________________________________________________\n",
            "batch_normalization_1 (Batch (None, 256)               1024      \n",
            "_________________________________________________________________\n",
            "activation_1 (Activation)    (None, 256)               0         \n",
            "_________________________________________________________________\n",
            "dense_14 (Dense)             (None, 10)                2570      \n",
            "=================================================================\n",
            "Total params: 538,890\n",
            "Trainable params: 537,354\n",
            "Non-trainable params: 1,536\n",
            "_________________________________________________________________\n"
          ],
          "name": "stdout"
        }
      ]
    },
    {
      "cell_type": "code",
      "metadata": {
        "id": "eLdoYC6Ytaac"
      },
      "source": [
        "mnist_bn.compile(loss = 'categorical_crossentropy',\n",
        "                 optimizer = 'rmsprop',\n",
        "                 metrics = ['accuracy'])"
      ],
      "execution_count": 63,
      "outputs": []
    },
    {
      "cell_type": "code",
      "metadata": {
        "colab": {
          "base_uri": "https://localhost:8080/"
        },
        "id": "LNF5cS8otaSV",
        "outputId": "9cb2cd61-668c-4695-90ab-354ca2c07600"
      },
      "source": [
        "%%time\n",
        "\n",
        "Hist_mnist_bn = mnist_bn.fit(X_train, y_train,\n",
        "                             epochs = 100,\n",
        "                             batch_size = 128,\n",
        "                             validation_split = 0.2)"
      ],
      "execution_count": 64,
      "outputs": [
        {
          "output_type": "stream",
          "text": [
            "Epoch 1/100\n",
            "375/375 [==============================] - 3s 5ms/step - loss: 0.1796 - accuracy: 0.9456 - val_loss: 0.1051 - val_accuracy: 0.9690\n",
            "Epoch 2/100\n",
            "375/375 [==============================] - 2s 4ms/step - loss: 0.0738 - accuracy: 0.9771 - val_loss: 0.0847 - val_accuracy: 0.9742\n",
            "Epoch 3/100\n",
            "375/375 [==============================] - 2s 4ms/step - loss: 0.0462 - accuracy: 0.9861 - val_loss: 0.0864 - val_accuracy: 0.9763\n",
            "Epoch 4/100\n",
            "375/375 [==============================] - 2s 4ms/step - loss: 0.0308 - accuracy: 0.9902 - val_loss: 0.0866 - val_accuracy: 0.9770\n",
            "Epoch 5/100\n",
            "375/375 [==============================] - 2s 4ms/step - loss: 0.0248 - accuracy: 0.9924 - val_loss: 0.0887 - val_accuracy: 0.9767\n",
            "Epoch 6/100\n",
            "375/375 [==============================] - 2s 4ms/step - loss: 0.0181 - accuracy: 0.9942 - val_loss: 0.0921 - val_accuracy: 0.9772\n",
            "Epoch 7/100\n",
            "375/375 [==============================] - 2s 4ms/step - loss: 0.0149 - accuracy: 0.9954 - val_loss: 0.0973 - val_accuracy: 0.9768\n",
            "Epoch 8/100\n",
            "375/375 [==============================] - 2s 4ms/step - loss: 0.0121 - accuracy: 0.9959 - val_loss: 0.0995 - val_accuracy: 0.9761\n",
            "Epoch 9/100\n",
            "375/375 [==============================] - 2s 4ms/step - loss: 0.0111 - accuracy: 0.9964 - val_loss: 0.0941 - val_accuracy: 0.9782\n",
            "Epoch 10/100\n",
            "375/375 [==============================] - 2s 4ms/step - loss: 0.0093 - accuracy: 0.9969 - val_loss: 0.0911 - val_accuracy: 0.9801\n",
            "Epoch 11/100\n",
            "375/375 [==============================] - 1s 4ms/step - loss: 0.0087 - accuracy: 0.9975 - val_loss: 0.1077 - val_accuracy: 0.9788\n",
            "Epoch 12/100\n",
            "375/375 [==============================] - 2s 4ms/step - loss: 0.0073 - accuracy: 0.9975 - val_loss: 0.0898 - val_accuracy: 0.9812\n",
            "Epoch 13/100\n",
            "375/375 [==============================] - 2s 4ms/step - loss: 0.0067 - accuracy: 0.9979 - val_loss: 0.1047 - val_accuracy: 0.9794\n",
            "Epoch 14/100\n",
            "375/375 [==============================] - 2s 4ms/step - loss: 0.0065 - accuracy: 0.9980 - val_loss: 0.1048 - val_accuracy: 0.9803\n",
            "Epoch 15/100\n",
            "375/375 [==============================] - 2s 4ms/step - loss: 0.0053 - accuracy: 0.9982 - val_loss: 0.1113 - val_accuracy: 0.9803\n",
            "Epoch 16/100\n",
            "375/375 [==============================] - 1s 4ms/step - loss: 0.0048 - accuracy: 0.9985 - val_loss: 0.1214 - val_accuracy: 0.9781\n",
            "Epoch 17/100\n",
            "375/375 [==============================] - 1s 4ms/step - loss: 0.0037 - accuracy: 0.9986 - val_loss: 0.1098 - val_accuracy: 0.9809\n",
            "Epoch 18/100\n",
            "375/375 [==============================] - 2s 4ms/step - loss: 0.0041 - accuracy: 0.9986 - val_loss: 0.1133 - val_accuracy: 0.9818\n",
            "Epoch 19/100\n",
            "375/375 [==============================] - 1s 4ms/step - loss: 0.0036 - accuracy: 0.9986 - val_loss: 0.1106 - val_accuracy: 0.9819\n",
            "Epoch 20/100\n",
            "375/375 [==============================] - 1s 4ms/step - loss: 0.0039 - accuracy: 0.9985 - val_loss: 0.1165 - val_accuracy: 0.9806\n",
            "Epoch 21/100\n",
            "375/375 [==============================] - 1s 4ms/step - loss: 0.0033 - accuracy: 0.9989 - val_loss: 0.1138 - val_accuracy: 0.9818\n",
            "Epoch 22/100\n",
            "375/375 [==============================] - 2s 4ms/step - loss: 0.0035 - accuracy: 0.9989 - val_loss: 0.1162 - val_accuracy: 0.9827\n",
            "Epoch 23/100\n",
            "375/375 [==============================] - 1s 4ms/step - loss: 0.0032 - accuracy: 0.9990 - val_loss: 0.1272 - val_accuracy: 0.9793\n",
            "Epoch 24/100\n",
            "375/375 [==============================] - 2s 4ms/step - loss: 0.0030 - accuracy: 0.9990 - val_loss: 0.1304 - val_accuracy: 0.9800\n",
            "Epoch 25/100\n",
            "375/375 [==============================] - 2s 4ms/step - loss: 0.0034 - accuracy: 0.9990 - val_loss: 0.1185 - val_accuracy: 0.9826\n",
            "Epoch 26/100\n",
            "375/375 [==============================] - 2s 4ms/step - loss: 0.0023 - accuracy: 0.9991 - val_loss: 0.1248 - val_accuracy: 0.9814\n",
            "Epoch 27/100\n",
            "375/375 [==============================] - 2s 4ms/step - loss: 0.0027 - accuracy: 0.9991 - val_loss: 0.1334 - val_accuracy: 0.9807\n",
            "Epoch 28/100\n",
            "375/375 [==============================] - 2s 4ms/step - loss: 0.0025 - accuracy: 0.9993 - val_loss: 0.1301 - val_accuracy: 0.9812\n",
            "Epoch 29/100\n",
            "375/375 [==============================] - 2s 4ms/step - loss: 0.0024 - accuracy: 0.9993 - val_loss: 0.1233 - val_accuracy: 0.9820\n",
            "Epoch 30/100\n",
            "375/375 [==============================] - 1s 4ms/step - loss: 0.0023 - accuracy: 0.9992 - val_loss: 0.1283 - val_accuracy: 0.9812\n",
            "Epoch 31/100\n",
            "375/375 [==============================] - 2s 4ms/step - loss: 0.0027 - accuracy: 0.9992 - val_loss: 0.1592 - val_accuracy: 0.9796\n",
            "Epoch 32/100\n",
            "375/375 [==============================] - 2s 4ms/step - loss: 0.0021 - accuracy: 0.9992 - val_loss: 0.1349 - val_accuracy: 0.9810\n",
            "Epoch 33/100\n",
            "375/375 [==============================] - 1s 4ms/step - loss: 0.0019 - accuracy: 0.9993 - val_loss: 0.1204 - val_accuracy: 0.9820\n",
            "Epoch 34/100\n",
            "375/375 [==============================] - 2s 4ms/step - loss: 0.0022 - accuracy: 0.9994 - val_loss: 0.1373 - val_accuracy: 0.9818\n",
            "Epoch 35/100\n",
            "375/375 [==============================] - 1s 4ms/step - loss: 0.0021 - accuracy: 0.9993 - val_loss: 0.1429 - val_accuracy: 0.9814\n",
            "Epoch 36/100\n",
            "375/375 [==============================] - 2s 4ms/step - loss: 0.0020 - accuracy: 0.9993 - val_loss: 0.1451 - val_accuracy: 0.9807\n",
            "Epoch 37/100\n",
            "375/375 [==============================] - 2s 4ms/step - loss: 0.0022 - accuracy: 0.9994 - val_loss: 0.1443 - val_accuracy: 0.9811\n",
            "Epoch 38/100\n",
            "375/375 [==============================] - 2s 5ms/step - loss: 0.0020 - accuracy: 0.9992 - val_loss: 0.1483 - val_accuracy: 0.9818\n",
            "Epoch 39/100\n",
            "375/375 [==============================] - 2s 4ms/step - loss: 0.0019 - accuracy: 0.9994 - val_loss: 0.1468 - val_accuracy: 0.9814\n",
            "Epoch 40/100\n",
            "375/375 [==============================] - 2s 5ms/step - loss: 0.0024 - accuracy: 0.9994 - val_loss: 0.1425 - val_accuracy: 0.9815\n",
            "Epoch 41/100\n",
            "375/375 [==============================] - 2s 4ms/step - loss: 0.0014 - accuracy: 0.9996 - val_loss: 0.1429 - val_accuracy: 0.9810\n",
            "Epoch 42/100\n",
            "375/375 [==============================] - 2s 5ms/step - loss: 0.0014 - accuracy: 0.9996 - val_loss: 0.1426 - val_accuracy: 0.9827\n",
            "Epoch 43/100\n",
            "375/375 [==============================] - 2s 4ms/step - loss: 9.2524e-04 - accuracy: 0.9997 - val_loss: 0.1601 - val_accuracy: 0.9804\n",
            "Epoch 44/100\n",
            "375/375 [==============================] - 2s 4ms/step - loss: 0.0015 - accuracy: 0.9996 - val_loss: 0.1483 - val_accuracy: 0.9814\n",
            "Epoch 45/100\n",
            "375/375 [==============================] - 2s 4ms/step - loss: 0.0013 - accuracy: 0.9996 - val_loss: 0.1494 - val_accuracy: 0.9817\n",
            "Epoch 46/100\n",
            "375/375 [==============================] - 2s 4ms/step - loss: 0.0011 - accuracy: 0.9996 - val_loss: 0.1514 - val_accuracy: 0.9818\n",
            "Epoch 47/100\n",
            "375/375 [==============================] - 2s 4ms/step - loss: 0.0010 - accuracy: 0.9997 - val_loss: 0.1605 - val_accuracy: 0.9812\n",
            "Epoch 48/100\n",
            "375/375 [==============================] - 2s 4ms/step - loss: 0.0014 - accuracy: 0.9995 - val_loss: 0.1551 - val_accuracy: 0.9822\n",
            "Epoch 49/100\n",
            "375/375 [==============================] - 2s 4ms/step - loss: 0.0010 - accuracy: 0.9996 - val_loss: 0.1627 - val_accuracy: 0.9796\n",
            "Epoch 50/100\n",
            "375/375 [==============================] - 2s 4ms/step - loss: 0.0014 - accuracy: 0.9995 - val_loss: 0.1495 - val_accuracy: 0.9812\n",
            "Epoch 51/100\n",
            "375/375 [==============================] - 2s 4ms/step - loss: 0.0017 - accuracy: 0.9995 - val_loss: 0.1789 - val_accuracy: 0.9801\n",
            "Epoch 52/100\n",
            "375/375 [==============================] - 2s 4ms/step - loss: 0.0013 - accuracy: 0.9996 - val_loss: 0.1551 - val_accuracy: 0.9817\n",
            "Epoch 53/100\n",
            "375/375 [==============================] - 2s 5ms/step - loss: 0.0012 - accuracy: 0.9996 - val_loss: 0.1612 - val_accuracy: 0.9822\n",
            "Epoch 54/100\n",
            "375/375 [==============================] - 1s 4ms/step - loss: 8.5296e-04 - accuracy: 0.9998 - val_loss: 0.1482 - val_accuracy: 0.9831\n",
            "Epoch 55/100\n",
            "375/375 [==============================] - 2s 4ms/step - loss: 0.0024 - accuracy: 0.9994 - val_loss: 0.1480 - val_accuracy: 0.9822\n",
            "Epoch 56/100\n",
            "375/375 [==============================] - 2s 4ms/step - loss: 0.0016 - accuracy: 0.9995 - val_loss: 0.1548 - val_accuracy: 0.9819\n",
            "Epoch 57/100\n",
            "375/375 [==============================] - 2s 4ms/step - loss: 0.0018 - accuracy: 0.9995 - val_loss: 0.1506 - val_accuracy: 0.9821\n",
            "Epoch 58/100\n",
            "375/375 [==============================] - 1s 4ms/step - loss: 5.7925e-04 - accuracy: 0.9998 - val_loss: 0.1600 - val_accuracy: 0.9811\n",
            "Epoch 59/100\n",
            "375/375 [==============================] - 2s 4ms/step - loss: 7.5112e-04 - accuracy: 0.9997 - val_loss: 0.1589 - val_accuracy: 0.9813\n",
            "Epoch 60/100\n",
            "375/375 [==============================] - 2s 4ms/step - loss: 5.9496e-04 - accuracy: 0.9998 - val_loss: 0.1597 - val_accuracy: 0.9816\n",
            "Epoch 61/100\n",
            "375/375 [==============================] - 2s 4ms/step - loss: 0.0012 - accuracy: 0.9996 - val_loss: 0.1549 - val_accuracy: 0.9825\n",
            "Epoch 62/100\n",
            "375/375 [==============================] - 2s 4ms/step - loss: 0.0014 - accuracy: 0.9996 - val_loss: 0.1535 - val_accuracy: 0.9833\n",
            "Epoch 63/100\n",
            "375/375 [==============================] - 2s 4ms/step - loss: 9.3713e-04 - accuracy: 0.9998 - val_loss: 0.1564 - val_accuracy: 0.9827\n",
            "Epoch 64/100\n",
            "375/375 [==============================] - 2s 4ms/step - loss: 0.0015 - accuracy: 0.9995 - val_loss: 0.1713 - val_accuracy: 0.9820\n",
            "Epoch 65/100\n",
            "375/375 [==============================] - 2s 4ms/step - loss: 0.0010 - accuracy: 0.9996 - val_loss: 0.1595 - val_accuracy: 0.9830\n",
            "Epoch 66/100\n",
            "375/375 [==============================] - 1s 4ms/step - loss: 0.0011 - accuracy: 0.9996 - val_loss: 0.1535 - val_accuracy: 0.9828\n",
            "Epoch 67/100\n",
            "375/375 [==============================] - 2s 4ms/step - loss: 0.0011 - accuracy: 0.9997 - val_loss: 0.1586 - val_accuracy: 0.9824\n",
            "Epoch 68/100\n",
            "375/375 [==============================] - 1s 4ms/step - loss: 9.6001e-04 - accuracy: 0.9997 - val_loss: 0.1645 - val_accuracy: 0.9819\n",
            "Epoch 69/100\n",
            "375/375 [==============================] - 2s 4ms/step - loss: 0.0012 - accuracy: 0.9997 - val_loss: 0.1781 - val_accuracy: 0.9826\n",
            "Epoch 70/100\n",
            "375/375 [==============================] - 2s 4ms/step - loss: 0.0011 - accuracy: 0.9996 - val_loss: 0.1785 - val_accuracy: 0.9815\n",
            "Epoch 71/100\n",
            "375/375 [==============================] - 2s 4ms/step - loss: 6.3739e-04 - accuracy: 0.9998 - val_loss: 0.1813 - val_accuracy: 0.9818\n",
            "Epoch 72/100\n",
            "375/375 [==============================] - 2s 4ms/step - loss: 8.7874e-04 - accuracy: 0.9996 - val_loss: 0.1785 - val_accuracy: 0.9818\n",
            "Epoch 73/100\n",
            "375/375 [==============================] - 1s 4ms/step - loss: 7.7627e-04 - accuracy: 0.9997 - val_loss: 0.1666 - val_accuracy: 0.9829\n",
            "Epoch 74/100\n",
            "375/375 [==============================] - 2s 4ms/step - loss: 6.9531e-04 - accuracy: 0.9997 - val_loss: 0.1903 - val_accuracy: 0.9822\n",
            "Epoch 75/100\n",
            "375/375 [==============================] - 2s 4ms/step - loss: 6.4887e-04 - accuracy: 0.9998 - val_loss: 0.1872 - val_accuracy: 0.9811\n",
            "Epoch 76/100\n",
            "375/375 [==============================] - 2s 4ms/step - loss: 9.5234e-04 - accuracy: 0.9998 - val_loss: 0.1937 - val_accuracy: 0.9804\n",
            "Epoch 77/100\n",
            "375/375 [==============================] - 2s 4ms/step - loss: 7.5961e-04 - accuracy: 0.9998 - val_loss: 0.1706 - val_accuracy: 0.9821\n",
            "Epoch 78/100\n",
            "375/375 [==============================] - 2s 4ms/step - loss: 6.3460e-04 - accuracy: 0.9998 - val_loss: 0.1857 - val_accuracy: 0.9811\n",
            "Epoch 79/100\n",
            "375/375 [==============================] - 2s 4ms/step - loss: 3.9060e-04 - accuracy: 0.9999 - val_loss: 0.1762 - val_accuracy: 0.9816\n",
            "Epoch 80/100\n",
            "375/375 [==============================] - 2s 4ms/step - loss: 0.0011 - accuracy: 0.9996 - val_loss: 0.1752 - val_accuracy: 0.9819\n",
            "Epoch 81/100\n",
            "375/375 [==============================] - 2s 5ms/step - loss: 6.9687e-04 - accuracy: 0.9998 - val_loss: 0.1724 - val_accuracy: 0.9835\n",
            "Epoch 82/100\n",
            "375/375 [==============================] - 2s 5ms/step - loss: 6.0312e-04 - accuracy: 0.9998 - val_loss: 0.1806 - val_accuracy: 0.9828\n",
            "Epoch 83/100\n",
            "375/375 [==============================] - 2s 5ms/step - loss: 2.7127e-04 - accuracy: 0.9999 - val_loss: 0.1827 - val_accuracy: 0.9825\n",
            "Epoch 84/100\n",
            "375/375 [==============================] - 2s 4ms/step - loss: 0.0011 - accuracy: 0.9997 - val_loss: 0.1978 - val_accuracy: 0.9805\n",
            "Epoch 85/100\n",
            "375/375 [==============================] - 2s 4ms/step - loss: 6.7110e-04 - accuracy: 0.9997 - val_loss: 0.1793 - val_accuracy: 0.9813\n",
            "Epoch 86/100\n",
            "375/375 [==============================] - 2s 4ms/step - loss: 5.0389e-04 - accuracy: 0.9998 - val_loss: 0.2063 - val_accuracy: 0.9807\n",
            "Epoch 87/100\n",
            "375/375 [==============================] - 2s 5ms/step - loss: 5.6470e-04 - accuracy: 0.9999 - val_loss: 0.1819 - val_accuracy: 0.9812\n",
            "Epoch 88/100\n",
            "375/375 [==============================] - 2s 5ms/step - loss: 6.3082e-04 - accuracy: 0.9998 - val_loss: 0.1989 - val_accuracy: 0.9803\n",
            "Epoch 89/100\n",
            "375/375 [==============================] - 2s 5ms/step - loss: 7.4520e-04 - accuracy: 0.9998 - val_loss: 0.1907 - val_accuracy: 0.9794\n",
            "Epoch 90/100\n",
            "375/375 [==============================] - 2s 4ms/step - loss: 7.7282e-04 - accuracy: 0.9997 - val_loss: 0.1782 - val_accuracy: 0.9821\n",
            "Epoch 91/100\n",
            "375/375 [==============================] - 2s 5ms/step - loss: 4.2086e-04 - accuracy: 0.9999 - val_loss: 0.1772 - val_accuracy: 0.9819\n",
            "Epoch 92/100\n",
            "375/375 [==============================] - 2s 4ms/step - loss: 7.1183e-04 - accuracy: 0.9998 - val_loss: 0.2101 - val_accuracy: 0.9803\n",
            "Epoch 93/100\n",
            "375/375 [==============================] - 2s 4ms/step - loss: 6.3276e-04 - accuracy: 0.9999 - val_loss: 0.2074 - val_accuracy: 0.9803\n",
            "Epoch 94/100\n",
            "375/375 [==============================] - 2s 4ms/step - loss: 1.7989e-04 - accuracy: 1.0000 - val_loss: 0.2084 - val_accuracy: 0.9802\n",
            "Epoch 95/100\n",
            "375/375 [==============================] - 2s 4ms/step - loss: 5.9820e-04 - accuracy: 0.9998 - val_loss: 0.1899 - val_accuracy: 0.9814\n",
            "Epoch 96/100\n",
            "375/375 [==============================] - 2s 4ms/step - loss: 5.8918e-04 - accuracy: 0.9998 - val_loss: 0.1990 - val_accuracy: 0.9813\n",
            "Epoch 97/100\n",
            "375/375 [==============================] - 1s 4ms/step - loss: 3.1737e-04 - accuracy: 1.0000 - val_loss: 0.2056 - val_accuracy: 0.9821\n",
            "Epoch 98/100\n",
            "375/375 [==============================] - 2s 4ms/step - loss: 6.4621e-04 - accuracy: 0.9998 - val_loss: 0.1956 - val_accuracy: 0.9822\n",
            "Epoch 99/100\n",
            "375/375 [==============================] - 2s 4ms/step - loss: 5.9157e-04 - accuracy: 0.9998 - val_loss: 0.1982 - val_accuracy: 0.9811\n",
            "Epoch 100/100\n",
            "375/375 [==============================] - 2s 4ms/step - loss: 4.8511e-04 - accuracy: 0.9998 - val_loss: 0.1969 - val_accuracy: 0.9823\n",
            "CPU times: user 2min 54s, sys: 18.7 s, total: 3min 13s\n",
            "Wall time: 2min 39s\n"
          ],
          "name": "stdout"
        }
      ]
    },
    {
      "cell_type": "code",
      "metadata": {
        "colab": {
          "base_uri": "https://localhost:8080/",
          "height": 404
        },
        "id": "pZLWIFmotmW-",
        "outputId": "49daf16c-4249-40ba-d6db-c462c39b63f0"
      },
      "source": [
        "import matplotlib.pyplot as plt\n",
        "\n",
        "epochs = range(1, len(Hist_mnist_bn.history['loss']) + 1)\n",
        "\n",
        "plt.figure(figsize = (9, 6))\n",
        "plt.plot(epochs, Hist_mnist_bn.history['loss'])\n",
        "plt.plot(epochs, Hist_mnist_bn.history['val_loss'])\n",
        "# plt.ylim(0, 0.25)\n",
        "plt.title('Training & Validation Loss')\n",
        "plt.xlabel('Epochs')\n",
        "plt.ylabel('Loss')\n",
        "plt.legend(['Training Loss', 'Validation Loss'])\n",
        "plt.grid()\n",
        "plt.show()"
      ],
      "execution_count": 65,
      "outputs": [
        {
          "output_type": "display_data",
          "data": {
            "image/png": "[encoded data removed]",
            "text/plain": [
              "<Figure size 648x432 with 1 Axes>"
            ]
          },
          "metadata": {
            "tags": [],
            "needs_background": "light"
          }
        }
      ]
    },
    {
      "cell_type": "code",
      "metadata": {
        "colab": {
          "base_uri": "https://localhost:8080/"
        },
        "id": "8l7GhkcCuHkg",
        "outputId": "39d13078-9cfc-45dc-b211-b9c5e5e38fb8"
      },
      "source": [
        "loss, accuracy = mnist_bn.evaluate(X_test, y_test)\n",
        "\n",
        "print('Loss = {:.5f}'.format(loss))\n",
        "print('Accuracy = {:.5f}'.format(accuracy))"
      ],
      "execution_count": 69,
      "outputs": [
        {
          "output_type": "stream",
          "text": [
            "313/313 [==============================] - 1s 2ms/step - loss: 0.1758 - accuracy: 0.9832\n",
            "Loss = 0.17579\n",
            "Accuracy = 0.98320\n"
          ],
          "name": "stdout"
        }
      ]
    },
    {
      "cell_type": "markdown",
      "metadata": {
        "id": "aA0c1tuUuHuZ"
      },
      "source": [
        "## L2 Regularization & Dropout"
      ]
    },
    {
      "cell_type": "code",
      "metadata": {
        "id": "z-OjEyfQuHuZ"
      },
      "source": [
        "# Model Define - L2 Regularization & Dropout\n",
        "from tensorflow.keras import models\n",
        "from tensorflow.keras import layers\n",
        "from tensorflow.keras import regularizers\n",
        "\n",
        "mnist_dl2 = models.Sequential()\n",
        "mnist_dl2.add(layers.Dense(512, activation = 'relu',\n",
        "                          kernel_regularizer = regularizers.l2(0.00001),\n",
        "                          input_shape = (28 * 28, )))\n",
        "mnist_dl2.add(layers.Dropout(0.4))\n",
        "mnist_dl2.add(layers.Dense(256, activation = 'relu',\n",
        "                          kernel_regularizer = regularizers.l2(0.00001)))\n",
        "mnist_dl2.add(layers.Dropout(0.2))\n",
        "mnist_dl2.add(layers.Dense(10, activation = 'softmax'))"
      ],
      "execution_count": 70,
      "outputs": []
    },
    {
      "cell_type": "code",
      "metadata": {
        "colab": {
          "base_uri": "https://localhost:8080/"
        },
        "id": "SnzlWhQguHuZ",
        "outputId": "ec7070b6-ea65-4516-e8ce-60dd982213b4"
      },
      "source": [
        "mnist_dl2.summary()"
      ],
      "execution_count": 71,
      "outputs": [
        {
          "output_type": "stream",
          "text": [
            "Model: \"sequential_5\"\n",
            "_________________________________________________________________\n",
            "Layer (type)                 Output Shape              Param #   \n",
            "=================================================================\n",
            "dense_15 (Dense)             (None, 512)               401920    \n",
            "_________________________________________________________________\n",
            "dropout_2 (Dropout)          (None, 512)               0         \n",
            "_________________________________________________________________\n",
            "dense_16 (Dense)             (None, 256)               131328    \n",
            "_________________________________________________________________\n",
            "dropout_3 (Dropout)          (None, 256)               0         \n",
            "_________________________________________________________________\n",
            "dense_17 (Dense)             (None, 10)                2570      \n",
            "=================================================================\n",
            "Total params: 535,818\n",
            "Trainable params: 535,818\n",
            "Non-trainable params: 0\n",
            "_________________________________________________________________\n"
          ],
          "name": "stdout"
        }
      ]
    },
    {
      "cell_type": "code",
      "metadata": {
        "id": "3CwPIOo7uHua"
      },
      "source": [
        "mnist_dl2.compile(loss = 'categorical_crossentropy',\n",
        "              optimizer = 'rmsprop',\n",
        "              metrics = ['accuracy'])"
      ],
      "execution_count": 72,
      "outputs": []
    },
    {
      "cell_type": "code",
      "metadata": {
        "colab": {
          "base_uri": "https://localhost:8080/"
        },
        "id": "CncmQl4muHub",
        "outputId": "6b379b19-9fff-4031-bfdd-79e11ec6914b"
      },
      "source": [
        "%%time\n",
        "\n",
        "Hist_mnist_dl2 = mnist_dl2.fit(X_train, y_train,\n",
        "                       epochs = 100,\n",
        "                       batch_size = 128,\n",
        "                       validation_split = 0.2)"
      ],
      "execution_count": 73,
      "outputs": [
        {
          "output_type": "stream",
          "text": [
            "Epoch 1/100\n",
            "375/375 [==============================] - 2s 4ms/step - loss: 0.3305 - accuracy: 0.9011 - val_loss: 0.1486 - val_accuracy: 0.9594\n",
            "Epoch 2/100\n",
            "375/375 [==============================] - 1s 4ms/step - loss: 0.1542 - accuracy: 0.9559 - val_loss: 0.1187 - val_accuracy: 0.9667\n",
            "Epoch 3/100\n",
            "375/375 [==============================] - 1s 4ms/step - loss: 0.1234 - accuracy: 0.9660 - val_loss: 0.1126 - val_accuracy: 0.9709\n",
            "Epoch 4/100\n",
            "375/375 [==============================] - 1s 4ms/step - loss: 0.1064 - accuracy: 0.9712 - val_loss: 0.0953 - val_accuracy: 0.9753\n",
            "Epoch 5/100\n",
            "375/375 [==============================] - 1s 4ms/step - loss: 0.0929 - accuracy: 0.9749 - val_loss: 0.1016 - val_accuracy: 0.9752\n",
            "Epoch 6/100\n",
            "375/375 [==============================] - 1s 4ms/step - loss: 0.0871 - accuracy: 0.9775 - val_loss: 0.0914 - val_accuracy: 0.9784\n",
            "Epoch 7/100\n",
            "375/375 [==============================] - 1s 4ms/step - loss: 0.0803 - accuracy: 0.9796 - val_loss: 0.0954 - val_accuracy: 0.9783\n",
            "Epoch 8/100\n",
            "375/375 [==============================] - 1s 4ms/step - loss: 0.0767 - accuracy: 0.9800 - val_loss: 0.0980 - val_accuracy: 0.9777\n",
            "Epoch 9/100\n",
            "375/375 [==============================] - 1s 4ms/step - loss: 0.0710 - accuracy: 0.9820 - val_loss: 0.1004 - val_accuracy: 0.9775\n",
            "Epoch 10/100\n",
            "375/375 [==============================] - 1s 4ms/step - loss: 0.0691 - accuracy: 0.9829 - val_loss: 0.0930 - val_accuracy: 0.9791\n",
            "Epoch 11/100\n",
            "375/375 [==============================] - 1s 4ms/step - loss: 0.0676 - accuracy: 0.9831 - val_loss: 0.0978 - val_accuracy: 0.9796\n",
            "Epoch 12/100\n",
            "375/375 [==============================] - 1s 4ms/step - loss: 0.0653 - accuracy: 0.9832 - val_loss: 0.0955 - val_accuracy: 0.9806\n",
            "Epoch 13/100\n",
            "375/375 [==============================] - 1s 4ms/step - loss: 0.0655 - accuracy: 0.9840 - val_loss: 0.1049 - val_accuracy: 0.9779\n",
            "Epoch 14/100\n",
            "375/375 [==============================] - 1s 4ms/step - loss: 0.0629 - accuracy: 0.9846 - val_loss: 0.0931 - val_accuracy: 0.9814\n",
            "Epoch 15/100\n",
            "375/375 [==============================] - 1s 4ms/step - loss: 0.0626 - accuracy: 0.9853 - val_loss: 0.1005 - val_accuracy: 0.9800\n",
            "Epoch 16/100\n",
            "375/375 [==============================] - 1s 4ms/step - loss: 0.0603 - accuracy: 0.9858 - val_loss: 0.0967 - val_accuracy: 0.9809\n",
            "Epoch 17/100\n",
            "375/375 [==============================] - 1s 4ms/step - loss: 0.0596 - accuracy: 0.9859 - val_loss: 0.0945 - val_accuracy: 0.9804\n",
            "Epoch 18/100\n",
            "375/375 [==============================] - 1s 4ms/step - loss: 0.0586 - accuracy: 0.9866 - val_loss: 0.0981 - val_accuracy: 0.9800\n",
            "Epoch 19/100\n",
            "375/375 [==============================] - 1s 4ms/step - loss: 0.0573 - accuracy: 0.9866 - val_loss: 0.1081 - val_accuracy: 0.9804\n",
            "Epoch 20/100\n",
            "375/375 [==============================] - 1s 4ms/step - loss: 0.0574 - accuracy: 0.9865 - val_loss: 0.0999 - val_accuracy: 0.9812\n",
            "Epoch 21/100\n",
            "375/375 [==============================] - 1s 4ms/step - loss: 0.0535 - accuracy: 0.9875 - val_loss: 0.0898 - val_accuracy: 0.9816\n",
            "Epoch 22/100\n",
            "375/375 [==============================] - 1s 3ms/step - loss: 0.0548 - accuracy: 0.9872 - val_loss: 0.1044 - val_accuracy: 0.9798\n",
            "Epoch 23/100\n",
            "375/375 [==============================] - 1s 4ms/step - loss: 0.0542 - accuracy: 0.9881 - val_loss: 0.1144 - val_accuracy: 0.9792\n",
            "Epoch 24/100\n",
            "375/375 [==============================] - 1s 3ms/step - loss: 0.0540 - accuracy: 0.9880 - val_loss: 0.1086 - val_accuracy: 0.9812\n",
            "Epoch 25/100\n",
            "375/375 [==============================] - 1s 4ms/step - loss: 0.0535 - accuracy: 0.9879 - val_loss: 0.0918 - val_accuracy: 0.9818\n",
            "Epoch 26/100\n",
            "375/375 [==============================] - 1s 4ms/step - loss: 0.0521 - accuracy: 0.9875 - val_loss: 0.1158 - val_accuracy: 0.9790\n",
            "Epoch 27/100\n",
            "375/375 [==============================] - 1s 4ms/step - loss: 0.0530 - accuracy: 0.9882 - val_loss: 0.1029 - val_accuracy: 0.9820\n",
            "Epoch 28/100\n",
            "375/375 [==============================] - 1s 3ms/step - loss: 0.0509 - accuracy: 0.9877 - val_loss: 0.1067 - val_accuracy: 0.9815\n",
            "Epoch 29/100\n",
            "375/375 [==============================] - 1s 4ms/step - loss: 0.0503 - accuracy: 0.9883 - val_loss: 0.1047 - val_accuracy: 0.9818\n",
            "Epoch 30/100\n",
            "375/375 [==============================] - 1s 4ms/step - loss: 0.0512 - accuracy: 0.9885 - val_loss: 0.1025 - val_accuracy: 0.9817\n",
            "Epoch 31/100\n",
            "375/375 [==============================] - 1s 4ms/step - loss: 0.0505 - accuracy: 0.9880 - val_loss: 0.1042 - val_accuracy: 0.9807\n",
            "Epoch 32/100\n",
            "375/375 [==============================] - 1s 3ms/step - loss: 0.0517 - accuracy: 0.9884 - val_loss: 0.1117 - val_accuracy: 0.9808\n",
            "Epoch 33/100\n",
            "375/375 [==============================] - 1s 4ms/step - loss: 0.0500 - accuracy: 0.9884 - val_loss: 0.1144 - val_accuracy: 0.9811\n",
            "Epoch 34/100\n",
            "375/375 [==============================] - 1s 3ms/step - loss: 0.0488 - accuracy: 0.9892 - val_loss: 0.1038 - val_accuracy: 0.9832\n",
            "Epoch 35/100\n",
            "375/375 [==============================] - 1s 4ms/step - loss: 0.0506 - accuracy: 0.9885 - val_loss: 0.1048 - val_accuracy: 0.9827\n",
            "Epoch 36/100\n",
            "375/375 [==============================] - 1s 4ms/step - loss: 0.0485 - accuracy: 0.9895 - val_loss: 0.1028 - val_accuracy: 0.9818\n",
            "Epoch 37/100\n",
            "375/375 [==============================] - 1s 3ms/step - loss: 0.0499 - accuracy: 0.9887 - val_loss: 0.1029 - val_accuracy: 0.9818\n",
            "Epoch 38/100\n",
            "375/375 [==============================] - 1s 3ms/step - loss: 0.0524 - accuracy: 0.9887 - val_loss: 0.1106 - val_accuracy: 0.9789\n",
            "Epoch 39/100\n",
            "375/375 [==============================] - 1s 4ms/step - loss: 0.0506 - accuracy: 0.9886 - val_loss: 0.1095 - val_accuracy: 0.9815\n",
            "Epoch 40/100\n",
            "375/375 [==============================] - 1s 3ms/step - loss: 0.0501 - accuracy: 0.9890 - val_loss: 0.1019 - val_accuracy: 0.9824\n",
            "Epoch 41/100\n",
            "375/375 [==============================] - 1s 4ms/step - loss: 0.0461 - accuracy: 0.9895 - val_loss: 0.1064 - val_accuracy: 0.9815\n",
            "Epoch 42/100\n",
            "375/375 [==============================] - 1s 4ms/step - loss: 0.0509 - accuracy: 0.9890 - val_loss: 0.1083 - val_accuracy: 0.9808\n",
            "Epoch 43/100\n",
            "375/375 [==============================] - 1s 4ms/step - loss: 0.0477 - accuracy: 0.9899 - val_loss: 0.1014 - val_accuracy: 0.9821\n",
            "Epoch 44/100\n",
            "375/375 [==============================] - 1s 4ms/step - loss: 0.0491 - accuracy: 0.9888 - val_loss: 0.1097 - val_accuracy: 0.9826\n",
            "Epoch 45/100\n",
            "375/375 [==============================] - 1s 4ms/step - loss: 0.0511 - accuracy: 0.9893 - val_loss: 0.1053 - val_accuracy: 0.9818\n",
            "Epoch 46/100\n",
            "375/375 [==============================] - 1s 3ms/step - loss: 0.0493 - accuracy: 0.9893 - val_loss: 0.1123 - val_accuracy: 0.9821\n",
            "Epoch 47/100\n",
            "375/375 [==============================] - 1s 3ms/step - loss: 0.0495 - accuracy: 0.9891 - val_loss: 0.1144 - val_accuracy: 0.9821\n",
            "Epoch 48/100\n",
            "375/375 [==============================] - 1s 4ms/step - loss: 0.0478 - accuracy: 0.9898 - val_loss: 0.1135 - val_accuracy: 0.9809\n",
            "Epoch 49/100\n",
            "375/375 [==============================] - 1s 4ms/step - loss: 0.0475 - accuracy: 0.9892 - val_loss: 0.1052 - val_accuracy: 0.9824\n",
            "Epoch 50/100\n",
            "375/375 [==============================] - 1s 4ms/step - loss: 0.0520 - accuracy: 0.9886 - val_loss: 0.1058 - val_accuracy: 0.9825\n",
            "Epoch 51/100\n",
            "375/375 [==============================] - 1s 4ms/step - loss: 0.0482 - accuracy: 0.9898 - val_loss: 0.1112 - val_accuracy: 0.9806\n",
            "Epoch 52/100\n",
            "375/375 [==============================] - 1s 4ms/step - loss: 0.0503 - accuracy: 0.9892 - val_loss: 0.1091 - val_accuracy: 0.9822\n",
            "Epoch 53/100\n",
            "375/375 [==============================] - 1s 4ms/step - loss: 0.0471 - accuracy: 0.9898 - val_loss: 0.1121 - val_accuracy: 0.9821\n",
            "Epoch 54/100\n",
            "375/375 [==============================] - 1s 4ms/step - loss: 0.0458 - accuracy: 0.9901 - val_loss: 0.1142 - val_accuracy: 0.9808\n",
            "Epoch 55/100\n",
            "375/375 [==============================] - 1s 4ms/step - loss: 0.0488 - accuracy: 0.9892 - val_loss: 0.1095 - val_accuracy: 0.9827\n",
            "Epoch 56/100\n",
            "375/375 [==============================] - 1s 4ms/step - loss: 0.0479 - accuracy: 0.9899 - val_loss: 0.1102 - val_accuracy: 0.9816\n",
            "Epoch 57/100\n",
            "375/375 [==============================] - 1s 4ms/step - loss: 0.0497 - accuracy: 0.9899 - val_loss: 0.1133 - val_accuracy: 0.9815\n",
            "Epoch 58/100\n",
            "375/375 [==============================] - 1s 4ms/step - loss: 0.0496 - accuracy: 0.9897 - val_loss: 0.1078 - val_accuracy: 0.9817\n",
            "Epoch 59/100\n",
            "375/375 [==============================] - 1s 4ms/step - loss: 0.0502 - accuracy: 0.9892 - val_loss: 0.1196 - val_accuracy: 0.9828\n",
            "Epoch 60/100\n",
            "375/375 [==============================] - 1s 4ms/step - loss: 0.0468 - accuracy: 0.9897 - val_loss: 0.1118 - val_accuracy: 0.9833\n",
            "Epoch 61/100\n",
            "375/375 [==============================] - 1s 4ms/step - loss: 0.0505 - accuracy: 0.9898 - val_loss: 0.1114 - val_accuracy: 0.9812\n",
            "Epoch 62/100\n",
            "375/375 [==============================] - 1s 4ms/step - loss: 0.0474 - accuracy: 0.9896 - val_loss: 0.1084 - val_accuracy: 0.9831\n",
            "Epoch 63/100\n",
            "375/375 [==============================] - 1s 4ms/step - loss: 0.0504 - accuracy: 0.9900 - val_loss: 0.1046 - val_accuracy: 0.9813\n",
            "Epoch 64/100\n",
            "375/375 [==============================] - 1s 4ms/step - loss: 0.0480 - accuracy: 0.9900 - val_loss: 0.1072 - val_accuracy: 0.9827\n",
            "Epoch 65/100\n",
            "375/375 [==============================] - 1s 3ms/step - loss: 0.0486 - accuracy: 0.9903 - val_loss: 0.1064 - val_accuracy: 0.9820\n",
            "Epoch 66/100\n",
            "375/375 [==============================] - 1s 3ms/step - loss: 0.0490 - accuracy: 0.9894 - val_loss: 0.1070 - val_accuracy: 0.9825\n",
            "Epoch 67/100\n",
            "375/375 [==============================] - 1s 4ms/step - loss: 0.0489 - accuracy: 0.9898 - val_loss: 0.1161 - val_accuracy: 0.9822\n",
            "Epoch 68/100\n",
            "375/375 [==============================] - 1s 3ms/step - loss: 0.0475 - accuracy: 0.9898 - val_loss: 0.1172 - val_accuracy: 0.9818\n",
            "Epoch 69/100\n",
            "375/375 [==============================] - 1s 4ms/step - loss: 0.0479 - accuracy: 0.9899 - val_loss: 0.1097 - val_accuracy: 0.9827\n",
            "Epoch 70/100\n",
            "375/375 [==============================] - 1s 3ms/step - loss: 0.0484 - accuracy: 0.9898 - val_loss: 0.1163 - val_accuracy: 0.9831\n",
            "Epoch 71/100\n",
            "375/375 [==============================] - 1s 4ms/step - loss: 0.0508 - accuracy: 0.9896 - val_loss: 0.1096 - val_accuracy: 0.9834\n",
            "Epoch 72/100\n",
            "375/375 [==============================] - 1s 4ms/step - loss: 0.0491 - accuracy: 0.9903 - val_loss: 0.1151 - val_accuracy: 0.9826\n",
            "Epoch 73/100\n",
            "375/375 [==============================] - 1s 4ms/step - loss: 0.0458 - accuracy: 0.9907 - val_loss: 0.1118 - val_accuracy: 0.9832\n",
            "Epoch 74/100\n",
            "375/375 [==============================] - 1s 4ms/step - loss: 0.0493 - accuracy: 0.9900 - val_loss: 0.1161 - val_accuracy: 0.9819\n",
            "Epoch 75/100\n",
            "375/375 [==============================] - 1s 4ms/step - loss: 0.0502 - accuracy: 0.9901 - val_loss: 0.1148 - val_accuracy: 0.9834\n",
            "Epoch 76/100\n",
            "375/375 [==============================] - 1s 4ms/step - loss: 0.0467 - accuracy: 0.9906 - val_loss: 0.1225 - val_accuracy: 0.9830\n",
            "Epoch 77/100\n",
            "375/375 [==============================] - 1s 4ms/step - loss: 0.0489 - accuracy: 0.9903 - val_loss: 0.1190 - val_accuracy: 0.9810\n",
            "Epoch 78/100\n",
            "375/375 [==============================] - 1s 4ms/step - loss: 0.0471 - accuracy: 0.9905 - val_loss: 0.1158 - val_accuracy: 0.9818\n",
            "Epoch 79/100\n",
            "375/375 [==============================] - 1s 4ms/step - loss: 0.0476 - accuracy: 0.9900 - val_loss: 0.1202 - val_accuracy: 0.9817\n",
            "Epoch 80/100\n",
            "375/375 [==============================] - 1s 4ms/step - loss: 0.0479 - accuracy: 0.9903 - val_loss: 0.1235 - val_accuracy: 0.9821\n",
            "Epoch 81/100\n",
            "375/375 [==============================] - 1s 4ms/step - loss: 0.0501 - accuracy: 0.9906 - val_loss: 0.1165 - val_accuracy: 0.9815\n",
            "Epoch 82/100\n",
            "375/375 [==============================] - 1s 4ms/step - loss: 0.0485 - accuracy: 0.9899 - val_loss: 0.1209 - val_accuracy: 0.9827\n",
            "Epoch 83/100\n",
            "375/375 [==============================] - 1s 4ms/step - loss: 0.0466 - accuracy: 0.9902 - val_loss: 0.1224 - val_accuracy: 0.9818\n",
            "Epoch 84/100\n",
            "375/375 [==============================] - 1s 4ms/step - loss: 0.0502 - accuracy: 0.9896 - val_loss: 0.1214 - val_accuracy: 0.9811\n",
            "Epoch 85/100\n",
            "375/375 [==============================] - 1s 4ms/step - loss: 0.0490 - accuracy: 0.9903 - val_loss: 0.1061 - val_accuracy: 0.9837\n",
            "Epoch 86/100\n",
            "375/375 [==============================] - 1s 4ms/step - loss: 0.0517 - accuracy: 0.9902 - val_loss: 0.1134 - val_accuracy: 0.9818\n",
            "Epoch 87/100\n",
            "375/375 [==============================] - 1s 4ms/step - loss: 0.0500 - accuracy: 0.9894 - val_loss: 0.1159 - val_accuracy: 0.9804\n",
            "Epoch 88/100\n",
            "375/375 [==============================] - 1s 4ms/step - loss: 0.0479 - accuracy: 0.9899 - val_loss: 0.1223 - val_accuracy: 0.9815\n",
            "Epoch 89/100\n",
            "375/375 [==============================] - 1s 3ms/step - loss: 0.0467 - accuracy: 0.9895 - val_loss: 0.1174 - val_accuracy: 0.9828\n",
            "Epoch 90/100\n",
            "375/375 [==============================] - 1s 3ms/step - loss: 0.0497 - accuracy: 0.9905 - val_loss: 0.1212 - val_accuracy: 0.9822\n",
            "Epoch 91/100\n",
            "375/375 [==============================] - 1s 3ms/step - loss: 0.0501 - accuracy: 0.9902 - val_loss: 0.1221 - val_accuracy: 0.9795\n",
            "Epoch 92/100\n",
            "375/375 [==============================] - 1s 4ms/step - loss: 0.0465 - accuracy: 0.9904 - val_loss: 0.1244 - val_accuracy: 0.9823\n",
            "Epoch 93/100\n",
            "375/375 [==============================] - 1s 4ms/step - loss: 0.0490 - accuracy: 0.9900 - val_loss: 0.1133 - val_accuracy: 0.9818\n",
            "Epoch 94/100\n",
            "375/375 [==============================] - 1s 3ms/step - loss: 0.0503 - accuracy: 0.9901 - val_loss: 0.1166 - val_accuracy: 0.9826\n",
            "Epoch 95/100\n",
            "375/375 [==============================] - 1s 3ms/step - loss: 0.0484 - accuracy: 0.9909 - val_loss: 0.1278 - val_accuracy: 0.9808\n",
            "Epoch 96/100\n",
            "375/375 [==============================] - 1s 4ms/step - loss: 0.0477 - accuracy: 0.9901 - val_loss: 0.1191 - val_accuracy: 0.9838\n",
            "Epoch 97/100\n",
            "375/375 [==============================] - 1s 4ms/step - loss: 0.0455 - accuracy: 0.9909 - val_loss: 0.1293 - val_accuracy: 0.9820\n",
            "Epoch 98/100\n",
            "375/375 [==============================] - 1s 4ms/step - loss: 0.0490 - accuracy: 0.9903 - val_loss: 0.1206 - val_accuracy: 0.9813\n",
            "Epoch 99/100\n",
            "375/375 [==============================] - 1s 4ms/step - loss: 0.0500 - accuracy: 0.9898 - val_loss: 0.1160 - val_accuracy: 0.9818\n",
            "Epoch 100/100\n",
            "375/375 [==============================] - 1s 3ms/step - loss: 0.0472 - accuracy: 0.9908 - val_loss: 0.1215 - val_accuracy: 0.9814\n",
            "CPU times: user 2min 33s, sys: 17.7 s, total: 2min 51s\n",
            "Wall time: 2min 18s\n"
          ],
          "name": "stdout"
        }
      ]
    },
    {
      "cell_type": "code",
      "metadata": {
        "colab": {
          "base_uri": "https://localhost:8080/",
          "height": 404
        },
        "id": "qIUVYlKXuHub",
        "outputId": "99d22fd0-1d3f-46dc-df66-3b2237b3b764"
      },
      "source": [
        "import matplotlib.pyplot as plt\n",
        "\n",
        "epochs = range(1, len(Hist_mnist_dl2.history['loss']) + 1)\n",
        "\n",
        "plt.figure(figsize = (9, 6))\n",
        "plt.plot(epochs, Hist_mnist_dl2.history['loss'])\n",
        "plt.plot(epochs, Hist_mnist_dl2.history['val_loss'])\n",
        "# plt.ylim(0, 0.25)\n",
        "plt.title('Training & Validation Loss')\n",
        "plt.xlabel('Epochs')\n",
        "plt.ylabel('Loss')\n",
        "plt.legend(['Training Loss', 'Validation Loss'])\n",
        "plt.grid()\n",
        "plt.show()"
      ],
      "execution_count": 74,
      "outputs": [
        {
          "output_type": "display_data",
          "data": {
            "image/png": "[encoded data removed]",
            "text/plain": [
              "<Figure size 648x432 with 1 Axes>"
            ]
          },
          "metadata": {
            "tags": [],
            "needs_background": "light"
          }
        }
      ]
    },
    {
      "cell_type": "code",
      "metadata": {
        "colab": {
          "base_uri": "https://localhost:8080/"
        },
        "id": "gtWtxAGtuHuc",
        "outputId": "9afcab54-6c5e-446a-99eb-d7df399020e9"
      },
      "source": [
        "loss, accuracy = mnist_dl2.evaluate(X_test, y_test)\n",
        "\n",
        "print('Loss = {:.5f}'.format(loss))\n",
        "print('Accuracy = {:.5f}'.format(accuracy))"
      ],
      "execution_count": 75,
      "outputs": [
        {
          "output_type": "stream",
          "text": [
            "313/313 [==============================] - 1s 2ms/step - loss: 0.1089 - accuracy: 0.9839\n",
            "Loss = 0.10887\n",
            "Accuracy = 0.98390\n"
          ],
          "name": "stdout"
        }
      ]
    },
    {
      "cell_type": "markdown",
      "metadata": {
        "id": "IWervQ_K4V4W"
      },
      "source": [
        "## Batch Normalization & L2 Regularization"
      ]
    },
    {
      "cell_type": "code",
      "metadata": {
        "id": "nwlcDzm_4X6d"
      },
      "source": [
        "# Model Define - Batch Normalization & L2 Regularization\n",
        "from tensorflow.keras import models\n",
        "from tensorflow.keras import layers\n",
        "from tensorflow.keras import regularizers\n",
        "\n",
        "mnist_bl2 = models.Sequential()\n",
        "mnist_bl2.add(layers.Dense(512, \n",
        "                           kernel_regularizer = regularizers.l2(0.00001),\n",
        "                           input_shape = (28 * 28, )))\n",
        "mnist_bl2.add(layers.BatchNormalization())\n",
        "mnist_bl2.add(layers.Activation('relu'))\n",
        "mnist_bl2.add(layers.Dense(256,\n",
        "                           kernel_regularizer = regularizers.l2(0.00001)))\n",
        "mnist_bl2.add(layers.BatchNormalization())\n",
        "mnist_bl2.add(layers.Activation('relu'))\n",
        "mnist_bl2.add(layers.Dense(10, activation = 'softmax'))"
      ],
      "execution_count": 76,
      "outputs": []
    },
    {
      "cell_type": "code",
      "metadata": {
        "colab": {
          "base_uri": "https://localhost:8080/"
        },
        "id": "7Sc3HjFN4ldH",
        "outputId": "a5ad71ef-43cf-4d46-caaa-acbcfd12f126"
      },
      "source": [
        "mnist_bl2.summary()"
      ],
      "execution_count": 77,
      "outputs": [
        {
          "output_type": "stream",
          "text": [
            "Model: \"sequential_6\"\n",
            "_________________________________________________________________\n",
            "Layer (type)                 Output Shape              Param #   \n",
            "=================================================================\n",
            "dense_18 (Dense)             (None, 512)               401920    \n",
            "_________________________________________________________________\n",
            "batch_normalization_2 (Batch (None, 512)               2048      \n",
            "_________________________________________________________________\n",
            "activation_2 (Activation)    (None, 512)               0         \n",
            "_________________________________________________________________\n",
            "dense_19 (Dense)             (None, 256)               131328    \n",
            "_________________________________________________________________\n",
            "batch_normalization_3 (Batch (None, 256)               1024      \n",
            "_________________________________________________________________\n",
            "activation_3 (Activation)    (None, 256)               0         \n",
            "_________________________________________________________________\n",
            "dense_20 (Dense)             (None, 10)                2570      \n",
            "=================================================================\n",
            "Total params: 538,890\n",
            "Trainable params: 537,354\n",
            "Non-trainable params: 1,536\n",
            "_________________________________________________________________\n"
          ],
          "name": "stdout"
        }
      ]
    },
    {
      "cell_type": "code",
      "metadata": {
        "id": "WN_1ml804mMS"
      },
      "source": [
        "mnist_bl2.compile(loss = 'categorical_crossentropy',\n",
        "              optimizer = 'rmsprop',\n",
        "              metrics = ['accuracy'])"
      ],
      "execution_count": 78,
      "outputs": []
    },
    {
      "cell_type": "code",
      "metadata": {
        "colab": {
          "base_uri": "https://localhost:8080/"
        },
        "id": "FiAiNyQW4qCZ",
        "outputId": "aefbd95d-044e-40cc-cda5-2ba8fb10a66e"
      },
      "source": [
        "%%time\n",
        "\n",
        "Hist_mnist_bl2 = mnist_bl2.fit(X_train, y_train,\n",
        "                       epochs = 100,\n",
        "                       batch_size = 128,\n",
        "                       validation_split = 0.2)"
      ],
      "execution_count": 79,
      "outputs": [
        {
          "output_type": "stream",
          "text": [
            "Epoch 1/100\n",
            "375/375 [==============================] - 3s 5ms/step - loss: 0.1900 - accuracy: 0.9443 - val_loss: 0.1069 - val_accuracy: 0.9690\n",
            "Epoch 2/100\n",
            "375/375 [==============================] - 2s 4ms/step - loss: 0.0819 - accuracy: 0.9776 - val_loss: 0.1021 - val_accuracy: 0.9733\n",
            "Epoch 3/100\n",
            "375/375 [==============================] - 1s 4ms/step - loss: 0.0590 - accuracy: 0.9844 - val_loss: 0.0985 - val_accuracy: 0.9746\n",
            "Epoch 4/100\n",
            "375/375 [==============================] - 2s 4ms/step - loss: 0.0451 - accuracy: 0.9889 - val_loss: 0.1065 - val_accuracy: 0.9734\n",
            "Epoch 5/100\n",
            "375/375 [==============================] - 1s 4ms/step - loss: 0.0369 - accuracy: 0.9916 - val_loss: 0.0935 - val_accuracy: 0.9793\n",
            "Epoch 6/100\n",
            "375/375 [==============================] - 2s 4ms/step - loss: 0.0308 - accuracy: 0.9938 - val_loss: 0.1008 - val_accuracy: 0.9762\n",
            "Epoch 7/100\n",
            "375/375 [==============================] - 2s 4ms/step - loss: 0.0288 - accuracy: 0.9944 - val_loss: 0.1181 - val_accuracy: 0.9729\n",
            "Epoch 8/100\n",
            "375/375 [==============================] - 1s 4ms/step - loss: 0.0275 - accuracy: 0.9948 - val_loss: 0.1050 - val_accuracy: 0.9762\n",
            "Epoch 9/100\n",
            "375/375 [==============================] - 1s 4ms/step - loss: 0.0260 - accuracy: 0.9956 - val_loss: 0.1107 - val_accuracy: 0.9778\n",
            "Epoch 10/100\n",
            "375/375 [==============================] - 1s 4ms/step - loss: 0.0250 - accuracy: 0.9958 - val_loss: 0.1122 - val_accuracy: 0.9771\n",
            "Epoch 11/100\n",
            "375/375 [==============================] - 1s 4ms/step - loss: 0.0236 - accuracy: 0.9962 - val_loss: 0.1067 - val_accuracy: 0.9791\n",
            "Epoch 12/100\n",
            "375/375 [==============================] - 1s 4ms/step - loss: 0.0231 - accuracy: 0.9964 - val_loss: 0.1082 - val_accuracy: 0.9799\n",
            "Epoch 13/100\n",
            "375/375 [==============================] - 2s 4ms/step - loss: 0.0238 - accuracy: 0.9966 - val_loss: 0.1201 - val_accuracy: 0.9789\n",
            "Epoch 14/100\n",
            "375/375 [==============================] - 2s 4ms/step - loss: 0.0227 - accuracy: 0.9969 - val_loss: 0.1132 - val_accuracy: 0.9804\n",
            "Epoch 15/100\n",
            "375/375 [==============================] - 2s 4ms/step - loss: 0.0213 - accuracy: 0.9972 - val_loss: 0.1176 - val_accuracy: 0.9796\n",
            "Epoch 16/100\n",
            "375/375 [==============================] - 2s 5ms/step - loss: 0.0218 - accuracy: 0.9971 - val_loss: 0.1171 - val_accuracy: 0.9800\n",
            "Epoch 17/100\n",
            "375/375 [==============================] - 2s 5ms/step - loss: 0.0218 - accuracy: 0.9969 - val_loss: 0.1411 - val_accuracy: 0.9772\n",
            "Epoch 18/100\n",
            "375/375 [==============================] - 2s 4ms/step - loss: 0.0203 - accuracy: 0.9977 - val_loss: 0.1266 - val_accuracy: 0.9803\n",
            "Epoch 19/100\n",
            "375/375 [==============================] - 2s 4ms/step - loss: 0.0218 - accuracy: 0.9973 - val_loss: 0.1161 - val_accuracy: 0.9808\n",
            "Epoch 20/100\n",
            "375/375 [==============================] - 2s 5ms/step - loss: 0.0211 - accuracy: 0.9974 - val_loss: 0.1258 - val_accuracy: 0.9799\n",
            "Epoch 21/100\n",
            "375/375 [==============================] - 2s 5ms/step - loss: 0.0228 - accuracy: 0.9970 - val_loss: 0.1181 - val_accuracy: 0.9817\n",
            "Epoch 22/100\n",
            "375/375 [==============================] - 2s 4ms/step - loss: 0.0214 - accuracy: 0.9972 - val_loss: 0.1117 - val_accuracy: 0.9816\n",
            "Epoch 23/100\n",
            "375/375 [==============================] - 2s 4ms/step - loss: 0.0208 - accuracy: 0.9975 - val_loss: 0.1197 - val_accuracy: 0.9804\n",
            "Epoch 24/100\n",
            "375/375 [==============================] - 2s 4ms/step - loss: 0.0196 - accuracy: 0.9981 - val_loss: 0.1258 - val_accuracy: 0.9787\n",
            "Epoch 25/100\n",
            "375/375 [==============================] - 2s 4ms/step - loss: 0.0196 - accuracy: 0.9980 - val_loss: 0.1248 - val_accuracy: 0.9803\n",
            "Epoch 26/100\n",
            "375/375 [==============================] - 2s 4ms/step - loss: 0.0199 - accuracy: 0.9973 - val_loss: 0.1402 - val_accuracy: 0.9765\n",
            "Epoch 27/100\n",
            "375/375 [==============================] - 2s 4ms/step - loss: 0.0213 - accuracy: 0.9972 - val_loss: 0.1249 - val_accuracy: 0.9821\n",
            "Epoch 28/100\n",
            "375/375 [==============================] - 2s 4ms/step - loss: 0.0206 - accuracy: 0.9975 - val_loss: 0.1347 - val_accuracy: 0.9787\n",
            "Epoch 29/100\n",
            "375/375 [==============================] - 2s 4ms/step - loss: 0.0200 - accuracy: 0.9975 - val_loss: 0.1304 - val_accuracy: 0.9804\n",
            "Epoch 30/100\n",
            "375/375 [==============================] - 2s 4ms/step - loss: 0.0207 - accuracy: 0.9977 - val_loss: 0.1364 - val_accuracy: 0.9795\n",
            "Epoch 31/100\n",
            "375/375 [==============================] - 2s 4ms/step - loss: 0.0193 - accuracy: 0.9979 - val_loss: 0.1333 - val_accuracy: 0.9807\n",
            "Epoch 32/100\n",
            "375/375 [==============================] - 2s 4ms/step - loss: 0.0200 - accuracy: 0.9980 - val_loss: 0.1609 - val_accuracy: 0.9780\n",
            "Epoch 33/100\n",
            "375/375 [==============================] - 2s 4ms/step - loss: 0.0193 - accuracy: 0.9980 - val_loss: 0.1345 - val_accuracy: 0.9795\n",
            "Epoch 34/100\n",
            "375/375 [==============================] - 2s 4ms/step - loss: 0.0192 - accuracy: 0.9977 - val_loss: 0.1461 - val_accuracy: 0.9790\n",
            "Epoch 35/100\n",
            "375/375 [==============================] - 2s 4ms/step - loss: 0.0198 - accuracy: 0.9976 - val_loss: 0.1271 - val_accuracy: 0.9805\n",
            "Epoch 36/100\n",
            "375/375 [==============================] - 1s 4ms/step - loss: 0.0205 - accuracy: 0.9976 - val_loss: 0.1580 - val_accuracy: 0.9794\n",
            "Epoch 37/100\n",
            "375/375 [==============================] - 1s 4ms/step - loss: 0.0199 - accuracy: 0.9977 - val_loss: 0.1263 - val_accuracy: 0.9805\n",
            "Epoch 38/100\n",
            "375/375 [==============================] - 2s 4ms/step - loss: 0.0197 - accuracy: 0.9975 - val_loss: 0.1517 - val_accuracy: 0.9769\n",
            "Epoch 39/100\n",
            "375/375 [==============================] - 2s 4ms/step - loss: 0.0192 - accuracy: 0.9979 - val_loss: 0.1530 - val_accuracy: 0.9789\n",
            "Epoch 40/100\n",
            "375/375 [==============================] - 2s 4ms/step - loss: 0.0187 - accuracy: 0.9981 - val_loss: 0.1471 - val_accuracy: 0.9797\n",
            "Epoch 41/100\n",
            "375/375 [==============================] - 1s 4ms/step - loss: 0.0202 - accuracy: 0.9975 - val_loss: 0.1426 - val_accuracy: 0.9797\n",
            "Epoch 42/100\n",
            "375/375 [==============================] - 2s 4ms/step - loss: 0.0195 - accuracy: 0.9978 - val_loss: 0.1687 - val_accuracy: 0.9767\n",
            "Epoch 43/100\n",
            "375/375 [==============================] - 2s 4ms/step - loss: 0.0215 - accuracy: 0.9973 - val_loss: 0.1228 - val_accuracy: 0.9822\n",
            "Epoch 44/100\n",
            "375/375 [==============================] - 2s 4ms/step - loss: 0.0208 - accuracy: 0.9977 - val_loss: 0.1659 - val_accuracy: 0.9765\n",
            "Epoch 45/100\n",
            "375/375 [==============================] - 1s 4ms/step - loss: 0.0202 - accuracy: 0.9977 - val_loss: 0.1456 - val_accuracy: 0.9796\n",
            "Epoch 46/100\n",
            "375/375 [==============================] - 1s 4ms/step - loss: 0.0185 - accuracy: 0.9981 - val_loss: 0.1443 - val_accuracy: 0.9816\n",
            "Epoch 47/100\n",
            "375/375 [==============================] - 1s 4ms/step - loss: 0.0193 - accuracy: 0.9978 - val_loss: 0.1589 - val_accuracy: 0.9806\n",
            "Epoch 48/100\n",
            "375/375 [==============================] - 2s 4ms/step - loss: 0.0202 - accuracy: 0.9976 - val_loss: 0.1473 - val_accuracy: 0.9807\n",
            "Epoch 49/100\n",
            "375/375 [==============================] - 2s 4ms/step - loss: 0.0193 - accuracy: 0.9981 - val_loss: 0.1342 - val_accuracy: 0.9808\n",
            "Epoch 50/100\n",
            "375/375 [==============================] - 1s 4ms/step - loss: 0.0187 - accuracy: 0.9983 - val_loss: 0.1359 - val_accuracy: 0.9818\n",
            "Epoch 51/100\n",
            "375/375 [==============================] - 2s 4ms/step - loss: 0.0185 - accuracy: 0.9979 - val_loss: 0.1522 - val_accuracy: 0.9810\n",
            "Epoch 52/100\n",
            "375/375 [==============================] - 1s 4ms/step - loss: 0.0190 - accuracy: 0.9980 - val_loss: 0.1491 - val_accuracy: 0.9783\n",
            "Epoch 53/100\n",
            "375/375 [==============================] - 2s 4ms/step - loss: 0.0206 - accuracy: 0.9976 - val_loss: 0.1698 - val_accuracy: 0.9791\n",
            "Epoch 54/100\n",
            "375/375 [==============================] - 1s 4ms/step - loss: 0.0202 - accuracy: 0.9979 - val_loss: 0.1591 - val_accuracy: 0.9793\n",
            "Epoch 55/100\n",
            "375/375 [==============================] - 1s 4ms/step - loss: 0.0201 - accuracy: 0.9975 - val_loss: 0.1448 - val_accuracy: 0.9797\n",
            "Epoch 56/100\n",
            "375/375 [==============================] - 2s 4ms/step - loss: 0.0194 - accuracy: 0.9979 - val_loss: 0.1564 - val_accuracy: 0.9812\n",
            "Epoch 57/100\n",
            "375/375 [==============================] - 2s 4ms/step - loss: 0.0218 - accuracy: 0.9976 - val_loss: 0.1312 - val_accuracy: 0.9830\n",
            "Epoch 58/100\n",
            "375/375 [==============================] - 2s 4ms/step - loss: 0.0213 - accuracy: 0.9973 - val_loss: 0.1441 - val_accuracy: 0.9809\n",
            "Epoch 59/100\n",
            "375/375 [==============================] - 2s 4ms/step - loss: 0.0183 - accuracy: 0.9982 - val_loss: 0.1497 - val_accuracy: 0.9777\n",
            "Epoch 60/100\n",
            "375/375 [==============================] - 2s 4ms/step - loss: 0.0173 - accuracy: 0.9982 - val_loss: 0.1741 - val_accuracy: 0.9758\n",
            "Epoch 61/100\n",
            "375/375 [==============================] - 2s 5ms/step - loss: 0.0182 - accuracy: 0.9982 - val_loss: 0.1490 - val_accuracy: 0.9813\n",
            "Epoch 62/100\n",
            "375/375 [==============================] - 2s 5ms/step - loss: 0.0183 - accuracy: 0.9981 - val_loss: 0.1493 - val_accuracy: 0.9818\n",
            "Epoch 63/100\n",
            "375/375 [==============================] - 2s 4ms/step - loss: 0.0188 - accuracy: 0.9979 - val_loss: 0.1533 - val_accuracy: 0.9809\n",
            "Epoch 64/100\n",
            "375/375 [==============================] - 2s 5ms/step - loss: 0.0213 - accuracy: 0.9976 - val_loss: 0.1550 - val_accuracy: 0.9808\n",
            "Epoch 65/100\n",
            "375/375 [==============================] - 2s 4ms/step - loss: 0.0196 - accuracy: 0.9979 - val_loss: 0.1979 - val_accuracy: 0.9758\n",
            "Epoch 66/100\n",
            "375/375 [==============================] - 2s 4ms/step - loss: 0.0168 - accuracy: 0.9984 - val_loss: 0.1545 - val_accuracy: 0.9793\n",
            "Epoch 67/100\n",
            "375/375 [==============================] - 2s 4ms/step - loss: 0.0186 - accuracy: 0.9979 - val_loss: 0.1659 - val_accuracy: 0.9787\n",
            "Epoch 68/100\n",
            "375/375 [==============================] - 2s 5ms/step - loss: 0.0186 - accuracy: 0.9982 - val_loss: 0.1962 - val_accuracy: 0.9784\n",
            "Epoch 69/100\n",
            "375/375 [==============================] - 2s 5ms/step - loss: 0.0179 - accuracy: 0.9980 - val_loss: 0.1561 - val_accuracy: 0.9793\n",
            "Epoch 70/100\n",
            "375/375 [==============================] - 2s 5ms/step - loss: 0.0184 - accuracy: 0.9981 - val_loss: 0.1552 - val_accuracy: 0.9811\n",
            "Epoch 71/100\n",
            "375/375 [==============================] - 2s 4ms/step - loss: 0.0188 - accuracy: 0.9981 - val_loss: 0.1656 - val_accuracy: 0.9805\n",
            "Epoch 72/100\n",
            "375/375 [==============================] - 2s 4ms/step - loss: 0.0186 - accuracy: 0.9979 - val_loss: 0.1676 - val_accuracy: 0.9787\n",
            "Epoch 73/100\n",
            "375/375 [==============================] - 2s 4ms/step - loss: 0.0187 - accuracy: 0.9980 - val_loss: 0.1844 - val_accuracy: 0.9779\n",
            "Epoch 74/100\n",
            "375/375 [==============================] - 1s 4ms/step - loss: 0.0188 - accuracy: 0.9981 - val_loss: 0.1720 - val_accuracy: 0.9786\n",
            "Epoch 75/100\n",
            "375/375 [==============================] - 1s 4ms/step - loss: 0.0173 - accuracy: 0.9984 - val_loss: 0.1521 - val_accuracy: 0.9816\n",
            "Epoch 76/100\n",
            "375/375 [==============================] - 2s 4ms/step - loss: 0.0174 - accuracy: 0.9982 - val_loss: 0.1495 - val_accuracy: 0.9808\n",
            "Epoch 77/100\n",
            "375/375 [==============================] - 2s 4ms/step - loss: 0.0175 - accuracy: 0.9979 - val_loss: 0.1570 - val_accuracy: 0.9803\n",
            "Epoch 78/100\n",
            "375/375 [==============================] - 1s 4ms/step - loss: 0.0191 - accuracy: 0.9976 - val_loss: 0.1740 - val_accuracy: 0.9802\n",
            "Epoch 79/100\n",
            "375/375 [==============================] - 1s 4ms/step - loss: 0.0187 - accuracy: 0.9979 - val_loss: 0.1616 - val_accuracy: 0.9797\n",
            "Epoch 80/100\n",
            "375/375 [==============================] - 2s 4ms/step - loss: 0.0174 - accuracy: 0.9980 - val_loss: 0.1527 - val_accuracy: 0.9822\n",
            "Epoch 81/100\n",
            "375/375 [==============================] - 2s 5ms/step - loss: 0.0182 - accuracy: 0.9979 - val_loss: 0.1622 - val_accuracy: 0.9812\n",
            "Epoch 82/100\n",
            "375/375 [==============================] - 2s 4ms/step - loss: 0.0173 - accuracy: 0.9981 - val_loss: 0.1502 - val_accuracy: 0.9808\n",
            "Epoch 83/100\n",
            "375/375 [==============================] - 2s 4ms/step - loss: 0.0179 - accuracy: 0.9983 - val_loss: 0.1561 - val_accuracy: 0.9818\n",
            "Epoch 84/100\n",
            "375/375 [==============================] - 2s 4ms/step - loss: 0.0181 - accuracy: 0.9979 - val_loss: 0.1568 - val_accuracy: 0.9811\n",
            "Epoch 85/100\n",
            "375/375 [==============================] - 2s 4ms/step - loss: 0.0188 - accuracy: 0.9980 - val_loss: 0.1585 - val_accuracy: 0.9802\n",
            "Epoch 86/100\n",
            "375/375 [==============================] - 1s 4ms/step - loss: 0.0190 - accuracy: 0.9976 - val_loss: 0.1665 - val_accuracy: 0.9793\n",
            "Epoch 87/100\n",
            "375/375 [==============================] - 2s 4ms/step - loss: 0.0185 - accuracy: 0.9980 - val_loss: 0.1596 - val_accuracy: 0.9793\n",
            "Epoch 88/100\n",
            "375/375 [==============================] - 2s 4ms/step - loss: 0.0190 - accuracy: 0.9979 - val_loss: 0.1807 - val_accuracy: 0.9792\n",
            "Epoch 89/100\n",
            "375/375 [==============================] - 2s 4ms/step - loss: 0.0181 - accuracy: 0.9978 - val_loss: 0.1635 - val_accuracy: 0.9803\n",
            "Epoch 90/100\n",
            "375/375 [==============================] - 2s 5ms/step - loss: 0.0168 - accuracy: 0.9983 - val_loss: 0.1722 - val_accuracy: 0.9792\n",
            "Epoch 91/100\n",
            "375/375 [==============================] - 2s 4ms/step - loss: 0.0171 - accuracy: 0.9984 - val_loss: 0.1573 - val_accuracy: 0.9794\n",
            "Epoch 92/100\n",
            "375/375 [==============================] - 1s 4ms/step - loss: 0.0178 - accuracy: 0.9983 - val_loss: 0.1751 - val_accuracy: 0.9816\n",
            "Epoch 93/100\n",
            "375/375 [==============================] - 2s 4ms/step - loss: 0.0177 - accuracy: 0.9983 - val_loss: 0.1900 - val_accuracy: 0.9770\n",
            "Epoch 94/100\n",
            "375/375 [==============================] - 2s 4ms/step - loss: 0.0155 - accuracy: 0.9984 - val_loss: 0.1423 - val_accuracy: 0.9820\n",
            "Epoch 95/100\n",
            "375/375 [==============================] - 2s 4ms/step - loss: 0.0170 - accuracy: 0.9981 - val_loss: 0.1767 - val_accuracy: 0.9787\n",
            "Epoch 96/100\n",
            "375/375 [==============================] - 2s 4ms/step - loss: 0.0177 - accuracy: 0.9981 - val_loss: 0.1804 - val_accuracy: 0.9761\n",
            "Epoch 97/100\n",
            "375/375 [==============================] - 2s 4ms/step - loss: 0.0175 - accuracy: 0.9980 - val_loss: 0.1487 - val_accuracy: 0.9816\n",
            "Epoch 98/100\n",
            "375/375 [==============================] - 2s 5ms/step - loss: 0.0151 - accuracy: 0.9987 - val_loss: 0.1509 - val_accuracy: 0.9812\n",
            "Epoch 99/100\n",
            "375/375 [==============================] - 2s 5ms/step - loss: 0.0168 - accuracy: 0.9979 - val_loss: 0.1731 - val_accuracy: 0.9791\n",
            "Epoch 100/100\n",
            "375/375 [==============================] - 2s 5ms/step - loss: 0.0177 - accuracy: 0.9977 - val_loss: 0.1642 - val_accuracy: 0.9803\n",
            "CPU times: user 3min, sys: 20 s, total: 3min 20s\n",
            "Wall time: 2min 41s\n"
          ],
          "name": "stdout"
        }
      ]
    },
    {
      "cell_type": "code",
      "metadata": {
        "colab": {
          "base_uri": "https://localhost:8080/",
          "height": 404
        },
        "id": "Pkj9QSho4r9T",
        "outputId": "58b1a711-0218-4a32-e924-799e814776dd"
      },
      "source": [
        "import matplotlib.pyplot as plt\n",
        "\n",
        "epochs = range(1, len(Hist_mnist_bl2.history['loss']) + 1)\n",
        "\n",
        "plt.figure(figsize = (9, 6))\n",
        "plt.plot(epochs, Hist_mnist_bl2.history['loss'])\n",
        "plt.plot(epochs, Hist_mnist_bl2.history['val_loss'])\n",
        "# plt.ylim(0, 0.25)\n",
        "plt.title('Training & Validation Loss')\n",
        "plt.xlabel('Epochs')\n",
        "plt.ylabel('Loss')\n",
        "plt.legend(['Training Loss', 'Validation Loss'])\n",
        "plt.grid()\n",
        "plt.show()"
      ],
      "execution_count": 80,
      "outputs": [
        {
          "output_type": "display_data",
          "data": {
            "image/png": "[encoded data removed]",
            "text/plain": [
              "<Figure size 648x432 with 1 Axes>"
            ]
          },
          "metadata": {
            "tags": [],
            "needs_background": "light"
          }
        }
      ]
    },
    {
      "cell_type": "code",
      "metadata": {
        "colab": {
          "base_uri": "https://localhost:8080/"
        },
        "id": "TVQ1UWxA4uME",
        "outputId": "64711a1e-03d3-4b6b-bb29-10d7fbd6a440"
      },
      "source": [
        "loss, accuracy = mnist_bl2.evaluate(X_test, y_test)\n",
        "\n",
        "print('Loss = {:.5f}'.format(loss))\n",
        "print('Accuracy = {:.5f}'.format(accuracy))"
      ],
      "execution_count": 81,
      "outputs": [
        {
          "output_type": "stream",
          "text": [
            "313/313 [==============================] - 1s 2ms/step - loss: 0.1354 - accuracy: 0.9819\n",
            "Loss = 0.13538\n",
            "Accuracy = 0.98190\n"
          ],
          "name": "stdout"
        }
      ]
    },
    {
      "cell_type": "markdown",
      "metadata": {
        "id": "5uxEXYRr6ePD"
      },
      "source": [
        "## Batch Normalization & Dropout"
      ]
    },
    {
      "cell_type": "code",
      "metadata": {
        "id": "RREc50Qn6eiu"
      },
      "source": [
        "# Model Define - Batch Normalization & Dropout\n",
        "from tensorflow.keras import models\n",
        "from tensorflow.keras import layers\n",
        "\n",
        "mnist_bd = models.Sequential()\n",
        "mnist_bd.add(layers.Dense(512, input_shape = (28 * 28, )))\n",
        "mnist_bd.add(layers.Dropout(0.4))\n",
        "mnist_bd.add(layers.BatchNormalization())\n",
        "mnist_bd.add(layers.Activation('relu'))\n",
        "mnist_bd.add(layers.Dense(256))\n",
        "mnist_bd.add(layers.Dropout(0.2))\n",
        "mnist_bd.add(layers.BatchNormalization())\n",
        "mnist_bd.add(layers.Activation('relu'))\n",
        "mnist_bd.add(layers.Dense(10, activation = 'softmax'))"
      ],
      "execution_count": 82,
      "outputs": []
    },
    {
      "cell_type": "code",
      "metadata": {
        "colab": {
          "base_uri": "https://localhost:8080/"
        },
        "id": "6Vunfzaw64lx",
        "outputId": "65bb6d68-bf4b-42cf-8ef3-0ba1f7a34ddc"
      },
      "source": [
        "mnist_bd.summary()"
      ],
      "execution_count": 83,
      "outputs": [
        {
          "output_type": "stream",
          "text": [
            "Model: \"sequential_7\"\n",
            "_________________________________________________________________\n",
            "Layer (type)                 Output Shape              Param #   \n",
            "=================================================================\n",
            "dense_21 (Dense)             (None, 512)               401920    \n",
            "_________________________________________________________________\n",
            "dropout_4 (Dropout)          (None, 512)               0         \n",
            "_________________________________________________________________\n",
            "batch_normalization_4 (Batch (None, 512)               2048      \n",
            "_________________________________________________________________\n",
            "activation_4 (Activation)    (None, 512)               0         \n",
            "_________________________________________________________________\n",
            "dense_22 (Dense)             (None, 256)               131328    \n",
            "_________________________________________________________________\n",
            "dropout_5 (Dropout)          (None, 256)               0         \n",
            "_________________________________________________________________\n",
            "batch_normalization_5 (Batch (None, 256)               1024      \n",
            "_________________________________________________________________\n",
            "activation_5 (Activation)    (None, 256)               0         \n",
            "_________________________________________________________________\n",
            "dense_23 (Dense)             (None, 10)                2570      \n",
            "=================================================================\n",
            "Total params: 538,890\n",
            "Trainable params: 537,354\n",
            "Non-trainable params: 1,536\n",
            "_________________________________________________________________\n"
          ],
          "name": "stdout"
        }
      ]
    },
    {
      "cell_type": "code",
      "metadata": {
        "id": "RE2Yd0LN7Bf1"
      },
      "source": [
        "mnist_bd.compile(loss = 'categorical_crossentropy',\n",
        "              optimizer = 'rmsprop',\n",
        "              metrics = ['accuracy'])"
      ],
      "execution_count": 84,
      "outputs": []
    },
    {
      "cell_type": "code",
      "metadata": {
        "colab": {
          "base_uri": "https://localhost:8080/"
        },
        "id": "Fjh3TuPZ7JMQ",
        "outputId": "4e282df5-3604-441a-bab0-86360020b18d"
      },
      "source": [
        "%%time\n",
        "\n",
        "Hist_mnist_bd = mnist_bd.fit(X_train, y_train,\n",
        "                       epochs = 100,\n",
        "                       batch_size = 128,\n",
        "                       validation_split = 0.2)"
      ],
      "execution_count": 85,
      "outputs": [
        {
          "output_type": "stream",
          "text": [
            "Epoch 1/100\n",
            "375/375 [==============================] - 3s 5ms/step - loss: 0.2877 - accuracy: 0.9140 - val_loss: 0.1467 - val_accuracy: 0.9590\n",
            "Epoch 2/100\n",
            "375/375 [==============================] - 2s 4ms/step - loss: 0.1467 - accuracy: 0.9559 - val_loss: 0.1167 - val_accuracy: 0.9641\n",
            "Epoch 3/100\n",
            "375/375 [==============================] - 2s 5ms/step - loss: 0.1165 - accuracy: 0.9645 - val_loss: 0.1061 - val_accuracy: 0.9669\n",
            "Epoch 4/100\n",
            "375/375 [==============================] - 2s 4ms/step - loss: 0.0951 - accuracy: 0.9705 - val_loss: 0.0989 - val_accuracy: 0.9697\n",
            "Epoch 5/100\n",
            "375/375 [==============================] - 2s 5ms/step - loss: 0.0831 - accuracy: 0.9744 - val_loss: 0.0887 - val_accuracy: 0.9761\n",
            "Epoch 6/100\n",
            "375/375 [==============================] - 2s 5ms/step - loss: 0.0775 - accuracy: 0.9761 - val_loss: 0.0841 - val_accuracy: 0.9753\n",
            "Epoch 7/100\n",
            "375/375 [==============================] - 2s 4ms/step - loss: 0.0691 - accuracy: 0.9787 - val_loss: 0.0852 - val_accuracy: 0.9758\n",
            "Epoch 8/100\n",
            "375/375 [==============================] - 2s 4ms/step - loss: 0.0615 - accuracy: 0.9807 - val_loss: 0.0828 - val_accuracy: 0.9772\n",
            "Epoch 9/100\n",
            "375/375 [==============================] - 2s 4ms/step - loss: 0.0587 - accuracy: 0.9810 - val_loss: 0.0840 - val_accuracy: 0.9755\n",
            "Epoch 10/100\n",
            "375/375 [==============================] - 2s 4ms/step - loss: 0.0540 - accuracy: 0.9830 - val_loss: 0.1008 - val_accuracy: 0.9718\n",
            "Epoch 11/100\n",
            "375/375 [==============================] - 2s 4ms/step - loss: 0.0506 - accuracy: 0.9837 - val_loss: 0.0745 - val_accuracy: 0.9801\n",
            "Epoch 12/100\n",
            "375/375 [==============================] - 2s 4ms/step - loss: 0.0463 - accuracy: 0.9851 - val_loss: 0.0838 - val_accuracy: 0.9762\n",
            "Epoch 13/100\n",
            "375/375 [==============================] - 2s 4ms/step - loss: 0.0459 - accuracy: 0.9852 - val_loss: 0.0835 - val_accuracy: 0.9777\n",
            "Epoch 14/100\n",
            "375/375 [==============================] - 2s 4ms/step - loss: 0.0424 - accuracy: 0.9862 - val_loss: 0.0825 - val_accuracy: 0.9789\n",
            "Epoch 15/100\n",
            "375/375 [==============================] - 2s 4ms/step - loss: 0.0438 - accuracy: 0.9862 - val_loss: 0.0798 - val_accuracy: 0.9790\n",
            "Epoch 16/100\n",
            "375/375 [==============================] - 1s 4ms/step - loss: 0.0395 - accuracy: 0.9871 - val_loss: 0.0818 - val_accuracy: 0.9790\n",
            "Epoch 17/100\n",
            "375/375 [==============================] - 2s 4ms/step - loss: 0.0377 - accuracy: 0.9880 - val_loss: 0.0818 - val_accuracy: 0.9795\n",
            "Epoch 18/100\n",
            "375/375 [==============================] - 2s 4ms/step - loss: 0.0384 - accuracy: 0.9877 - val_loss: 0.0786 - val_accuracy: 0.9808\n",
            "Epoch 19/100\n",
            "375/375 [==============================] - 1s 4ms/step - loss: 0.0367 - accuracy: 0.9884 - val_loss: 0.0821 - val_accuracy: 0.9808\n",
            "Epoch 20/100\n",
            "375/375 [==============================] - 2s 4ms/step - loss: 0.0361 - accuracy: 0.9892 - val_loss: 0.0876 - val_accuracy: 0.9779\n",
            "Epoch 21/100\n",
            "375/375 [==============================] - 1s 4ms/step - loss: 0.0337 - accuracy: 0.9895 - val_loss: 0.0783 - val_accuracy: 0.9827\n",
            "Epoch 22/100\n",
            "375/375 [==============================] - 2s 4ms/step - loss: 0.0331 - accuracy: 0.9899 - val_loss: 0.0810 - val_accuracy: 0.9800\n",
            "Epoch 23/100\n",
            "375/375 [==============================] - 2s 4ms/step - loss: 0.0337 - accuracy: 0.9892 - val_loss: 0.0785 - val_accuracy: 0.9814\n",
            "Epoch 24/100\n",
            "375/375 [==============================] - 2s 4ms/step - loss: 0.0311 - accuracy: 0.9901 - val_loss: 0.0822 - val_accuracy: 0.9798\n",
            "Epoch 25/100\n",
            "375/375 [==============================] - 2s 4ms/step - loss: 0.0329 - accuracy: 0.9899 - val_loss: 0.0890 - val_accuracy: 0.9783\n",
            "Epoch 26/100\n",
            "375/375 [==============================] - 2s 4ms/step - loss: 0.0324 - accuracy: 0.9904 - val_loss: 0.0796 - val_accuracy: 0.9812\n",
            "Epoch 27/100\n",
            "375/375 [==============================] - 1s 4ms/step - loss: 0.0310 - accuracy: 0.9906 - val_loss: 0.0862 - val_accuracy: 0.9796\n",
            "Epoch 28/100\n",
            "375/375 [==============================] - 2s 4ms/step - loss: 0.0277 - accuracy: 0.9914 - val_loss: 0.0845 - val_accuracy: 0.9804\n",
            "Epoch 29/100\n",
            "375/375 [==============================] - 2s 4ms/step - loss: 0.0293 - accuracy: 0.9908 - val_loss: 0.0826 - val_accuracy: 0.9798\n",
            "Epoch 30/100\n",
            "375/375 [==============================] - 1s 4ms/step - loss: 0.0271 - accuracy: 0.9915 - val_loss: 0.0826 - val_accuracy: 0.9803\n",
            "Epoch 31/100\n",
            "375/375 [==============================] - 1s 4ms/step - loss: 0.0264 - accuracy: 0.9918 - val_loss: 0.0847 - val_accuracy: 0.9802\n",
            "Epoch 32/100\n",
            "375/375 [==============================] - 2s 4ms/step - loss: 0.0276 - accuracy: 0.9913 - val_loss: 0.0840 - val_accuracy: 0.9802\n",
            "Epoch 33/100\n",
            "375/375 [==============================] - 2s 4ms/step - loss: 0.0242 - accuracy: 0.9925 - val_loss: 0.0737 - val_accuracy: 0.9830\n",
            "Epoch 34/100\n",
            "375/375 [==============================] - 1s 4ms/step - loss: 0.0233 - accuracy: 0.9927 - val_loss: 0.0768 - val_accuracy: 0.9822\n",
            "Epoch 35/100\n",
            "375/375 [==============================] - 2s 4ms/step - loss: 0.0237 - accuracy: 0.9923 - val_loss: 0.0838 - val_accuracy: 0.9793\n",
            "Epoch 36/100\n",
            "375/375 [==============================] - 2s 4ms/step - loss: 0.0238 - accuracy: 0.9924 - val_loss: 0.0789 - val_accuracy: 0.9820\n",
            "Epoch 37/100\n",
            "375/375 [==============================] - 1s 4ms/step - loss: 0.0225 - accuracy: 0.9931 - val_loss: 0.0877 - val_accuracy: 0.9813\n",
            "Epoch 38/100\n",
            "375/375 [==============================] - 2s 4ms/step - loss: 0.0223 - accuracy: 0.9926 - val_loss: 0.0897 - val_accuracy: 0.9804\n",
            "Epoch 39/100\n",
            "375/375 [==============================] - 2s 5ms/step - loss: 0.0242 - accuracy: 0.9925 - val_loss: 0.0867 - val_accuracy: 0.9808\n",
            "Epoch 40/100\n",
            "375/375 [==============================] - 2s 5ms/step - loss: 0.0249 - accuracy: 0.9923 - val_loss: 0.0840 - val_accuracy: 0.9812\n",
            "Epoch 41/100\n",
            "375/375 [==============================] - 2s 4ms/step - loss: 0.0212 - accuracy: 0.9933 - val_loss: 0.0798 - val_accuracy: 0.9821\n",
            "Epoch 42/100\n",
            "375/375 [==============================] - 2s 5ms/step - loss: 0.0221 - accuracy: 0.9939 - val_loss: 0.0873 - val_accuracy: 0.9794\n",
            "Epoch 43/100\n",
            "375/375 [==============================] - 2s 4ms/step - loss: 0.0221 - accuracy: 0.9934 - val_loss: 0.0858 - val_accuracy: 0.9811\n",
            "Epoch 44/100\n",
            "375/375 [==============================] - 2s 4ms/step - loss: 0.0215 - accuracy: 0.9935 - val_loss: 0.0916 - val_accuracy: 0.9803\n",
            "Epoch 45/100\n",
            "375/375 [==============================] - 2s 5ms/step - loss: 0.0220 - accuracy: 0.9936 - val_loss: 0.0872 - val_accuracy: 0.9803\n",
            "Epoch 46/100\n",
            "375/375 [==============================] - 2s 5ms/step - loss: 0.0209 - accuracy: 0.9935 - val_loss: 0.0919 - val_accuracy: 0.9784\n",
            "Epoch 47/100\n",
            "375/375 [==============================] - 2s 4ms/step - loss: 0.0196 - accuracy: 0.9946 - val_loss: 0.0797 - val_accuracy: 0.9807\n",
            "Epoch 48/100\n",
            "375/375 [==============================] - 2s 4ms/step - loss: 0.0230 - accuracy: 0.9930 - val_loss: 0.0874 - val_accuracy: 0.9793\n",
            "Epoch 49/100\n",
            "375/375 [==============================] - 2s 5ms/step - loss: 0.0219 - accuracy: 0.9933 - val_loss: 0.0886 - val_accuracy: 0.9814\n",
            "Epoch 50/100\n",
            "375/375 [==============================] - 2s 5ms/step - loss: 0.0197 - accuracy: 0.9939 - val_loss: 0.0954 - val_accuracy: 0.9780\n",
            "Epoch 51/100\n",
            "375/375 [==============================] - 2s 5ms/step - loss: 0.0216 - accuracy: 0.9936 - val_loss: 0.0855 - val_accuracy: 0.9815\n",
            "Epoch 52/100\n",
            "375/375 [==============================] - 2s 4ms/step - loss: 0.0198 - accuracy: 0.9941 - val_loss: 0.0871 - val_accuracy: 0.9802\n",
            "Epoch 53/100\n",
            "375/375 [==============================] - 2s 4ms/step - loss: 0.0204 - accuracy: 0.9940 - val_loss: 0.0891 - val_accuracy: 0.9808\n",
            "Epoch 54/100\n",
            "375/375 [==============================] - 2s 4ms/step - loss: 0.0187 - accuracy: 0.9945 - val_loss: 0.0898 - val_accuracy: 0.9800\n",
            "Epoch 55/100\n",
            "375/375 [==============================] - 1s 4ms/step - loss: 0.0184 - accuracy: 0.9948 - val_loss: 0.0877 - val_accuracy: 0.9809\n",
            "Epoch 56/100\n",
            "375/375 [==============================] - 2s 4ms/step - loss: 0.0210 - accuracy: 0.9943 - val_loss: 0.0844 - val_accuracy: 0.9808\n",
            "Epoch 57/100\n",
            "375/375 [==============================] - 1s 4ms/step - loss: 0.0217 - accuracy: 0.9939 - val_loss: 0.0838 - val_accuracy: 0.9808\n",
            "Epoch 58/100\n",
            "375/375 [==============================] - 2s 4ms/step - loss: 0.0187 - accuracy: 0.9945 - val_loss: 0.0893 - val_accuracy: 0.9793\n",
            "Epoch 59/100\n",
            "375/375 [==============================] - 2s 4ms/step - loss: 0.0188 - accuracy: 0.9939 - val_loss: 0.0895 - val_accuracy: 0.9806\n",
            "Epoch 60/100\n",
            "375/375 [==============================] - 2s 4ms/step - loss: 0.0167 - accuracy: 0.9950 - val_loss: 0.0823 - val_accuracy: 0.9826\n",
            "Epoch 61/100\n",
            "375/375 [==============================] - 1s 4ms/step - loss: 0.0175 - accuracy: 0.9948 - val_loss: 0.0881 - val_accuracy: 0.9804\n",
            "Epoch 62/100\n",
            "375/375 [==============================] - 2s 4ms/step - loss: 0.0151 - accuracy: 0.9953 - val_loss: 0.0851 - val_accuracy: 0.9803\n",
            "Epoch 63/100\n",
            "375/375 [==============================] - 2s 4ms/step - loss: 0.0181 - accuracy: 0.9945 - val_loss: 0.0902 - val_accuracy: 0.9809\n",
            "Epoch 64/100\n",
            "375/375 [==============================] - 2s 4ms/step - loss: 0.0167 - accuracy: 0.9953 - val_loss: 0.0876 - val_accuracy: 0.9818\n",
            "Epoch 65/100\n",
            "375/375 [==============================] - 1s 4ms/step - loss: 0.0194 - accuracy: 0.9947 - val_loss: 0.0958 - val_accuracy: 0.9791\n",
            "Epoch 66/100\n",
            "375/375 [==============================] - 1s 4ms/step - loss: 0.0192 - accuracy: 0.9946 - val_loss: 0.0875 - val_accuracy: 0.9803\n",
            "Epoch 67/100\n",
            "375/375 [==============================] - 1s 4ms/step - loss: 0.0194 - accuracy: 0.9950 - val_loss: 0.0910 - val_accuracy: 0.9798\n",
            "Epoch 68/100\n",
            "375/375 [==============================] - 2s 4ms/step - loss: 0.0149 - accuracy: 0.9953 - val_loss: 0.0868 - val_accuracy: 0.9797\n",
            "Epoch 69/100\n",
            "375/375 [==============================] - 1s 4ms/step - loss: 0.0171 - accuracy: 0.9948 - val_loss: 0.0835 - val_accuracy: 0.9817\n",
            "Epoch 70/100\n",
            "375/375 [==============================] - 2s 4ms/step - loss: 0.0164 - accuracy: 0.9953 - val_loss: 0.0817 - val_accuracy: 0.9812\n",
            "Epoch 71/100\n",
            "375/375 [==============================] - 1s 4ms/step - loss: 0.0184 - accuracy: 0.9950 - val_loss: 0.0826 - val_accuracy: 0.9813\n",
            "Epoch 72/100\n",
            "375/375 [==============================] - 2s 4ms/step - loss: 0.0185 - accuracy: 0.9949 - val_loss: 0.0822 - val_accuracy: 0.9818\n",
            "Epoch 73/100\n",
            "375/375 [==============================] - 2s 4ms/step - loss: 0.0155 - accuracy: 0.9952 - val_loss: 0.0851 - val_accuracy: 0.9809\n",
            "Epoch 74/100\n",
            "375/375 [==============================] - 1s 4ms/step - loss: 0.0149 - accuracy: 0.9952 - val_loss: 0.1012 - val_accuracy: 0.9780\n",
            "Epoch 75/100\n",
            "375/375 [==============================] - 1s 4ms/step - loss: 0.0169 - accuracy: 0.9953 - val_loss: 0.0861 - val_accuracy: 0.9819\n",
            "Epoch 76/100\n",
            "375/375 [==============================] - 2s 4ms/step - loss: 0.0166 - accuracy: 0.9954 - val_loss: 0.0867 - val_accuracy: 0.9822\n",
            "Epoch 77/100\n",
            "375/375 [==============================] - 1s 4ms/step - loss: 0.0177 - accuracy: 0.9954 - val_loss: 0.0875 - val_accuracy: 0.9804\n",
            "Epoch 78/100\n",
            "375/375 [==============================] - 1s 4ms/step - loss: 0.0172 - accuracy: 0.9950 - val_loss: 0.0918 - val_accuracy: 0.9801\n",
            "Epoch 79/100\n",
            "375/375 [==============================] - 2s 4ms/step - loss: 0.0146 - accuracy: 0.9957 - val_loss: 0.0865 - val_accuracy: 0.9821\n",
            "Epoch 80/100\n",
            "375/375 [==============================] - 2s 4ms/step - loss: 0.0155 - accuracy: 0.9954 - val_loss: 0.0837 - val_accuracy: 0.9808\n",
            "Epoch 81/100\n",
            "375/375 [==============================] - 2s 5ms/step - loss: 0.0168 - accuracy: 0.9952 - val_loss: 0.0840 - val_accuracy: 0.9812\n",
            "Epoch 82/100\n",
            "375/375 [==============================] - 2s 5ms/step - loss: 0.0173 - accuracy: 0.9950 - val_loss: 0.0864 - val_accuracy: 0.9793\n",
            "Epoch 83/100\n",
            "375/375 [==============================] - 2s 5ms/step - loss: 0.0168 - accuracy: 0.9954 - val_loss: 0.0892 - val_accuracy: 0.9816\n",
            "Epoch 84/100\n",
            "375/375 [==============================] - 2s 5ms/step - loss: 0.0167 - accuracy: 0.9958 - val_loss: 0.0876 - val_accuracy: 0.9789\n",
            "Epoch 85/100\n",
            "375/375 [==============================] - 2s 5ms/step - loss: 0.0163 - accuracy: 0.9953 - val_loss: 0.0854 - val_accuracy: 0.9803\n",
            "Epoch 86/100\n",
            "375/375 [==============================] - 2s 5ms/step - loss: 0.0155 - accuracy: 0.9959 - val_loss: 0.0860 - val_accuracy: 0.9811\n",
            "Epoch 87/100\n",
            "375/375 [==============================] - 2s 5ms/step - loss: 0.0141 - accuracy: 0.9957 - val_loss: 0.0852 - val_accuracy: 0.9811\n",
            "Epoch 88/100\n",
            "375/375 [==============================] - 2s 5ms/step - loss: 0.0146 - accuracy: 0.9957 - val_loss: 0.0863 - val_accuracy: 0.9818\n",
            "Epoch 89/100\n",
            "375/375 [==============================] - 2s 4ms/step - loss: 0.0145 - accuracy: 0.9955 - val_loss: 0.0922 - val_accuracy: 0.9801\n",
            "Epoch 90/100\n",
            "375/375 [==============================] - 2s 4ms/step - loss: 0.0140 - accuracy: 0.9960 - val_loss: 0.0859 - val_accuracy: 0.9805\n",
            "Epoch 91/100\n",
            "375/375 [==============================] - 2s 5ms/step - loss: 0.0126 - accuracy: 0.9961 - val_loss: 0.0883 - val_accuracy: 0.9798\n",
            "Epoch 92/100\n",
            "375/375 [==============================] - 2s 5ms/step - loss: 0.0119 - accuracy: 0.9964 - val_loss: 0.0824 - val_accuracy: 0.9810\n",
            "Epoch 93/100\n",
            "375/375 [==============================] - 2s 5ms/step - loss: 0.0133 - accuracy: 0.9961 - val_loss: 0.0899 - val_accuracy: 0.9810\n",
            "Epoch 94/100\n",
            "375/375 [==============================] - 2s 4ms/step - loss: 0.0143 - accuracy: 0.9957 - val_loss: 0.0929 - val_accuracy: 0.9802\n",
            "Epoch 95/100\n",
            "375/375 [==============================] - 1s 4ms/step - loss: 0.0160 - accuracy: 0.9959 - val_loss: 0.0932 - val_accuracy: 0.9817\n",
            "Epoch 96/100\n",
            "375/375 [==============================] - 2s 4ms/step - loss: 0.0165 - accuracy: 0.9954 - val_loss: 0.0891 - val_accuracy: 0.9806\n",
            "Epoch 97/100\n",
            "375/375 [==============================] - 1s 4ms/step - loss: 0.0139 - accuracy: 0.9960 - val_loss: 0.0893 - val_accuracy: 0.9797\n",
            "Epoch 98/100\n",
            "375/375 [==============================] - 2s 4ms/step - loss: 0.0140 - accuracy: 0.9960 - val_loss: 0.0931 - val_accuracy: 0.9795\n",
            "Epoch 99/100\n",
            "375/375 [==============================] - 2s 4ms/step - loss: 0.0125 - accuracy: 0.9963 - val_loss: 0.0945 - val_accuracy: 0.9808\n",
            "Epoch 100/100\n",
            "375/375 [==============================] - 2s 4ms/step - loss: 0.0147 - accuracy: 0.9958 - val_loss: 0.0888 - val_accuracy: 0.9799\n",
            "CPU times: user 2min 55s, sys: 18 s, total: 3min 13s\n",
            "Wall time: 2min 40s\n"
          ],
          "name": "stdout"
        }
      ]
    },
    {
      "cell_type": "code",
      "metadata": {
        "colab": {
          "base_uri": "https://localhost:8080/",
          "height": 404
        },
        "id": "SBlghkwUv0P-",
        "outputId": "16b9a5a5-3435-4f5f-fddc-064985f05951"
      },
      "source": [
        "import matplotlib.pyplot as plt\n",
        "\n",
        "epochs = range(1, len(Hist_mnist_bd.history['loss']) + 1)\n",
        "\n",
        "plt.figure(figsize = (9, 6))\n",
        "plt.plot(epochs, Hist_mnist_bd.history['loss'])\n",
        "plt.plot(epochs, Hist_mnist_bd.history['val_loss'])\n",
        "# plt.ylim(0, 0.25)\n",
        "plt.title('Training & Validation Loss')\n",
        "plt.xlabel('Epochs')\n",
        "plt.ylabel('Loss')\n",
        "plt.legend(['Training Loss', 'Validation Loss'])\n",
        "plt.grid()\n",
        "plt.show()"
      ],
      "execution_count": 86,
      "outputs": [
        {
          "output_type": "display_data",
          "data": {
            "image/png": "[encoded data removed]",
            "text/plain": [
              "<Figure size 648x432 with 1 Axes>"
            ]
          },
          "metadata": {
            "tags": [],
            "needs_background": "light"
          }
        }
      ]
    },
    {
      "cell_type": "code",
      "metadata": {
        "colab": {
          "base_uri": "https://localhost:8080/"
        },
        "id": "kYoEtnhmv3o-",
        "outputId": "c740c9e6-2f7c-4cfe-96df-1440f5607554"
      },
      "source": [
        "loss, accuracy = mnist_bd.evaluate(X_test, y_test)\n",
        "\n",
        "print('Loss = {:.5f}'.format(loss))\n",
        "print('Accuracy = {:.5f}'.format(accuracy))\n",
        "\n",
        "# 이 데이터에서 해당 조합이 Loss값이 가장 작음 (오버피팅 경향 가장 작음)"
      ],
      "execution_count": 87,
      "outputs": [
        {
          "output_type": "stream",
          "text": [
            "313/313 [==============================] - 1s 2ms/step - loss: 0.0797 - accuracy: 0.9805\n",
            "Loss = 0.07975\n",
            "Accuracy = 0.98050\n"
          ],
          "name": "stdout"
        }
      ]
    }
  ]
}
