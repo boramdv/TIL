{
  "nbformat": 4,
  "nbformat_minor": 0,
  "metadata": {
    "colab": {
      "name": "300_DNN_Boston_Regression_Analysis_EarlyStopping_CPU.ipynb",
      "provenance": [],
      "collapsed_sections": [
        "yVyXm7wqHLIK"
      ],
      "toc_visible": true,
      "authorship_tag": "ABX9TyNo5uiwV6GsUSAT/ajz6FgP",
      "include_colab_link": true
    },
    "kernelspec": {
      "name": "python3",
      "display_name": "Python 3"
    },
    "language_info": {
      "name": "python"
    },
    "accelerator": "GPU"
  },
  "cells": [
    {
      "cell_type": "markdown",
      "metadata": {
        "id": "view-in-github",
        "colab_type": "text"
      },
      "source": [
        "<a href=\"https://colab.research.google.com/github/boramdv/TIL/blob/master/300_DNN_Boston_Regression_Analysis_EarlyStopping_CPU.ipynb\" target=\"_parent\"><img src=\"https://colab.research.google.com/assets/colab-badge.svg\" alt=\"Open In Colab\"/></a>"
      ]
    },
    {
      "cell_type": "code",
      "metadata": {
        "id": "6z5EJNf7zwZn"
      },
      "source": [
        "import warnings\n",
        "warnings.filterwarnings('ignore')"
      ],
      "execution_count": 1,
      "outputs": []
    },
    {
      "cell_type": "code",
      "metadata": {
        "colab": {
          "base_uri": "https://localhost:8080/",
          "height": 34
        },
        "id": "6itYel1PAFSn",
        "outputId": "4c15f968-0f1d-483d-a501-b0ef59e10413"
      },
      "source": [
        "import tensorflow as tf\n",
        "\n",
        "tf.__version__"
      ],
      "execution_count": 2,
      "outputs": [
        {
          "output_type": "execute_result",
          "data": {
            "application/vnd.google.colaboratory.intrinsic+json": {
              "type": "string"
            },
            "text/plain": [
              "'2.5.0'"
            ]
          },
          "metadata": {
            "tags": []
          },
          "execution_count": 2
        }
      ]
    },
    {
      "cell_type": "code",
      "metadata": {
        "colab": {
          "base_uri": "https://localhost:8080/",
          "height": 34
        },
        "id": "gtI773eBAH7X",
        "outputId": "444a0acf-a9ab-4cdc-da34-3ca7615d94a5"
      },
      "source": [
        "tf.test.gpu_device_name()"
      ],
      "execution_count": 3,
      "outputs": [
        {
          "output_type": "execute_result",
          "data": {
            "application/vnd.google.colaboratory.intrinsic+json": {
              "type": "string"
            },
            "text/plain": [
              "'/device:GPU:0'"
            ]
          },
          "metadata": {
            "tags": []
          },
          "execution_count": 3
        }
      ]
    },
    {
      "cell_type": "markdown",
      "metadata": {
        "id": "lVbALwBBAP__"
      },
      "source": [
        "# 1. Boston_Housing_Data"
      ]
    },
    {
      "cell_type": "code",
      "metadata": {
        "id": "ZxmmcdyZAObj"
      },
      "source": [
        "from tensorflow.keras.datasets import boston_housing\n",
        "\n",
        "# 뒤에 Validation set을 split 하기 위해 train data 이름을 아래 일반적인 방식과 다르게 지정\n",
        "# (X_train, y_train), (X_test, y_test) = boston_housing.load_data()\n",
        "(train_data, train_targets), (X_test, y_test) = boston_housing.load_data()"
      ],
      "execution_count": 4,
      "outputs": []
    },
    {
      "cell_type": "code",
      "metadata": {
        "colab": {
          "base_uri": "https://localhost:8080/"
        },
        "id": "SHOoiHZ2Ar4Q",
        "outputId": "ebab6625-fc4a-4c3a-acf0-081b33ee8eac"
      },
      "source": [
        "print(train_data.shape)\n",
        "print(X_test.shape)\n",
        "\n",
        "print(train_targets[:10])\n",
        "print(y_test[:10])"
      ],
      "execution_count": 5,
      "outputs": [
        {
          "output_type": "stream",
          "text": [
            "(404, 13)\n",
            "(102, 13)\n",
            "[15.2 42.3 50.  21.1 17.7 18.5 11.3 15.6 15.6 14.4]\n",
            "[ 7.2 18.8 19.  27.  22.2 24.5 31.2 22.9 20.5 23.2]\n"
          ],
          "name": "stdout"
        }
      ]
    },
    {
      "cell_type": "markdown",
      "metadata": {
        "id": "vo7Mx9QkI9Yi"
      },
      "source": [
        "# 2. Data Preprocessing"
      ]
    },
    {
      "cell_type": "markdown",
      "metadata": {
        "id": "otfmsl93A8Wp"
      },
      "source": [
        "- Standardization"
      ]
    },
    {
      "cell_type": "code",
      "metadata": {
        "colab": {
          "base_uri": "https://localhost:8080/"
        },
        "id": "dBnaPOTwBYMh",
        "outputId": "f061701d-6407-4a4c-bdaf-a3e1af5c119f"
      },
      "source": [
        "import numpy as np\n",
        "np.set_printoptions(suppress = True, precision = 9, linewidth = np.inf)\n",
        "\n",
        "print(train_data)"
      ],
      "execution_count": 6,
      "outputs": [
        {
          "output_type": "stream",
          "text": [
            "[[  1.23247   0.        8.14    ...  21.      396.9      18.72   ]\n",
            " [  0.02177  82.5       2.03    ...  14.7     395.38      3.11   ]\n",
            " [  4.89822   0.       18.1     ...  20.2     375.52      3.26   ]\n",
            " ...\n",
            " [  0.03466  35.        6.06    ...  16.9     362.25      7.83   ]\n",
            " [  2.14918   0.       19.58    ...  14.7     261.95     15.79   ]\n",
            " [  0.01439  60.        2.93    ...  15.6     376.7       4.38   ]]\n"
          ],
          "name": "stdout"
        }
      ]
    },
    {
      "cell_type": "code",
      "metadata": {
        "id": "RmTnEWjmA0rH"
      },
      "source": [
        "# axis = 0 의 의미\n",
        "# https://nov19.tistory.com/104\n",
        "\n",
        "mean = train_data.mean(axis = 0)\n",
        "std = train_data.std(axis = 0)\n",
        "\n",
        "train_data = train_data - mean\n",
        "train_data = train_data / std\n",
        "\n",
        "X_test = X_test - mean\n",
        "X_test = X_test / std"
      ],
      "execution_count": 7,
      "outputs": []
    },
    {
      "cell_type": "code",
      "metadata": {
        "colab": {
          "base_uri": "https://localhost:8080/"
        },
        "id": "GK5nXFaqDkMc",
        "outputId": "3f3bee8e-9eb0-45f9-b086-2304a124fbd3"
      },
      "source": [
        "train_data"
      ],
      "execution_count": 8,
      "outputs": [
        {
          "output_type": "execute_result",
          "data": {
            "text/plain": [
              "array([[-0.272246334, -0.483615471, -0.435761611, ...,  1.148500439,  0.448077135,  0.825220199],\n",
              "       [-0.403426512,  2.991784194, -1.333911616, ..., -1.718189094,  0.431905993, -1.329202394],\n",
              "       [ 0.1249402  , -0.483615471,  1.028325795, ...,  0.784476371,  0.220617263, -1.308500063],\n",
              "       ...,\n",
              "       [-0.402029872,  0.990796508, -0.741514804, ..., -0.717122908,  0.079438942, -0.677769041],\n",
              "       [-0.172920175, -0.483615471,  1.245880952, ..., -1.718189094, -0.987643619,  0.420834664],\n",
              "       [-0.40422614 ,  2.043947921, -1.201614561, ..., -1.308662018,  0.233171175, -1.153922657]])"
            ]
          },
          "metadata": {
            "tags": []
          },
          "execution_count": 8
        }
      ]
    },
    {
      "cell_type": "code",
      "metadata": {
        "colab": {
          "base_uri": "https://localhost:8080/"
        },
        "id": "4ZL9TW00FhFQ",
        "outputId": "0dbfb7a7-42ae-4292-e222-70ca2facdfc1"
      },
      "source": [
        "# mean = 0, std = 1\n",
        "train_data.mean(axis = 0), train_data.std(axis = 0)"
      ],
      "execution_count": 9,
      "outputs": [
        {
          "output_type": "execute_result",
          "data": {
            "text/plain": [
              "(array([-0.,  0.,  0., -0., -0.,  0.,  0.,  0.,  0., -0.,  0.,  0.,  0.]),\n",
              " array([1., 1., 1., 1., 1., 1., 1., 1., 1., 1., 1., 1., 1.]))"
            ]
          },
          "metadata": {
            "tags": []
          },
          "execution_count": 9
        }
      ]
    },
    {
      "cell_type": "code",
      "metadata": {
        "colab": {
          "base_uri": "https://localhost:8080/"
        },
        "id": "dfY2zoQdDnPL",
        "outputId": "782534c8-db05-42a4-9e05-a78f22d3772b"
      },
      "source": [
        "X_test[:10]"
      ],
      "execution_count": 10,
      "outputs": [
        {
          "output_type": "execute_result",
          "data": {
            "text/plain": [
              "array([[ 1.553693545, -0.483615471,  1.028325795, -0.256832748,  1.038380668,  0.235458154,  1.110488282, -0.939769356,  1.675885772,  1.565287499,  0.784476371, -3.484595533,  2.250920736],\n",
              "       [-0.39242675 , -0.483615471, -0.16087773 , -0.256832748, -0.088400606, -0.499474361,  0.856063288, -0.683962347, -0.39603557 ,  0.157078413, -0.307595832,  0.427331262,  0.478801191],\n",
              "       [-0.399829269, -0.483615471, -0.869401957, -0.256832748, -0.361559702, -0.39790979 , -0.84607575 ,  0.52864277 , -0.511142311, -1.094662998,  0.784476371,  0.448077135, -0.414159358],\n",
              "       [-0.26780504 , -0.483615471,  1.245880952,  3.893584467,  0.406700257, -0.024095747,  0.845312937, -0.957671408, -0.511142311, -0.017443226, -1.718189094, -0.168766802, -0.999345252],\n",
              "       [-0.398037149, -0.483615471, -0.972299666, -0.256832748, -0.924950339, -0.206065602, -0.437562381,  0.003614542, -0.741355794, -0.956249284,  0.010925227,  0.429459044, -0.593579561],\n",
              "       [-0.375493705, -0.483615471, -0.207916683, -0.256832748,  0.235975822, -0.481136313, -0.946412367, -0.670005651, -0.39603557 , -0.089659077,  0.329446286,  0.448077135,  0.117200474],\n",
              "       [-0.402481694,  1.833317639, -1.076667343, -0.256832748, -0.626182577,  0.856130528, -1.466012705,  1.343950553, -0.511142311, -0.216036815, -0.398601849,  0.353071678, -1.122179083],\n",
              "       [-0.401937774,  0.569535943, -0.917910877, -0.256832748, -1.12128344 , -0.141177127, -0.799490892,  0.818873008, -0.626249053, -0.751637707,  0.23844027 ,  0.381477565, -0.721934014],\n",
              "       [-0.395709776, -0.483615471,  2.138151088, -0.256832748,  0.201830935, -0.431764647,  0.856063288, -0.815392013, -0.856462535, -1.311310549,  0.283943278,  0.247959259,  0.716187922],\n",
              "       [-0.019116374, -0.483615471,  1.028325795, -0.256832748,  0.193294713,  0.239690011,  0.21462563 , -0.416122002,  1.675885772,  1.565287499,  0.784476371,  0.410521786,  0.223472441]])"
            ]
          },
          "metadata": {
            "tags": []
          },
          "execution_count": 10
        }
      ]
    },
    {
      "cell_type": "code",
      "metadata": {
        "colab": {
          "base_uri": "https://localhost:8080/"
        },
        "id": "Tk-c7JKkFmBf",
        "outputId": "d2ff06d9-b1ad-4236-e3a0-48b8f5865586"
      },
      "source": [
        "X_test.mean(axis = 0), X_test.std(axis = 0)"
      ],
      "execution_count": 11,
      "outputs": [
        {
          "output_type": "execute_result",
          "data": {
            "text/plain": [
              "(array([-0.070728597, -0.024358854,  0.023588751,  0.1500709  , -0.112678625,  0.122829905, -0.077460727,  0.133999849,  0.0621344  ,  0.069817593, -0.046176587,  0.099794721, -0.060081841]),\n",
              " array([0.579316943, 0.904316656, 1.03622933 , 1.234199874, 0.934494178, 0.94374857 , 1.035341817, 1.167962123, 1.004768412, 1.062287782, 0.917716328, 0.837808078, 0.919528367]))"
            ]
          },
          "metadata": {
            "tags": []
          },
          "execution_count": 11
        }
      ]
    },
    {
      "cell_type": "markdown",
      "metadata": {
        "id": "yVyXm7wqHLIK"
      },
      "source": [
        "## Sklearn - StandardScaler"
      ]
    },
    {
      "cell_type": "code",
      "metadata": {
        "colab": {
          "base_uri": "https://localhost:8080/"
        },
        "id": "Xrb8XBETDtgM",
        "outputId": "486be94f-6824-48df-e9d7-5ce2432cef0c"
      },
      "source": [
        "# 사이킷런 Standardization\n",
        "from sklearn.preprocessing import StandardScaler\n",
        "\n",
        "scaler = StandardScaler()\n",
        "train_data_scaled = scaler.fit_transform(train_data)\n",
        "train_data_scaled"
      ],
      "execution_count": 12,
      "outputs": [
        {
          "output_type": "execute_result",
          "data": {
            "text/plain": [
              "array([[-0.272246334, -0.483615471, -0.435761611, ...,  1.148500439,  0.448077135,  0.825220199],\n",
              "       [-0.403426512,  2.991784194, -1.333911616, ..., -1.718189094,  0.431905993, -1.329202394],\n",
              "       [ 0.1249402  , -0.483615471,  1.028325795, ...,  0.784476371,  0.220617263, -1.308500063],\n",
              "       ...,\n",
              "       [-0.402029872,  0.990796508, -0.741514804, ..., -0.717122908,  0.079438942, -0.677769041],\n",
              "       [-0.172920175, -0.483615471,  1.245880952, ..., -1.718189094, -0.987643619,  0.420834664],\n",
              "       [-0.40422614 ,  2.043947921, -1.201614561, ..., -1.308662018,  0.233171175, -1.153922657]])"
            ]
          },
          "metadata": {
            "tags": []
          },
          "execution_count": 12
        }
      ]
    },
    {
      "cell_type": "code",
      "metadata": {
        "colab": {
          "base_uri": "https://localhost:8080/"
        },
        "id": "wB9YKQm0FX7O",
        "outputId": "9ded0bdd-7680-433a-8971-f4efeebd8418"
      },
      "source": [
        "train_data_scaled.mean(axis = 0), train_data_scaled.std(axis = 0)"
      ],
      "execution_count": 13,
      "outputs": [
        {
          "output_type": "execute_result",
          "data": {
            "text/plain": [
              "(array([ 0.,  0.,  0.,  0.,  0., -0.,  0.,  0.,  0., -0., -0.,  0., -0.]),\n",
              " array([1., 1., 1., 1., 1., 1., 1., 1., 1., 1., 1., 1., 1.]))"
            ]
          },
          "metadata": {
            "tags": []
          },
          "execution_count": 13
        }
      ]
    },
    {
      "cell_type": "code",
      "metadata": {
        "colab": {
          "base_uri": "https://localhost:8080/"
        },
        "id": "kimjaH7jEgAW",
        "outputId": "e65cc208-f926-43f1-c98d-1785b7b91460"
      },
      "source": [
        "X_test_scaled = scaler.transform(X_test)\n",
        "X_test_scaled"
      ],
      "execution_count": 14,
      "outputs": [
        {
          "output_type": "execute_result",
          "data": {
            "text/plain": [
              "array([[ 1.553693545, -0.483615471,  1.028325795, ...,  0.784476371, -3.484595533,  2.250920736],\n",
              "       [-0.39242675 , -0.483615471, -0.16087773 , ..., -0.307595832,  0.427331262,  0.478801191],\n",
              "       [-0.399829269, -0.483615471, -0.869401957, ...,  0.784476371,  0.448077135, -0.414159358],\n",
              "       ...,\n",
              "       [-0.207095066, -0.483615471,  1.245880952, ..., -1.718189094,  0.370519489, -1.493440888],\n",
              "       [-0.366986009, -0.483615471, -0.720935262, ..., -0.489607866,  0.392754808, -0.418299824],\n",
              "       [-0.088967895, -0.483615471,  1.245880952, ..., -1.718189094, -1.219465443, -0.40449827 ]])"
            ]
          },
          "metadata": {
            "tags": []
          },
          "execution_count": 14
        }
      ]
    },
    {
      "cell_type": "code",
      "metadata": {
        "colab": {
          "base_uri": "https://localhost:8080/"
        },
        "id": "q9lQrLd1FLTW",
        "outputId": "f99c8d33-2773-4fdd-bf3f-1be2df04c651"
      },
      "source": [
        "X_test_scaled.mean(axis = 0), X_test_scaled.std(axis = 0)"
      ],
      "execution_count": 15,
      "outputs": [
        {
          "output_type": "execute_result",
          "data": {
            "text/plain": [
              "(array([-0.070728597, -0.024358854,  0.023588751,  0.1500709  , -0.112678625,  0.122829905, -0.077460727,  0.133999849,  0.0621344  ,  0.069817593, -0.046176587,  0.099794721, -0.060081841]),\n",
              " array([0.579316943, 0.904316656, 1.03622933 , 1.234199874, 0.934494178, 0.94374857 , 1.035341817, 1.167962123, 1.004768412, 1.062287782, 0.917716328, 0.837808078, 0.919528367]))"
            ]
          },
          "metadata": {
            "tags": []
          },
          "execution_count": 15
        }
      ]
    },
    {
      "cell_type": "code",
      "metadata": {
        "colab": {
          "base_uri": "https://localhost:8080/"
        },
        "id": "nxniYybtHkUQ",
        "outputId": "d8cf0f16-2b63-40a5-8459-d08b34c57199"
      },
      "source": [
        "# 직접 scaling 방식과 StandardScaler 방식의 X_test의 data 비교\n",
        "X_test[:10], X_test_scaled[:10]"
      ],
      "execution_count": 16,
      "outputs": [
        {
          "output_type": "execute_result",
          "data": {
            "text/plain": [
              "(array([[ 1.553693545, -0.483615471,  1.028325795, -0.256832748,  1.038380668,  0.235458154,  1.110488282, -0.939769356,  1.675885772,  1.565287499,  0.784476371, -3.484595533,  2.250920736],\n",
              "        [-0.39242675 , -0.483615471, -0.16087773 , -0.256832748, -0.088400606, -0.499474361,  0.856063288, -0.683962347, -0.39603557 ,  0.157078413, -0.307595832,  0.427331262,  0.478801191],\n",
              "        [-0.399829269, -0.483615471, -0.869401957, -0.256832748, -0.361559702, -0.39790979 , -0.84607575 ,  0.52864277 , -0.511142311, -1.094662998,  0.784476371,  0.448077135, -0.414159358],\n",
              "        [-0.26780504 , -0.483615471,  1.245880952,  3.893584467,  0.406700257, -0.024095747,  0.845312937, -0.957671408, -0.511142311, -0.017443226, -1.718189094, -0.168766802, -0.999345252],\n",
              "        [-0.398037149, -0.483615471, -0.972299666, -0.256832748, -0.924950339, -0.206065602, -0.437562381,  0.003614542, -0.741355794, -0.956249284,  0.010925227,  0.429459044, -0.593579561],\n",
              "        [-0.375493705, -0.483615471, -0.207916683, -0.256832748,  0.235975822, -0.481136313, -0.946412367, -0.670005651, -0.39603557 , -0.089659077,  0.329446286,  0.448077135,  0.117200474],\n",
              "        [-0.402481694,  1.833317639, -1.076667343, -0.256832748, -0.626182577,  0.856130528, -1.466012705,  1.343950553, -0.511142311, -0.216036815, -0.398601849,  0.353071678, -1.122179083],\n",
              "        [-0.401937774,  0.569535943, -0.917910877, -0.256832748, -1.12128344 , -0.141177127, -0.799490892,  0.818873008, -0.626249053, -0.751637707,  0.23844027 ,  0.381477565, -0.721934014],\n",
              "        [-0.395709776, -0.483615471,  2.138151088, -0.256832748,  0.201830935, -0.431764647,  0.856063288, -0.815392013, -0.856462535, -1.311310549,  0.283943278,  0.247959259,  0.716187922],\n",
              "        [-0.019116374, -0.483615471,  1.028325795, -0.256832748,  0.193294713,  0.239690011,  0.21462563 , -0.416122002,  1.675885772,  1.565287499,  0.784476371,  0.410521786,  0.223472441]]),\n",
              " array([[ 1.553693545, -0.483615471,  1.028325795, -0.256832748,  1.038380668,  0.235458154,  1.110488282, -0.939769356,  1.675885772,  1.565287499,  0.784476371, -3.484595533,  2.250920736],\n",
              "        [-0.39242675 , -0.483615471, -0.16087773 , -0.256832748, -0.088400606, -0.499474361,  0.856063288, -0.683962347, -0.39603557 ,  0.157078413, -0.307595832,  0.427331262,  0.478801191],\n",
              "        [-0.399829269, -0.483615471, -0.869401957, -0.256832748, -0.361559702, -0.39790979 , -0.84607575 ,  0.52864277 , -0.511142311, -1.094662998,  0.784476371,  0.448077135, -0.414159358],\n",
              "        [-0.26780504 , -0.483615471,  1.245880952,  3.893584467,  0.406700257, -0.024095747,  0.845312937, -0.957671408, -0.511142311, -0.017443226, -1.718189094, -0.168766802, -0.999345252],\n",
              "        [-0.398037149, -0.483615471, -0.972299666, -0.256832748, -0.924950339, -0.206065602, -0.437562381,  0.003614542, -0.741355794, -0.956249284,  0.010925227,  0.429459044, -0.593579561],\n",
              "        [-0.375493705, -0.483615471, -0.207916683, -0.256832748,  0.235975822, -0.481136313, -0.946412367, -0.670005651, -0.39603557 , -0.089659077,  0.329446286,  0.448077135,  0.117200474],\n",
              "        [-0.402481694,  1.833317639, -1.076667343, -0.256832748, -0.626182577,  0.856130528, -1.466012705,  1.343950553, -0.511142311, -0.216036815, -0.398601849,  0.353071678, -1.122179083],\n",
              "        [-0.401937774,  0.569535943, -0.917910877, -0.256832748, -1.12128344 , -0.141177127, -0.799490892,  0.818873008, -0.626249053, -0.751637707,  0.23844027 ,  0.381477565, -0.721934014],\n",
              "        [-0.395709776, -0.483615471,  2.138151088, -0.256832748,  0.201830935, -0.431764647,  0.856063288, -0.815392013, -0.856462535, -1.311310549,  0.283943278,  0.247959259,  0.716187922],\n",
              "        [-0.019116374, -0.483615471,  1.028325795, -0.256832748,  0.193294713,  0.239690011,  0.21462563 , -0.416122002,  1.675885772,  1.565287499,  0.784476371,  0.410521786,  0.223472441]]))"
            ]
          },
          "metadata": {
            "tags": []
          },
          "execution_count": 16
        }
      ]
    },
    {
      "cell_type": "code",
      "metadata": {
        "colab": {
          "base_uri": "https://localhost:8080/"
        },
        "id": "dXq3Rv6yHpml",
        "outputId": "2c527a92-b9d5-4f8c-d546-3e0ade6b892a"
      },
      "source": [
        "# 직접 scaling 방식과 StandardScaler 방식의 X_test의 mean, std 비교\n",
        "X_test.mean(axis = 0), X_test_scaled.mean(axis = 0), X_test.std(axis = 0), X_test_scaled.std(axis = 0)"
      ],
      "execution_count": 17,
      "outputs": [
        {
          "output_type": "execute_result",
          "data": {
            "text/plain": [
              "(array([-0.070728597, -0.024358854,  0.023588751,  0.1500709  , -0.112678625,  0.122829905, -0.077460727,  0.133999849,  0.0621344  ,  0.069817593, -0.046176587,  0.099794721, -0.060081841]),\n",
              " array([-0.070728597, -0.024358854,  0.023588751,  0.1500709  , -0.112678625,  0.122829905, -0.077460727,  0.133999849,  0.0621344  ,  0.069817593, -0.046176587,  0.099794721, -0.060081841]),\n",
              " array([0.579316943, 0.904316656, 1.03622933 , 1.234199874, 0.934494178, 0.94374857 , 1.035341817, 1.167962123, 1.004768412, 1.062287782, 0.917716328, 0.837808078, 0.919528367]),\n",
              " array([0.579316943, 0.904316656, 1.03622933 , 1.234199874, 0.934494178, 0.94374857 , 1.035341817, 1.167962123, 1.004768412, 1.062287782, 0.917716328, 0.837808078, 0.919528367]))"
            ]
          },
          "metadata": {
            "tags": []
          },
          "execution_count": 17
        }
      ]
    },
    {
      "cell_type": "markdown",
      "metadata": {
        "id": "Cw4t2E5iJIek"
      },
      "source": [
        "## Train & Validation Split"
      ]
    },
    {
      "cell_type": "code",
      "metadata": {
        "colab": {
          "base_uri": "https://localhost:8080/"
        },
        "id": "SoccO0TAJLz2",
        "outputId": "7e6c8623-d113-453d-e400-e02e3d91c481"
      },
      "source": [
        "from sklearn.model_selection import train_test_split\n",
        "\n",
        "X_train, X_valid, y_train, y_valid = train_test_split(train_data, train_targets,\n",
        "                                                      test_size = 0.2,\n",
        "                                                      random_state = 2045)\n",
        "\n",
        "X_train.shape, X_valid.shape, y_train.shape, y_valid.shape"
      ],
      "execution_count": 18,
      "outputs": [
        {
          "output_type": "execute_result",
          "data": {
            "text/plain": [
              "((323, 13), (81, 13), (323,), (81,))"
            ]
          },
          "metadata": {
            "tags": []
          },
          "execution_count": 18
        }
      ]
    },
    {
      "cell_type": "markdown",
      "metadata": {
        "id": "PlxuiYCrI3w5"
      },
      "source": [
        "# 3. Keras Modeling"
      ]
    },
    {
      "cell_type": "code",
      "metadata": {
        "id": "NTuGewaYH5S5"
      },
      "source": [
        "from tensorflow.keras import models\n",
        "from tensorflow.keras import layers\n",
        "\n",
        "boston = models.Sequential(name = 'Regression')\n",
        "boston.add(layers.Dense(64, activation = 'relu', input_shape = (13, )))\n",
        "boston.add(layers.Dense(64, activation = 'relu'))\n",
        "boston.add(layers.Dense(1))"
      ],
      "execution_count": 19,
      "outputs": []
    },
    {
      "cell_type": "code",
      "metadata": {
        "colab": {
          "base_uri": "https://localhost:8080/"
        },
        "id": "Rap0zinWJyFl",
        "outputId": "5d4874e3-35d7-4904-c318-174e8e22e247"
      },
      "source": [
        "boston.summary()"
      ],
      "execution_count": 20,
      "outputs": [
        {
          "output_type": "stream",
          "text": [
            "Model: \"Regression\"\n",
            "_________________________________________________________________\n",
            "Layer (type)                 Output Shape              Param #   \n",
            "=================================================================\n",
            "dense (Dense)                (None, 64)                896       \n",
            "_________________________________________________________________\n",
            "dense_1 (Dense)              (None, 64)                4160      \n",
            "_________________________________________________________________\n",
            "dense_2 (Dense)              (None, 1)                 65        \n",
            "=================================================================\n",
            "Total params: 5,121\n",
            "Trainable params: 5,121\n",
            "Non-trainable params: 0\n",
            "_________________________________________________________________\n"
          ],
          "name": "stdout"
        }
      ]
    },
    {
      "cell_type": "code",
      "metadata": {
        "id": "zeXvvASXJzUs"
      },
      "source": [
        "boston.compile(loss = 'mse', \n",
        "               optimizer = 'rmsprop',\n",
        "               metrics = ['mae'])"
      ],
      "execution_count": 21,
      "outputs": []
    },
    {
      "cell_type": "code",
      "metadata": {
        "colab": {
          "base_uri": "https://localhost:8080/"
        },
        "id": "y8mn68AKKPRO",
        "outputId": "17719d35-9029-4da4-dd27-77d64d1b52ca"
      },
      "source": [
        "%%time\n",
        "\n",
        "Hist_boston = boston.fit(X_train, y_train,\n",
        "                         epochs = 500,\n",
        "                         batch_size = 1,\n",
        "                         validation_data = (X_valid, y_valid))"
      ],
      "execution_count": 22,
      "outputs": [
        {
          "output_type": "stream",
          "text": [
            "Epoch 1/500\n",
            "323/323 [==============================] - 2s 3ms/step - loss: 184.6423 - mae: 9.9825 - val_loss: 50.6348 - val_mae: 4.2638\n",
            "Epoch 2/500\n",
            "323/323 [==============================] - 1s 2ms/step - loss: 28.7264 - mae: 3.7247 - val_loss: 26.8194 - val_mae: 3.0852\n",
            "Epoch 3/500\n",
            "323/323 [==============================] - 1s 2ms/step - loss: 19.0349 - mae: 3.0678 - val_loss: 23.6513 - val_mae: 3.0071\n",
            "Epoch 4/500\n",
            "323/323 [==============================] - 1s 2ms/step - loss: 16.7988 - mae: 2.8005 - val_loss: 22.1472 - val_mae: 2.6343\n",
            "Epoch 5/500\n",
            "323/323 [==============================] - 1s 2ms/step - loss: 15.1965 - mae: 2.6110 - val_loss: 20.6676 - val_mae: 2.6094\n",
            "Epoch 6/500\n",
            "323/323 [==============================] - 1s 2ms/step - loss: 13.8308 - mae: 2.4596 - val_loss: 19.0626 - val_mae: 2.4839\n",
            "Epoch 7/500\n",
            "323/323 [==============================] - 1s 2ms/step - loss: 13.3306 - mae: 2.4027 - val_loss: 20.3641 - val_mae: 2.6904\n",
            "Epoch 8/500\n",
            "323/323 [==============================] - 1s 2ms/step - loss: 11.8665 - mae: 2.3516 - val_loss: 20.8654 - val_mae: 2.5823\n",
            "Epoch 9/500\n",
            "323/323 [==============================] - 1s 2ms/step - loss: 11.9943 - mae: 2.2633 - val_loss: 17.3501 - val_mae: 2.7597\n",
            "Epoch 10/500\n",
            "323/323 [==============================] - 1s 2ms/step - loss: 11.8404 - mae: 2.2602 - val_loss: 17.9413 - val_mae: 2.4726\n",
            "Epoch 11/500\n",
            "323/323 [==============================] - 1s 2ms/step - loss: 11.5819 - mae: 2.2419 - val_loss: 18.0113 - val_mae: 2.4889\n",
            "Epoch 12/500\n",
            "323/323 [==============================] - 1s 2ms/step - loss: 11.2890 - mae: 2.2724 - val_loss: 15.1471 - val_mae: 2.5222\n",
            "Epoch 13/500\n",
            "323/323 [==============================] - 1s 2ms/step - loss: 11.1080 - mae: 2.2744 - val_loss: 14.8878 - val_mae: 2.3896\n",
            "Epoch 14/500\n",
            "323/323 [==============================] - 1s 2ms/step - loss: 10.7660 - mae: 2.1318 - val_loss: 16.8795 - val_mae: 2.4368\n",
            "Epoch 15/500\n",
            "323/323 [==============================] - 1s 2ms/step - loss: 11.2183 - mae: 2.1501 - val_loss: 14.7652 - val_mae: 2.2685\n",
            "Epoch 16/500\n",
            "323/323 [==============================] - 1s 2ms/step - loss: 10.4451 - mae: 2.0622 - val_loss: 14.1939 - val_mae: 2.1823\n",
            "Epoch 17/500\n",
            "323/323 [==============================] - 1s 2ms/step - loss: 10.3495 - mae: 2.0938 - val_loss: 14.5938 - val_mae: 2.2342\n",
            "Epoch 18/500\n",
            "323/323 [==============================] - 1s 2ms/step - loss: 9.7083 - mae: 1.9654 - val_loss: 13.7496 - val_mae: 2.2729\n",
            "Epoch 19/500\n",
            "323/323 [==============================] - 1s 2ms/step - loss: 9.5775 - mae: 2.0518 - val_loss: 15.9605 - val_mae: 2.4870\n",
            "Epoch 20/500\n",
            "323/323 [==============================] - 1s 2ms/step - loss: 9.3319 - mae: 1.9734 - val_loss: 12.8835 - val_mae: 2.1301\n",
            "Epoch 21/500\n",
            "323/323 [==============================] - 1s 2ms/step - loss: 9.3317 - mae: 1.9642 - val_loss: 13.1605 - val_mae: 2.4460\n",
            "Epoch 22/500\n",
            "323/323 [==============================] - 1s 2ms/step - loss: 8.9570 - mae: 1.9287 - val_loss: 13.2386 - val_mae: 2.1538\n",
            "Epoch 23/500\n",
            "323/323 [==============================] - 1s 2ms/step - loss: 9.0464 - mae: 1.9688 - val_loss: 13.3650 - val_mae: 2.2323\n",
            "Epoch 24/500\n",
            "323/323 [==============================] - 1s 2ms/step - loss: 9.6033 - mae: 1.9629 - val_loss: 12.0785 - val_mae: 2.0642\n",
            "Epoch 25/500\n",
            "323/323 [==============================] - 1s 2ms/step - loss: 8.9664 - mae: 1.9518 - val_loss: 11.6409 - val_mae: 2.1860\n",
            "Epoch 26/500\n",
            "323/323 [==============================] - 1s 2ms/step - loss: 8.7144 - mae: 1.9646 - val_loss: 12.3419 - val_mae: 2.0949\n",
            "Epoch 27/500\n",
            "323/323 [==============================] - 1s 2ms/step - loss: 9.0199 - mae: 1.9460 - val_loss: 12.3558 - val_mae: 2.1438\n",
            "Epoch 28/500\n",
            "323/323 [==============================] - 1s 2ms/step - loss: 8.5063 - mae: 1.9172 - val_loss: 11.3962 - val_mae: 2.0834\n",
            "Epoch 29/500\n",
            "323/323 [==============================] - 1s 2ms/step - loss: 8.4028 - mae: 1.9367 - val_loss: 13.1678 - val_mae: 2.4674\n",
            "Epoch 30/500\n",
            "323/323 [==============================] - 1s 2ms/step - loss: 8.0300 - mae: 1.8850 - val_loss: 11.6707 - val_mae: 2.2500\n",
            "Epoch 31/500\n",
            "323/323 [==============================] - 1s 2ms/step - loss: 8.3188 - mae: 1.8569 - val_loss: 12.2961 - val_mae: 2.1343\n",
            "Epoch 32/500\n",
            "323/323 [==============================] - 1s 2ms/step - loss: 7.7973 - mae: 1.8371 - val_loss: 10.7741 - val_mae: 2.0832\n",
            "Epoch 33/500\n",
            "323/323 [==============================] - 1s 2ms/step - loss: 7.7519 - mae: 1.8081 - val_loss: 12.4947 - val_mae: 2.3199\n",
            "Epoch 34/500\n",
            "323/323 [==============================] - 1s 2ms/step - loss: 8.0350 - mae: 1.8395 - val_loss: 10.2773 - val_mae: 2.0218\n",
            "Epoch 35/500\n",
            "323/323 [==============================] - 1s 2ms/step - loss: 7.6634 - mae: 1.7826 - val_loss: 10.6437 - val_mae: 1.9371\n",
            "Epoch 36/500\n",
            "323/323 [==============================] - 1s 2ms/step - loss: 7.6765 - mae: 1.8112 - val_loss: 13.8647 - val_mae: 2.4347\n",
            "Epoch 37/500\n",
            "323/323 [==============================] - 1s 2ms/step - loss: 7.5917 - mae: 1.8472 - val_loss: 11.2769 - val_mae: 2.0666\n",
            "Epoch 38/500\n",
            "323/323 [==============================] - 1s 2ms/step - loss: 7.6735 - mae: 1.8085 - val_loss: 10.6184 - val_mae: 2.0239\n",
            "Epoch 39/500\n",
            "323/323 [==============================] - 1s 2ms/step - loss: 7.7218 - mae: 1.8306 - val_loss: 11.7514 - val_mae: 2.1129\n",
            "Epoch 40/500\n",
            "323/323 [==============================] - 1s 2ms/step - loss: 7.1021 - mae: 1.7704 - val_loss: 11.1161 - val_mae: 2.0924\n",
            "Epoch 41/500\n",
            "323/323 [==============================] - 1s 2ms/step - loss: 7.2644 - mae: 1.7580 - val_loss: 11.8932 - val_mae: 2.1488\n",
            "Epoch 42/500\n",
            "323/323 [==============================] - 1s 2ms/step - loss: 6.9761 - mae: 1.7697 - val_loss: 11.8482 - val_mae: 2.1390\n",
            "Epoch 43/500\n",
            "323/323 [==============================] - 1s 2ms/step - loss: 7.3848 - mae: 1.7858 - val_loss: 10.8513 - val_mae: 2.0667\n",
            "Epoch 44/500\n",
            "323/323 [==============================] - 1s 2ms/step - loss: 7.0000 - mae: 1.7421 - val_loss: 11.6907 - val_mae: 2.1224\n",
            "Epoch 45/500\n",
            "323/323 [==============================] - 1s 2ms/step - loss: 6.4965 - mae: 1.7077 - val_loss: 10.8759 - val_mae: 2.0776\n",
            "Epoch 46/500\n",
            "323/323 [==============================] - 1s 2ms/step - loss: 6.3398 - mae: 1.6953 - val_loss: 11.5337 - val_mae: 2.0851\n",
            "Epoch 47/500\n",
            "323/323 [==============================] - 1s 2ms/step - loss: 7.0149 - mae: 1.6820 - val_loss: 9.9426 - val_mae: 2.1388\n",
            "Epoch 48/500\n",
            "323/323 [==============================] - 1s 2ms/step - loss: 6.0393 - mae: 1.6792 - val_loss: 10.5751 - val_mae: 2.0650\n",
            "Epoch 49/500\n",
            "323/323 [==============================] - 1s 2ms/step - loss: 6.5822 - mae: 1.6470 - val_loss: 11.5839 - val_mae: 2.2804\n",
            "Epoch 50/500\n",
            "323/323 [==============================] - 1s 2ms/step - loss: 6.5782 - mae: 1.6720 - val_loss: 11.3373 - val_mae: 2.2872\n",
            "Epoch 51/500\n",
            "323/323 [==============================] - 1s 2ms/step - loss: 6.3626 - mae: 1.6436 - val_loss: 9.9035 - val_mae: 2.1571\n",
            "Epoch 52/500\n",
            "323/323 [==============================] - 1s 2ms/step - loss: 6.4738 - mae: 1.7021 - val_loss: 10.9523 - val_mae: 2.1376\n",
            "Epoch 53/500\n",
            "323/323 [==============================] - 1s 2ms/step - loss: 6.2285 - mae: 1.6618 - val_loss: 12.4473 - val_mae: 2.2468\n",
            "Epoch 54/500\n",
            "323/323 [==============================] - 1s 2ms/step - loss: 6.4311 - mae: 1.5763 - val_loss: 9.0778 - val_mae: 1.9867\n",
            "Epoch 55/500\n",
            "323/323 [==============================] - 1s 2ms/step - loss: 6.0128 - mae: 1.6448 - val_loss: 10.2828 - val_mae: 2.0673\n",
            "Epoch 56/500\n",
            "323/323 [==============================] - 1s 2ms/step - loss: 6.2620 - mae: 1.6540 - val_loss: 11.2770 - val_mae: 2.2423\n",
            "Epoch 57/500\n",
            "323/323 [==============================] - 1s 2ms/step - loss: 6.3090 - mae: 1.5991 - val_loss: 10.5657 - val_mae: 2.0366\n",
            "Epoch 58/500\n",
            "323/323 [==============================] - 1s 2ms/step - loss: 6.3704 - mae: 1.5812 - val_loss: 12.4230 - val_mae: 2.3357\n",
            "Epoch 59/500\n",
            "323/323 [==============================] - 1s 2ms/step - loss: 5.9626 - mae: 1.5919 - val_loss: 10.1082 - val_mae: 2.1479\n",
            "Epoch 60/500\n",
            "323/323 [==============================] - 1s 2ms/step - loss: 5.7355 - mae: 1.6483 - val_loss: 9.4971 - val_mae: 1.9407\n",
            "Epoch 61/500\n",
            "323/323 [==============================] - 1s 2ms/step - loss: 5.7213 - mae: 1.6249 - val_loss: 9.6140 - val_mae: 2.0014\n",
            "Epoch 62/500\n",
            "323/323 [==============================] - 1s 2ms/step - loss: 5.7833 - mae: 1.5879 - val_loss: 9.3838 - val_mae: 2.0029\n",
            "Epoch 63/500\n",
            "323/323 [==============================] - 1s 2ms/step - loss: 5.7268 - mae: 1.4784 - val_loss: 10.6564 - val_mae: 2.2264\n",
            "Epoch 64/500\n",
            "323/323 [==============================] - 1s 2ms/step - loss: 5.3083 - mae: 1.5324 - val_loss: 10.9586 - val_mae: 2.0969\n",
            "Epoch 65/500\n",
            "323/323 [==============================] - 1s 2ms/step - loss: 5.6552 - mae: 1.5384 - val_loss: 9.7328 - val_mae: 1.9319\n",
            "Epoch 66/500\n",
            "323/323 [==============================] - 1s 2ms/step - loss: 5.3873 - mae: 1.5092 - val_loss: 11.4122 - val_mae: 2.3546\n",
            "Epoch 67/500\n",
            "323/323 [==============================] - 1s 2ms/step - loss: 5.5809 - mae: 1.5539 - val_loss: 8.9534 - val_mae: 2.0690\n",
            "Epoch 68/500\n",
            "323/323 [==============================] - 1s 2ms/step - loss: 5.3517 - mae: 1.5750 - val_loss: 9.5326 - val_mae: 1.9688\n",
            "Epoch 69/500\n",
            "323/323 [==============================] - 1s 2ms/step - loss: 5.2959 - mae: 1.5134 - val_loss: 9.8787 - val_mae: 2.0876\n",
            "Epoch 70/500\n",
            "323/323 [==============================] - 1s 2ms/step - loss: 5.3265 - mae: 1.5377 - val_loss: 9.8748 - val_mae: 2.1191\n",
            "Epoch 71/500\n",
            "323/323 [==============================] - 1s 2ms/step - loss: 5.2509 - mae: 1.5354 - val_loss: 8.2434 - val_mae: 1.7589\n",
            "Epoch 72/500\n",
            "323/323 [==============================] - 1s 2ms/step - loss: 5.1648 - mae: 1.5141 - val_loss: 8.2633 - val_mae: 1.9094\n",
            "Epoch 73/500\n",
            "323/323 [==============================] - 1s 2ms/step - loss: 5.0611 - mae: 1.4238 - val_loss: 11.0040 - val_mae: 2.0603\n",
            "Epoch 74/500\n",
            "323/323 [==============================] - 1s 2ms/step - loss: 4.9005 - mae: 1.4583 - val_loss: 10.2547 - val_mae: 2.1072\n",
            "Epoch 75/500\n",
            "323/323 [==============================] - 1s 2ms/step - loss: 5.1835 - mae: 1.4952 - val_loss: 10.0082 - val_mae: 2.1281\n",
            "Epoch 76/500\n",
            "323/323 [==============================] - 1s 2ms/step - loss: 5.2550 - mae: 1.4837 - val_loss: 8.7854 - val_mae: 1.9732\n",
            "Epoch 77/500\n",
            "323/323 [==============================] - 1s 2ms/step - loss: 4.7549 - mae: 1.4715 - val_loss: 9.9245 - val_mae: 2.0022\n",
            "Epoch 78/500\n",
            "323/323 [==============================] - 1s 2ms/step - loss: 4.8978 - mae: 1.4313 - val_loss: 10.1778 - val_mae: 2.1353\n",
            "Epoch 79/500\n",
            "323/323 [==============================] - 1s 2ms/step - loss: 4.9052 - mae: 1.4485 - val_loss: 10.3608 - val_mae: 2.1139\n",
            "Epoch 80/500\n",
            "323/323 [==============================] - 1s 2ms/step - loss: 4.9571 - mae: 1.4422 - val_loss: 9.7679 - val_mae: 2.2227\n",
            "Epoch 81/500\n",
            "323/323 [==============================] - 1s 2ms/step - loss: 5.0712 - mae: 1.4520 - val_loss: 10.6792 - val_mae: 2.1774\n",
            "Epoch 82/500\n",
            "323/323 [==============================] - 1s 2ms/step - loss: 4.8025 - mae: 1.4588 - val_loss: 8.8125 - val_mae: 1.9658\n",
            "Epoch 83/500\n",
            "323/323 [==============================] - 1s 2ms/step - loss: 4.8720 - mae: 1.3676 - val_loss: 9.5298 - val_mae: 2.1209\n",
            "Epoch 84/500\n",
            "323/323 [==============================] - 1s 2ms/step - loss: 4.6406 - mae: 1.3873 - val_loss: 9.4276 - val_mae: 2.0846\n",
            "Epoch 85/500\n",
            "323/323 [==============================] - 1s 2ms/step - loss: 4.8765 - mae: 1.4297 - val_loss: 9.1181 - val_mae: 2.0222\n",
            "Epoch 86/500\n",
            "323/323 [==============================] - 1s 2ms/step - loss: 4.8071 - mae: 1.4423 - val_loss: 10.4141 - val_mae: 2.0822\n",
            "Epoch 87/500\n",
            "323/323 [==============================] - 1s 2ms/step - loss: 4.4112 - mae: 1.4464 - val_loss: 9.1049 - val_mae: 2.0420\n",
            "Epoch 88/500\n",
            "323/323 [==============================] - 1s 2ms/step - loss: 4.4202 - mae: 1.3711 - val_loss: 10.4254 - val_mae: 2.1538\n",
            "Epoch 89/500\n",
            "323/323 [==============================] - 1s 2ms/step - loss: 4.5130 - mae: 1.4196 - val_loss: 10.2182 - val_mae: 2.1423\n",
            "Epoch 90/500\n",
            "323/323 [==============================] - 1s 2ms/step - loss: 4.3491 - mae: 1.3625 - val_loss: 11.4386 - val_mae: 2.3446\n",
            "Epoch 91/500\n",
            "323/323 [==============================] - 1s 2ms/step - loss: 4.3682 - mae: 1.4187 - val_loss: 14.0655 - val_mae: 2.6379\n",
            "Epoch 92/500\n",
            "323/323 [==============================] - 1s 2ms/step - loss: 4.5085 - mae: 1.3578 - val_loss: 9.9030 - val_mae: 2.0899\n",
            "Epoch 93/500\n",
            "323/323 [==============================] - 1s 2ms/step - loss: 4.2146 - mae: 1.3608 - val_loss: 12.8220 - val_mae: 2.2675\n",
            "Epoch 94/500\n",
            "323/323 [==============================] - 1s 2ms/step - loss: 4.4521 - mae: 1.3839 - val_loss: 9.4632 - val_mae: 2.0354\n",
            "Epoch 95/500\n",
            "323/323 [==============================] - 1s 2ms/step - loss: 4.2941 - mae: 1.3683 - val_loss: 10.5255 - val_mae: 2.1313\n",
            "Epoch 96/500\n",
            "323/323 [==============================] - 1s 2ms/step - loss: 4.3275 - mae: 1.3691 - val_loss: 12.0119 - val_mae: 2.4538\n",
            "Epoch 97/500\n",
            "323/323 [==============================] - 1s 2ms/step - loss: 3.9504 - mae: 1.2520 - val_loss: 9.5401 - val_mae: 2.0729\n",
            "Epoch 98/500\n",
            "323/323 [==============================] - 1s 2ms/step - loss: 4.4672 - mae: 1.4006 - val_loss: 10.9491 - val_mae: 2.2772\n",
            "Epoch 99/500\n",
            "323/323 [==============================] - 1s 2ms/step - loss: 3.9295 - mae: 1.3697 - val_loss: 10.1448 - val_mae: 2.1712\n",
            "Epoch 100/500\n",
            "323/323 [==============================] - 1s 2ms/step - loss: 3.9370 - mae: 1.3059 - val_loss: 9.6592 - val_mae: 2.1531\n",
            "Epoch 101/500\n",
            "323/323 [==============================] - 1s 2ms/step - loss: 4.1610 - mae: 1.3280 - val_loss: 9.0442 - val_mae: 1.9971\n",
            "Epoch 102/500\n",
            "323/323 [==============================] - 1s 2ms/step - loss: 4.1253 - mae: 1.3460 - val_loss: 11.0147 - val_mae: 2.2634\n",
            "Epoch 103/500\n",
            "323/323 [==============================] - 1s 2ms/step - loss: 4.4194 - mae: 1.2858 - val_loss: 11.0032 - val_mae: 2.2572\n",
            "Epoch 104/500\n",
            "323/323 [==============================] - 1s 2ms/step - loss: 3.8985 - mae: 1.2535 - val_loss: 9.7724 - val_mae: 2.1278\n",
            "Epoch 105/500\n",
            "323/323 [==============================] - 1s 2ms/step - loss: 3.7106 - mae: 1.2691 - val_loss: 10.3579 - val_mae: 2.1223\n",
            "Epoch 106/500\n",
            "323/323 [==============================] - 1s 2ms/step - loss: 4.0829 - mae: 1.3134 - val_loss: 9.1872 - val_mae: 1.9845\n",
            "Epoch 107/500\n",
            "323/323 [==============================] - 1s 2ms/step - loss: 3.8062 - mae: 1.2573 - val_loss: 11.1488 - val_mae: 2.1859\n",
            "Epoch 108/500\n",
            "323/323 [==============================] - 1s 2ms/step - loss: 4.0675 - mae: 1.3182 - val_loss: 10.2027 - val_mae: 2.0670\n",
            "Epoch 109/500\n",
            "323/323 [==============================] - 1s 2ms/step - loss: 3.7106 - mae: 1.2735 - val_loss: 12.8587 - val_mae: 2.3556\n",
            "Epoch 110/500\n",
            "323/323 [==============================] - 1s 2ms/step - loss: 3.6830 - mae: 1.2510 - val_loss: 9.8201 - val_mae: 2.1505\n",
            "Epoch 111/500\n",
            "323/323 [==============================] - 1s 2ms/step - loss: 3.4433 - mae: 1.2782 - val_loss: 12.7643 - val_mae: 2.2543\n",
            "Epoch 112/500\n",
            "323/323 [==============================] - 1s 2ms/step - loss: 4.0800 - mae: 1.2913 - val_loss: 11.8130 - val_mae: 2.3465\n",
            "Epoch 113/500\n",
            "323/323 [==============================] - 1s 2ms/step - loss: 4.0802 - mae: 1.2860 - val_loss: 10.6451 - val_mae: 2.1624\n",
            "Epoch 114/500\n",
            "323/323 [==============================] - 1s 2ms/step - loss: 3.6743 - mae: 1.2379 - val_loss: 10.9885 - val_mae: 2.2206\n",
            "Epoch 115/500\n",
            "323/323 [==============================] - 1s 2ms/step - loss: 3.6337 - mae: 1.2611 - val_loss: 9.9110 - val_mae: 2.1208\n",
            "Epoch 116/500\n",
            "323/323 [==============================] - 1s 2ms/step - loss: 3.7082 - mae: 1.2759 - val_loss: 12.4381 - val_mae: 2.3117\n",
            "Epoch 117/500\n",
            "323/323 [==============================] - 1s 2ms/step - loss: 4.0304 - mae: 1.2678 - val_loss: 9.9507 - val_mae: 2.1444\n",
            "Epoch 118/500\n",
            "323/323 [==============================] - 1s 2ms/step - loss: 3.6739 - mae: 1.2241 - val_loss: 11.9481 - val_mae: 2.2989\n",
            "Epoch 119/500\n",
            "323/323 [==============================] - 1s 2ms/step - loss: 3.8591 - mae: 1.2582 - val_loss: 10.3016 - val_mae: 2.2797\n",
            "Epoch 120/500\n",
            "323/323 [==============================] - 1s 2ms/step - loss: 3.5249 - mae: 1.2173 - val_loss: 10.7148 - val_mae: 2.2418\n",
            "Epoch 121/500\n",
            "323/323 [==============================] - 1s 2ms/step - loss: 3.6007 - mae: 1.2312 - val_loss: 9.5401 - val_mae: 2.1296\n",
            "Epoch 122/500\n",
            "323/323 [==============================] - 1s 2ms/step - loss: 3.5384 - mae: 1.2411 - val_loss: 15.3705 - val_mae: 2.6396\n",
            "Epoch 123/500\n",
            "323/323 [==============================] - 1s 2ms/step - loss: 3.5468 - mae: 1.2459 - val_loss: 11.1590 - val_mae: 2.2983\n",
            "Epoch 124/500\n",
            "323/323 [==============================] - 1s 2ms/step - loss: 3.4540 - mae: 1.2087 - val_loss: 10.6187 - val_mae: 2.2382\n",
            "Epoch 125/500\n",
            "323/323 [==============================] - 1s 2ms/step - loss: 3.4769 - mae: 1.2245 - val_loss: 10.1204 - val_mae: 2.2410\n",
            "Epoch 126/500\n",
            "323/323 [==============================] - 1s 2ms/step - loss: 3.4884 - mae: 1.1655 - val_loss: 12.3525 - val_mae: 2.3774\n",
            "Epoch 127/500\n",
            "323/323 [==============================] - 1s 2ms/step - loss: 3.6031 - mae: 1.1753 - val_loss: 10.7878 - val_mae: 2.2968\n",
            "Epoch 128/500\n",
            "323/323 [==============================] - 1s 2ms/step - loss: 3.4587 - mae: 1.1888 - val_loss: 11.7426 - val_mae: 2.3040\n",
            "Epoch 129/500\n",
            "323/323 [==============================] - 1s 2ms/step - loss: 3.2656 - mae: 1.1323 - val_loss: 12.6530 - val_mae: 2.3660\n",
            "Epoch 130/500\n",
            "323/323 [==============================] - 1s 2ms/step - loss: 3.5947 - mae: 1.2138 - val_loss: 11.1199 - val_mae: 2.2967\n",
            "Epoch 131/500\n",
            "323/323 [==============================] - 1s 2ms/step - loss: 3.2134 - mae: 1.1559 - val_loss: 13.4518 - val_mae: 2.5084\n",
            "Epoch 132/500\n",
            "323/323 [==============================] - 1s 2ms/step - loss: 3.3295 - mae: 1.1894 - val_loss: 11.1457 - val_mae: 2.3423\n",
            "Epoch 133/500\n",
            "323/323 [==============================] - 1s 2ms/step - loss: 3.4037 - mae: 1.1835 - val_loss: 12.8892 - val_mae: 2.7063\n",
            "Epoch 134/500\n",
            "323/323 [==============================] - 1s 2ms/step - loss: 3.2800 - mae: 1.1954 - val_loss: 9.6837 - val_mae: 2.0770\n",
            "Epoch 135/500\n",
            "323/323 [==============================] - 1s 2ms/step - loss: 3.2278 - mae: 1.1808 - val_loss: 10.6304 - val_mae: 2.2545\n",
            "Epoch 136/500\n",
            "323/323 [==============================] - 1s 2ms/step - loss: 3.1242 - mae: 1.1964 - val_loss: 12.1251 - val_mae: 2.5741\n",
            "Epoch 137/500\n",
            "323/323 [==============================] - 1s 2ms/step - loss: 3.1821 - mae: 1.1788 - val_loss: 11.7368 - val_mae: 2.3413\n",
            "Epoch 138/500\n",
            "323/323 [==============================] - 1s 2ms/step - loss: 3.0214 - mae: 1.1387 - val_loss: 11.8648 - val_mae: 2.2887\n",
            "Epoch 139/500\n",
            "323/323 [==============================] - 1s 2ms/step - loss: 3.3200 - mae: 1.1493 - val_loss: 10.1157 - val_mae: 2.2217\n",
            "Epoch 140/500\n",
            "323/323 [==============================] - 1s 2ms/step - loss: 2.9897 - mae: 1.1576 - val_loss: 9.9097 - val_mae: 2.1242\n",
            "Epoch 141/500\n",
            "323/323 [==============================] - 1s 2ms/step - loss: 2.9248 - mae: 1.1235 - val_loss: 12.6243 - val_mae: 2.5051\n",
            "Epoch 142/500\n",
            "323/323 [==============================] - 1s 2ms/step - loss: 3.2252 - mae: 1.2129 - val_loss: 9.1093 - val_mae: 1.9784\n",
            "Epoch 143/500\n",
            "323/323 [==============================] - 1s 2ms/step - loss: 3.0496 - mae: 1.1479 - val_loss: 9.8109 - val_mae: 2.1493\n",
            "Epoch 144/500\n",
            "323/323 [==============================] - 1s 2ms/step - loss: 3.1043 - mae: 1.1232 - val_loss: 9.9418 - val_mae: 2.0972\n",
            "Epoch 145/500\n",
            "323/323 [==============================] - 1s 2ms/step - loss: 3.1033 - mae: 1.1659 - val_loss: 10.0910 - val_mae: 2.2036\n",
            "Epoch 146/500\n",
            "323/323 [==============================] - 1s 2ms/step - loss: 3.0585 - mae: 1.1801 - val_loss: 10.1180 - val_mae: 2.2116\n",
            "Epoch 147/500\n",
            "323/323 [==============================] - 1s 2ms/step - loss: 2.8153 - mae: 1.1208 - val_loss: 10.4477 - val_mae: 2.2209\n",
            "Epoch 148/500\n",
            "323/323 [==============================] - 1s 2ms/step - loss: 2.9576 - mae: 1.1082 - val_loss: 8.7381 - val_mae: 2.0256\n",
            "Epoch 149/500\n",
            "323/323 [==============================] - 1s 2ms/step - loss: 3.0141 - mae: 1.1524 - val_loss: 9.9149 - val_mae: 2.1912\n",
            "Epoch 150/500\n",
            "323/323 [==============================] - 1s 2ms/step - loss: 2.9844 - mae: 1.1668 - val_loss: 9.0758 - val_mae: 2.0976\n",
            "Epoch 151/500\n",
            "323/323 [==============================] - 1s 2ms/step - loss: 2.7165 - mae: 1.1478 - val_loss: 11.7475 - val_mae: 2.5106\n",
            "Epoch 152/500\n",
            "323/323 [==============================] - 1s 2ms/step - loss: 2.7041 - mae: 1.0673 - val_loss: 10.9705 - val_mae: 2.1333\n",
            "Epoch 153/500\n",
            "323/323 [==============================] - 1s 2ms/step - loss: 2.8340 - mae: 1.1277 - val_loss: 11.2053 - val_mae: 2.2998\n",
            "Epoch 154/500\n",
            "323/323 [==============================] - 1s 2ms/step - loss: 2.9347 - mae: 1.0799 - val_loss: 13.8892 - val_mae: 2.5243\n",
            "Epoch 155/500\n",
            "323/323 [==============================] - 1s 2ms/step - loss: 2.8516 - mae: 1.1078 - val_loss: 11.0227 - val_mae: 2.2677\n",
            "Epoch 156/500\n",
            "323/323 [==============================] - 1s 2ms/step - loss: 2.8010 - mae: 1.0890 - val_loss: 10.5716 - val_mae: 2.1983\n",
            "Epoch 157/500\n",
            "323/323 [==============================] - 1s 2ms/step - loss: 2.7126 - mae: 1.0768 - val_loss: 10.7225 - val_mae: 2.2698\n",
            "Epoch 158/500\n",
            "323/323 [==============================] - 1s 2ms/step - loss: 2.6647 - mae: 1.1317 - val_loss: 12.0264 - val_mae: 2.3414\n",
            "Epoch 159/500\n",
            "323/323 [==============================] - 1s 2ms/step - loss: 2.5992 - mae: 1.0601 - val_loss: 11.6331 - val_mae: 2.1888\n",
            "Epoch 160/500\n",
            "323/323 [==============================] - 1s 3ms/step - loss: 2.6436 - mae: 1.1100 - val_loss: 11.5471 - val_mae: 2.4033\n",
            "Epoch 161/500\n",
            "323/323 [==============================] - 1s 2ms/step - loss: 2.8497 - mae: 1.1283 - val_loss: 10.5405 - val_mae: 2.2468\n",
            "Epoch 162/500\n",
            "323/323 [==============================] - 1s 2ms/step - loss: 2.5661 - mae: 1.0890 - val_loss: 11.3222 - val_mae: 2.2219\n",
            "Epoch 163/500\n",
            "323/323 [==============================] - 1s 2ms/step - loss: 2.6607 - mae: 1.0920 - val_loss: 13.4846 - val_mae: 2.6733\n",
            "Epoch 164/500\n",
            "323/323 [==============================] - 1s 2ms/step - loss: 2.8580 - mae: 1.1261 - val_loss: 10.9070 - val_mae: 2.2079\n",
            "Epoch 165/500\n",
            "323/323 [==============================] - 1s 2ms/step - loss: 2.6509 - mae: 1.0460 - val_loss: 11.1097 - val_mae: 2.2233\n",
            "Epoch 166/500\n",
            "323/323 [==============================] - 1s 2ms/step - loss: 2.4892 - mae: 1.1095 - val_loss: 10.5403 - val_mae: 2.1863\n",
            "Epoch 167/500\n",
            "323/323 [==============================] - 1s 2ms/step - loss: 2.7280 - mae: 1.1130 - val_loss: 12.5206 - val_mae: 2.5821\n",
            "Epoch 168/500\n",
            "323/323 [==============================] - 1s 2ms/step - loss: 2.8746 - mae: 1.0969 - val_loss: 13.5586 - val_mae: 2.6035\n",
            "Epoch 169/500\n",
            "323/323 [==============================] - 1s 2ms/step - loss: 2.9532 - mae: 1.1238 - val_loss: 10.9457 - val_mae: 2.1412\n",
            "Epoch 170/500\n",
            "323/323 [==============================] - 1s 2ms/step - loss: 2.4656 - mae: 1.0678 - val_loss: 10.5634 - val_mae: 2.2921\n",
            "Epoch 171/500\n",
            "323/323 [==============================] - 1s 2ms/step - loss: 2.5763 - mae: 1.0698 - val_loss: 10.7965 - val_mae: 2.1880\n",
            "Epoch 172/500\n",
            "323/323 [==============================] - 1s 2ms/step - loss: 2.4809 - mae: 1.0609 - val_loss: 11.0148 - val_mae: 2.2434\n",
            "Epoch 173/500\n",
            "323/323 [==============================] - 1s 3ms/step - loss: 2.5900 - mae: 1.0649 - val_loss: 12.2125 - val_mae: 2.5239\n",
            "Epoch 174/500\n",
            "323/323 [==============================] - 1s 2ms/step - loss: 2.4942 - mae: 1.1062 - val_loss: 11.9341 - val_mae: 2.3049\n",
            "Epoch 175/500\n",
            "323/323 [==============================] - 1s 2ms/step - loss: 2.5525 - mae: 1.0815 - val_loss: 11.3198 - val_mae: 2.2798\n",
            "Epoch 176/500\n",
            "323/323 [==============================] - 1s 2ms/step - loss: 2.8018 - mae: 1.1243 - val_loss: 11.9165 - val_mae: 2.3841\n",
            "Epoch 177/500\n",
            "323/323 [==============================] - 1s 3ms/step - loss: 2.3879 - mae: 1.0723 - val_loss: 12.2055 - val_mae: 2.4601\n",
            "Epoch 178/500\n",
            "323/323 [==============================] - 1s 2ms/step - loss: 2.4495 - mae: 1.0751 - val_loss: 13.6868 - val_mae: 2.4920\n",
            "Epoch 179/500\n",
            "323/323 [==============================] - 1s 2ms/step - loss: 2.2133 - mae: 1.0512 - val_loss: 10.6831 - val_mae: 2.1419\n",
            "Epoch 180/500\n",
            "323/323 [==============================] - 1s 2ms/step - loss: 2.7159 - mae: 1.1323 - val_loss: 13.3902 - val_mae: 2.3861\n",
            "Epoch 181/500\n",
            "323/323 [==============================] - 1s 2ms/step - loss: 2.5752 - mae: 1.0931 - val_loss: 10.3866 - val_mae: 2.1305\n",
            "Epoch 182/500\n",
            "323/323 [==============================] - 1s 2ms/step - loss: 2.3327 - mae: 1.0793 - val_loss: 11.5236 - val_mae: 2.3551\n",
            "Epoch 183/500\n",
            "323/323 [==============================] - 1s 2ms/step - loss: 2.3433 - mae: 1.0359 - val_loss: 12.6831 - val_mae: 2.5394\n",
            "Epoch 184/500\n",
            "323/323 [==============================] - 1s 2ms/step - loss: 2.3236 - mae: 1.0244 - val_loss: 11.9811 - val_mae: 2.2983\n",
            "Epoch 185/500\n",
            "323/323 [==============================] - 1s 2ms/step - loss: 2.6658 - mae: 1.0807 - val_loss: 10.7430 - val_mae: 2.0633\n",
            "Epoch 186/500\n",
            "323/323 [==============================] - 1s 2ms/step - loss: 2.4472 - mae: 1.0188 - val_loss: 12.2343 - val_mae: 2.3421\n",
            "Epoch 187/500\n",
            "323/323 [==============================] - 1s 2ms/step - loss: 2.2999 - mae: 1.0253 - val_loss: 12.5627 - val_mae: 2.3441\n",
            "Epoch 188/500\n",
            "323/323 [==============================] - 1s 2ms/step - loss: 2.3935 - mae: 1.0304 - val_loss: 13.1672 - val_mae: 2.4615\n",
            "Epoch 189/500\n",
            "323/323 [==============================] - 1s 2ms/step - loss: 2.4056 - mae: 1.0509 - val_loss: 14.1292 - val_mae: 2.5333\n",
            "Epoch 190/500\n",
            "323/323 [==============================] - 1s 2ms/step - loss: 2.4307 - mae: 1.0966 - val_loss: 11.8683 - val_mae: 2.4508\n",
            "Epoch 191/500\n",
            "323/323 [==============================] - 1s 2ms/step - loss: 2.3577 - mae: 1.0230 - val_loss: 12.3909 - val_mae: 2.5709\n",
            "Epoch 192/500\n",
            "323/323 [==============================] - 1s 2ms/step - loss: 2.1292 - mae: 1.0215 - val_loss: 12.8401 - val_mae: 2.3501\n",
            "Epoch 193/500\n",
            "323/323 [==============================] - 1s 2ms/step - loss: 2.2894 - mae: 1.0663 - val_loss: 13.7581 - val_mae: 2.3966\n",
            "Epoch 194/500\n",
            "323/323 [==============================] - 1s 2ms/step - loss: 2.2241 - mae: 1.0021 - val_loss: 14.4051 - val_mae: 2.5313\n",
            "Epoch 195/500\n",
            "323/323 [==============================] - 1s 2ms/step - loss: 2.2180 - mae: 0.9720 - val_loss: 12.2405 - val_mae: 2.4118\n",
            "Epoch 196/500\n",
            "323/323 [==============================] - 1s 2ms/step - loss: 2.2173 - mae: 1.0466 - val_loss: 14.8726 - val_mae: 2.5756\n",
            "Epoch 197/500\n",
            "323/323 [==============================] - 1s 2ms/step - loss: 2.3371 - mae: 1.0693 - val_loss: 13.9940 - val_mae: 2.5081\n",
            "Epoch 198/500\n",
            "323/323 [==============================] - 1s 2ms/step - loss: 2.4782 - mae: 1.0984 - val_loss: 13.6084 - val_mae: 2.4815\n",
            "Epoch 199/500\n",
            "323/323 [==============================] - 1s 2ms/step - loss: 1.9915 - mae: 1.0250 - val_loss: 11.8867 - val_mae: 2.3453\n",
            "Epoch 200/500\n",
            "323/323 [==============================] - 1s 2ms/step - loss: 2.1503 - mae: 1.0437 - val_loss: 11.2343 - val_mae: 2.2827\n",
            "Epoch 201/500\n",
            "323/323 [==============================] - 1s 2ms/step - loss: 2.1213 - mae: 1.0175 - val_loss: 12.2069 - val_mae: 2.3157\n",
            "Epoch 202/500\n",
            "323/323 [==============================] - 1s 2ms/step - loss: 2.1369 - mae: 0.9900 - val_loss: 16.4533 - val_mae: 2.6274\n",
            "Epoch 203/500\n",
            "323/323 [==============================] - 1s 2ms/step - loss: 2.2119 - mae: 1.0238 - val_loss: 11.5431 - val_mae: 2.3626\n",
            "Epoch 204/500\n",
            "323/323 [==============================] - 1s 2ms/step - loss: 2.1305 - mae: 1.0043 - val_loss: 13.9588 - val_mae: 2.4390\n",
            "Epoch 205/500\n",
            "323/323 [==============================] - 1s 2ms/step - loss: 2.1246 - mae: 1.0255 - val_loss: 15.8103 - val_mae: 2.5163\n",
            "Epoch 206/500\n",
            "323/323 [==============================] - 1s 2ms/step - loss: 2.2305 - mae: 1.0370 - val_loss: 12.7053 - val_mae: 2.3570\n",
            "Epoch 207/500\n",
            "323/323 [==============================] - 1s 2ms/step - loss: 2.1756 - mae: 1.0043 - val_loss: 12.8703 - val_mae: 2.3917\n",
            "Epoch 208/500\n",
            "323/323 [==============================] - 1s 2ms/step - loss: 2.0528 - mae: 1.0058 - val_loss: 12.8359 - val_mae: 2.3903\n",
            "Epoch 209/500\n",
            "323/323 [==============================] - 1s 2ms/step - loss: 2.0866 - mae: 0.9904 - val_loss: 13.7239 - val_mae: 2.5598\n",
            "Epoch 210/500\n",
            "323/323 [==============================] - 1s 2ms/step - loss: 2.1527 - mae: 0.9822 - val_loss: 12.4809 - val_mae: 2.3835\n",
            "Epoch 211/500\n",
            "323/323 [==============================] - 1s 2ms/step - loss: 2.1042 - mae: 1.0585 - val_loss: 14.0193 - val_mae: 2.5552\n",
            "Epoch 212/500\n",
            "323/323 [==============================] - 1s 2ms/step - loss: 2.1066 - mae: 0.9944 - val_loss: 12.6042 - val_mae: 2.5319\n",
            "Epoch 213/500\n",
            "323/323 [==============================] - 1s 2ms/step - loss: 2.2711 - mae: 1.0604 - val_loss: 13.8972 - val_mae: 2.6681\n",
            "Epoch 214/500\n",
            "323/323 [==============================] - 1s 2ms/step - loss: 2.0097 - mae: 0.9916 - val_loss: 14.6312 - val_mae: 2.5255\n",
            "Epoch 215/500\n",
            "323/323 [==============================] - 1s 2ms/step - loss: 2.1201 - mae: 1.0098 - val_loss: 13.3470 - val_mae: 2.4151\n",
            "Epoch 216/500\n",
            "323/323 [==============================] - 1s 2ms/step - loss: 2.0768 - mae: 1.0106 - val_loss: 13.7901 - val_mae: 2.4864\n",
            "Epoch 217/500\n",
            "323/323 [==============================] - 1s 2ms/step - loss: 1.8828 - mae: 0.9671 - val_loss: 11.4645 - val_mae: 2.2675\n",
            "Epoch 218/500\n",
            "323/323 [==============================] - 1s 2ms/step - loss: 1.9612 - mae: 1.0309 - val_loss: 14.2526 - val_mae: 2.5495\n",
            "Epoch 219/500\n",
            "323/323 [==============================] - 1s 2ms/step - loss: 1.9726 - mae: 0.9409 - val_loss: 13.9861 - val_mae: 2.5931\n",
            "Epoch 220/500\n",
            "323/323 [==============================] - 1s 2ms/step - loss: 1.8619 - mae: 0.9912 - val_loss: 13.5549 - val_mae: 2.5348\n",
            "Epoch 221/500\n",
            "323/323 [==============================] - 1s 2ms/step - loss: 1.9324 - mae: 0.9556 - val_loss: 13.4134 - val_mae: 2.5808\n",
            "Epoch 222/500\n",
            "323/323 [==============================] - 1s 2ms/step - loss: 2.0929 - mae: 1.0125 - val_loss: 12.5685 - val_mae: 2.4273\n",
            "Epoch 223/500\n",
            "323/323 [==============================] - 1s 2ms/step - loss: 2.0156 - mae: 0.9970 - val_loss: 14.2101 - val_mae: 2.7011\n",
            "Epoch 224/500\n",
            "323/323 [==============================] - 1s 2ms/step - loss: 2.0062 - mae: 1.0140 - val_loss: 12.7490 - val_mae: 2.4448\n",
            "Epoch 225/500\n",
            "323/323 [==============================] - 1s 2ms/step - loss: 1.9895 - mae: 0.9783 - val_loss: 14.6677 - val_mae: 2.4730\n",
            "Epoch 226/500\n",
            "323/323 [==============================] - 1s 2ms/step - loss: 1.9692 - mae: 1.0087 - val_loss: 14.0685 - val_mae: 2.3964\n",
            "Epoch 227/500\n",
            "323/323 [==============================] - 1s 2ms/step - loss: 1.6848 - mae: 0.9166 - val_loss: 13.8926 - val_mae: 2.4251\n",
            "Epoch 228/500\n",
            "323/323 [==============================] - 1s 2ms/step - loss: 1.8240 - mae: 0.9725 - val_loss: 13.9555 - val_mae: 2.6674\n",
            "Epoch 229/500\n",
            "323/323 [==============================] - 1s 2ms/step - loss: 1.7708 - mae: 1.0122 - val_loss: 12.5525 - val_mae: 2.3727\n",
            "Epoch 230/500\n",
            "323/323 [==============================] - 1s 2ms/step - loss: 1.6513 - mae: 0.9309 - val_loss: 12.3978 - val_mae: 2.2637\n",
            "Epoch 231/500\n",
            "323/323 [==============================] - 1s 2ms/step - loss: 1.8916 - mae: 0.9770 - val_loss: 13.7527 - val_mae: 2.5368\n",
            "Epoch 232/500\n",
            "323/323 [==============================] - 1s 2ms/step - loss: 1.7608 - mae: 0.9816 - val_loss: 13.3229 - val_mae: 2.3744\n",
            "Epoch 233/500\n",
            "323/323 [==============================] - 1s 2ms/step - loss: 1.9657 - mae: 0.9956 - val_loss: 12.2326 - val_mae: 2.4530\n",
            "Epoch 234/500\n",
            "323/323 [==============================] - 1s 2ms/step - loss: 1.7619 - mae: 0.9599 - val_loss: 13.8131 - val_mae: 2.5040\n",
            "Epoch 235/500\n",
            "323/323 [==============================] - 1s 2ms/step - loss: 1.9207 - mae: 0.9761 - val_loss: 15.2010 - val_mae: 2.7319\n",
            "Epoch 236/500\n",
            "323/323 [==============================] - 1s 2ms/step - loss: 1.8057 - mae: 0.9527 - val_loss: 12.9554 - val_mae: 2.4779\n",
            "Epoch 237/500\n",
            "323/323 [==============================] - 1s 2ms/step - loss: 1.8619 - mae: 0.9690 - val_loss: 14.5966 - val_mae: 2.7141\n",
            "Epoch 238/500\n",
            "323/323 [==============================] - 1s 2ms/step - loss: 1.9197 - mae: 0.9248 - val_loss: 12.6527 - val_mae: 2.3974\n",
            "Epoch 239/500\n",
            "323/323 [==============================] - 1s 2ms/step - loss: 1.7295 - mae: 0.9426 - val_loss: 19.4716 - val_mae: 3.2402\n",
            "Epoch 240/500\n",
            "323/323 [==============================] - 1s 2ms/step - loss: 1.8341 - mae: 0.9828 - val_loss: 13.2754 - val_mae: 2.4916\n",
            "Epoch 241/500\n",
            "323/323 [==============================] - 1s 2ms/step - loss: 1.7336 - mae: 0.9213 - val_loss: 15.0402 - val_mae: 2.5910\n",
            "Epoch 242/500\n",
            "323/323 [==============================] - 1s 2ms/step - loss: 1.7535 - mae: 0.9616 - val_loss: 13.8594 - val_mae: 2.5452\n",
            "Epoch 243/500\n",
            "323/323 [==============================] - 1s 2ms/step - loss: 1.8355 - mae: 0.9601 - val_loss: 11.5096 - val_mae: 2.4171\n",
            "Epoch 244/500\n",
            "323/323 [==============================] - 1s 2ms/step - loss: 1.9025 - mae: 0.9527 - val_loss: 13.1369 - val_mae: 2.4013\n",
            "Epoch 245/500\n",
            "323/323 [==============================] - 1s 2ms/step - loss: 1.7634 - mae: 0.9625 - val_loss: 11.8046 - val_mae: 2.3021\n",
            "Epoch 246/500\n",
            "323/323 [==============================] - 1s 2ms/step - loss: 1.8956 - mae: 1.0130 - val_loss: 12.2344 - val_mae: 2.3594\n",
            "Epoch 247/500\n",
            "323/323 [==============================] - 1s 2ms/step - loss: 1.7779 - mae: 0.9282 - val_loss: 12.7314 - val_mae: 2.4393\n",
            "Epoch 248/500\n",
            "323/323 [==============================] - 1s 2ms/step - loss: 1.8328 - mae: 0.9647 - val_loss: 12.0598 - val_mae: 2.2934\n",
            "Epoch 249/500\n",
            "323/323 [==============================] - 1s 2ms/step - loss: 1.6448 - mae: 0.9151 - val_loss: 13.6030 - val_mae: 2.4165\n",
            "Epoch 250/500\n",
            "323/323 [==============================] - 1s 2ms/step - loss: 1.6890 - mae: 0.9323 - val_loss: 14.4674 - val_mae: 2.5443\n",
            "Epoch 251/500\n",
            "323/323 [==============================] - 1s 2ms/step - loss: 1.7608 - mae: 0.9018 - val_loss: 12.0744 - val_mae: 2.3239\n",
            "Epoch 252/500\n",
            "323/323 [==============================] - 1s 2ms/step - loss: 1.7035 - mae: 0.9154 - val_loss: 13.7957 - val_mae: 2.5311\n",
            "Epoch 253/500\n",
            "323/323 [==============================] - 1s 2ms/step - loss: 1.8994 - mae: 0.9291 - val_loss: 13.6387 - val_mae: 2.4754\n",
            "Epoch 254/500\n",
            "323/323 [==============================] - 1s 2ms/step - loss: 1.7794 - mae: 0.9523 - val_loss: 12.6229 - val_mae: 2.4491\n",
            "Epoch 255/500\n",
            "323/323 [==============================] - 1s 2ms/step - loss: 1.6872 - mae: 0.9500 - val_loss: 14.1594 - val_mae: 2.6075\n",
            "Epoch 256/500\n",
            "323/323 [==============================] - 1s 2ms/step - loss: 1.6652 - mae: 0.9265 - val_loss: 12.8593 - val_mae: 2.3423\n",
            "Epoch 257/500\n",
            "323/323 [==============================] - 1s 3ms/step - loss: 1.6586 - mae: 0.9407 - val_loss: 19.2045 - val_mae: 2.9428\n",
            "Epoch 258/500\n",
            "323/323 [==============================] - 1s 2ms/step - loss: 1.7484 - mae: 0.9371 - val_loss: 13.7239 - val_mae: 2.5899\n",
            "Epoch 259/500\n",
            "323/323 [==============================] - 1s 2ms/step - loss: 1.6604 - mae: 0.9373 - val_loss: 13.6289 - val_mae: 2.5606\n",
            "Epoch 260/500\n",
            "323/323 [==============================] - 1s 2ms/step - loss: 1.6520 - mae: 0.9173 - val_loss: 14.9222 - val_mae: 2.6261\n",
            "Epoch 261/500\n",
            "323/323 [==============================] - 1s 2ms/step - loss: 1.7242 - mae: 0.9823 - val_loss: 12.8004 - val_mae: 2.3940\n",
            "Epoch 262/500\n",
            "323/323 [==============================] - 1s 2ms/step - loss: 1.6375 - mae: 0.9444 - val_loss: 13.6283 - val_mae: 2.4916\n",
            "Epoch 263/500\n",
            "323/323 [==============================] - 1s 2ms/step - loss: 1.8032 - mae: 0.9608 - val_loss: 11.9865 - val_mae: 2.2807\n",
            "Epoch 264/500\n",
            "323/323 [==============================] - 1s 2ms/step - loss: 1.5952 - mae: 0.9334 - val_loss: 13.0386 - val_mae: 2.3776\n",
            "Epoch 265/500\n",
            "323/323 [==============================] - 1s 3ms/step - loss: 1.7341 - mae: 0.8838 - val_loss: 13.1316 - val_mae: 2.4699\n",
            "Epoch 266/500\n",
            "323/323 [==============================] - 1s 2ms/step - loss: 1.5915 - mae: 0.8757 - val_loss: 16.4348 - val_mae: 2.7063\n",
            "Epoch 267/500\n",
            "323/323 [==============================] - 1s 2ms/step - loss: 1.5989 - mae: 0.9364 - val_loss: 12.4019 - val_mae: 2.4482\n",
            "Epoch 268/500\n",
            "323/323 [==============================] - 1s 2ms/step - loss: 1.5196 - mae: 0.8728 - val_loss: 12.8592 - val_mae: 2.3283\n",
            "Epoch 269/500\n",
            "323/323 [==============================] - 1s 2ms/step - loss: 1.6061 - mae: 0.9459 - val_loss: 14.3772 - val_mae: 2.5076\n",
            "Epoch 270/500\n",
            "323/323 [==============================] - 1s 2ms/step - loss: 1.6425 - mae: 0.8955 - val_loss: 15.0855 - val_mae: 2.8159\n",
            "Epoch 271/500\n",
            "323/323 [==============================] - 1s 3ms/step - loss: 1.4238 - mae: 0.8581 - val_loss: 12.5102 - val_mae: 2.4631\n",
            "Epoch 272/500\n",
            "323/323 [==============================] - 1s 2ms/step - loss: 1.8175 - mae: 0.9098 - val_loss: 14.4769 - val_mae: 2.5880\n",
            "Epoch 273/500\n",
            "323/323 [==============================] - 1s 3ms/step - loss: 1.6213 - mae: 0.9417 - val_loss: 11.6004 - val_mae: 2.2314\n",
            "Epoch 274/500\n",
            "323/323 [==============================] - 1s 3ms/step - loss: 1.6477 - mae: 0.9008 - val_loss: 11.7389 - val_mae: 2.3776\n",
            "Epoch 275/500\n",
            "323/323 [==============================] - 1s 3ms/step - loss: 1.5010 - mae: 0.8751 - val_loss: 12.5693 - val_mae: 2.3427\n",
            "Epoch 276/500\n",
            "323/323 [==============================] - 1s 3ms/step - loss: 1.4797 - mae: 0.9117 - val_loss: 12.4445 - val_mae: 2.3359\n",
            "Epoch 277/500\n",
            "323/323 [==============================] - 1s 2ms/step - loss: 1.5314 - mae: 0.9154 - val_loss: 11.6263 - val_mae: 2.3699\n",
            "Epoch 278/500\n",
            "323/323 [==============================] - 1s 3ms/step - loss: 1.3817 - mae: 0.8964 - val_loss: 17.0893 - val_mae: 2.6673\n",
            "Epoch 279/500\n",
            "323/323 [==============================] - 1s 2ms/step - loss: 1.5949 - mae: 0.9179 - val_loss: 12.7757 - val_mae: 2.3487\n",
            "Epoch 280/500\n",
            "323/323 [==============================] - 1s 2ms/step - loss: 1.4960 - mae: 0.8457 - val_loss: 14.4700 - val_mae: 2.5675\n",
            "Epoch 281/500\n",
            "323/323 [==============================] - 1s 2ms/step - loss: 1.5855 - mae: 0.9216 - val_loss: 13.1961 - val_mae: 2.5763\n",
            "Epoch 282/500\n",
            "323/323 [==============================] - 1s 2ms/step - loss: 1.4918 - mae: 0.8709 - val_loss: 14.1845 - val_mae: 2.5073\n",
            "Epoch 283/500\n",
            "323/323 [==============================] - 1s 2ms/step - loss: 1.4685 - mae: 0.9009 - val_loss: 13.5707 - val_mae: 2.5857\n",
            "Epoch 284/500\n",
            "323/323 [==============================] - 1s 2ms/step - loss: 1.5067 - mae: 0.9407 - val_loss: 13.5421 - val_mae: 2.4557\n",
            "Epoch 285/500\n",
            "323/323 [==============================] - 1s 2ms/step - loss: 1.4730 - mae: 0.8847 - val_loss: 14.2520 - val_mae: 2.6214\n",
            "Epoch 286/500\n",
            "323/323 [==============================] - 1s 2ms/step - loss: 1.3768 - mae: 0.8719 - val_loss: 14.1419 - val_mae: 2.6254\n",
            "Epoch 287/500\n",
            "323/323 [==============================] - 1s 2ms/step - loss: 1.6914 - mae: 0.9271 - val_loss: 14.3923 - val_mae: 2.6731\n",
            "Epoch 288/500\n",
            "323/323 [==============================] - 1s 2ms/step - loss: 1.4693 - mae: 0.8722 - val_loss: 12.9576 - val_mae: 2.5025\n",
            "Epoch 289/500\n",
            "323/323 [==============================] - 1s 2ms/step - loss: 1.5609 - mae: 0.9085 - val_loss: 12.7960 - val_mae: 2.4084\n",
            "Epoch 290/500\n",
            "323/323 [==============================] - 1s 2ms/step - loss: 1.4603 - mae: 0.8826 - val_loss: 14.8959 - val_mae: 2.5535\n",
            "Epoch 291/500\n",
            "323/323 [==============================] - 1s 2ms/step - loss: 1.4876 - mae: 0.8574 - val_loss: 17.0003 - val_mae: 2.9475\n",
            "Epoch 292/500\n",
            "323/323 [==============================] - 1s 2ms/step - loss: 1.4388 - mae: 0.8691 - val_loss: 12.4020 - val_mae: 2.6449\n",
            "Epoch 293/500\n",
            "323/323 [==============================] - 1s 2ms/step - loss: 1.4343 - mae: 0.8571 - val_loss: 12.3464 - val_mae: 2.4464\n",
            "Epoch 294/500\n",
            "323/323 [==============================] - 1s 2ms/step - loss: 1.3117 - mae: 0.8486 - val_loss: 15.3721 - val_mae: 2.5839\n",
            "Epoch 295/500\n",
            "323/323 [==============================] - 1s 2ms/step - loss: 1.3935 - mae: 0.8738 - val_loss: 13.0429 - val_mae: 2.5834\n",
            "Epoch 296/500\n",
            "323/323 [==============================] - 1s 2ms/step - loss: 1.3644 - mae: 0.8424 - val_loss: 13.6141 - val_mae: 2.5554\n",
            "Epoch 297/500\n",
            "323/323 [==============================] - 1s 2ms/step - loss: 1.5189 - mae: 0.8555 - val_loss: 12.0422 - val_mae: 2.4186\n",
            "Epoch 298/500\n",
            "323/323 [==============================] - 1s 2ms/step - loss: 1.4751 - mae: 0.8789 - val_loss: 12.0758 - val_mae: 2.3810\n",
            "Epoch 299/500\n",
            "323/323 [==============================] - 1s 2ms/step - loss: 1.4491 - mae: 0.8781 - val_loss: 11.4121 - val_mae: 2.3683\n",
            "Epoch 300/500\n",
            "323/323 [==============================] - 1s 2ms/step - loss: 1.5467 - mae: 0.8981 - val_loss: 12.7227 - val_mae: 2.4515\n",
            "Epoch 301/500\n",
            "323/323 [==============================] - 1s 2ms/step - loss: 1.4793 - mae: 0.8714 - val_loss: 15.0756 - val_mae: 2.7209\n",
            "Epoch 302/500\n",
            "323/323 [==============================] - 1s 2ms/step - loss: 1.3812 - mae: 0.8390 - val_loss: 13.9373 - val_mae: 2.4396\n",
            "Epoch 303/500\n",
            "323/323 [==============================] - 1s 2ms/step - loss: 1.3881 - mae: 0.8459 - val_loss: 13.5355 - val_mae: 2.5106\n",
            "Epoch 304/500\n",
            "323/323 [==============================] - 1s 2ms/step - loss: 1.4815 - mae: 0.8855 - val_loss: 14.9354 - val_mae: 2.5025\n",
            "Epoch 305/500\n",
            "323/323 [==============================] - 1s 2ms/step - loss: 1.3459 - mae: 0.8152 - val_loss: 14.0591 - val_mae: 2.4310\n",
            "Epoch 306/500\n",
            "323/323 [==============================] - 1s 2ms/step - loss: 1.3476 - mae: 0.8694 - val_loss: 12.4103 - val_mae: 2.4441\n",
            "Epoch 307/500\n",
            "323/323 [==============================] - 1s 2ms/step - loss: 1.3085 - mae: 0.8519 - val_loss: 14.2303 - val_mae: 2.5455\n",
            "Epoch 308/500\n",
            "323/323 [==============================] - 1s 2ms/step - loss: 1.3351 - mae: 0.8410 - val_loss: 14.5989 - val_mae: 2.5760\n",
            "Epoch 309/500\n",
            "323/323 [==============================] - 1s 2ms/step - loss: 1.3053 - mae: 0.8487 - val_loss: 12.5100 - val_mae: 2.4840\n",
            "Epoch 310/500\n",
            "323/323 [==============================] - 1s 2ms/step - loss: 1.2692 - mae: 0.8188 - val_loss: 12.3157 - val_mae: 2.3553\n",
            "Epoch 311/500\n",
            "323/323 [==============================] - 1s 2ms/step - loss: 1.4205 - mae: 0.8578 - val_loss: 13.4909 - val_mae: 2.4072\n",
            "Epoch 312/500\n",
            "323/323 [==============================] - 1s 2ms/step - loss: 1.3382 - mae: 0.8751 - val_loss: 10.6469 - val_mae: 2.2700\n",
            "Epoch 313/500\n",
            "323/323 [==============================] - 1s 2ms/step - loss: 1.3777 - mae: 0.8445 - val_loss: 14.0412 - val_mae: 2.4469\n",
            "Epoch 314/500\n",
            "323/323 [==============================] - 1s 2ms/step - loss: 1.3078 - mae: 0.8281 - val_loss: 15.4176 - val_mae: 2.8962\n",
            "Epoch 315/500\n",
            "323/323 [==============================] - 1s 2ms/step - loss: 1.4306 - mae: 0.8867 - val_loss: 11.9664 - val_mae: 2.3419\n",
            "Epoch 316/500\n",
            "323/323 [==============================] - 1s 2ms/step - loss: 1.4435 - mae: 0.8337 - val_loss: 13.6754 - val_mae: 2.6646\n",
            "Epoch 317/500\n",
            "323/323 [==============================] - 1s 2ms/step - loss: 1.4826 - mae: 0.8694 - val_loss: 13.9284 - val_mae: 2.6195\n",
            "Epoch 318/500\n",
            "323/323 [==============================] - 1s 2ms/step - loss: 1.2877 - mae: 0.8277 - val_loss: 13.8480 - val_mae: 2.6395\n",
            "Epoch 319/500\n",
            "323/323 [==============================] - 1s 2ms/step - loss: 1.2785 - mae: 0.8580 - val_loss: 11.0403 - val_mae: 2.2427\n",
            "Epoch 320/500\n",
            "323/323 [==============================] - 1s 2ms/step - loss: 1.2594 - mae: 0.8177 - val_loss: 11.7369 - val_mae: 2.4398\n",
            "Epoch 321/500\n",
            "323/323 [==============================] - 1s 2ms/step - loss: 1.2480 - mae: 0.8154 - val_loss: 12.4682 - val_mae: 2.4625\n",
            "Epoch 322/500\n",
            "323/323 [==============================] - 1s 2ms/step - loss: 1.2525 - mae: 0.8137 - val_loss: 11.2003 - val_mae: 2.2838\n",
            "Epoch 323/500\n",
            "323/323 [==============================] - 1s 2ms/step - loss: 1.3407 - mae: 0.8593 - val_loss: 12.1779 - val_mae: 2.3637\n",
            "Epoch 324/500\n",
            "323/323 [==============================] - 1s 2ms/step - loss: 1.2130 - mae: 0.8174 - val_loss: 12.0974 - val_mae: 2.4400\n",
            "Epoch 325/500\n",
            "323/323 [==============================] - 1s 2ms/step - loss: 1.3643 - mae: 0.8583 - val_loss: 13.2164 - val_mae: 2.5303\n",
            "Epoch 326/500\n",
            "323/323 [==============================] - 1s 2ms/step - loss: 1.0456 - mae: 0.7892 - val_loss: 12.2790 - val_mae: 2.4903\n",
            "Epoch 327/500\n",
            "323/323 [==============================] - 1s 2ms/step - loss: 1.2203 - mae: 0.8299 - val_loss: 12.8799 - val_mae: 2.5121\n",
            "Epoch 328/500\n",
            "323/323 [==============================] - 1s 2ms/step - loss: 1.2840 - mae: 0.8547 - val_loss: 11.6817 - val_mae: 2.3892\n",
            "Epoch 329/500\n",
            "323/323 [==============================] - 1s 2ms/step - loss: 1.2294 - mae: 0.8337 - val_loss: 12.4886 - val_mae: 2.4521\n",
            "Epoch 330/500\n",
            "323/323 [==============================] - 1s 2ms/step - loss: 1.2603 - mae: 0.8429 - val_loss: 12.1944 - val_mae: 2.4142\n",
            "Epoch 331/500\n",
            "323/323 [==============================] - 1s 2ms/step - loss: 1.1841 - mae: 0.8416 - val_loss: 11.3770 - val_mae: 2.4711\n",
            "Epoch 332/500\n",
            "323/323 [==============================] - 1s 2ms/step - loss: 1.2914 - mae: 0.8197 - val_loss: 11.7282 - val_mae: 2.3566\n",
            "Epoch 333/500\n",
            "323/323 [==============================] - 1s 2ms/step - loss: 1.3776 - mae: 0.8601 - val_loss: 13.9333 - val_mae: 2.5831\n",
            "Epoch 334/500\n",
            "323/323 [==============================] - 1s 2ms/step - loss: 1.1898 - mae: 0.7899 - val_loss: 14.8654 - val_mae: 2.6914\n",
            "Epoch 335/500\n",
            "323/323 [==============================] - 1s 2ms/step - loss: 1.1386 - mae: 0.8219 - val_loss: 14.0469 - val_mae: 2.6946\n",
            "Epoch 336/500\n",
            "323/323 [==============================] - 1s 2ms/step - loss: 1.2905 - mae: 0.8025 - val_loss: 11.6711 - val_mae: 2.3849\n",
            "Epoch 337/500\n",
            "323/323 [==============================] - 1s 2ms/step - loss: 1.4117 - mae: 0.8635 - val_loss: 11.4934 - val_mae: 2.2958\n",
            "Epoch 338/500\n",
            "323/323 [==============================] - 1s 2ms/step - loss: 1.1865 - mae: 0.7837 - val_loss: 12.2772 - val_mae: 2.4861\n",
            "Epoch 339/500\n",
            "323/323 [==============================] - 1s 2ms/step - loss: 1.1819 - mae: 0.8090 - val_loss: 12.6141 - val_mae: 2.4477\n",
            "Epoch 340/500\n",
            "323/323 [==============================] - 1s 2ms/step - loss: 1.2379 - mae: 0.8288 - val_loss: 12.5316 - val_mae: 2.4669\n",
            "Epoch 341/500\n",
            "323/323 [==============================] - 1s 2ms/step - loss: 1.2602 - mae: 0.8333 - val_loss: 11.2065 - val_mae: 2.2990\n",
            "Epoch 342/500\n",
            "323/323 [==============================] - 1s 2ms/step - loss: 1.1986 - mae: 0.8334 - val_loss: 13.9103 - val_mae: 2.4942\n",
            "Epoch 343/500\n",
            "323/323 [==============================] - 1s 2ms/step - loss: 1.1327 - mae: 0.7890 - val_loss: 13.2430 - val_mae: 2.5374\n",
            "Epoch 344/500\n",
            "323/323 [==============================] - 1s 3ms/step - loss: 1.3070 - mae: 0.8260 - val_loss: 12.1457 - val_mae: 2.4187\n",
            "Epoch 345/500\n",
            "323/323 [==============================] - 1s 3ms/step - loss: 1.2147 - mae: 0.7908 - val_loss: 12.0355 - val_mae: 2.4276\n",
            "Epoch 346/500\n",
            "323/323 [==============================] - 1s 2ms/step - loss: 1.2992 - mae: 0.8408 - val_loss: 16.1116 - val_mae: 2.8321\n",
            "Epoch 347/500\n",
            "323/323 [==============================] - 1s 3ms/step - loss: 1.2544 - mae: 0.8446 - val_loss: 12.0401 - val_mae: 2.4896\n",
            "Epoch 348/500\n",
            "323/323 [==============================] - 1s 3ms/step - loss: 1.1890 - mae: 0.8089 - val_loss: 11.5680 - val_mae: 2.3728\n",
            "Epoch 349/500\n",
            "323/323 [==============================] - 1s 2ms/step - loss: 1.2161 - mae: 0.7675 - val_loss: 11.4163 - val_mae: 2.3296\n",
            "Epoch 350/500\n",
            "323/323 [==============================] - 1s 2ms/step - loss: 1.1582 - mae: 0.7881 - val_loss: 11.3417 - val_mae: 2.2371\n",
            "Epoch 351/500\n",
            "323/323 [==============================] - 1s 2ms/step - loss: 1.0584 - mae: 0.7770 - val_loss: 12.1897 - val_mae: 2.3766\n",
            "Epoch 352/500\n",
            "323/323 [==============================] - 1s 2ms/step - loss: 1.1183 - mae: 0.7865 - val_loss: 13.0206 - val_mae: 2.4684\n",
            "Epoch 353/500\n",
            "323/323 [==============================] - 1s 2ms/step - loss: 1.1256 - mae: 0.7670 - val_loss: 12.3273 - val_mae: 2.3951\n",
            "Epoch 354/500\n",
            "323/323 [==============================] - 1s 3ms/step - loss: 1.1889 - mae: 0.8072 - val_loss: 13.7110 - val_mae: 2.5111\n",
            "Epoch 355/500\n",
            "323/323 [==============================] - 1s 3ms/step - loss: 1.1236 - mae: 0.7869 - val_loss: 14.0302 - val_mae: 2.7207\n",
            "Epoch 356/500\n",
            "323/323 [==============================] - 1s 3ms/step - loss: 1.3809 - mae: 0.8622 - val_loss: 12.3940 - val_mae: 2.3957\n",
            "Epoch 357/500\n",
            "323/323 [==============================] - 1s 2ms/step - loss: 1.0825 - mae: 0.7607 - val_loss: 11.9367 - val_mae: 2.3535\n",
            "Epoch 358/500\n",
            "323/323 [==============================] - 1s 2ms/step - loss: 1.1213 - mae: 0.7676 - val_loss: 12.2098 - val_mae: 2.4261\n",
            "Epoch 359/500\n",
            "323/323 [==============================] - 1s 2ms/step - loss: 1.1476 - mae: 0.8080 - val_loss: 11.8632 - val_mae: 2.2808\n",
            "Epoch 360/500\n",
            "323/323 [==============================] - 1s 2ms/step - loss: 1.2794 - mae: 0.8120 - val_loss: 12.3299 - val_mae: 2.4158\n",
            "Epoch 361/500\n",
            "323/323 [==============================] - 1s 2ms/step - loss: 1.1208 - mae: 0.7873 - val_loss: 12.0269 - val_mae: 2.4048\n",
            "Epoch 362/500\n",
            "323/323 [==============================] - 1s 3ms/step - loss: 1.2851 - mae: 0.8161 - val_loss: 11.5058 - val_mae: 2.3012\n",
            "Epoch 363/500\n",
            "323/323 [==============================] - 1s 2ms/step - loss: 1.1765 - mae: 0.7992 - val_loss: 12.2254 - val_mae: 2.4320\n",
            "Epoch 364/500\n",
            "323/323 [==============================] - 1s 2ms/step - loss: 1.1592 - mae: 0.7699 - val_loss: 10.6795 - val_mae: 2.2589\n",
            "Epoch 365/500\n",
            "323/323 [==============================] - 1s 3ms/step - loss: 1.1944 - mae: 0.7950 - val_loss: 12.7627 - val_mae: 2.4478\n",
            "Epoch 366/500\n",
            "323/323 [==============================] - 1s 3ms/step - loss: 1.1274 - mae: 0.7756 - val_loss: 11.7648 - val_mae: 2.3646\n",
            "Epoch 367/500\n",
            "323/323 [==============================] - 1s 3ms/step - loss: 1.1136 - mae: 0.7777 - val_loss: 10.3708 - val_mae: 2.2274\n",
            "Epoch 368/500\n",
            "323/323 [==============================] - 1s 3ms/step - loss: 1.1425 - mae: 0.8055 - val_loss: 10.7158 - val_mae: 2.1108\n",
            "Epoch 369/500\n",
            "323/323 [==============================] - 1s 2ms/step - loss: 1.0426 - mae: 0.7527 - val_loss: 12.3404 - val_mae: 2.3446\n",
            "Epoch 370/500\n",
            "323/323 [==============================] - 1s 2ms/step - loss: 1.1351 - mae: 0.8103 - val_loss: 11.1784 - val_mae: 2.3314\n",
            "Epoch 371/500\n",
            "323/323 [==============================] - 1s 2ms/step - loss: 1.1464 - mae: 0.7857 - val_loss: 13.2037 - val_mae: 2.5805\n",
            "Epoch 372/500\n",
            "323/323 [==============================] - 1s 3ms/step - loss: 1.1520 - mae: 0.7957 - val_loss: 11.5519 - val_mae: 2.3681\n",
            "Epoch 373/500\n",
            "323/323 [==============================] - 1s 3ms/step - loss: 1.0690 - mae: 0.7628 - val_loss: 11.5561 - val_mae: 2.2962\n",
            "Epoch 374/500\n",
            "323/323 [==============================] - 1s 2ms/step - loss: 1.1092 - mae: 0.8001 - val_loss: 11.3178 - val_mae: 2.2955\n",
            "Epoch 375/500\n",
            "323/323 [==============================] - 1s 2ms/step - loss: 1.0706 - mae: 0.7874 - val_loss: 13.4167 - val_mae: 2.5327\n",
            "Epoch 376/500\n",
            "323/323 [==============================] - 1s 2ms/step - loss: 1.0377 - mae: 0.7521 - val_loss: 11.7848 - val_mae: 2.2921\n",
            "Epoch 377/500\n",
            "323/323 [==============================] - 1s 2ms/step - loss: 1.1642 - mae: 0.8130 - val_loss: 11.7719 - val_mae: 2.4112\n",
            "Epoch 378/500\n",
            "323/323 [==============================] - 1s 3ms/step - loss: 1.2388 - mae: 0.8107 - val_loss: 13.1346 - val_mae: 2.3987\n",
            "Epoch 379/500\n",
            "323/323 [==============================] - 1s 2ms/step - loss: 1.0544 - mae: 0.7647 - val_loss: 12.7126 - val_mae: 2.4462\n",
            "Epoch 380/500\n",
            "323/323 [==============================] - 1s 2ms/step - loss: 1.1371 - mae: 0.7860 - val_loss: 11.4950 - val_mae: 2.3435\n",
            "Epoch 381/500\n",
            "323/323 [==============================] - 1s 2ms/step - loss: 0.9603 - mae: 0.7605 - val_loss: 12.9566 - val_mae: 2.5725\n",
            "Epoch 382/500\n",
            "323/323 [==============================] - 1s 2ms/step - loss: 1.0879 - mae: 0.7783 - val_loss: 11.1353 - val_mae: 2.3159\n",
            "Epoch 383/500\n",
            "323/323 [==============================] - 1s 2ms/step - loss: 1.0102 - mae: 0.7336 - val_loss: 11.5455 - val_mae: 2.3500\n",
            "Epoch 384/500\n",
            "323/323 [==============================] - 1s 2ms/step - loss: 1.0729 - mae: 0.7692 - val_loss: 11.7224 - val_mae: 2.2760\n",
            "Epoch 385/500\n",
            "323/323 [==============================] - 1s 2ms/step - loss: 1.1815 - mae: 0.7897 - val_loss: 12.7532 - val_mae: 2.5436\n",
            "Epoch 386/500\n",
            "323/323 [==============================] - 1s 3ms/step - loss: 0.9809 - mae: 0.7480 - val_loss: 11.0661 - val_mae: 2.3012\n",
            "Epoch 387/500\n",
            "323/323 [==============================] - 1s 3ms/step - loss: 1.0801 - mae: 0.8058 - val_loss: 12.8877 - val_mae: 2.5283\n",
            "Epoch 388/500\n",
            "323/323 [==============================] - 1s 2ms/step - loss: 1.1337 - mae: 0.7933 - val_loss: 13.1415 - val_mae: 2.5938\n",
            "Epoch 389/500\n",
            "323/323 [==============================] - 1s 2ms/step - loss: 1.0359 - mae: 0.7453 - val_loss: 13.9769 - val_mae: 2.7490\n",
            "Epoch 390/500\n",
            "323/323 [==============================] - 1s 3ms/step - loss: 1.1411 - mae: 0.7772 - val_loss: 12.1223 - val_mae: 2.4017\n",
            "Epoch 391/500\n",
            "323/323 [==============================] - 1s 2ms/step - loss: 1.1029 - mae: 0.7876 - val_loss: 11.5840 - val_mae: 2.3795\n",
            "Epoch 392/500\n",
            "323/323 [==============================] - 1s 2ms/step - loss: 1.2096 - mae: 0.7899 - val_loss: 13.0233 - val_mae: 2.5269\n",
            "Epoch 393/500\n",
            "323/323 [==============================] - 1s 2ms/step - loss: 1.1079 - mae: 0.7786 - val_loss: 12.5291 - val_mae: 2.3793\n",
            "Epoch 394/500\n",
            "323/323 [==============================] - 1s 2ms/step - loss: 1.1061 - mae: 0.7689 - val_loss: 13.1997 - val_mae: 2.6127\n",
            "Epoch 395/500\n",
            "323/323 [==============================] - 1s 2ms/step - loss: 1.0465 - mae: 0.7587 - val_loss: 11.6764 - val_mae: 2.2584\n",
            "Epoch 396/500\n",
            "323/323 [==============================] - 1s 3ms/step - loss: 1.0067 - mae: 0.7533 - val_loss: 12.2195 - val_mae: 2.3985\n",
            "Epoch 397/500\n",
            "323/323 [==============================] - 1s 3ms/step - loss: 1.0855 - mae: 0.7835 - val_loss: 11.5275 - val_mae: 2.2728\n",
            "Epoch 398/500\n",
            "323/323 [==============================] - 1s 3ms/step - loss: 1.0412 - mae: 0.7855 - val_loss: 13.0096 - val_mae: 2.4967\n",
            "Epoch 399/500\n",
            "323/323 [==============================] - 1s 3ms/step - loss: 0.9116 - mae: 0.7216 - val_loss: 11.8238 - val_mae: 2.3481\n",
            "Epoch 400/500\n",
            "323/323 [==============================] - 1s 2ms/step - loss: 1.1372 - mae: 0.7776 - val_loss: 13.5581 - val_mae: 2.6067\n",
            "Epoch 401/500\n",
            "323/323 [==============================] - 1s 2ms/step - loss: 0.9769 - mae: 0.7217 - val_loss: 13.4730 - val_mae: 2.5041\n",
            "Epoch 402/500\n",
            "323/323 [==============================] - 1s 2ms/step - loss: 1.0425 - mae: 0.7558 - val_loss: 14.7899 - val_mae: 2.6457\n",
            "Epoch 403/500\n",
            "323/323 [==============================] - 1s 2ms/step - loss: 0.9944 - mae: 0.7198 - val_loss: 12.7200 - val_mae: 2.4182\n",
            "Epoch 404/500\n",
            "323/323 [==============================] - 1s 3ms/step - loss: 1.0463 - mae: 0.7507 - val_loss: 10.8331 - val_mae: 2.2423\n",
            "Epoch 405/500\n",
            "323/323 [==============================] - 1s 2ms/step - loss: 1.0506 - mae: 0.7596 - val_loss: 11.6904 - val_mae: 2.3571\n",
            "Epoch 406/500\n",
            "323/323 [==============================] - 1s 3ms/step - loss: 1.0009 - mae: 0.7426 - val_loss: 12.4152 - val_mae: 2.5183\n",
            "Epoch 407/500\n",
            "323/323 [==============================] - 1s 3ms/step - loss: 1.0873 - mae: 0.7606 - val_loss: 11.6985 - val_mae: 2.3600\n",
            "Epoch 408/500\n",
            "323/323 [==============================] - 1s 3ms/step - loss: 1.0317 - mae: 0.7582 - val_loss: 13.4660 - val_mae: 2.5396\n",
            "Epoch 409/500\n",
            "323/323 [==============================] - 1s 3ms/step - loss: 1.1077 - mae: 0.7464 - val_loss: 11.7447 - val_mae: 2.3652\n",
            "Epoch 410/500\n",
            "323/323 [==============================] - 1s 3ms/step - loss: 1.0262 - mae: 0.7338 - val_loss: 12.0515 - val_mae: 2.3689\n",
            "Epoch 411/500\n",
            "323/323 [==============================] - 1s 3ms/step - loss: 1.0779 - mae: 0.7510 - val_loss: 12.6380 - val_mae: 2.4596\n",
            "Epoch 412/500\n",
            "323/323 [==============================] - 1s 2ms/step - loss: 1.0139 - mae: 0.7302 - val_loss: 12.7726 - val_mae: 2.5058\n",
            "Epoch 413/500\n",
            "323/323 [==============================] - 1s 2ms/step - loss: 1.1008 - mae: 0.7679 - val_loss: 11.7522 - val_mae: 2.3682\n",
            "Epoch 414/500\n",
            "323/323 [==============================] - 1s 2ms/step - loss: 0.9371 - mae: 0.7039 - val_loss: 14.1427 - val_mae: 2.7341\n",
            "Epoch 415/500\n",
            "323/323 [==============================] - 1s 2ms/step - loss: 1.1276 - mae: 0.8005 - val_loss: 13.6286 - val_mae: 2.4286\n",
            "Epoch 416/500\n",
            "323/323 [==============================] - 1s 2ms/step - loss: 0.9456 - mae: 0.7271 - val_loss: 12.6327 - val_mae: 2.4019\n",
            "Epoch 417/500\n",
            "323/323 [==============================] - 1s 2ms/step - loss: 1.1098 - mae: 0.7655 - val_loss: 13.1022 - val_mae: 2.4910\n",
            "Epoch 418/500\n",
            "323/323 [==============================] - 1s 2ms/step - loss: 1.0324 - mae: 0.7230 - val_loss: 12.1125 - val_mae: 2.4035\n",
            "Epoch 419/500\n",
            "323/323 [==============================] - 1s 2ms/step - loss: 0.9383 - mae: 0.7262 - val_loss: 11.4298 - val_mae: 2.3722\n",
            "Epoch 420/500\n",
            "323/323 [==============================] - 1s 2ms/step - loss: 1.0046 - mae: 0.7503 - val_loss: 10.9915 - val_mae: 2.3003\n",
            "Epoch 421/500\n",
            "323/323 [==============================] - 1s 2ms/step - loss: 0.9763 - mae: 0.7229 - val_loss: 14.3848 - val_mae: 2.4838\n",
            "Epoch 422/500\n",
            "323/323 [==============================] - 1s 2ms/step - loss: 0.9925 - mae: 0.7616 - val_loss: 12.6256 - val_mae: 2.4349\n",
            "Epoch 423/500\n",
            "323/323 [==============================] - 1s 2ms/step - loss: 1.0658 - mae: 0.7567 - val_loss: 11.6999 - val_mae: 2.3387\n",
            "Epoch 424/500\n",
            "323/323 [==============================] - 1s 2ms/step - loss: 1.0674 - mae: 0.7590 - val_loss: 12.6883 - val_mae: 2.4021\n",
            "Epoch 425/500\n",
            "323/323 [==============================] - 1s 2ms/step - loss: 0.9646 - mae: 0.7328 - val_loss: 12.3528 - val_mae: 2.4469\n",
            "Epoch 426/500\n",
            "323/323 [==============================] - 1s 2ms/step - loss: 0.9492 - mae: 0.7007 - val_loss: 11.8404 - val_mae: 2.4397\n",
            "Epoch 427/500\n",
            "323/323 [==============================] - 1s 2ms/step - loss: 0.9487 - mae: 0.7455 - val_loss: 12.3412 - val_mae: 2.3968\n",
            "Epoch 428/500\n",
            "323/323 [==============================] - 1s 2ms/step - loss: 0.9576 - mae: 0.6958 - val_loss: 11.9849 - val_mae: 2.4355\n",
            "Epoch 429/500\n",
            "323/323 [==============================] - 1s 2ms/step - loss: 1.0160 - mae: 0.7302 - val_loss: 12.3209 - val_mae: 2.3167\n",
            "Epoch 430/500\n",
            "323/323 [==============================] - 1s 2ms/step - loss: 1.0344 - mae: 0.7521 - val_loss: 11.5846 - val_mae: 2.3414\n",
            "Epoch 431/500\n",
            "323/323 [==============================] - 1s 2ms/step - loss: 0.9553 - mae: 0.6925 - val_loss: 13.0047 - val_mae: 2.4870\n",
            "Epoch 432/500\n",
            "323/323 [==============================] - 1s 2ms/step - loss: 1.0123 - mae: 0.7572 - val_loss: 14.4343 - val_mae: 2.7041\n",
            "Epoch 433/500\n",
            "323/323 [==============================] - 1s 2ms/step - loss: 1.0065 - mae: 0.7550 - val_loss: 13.1989 - val_mae: 2.5687\n",
            "Epoch 434/500\n",
            "323/323 [==============================] - 1s 2ms/step - loss: 1.0546 - mae: 0.7281 - val_loss: 11.9159 - val_mae: 2.3972\n",
            "Epoch 435/500\n",
            "323/323 [==============================] - 1s 2ms/step - loss: 0.9491 - mae: 0.7505 - val_loss: 11.5279 - val_mae: 2.2601\n",
            "Epoch 436/500\n",
            "323/323 [==============================] - 1s 2ms/step - loss: 0.9282 - mae: 0.7253 - val_loss: 11.1930 - val_mae: 2.3461\n",
            "Epoch 437/500\n",
            "323/323 [==============================] - 1s 2ms/step - loss: 1.0491 - mae: 0.7207 - val_loss: 13.1181 - val_mae: 2.4445\n",
            "Epoch 438/500\n",
            "323/323 [==============================] - 1s 2ms/step - loss: 0.8995 - mae: 0.7162 - val_loss: 11.7715 - val_mae: 2.2490\n",
            "Epoch 439/500\n",
            "323/323 [==============================] - 1s 2ms/step - loss: 1.1584 - mae: 0.7928 - val_loss: 12.6340 - val_mae: 2.4011\n",
            "Epoch 440/500\n",
            "323/323 [==============================] - 1s 2ms/step - loss: 0.9192 - mae: 0.7413 - val_loss: 12.9262 - val_mae: 2.4953\n",
            "Epoch 441/500\n",
            "323/323 [==============================] - 1s 2ms/step - loss: 1.0424 - mae: 0.7511 - val_loss: 11.8423 - val_mae: 2.4966\n",
            "Epoch 442/500\n",
            "323/323 [==============================] - 1s 2ms/step - loss: 1.0906 - mae: 0.7397 - val_loss: 11.9532 - val_mae: 2.3743\n",
            "Epoch 443/500\n",
            "323/323 [==============================] - 1s 2ms/step - loss: 0.9569 - mae: 0.7558 - val_loss: 12.2109 - val_mae: 2.3575\n",
            "Epoch 444/500\n",
            "323/323 [==============================] - 1s 2ms/step - loss: 0.9595 - mae: 0.7260 - val_loss: 13.3308 - val_mae: 2.5183\n",
            "Epoch 445/500\n",
            "323/323 [==============================] - 1s 2ms/step - loss: 0.9769 - mae: 0.7579 - val_loss: 12.2632 - val_mae: 2.3506\n",
            "Epoch 446/500\n",
            "323/323 [==============================] - 1s 2ms/step - loss: 0.9885 - mae: 0.7044 - val_loss: 12.3274 - val_mae: 2.4908\n",
            "Epoch 447/500\n",
            "323/323 [==============================] - 1s 2ms/step - loss: 1.0140 - mae: 0.7778 - val_loss: 12.1516 - val_mae: 2.4220\n",
            "Epoch 448/500\n",
            "323/323 [==============================] - 1s 2ms/step - loss: 0.9971 - mae: 0.7632 - val_loss: 13.4117 - val_mae: 2.5930\n",
            "Epoch 449/500\n",
            "323/323 [==============================] - 1s 2ms/step - loss: 0.8504 - mae: 0.6931 - val_loss: 12.5514 - val_mae: 2.2954\n",
            "Epoch 450/500\n",
            "323/323 [==============================] - 1s 2ms/step - loss: 0.9642 - mae: 0.7312 - val_loss: 11.0803 - val_mae: 2.2809\n",
            "Epoch 451/500\n",
            "323/323 [==============================] - 1s 2ms/step - loss: 0.9047 - mae: 0.7138 - val_loss: 15.0888 - val_mae: 2.7632\n",
            "Epoch 452/500\n",
            "323/323 [==============================] - 1s 2ms/step - loss: 0.9596 - mae: 0.7183 - val_loss: 11.0042 - val_mae: 2.2998\n",
            "Epoch 453/500\n",
            "323/323 [==============================] - 1s 2ms/step - loss: 0.9256 - mae: 0.7170 - val_loss: 12.2246 - val_mae: 2.3815\n",
            "Epoch 454/500\n",
            "323/323 [==============================] - 1s 2ms/step - loss: 0.9548 - mae: 0.7097 - val_loss: 13.0863 - val_mae: 2.4619\n",
            "Epoch 455/500\n",
            "323/323 [==============================] - 1s 2ms/step - loss: 0.8718 - mae: 0.6831 - val_loss: 13.2456 - val_mae: 2.4125\n",
            "Epoch 456/500\n",
            "323/323 [==============================] - 1s 2ms/step - loss: 1.0464 - mae: 0.7454 - val_loss: 12.0189 - val_mae: 2.3479\n",
            "Epoch 457/500\n",
            "323/323 [==============================] - 1s 2ms/step - loss: 0.8254 - mae: 0.6942 - val_loss: 12.1410 - val_mae: 2.3976\n",
            "Epoch 458/500\n",
            "323/323 [==============================] - 1s 2ms/step - loss: 1.0014 - mae: 0.7157 - val_loss: 13.7899 - val_mae: 2.6820\n",
            "Epoch 459/500\n",
            "323/323 [==============================] - 1s 2ms/step - loss: 0.9678 - mae: 0.7571 - val_loss: 11.8046 - val_mae: 2.3471\n",
            "Epoch 460/500\n",
            "323/323 [==============================] - 1s 2ms/step - loss: 0.9936 - mae: 0.7058 - val_loss: 12.8542 - val_mae: 2.3610\n",
            "Epoch 461/500\n",
            "323/323 [==============================] - 1s 2ms/step - loss: 0.9807 - mae: 0.7403 - val_loss: 12.1914 - val_mae: 2.4190\n",
            "Epoch 462/500\n",
            "323/323 [==============================] - 1s 2ms/step - loss: 0.9605 - mae: 0.7094 - val_loss: 13.3132 - val_mae: 2.5755\n",
            "Epoch 463/500\n",
            "323/323 [==============================] - 1s 2ms/step - loss: 0.9761 - mae: 0.7263 - val_loss: 11.5989 - val_mae: 2.3644\n",
            "Epoch 464/500\n",
            "323/323 [==============================] - 1s 2ms/step - loss: 0.9278 - mae: 0.7098 - val_loss: 11.2215 - val_mae: 2.2012\n",
            "Epoch 465/500\n",
            "323/323 [==============================] - 1s 2ms/step - loss: 1.0130 - mae: 0.7137 - val_loss: 11.6884 - val_mae: 2.3336\n",
            "Epoch 466/500\n",
            "323/323 [==============================] - 1s 3ms/step - loss: 0.9740 - mae: 0.6942 - val_loss: 11.5690 - val_mae: 2.3085\n",
            "Epoch 467/500\n",
            "323/323 [==============================] - 1s 2ms/step - loss: 0.9262 - mae: 0.7009 - val_loss: 11.5648 - val_mae: 2.2699\n",
            "Epoch 468/500\n",
            "323/323 [==============================] - 1s 2ms/step - loss: 0.8180 - mae: 0.6622 - val_loss: 12.2242 - val_mae: 2.3460\n",
            "Epoch 469/500\n",
            "323/323 [==============================] - 1s 3ms/step - loss: 0.9022 - mae: 0.6932 - val_loss: 11.4974 - val_mae: 2.3500\n",
            "Epoch 470/500\n",
            "323/323 [==============================] - 1s 2ms/step - loss: 0.9585 - mae: 0.7344 - val_loss: 12.3157 - val_mae: 2.3025\n",
            "Epoch 471/500\n",
            "323/323 [==============================] - 1s 2ms/step - loss: 0.9050 - mae: 0.7010 - val_loss: 11.4829 - val_mae: 2.3073\n",
            "Epoch 472/500\n",
            "323/323 [==============================] - 1s 2ms/step - loss: 0.9960 - mae: 0.7243 - val_loss: 12.3351 - val_mae: 2.4446\n",
            "Epoch 473/500\n",
            "323/323 [==============================] - 1s 2ms/step - loss: 0.9832 - mae: 0.7339 - val_loss: 11.5590 - val_mae: 2.3841\n",
            "Epoch 474/500\n",
            "323/323 [==============================] - 1s 2ms/step - loss: 0.9161 - mae: 0.7085 - val_loss: 11.9614 - val_mae: 2.3017\n",
            "Epoch 475/500\n",
            "323/323 [==============================] - 1s 2ms/step - loss: 0.8208 - mae: 0.6964 - val_loss: 11.3954 - val_mae: 2.3659\n",
            "Epoch 476/500\n",
            "323/323 [==============================] - 1s 2ms/step - loss: 0.9612 - mae: 0.6914 - val_loss: 12.3093 - val_mae: 2.3124\n",
            "Epoch 477/500\n",
            "323/323 [==============================] - 1s 3ms/step - loss: 0.9908 - mae: 0.7366 - val_loss: 11.9202 - val_mae: 2.4503\n",
            "Epoch 478/500\n",
            "323/323 [==============================] - 1s 3ms/step - loss: 0.8490 - mae: 0.6902 - val_loss: 12.5085 - val_mae: 2.4483\n",
            "Epoch 479/500\n",
            "323/323 [==============================] - 1s 3ms/step - loss: 0.8928 - mae: 0.7177 - val_loss: 12.0163 - val_mae: 2.4772\n",
            "Epoch 480/500\n",
            "323/323 [==============================] - 1s 3ms/step - loss: 0.8583 - mae: 0.6986 - val_loss: 12.1618 - val_mae: 2.4266\n",
            "Epoch 481/500\n",
            "323/323 [==============================] - 1s 3ms/step - loss: 0.9140 - mae: 0.7089 - val_loss: 13.7067 - val_mae: 2.5106\n",
            "Epoch 482/500\n",
            "323/323 [==============================] - 1s 3ms/step - loss: 0.9113 - mae: 0.7101 - val_loss: 12.2535 - val_mae: 2.3862\n",
            "Epoch 483/500\n",
            "323/323 [==============================] - 1s 3ms/step - loss: 0.9365 - mae: 0.7193 - val_loss: 11.1499 - val_mae: 2.3210\n",
            "Epoch 484/500\n",
            "323/323 [==============================] - 1s 3ms/step - loss: 0.8743 - mae: 0.6917 - val_loss: 12.5187 - val_mae: 2.4159\n",
            "Epoch 485/500\n",
            "323/323 [==============================] - 1s 2ms/step - loss: 0.8898 - mae: 0.7201 - val_loss: 12.1895 - val_mae: 2.4597\n",
            "Epoch 486/500\n",
            "323/323 [==============================] - 1s 3ms/step - loss: 0.8234 - mae: 0.6728 - val_loss: 12.3901 - val_mae: 2.4560\n",
            "Epoch 487/500\n",
            "323/323 [==============================] - 1s 3ms/step - loss: 0.8888 - mae: 0.6719 - val_loss: 11.4267 - val_mae: 2.2789\n",
            "Epoch 488/500\n",
            "323/323 [==============================] - 1s 2ms/step - loss: 0.8915 - mae: 0.6890 - val_loss: 10.8892 - val_mae: 2.2821\n",
            "Epoch 489/500\n",
            "323/323 [==============================] - 1s 3ms/step - loss: 0.9096 - mae: 0.7102 - val_loss: 11.0500 - val_mae: 2.2698\n",
            "Epoch 490/500\n",
            "323/323 [==============================] - 1s 2ms/step - loss: 0.9163 - mae: 0.7244 - val_loss: 11.0214 - val_mae: 2.2863\n",
            "Epoch 491/500\n",
            "323/323 [==============================] - 1s 3ms/step - loss: 0.8203 - mae: 0.6792 - val_loss: 10.6909 - val_mae: 2.1925\n",
            "Epoch 492/500\n",
            "323/323 [==============================] - 1s 3ms/step - loss: 0.8539 - mae: 0.6822 - val_loss: 12.2666 - val_mae: 2.5167\n",
            "Epoch 493/500\n",
            "323/323 [==============================] - 1s 3ms/step - loss: 0.9599 - mae: 0.7092 - val_loss: 11.7480 - val_mae: 2.4229\n",
            "Epoch 494/500\n",
            "323/323 [==============================] - 1s 2ms/step - loss: 0.8343 - mae: 0.7019 - val_loss: 12.6510 - val_mae: 2.4776\n",
            "Epoch 495/500\n",
            "323/323 [==============================] - 1s 3ms/step - loss: 0.8526 - mae: 0.6947 - val_loss: 11.5142 - val_mae: 2.1921\n",
            "Epoch 496/500\n",
            "323/323 [==============================] - 1s 2ms/step - loss: 0.8277 - mae: 0.6786 - val_loss: 11.9159 - val_mae: 2.3425\n",
            "Epoch 497/500\n",
            "323/323 [==============================] - 1s 2ms/step - loss: 0.8239 - mae: 0.6783 - val_loss: 11.6953 - val_mae: 2.2823\n",
            "Epoch 498/500\n",
            "323/323 [==============================] - 1s 2ms/step - loss: 0.8707 - mae: 0.6982 - val_loss: 12.0978 - val_mae: 2.2427\n",
            "Epoch 499/500\n",
            "323/323 [==============================] - 1s 3ms/step - loss: 0.9694 - mae: 0.7300 - val_loss: 11.5385 - val_mae: 2.3686\n",
            "Epoch 500/500\n",
            "323/323 [==============================] - 1s 2ms/step - loss: 0.8923 - mae: 0.6923 - val_loss: 13.8492 - val_mae: 2.5951\n",
            "CPU times: user 6min 20s, sys: 30.4 s, total: 6min 50s\n",
            "Wall time: 6min 22s\n"
          ],
          "name": "stdout"
        }
      ]
    },
    {
      "cell_type": "code",
      "metadata": {
        "colab": {
          "base_uri": "https://localhost:8080/"
        },
        "id": "-h0bwGG8LKx2",
        "outputId": "af2e4bf2-9423-4220-f3d4-984f7252df9e"
      },
      "source": [
        "test_mse_score, test_mae_score = boston.evaluate(X_test, y_test)\n",
        "\n",
        "print('MAE is :', test_mae_score)"
      ],
      "execution_count": 23,
      "outputs": [
        {
          "output_type": "stream",
          "text": [
            "4/4 [==============================] - 0s 3ms/step - loss: 15.8303 - mae: 2.7570\n",
            "MAE is : 2.756978988647461\n"
          ],
          "name": "stdout"
        }
      ]
    },
    {
      "cell_type": "code",
      "metadata": {
        "colab": {
          "base_uri": "https://localhost:8080/",
          "height": 404
        },
        "id": "nlzacUYrLVJD",
        "outputId": "2d509c0e-e290-4708-ccc1-53534067fee2"
      },
      "source": [
        "import matplotlib.pyplot as plt\n",
        "\n",
        "epochs = range(1, len(Hist_boston.history['val_mae']) + 1)\n",
        "\n",
        "plt.figure(figsize = (9, 6))\n",
        "plt.plot(epochs, Hist_boston.history['val_mae'])\n",
        "plt.title('Validation MAE')\n",
        "plt.xlabel('Epochs')\n",
        "plt.ylabel('Mean Absolute Error')\n",
        "plt.grid()\n",
        "plt.show()"
      ],
      "execution_count": 24,
      "outputs": [
        {
          "output_type": "display_data",
          "data": {
            "image/png": "[encoded data removed]",
            "text/plain": [
              "<Figure size 648x432 with 1 Axes>"
            ]
          },
          "metadata": {
            "tags": [],
            "needs_background": "light"
          }
        }
      ]
    },
    {
      "cell_type": "markdown",
      "metadata": {
        "id": "1BcBwAPnL03i"
      },
      "source": [
        "- 5번째 이후 MAE 확인"
      ]
    },
    {
      "cell_type": "code",
      "metadata": {
        "colab": {
          "base_uri": "https://localhost:8080/",
          "height": 404
        },
        "id": "bdOUW1AsLsTy",
        "outputId": "d9101f2e-5852-4b4f-e6a4-f22019cfe5ca"
      },
      "source": [
        "def smooth_curve(points, factor = 0.9):\n",
        "  smoothed_points = []\n",
        "  for point in points:\n",
        "    if smoothed_points:\n",
        "      previous = smoothed_points[-1]\n",
        "      smoothed_points.append(previous * factor + point * (1 - factor))\n",
        "    else:\n",
        "      smoothed_points.append(point)\n",
        "  return smoothed_points\n",
        "\n",
        "mae_history = Hist_boston.history['val_mae']\n",
        "\n",
        "mae_history = smooth_curve(mae_history[5:])\n",
        "\n",
        "plt.figure(figsize = (9, 6))\n",
        "plt.plot(range(1, len(mae_history) + 1), mae_history)\n",
        "plt.title('Validation MAE')\n",
        "plt.xlabel('Epochs')\n",
        "plt.ylabel('Mean Absolute Error')\n",
        "plt.grid()\n",
        "plt.show()"
      ],
      "execution_count": 25,
      "outputs": [
        {
          "output_type": "display_data",
          "data": {
            "image/png": "[encoded data removed]",
            "text/plain": [
              "<Figure size 648x432 with 1 Axes>"
            ]
          },
          "metadata": {
            "tags": [],
            "needs_background": "light"
          }
        }
      ]
    },
    {
      "cell_type": "code",
      "metadata": {
        "id": "pME-HKhUMvZT"
      },
      "source": [
        "# session 초기화\n",
        "\n",
        "from tensorflow.keras import backend as K\n",
        "\n",
        "K.clear_session()"
      ],
      "execution_count": 26,
      "outputs": []
    },
    {
      "cell_type": "markdown",
      "metadata": {
        "id": "DaCcFEsJNRRC"
      },
      "source": [
        "# **Early Stopping**"
      ]
    },
    {
      "cell_type": "code",
      "metadata": {
        "id": "016c_3usNQFl"
      },
      "source": [
        "from tensorflow.keras import models\n",
        "from tensorflow.keras import layers\n",
        "\n",
        "boston = models.Sequential(name = 'EarlyStopping')\n",
        "boston.add(layers.Dense(64, activation = 'relu', input_shape = (13, )))\n",
        "boston.add(layers.Dense(64, activation = 'relu'))\n",
        "boston.add(layers.Dense(1))\n",
        "\n",
        "boston.compile(loss = 'mse',\n",
        "               optimizer = 'rmsprop',\n",
        "               metrics = ['mae'])"
      ],
      "execution_count": 27,
      "outputs": []
    },
    {
      "cell_type": "markdown",
      "metadata": {
        "id": "kRpNQ7r4OQgX"
      },
      "source": [
        "## EerlyStopping()"
      ]
    },
    {
      "cell_type": "markdown",
      "metadata": {
        "id": "5gPYLLRgN-4N"
      },
      "source": [
        "- monitor : 모니터링 대상 성능\n",
        "- mode : 모니터링 대상을 최소화(min - mse, mae) 또는 최대화(max - accuracy)\n",
        "- patience : 성능이 개선되지 않는 epoch 횟수"
      ]
    },
    {
      "cell_type": "code",
      "metadata": {
        "id": "w22b2x74Ny-_"
      },
      "source": [
        "from tensorflow.keras.callbacks import EarlyStopping\n",
        "\n",
        "es = EarlyStopping(monitor = 'val_mae',\n",
        "                   mode = 'min',\n",
        "                   patience = 50,\n",
        "                   verbose = 1)"
      ],
      "execution_count": 28,
      "outputs": []
    },
    {
      "cell_type": "markdown",
      "metadata": {
        "id": "1n8NGmvAOhB8"
      },
      "source": [
        "## ModelCheckpoint()"
      ]
    },
    {
      "cell_type": "markdown",
      "metadata": {
        "id": "cIKs9JFYOjaR"
      },
      "source": [
        "- 'best_boston.h5' : 최적 모델이 저장될 경로\n",
        "- save_best_only : 최적 모델만 저장할지 지정"
      ]
    },
    {
      "cell_type": "code",
      "metadata": {
        "id": "olEd5BubOevI"
      },
      "source": [
        "from tensorflow.keras.callbacks import ModelCheckpoint\n",
        "\n",
        "mc = ModelCheckpoint('best_boston.h5',\n",
        "                     monitor = 'val_mae',\n",
        "                     mode = 'min',\n",
        "                     save_best_only = True,\n",
        "                     verbose = 1)"
      ],
      "execution_count": 29,
      "outputs": []
    },
    {
      "cell_type": "markdown",
      "metadata": {
        "id": "XAG6yBr2O5Zu"
      },
      "source": [
        "## Model Fit with callbacks"
      ]
    },
    {
      "cell_type": "markdown",
      "metadata": {
        "id": "7FgLssFoO-hw"
      },
      "source": [
        "- callbacks : EarlyStopping()과 ModelCheckpoint() 객체 지정"
      ]
    },
    {
      "cell_type": "code",
      "metadata": {
        "colab": {
          "base_uri": "https://localhost:8080/"
        },
        "id": "0BifOJ6QO3BP",
        "outputId": "0890edaa-8015-4535-cf44-b193cc31d313"
      },
      "source": [
        "%%time\n",
        "\n",
        "Hist_boston = boston.fit(X_train, y_train,\n",
        "                         epochs = 500,\n",
        "                         batch_size = 1,\n",
        "                         validation_data = (X_valid, y_valid),\n",
        "                         callbacks = [es, mc],\n",
        "                         verbose = 1)"
      ],
      "execution_count": 30,
      "outputs": [
        {
          "output_type": "stream",
          "text": [
            "Epoch 1/500\n",
            "323/323 [==============================] - 1s 2ms/step - loss: 176.2973 - mae: 9.3005 - val_loss: 42.8396 - val_mae: 3.7267\n",
            "\n",
            "Epoch 00001: val_mae improved from inf to 3.72671, saving model to best_boston.h5\n",
            "Epoch 2/500\n",
            "323/323 [==============================] - 1s 2ms/step - loss: 21.5944 - mae: 3.2389 - val_loss: 25.0792 - val_mae: 2.9649\n",
            "\n",
            "Epoch 00002: val_mae improved from 3.72671 to 2.96489, saving model to best_boston.h5\n",
            "Epoch 3/500\n",
            "323/323 [==============================] - 1s 2ms/step - loss: 17.4182 - mae: 2.8234 - val_loss: 23.2042 - val_mae: 3.1753\n",
            "\n",
            "Epoch 00003: val_mae did not improve from 2.96489\n",
            "Epoch 4/500\n",
            "323/323 [==============================] - 1s 2ms/step - loss: 15.9536 - mae: 2.6818 - val_loss: 20.8553 - val_mae: 2.5663\n",
            "\n",
            "Epoch 00004: val_mae improved from 2.96489 to 2.56630, saving model to best_boston.h5\n",
            "Epoch 5/500\n",
            "323/323 [==============================] - 1s 2ms/step - loss: 14.2614 - mae: 2.5514 - val_loss: 19.9818 - val_mae: 2.6889\n",
            "\n",
            "Epoch 00005: val_mae did not improve from 2.56630\n",
            "Epoch 6/500\n",
            "323/323 [==============================] - 1s 2ms/step - loss: 12.7146 - mae: 2.4551 - val_loss: 20.2159 - val_mae: 2.6903\n",
            "\n",
            "Epoch 00006: val_mae did not improve from 2.56630\n",
            "Epoch 7/500\n",
            "323/323 [==============================] - 1s 2ms/step - loss: 12.4310 - mae: 2.3631 - val_loss: 18.2189 - val_mae: 2.4284\n",
            "\n",
            "Epoch 00007: val_mae improved from 2.56630 to 2.42842, saving model to best_boston.h5\n",
            "Epoch 8/500\n",
            "323/323 [==============================] - 1s 2ms/step - loss: 11.8977 - mae: 2.3424 - val_loss: 19.9252 - val_mae: 2.8686\n",
            "\n",
            "Epoch 00008: val_mae did not improve from 2.42842\n",
            "Epoch 9/500\n",
            "323/323 [==============================] - 1s 2ms/step - loss: 10.6219 - mae: 2.2512 - val_loss: 19.8964 - val_mae: 2.7944\n",
            "\n",
            "Epoch 00009: val_mae did not improve from 2.42842\n",
            "Epoch 10/500\n",
            "323/323 [==============================] - 1s 2ms/step - loss: 11.6050 - mae: 2.2747 - val_loss: 16.5390 - val_mae: 2.5671\n",
            "\n",
            "Epoch 00010: val_mae did not improve from 2.42842\n",
            "Epoch 11/500\n",
            "323/323 [==============================] - 1s 2ms/step - loss: 10.5902 - mae: 2.2371 - val_loss: 16.7656 - val_mae: 2.3695\n",
            "\n",
            "Epoch 00011: val_mae improved from 2.42842 to 2.36947, saving model to best_boston.h5\n",
            "Epoch 12/500\n",
            "323/323 [==============================] - 1s 2ms/step - loss: 10.9178 - mae: 2.1880 - val_loss: 17.7205 - val_mae: 2.3135\n",
            "\n",
            "Epoch 00012: val_mae improved from 2.36947 to 2.31347, saving model to best_boston.h5\n",
            "Epoch 13/500\n",
            "323/323 [==============================] - 1s 2ms/step - loss: 10.4980 - mae: 2.1918 - val_loss: 15.7778 - val_mae: 2.4031\n",
            "\n",
            "Epoch 00013: val_mae did not improve from 2.31347\n",
            "Epoch 14/500\n",
            "323/323 [==============================] - 1s 2ms/step - loss: 10.2491 - mae: 2.1630 - val_loss: 15.2922 - val_mae: 2.4714\n",
            "\n",
            "Epoch 00014: val_mae did not improve from 2.31347\n",
            "Epoch 15/500\n",
            "323/323 [==============================] - 1s 2ms/step - loss: 9.9347 - mae: 2.0880 - val_loss: 15.1433 - val_mae: 2.7462\n",
            "\n",
            "Epoch 00015: val_mae did not improve from 2.31347\n",
            "Epoch 16/500\n",
            "323/323 [==============================] - 1s 2ms/step - loss: 9.5060 - mae: 2.1254 - val_loss: 14.4044 - val_mae: 2.2979\n",
            "\n",
            "Epoch 00016: val_mae improved from 2.31347 to 2.29794, saving model to best_boston.h5\n",
            "Epoch 17/500\n",
            "323/323 [==============================] - 1s 2ms/step - loss: 9.4891 - mae: 2.0909 - val_loss: 16.7038 - val_mae: 2.5045\n",
            "\n",
            "Epoch 00017: val_mae did not improve from 2.29794\n",
            "Epoch 18/500\n",
            "323/323 [==============================] - 1s 2ms/step - loss: 9.5675 - mae: 2.0534 - val_loss: 15.1338 - val_mae: 2.5304\n",
            "\n",
            "Epoch 00018: val_mae did not improve from 2.29794\n",
            "Epoch 19/500\n",
            "323/323 [==============================] - 1s 2ms/step - loss: 9.4872 - mae: 2.0079 - val_loss: 13.5778 - val_mae: 2.1949\n",
            "\n",
            "Epoch 00019: val_mae improved from 2.29794 to 2.19487, saving model to best_boston.h5\n",
            "Epoch 20/500\n",
            "323/323 [==============================] - 1s 2ms/step - loss: 9.0036 - mae: 2.0063 - val_loss: 12.7458 - val_mae: 2.1572\n",
            "\n",
            "Epoch 00020: val_mae improved from 2.19487 to 2.15725, saving model to best_boston.h5\n",
            "Epoch 21/500\n",
            "323/323 [==============================] - 1s 2ms/step - loss: 9.1609 - mae: 2.0221 - val_loss: 14.3167 - val_mae: 2.2211\n",
            "\n",
            "Epoch 00021: val_mae did not improve from 2.15725\n",
            "Epoch 22/500\n",
            "323/323 [==============================] - 1s 2ms/step - loss: 8.9627 - mae: 1.9972 - val_loss: 13.7063 - val_mae: 2.1754\n",
            "\n",
            "Epoch 00022: val_mae did not improve from 2.15725\n",
            "Epoch 23/500\n",
            "323/323 [==============================] - 1s 2ms/step - loss: 8.5768 - mae: 1.8908 - val_loss: 13.2295 - val_mae: 2.1508\n",
            "\n",
            "Epoch 00023: val_mae improved from 2.15725 to 2.15075, saving model to best_boston.h5\n",
            "Epoch 24/500\n",
            "323/323 [==============================] - 1s 2ms/step - loss: 8.3781 - mae: 1.9906 - val_loss: 14.1870 - val_mae: 2.4302\n",
            "\n",
            "Epoch 00024: val_mae did not improve from 2.15075\n",
            "Epoch 25/500\n",
            "323/323 [==============================] - 1s 2ms/step - loss: 8.5199 - mae: 1.9640 - val_loss: 11.9126 - val_mae: 2.3572\n",
            "\n",
            "Epoch 00025: val_mae did not improve from 2.15075\n",
            "Epoch 26/500\n",
            "323/323 [==============================] - 1s 2ms/step - loss: 8.2175 - mae: 1.9219 - val_loss: 12.5722 - val_mae: 2.1339\n",
            "\n",
            "Epoch 00026: val_mae improved from 2.15075 to 2.13387, saving model to best_boston.h5\n",
            "Epoch 27/500\n",
            "323/323 [==============================] - 1s 2ms/step - loss: 8.0024 - mae: 1.8649 - val_loss: 11.7966 - val_mae: 2.1092\n",
            "\n",
            "Epoch 00027: val_mae improved from 2.13387 to 2.10925, saving model to best_boston.h5\n",
            "Epoch 28/500\n",
            "323/323 [==============================] - 1s 2ms/step - loss: 8.2493 - mae: 1.9446 - val_loss: 13.7084 - val_mae: 2.2957\n",
            "\n",
            "Epoch 00028: val_mae did not improve from 2.10925\n",
            "Epoch 29/500\n",
            "323/323 [==============================] - 1s 2ms/step - loss: 8.0678 - mae: 1.8144 - val_loss: 13.3100 - val_mae: 2.3965\n",
            "\n",
            "Epoch 00029: val_mae did not improve from 2.10925\n",
            "Epoch 30/500\n",
            "323/323 [==============================] - 1s 2ms/step - loss: 7.9525 - mae: 1.8833 - val_loss: 13.7611 - val_mae: 2.1820\n",
            "\n",
            "Epoch 00030: val_mae did not improve from 2.10925\n",
            "Epoch 31/500\n",
            "323/323 [==============================] - 1s 2ms/step - loss: 7.8907 - mae: 1.7753 - val_loss: 12.8272 - val_mae: 2.1982\n",
            "\n",
            "Epoch 00031: val_mae did not improve from 2.10925\n",
            "Epoch 32/500\n",
            "323/323 [==============================] - 1s 2ms/step - loss: 8.0364 - mae: 1.8778 - val_loss: 12.2702 - val_mae: 2.2520\n",
            "\n",
            "Epoch 00032: val_mae did not improve from 2.10925\n",
            "Epoch 33/500\n",
            "323/323 [==============================] - 1s 2ms/step - loss: 7.5887 - mae: 1.8453 - val_loss: 11.6213 - val_mae: 2.2348\n",
            "\n",
            "Epoch 00033: val_mae did not improve from 2.10925\n",
            "Epoch 34/500\n",
            "323/323 [==============================] - 1s 2ms/step - loss: 7.6267 - mae: 1.8000 - val_loss: 12.4928 - val_mae: 2.1984\n",
            "\n",
            "Epoch 00034: val_mae did not improve from 2.10925\n",
            "Epoch 35/500\n",
            "323/323 [==============================] - 1s 2ms/step - loss: 7.3586 - mae: 1.8043 - val_loss: 14.4355 - val_mae: 2.3382\n",
            "\n",
            "Epoch 00035: val_mae did not improve from 2.10925\n",
            "Epoch 36/500\n",
            "323/323 [==============================] - 1s 2ms/step - loss: 7.3280 - mae: 1.8425 - val_loss: 14.3382 - val_mae: 2.3806\n",
            "\n",
            "Epoch 00036: val_mae did not improve from 2.10925\n",
            "Epoch 37/500\n",
            "323/323 [==============================] - 1s 2ms/step - loss: 7.4075 - mae: 1.8169 - val_loss: 12.0845 - val_mae: 2.1922\n",
            "\n",
            "Epoch 00037: val_mae did not improve from 2.10925\n",
            "Epoch 38/500\n",
            "323/323 [==============================] - 1s 2ms/step - loss: 7.1850 - mae: 1.7626 - val_loss: 13.0684 - val_mae: 2.2166\n",
            "\n",
            "Epoch 00038: val_mae did not improve from 2.10925\n",
            "Epoch 39/500\n",
            "323/323 [==============================] - 1s 2ms/step - loss: 6.5753 - mae: 1.7248 - val_loss: 11.8532 - val_mae: 2.3673\n",
            "\n",
            "Epoch 00039: val_mae did not improve from 2.10925\n",
            "Epoch 40/500\n",
            "323/323 [==============================] - 1s 2ms/step - loss: 6.9158 - mae: 1.7150 - val_loss: 13.1631 - val_mae: 2.4909\n",
            "\n",
            "Epoch 00040: val_mae did not improve from 2.10925\n",
            "Epoch 41/500\n",
            "323/323 [==============================] - 1s 2ms/step - loss: 6.7926 - mae: 1.7708 - val_loss: 10.6597 - val_mae: 2.1261\n",
            "\n",
            "Epoch 00041: val_mae did not improve from 2.10925\n",
            "Epoch 42/500\n",
            "323/323 [==============================] - 1s 2ms/step - loss: 7.0537 - mae: 1.7175 - val_loss: 12.5643 - val_mae: 2.2739\n",
            "\n",
            "Epoch 00042: val_mae did not improve from 2.10925\n",
            "Epoch 43/500\n",
            "323/323 [==============================] - 1s 2ms/step - loss: 6.8285 - mae: 1.7676 - val_loss: 10.8330 - val_mae: 2.1941\n",
            "\n",
            "Epoch 00043: val_mae did not improve from 2.10925\n",
            "Epoch 44/500\n",
            "323/323 [==============================] - 1s 2ms/step - loss: 6.4247 - mae: 1.7458 - val_loss: 11.8152 - val_mae: 2.2373\n",
            "\n",
            "Epoch 00044: val_mae did not improve from 2.10925\n",
            "Epoch 45/500\n",
            "323/323 [==============================] - 1s 2ms/step - loss: 6.1954 - mae: 1.6972 - val_loss: 13.5448 - val_mae: 2.3861\n",
            "\n",
            "Epoch 00045: val_mae did not improve from 2.10925\n",
            "Epoch 46/500\n",
            "323/323 [==============================] - 1s 2ms/step - loss: 6.3636 - mae: 1.6933 - val_loss: 12.3669 - val_mae: 2.4143\n",
            "\n",
            "Epoch 00046: val_mae did not improve from 2.10925\n",
            "Epoch 47/500\n",
            "323/323 [==============================] - 1s 2ms/step - loss: 6.2448 - mae: 1.6671 - val_loss: 10.8051 - val_mae: 2.2507\n",
            "\n",
            "Epoch 00047: val_mae did not improve from 2.10925\n",
            "Epoch 48/500\n",
            "323/323 [==============================] - 1s 2ms/step - loss: 6.1870 - mae: 1.7353 - val_loss: 11.6900 - val_mae: 2.1539\n",
            "\n",
            "Epoch 00048: val_mae did not improve from 2.10925\n",
            "Epoch 49/500\n",
            "323/323 [==============================] - 1s 2ms/step - loss: 6.4631 - mae: 1.6965 - val_loss: 12.1439 - val_mae: 2.3874\n",
            "\n",
            "Epoch 00049: val_mae did not improve from 2.10925\n",
            "Epoch 50/500\n",
            "323/323 [==============================] - 1s 2ms/step - loss: 6.5689 - mae: 1.6627 - val_loss: 9.5768 - val_mae: 2.1373\n",
            "\n",
            "Epoch 00050: val_mae did not improve from 2.10925\n",
            "Epoch 51/500\n",
            "323/323 [==============================] - 1s 2ms/step - loss: 6.1173 - mae: 1.6601 - val_loss: 9.6310 - val_mae: 2.0178\n",
            "\n",
            "Epoch 00051: val_mae improved from 2.10925 to 2.01783, saving model to best_boston.h5\n",
            "Epoch 52/500\n",
            "323/323 [==============================] - 1s 2ms/step - loss: 6.0952 - mae: 1.5991 - val_loss: 9.7248 - val_mae: 2.0671\n",
            "\n",
            "Epoch 00052: val_mae did not improve from 2.01783\n",
            "Epoch 53/500\n",
            "323/323 [==============================] - 1s 2ms/step - loss: 6.0842 - mae: 1.6218 - val_loss: 9.8264 - val_mae: 2.1338\n",
            "\n",
            "Epoch 00053: val_mae did not improve from 2.01783\n",
            "Epoch 54/500\n",
            "323/323 [==============================] - 1s 2ms/step - loss: 5.5633 - mae: 1.5725 - val_loss: 11.3041 - val_mae: 2.4703\n",
            "\n",
            "Epoch 00054: val_mae did not improve from 2.01783\n",
            "Epoch 55/500\n",
            "323/323 [==============================] - 1s 2ms/step - loss: 5.3386 - mae: 1.6243 - val_loss: 10.2577 - val_mae: 2.0249\n",
            "\n",
            "Epoch 00055: val_mae did not improve from 2.01783\n",
            "Epoch 56/500\n",
            "323/323 [==============================] - 1s 2ms/step - loss: 5.8420 - mae: 1.5865 - val_loss: 9.1297 - val_mae: 2.0761\n",
            "\n",
            "Epoch 00056: val_mae did not improve from 2.01783\n",
            "Epoch 57/500\n",
            "323/323 [==============================] - 1s 2ms/step - loss: 5.5631 - mae: 1.5989 - val_loss: 9.4282 - val_mae: 1.9177\n",
            "\n",
            "Epoch 00057: val_mae improved from 2.01783 to 1.91769, saving model to best_boston.h5\n",
            "Epoch 58/500\n",
            "323/323 [==============================] - 1s 2ms/step - loss: 5.7065 - mae: 1.5585 - val_loss: 11.1201 - val_mae: 2.2042\n",
            "\n",
            "Epoch 00058: val_mae did not improve from 1.91769\n",
            "Epoch 59/500\n",
            "323/323 [==============================] - 1s 2ms/step - loss: 5.7713 - mae: 1.5825 - val_loss: 11.0555 - val_mae: 2.3249\n",
            "\n",
            "Epoch 00059: val_mae did not improve from 1.91769\n",
            "Epoch 60/500\n",
            "323/323 [==============================] - 1s 2ms/step - loss: 5.5611 - mae: 1.5312 - val_loss: 10.7679 - val_mae: 2.1605\n",
            "\n",
            "Epoch 00060: val_mae did not improve from 1.91769\n",
            "Epoch 61/500\n",
            "323/323 [==============================] - 1s 2ms/step - loss: 5.2627 - mae: 1.4825 - val_loss: 12.8024 - val_mae: 2.5202\n",
            "\n",
            "Epoch 00061: val_mae did not improve from 1.91769\n",
            "Epoch 62/500\n",
            "323/323 [==============================] - 1s 2ms/step - loss: 5.4591 - mae: 1.6103 - val_loss: 10.0750 - val_mae: 2.1316\n",
            "\n",
            "Epoch 00062: val_mae did not improve from 1.91769\n",
            "Epoch 63/500\n",
            "323/323 [==============================] - 1s 2ms/step - loss: 5.5958 - mae: 1.5522 - val_loss: 9.7849 - val_mae: 2.0642\n",
            "\n",
            "Epoch 00063: val_mae did not improve from 1.91769\n",
            "Epoch 64/500\n",
            "323/323 [==============================] - 1s 2ms/step - loss: 5.2356 - mae: 1.5056 - val_loss: 11.7744 - val_mae: 2.2892\n",
            "\n",
            "Epoch 00064: val_mae did not improve from 1.91769\n",
            "Epoch 65/500\n",
            "323/323 [==============================] - 1s 2ms/step - loss: 5.3059 - mae: 1.5308 - val_loss: 10.9817 - val_mae: 2.2047\n",
            "\n",
            "Epoch 00065: val_mae did not improve from 1.91769\n",
            "Epoch 66/500\n",
            "323/323 [==============================] - 1s 2ms/step - loss: 5.4422 - mae: 1.5314 - val_loss: 9.0786 - val_mae: 2.1140\n",
            "\n",
            "Epoch 00066: val_mae did not improve from 1.91769\n",
            "Epoch 67/500\n",
            "323/323 [==============================] - 1s 2ms/step - loss: 5.0584 - mae: 1.5091 - val_loss: 9.9760 - val_mae: 2.0497\n",
            "\n",
            "Epoch 00067: val_mae did not improve from 1.91769\n",
            "Epoch 68/500\n",
            "323/323 [==============================] - 1s 2ms/step - loss: 4.9503 - mae: 1.5462 - val_loss: 11.2552 - val_mae: 2.2576\n",
            "\n",
            "Epoch 00068: val_mae did not improve from 1.91769\n",
            "Epoch 69/500\n",
            "323/323 [==============================] - 1s 2ms/step - loss: 5.1204 - mae: 1.5325 - val_loss: 10.6923 - val_mae: 2.2084\n",
            "\n",
            "Epoch 00069: val_mae did not improve from 1.91769\n",
            "Epoch 70/500\n",
            "323/323 [==============================] - 1s 2ms/step - loss: 5.1771 - mae: 1.4861 - val_loss: 10.2739 - val_mae: 2.1239\n",
            "\n",
            "Epoch 00070: val_mae did not improve from 1.91769\n",
            "Epoch 71/500\n",
            "323/323 [==============================] - 1s 2ms/step - loss: 5.2616 - mae: 1.5073 - val_loss: 10.4456 - val_mae: 2.1568\n",
            "\n",
            "Epoch 00071: val_mae did not improve from 1.91769\n",
            "Epoch 72/500\n",
            "323/323 [==============================] - 1s 2ms/step - loss: 5.1181 - mae: 1.4585 - val_loss: 8.9722 - val_mae: 2.1238\n",
            "\n",
            "Epoch 00072: val_mae did not improve from 1.91769\n",
            "Epoch 73/500\n",
            "323/323 [==============================] - 1s 2ms/step - loss: 5.3936 - mae: 1.5289 - val_loss: 10.1581 - val_mae: 2.2185\n",
            "\n",
            "Epoch 00073: val_mae did not improve from 1.91769\n",
            "Epoch 74/500\n",
            "323/323 [==============================] - 1s 2ms/step - loss: 5.0976 - mae: 1.4833 - val_loss: 9.4615 - val_mae: 2.0580\n",
            "\n",
            "Epoch 00074: val_mae did not improve from 1.91769\n",
            "Epoch 75/500\n",
            "323/323 [==============================] - 1s 2ms/step - loss: 4.8015 - mae: 1.4526 - val_loss: 10.3233 - val_mae: 2.2237\n",
            "\n",
            "Epoch 00075: val_mae did not improve from 1.91769\n",
            "Epoch 76/500\n",
            "323/323 [==============================] - 1s 2ms/step - loss: 5.0855 - mae: 1.4654 - val_loss: 10.7104 - val_mae: 2.2233\n",
            "\n",
            "Epoch 00076: val_mae did not improve from 1.91769\n",
            "Epoch 77/500\n",
            "323/323 [==============================] - 1s 2ms/step - loss: 5.1722 - mae: 1.4192 - val_loss: 11.6529 - val_mae: 2.3116\n",
            "\n",
            "Epoch 00077: val_mae did not improve from 1.91769\n",
            "Epoch 78/500\n",
            "323/323 [==============================] - 1s 2ms/step - loss: 4.7743 - mae: 1.4354 - val_loss: 9.9180 - val_mae: 2.1197\n",
            "\n",
            "Epoch 00078: val_mae did not improve from 1.91769\n",
            "Epoch 79/500\n",
            "323/323 [==============================] - 1s 2ms/step - loss: 4.6836 - mae: 1.4507 - val_loss: 9.0448 - val_mae: 2.0344\n",
            "\n",
            "Epoch 00079: val_mae did not improve from 1.91769\n",
            "Epoch 80/500\n",
            "323/323 [==============================] - 1s 2ms/step - loss: 4.7978 - mae: 1.4491 - val_loss: 10.4954 - val_mae: 2.1205\n",
            "\n",
            "Epoch 00080: val_mae did not improve from 1.91769\n",
            "Epoch 81/500\n",
            "323/323 [==============================] - 1s 2ms/step - loss: 4.9004 - mae: 1.4433 - val_loss: 9.7158 - val_mae: 2.1570\n",
            "\n",
            "Epoch 00081: val_mae did not improve from 1.91769\n",
            "Epoch 82/500\n",
            "323/323 [==============================] - 1s 2ms/step - loss: 4.6396 - mae: 1.3610 - val_loss: 11.5386 - val_mae: 2.2642\n",
            "\n",
            "Epoch 00082: val_mae did not improve from 1.91769\n",
            "Epoch 83/500\n",
            "323/323 [==============================] - 1s 2ms/step - loss: 4.4481 - mae: 1.4211 - val_loss: 10.3014 - val_mae: 2.1127\n",
            "\n",
            "Epoch 00083: val_mae did not improve from 1.91769\n",
            "Epoch 84/500\n",
            "323/323 [==============================] - 1s 2ms/step - loss: 4.3680 - mae: 1.4328 - val_loss: 10.8745 - val_mae: 2.2347\n",
            "\n",
            "Epoch 00084: val_mae did not improve from 1.91769\n",
            "Epoch 85/500\n",
            "323/323 [==============================] - 1s 2ms/step - loss: 4.1269 - mae: 1.3434 - val_loss: 11.2046 - val_mae: 2.2104\n",
            "\n",
            "Epoch 00085: val_mae did not improve from 1.91769\n",
            "Epoch 86/500\n",
            "323/323 [==============================] - 1s 2ms/step - loss: 4.5031 - mae: 1.3819 - val_loss: 9.5435 - val_mae: 2.1308\n",
            "\n",
            "Epoch 00086: val_mae did not improve from 1.91769\n",
            "Epoch 87/500\n",
            "323/323 [==============================] - 1s 2ms/step - loss: 4.5256 - mae: 1.3981 - val_loss: 10.8121 - val_mae: 2.1501\n",
            "\n",
            "Epoch 00087: val_mae did not improve from 1.91769\n",
            "Epoch 88/500\n",
            "323/323 [==============================] - 1s 2ms/step - loss: 3.9812 - mae: 1.3396 - val_loss: 10.9596 - val_mae: 2.2614\n",
            "\n",
            "Epoch 00088: val_mae did not improve from 1.91769\n",
            "Epoch 89/500\n",
            "323/323 [==============================] - 1s 2ms/step - loss: 4.3052 - mae: 1.4055 - val_loss: 8.9845 - val_mae: 2.1107\n",
            "\n",
            "Epoch 00089: val_mae did not improve from 1.91769\n",
            "Epoch 90/500\n",
            "323/323 [==============================] - 1s 2ms/step - loss: 4.4680 - mae: 1.3226 - val_loss: 10.6300 - val_mae: 2.1066\n",
            "\n",
            "Epoch 00090: val_mae did not improve from 1.91769\n",
            "Epoch 91/500\n",
            "323/323 [==============================] - 1s 2ms/step - loss: 4.4552 - mae: 1.4091 - val_loss: 9.0899 - val_mae: 2.0387\n",
            "\n",
            "Epoch 00091: val_mae did not improve from 1.91769\n",
            "Epoch 92/500\n",
            "323/323 [==============================] - 1s 2ms/step - loss: 4.6648 - mae: 1.3960 - val_loss: 10.0456 - val_mae: 2.1027\n",
            "\n",
            "Epoch 00092: val_mae did not improve from 1.91769\n",
            "Epoch 93/500\n",
            "323/323 [==============================] - 1s 2ms/step - loss: 4.5247 - mae: 1.3841 - val_loss: 9.2548 - val_mae: 2.0684\n",
            "\n",
            "Epoch 00093: val_mae did not improve from 1.91769\n",
            "Epoch 94/500\n",
            "323/323 [==============================] - 1s 2ms/step - loss: 4.3532 - mae: 1.3183 - val_loss: 10.4810 - val_mae: 2.2587\n",
            "\n",
            "Epoch 00094: val_mae did not improve from 1.91769\n",
            "Epoch 95/500\n",
            "323/323 [==============================] - 1s 2ms/step - loss: 4.3405 - mae: 1.3740 - val_loss: 10.2621 - val_mae: 2.1295\n",
            "\n",
            "Epoch 00095: val_mae did not improve from 1.91769\n",
            "Epoch 96/500\n",
            "323/323 [==============================] - 1s 2ms/step - loss: 4.1616 - mae: 1.2612 - val_loss: 9.9761 - val_mae: 2.1534\n",
            "\n",
            "Epoch 00096: val_mae did not improve from 1.91769\n",
            "Epoch 97/500\n",
            "323/323 [==============================] - 1s 2ms/step - loss: 4.3835 - mae: 1.3882 - val_loss: 10.8531 - val_mae: 2.2270\n",
            "\n",
            "Epoch 00097: val_mae did not improve from 1.91769\n",
            "Epoch 98/500\n",
            "323/323 [==============================] - 1s 2ms/step - loss: 4.3519 - mae: 1.3507 - val_loss: 9.8722 - val_mae: 2.1570\n",
            "\n",
            "Epoch 00098: val_mae did not improve from 1.91769\n",
            "Epoch 99/500\n",
            "323/323 [==============================] - 1s 2ms/step - loss: 4.3167 - mae: 1.3081 - val_loss: 9.4207 - val_mae: 2.1849\n",
            "\n",
            "Epoch 00099: val_mae did not improve from 1.91769\n",
            "Epoch 100/500\n",
            "323/323 [==============================] - 1s 2ms/step - loss: 4.2261 - mae: 1.3160 - val_loss: 12.3281 - val_mae: 2.2235\n",
            "\n",
            "Epoch 00100: val_mae did not improve from 1.91769\n",
            "Epoch 101/500\n",
            "323/323 [==============================] - 1s 2ms/step - loss: 4.0874 - mae: 1.3146 - val_loss: 11.3110 - val_mae: 2.1603\n",
            "\n",
            "Epoch 00101: val_mae did not improve from 1.91769\n",
            "Epoch 102/500\n",
            "323/323 [==============================] - 1s 2ms/step - loss: 4.2590 - mae: 1.3261 - val_loss: 9.4169 - val_mae: 2.0733\n",
            "\n",
            "Epoch 00102: val_mae did not improve from 1.91769\n",
            "Epoch 103/500\n",
            "323/323 [==============================] - 1s 2ms/step - loss: 3.8060 - mae: 1.2598 - val_loss: 10.3777 - val_mae: 2.2020\n",
            "\n",
            "Epoch 00103: val_mae did not improve from 1.91769\n",
            "Epoch 104/500\n",
            "323/323 [==============================] - 1s 2ms/step - loss: 3.7163 - mae: 1.2717 - val_loss: 11.8494 - val_mae: 2.4147\n",
            "\n",
            "Epoch 00104: val_mae did not improve from 1.91769\n",
            "Epoch 105/500\n",
            "323/323 [==============================] - 1s 2ms/step - loss: 4.0186 - mae: 1.3044 - val_loss: 12.0226 - val_mae: 2.3195\n",
            "\n",
            "Epoch 00105: val_mae did not improve from 1.91769\n",
            "Epoch 106/500\n",
            "323/323 [==============================] - 1s 2ms/step - loss: 4.0449 - mae: 1.3085 - val_loss: 10.4232 - val_mae: 2.1235\n",
            "\n",
            "Epoch 00106: val_mae did not improve from 1.91769\n",
            "Epoch 107/500\n",
            "323/323 [==============================] - 1s 2ms/step - loss: 3.9054 - mae: 1.3058 - val_loss: 10.8783 - val_mae: 2.2472\n",
            "\n",
            "Epoch 00107: val_mae did not improve from 1.91769\n",
            "Epoch 00107: early stopping\n",
            "CPU times: user 1min 20s, sys: 6.15 s, total: 1min 26s\n",
            "Wall time: 1min 16s\n"
          ],
          "name": "stdout"
        }
      ]
    },
    {
      "cell_type": "code",
      "metadata": {
        "colab": {
          "base_uri": "https://localhost:8080/"
        },
        "id": "usCS9QcWPizG",
        "outputId": "fbf80aa4-231f-46f2-f373-46cb0c31f6f8"
      },
      "source": [
        "!ls -l"
      ],
      "execution_count": 31,
      "outputs": [
        {
          "output_type": "stream",
          "text": [
            "total 76\n",
            "-rw-r--r-- 1 root root 70280 Aug  5 17:18 best_boston.h5\n",
            "drwxr-xr-x 1 root root  4096 Jul 16 13:20 sample_data\n"
          ],
          "name": "stdout"
        }
      ]
    },
    {
      "cell_type": "code",
      "metadata": {
        "colab": {
          "base_uri": "https://localhost:8080/"
        },
        "id": "eM-3Hpq_Pmqc",
        "outputId": "3987f476-fbda-42e3-c9f0-a3a072b7964a"
      },
      "source": [
        "test_mse_score, test_mae_score = boston.evaluate(X_test, y_test)\n",
        "\n",
        "print('MAE is : ', test_mae_score)"
      ],
      "execution_count": 32,
      "outputs": [
        {
          "output_type": "stream",
          "text": [
            "4/4 [==============================] - 0s 3ms/step - loss: 14.5766 - mae: 2.2811\n",
            "MAE is :  2.2810893058776855\n"
          ],
          "name": "stdout"
        }
      ]
    }
  ]
}
