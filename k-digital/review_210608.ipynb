{
 "cells": [
  {
   "cell_type": "markdown",
   "id": "10aee930-212e-4e48-ab84-c3b0fc960d5b",
   "metadata": {},
   "source": [
    "## tips_analysis.ipynb"
   ]
  },
  {
   "cell_type": "code",
   "execution_count": null,
   "id": "c66ae1f9-5f92-4dae-8155-71131bdb6b46",
   "metadata": {},
   "outputs": [],
   "source": [
    "import pandas as pd\n",
    "import pandas_profiling"
   ]
  },
  {
   "cell_type": "code",
   "execution_count": null,
   "id": "4083309d-bac4-472e-b1fd-41b5ddfca00a",
   "metadata": {},
   "outputs": [],
   "source": [
    "tips = pd.read_csv('tips.csv')"
   ]
  },
  {
   "cell_type": "code",
   "execution_count": null,
   "id": "0f5cdca4-296a-4668-a4dc-7ccd0cecf434",
   "metadata": {},
   "outputs": [],
   "source": [
    "tips.head() # tips.head(10)"
   ]
  },
  {
   "cell_type": "code",
   "execution_count": null,
   "id": "68e9d4fc-5a76-4c92-a8ed-8837630b491a",
   "metadata": {},
   "outputs": [],
   "source": [
    "tips.tail()"
   ]
  },
  {
   "cell_type": "code",
   "execution_count": null,
   "id": "a58df53e-01c5-4b98-a082-313d84099c85",
   "metadata": {},
   "outputs": [],
   "source": [
    "tips.columns"
   ]
  },
  {
   "cell_type": "code",
   "execution_count": null,
   "id": "45885a59-1f8a-4a75-88ec-bff45033f17f",
   "metadata": {},
   "outputs": [],
   "source": [
    "tips.info()"
   ]
  },
  {
   "cell_type": "code",
   "execution_count": null,
   "id": "9fe62a3e-c178-484d-80f0-3bb6af3f021e",
   "metadata": {},
   "outputs": [],
   "source": [
    "tips.describe()"
   ]
  },
  {
   "cell_type": "code",
   "execution_count": null,
   "id": "662ebb39-900b-4313-94bc-bc972151593a",
   "metadata": {},
   "outputs": [],
   "source": [
    "tips.profile_report()"
   ]
  },
  {
   "cell_type": "code",
   "execution_count": null,
   "id": "f5e2a47b-98b1-4956-87d0-291ec53de1e3",
   "metadata": {},
   "outputs": [],
   "source": [
    "tips['day'].unique()"
   ]
  },
  {
   "cell_type": "code",
   "execution_count": null,
   "id": "51d749a1-f1ec-48fd-9148-162cc9006e63",
   "metadata": {},
   "outputs": [],
   "source": [
    "tips['day'].value_counts()"
   ]
  },
  {
   "cell_type": "markdown",
   "id": "ed4fd6da-8a37-490c-abaa-539fa73dc432",
   "metadata": {},
   "source": []
  },
  {
   "cell_type": "markdown",
   "id": "e855b62e-bd3d-485b-b4b8-1de7471c5f21",
   "metadata": {},
   "source": [
    "## restaurant-tip"
   ]
  },
  {
   "cell_type": "markdown",
   "id": "152f4cf6-87cb-4d24-86f2-43d17d61a02e",
   "metadata": {},
   "source": [
    "### Getting Started"
   ]
  },
  {
   "cell_type": "code",
   "execution_count": null,
   "id": "0c94f4b5-60c0-4b9e-8540-01004d32d24b",
   "metadata": {},
   "outputs": [],
   "source": [
    "import numpy as np\n",
    "import pandas as pd\n",
    "\n",
    "import matplotlib.pyplot as plt\n",
    "import seaborn as sns\n",
    "sns.set_style('darkgrid')\n",
    "\n",
    "from sklearn.model_selection import KFold\n",
    "from sklearn.preprocessing import StandardSacaler\n",
    "\n",
    "from sklearn.linear_model import LinearRegression"
   ]
  },
  {
   "cell_type": "code",
   "execution_count": null,
   "id": "991fcd60-9d53-47a5-a053-079c0b340998",
   "metadata": {},
   "outputs": [],
   "source": [
    "data = pd.read_csv('.\\\\tips.csv')"
   ]
  },
  {
   "cell_type": "code",
   "execution_count": null,
   "id": "8df04fbd-9652-46d5-a6f4-c9d23135c615",
   "metadata": {},
   "outputs": [],
   "source": [
    "data"
   ]
  },
  {
   "cell_type": "code",
   "execution_count": null,
   "id": "4360f265-7913-40cc-9475-5e48364fadf9",
   "metadata": {},
   "outputs": [],
   "source": [
    "data.info()"
   ]
  },
  {
   "cell_type": "markdown",
   "id": "b87e7a87-18f4-4243-a820-991dcd3955ab",
   "metadata": {},
   "source": [
    "### Preprocessing"
   ]
  },
  {
   "cell_type": "code",
   "execution_count": null,
   "id": "9eb6020a-962e-4199-8e64-0257e4268a93",
   "metadata": {},
   "outputs": [],
   "source": [
    "def preprocess_inputs(df):\n",
    "    df = df.copy()\n",
    "    \n",
    "    # Binary encoding\n",
    "    df['sex'] = df['sex'].replace({'Female': 0, 'Male': 1})\n",
    "    df['smoker'] = df['smoker'].replace({'No': 0, 'Yes': 1})\n",
    "    df['time'] = df['time'].replace({'Lunch': 0, 'Dinner': 1})\n",
    "    \n",
    "    # Ordinal encoding\n",
    "    df['day'] = df['day'].replace({'Thur': 0, 'Fri': 1, 'Sat': 2, 'Sun': 3})\n",
    "    \n",
    "    return df"
   ]
  },
  {
   "cell_type": "code",
   "execution_count": null,
   "id": "6272bcf4-38cd-420c-9f61-4eacb0680d09",
   "metadata": {},
   "outputs": [],
   "source": [
    "X = preprocess_inputs(data)"
   ]
  },
  {
   "cell_type": "code",
   "execution_count": null,
   "id": "3bab6bd5-5254-4ace-af63-6d1aaf56af40",
   "metadata": {},
   "outputs": [],
   "source": [
    "X"
   ]
  },
  {
   "cell_type": "markdown",
   "id": "09ca8ba6-1a4e-46c6-9087-718234008d9c",
   "metadata": {},
   "source": [
    "### Exploratory Data Analysis"
   ]
  },
  {
   "cell_type": "code",
   "execution_count": null,
   "id": "e3bddc8d-b7f8-4a9f-a92b-58c8703daa58",
   "metadata": {},
   "outputs": [],
   "source": [
    "plt.figure(figsize = (20, 10))\n",
    "\n",
    "for i in range(len(X.columns)):\n",
    "    plt.subplot(2, 4, i + 1)\n",
    "    if len(X[X.columns[i]].unique()) > 2:\n",
    "        sns.histplolt(X[X.columns[i]], kde = True)\n",
    "    else:\n",
    "        sns.histplot(X[X.columns[i]], kde = False)\n",
    "    if i == 0:\n",
    "        plt.title('column Distributions')\n",
    "        \n",
    "plt.show()"
   ]
  },
  {
   "cell_type": "code",
   "execution_count": null,
   "id": "415132e2-6d5b-4608-8722-cdcfedeb2d4a",
   "metadata": {},
   "outputs": [],
   "source": [
    "plt.figure(figsize = 20, 10))\n",
    "\n",
    "for i in range(len(X.columns)):\n",
    "    plt.subplot(2, 4, i + 1)\n",
    "    sns.boxplot(x = X[X.columns[i]])\n",
    "    if i == 0:\n",
    "        plt.title('Column Boxplots')"
   ]
  },
  {
   "cell_type": "code",
   "execution_count": null,
   "id": "1c1e7cb7-ad6f-4815-89ae-728baa26d19b",
   "metadata": {},
   "outputs": [],
   "source": [
    "sns.pairplot(X.loc[:, ['total_bill', 'tip']])"
   ]
  },
  {
   "cell_type": "code",
   "execution_count": null,
   "id": "94015862-e7cb-47c2-8b41-603bb891337f",
   "metadata": {},
   "outputs": [],
   "source": [
    "plt.figure(figsize = (12, 10))\n",
    "sns.heatmap(X.corr(), annot = True, vmin = -1.0, cmap = 'mako')\n",
    "plt.title('Correlation Matrix')\n",
    "plt.show()"
   ]
  },
  {
   "cell_type": "code",
   "execution_count": null,
   "id": "ef9ff3b5-83e2-4ed6-9053-82d906447649",
   "metadata": {},
   "outputs": [],
   "source": [
    "X.corr()"
   ]
  },
  {
   "cell_type": "markdown",
   "id": "70f3a2c6-e097-439e-bbfb-d945c406b249",
   "metadata": {},
   "source": [
    "### Training"
   ]
  },
  {
   "cell_type": "code",
   "execution_count": null,
   "id": "72809460-0fa6-4dce-b8f9-c524367328f9",
   "metadata": {},
   "outputs": [],
   "source": [
    "X = X.sample(frac = 1.0, random_state = 1).reset_index(drop = True)"
   ]
  },
  {
   "cell_type": "code",
   "execution_count": null,
   "id": "9b03cc35-219c-41d2-8634-f97253d78387",
   "metadata": {},
   "outputs": [],
   "source": [
    "y = X['tip']\n",
    "x = X.drop('tip', axis = 1)"
   ]
  },
  {
   "cell_type": "code",
   "execution_count": null,
   "id": "13c9e768-cef5-43c9-a8fa-7f8da9a7d5a2",
   "metadata": {},
   "outputs": [],
   "source": [
    "results = []\n",
    "kf = kFold(n_splits = 5)\n",
    "\n",
    "for train_idx, test_idx in kf.split(X):\n",
    "    \n",
    "    x_train = X.iloc[train_idx, :]\n",
    "    x_test = X.iloc[test_idx, :]\n",
    "    y_train = y.iloc[train_idx]\n",
    "    y_test = y.iloc[test_idx]\n",
    "    \n",
    "    scaler = StandardScaler()\n",
    "    scaler.fit(x_train)\n",
    "    x_train = pd.DataFrame(scaler.transform(x_train), index = x_train.index, columns = x_train.columns)\n",
    "    x_test = pd.DataFrame(scaler.transform(x_text), index = x_test.index, columns = x_test.columns)\n",
    "    \n",
    "    model = LinearRegression()\n",
    "    model.fit(x_train, y_train)\n",
    "    \n",
    "    result.append(model.score(x_test, y_test))"
   ]
  },
  {
   "cell_type": "markdown",
   "id": "77977880-bb47-41bb-89ad-ddc37c662072",
   "metadata": {},
   "source": [
    "### Result"
   ]
  },
  {
   "cell_type": "code",
   "execution_count": null,
   "id": "30e4864b-5b34-48ef-9808-83552a2ff443",
   "metadata": {},
   "outputs": [],
   "source": [
    "for i in range(len(results)):\n",
    "    print(\"Fold {}: {:.5f}\". format(i + 1, results[i]))\n",
    "    \n",
    "print('\\nAverage R^2 Score: {:.5f}'. format(np.mean(results)))"
   ]
  },
  {
   "cell_type": "code",
   "execution_count": null,
   "id": "3181f49c-6a43-4351-aac4-24c2b7d7ff58",
   "metadata": {},
   "outputs": [],
   "source": [
    "results"
   ]
  },
  {
   "cell_type": "code",
   "execution_count": null,
   "id": "6492efdb-c02c-467c-9bc5-904ab0de9e59",
   "metadata": {},
   "outputs": [],
   "source": [
    "len(y_test)"
   ]
  },
  {
   "cell_type": "code",
   "execution_count": null,
   "id": "4e799667-3810-4526-a47c-33917ad1e9e0",
   "metadata": {},
   "outputs": [],
   "source": [
    "y_test.max()"
   ]
  }
 ],
 "metadata": {
  "kernelspec": {
   "display_name": "Python Multi",
   "language": "python",
   "name": "multi"
  },
  "language_info": {
   "codemirror_mode": {
    "name": "ipython",
    "version": 3
   },
   "file_extension": ".py",
   "mimetype": "text/x-python",
   "name": "python",
   "nbconvert_exporter": "python",
   "pygments_lexer": "ipython3",
   "version": "3.7.6"
  }
 },
 "nbformat": 4,
 "nbformat_minor": 5
}
