{
 "cells": [
  {
   "cell_type": "markdown",
   "id": "0673950b",
   "metadata": {},
   "source": [
    "# 누구나 파이썬 통계분석\n",
    "## CHAPTER 04. 추측통계의 기본"
   ]
  },
  {
   "cell_type": "markdown",
   "id": "09ecf018",
   "metadata": {},
   "source": [
    "- 기술통계\n",
    "- 추측통계"
   ]
  },
  {
   "cell_type": "code",
   "execution_count": 1,
   "id": "06a223d3",
   "metadata": {},
   "outputs": [],
   "source": [
    "import numpy as np\n",
    "import pandas as pd\n",
    "import matplotlib.pyplot as plt\n",
    "\n",
    "%precision 3\n",
    "%matplotlib inline"
   ]
  },
  {
   "cell_type": "code",
   "execution_count": 3,
   "id": "f2a97391",
   "metadata": {},
   "outputs": [
    {
     "data": {
      "text/plain": [
       "array([76, 55, 80, 80, 74, 61, 81, 76, 23, 80], dtype=int64)"
      ]
     },
     "execution_count": 3,
     "metadata": {},
     "output_type": "execute_result"
    }
   ],
   "source": [
    "df = pd.read_csv('C:/Users/Boram Yun/TIL/Statistics/data/ch4_scores400.csv')\n",
    "scores = np.array(df['score'])\n",
    "scores[:10]"
   ]
  },
  {
   "cell_type": "code",
   "execution_count": 4,
   "id": "06a430c9",
   "metadata": {},
   "outputs": [
    {
     "data": {
      "text/plain": [
       "array([ 76,  55,  80,  80,  74,  61,  81,  76,  23,  80,  41,  80,  68,\n",
       "        88,  69,  57,  68,  86,  70,  68,  81,  73,  70,  90,  93,  79,\n",
       "        66,  92,  88,  81,  52,  72,  59,  68,  74,  72,  63,  89,  45,\n",
       "        81,  42,  76,  57,  83,  71,  74,  55,  60,  73,  79, 100,  73,\n",
       "        85,  47,  50,  65,  52,  92,  64,  91,  92,  71,  78,  69,  78,\n",
       "        77,  68,  78,  96,  81,  75,  72,  55,  55,  75,  49,  59,  89,\n",
       "        99,  45,  94,  67,  70,  68,  86,  46,  77,  56,  79,  93,  70,\n",
       "        76,  76,  58,  93,  96,  81,  71,  63,  61,  96,  91,  69,  46,\n",
       "        28,  54,  68,  91,  60,  78,  90,  72,  68,  50,  52,  76,  67,\n",
       "        72,  69,  80,  58,  65,  98,  58,  66,  61,  77,  85,  63,  64,\n",
       "        66,  78,  59,  64,  34,  49,  68,  83,  74,  54,  49,  73,  45,\n",
       "        86,  71,  46,  56,  59,  58,  48,  57,  60,  59,  87,  72,  55,\n",
       "        65,  57,  65,  83,  74, 100,  76,  56,  82,  86,  86,  54,  68,\n",
       "        87,  45,  63,  49,  56,  55,  89,  66,  57,  54,  72,  70,  90,\n",
       "        78,  49,  61,  86,  61,  96,  54,  79,  57,  62,  86,  68,  82,\n",
       "        77,  81,  57,  67,  76,  57,  94,  58,  65,  55,  38,  97,  67,\n",
       "        63,  67,  91,  56,  80,  64,  61,  79,  85,  62,  58,  52,  87,\n",
       "        61,  42,  91,  49,  82,  73,  74,  61,  75,  45,  79,  93,  83,\n",
       "        40,  55,  67,  77,  68,  63,  79,  87,  67,  81,  31,  56,  65,\n",
       "        63,  75,  85,  78,  61,  47,  78,  42,  80,  67,  52,  74,  70,\n",
       "        69,  69,  76,  84,  77,  85,  69,  94,  79,  62,  54,  73,  50,\n",
       "        55,  74,  61,  56,  69,  71,  67,  64,  83,  75,  67, 100,  73,\n",
       "        87,  62,  50,  58,  66,  63,  90,  68,  77,  69,  63,  71,  96,\n",
       "        58,  82,  55,  63,  70,  75,  92,  69,  57,  80,  65,  74,  68,\n",
       "        41,  78,  79,  84,  97,  52,  78,  76,  64,  76,  77,  52,  74,\n",
       "        56,  60,  43,  63,  67,  78,  70,  47,  83,  68,  77,  84,  91,\n",
       "        99,  69,  75,  54,  86,  52,  43,  82,  62,  82,  76,  46,  29,\n",
       "        54,  70,  52,  60,  48,  73,  71,  63,  91,  92,  78,  43,  53,\n",
       "        76,  61,  63,  83,  78,  90,  64,  91,  62,  92,  72,  57,  46,\n",
       "        65,  66,  83,  68,  64,  86,  67,  61,  79,  63,  80,  61,  67,\n",
       "        72,  64,  70,  82,  76,  77,  60,  83,  80,  85], dtype=int64)"
      ]
     },
     "execution_count": 4,
     "metadata": {},
     "output_type": "execute_result"
    }
   ],
   "source": [
    "scores"
   ]
  },
  {
   "cell_type": "markdown",
   "id": "e11f0a85",
   "metadata": {},
   "source": [
    "### 4. 1 모집단과 표본"
   ]
  },
  {
   "cell_type": "markdown",
   "id": "16d4a1d9",
   "metadata": {},
   "source": [
    "- 모집단 population\n",
    "- 표본 sample  \n",
    "  \n",
    "  \n",
    "- 표본추출 sampling  \n",
    "    - 표본 크기 sample size\n",
    "    - 표본통계량 <-> 모수  \n",
    "\n",
    "\n",
    "- 추정량 estimator : 표본평균을 모평균의 추정량으로 선택\n",
    "- 추정값 estimate : 실제 표본 데이터를 이용해 계산한 결과"
   ]
  },
  {
   "cell_type": "markdown",
   "id": "529120ff",
   "metadata": {},
   "source": [
    "##### 4.1.1 표본추출 방법    \n",
    "\n",
    "- 무작위추출 random sampling  \n",
    "    - 복원추출 sampling with replacement\n",
    "    - 비복원추출 sampling without replacement"
   ]
  },
  {
   "cell_type": "code",
   "execution_count": 7,
   "id": "fd300e67",
   "metadata": {},
   "outputs": [
    {
     "data": {
      "text/plain": [
       "array([2, 1, 3])"
      ]
     },
     "execution_count": 7,
     "metadata": {},
     "output_type": "execute_result"
    }
   ],
   "source": [
    "np.random.choice([1, 2, 3], 3)"
   ]
  },
  {
   "cell_type": "code",
   "execution_count": 10,
   "id": "fec8fa8c",
   "metadata": {},
   "outputs": [
    {
     "data": {
      "text/plain": [
       "array([1, 3, 2])"
      ]
     },
     "execution_count": 10,
     "metadata": {},
     "output_type": "execute_result"
    }
   ],
   "source": [
    "np.random.choice([1, 2, 3], 3, replace=False)"
   ]
  },
  {
   "cell_type": "code",
   "execution_count": 12,
   "id": "d6b3c8f7",
   "metadata": {},
   "outputs": [
    {
     "data": {
      "text/plain": [
       "array([1, 2, 1])"
      ]
     },
     "execution_count": 12,
     "metadata": {},
     "output_type": "execute_result"
    }
   ],
   "source": [
    "np.random.seed(0) # 난수 시드seed 코드의 재현성 유지\n",
    "np.random.choice([1, 2, 3], 3)"
   ]
  },
  {
   "cell_type": "code",
   "execution_count": 13,
   "id": "bdde50e2",
   "metadata": {},
   "outputs": [
    {
     "data": {
      "text/plain": [
       "70.4"
      ]
     },
     "execution_count": 13,
     "metadata": {},
     "output_type": "execute_result"
    }
   ],
   "source": [
    "np.random.seed(0)\n",
    "sample = np.random.choice(scores, 20)\n",
    "sample.mean()"
   ]
  },
  {
   "cell_type": "code",
   "execution_count": 14,
   "id": "485bb06c",
   "metadata": {},
   "outputs": [
    {
     "data": {
      "text/plain": [
       "69.53"
      ]
     },
     "execution_count": 14,
     "metadata": {},
     "output_type": "execute_result"
    }
   ],
   "source": [
    "scores.mean()"
   ]
  },
  {
   "cell_type": "code",
   "execution_count": 16,
   "id": "16c394da",
   "metadata": {},
   "outputs": [
    {
     "name": "stdout",
     "output_type": "stream",
     "text": [
      "1번째 무작위추출로 얻은 표본평균 63.7\n",
      "2번째 무작위추출로 얻은 표본평균 66.05\n",
      "3번째 무작위추출로 얻은 표본평균 71.7\n",
      "4번째 무작위추출로 얻은 표본평균 74.15\n",
      "5번째 무작위추출로 얻은 표본평균 70.7\n"
     ]
    }
   ],
   "source": [
    "for i in range(5):\n",
    "    sample = np.random.choice(scores, 20)\n",
    "    print(f'{i+1}번째 무작위추출로 얻은 표본평균', sample.mean())"
   ]
  },
  {
   "cell_type": "markdown",
   "id": "bc5d1c0a",
   "metadata": {},
   "source": [
    "### 4. 2 확률 모형"
   ]
  },
  {
   "cell_type": "markdown",
   "id": "1c62e5a8",
   "metadata": {},
   "source": [
    "- 확률 probability  \n",
    "- 확률 모형 probability model"
   ]
  },
  {
   "cell_type": "markdown",
   "id": "34e395e5",
   "metadata": {},
   "source": [
    "##### 4.2.1 확률의 기본  \n",
    "  \n",
    "- 확률변수 random variable : 결과를 알아맞힐 수는 없지만, 취하는 값과 그 값이 나올 확률이 결정되어 있는 것  \n",
    "- 시행 trial : 확률변수의 결과를 관측하는 것\n",
    "    - 실현값 relization : 시행에 의해 관측되는 값  \n",
    "- 사건 event : 시행 결과로 나타날 수 있는 일\n",
    "    - 근원사건 elementary event : 더 세부적으로 분해할 수 없는 사건"
   ]
  },
  {
   "cell_type": "markdown",
   "id": "190e5e24",
   "metadata": {},
   "source": [
    "- 상호배반 mutually exclusive"
   ]
  },
  {
   "cell_type": "markdown",
   "id": "103b6609",
   "metadata": {},
   "source": [
    "- 확률의 성질  \n",
    "    - 사건이 서로 배반이라면, 그중에 적어도 하나 일어나는 사건은 각 사건의 확률의 합과 같다.\n",
    "    "
   ]
  },
  {
   "cell_type": "markdown",
   "id": "13bc718e",
   "metadata": {},
   "source": [
    "##### 4.2.2 확률분포  \n",
    "  \n",
    "- 확률분포 probability distribution : 확률변수가 어떻게 움직이는지 나타낸 것\n",
    "- 확률변수 X는 확률분포 A를 따른다.\n",
    "$$ X ~ A $$"
   ]
  },
  {
   "cell_type": "code",
   "execution_count": 17,
   "id": "2c8253db",
   "metadata": {},
   "outputs": [],
   "source": [
    "dice = [1, 2, 3, 4, 5, 6]\n",
    "prob = [1/21, 2/21, 3/21, 4/21, 5/21, 6/21]"
   ]
  },
  {
   "cell_type": "code",
   "execution_count": 18,
   "id": "5377ebbb",
   "metadata": {},
   "outputs": [
    {
     "data": {
      "text/plain": [
       "2"
      ]
     },
     "execution_count": 18,
     "metadata": {},
     "output_type": "execute_result"
    }
   ],
   "source": [
    "np.random.choice(dice, p=prob)"
   ]
  },
  {
   "cell_type": "code",
   "execution_count": 21,
   "id": "3e907d87",
   "metadata": {},
   "outputs": [
    {
     "data": {
      "text/plain": [
       "array([5, 5, 4, 2, 6, 3, 5, 3, 2, 6, 6, 6, 6, 6, 4, 2, 4, 3, 2, 2, 6, 1,\n",
       "       6, 3, 2, 2, 5, 3, 4, 5, 6, 6, 3, 2, 2, 4, 3, 4, 5, 5, 3, 4, 3, 6,\n",
       "       2, 5, 6, 6, 3, 4, 5, 3, 4, 3, 4, 1, 6, 2, 5, 4, 5, 6, 5, 1, 4, 5,\n",
       "       5, 5, 3, 2, 4, 6, 3, 6, 5, 4, 6, 4, 6, 4, 6, 5, 5, 4, 6, 5, 3, 3,\n",
       "       6, 6, 4, 5, 6, 4, 6, 5, 6, 6, 6, 3])"
      ]
     },
     "execution_count": 21,
     "metadata": {},
     "output_type": "execute_result"
    }
   ],
   "source": [
    "num_trial = 100\n",
    "sample = np.random.choice(dice, num_trial, p=prob)\n",
    "sample"
   ]
  },
  {
   "cell_type": "code",
   "execution_count": 22,
   "id": "eecc97ac",
   "metadata": {},
   "outputs": [
    {
     "data": {
      "text/html": [
       "<div>\n",
       "<style scoped>\n",
       "    .dataframe tbody tr th:only-of-type {\n",
       "        vertical-align: middle;\n",
       "    }\n",
       "\n",
       "    .dataframe tbody tr th {\n",
       "        vertical-align: top;\n",
       "    }\n",
       "\n",
       "    .dataframe thead th {\n",
       "        text-align: right;\n",
       "    }\n",
       "</style>\n",
       "<table border=\"1\" class=\"dataframe\">\n",
       "  <thead>\n",
       "    <tr style=\"text-align: right;\">\n",
       "      <th></th>\n",
       "      <th>frequency</th>\n",
       "      <th>relative frequency</th>\n",
       "    </tr>\n",
       "    <tr>\n",
       "      <th>dice</th>\n",
       "      <th></th>\n",
       "      <th></th>\n",
       "    </tr>\n",
       "  </thead>\n",
       "  <tbody>\n",
       "    <tr>\n",
       "      <th>1</th>\n",
       "      <td>3</td>\n",
       "      <td>0.03</td>\n",
       "    </tr>\n",
       "    <tr>\n",
       "      <th>2</th>\n",
       "      <td>12</td>\n",
       "      <td>0.12</td>\n",
       "    </tr>\n",
       "    <tr>\n",
       "      <th>3</th>\n",
       "      <td>17</td>\n",
       "      <td>0.17</td>\n",
       "    </tr>\n",
       "    <tr>\n",
       "      <th>4</th>\n",
       "      <td>19</td>\n",
       "      <td>0.19</td>\n",
       "    </tr>\n",
       "    <tr>\n",
       "      <th>5</th>\n",
       "      <td>21</td>\n",
       "      <td>0.21</td>\n",
       "    </tr>\n",
       "    <tr>\n",
       "      <th>6</th>\n",
       "      <td>28</td>\n",
       "      <td>0.28</td>\n",
       "    </tr>\n",
       "  </tbody>\n",
       "</table>\n",
       "</div>"
      ],
      "text/plain": [
       "      frequency  relative frequency\n",
       "dice                               \n",
       "1             3                0.03\n",
       "2            12                0.12\n",
       "3            17                0.17\n",
       "4            19                0.19\n",
       "5            21                0.21\n",
       "6            28                0.28"
      ]
     },
     "execution_count": 22,
     "metadata": {},
     "output_type": "execute_result"
    }
   ],
   "source": [
    "freq, _ = np.histogram(sample, bins=6, range=(1, 7))\n",
    "pd.DataFrame({'frequency': freq,\n",
    "             'relative frequency': freq / num_trial},\n",
    "            index = pd.Index(np.arange(1, 7), name = 'dice'))"
   ]
  },
  {
   "cell_type": "code",
   "execution_count": 24,
   "id": "ca1bc95e",
   "metadata": {},
   "outputs": [
    {
     "data": {
      "image/png": "[encoded data removed]",
      "text/plain": [
       "<Figure size 720x432 with 1 Axes>"
      ]
     },
     "metadata": {
      "needs_background": "light"
     },
     "output_type": "display_data"
    }
   ],
   "source": [
    "fig = plt.figure(figsize=(10, 6))\n",
    "ax = fig.add_subplot(111)\n",
    "ax.hist(sample, bins=6, range=(1, 7), density=True, rwidth=0.8)\n",
    "\n",
    "ax.hlines(prob, np.arange(1, 7), np.arange(2, 8), colors='gray')\n",
    "\n",
    "ax.set_xticks(np.linspace(1.5, 6.5, 6))\n",
    "\n",
    "ax.set_xticklabels(np.arange(1, 7))\n",
    "ax.set_xlabel('dice')\n",
    "ax.set_ylabel('relative frequency')\n",
    "plt.show()"
   ]
  },
  {
   "cell_type": "code",
   "execution_count": null,
   "id": "5907b144",
   "metadata": {},
   "outputs": [],
   "source": []
  }
 ],
 "metadata": {
  "kernelspec": {
   "display_name": "Python Multi",
   "language": "python",
   "name": "multi"
  },
  "language_info": {
   "codemirror_mode": {
    "name": "ipython",
    "version": 3
   },
   "file_extension": ".py",
   "mimetype": "text/x-python",
   "name": "python",
   "nbconvert_exporter": "python",
   "pygments_lexer": "ipython3",
   "version": "3.7.6"
  }
 },
 "nbformat": 4,
 "nbformat_minor": 5
}
