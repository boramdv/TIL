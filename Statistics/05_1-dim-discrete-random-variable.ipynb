{
 "cells": [
  {
   "cell_type": "markdown",
   "id": "0d083ecf",
   "metadata": {},
   "source": [
    "# 누구나 파이썬 통계분석\n",
    "5, 6장 이산형 확률변수 / 7, 8장 연속형 확률변수  \n",
    "5, 7장 확률변수의 정의, 평균과 분산, 공분산 / 6, 8장 대표적인 확률분포\n",
    "\n",
    "## CHAPTER 05. 이산형 확률변수"
   ]
  },
  {
   "cell_type": "markdown",
   "id": "6f5d478a",
   "metadata": {},
   "source": [
    "### 5. 1 1차원 이산형 확률변수"
   ]
  },
  {
   "cell_type": "code",
   "execution_count": 4,
   "id": "363b11d5",
   "metadata": {},
   "outputs": [],
   "source": [
    "import numpy as np\n",
    "import matplotlib.pyplot as plt\n",
    "\n",
    "%precision 3\n",
    "%matplotlib inline"
   ]
  },
  {
   "cell_type": "markdown",
   "id": "0ad72f20",
   "metadata": {},
   "source": [
    "##### 5.1.1 1차원 이산형 확률변수의 정의  \n",
    "\n",
    "- **확률질량함수(확률함수) probability mass function, PMF**  \n",
    "\n",
    "확률변수는 변수가 취할 수 있는 값과 그 값이 나오는 확률에 의해 정의  \n",
    "확률변수 X가 취할 수 있는 값에 대한 집합 $\\{x_1, x_2, ...\\}$  \n",
    "확률변수 X가 $x_k$라는 값을 취하는 확률  \n",
    "$$P(X=x_k)=p_k (k=1, 2, ...) $$  \n",
    "이때 **확률은 변수가 취할 수 있는 값 $x$를 인수로 하는 함수**로 볼 수 있음  \n",
    "$$ f(x) = P(X=x) $$  \n",
    "  \n",
    "- **확률분포 probability distribution**  \n",
    "확률변수가 취할 수 있는 값과 그 확률의 구체적인 대응  \n",
    "확률변수의 확률분포가 결정되면 그 확률변수의 움직임이 정해짐"
   ]
  },
  {
   "cell_type": "code",
   "execution_count": 5,
   "id": "4bcf52cf",
   "metadata": {},
   "outputs": [],
   "source": [
    "x_set = np.array([1, 2, 3, 4, 5, 6])"
   ]
  },
  {
   "cell_type": "code",
   "execution_count": 6,
   "id": "86c7df2f",
   "metadata": {},
   "outputs": [],
   "source": [
    "def f(x):\n",
    "    if x in x_set:\n",
    "        return x / 21\n",
    "    else:\n",
    "        return 0"
   ]
  },
  {
   "cell_type": "code",
   "execution_count": 7,
   "id": "55e66fad",
   "metadata": {},
   "outputs": [],
   "source": [
    "X = [x_set, f]"
   ]
  },
  {
   "cell_type": "code",
   "execution_count": 8,
   "id": "65a864d8",
   "metadata": {},
   "outputs": [
    {
     "data": {
      "text/plain": [
       "{1: 0.047619047619047616,\n",
       " 2: 0.09523809523809523,\n",
       " 3: 0.14285714285714285,\n",
       " 4: 0.19047619047619047,\n",
       " 5: 0.23809523809523808,\n",
       " 6: 0.2857142857142857}"
      ]
     },
     "execution_count": 8,
     "metadata": {},
     "output_type": "execute_result"
    }
   ],
   "source": [
    "prob = np.array([f(x_k) for x_k in x_set])\n",
    "dict(zip(x_set, prob))"
   ]
  },
  {
   "cell_type": "markdown",
   "id": "917cf654",
   "metadata": {},
   "source": [
    "- **확률의 성질**  \n",
    "확률은 절대적으로 0 이상, 모든 확률을 더하면 1  \n",
    "$$ f(x_k) >= 0 $$\n",
    "$$ \\sum\\limits_kf(x_k) = 1 $$"
   ]
  },
  {
   "cell_type": "code",
   "execution_count": 9,
   "id": "0767e9bd",
   "metadata": {},
   "outputs": [
    {
     "data": {
      "text/plain": [
       "True"
      ]
     },
     "execution_count": 9,
     "metadata": {},
     "output_type": "execute_result"
    }
   ],
   "source": [
    "np.all(prob >= 0)"
   ]
  },
  {
   "cell_type": "code",
   "execution_count": 10,
   "id": "a6aa76e4",
   "metadata": {},
   "outputs": [
    {
     "data": {
      "text/plain": [
       "0.9999999999999999"
      ]
     },
     "execution_count": 10,
     "metadata": {},
     "output_type": "execute_result"
    }
   ],
   "source": [
    "np.sum(prob)"
   ]
  },
  {
   "cell_type": "markdown",
   "id": "df290085",
   "metadata": {},
   "source": [
    "- **누적분포함수(분포함수) cumulative distribution function, CDF**  \n",
    "  확률변수 X가 x이하가 될 때의 확률  \n",
    "$$ F(x) = P(X <= x) = \\sum\\limits_{x_k <= x}{f(x_k)} $$"
   ]
  },
  {
   "cell_type": "code",
   "execution_count": 11,
   "id": "6c44f9fe",
   "metadata": {},
   "outputs": [],
   "source": [
    "def F(x):\n",
    "    return np.sum([f(x_k) for x_k in x_set if x_k <= x])"
   ]
  },
  {
   "cell_type": "code",
   "execution_count": 12,
   "id": "cbc9a72b",
   "metadata": {},
   "outputs": [
    {
     "data": {
      "text/plain": [
       "0.2857142857142857"
      ]
     },
     "execution_count": 12,
     "metadata": {},
     "output_type": "execute_result"
    }
   ],
   "source": [
    "F(3)"
   ]
  },
  {
   "cell_type": "markdown",
   "id": "cb2d3c90",
   "metadata": {},
   "source": [
    "- **확률변수의 변환**  \n",
    "확률변수를 표준화할 때 중요한 연산"
   ]
  },
  {
   "cell_type": "code",
   "execution_count": 14,
   "id": "73099f4f",
   "metadata": {},
   "outputs": [
    {
     "data": {
      "text/plain": [
       "{5: 0.047619047619047616,\n",
       " 7: 0.09523809523809523,\n",
       " 9: 0.14285714285714285,\n",
       " 11: 0.19047619047619047,\n",
       " 13: 0.23809523809523808,\n",
       " 15: 0.2857142857142857}"
      ]
     },
     "execution_count": 14,
     "metadata": {},
     "output_type": "execute_result"
    }
   ],
   "source": [
    "y_set = np.array([2 * x_k + 3 for x_k in x_set])\n",
    "prob = np.array([f(x_k) for x_k in x_set])\n",
    "dict(zip(y_set, prob))"
   ]
  },
  {
   "cell_type": "markdown",
   "id": "34fb6a0b",
   "metadata": {},
   "source": [
    "##### 5.1.2 1차원 이산형 확률변수의 지표"
   ]
  },
  {
   "cell_type": "markdown",
   "id": "8edcf6f6",
   "metadata": {},
   "source": [
    "- **기댓값 expected value**  \n",
    "\n",
    " 확률변수의 중심을 나타내는 지표  \n",
    " \n",
    " **확률변수의 평균**이란 확률변수를 무제한으로 시행하여 얻어진 실현값의 평균  \n",
    " 확률변수가 취할 수 있는 값과 그 확률의 곱의 총합  \n",
    " $$ E(X) = \\sum\\limits_k{x_kf(x_k)} $$  \n",
    "  \n",
    "  - 기호 : $μ$, $E(X)$"
   ]
  },
  {
   "cell_type": "markdown",
   "id": "f533675a",
   "metadata": {},
   "source": [
    "- \n",
    "  - 이산형 확률변수의 기댓값  \n",
    "    $$ E(g(X)) = \\sum\\limits_kg(x_k)f(x_k) $$"
   ]
  },
  {
   "cell_type": "markdown",
   "id": "c80661d6",
   "metadata": {},
   "source": [
    "- \n",
    "  - 기댓값의 선형성  \n",
    "  a, b를 실수, X를 확률변수로 했을 때\n",
    "  $$ E(aX + b) = aE(X) + b $$"
   ]
  },
  {
   "cell_type": "code",
   "execution_count": 15,
   "id": "59d30c6a",
   "metadata": {},
   "outputs": [
    {
     "data": {
      "text/plain": [
       "4.333333333333333"
      ]
     },
     "execution_count": 15,
     "metadata": {},
     "output_type": "execute_result"
    }
   ],
   "source": [
    "np.sum([x_k * f(x_k) for x_k in x_set])"
   ]
  },
  {
   "cell_type": "code",
   "execution_count": 16,
   "id": "330ecfb1",
   "metadata": {},
   "outputs": [
    {
     "data": {
      "text/plain": [
       "4.333955"
      ]
     },
     "execution_count": 16,
     "metadata": {},
     "output_type": "execute_result"
    }
   ],
   "source": [
    "sample = np.random.choice(x_set, int(1e6), p=prob)\n",
    "np.mean(sample)"
   ]
  },
  {
   "cell_type": "code",
   "execution_count": 17,
   "id": "4959d9cf",
   "metadata": {},
   "outputs": [],
   "source": [
    "def E(X, g=lambda x: x):\n",
    "    x_set, f = X\n",
    "    return np.sum([g(x_k) * f(x_k) for x_k in x_set])"
   ]
  },
  {
   "cell_type": "code",
   "execution_count": 18,
   "id": "09e6edd6",
   "metadata": {
    "scrolled": true
   },
   "outputs": [
    {
     "data": {
      "text/plain": [
       "4.333333333333333"
      ]
     },
     "execution_count": 18,
     "metadata": {},
     "output_type": "execute_result"
    }
   ],
   "source": [
    "E(X)"
   ]
  },
  {
   "cell_type": "code",
   "execution_count": 19,
   "id": "ae92ae97",
   "metadata": {},
   "outputs": [
    {
     "data": {
      "text/plain": [
       "11.666666666666664"
      ]
     },
     "execution_count": 19,
     "metadata": {},
     "output_type": "execute_result"
    }
   ],
   "source": [
    "E(X, g=lambda x: 2*x + 3)"
   ]
  },
  {
   "cell_type": "code",
   "execution_count": 20,
   "id": "9341ee8f",
   "metadata": {},
   "outputs": [
    {
     "data": {
      "text/plain": [
       "11.666666666666666"
      ]
     },
     "execution_count": 20,
     "metadata": {},
     "output_type": "execute_result"
    }
   ],
   "source": [
    "2 * E(X) + 3"
   ]
  },
  {
   "cell_type": "markdown",
   "id": "789d9950",
   "metadata": {},
   "source": [
    "- **분산**  \n",
    "  확률변수의 산포도를 나타내는 지표\n",
    "  - 정의: 편차 제곱의 기댓값\n",
    " \n",
    " $$ V(X) = Var(X) = \\sum\\limits_k{(x_k - μ)^2f(x_k)} $$  \n",
    "  \n",
    "  - 기호 : $\\sigma^2 $, $ V(X),  Var(X) $\n",
    "  - $\\sigma$ : 확률변수 X의 표준편차  \n",
    "  "
   ]
  },
  {
   "cell_type": "markdown",
   "id": "884bb00a",
   "metadata": {},
   "source": [
    "- \n",
    "  - 이산형 확률변수의 분산  \n",
    "    $$ V(g(X)) = \\sum\\limits_k(g(x_k) - E(g(X)))^2f(x_k) $$"
   ]
  },
  {
   "cell_type": "markdown",
   "id": "cd21547c",
   "metadata": {},
   "source": [
    "- \n",
    "  - 분산의 공식  \n",
    "  a, b를 실수, X를 확률변수로 했을 때\n",
    "  $$ V(aX + b) = a^2V(X) $$"
   ]
  },
  {
   "cell_type": "code",
   "execution_count": 23,
   "id": "f7bf9187",
   "metadata": {},
   "outputs": [
    {
     "data": {
      "text/plain": [
       "2.2222222222222223"
      ]
     },
     "execution_count": 23,
     "metadata": {},
     "output_type": "execute_result"
    }
   ],
   "source": [
    "mean = E(X)\n",
    "np.sum([(x_k-mean)**2 * f(x_k) for x_k in x_set])"
   ]
  },
  {
   "cell_type": "code",
   "execution_count": 25,
   "id": "2a8ba44c",
   "metadata": {},
   "outputs": [],
   "source": [
    "def V(X, g=lambda x: x):\n",
    "    x_set, f = X\n",
    "    mean = E(X, g)\n",
    "    return np.sum([(g(x_k)-mean)**2 * f(x_k) for x_k in x_set])"
   ]
  },
  {
   "cell_type": "code",
   "execution_count": 26,
   "id": "a40c4040",
   "metadata": {},
   "outputs": [
    {
     "data": {
      "text/plain": [
       "2.2222222222222223"
      ]
     },
     "execution_count": 26,
     "metadata": {},
     "output_type": "execute_result"
    }
   ],
   "source": [
    "V(X)"
   ]
  },
  {
   "cell_type": "code",
   "execution_count": 27,
   "id": "0b02f3a7",
   "metadata": {},
   "outputs": [
    {
     "data": {
      "text/plain": [
       "8.88888888888889"
      ]
     },
     "execution_count": 27,
     "metadata": {},
     "output_type": "execute_result"
    }
   ],
   "source": [
    "V(X, lambda x: 2*x + 3)"
   ]
  },
  {
   "cell_type": "code",
   "execution_count": 28,
   "id": "bd4ab8d1",
   "metadata": {},
   "outputs": [
    {
     "data": {
      "text/plain": [
       "8.88888888888889"
      ]
     },
     "execution_count": 28,
     "metadata": {},
     "output_type": "execute_result"
    }
   ],
   "source": [
    "2**2 * V(X)"
   ]
  },
  {
   "cell_type": "markdown",
   "id": "a60b0ce6",
   "metadata": {},
   "source": [
    "### 5. 2 2차원 이산형 확률변수"
   ]
  },
  {
   "cell_type": "markdown",
   "id": "4c2f7500",
   "metadata": {},
   "source": [
    "##### 5.2.1 2차원 이산형 확률변수의 정의"
   ]
  },
  {
   "cell_type": "markdown",
   "id": "d0948d3d",
   "metadata": {},
   "source": [
    "- **결합확률분포(결합분포) joint probability distribution** \n",
    "\n",
    "  1차원 확률분포 2개를 동시에 다룸 (X, Y)\n",
    "  확률변수의 움직임은 취할 수 있는 값의 조합으로 이루어진 집합과 그 확률에 의해 정해짐\n",
    "  \n",
    "  - (X, Y)가 취할 수 있는 값의 조합으로 이루어진 집합  \n",
    "  $$ \\{(x_i, y_j) | i = 1, 2, ... ; j = 1, 2, ...\\} $$  \n",
    "\n",
    "  - 확률변수 X가 $ x_i $, 확률변수 Y가 $ y_j $를 취하는 확률\n",
    "  $$ P(X = x_i, Y = y_j) = P_{ij} (i = 1, 2, ... ; j = 1, 2, ...) $$"
   ]
  },
  {
   "cell_type": "markdown",
   "id": "1befa4ba",
   "metadata": {},
   "source": [
    "- **결합확률함수 joint probability function** \n",
    "\n",
    "  2차원 확률분포의 확률은 $x$와 $y$를 인수로 취하는 함수로 볼 수 있음  \n",
    "  \n",
    "  $$ P(X = x, Y = y) = f_{XY}(x, y) $$  "
   ]
  },
  {
   "cell_type": "markdown",
   "id": "93ab2af8",
   "metadata": {},
   "source": [
    "- **확률의 성질**  \n",
    "확률은 절대적으로 0 이상, 모든 확률을 더하면 1  \n",
    "$$ f_{XY}(x_i, y_j) >= 0 $$\n",
    "$$ \\sum\\limits_i\\sum\\limits_jf_{XY}(x_i, y_j) = 1 $$"
   ]
  },
  {
   "cell_type": "code",
   "execution_count": 29,
   "id": "1550e59c",
   "metadata": {},
   "outputs": [],
   "source": [
    "x_set = np.arange(2, 13)  # 2 ~ 12\n",
    "y_set = np.arange(1, 7)  # 1 ~ 6"
   ]
  },
  {
   "cell_type": "code",
   "execution_count": 30,
   "id": "4a7598ca",
   "metadata": {},
   "outputs": [],
   "source": [
    "def f_XY(x, y):\n",
    "    if 1 <= y <= 6 and 1 <= x - y <= 6:\n",
    "        return y * (x-y) / 441\n",
    "    else:\n",
    "        return 0"
   ]
  },
  {
   "cell_type": "code",
   "execution_count": 31,
   "id": "72dee6db",
   "metadata": {},
   "outputs": [],
   "source": [
    "XY = [x_set, y_set, f_XY]"
   ]
  },
  {
   "cell_type": "code",
   "execution_count": 32,
   "id": "3b45cdb9",
   "metadata": {},
   "outputs": [],
   "source": [
    "prob = np.array([[f_XY(x_i, y_j) for y_j in y_set]\n",
    "                for x_i in x_set])\n",
    "\n",
    "# heat map 생략"
   ]
  },
  {
   "cell_type": "code",
   "execution_count": 33,
   "id": "dcff9eb3",
   "metadata": {},
   "outputs": [
    {
     "data": {
      "text/plain": [
       "True"
      ]
     },
     "execution_count": 33,
     "metadata": {},
     "output_type": "execute_result"
    }
   ],
   "source": [
    "np.all(prob >= 0)"
   ]
  },
  {
   "cell_type": "code",
   "execution_count": 34,
   "id": "9a32d598",
   "metadata": {},
   "outputs": [
    {
     "data": {
      "text/plain": [
       "1.0"
      ]
     },
     "execution_count": 34,
     "metadata": {},
     "output_type": "execute_result"
    }
   ],
   "source": [
    "np.sum(prob)"
   ]
  },
  {
   "cell_type": "markdown",
   "id": "67723365",
   "metadata": {},
   "source": [
    "- **주변확률분포(주변분포) marginal probability distribution** \n",
    "\n",
    "  확률변수 $X$의 확률함수 $f_X(x)$는 결합확률함수 $ f_{XY} $에서 $Y$가 취할 수 있는 값 모두를 대입한 다음 모두 더한 것  \n",
    "  X의 주변확률분포 $f_X(x)$\n",
    "  \n",
    "  $$ f_X(x) = \\sum\\limits_kf_{XY}(x, y_k) $$  "
   ]
  },
  {
   "cell_type": "code",
   "execution_count": 35,
   "id": "ce9a5cc6",
   "metadata": {},
   "outputs": [],
   "source": [
    "def f_X(x):\n",
    "    return np.sum([f_XY(x, y_k) for y_k in y_set])"
   ]
  },
  {
   "cell_type": "code",
   "execution_count": 36,
   "id": "4fbe76f0",
   "metadata": {},
   "outputs": [],
   "source": [
    "def f_Y(y):\n",
    "    return np.sum([f_XY(x_k, y) for x_k in x_set])"
   ]
  },
  {
   "cell_type": "code",
   "execution_count": 38,
   "id": "05b34018",
   "metadata": {},
   "outputs": [],
   "source": [
    "X = [x_set, f_X]\n",
    "Y = [y_set, f_Y]"
   ]
  },
  {
   "cell_type": "markdown",
   "id": "2f0c7233",
   "metadata": {},
   "source": [
    "##### 5.2.2 2차원 이산형 확률변수의 지표"
   ]
  },
  {
   "cell_type": "markdown",
   "id": "f22cf1e1",
   "metadata": {},
   "source": [
    "- 기댓값\n",
    "  $$ E(g(X, Y)) = \\sum\\limits_i\\sum\\limits_jg(x_i, y_j)f_{XY}(x_i, y_j) $$\n",
    "  - 기댓값의 선형성\n",
    "    $$ E(aX + bY) = aE(X) + bE(Y) $$"
   ]
  },
  {
   "cell_type": "markdown",
   "id": "8d5d8c24",
   "metadata": {},
   "source": [
    "- 분산\n",
    "  $$ \\sigma^2_{XY} = V(g(X, Y)) = \\sum\\limits_i\\sum\\limits_j(g(x_i, y_j)-E(g(X, Y)))^2f_{XY}(x_i, y_j) $$\n",
    "  \n",
    "- 공분산\n",
    "  $$ \\sigma_{XY} = Cov(X, Y) = \\sum\\limits_i \\sum\\limits_j(x_i - \\mu_X)(y_j - \\mu_Y)f_{XY}(x_i, y_j) $$\n",
    "  - 분산과 공분산의 공식\n",
    "    $$ V(aX + bY) = a^2V(X) + b^2V(Y) + 2abCov(X, Y) $$"
   ]
  },
  {
   "cell_type": "code",
   "execution_count": null,
   "id": "19e44fe4",
   "metadata": {},
   "outputs": [],
   "source": []
  }
 ],
 "metadata": {
  "kernelspec": {
   "display_name": "Python Multi",
   "language": "python",
   "name": "multi"
  },
  "language_info": {
   "codemirror_mode": {
    "name": "ipython",
    "version": 3
   },
   "file_extension": ".py",
   "mimetype": "text/x-python",
   "name": "python",
   "nbconvert_exporter": "python",
   "pygments_lexer": "ipython3",
   "version": "3.7.6"
  }
 },
 "nbformat": 4,
 "nbformat_minor": 5
}
