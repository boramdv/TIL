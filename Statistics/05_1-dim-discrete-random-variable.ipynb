{
 "cells": [
  {
   "cell_type": "markdown",
   "id": "c12a5dfa",
   "metadata": {},
   "source": [
    "# 누구나 파이썬 통계분석\n",
    "5, 6장 이산형 확률변수 / 7, 8장 연속형 확률변수  \n",
    "5, 7장 확률변수의 정의, 평균과 분산, 공분산 / 6, 8장 대표적인 확률분포\n",
    "\n",
    "## CHAPTER 05. 이산형 확률변수"
   ]
  },
  {
   "cell_type": "markdown",
   "id": "3bf26d51",
   "metadata": {},
   "source": [
    "### 5. 1 1차원 이산형 확률변수"
   ]
  },
  {
   "cell_type": "code",
   "execution_count": 4,
   "id": "956a95c2",
   "metadata": {},
   "outputs": [],
   "source": [
    "import numpy as np\n",
    "import matplotlib.pyplot as plt\n",
    "\n",
    "%precision 3\n",
    "%matplotlib inline"
   ]
  },
  {
   "cell_type": "markdown",
   "id": "8215be59",
   "metadata": {},
   "source": [
    "##### 5.1.1 1차원 이산형 확률변수의 정의  \n",
    "\n",
    "- **확률질량함수(확률함수) probability mass function, PMF**  \n",
    "\n",
    "확률변수는 변수가 취할 수 있는 값과 그 값이 나오는 확률에 의해 정의  \n",
    "확률변수 X가 취할 수 있는 값에 대한 집합 $\\{x_1, x_2, ...\\}$  \n",
    "확률변수 X가 $x_k$라는 값을 취하는 확률  \n",
    "$$P(X=x_k)=p_k (k=1, 2, ...) $$  \n",
    "이때 **확률은 변수가 취할 수 있는 값 $x$를 인수로 하는 함수**로 볼 수 있음  \n",
    "$$ f(x) = P(X=x) $$  \n",
    "  \n",
    "- **확률분포 probability distribution**  \n",
    "확률변수가 취할 수 있는 값과 그 확률의 구체적인 대응  \n",
    "확률변수의 확률분포가 결정되면 그 확률변수의 움직임이 정해짐"
   ]
  },
  {
   "cell_type": "code",
   "execution_count": 5,
   "id": "0613b0e8",
   "metadata": {},
   "outputs": [],
   "source": [
    "x_set = np.array([1, 2, 3, 4, 5, 6])"
   ]
  },
  {
   "cell_type": "code",
   "execution_count": 6,
   "id": "ba2f9005",
   "metadata": {},
   "outputs": [],
   "source": [
    "def f(x):\n",
    "    if x in x_set:\n",
    "        return x / 21\n",
    "    else:\n",
    "        return 0"
   ]
  },
  {
   "cell_type": "code",
   "execution_count": 7,
   "id": "2d677139",
   "metadata": {},
   "outputs": [],
   "source": [
    "X = [x_set, f]"
   ]
  },
  {
   "cell_type": "code",
   "execution_count": 8,
   "id": "07a0cb9c",
   "metadata": {},
   "outputs": [
    {
     "data": {
      "text/plain": [
       "{1: 0.047619047619047616,\n",
       " 2: 0.09523809523809523,\n",
       " 3: 0.14285714285714285,\n",
       " 4: 0.19047619047619047,\n",
       " 5: 0.23809523809523808,\n",
       " 6: 0.2857142857142857}"
      ]
     },
     "execution_count": 8,
     "metadata": {},
     "output_type": "execute_result"
    }
   ],
   "source": [
    "prob = np.array([f(x_k) for x_k in x_set])\n",
    "dict(zip(x_set, prob))"
   ]
  },
  {
   "cell_type": "markdown",
   "id": "f508a6dc",
   "metadata": {},
   "source": [
    "- **확률의 성질**  \n",
    "확률은 절대적으로 0 이상, 모든 확률을 더하면 1  \n",
    "$$ f(x_k) >= 0 $$\n",
    "$$ \\sum\\limits_kf(x_k) = 1 $$"
   ]
  },
  {
   "cell_type": "code",
   "execution_count": 9,
   "id": "4213df32",
   "metadata": {},
   "outputs": [
    {
     "data": {
      "text/plain": [
       "True"
      ]
     },
     "execution_count": 9,
     "metadata": {},
     "output_type": "execute_result"
    }
   ],
   "source": [
    "np.all(prob >= 0)"
   ]
  },
  {
   "cell_type": "code",
   "execution_count": 10,
   "id": "b2ca3e73",
   "metadata": {},
   "outputs": [
    {
     "data": {
      "text/plain": [
       "0.9999999999999999"
      ]
     },
     "execution_count": 10,
     "metadata": {},
     "output_type": "execute_result"
    }
   ],
   "source": [
    "np.sum(prob)"
   ]
  },
  {
   "cell_type": "markdown",
   "id": "6443d585",
   "metadata": {},
   "source": [
    "- **누적분포함수(분포함수) cumulative distribution function, CDF**  \n",
    "  확률변수 X가 x이하가 될 때의 확률  \n",
    "$$ F(x) = P(X <= x) = \\sum\\limits_{x_k <= x}{f(x_k)} $$"
   ]
  },
  {
   "cell_type": "code",
   "execution_count": 11,
   "id": "1e8b4f53",
   "metadata": {},
   "outputs": [],
   "source": [
    "def F(x):\n",
    "    return np.sum([f(x_k) for x_k in x_set if x_k <= x])"
   ]
  },
  {
   "cell_type": "code",
   "execution_count": 12,
   "id": "82a1a220",
   "metadata": {},
   "outputs": [
    {
     "data": {
      "text/plain": [
       "0.2857142857142857"
      ]
     },
     "execution_count": 12,
     "metadata": {},
     "output_type": "execute_result"
    }
   ],
   "source": [
    "F(3)"
   ]
  },
  {
   "cell_type": "markdown",
   "id": "94cfd2a6",
   "metadata": {},
   "source": [
    "- **확률변수의 변환**  \n",
    "확률변수를 표준화할 때 중요한 연산"
   ]
  },
  {
   "cell_type": "code",
   "execution_count": 14,
   "id": "74ebb6fd",
   "metadata": {},
   "outputs": [
    {
     "data": {
      "text/plain": [
       "{5: 0.047619047619047616,\n",
       " 7: 0.09523809523809523,\n",
       " 9: 0.14285714285714285,\n",
       " 11: 0.19047619047619047,\n",
       " 13: 0.23809523809523808,\n",
       " 15: 0.2857142857142857}"
      ]
     },
     "execution_count": 14,
     "metadata": {},
     "output_type": "execute_result"
    }
   ],
   "source": [
    "y_set = np.array([2 * x_k + 3 for x_k in x_set])\n",
    "prob = np.array([f(x_k) for x_k in x_set])\n",
    "dict(zip(y_set, prob))"
   ]
  },
  {
   "cell_type": "markdown",
   "id": "7c75ece1",
   "metadata": {},
   "source": [
    "##### 5.1.2 1차원 이산형 확률변수의 지표"
   ]
  },
  {
   "cell_type": "markdown",
   "id": "f0ad48a8",
   "metadata": {},
   "source": [
    "- **기댓값 expected value**  \n",
    "\n",
    " 확률변수의 중심을 나타내는 지표  \n",
    " \n",
    " **확률변수의 평균**이란 확률변수를 무제한으로 시행하여 얻어진 실현값의 평균  \n",
    " 확률변수가 취할 수 있는 값과 그 확률의 곱의 총합  \n",
    " $$ E(X) = \\sum\\limits_k{x_kf(x_k)} $$  \n",
    "  \n",
    "  - 기호 : $μ$, $E(X)$"
   ]
  },
  {
   "cell_type": "markdown",
   "id": "2976fb63",
   "metadata": {},
   "source": [
    "- \n",
    "  - 이산형 확률변수의 기댓값  \n",
    "    $$ E(g(X)) = \\sum\\limits_kg(x_k)f(x_k) $$"
   ]
  },
  {
   "cell_type": "markdown",
   "id": "7b5618f4",
   "metadata": {},
   "source": [
    "- \n",
    "  - 기댓값의 선형성  \n",
    "  a, b를 실수, X를 확률변수로 했을 때\n",
    "  $$ E(aX + b) = aE(X) + b $$"
   ]
  },
  {
   "cell_type": "code",
   "execution_count": 15,
   "id": "c566e40f",
   "metadata": {},
   "outputs": [
    {
     "data": {
      "text/plain": [
       "4.333333333333333"
      ]
     },
     "execution_count": 15,
     "metadata": {},
     "output_type": "execute_result"
    }
   ],
   "source": [
    "np.sum([x_k * f(x_k) for x_k in x_set])"
   ]
  },
  {
   "cell_type": "code",
   "execution_count": 16,
   "id": "e9f64785",
   "metadata": {},
   "outputs": [
    {
     "data": {
      "text/plain": [
       "4.333955"
      ]
     },
     "execution_count": 16,
     "metadata": {},
     "output_type": "execute_result"
    }
   ],
   "source": [
    "sample = np.random.choice(x_set, int(1e6), p=prob)\n",
    "np.mean(sample)"
   ]
  },
  {
   "cell_type": "code",
   "execution_count": 17,
   "id": "33184fd6",
   "metadata": {},
   "outputs": [],
   "source": [
    "def E(X, g=lambda x: x):\n",
    "    x_set, f = X\n",
    "    return np.sum([g(x_k) * f(x_k) for x_k in x_set])"
   ]
  },
  {
   "cell_type": "code",
   "execution_count": 18,
   "id": "25771495",
   "metadata": {
    "scrolled": true
   },
   "outputs": [
    {
     "data": {
      "text/plain": [
       "4.333333333333333"
      ]
     },
     "execution_count": 18,
     "metadata": {},
     "output_type": "execute_result"
    }
   ],
   "source": [
    "E(X)"
   ]
  },
  {
   "cell_type": "code",
   "execution_count": 19,
   "id": "0366a7a6",
   "metadata": {},
   "outputs": [
    {
     "data": {
      "text/plain": [
       "11.666666666666664"
      ]
     },
     "execution_count": 19,
     "metadata": {},
     "output_type": "execute_result"
    }
   ],
   "source": [
    "E(X, g=lambda x: 2*x + 3)"
   ]
  },
  {
   "cell_type": "code",
   "execution_count": 20,
   "id": "d99da60a",
   "metadata": {},
   "outputs": [
    {
     "data": {
      "text/plain": [
       "11.666666666666666"
      ]
     },
     "execution_count": 20,
     "metadata": {},
     "output_type": "execute_result"
    }
   ],
   "source": [
    "2 * E(X) + 3"
   ]
  },
  {
   "cell_type": "markdown",
   "id": "333216b8",
   "metadata": {},
   "source": [
    "- **분산**  \n",
    "  확률변수의 산포도를 나타내는 지표\n",
    "  - 정의: 편차 제곱의 기댓값\n",
    " \n",
    " $$ V(X) = Var(X) = \\sum\\limits_k{(x_k - μ)^2f(x_k)} $$  \n",
    "  \n",
    "  - 기호 : $\\sigma^2 $, $ V(X),  Var(X) $\n",
    "  - $\\sigma$ : 확률변수 X의 표준편차  \n",
    "  "
   ]
  },
  {
   "cell_type": "markdown",
   "id": "7b67cd94",
   "metadata": {},
   "source": [
    "- \n",
    "  - 이산형 확률변수의 분산  \n",
    "    $$ V(g(X)) = \\sum\\limits_k(g(x_k) - E(g(X)))^2f(x_k) $$"
   ]
  },
  {
   "cell_type": "markdown",
   "id": "fc15b64f",
   "metadata": {},
   "source": [
    "- \n",
    "  - 분산의 선형성  \n",
    "  a, b를 실수, X를 확률변수로 했을 때\n",
    "  $$ E(aX + b) = aE(X) + b $$"
   ]
  },
  {
   "cell_type": "code",
   "execution_count": 23,
   "id": "2063cd9c",
   "metadata": {},
   "outputs": [
    {
     "data": {
      "text/plain": [
       "2.2222222222222223"
      ]
     },
     "execution_count": 23,
     "metadata": {},
     "output_type": "execute_result"
    }
   ],
   "source": [
    "mean = E(X)\n",
    "np.sum([(x_k-mean)**2 * f(x_k) for x_k in x_set])"
   ]
  },
  {
   "cell_type": "code",
   "execution_count": 25,
   "id": "d6706236",
   "metadata": {},
   "outputs": [],
   "source": [
    "def V(X, g=lambda x: x):\n",
    "    x_set, f = X\n",
    "    mean = E(X, g)\n",
    "    return np.sum([(g(x_k)-mean)**2 * f(x_k) for x_k in x_set])"
   ]
  },
  {
   "cell_type": "code",
   "execution_count": 26,
   "id": "a6b85a17",
   "metadata": {},
   "outputs": [
    {
     "data": {
      "text/plain": [
       "2.2222222222222223"
      ]
     },
     "execution_count": 26,
     "metadata": {},
     "output_type": "execute_result"
    }
   ],
   "source": [
    "V(X)"
   ]
  },
  {
   "cell_type": "code",
   "execution_count": 27,
   "id": "9ee08b44",
   "metadata": {},
   "outputs": [
    {
     "data": {
      "text/plain": [
       "8.88888888888889"
      ]
     },
     "execution_count": 27,
     "metadata": {},
     "output_type": "execute_result"
    }
   ],
   "source": [
    "V(X, lambda x: 2*x + 3)"
   ]
  },
  {
   "cell_type": "code",
   "execution_count": null,
   "id": "ea53fcdd",
   "metadata": {},
   "outputs": [],
   "source": []
  }
 ],
 "metadata": {
  "kernelspec": {
   "display_name": "Python Multi",
   "language": "python",
   "name": "multi"
  },
  "language_info": {
   "codemirror_mode": {
    "name": "ipython",
    "version": 3
   },
   "file_extension": ".py",
   "mimetype": "text/x-python",
   "name": "python",
   "nbconvert_exporter": "python",
   "pygments_lexer": "ipython3",
   "version": "3.7.6"
  }
 },
 "nbformat": 4,
 "nbformat_minor": 5
}
