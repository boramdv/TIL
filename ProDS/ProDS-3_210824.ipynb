{
 "cells": [
  {
   "cell_type": "markdown",
   "id": "7cc148e1-e12b-48a4-bd40-2096e270c152",
   "metadata": {},
   "source": [
    "# ProDS Associate 실기 대비 3"
   ]
  },
  {
   "cell_type": "markdown",
   "id": "d8e6b487-969a-4ef1-affd-a7f00f9d783b",
   "metadata": {},
   "source": [
    "# Dataset_11"
   ]
  },
  {
   "cell_type": "code",
   "execution_count": null,
   "id": "4a3148a0-f360-4eaf-b61c-6d9f08dba8df",
   "metadata": {},
   "outputs": [],
   "source": [
    "# =============================================================================\n",
    "# =============================================================================\n",
    "# # 문제 11 유형(DataSet_11.csv 이용)\n",
    "\n",
    "# 구분자 : comma(“,”), 470 Rows, 4 Columns, UTF-8 인코딩\n",
    "\n",
    "# 세계 각국의 행복지수를 비롯한 여러 정보를 조사한 DS리서치는\n",
    "# 취합된 자료의 현황 파악 및 간단한 통계분석을 실시하고자 한다.\n",
    "\n",
    "# 컬 럼 / 정 의 / Type\n",
    "# Country / 국가명 / String\n",
    "# Happiness_Rank / 당해 행복점수 순위 / Double\n",
    "# Happiness_Score / 행복점수 / Double\n",
    "# year / 년도 / Double\n",
    "# =============================================================================\n",
    "# ============================================================================="
   ]
  },
  {
   "cell_type": "code",
   "execution_count": 1,
   "id": "734ddd4b-1615-4c02-afe6-8bcaf1197b33",
   "metadata": {},
   "outputs": [],
   "source": [
    "import pandas as pd"
   ]
  },
  {
   "cell_type": "code",
   "execution_count": 2,
   "id": "7feaf8f8-825c-445c-8e2b-6058346cb91b",
   "metadata": {},
   "outputs": [],
   "source": [
    "dataset11 = pd.read_csv('Dataset/Dataset_11.csv')"
   ]
  },
  {
   "cell_type": "code",
   "execution_count": 3,
   "id": "f5971a52-e47f-4106-917b-74a6c6029571",
   "metadata": {},
   "outputs": [
    {
     "name": "stdout",
     "output_type": "stream",
     "text": [
      "<class 'pandas.core.frame.DataFrame'>\n",
      "RangeIndex: 470 entries, 0 to 469\n",
      "Data columns (total 4 columns):\n",
      " #   Column           Non-Null Count  Dtype  \n",
      "---  ------           --------------  -----  \n",
      " 0   Country          470 non-null    object \n",
      " 1   Happiness_Rank   470 non-null    int64  \n",
      " 2   Happiness_Score  470 non-null    float64\n",
      " 3   year             470 non-null    int64  \n",
      "dtypes: float64(1), int64(2), object(1)\n",
      "memory usage: 14.8+ KB\n"
     ]
    }
   ],
   "source": [
    "dataset11.info()"
   ]
  },
  {
   "cell_type": "code",
   "execution_count": null,
   "id": "7bdbcb1b-bcec-4373-ba21-3ebd8f46d7a5",
   "metadata": {},
   "outputs": [],
   "source": []
  },
  {
   "cell_type": "markdown",
   "id": "3c945ee8-c4e0-46df-addb-beda44a35be5",
   "metadata": {},
   "source": [
    "## 1."
   ]
  },
  {
   "cell_type": "code",
   "execution_count": null,
   "id": "9a28a8c3-a190-4b67-8379-833a7f50b2e1",
   "metadata": {},
   "outputs": [],
   "source": [
    "# =============================================================================\n",
    "# 1.분석을 위해 3년 연속 행복지수가 기록된 국가의 데이터를 사용하고자 한다. \n",
    "# 3년 연속 데이터가 기록되지 않은 국가의 개수는?\n",
    "# - 국가명 표기가 한 글자라도 다른 경우 다른 국가로 처리하시오.\n",
    "# - 3년 연속 데이터가 기록되지 않은 국가 데이터는 제외하고 이를 향후 분석에서\n",
    "# 활용하시오.(답안 예시) 1\n",
    "# ============================================================================="
   ]
  },
  {
   "cell_type": "code",
   "execution_count": 5,
   "id": "da5469ec-d31b-42d4-bf66-915b287601d9",
   "metadata": {},
   "outputs": [
    {
     "data": {
      "text/html": [
       "<div>\n",
       "<style scoped>\n",
       "    .dataframe tbody tr th:only-of-type {\n",
       "        vertical-align: middle;\n",
       "    }\n",
       "\n",
       "    .dataframe tbody tr th {\n",
       "        vertical-align: top;\n",
       "    }\n",
       "\n",
       "    .dataframe thead th {\n",
       "        text-align: right;\n",
       "    }\n",
       "</style>\n",
       "<table border=\"1\" class=\"dataframe\">\n",
       "  <thead>\n",
       "    <tr style=\"text-align: right;\">\n",
       "      <th>year</th>\n",
       "      <th>2015</th>\n",
       "      <th>2016</th>\n",
       "      <th>2017</th>\n",
       "    </tr>\n",
       "    <tr>\n",
       "      <th>Country</th>\n",
       "      <th></th>\n",
       "      <th></th>\n",
       "      <th></th>\n",
       "    </tr>\n",
       "  </thead>\n",
       "  <tbody>\n",
       "    <tr>\n",
       "      <th>Afghanistan</th>\n",
       "      <td>3.575</td>\n",
       "      <td>3.360</td>\n",
       "      <td>3.794</td>\n",
       "    </tr>\n",
       "    <tr>\n",
       "      <th>Albania</th>\n",
       "      <td>4.959</td>\n",
       "      <td>4.655</td>\n",
       "      <td>4.644</td>\n",
       "    </tr>\n",
       "    <tr>\n",
       "      <th>Algeria</th>\n",
       "      <td>5.605</td>\n",
       "      <td>6.355</td>\n",
       "      <td>5.872</td>\n",
       "    </tr>\n",
       "    <tr>\n",
       "      <th>Angola</th>\n",
       "      <td>4.033</td>\n",
       "      <td>3.866</td>\n",
       "      <td>3.795</td>\n",
       "    </tr>\n",
       "    <tr>\n",
       "      <th>Argentina</th>\n",
       "      <td>6.574</td>\n",
       "      <td>6.650</td>\n",
       "      <td>6.599</td>\n",
       "    </tr>\n",
       "    <tr>\n",
       "      <th>...</th>\n",
       "      <td>...</td>\n",
       "      <td>...</td>\n",
       "      <td>...</td>\n",
       "    </tr>\n",
       "    <tr>\n",
       "      <th>Venezuela</th>\n",
       "      <td>6.810</td>\n",
       "      <td>6.084</td>\n",
       "      <td>5.250</td>\n",
       "    </tr>\n",
       "    <tr>\n",
       "      <th>Vietnam</th>\n",
       "      <td>5.360</td>\n",
       "      <td>5.061</td>\n",
       "      <td>5.074</td>\n",
       "    </tr>\n",
       "    <tr>\n",
       "      <th>Yemen</th>\n",
       "      <td>4.077</td>\n",
       "      <td>3.724</td>\n",
       "      <td>3.593</td>\n",
       "    </tr>\n",
       "    <tr>\n",
       "      <th>Zambia</th>\n",
       "      <td>5.129</td>\n",
       "      <td>4.795</td>\n",
       "      <td>4.514</td>\n",
       "    </tr>\n",
       "    <tr>\n",
       "      <th>Zimbabwe</th>\n",
       "      <td>4.610</td>\n",
       "      <td>4.193</td>\n",
       "      <td>3.875</td>\n",
       "    </tr>\n",
       "  </tbody>\n",
       "</table>\n",
       "<p>166 rows × 3 columns</p>\n",
       "</div>"
      ],
      "text/plain": [
       "year          2015   2016   2017\n",
       "Country                         \n",
       "Afghanistan  3.575  3.360  3.794\n",
       "Albania      4.959  4.655  4.644\n",
       "Algeria      5.605  6.355  5.872\n",
       "Angola       4.033  3.866  3.795\n",
       "Argentina    6.574  6.650  6.599\n",
       "...            ...    ...    ...\n",
       "Venezuela    6.810  6.084  5.250\n",
       "Vietnam      5.360  5.061  5.074\n",
       "Yemen        4.077  3.724  3.593\n",
       "Zambia       5.129  4.795  4.514\n",
       "Zimbabwe     4.610  4.193  3.875\n",
       "\n",
       "[166 rows x 3 columns]"
      ]
     },
     "execution_count": 5,
     "metadata": {},
     "output_type": "execute_result"
    }
   ],
   "source": [
    "q1 = dataset11.pivot_table(index='Country', columns='year')['Happiness_Score']\n",
    "q1"
   ]
  },
  {
   "cell_type": "code",
   "execution_count": 9,
   "id": "eab3b594-5896-47b8-bd74-a0a85cfc5dcf",
   "metadata": {},
   "outputs": [
    {
     "data": {
      "text/plain": [
       "Country\n",
       "Afghanistan    0\n",
       "Albania        0\n",
       "Algeria        0\n",
       "Angola         0\n",
       "Argentina      0\n",
       "              ..\n",
       "Venezuela      0\n",
       "Vietnam        0\n",
       "Yemen          0\n",
       "Zambia         0\n",
       "Zimbabwe       0\n",
       "Length: 166, dtype: int64"
      ]
     },
     "execution_count": 9,
     "metadata": {},
     "output_type": "execute_result"
    }
   ],
   "source": [
    "q1.isna().sum(axis=1)"
   ]
  },
  {
   "cell_type": "code",
   "execution_count": 10,
   "id": "b8e06c1a-36f1-4e56-8016-37b2395f8f7a",
   "metadata": {},
   "outputs": [
    {
     "data": {
      "text/plain": [
       "28"
      ]
     },
     "execution_count": 10,
     "metadata": {},
     "output_type": "execute_result"
    }
   ],
   "source": [
    "q1.isna().sum(axis=1).sum()"
   ]
  },
  {
   "cell_type": "code",
   "execution_count": null,
   "id": "772ecb16-e03f-42d4-859a-d157b074231b",
   "metadata": {},
   "outputs": [],
   "source": [
    "# (답) 28 -> 오답"
   ]
  },
  {
   "cell_type": "code",
   "execution_count": null,
   "id": "b85114bd-ae20-4004-ac66-357c31113750",
   "metadata": {},
   "outputs": [],
   "source": [
    "# 오답풀이"
   ]
  },
  {
   "cell_type": "code",
   "execution_count": 36,
   "id": "a5479cf6-a57e-4c27-939b-b9918fc5dc27",
   "metadata": {},
   "outputs": [
    {
     "data": {
      "text/html": [
       "<div>\n",
       "<style scoped>\n",
       "    .dataframe tbody tr th:only-of-type {\n",
       "        vertical-align: middle;\n",
       "    }\n",
       "\n",
       "    .dataframe tbody tr th {\n",
       "        vertical-align: top;\n",
       "    }\n",
       "\n",
       "    .dataframe thead th {\n",
       "        text-align: right;\n",
       "    }\n",
       "</style>\n",
       "<table border=\"1\" class=\"dataframe\">\n",
       "  <thead>\n",
       "    <tr style=\"text-align: right;\">\n",
       "      <th>year</th>\n",
       "      <th>2015</th>\n",
       "      <th>2016</th>\n",
       "      <th>2017</th>\n",
       "      <th>na_num</th>\n",
       "    </tr>\n",
       "    <tr>\n",
       "      <th>Country</th>\n",
       "      <th></th>\n",
       "      <th></th>\n",
       "      <th></th>\n",
       "      <th></th>\n",
       "    </tr>\n",
       "  </thead>\n",
       "  <tbody>\n",
       "    <tr>\n",
       "      <th>Belize</th>\n",
       "      <td>NaN</td>\n",
       "      <td>5.956</td>\n",
       "      <td>5.956</td>\n",
       "      <td>1</td>\n",
       "    </tr>\n",
       "    <tr>\n",
       "      <th>Central African Republic</th>\n",
       "      <td>3.678</td>\n",
       "      <td>NaN</td>\n",
       "      <td>2.693</td>\n",
       "      <td>1</td>\n",
       "    </tr>\n",
       "    <tr>\n",
       "      <th>Comoros</th>\n",
       "      <td>3.956</td>\n",
       "      <td>3.956</td>\n",
       "      <td>NaN</td>\n",
       "      <td>1</td>\n",
       "    </tr>\n",
       "    <tr>\n",
       "      <th>Djibouti</th>\n",
       "      <td>4.369</td>\n",
       "      <td>NaN</td>\n",
       "      <td>NaN</td>\n",
       "      <td>2</td>\n",
       "    </tr>\n",
       "    <tr>\n",
       "      <th>Hong Kong</th>\n",
       "      <td>5.474</td>\n",
       "      <td>5.458</td>\n",
       "      <td>NaN</td>\n",
       "      <td>1</td>\n",
       "    </tr>\n",
       "    <tr>\n",
       "      <th>Hong Kong S.A.R. China</th>\n",
       "      <td>NaN</td>\n",
       "      <td>NaN</td>\n",
       "      <td>5.472</td>\n",
       "      <td>2</td>\n",
       "    </tr>\n",
       "    <tr>\n",
       "      <th>Laos</th>\n",
       "      <td>4.876</td>\n",
       "      <td>4.876</td>\n",
       "      <td>NaN</td>\n",
       "      <td>1</td>\n",
       "    </tr>\n",
       "    <tr>\n",
       "      <th>Lesotho</th>\n",
       "      <td>4.898</td>\n",
       "      <td>NaN</td>\n",
       "      <td>3.808</td>\n",
       "      <td>1</td>\n",
       "    </tr>\n",
       "    <tr>\n",
       "      <th>Mozambique</th>\n",
       "      <td>4.971</td>\n",
       "      <td>NaN</td>\n",
       "      <td>4.550</td>\n",
       "      <td>1</td>\n",
       "    </tr>\n",
       "    <tr>\n",
       "      <th>Namibia</th>\n",
       "      <td>NaN</td>\n",
       "      <td>4.574</td>\n",
       "      <td>4.574</td>\n",
       "      <td>1</td>\n",
       "    </tr>\n",
       "    <tr>\n",
       "      <th>Oman</th>\n",
       "      <td>6.853</td>\n",
       "      <td>NaN</td>\n",
       "      <td>NaN</td>\n",
       "      <td>2</td>\n",
       "    </tr>\n",
       "    <tr>\n",
       "      <th>Puerto Rico</th>\n",
       "      <td>NaN</td>\n",
       "      <td>7.039</td>\n",
       "      <td>NaN</td>\n",
       "      <td>2</td>\n",
       "    </tr>\n",
       "    <tr>\n",
       "      <th>Somalia</th>\n",
       "      <td>NaN</td>\n",
       "      <td>5.440</td>\n",
       "      <td>5.151</td>\n",
       "      <td>1</td>\n",
       "    </tr>\n",
       "    <tr>\n",
       "      <th>Somaliland Region</th>\n",
       "      <td>NaN</td>\n",
       "      <td>5.057</td>\n",
       "      <td>NaN</td>\n",
       "      <td>2</td>\n",
       "    </tr>\n",
       "    <tr>\n",
       "      <th>Somaliland region</th>\n",
       "      <td>5.057</td>\n",
       "      <td>NaN</td>\n",
       "      <td>NaN</td>\n",
       "      <td>2</td>\n",
       "    </tr>\n",
       "    <tr>\n",
       "      <th>South Sudan</th>\n",
       "      <td>NaN</td>\n",
       "      <td>3.832</td>\n",
       "      <td>3.591</td>\n",
       "      <td>1</td>\n",
       "    </tr>\n",
       "    <tr>\n",
       "      <th>Suriname</th>\n",
       "      <td>6.269</td>\n",
       "      <td>6.269</td>\n",
       "      <td>NaN</td>\n",
       "      <td>1</td>\n",
       "    </tr>\n",
       "    <tr>\n",
       "      <th>Swaziland</th>\n",
       "      <td>4.867</td>\n",
       "      <td>NaN</td>\n",
       "      <td>NaN</td>\n",
       "      <td>2</td>\n",
       "    </tr>\n",
       "    <tr>\n",
       "      <th>Taiwan</th>\n",
       "      <td>6.298</td>\n",
       "      <td>6.379</td>\n",
       "      <td>NaN</td>\n",
       "      <td>1</td>\n",
       "    </tr>\n",
       "    <tr>\n",
       "      <th>Taiwan Province of China</th>\n",
       "      <td>NaN</td>\n",
       "      <td>NaN</td>\n",
       "      <td>6.422</td>\n",
       "      <td>2</td>\n",
       "    </tr>\n",
       "  </tbody>\n",
       "</table>\n",
       "</div>"
      ],
      "text/plain": [
       "year                       2015   2016   2017  na_num\n",
       "Country                                              \n",
       "Belize                      NaN  5.956  5.956       1\n",
       "Central African Republic  3.678    NaN  2.693       1\n",
       "Comoros                   3.956  3.956    NaN       1\n",
       "Djibouti                  4.369    NaN    NaN       2\n",
       "Hong Kong                 5.474  5.458    NaN       1\n",
       "Hong Kong S.A.R. China      NaN    NaN  5.472       2\n",
       "Laos                      4.876  4.876    NaN       1\n",
       "Lesotho                   4.898    NaN  3.808       1\n",
       "Mozambique                4.971    NaN  4.550       1\n",
       "Namibia                     NaN  4.574  4.574       1\n",
       "Oman                      6.853    NaN    NaN       2\n",
       "Puerto Rico                 NaN  7.039    NaN       2\n",
       "Somalia                     NaN  5.440  5.151       1\n",
       "Somaliland Region           NaN  5.057    NaN       2\n",
       "Somaliland region         5.057    NaN    NaN       2\n",
       "South Sudan                 NaN  3.832  3.591       1\n",
       "Suriname                  6.269  6.269    NaN       1\n",
       "Swaziland                 4.867    NaN    NaN       2\n",
       "Taiwan                    6.298  6.379    NaN       1\n",
       "Taiwan Province of China    NaN    NaN  6.422       2"
      ]
     },
     "execution_count": 36,
     "metadata": {},
     "output_type": "execute_result"
    }
   ],
   "source": [
    "q1[q1.isna().sum(axis=1) > 0]"
   ]
  },
  {
   "cell_type": "code",
   "execution_count": 37,
   "id": "7182f9da-78b2-426e-bd45-d1bfb4b77bdc",
   "metadata": {},
   "outputs": [
    {
     "data": {
      "text/plain": [
       "20"
      ]
     },
     "execution_count": 37,
     "metadata": {},
     "output_type": "execute_result"
    }
   ],
   "source": [
    "len(q1[q1.isna().sum(axis=1) > 0])"
   ]
  },
  {
   "cell_type": "markdown",
   "id": "ecdca217-9673-4cb9-8b54-729145d5c069",
   "metadata": {},
   "source": [
    "### 해설"
   ]
  },
  {
   "cell_type": "code",
   "execution_count": 11,
   "id": "222c013b-e63e-464a-a1c5-8559745acbab",
   "metadata": {},
   "outputs": [
    {
     "data": {
      "text/plain": [
       "Index(['Country', 'Happiness_Rank', 'Happiness_Score', 'year'], dtype='object')"
      ]
     },
     "execution_count": 11,
     "metadata": {},
     "output_type": "execute_result"
    }
   ],
   "source": [
    "dataset11.columns"
   ]
  },
  {
   "cell_type": "code",
   "execution_count": 12,
   "id": "ac9b9ef2-b3ef-4a40-ba69-491c9caff2fa",
   "metadata": {},
   "outputs": [
    {
     "data": {
      "text/html": [
       "<div>\n",
       "<style scoped>\n",
       "    .dataframe tbody tr th:only-of-type {\n",
       "        vertical-align: middle;\n",
       "    }\n",
       "\n",
       "    .dataframe tbody tr th {\n",
       "        vertical-align: top;\n",
       "    }\n",
       "\n",
       "    .dataframe thead tr th {\n",
       "        text-align: left;\n",
       "    }\n",
       "\n",
       "    .dataframe thead tr:last-of-type th {\n",
       "        text-align: right;\n",
       "    }\n",
       "</style>\n",
       "<table border=\"1\" class=\"dataframe\">\n",
       "  <thead>\n",
       "    <tr>\n",
       "      <th></th>\n",
       "      <th colspan=\"3\" halign=\"left\">Happiness_Score</th>\n",
       "    </tr>\n",
       "    <tr>\n",
       "      <th>year</th>\n",
       "      <th>2015</th>\n",
       "      <th>2016</th>\n",
       "      <th>2017</th>\n",
       "    </tr>\n",
       "    <tr>\n",
       "      <th>Country</th>\n",
       "      <th></th>\n",
       "      <th></th>\n",
       "      <th></th>\n",
       "    </tr>\n",
       "  </thead>\n",
       "  <tbody>\n",
       "    <tr>\n",
       "      <th>Afghanistan</th>\n",
       "      <td>3.575</td>\n",
       "      <td>3.360</td>\n",
       "      <td>3.794</td>\n",
       "    </tr>\n",
       "    <tr>\n",
       "      <th>Albania</th>\n",
       "      <td>4.959</td>\n",
       "      <td>4.655</td>\n",
       "      <td>4.644</td>\n",
       "    </tr>\n",
       "    <tr>\n",
       "      <th>Algeria</th>\n",
       "      <td>5.605</td>\n",
       "      <td>6.355</td>\n",
       "      <td>5.872</td>\n",
       "    </tr>\n",
       "    <tr>\n",
       "      <th>Angola</th>\n",
       "      <td>4.033</td>\n",
       "      <td>3.866</td>\n",
       "      <td>3.795</td>\n",
       "    </tr>\n",
       "    <tr>\n",
       "      <th>Argentina</th>\n",
       "      <td>6.574</td>\n",
       "      <td>6.650</td>\n",
       "      <td>6.599</td>\n",
       "    </tr>\n",
       "    <tr>\n",
       "      <th>...</th>\n",
       "      <td>...</td>\n",
       "      <td>...</td>\n",
       "      <td>...</td>\n",
       "    </tr>\n",
       "    <tr>\n",
       "      <th>Venezuela</th>\n",
       "      <td>6.810</td>\n",
       "      <td>6.084</td>\n",
       "      <td>5.250</td>\n",
       "    </tr>\n",
       "    <tr>\n",
       "      <th>Vietnam</th>\n",
       "      <td>5.360</td>\n",
       "      <td>5.061</td>\n",
       "      <td>5.074</td>\n",
       "    </tr>\n",
       "    <tr>\n",
       "      <th>Yemen</th>\n",
       "      <td>4.077</td>\n",
       "      <td>3.724</td>\n",
       "      <td>3.593</td>\n",
       "    </tr>\n",
       "    <tr>\n",
       "      <th>Zambia</th>\n",
       "      <td>5.129</td>\n",
       "      <td>4.795</td>\n",
       "      <td>4.514</td>\n",
       "    </tr>\n",
       "    <tr>\n",
       "      <th>Zimbabwe</th>\n",
       "      <td>4.610</td>\n",
       "      <td>4.193</td>\n",
       "      <td>3.875</td>\n",
       "    </tr>\n",
       "  </tbody>\n",
       "</table>\n",
       "<p>166 rows × 3 columns</p>\n",
       "</div>"
      ],
      "text/plain": [
       "            Happiness_Score              \n",
       "year                   2015   2016   2017\n",
       "Country                                  \n",
       "Afghanistan           3.575  3.360  3.794\n",
       "Albania               4.959  4.655  4.644\n",
       "Algeria               5.605  6.355  5.872\n",
       "Angola                4.033  3.866  3.795\n",
       "Argentina             6.574  6.650  6.599\n",
       "...                     ...    ...    ...\n",
       "Venezuela             6.810  6.084  5.250\n",
       "Vietnam               5.360  5.061  5.074\n",
       "Yemen                 4.077  3.724  3.593\n",
       "Zambia                5.129  4.795  4.514\n",
       "Zimbabwe              4.610  4.193  3.875\n",
       "\n",
       "[166 rows x 3 columns]"
      ]
     },
     "execution_count": 12,
     "metadata": {},
     "output_type": "execute_result"
    }
   ],
   "source": [
    "# multi lable\n",
    "q1 = pd.pivot_table(dataset11, index='Country', columns=['year'], \n",
    "                    values=['Happiness_Score'])\n",
    "q1"
   ]
  },
  {
   "cell_type": "code",
   "execution_count": 13,
   "id": "9acdf20b-f03f-4ebd-a1f8-1ce7ccf66b9c",
   "metadata": {},
   "outputs": [
    {
     "data": {
      "text/html": [
       "<div>\n",
       "<style scoped>\n",
       "    .dataframe tbody tr th:only-of-type {\n",
       "        vertical-align: middle;\n",
       "    }\n",
       "\n",
       "    .dataframe tbody tr th {\n",
       "        vertical-align: top;\n",
       "    }\n",
       "\n",
       "    .dataframe thead th {\n",
       "        text-align: right;\n",
       "    }\n",
       "</style>\n",
       "<table border=\"1\" class=\"dataframe\">\n",
       "  <thead>\n",
       "    <tr style=\"text-align: right;\">\n",
       "      <th>year</th>\n",
       "      <th>2015</th>\n",
       "      <th>2016</th>\n",
       "      <th>2017</th>\n",
       "    </tr>\n",
       "    <tr>\n",
       "      <th>Country</th>\n",
       "      <th></th>\n",
       "      <th></th>\n",
       "      <th></th>\n",
       "    </tr>\n",
       "  </thead>\n",
       "  <tbody>\n",
       "    <tr>\n",
       "      <th>Afghanistan</th>\n",
       "      <td>3.575</td>\n",
       "      <td>3.360</td>\n",
       "      <td>3.794</td>\n",
       "    </tr>\n",
       "    <tr>\n",
       "      <th>Albania</th>\n",
       "      <td>4.959</td>\n",
       "      <td>4.655</td>\n",
       "      <td>4.644</td>\n",
       "    </tr>\n",
       "    <tr>\n",
       "      <th>Algeria</th>\n",
       "      <td>5.605</td>\n",
       "      <td>6.355</td>\n",
       "      <td>5.872</td>\n",
       "    </tr>\n",
       "    <tr>\n",
       "      <th>Angola</th>\n",
       "      <td>4.033</td>\n",
       "      <td>3.866</td>\n",
       "      <td>3.795</td>\n",
       "    </tr>\n",
       "    <tr>\n",
       "      <th>Argentina</th>\n",
       "      <td>6.574</td>\n",
       "      <td>6.650</td>\n",
       "      <td>6.599</td>\n",
       "    </tr>\n",
       "    <tr>\n",
       "      <th>...</th>\n",
       "      <td>...</td>\n",
       "      <td>...</td>\n",
       "      <td>...</td>\n",
       "    </tr>\n",
       "    <tr>\n",
       "      <th>Venezuela</th>\n",
       "      <td>6.810</td>\n",
       "      <td>6.084</td>\n",
       "      <td>5.250</td>\n",
       "    </tr>\n",
       "    <tr>\n",
       "      <th>Vietnam</th>\n",
       "      <td>5.360</td>\n",
       "      <td>5.061</td>\n",
       "      <td>5.074</td>\n",
       "    </tr>\n",
       "    <tr>\n",
       "      <th>Yemen</th>\n",
       "      <td>4.077</td>\n",
       "      <td>3.724</td>\n",
       "      <td>3.593</td>\n",
       "    </tr>\n",
       "    <tr>\n",
       "      <th>Zambia</th>\n",
       "      <td>5.129</td>\n",
       "      <td>4.795</td>\n",
       "      <td>4.514</td>\n",
       "    </tr>\n",
       "    <tr>\n",
       "      <th>Zimbabwe</th>\n",
       "      <td>4.610</td>\n",
       "      <td>4.193</td>\n",
       "      <td>3.875</td>\n",
       "    </tr>\n",
       "  </tbody>\n",
       "</table>\n",
       "<p>166 rows × 3 columns</p>\n",
       "</div>"
      ],
      "text/plain": [
       "year          2015   2016   2017\n",
       "Country                         \n",
       "Afghanistan  3.575  3.360  3.794\n",
       "Albania      4.959  4.655  4.644\n",
       "Algeria      5.605  6.355  5.872\n",
       "Angola       4.033  3.866  3.795\n",
       "Argentina    6.574  6.650  6.599\n",
       "...            ...    ...    ...\n",
       "Venezuela    6.810  6.084  5.250\n",
       "Vietnam      5.360  5.061  5.074\n",
       "Yemen        4.077  3.724  3.593\n",
       "Zambia       5.129  4.795  4.514\n",
       "Zimbabwe     4.610  4.193  3.875\n",
       "\n",
       "[166 rows x 3 columns]"
      ]
     },
     "execution_count": 13,
     "metadata": {},
     "output_type": "execute_result"
    }
   ],
   "source": [
    "# 단일 label\n",
    "q1 = pd.pivot_table(dataset11, index='Country', columns=['year'], \n",
    "                    values='Happiness_Score')\n",
    "q1"
   ]
  },
  {
   "cell_type": "code",
   "execution_count": 14,
   "id": "8b46ad64-b170-4f26-9466-ec8ea42a5ff8",
   "metadata": {},
   "outputs": [],
   "source": [
    "q1['na_num'] = q1.isna().sum(axis=1)"
   ]
  },
  {
   "cell_type": "code",
   "execution_count": 15,
   "id": "db3732d9-940d-4df7-8552-c7a5e458664b",
   "metadata": {},
   "outputs": [],
   "source": [
    "q1_2 = q1[q1['na_num'] < 1]"
   ]
  },
  {
   "cell_type": "code",
   "execution_count": 16,
   "id": "21a46fc6-84ba-41d2-bbcc-b260a22bd13a",
   "metadata": {},
   "outputs": [
    {
     "data": {
      "text/plain": [
       "20"
      ]
     },
     "execution_count": 16,
     "metadata": {},
     "output_type": "execute_result"
    }
   ],
   "source": [
    "(q1['na_num'] > 0).sum()"
   ]
  },
  {
   "cell_type": "code",
   "execution_count": null,
   "id": "9981b159-ab24-4fba-84e8-9c6749ef543d",
   "metadata": {},
   "outputs": [],
   "source": [
    "# (정답) 20"
   ]
  },
  {
   "cell_type": "code",
   "execution_count": null,
   "id": "0d5d1e86-873f-4a50-bf7d-6b0f6d5a132e",
   "metadata": {},
   "outputs": [],
   "source": [
    "# 추가로 해보기"
   ]
  },
  {
   "cell_type": "code",
   "execution_count": 31,
   "id": "59723615-1196-4878-92d3-582d92341391",
   "metadata": {},
   "outputs": [
    {
     "data": {
      "text/html": [
       "<div>\n",
       "<style scoped>\n",
       "    .dataframe tbody tr th:only-of-type {\n",
       "        vertical-align: middle;\n",
       "    }\n",
       "\n",
       "    .dataframe tbody tr th {\n",
       "        vertical-align: top;\n",
       "    }\n",
       "\n",
       "    .dataframe thead th {\n",
       "        text-align: right;\n",
       "    }\n",
       "</style>\n",
       "<table border=\"1\" class=\"dataframe\">\n",
       "  <thead>\n",
       "    <tr style=\"text-align: right;\">\n",
       "      <th>year</th>\n",
       "      <th>2015</th>\n",
       "      <th>2016</th>\n",
       "      <th>2017</th>\n",
       "      <th>na_num</th>\n",
       "    </tr>\n",
       "    <tr>\n",
       "      <th>Country</th>\n",
       "      <th></th>\n",
       "      <th></th>\n",
       "      <th></th>\n",
       "      <th></th>\n",
       "    </tr>\n",
       "  </thead>\n",
       "  <tbody>\n",
       "    <tr>\n",
       "      <th>Afghanistan</th>\n",
       "      <td>3.575</td>\n",
       "      <td>3.360</td>\n",
       "      <td>3.794</td>\n",
       "      <td>0</td>\n",
       "    </tr>\n",
       "    <tr>\n",
       "      <th>Albania</th>\n",
       "      <td>4.959</td>\n",
       "      <td>4.655</td>\n",
       "      <td>4.644</td>\n",
       "      <td>0</td>\n",
       "    </tr>\n",
       "    <tr>\n",
       "      <th>Algeria</th>\n",
       "      <td>5.605</td>\n",
       "      <td>6.355</td>\n",
       "      <td>5.872</td>\n",
       "      <td>0</td>\n",
       "    </tr>\n",
       "    <tr>\n",
       "      <th>Angola</th>\n",
       "      <td>4.033</td>\n",
       "      <td>3.866</td>\n",
       "      <td>3.795</td>\n",
       "      <td>0</td>\n",
       "    </tr>\n",
       "    <tr>\n",
       "      <th>Argentina</th>\n",
       "      <td>6.574</td>\n",
       "      <td>6.650</td>\n",
       "      <td>6.599</td>\n",
       "      <td>0</td>\n",
       "    </tr>\n",
       "    <tr>\n",
       "      <th>...</th>\n",
       "      <td>...</td>\n",
       "      <td>...</td>\n",
       "      <td>...</td>\n",
       "      <td>...</td>\n",
       "    </tr>\n",
       "    <tr>\n",
       "      <th>Venezuela</th>\n",
       "      <td>6.810</td>\n",
       "      <td>6.084</td>\n",
       "      <td>5.250</td>\n",
       "      <td>0</td>\n",
       "    </tr>\n",
       "    <tr>\n",
       "      <th>Vietnam</th>\n",
       "      <td>5.360</td>\n",
       "      <td>5.061</td>\n",
       "      <td>5.074</td>\n",
       "      <td>0</td>\n",
       "    </tr>\n",
       "    <tr>\n",
       "      <th>Yemen</th>\n",
       "      <td>4.077</td>\n",
       "      <td>3.724</td>\n",
       "      <td>3.593</td>\n",
       "      <td>0</td>\n",
       "    </tr>\n",
       "    <tr>\n",
       "      <th>Zambia</th>\n",
       "      <td>5.129</td>\n",
       "      <td>4.795</td>\n",
       "      <td>4.514</td>\n",
       "      <td>0</td>\n",
       "    </tr>\n",
       "    <tr>\n",
       "      <th>Zimbabwe</th>\n",
       "      <td>4.610</td>\n",
       "      <td>4.193</td>\n",
       "      <td>3.875</td>\n",
       "      <td>0</td>\n",
       "    </tr>\n",
       "  </tbody>\n",
       "</table>\n",
       "<p>146 rows × 4 columns</p>\n",
       "</div>"
      ],
      "text/plain": [
       "year          2015   2016   2017  na_num\n",
       "Country                                 \n",
       "Afghanistan  3.575  3.360  3.794       0\n",
       "Albania      4.959  4.655  4.644       0\n",
       "Algeria      5.605  6.355  5.872       0\n",
       "Angola       4.033  3.866  3.795       0\n",
       "Argentina    6.574  6.650  6.599       0\n",
       "...            ...    ...    ...     ...\n",
       "Venezuela    6.810  6.084  5.250       0\n",
       "Vietnam      5.360  5.061  5.074       0\n",
       "Yemen        4.077  3.724  3.593       0\n",
       "Zambia       5.129  4.795  4.514       0\n",
       "Zimbabwe     4.610  4.193  3.875       0\n",
       "\n",
       "[146 rows x 4 columns]"
      ]
     },
     "execution_count": 31,
     "metadata": {},
     "output_type": "execute_result"
    }
   ],
   "source": [
    "q1_2"
   ]
  },
  {
   "cell_type": "code",
   "execution_count": 32,
   "id": "882492b8-2ef7-4fe2-a19d-899773f691fb",
   "metadata": {},
   "outputs": [
    {
     "data": {
      "text/plain": [
       "146"
      ]
     },
     "execution_count": 32,
     "metadata": {},
     "output_type": "execute_result"
    }
   ],
   "source": [
    "len(q1_2)"
   ]
  },
  {
   "cell_type": "code",
   "execution_count": 34,
   "id": "ed464a95-d400-4ae9-9075-61e57d10bd73",
   "metadata": {},
   "outputs": [
    {
     "data": {
      "text/plain": [
       "20"
      ]
     },
     "execution_count": 34,
     "metadata": {},
     "output_type": "execute_result"
    }
   ],
   "source": [
    "len(q1) - len(q1_2)"
   ]
  },
  {
   "cell_type": "markdown",
   "id": "5b6da876-b33c-4ca5-a30f-99844ac1d4cf",
   "metadata": {},
   "source": [
    "## 2."
   ]
  },
  {
   "cell_type": "code",
   "execution_count": null,
   "id": "587faad9-5c83-465b-bc78-01fc86989146",
   "metadata": {},
   "outputs": [],
   "source": [
    "# =============================================================================\n",
    "# 2.(1번 산출물을 활용하여) 2017년 행복지수와 2015년 행복지수를 활용하여 국가별\n",
    "# 행복지수 증감률을 산출하고 행복지수 증감률이 가장 높은 3개 국가를 행복지수가\n",
    "# 높은 순서대로 차례대로 기술하시오.\n",
    "# 증감률 = (2017년행복지수−2015년행복지수)/2\n",
    "# \n",
    "# - 연도는 년월(YEAR_MONTH) 변수로부터 추출하며, 연도별 매출금액합계는 1월부터\n",
    "# 12월까지의 매출 총액을 의미한다. (답안 예시) Korea, Japan, China\n",
    "# ============================================================================="
   ]
  },
  {
   "cell_type": "markdown",
   "id": "88115f9d-019d-491d-9756-1619cf63c902",
   "metadata": {},
   "source": [
    "### 해설"
   ]
  },
  {
   "cell_type": "code",
   "execution_count": 17,
   "id": "25bcc91e-c52e-4a0b-9013-2b2640246afa",
   "metadata": {},
   "outputs": [],
   "source": [
    "q2 = q1_2.drop(columns='na_num')"
   ]
  },
  {
   "cell_type": "code",
   "execution_count": 18,
   "id": "bc71da5e-74fe-48ea-8415-cff3a4c3ce34",
   "metadata": {},
   "outputs": [
    {
     "data": {
      "text/plain": [
       "Country\n",
       "Afghanistan    3.794\n",
       "Albania        4.644\n",
       "Algeria        5.872\n",
       "Angola         3.795\n",
       "Argentina      6.599\n",
       "               ...  \n",
       "Venezuela      5.250\n",
       "Vietnam        5.074\n",
       "Yemen          3.593\n",
       "Zambia         4.514\n",
       "Zimbabwe       3.875\n",
       "Name: 2017, Length: 146, dtype: float64"
      ]
     },
     "execution_count": 18,
     "metadata": {},
     "output_type": "execute_result"
    }
   ],
   "source": [
    "q2[2017]"
   ]
  },
  {
   "cell_type": "code",
   "execution_count": 20,
   "id": "bf80a0c3-0511-4920-8ef8-e1920a6ce01a",
   "metadata": {
    "tags": []
   },
   "outputs": [],
   "source": [
    "# q2['2017'] => Error"
   ]
  },
  {
   "cell_type": "code",
   "execution_count": 21,
   "id": "63f48f4f-92fd-45b2-82c7-876ad1076cc4",
   "metadata": {},
   "outputs": [],
   "source": [
    "q2['ratio'] = (q2[2017] - q2[2015]) / 2"
   ]
  },
  {
   "cell_type": "code",
   "execution_count": 22,
   "id": "fc57c0d6-4c2b-4335-b364-ddf4579c3db5",
   "metadata": {},
   "outputs": [
    {
     "data": {
      "text/plain": [
       "Index(['Latvia', 'Romania', 'Togo'], dtype='object', name='Country')"
      ]
     },
     "execution_count": 22,
     "metadata": {},
     "output_type": "execute_result"
    }
   ],
   "source": [
    "q2['ratio'].nlargest(3).index"
   ]
  },
  {
   "cell_type": "code",
   "execution_count": null,
   "id": "46142890-eaaa-4d0d-93c5-320c861abcbc",
   "metadata": {},
   "outputs": [],
   "source": [
    "# (정답) Latvia, Romania, Togo"
   ]
  },
  {
   "cell_type": "markdown",
   "id": "92bff18e-6429-4344-afd1-4a7963dfe6f1",
   "metadata": {},
   "source": [
    "## 3. ANOVA / F-Test & Tukey"
   ]
  },
  {
   "cell_type": "code",
   "execution_count": null,
   "id": "4473cddd-e188-43a9-8108-7231a3b20c2d",
   "metadata": {},
   "outputs": [],
   "source": [
    "# =============================================================================\n",
    "# 3.(1번 산출물을 활용하여) 년도별 행복지수 평균이 유의미하게 차이가 나는지\n",
    "# 알아보고자 한다. \n",
    "# 이와 관련하여 적절한 검정을 사용하고 검정통계량을 기술하시오.\n",
    "# - 해당 검정의 검정통계량은 자유도가 2인 F 분포를 따른다.\n",
    "# - 검정통계량은 소수점 넷째 자리까지 기술한다. (답안 예시) 0.1234\n",
    "# =============================================================================\n",
    "\n",
    "# (참고)\n",
    "# from statsmodels.formula.api import ols\n",
    "# from statsmodels.stats.anova import anova_lm"
   ]
  },
  {
   "cell_type": "markdown",
   "id": "67f204bd-0194-4b7f-86b0-553a46908197",
   "metadata": {},
   "source": [
    "### 해설"
   ]
  },
  {
   "cell_type": "code",
   "execution_count": null,
   "id": "39c56e06-8aa4-4128-bd32-d55bd8309dbd",
   "metadata": {},
   "outputs": [],
   "source": [
    "# 집단 3개 -> 자유도 2\n",
    "# ols 범주 변수 자동으로 분산분석\n",
    "# 가정: 집단 내 등분산. 가정 만족 못하더라도 집단간 분산이 크면 가능\n",
    "# 사후검정: 다중 검정"
   ]
  },
  {
   "cell_type": "code",
   "execution_count": null,
   "id": "2da3d108-112d-4595-9d2a-1841b30c5594",
   "metadata": {},
   "outputs": [],
   "source": [
    "# 방법 1. f_oneway"
   ]
  },
  {
   "cell_type": "code",
   "execution_count": 24,
   "id": "c01ee645-2f26-486d-86e6-ed6469db8f3d",
   "metadata": {},
   "outputs": [],
   "source": [
    "from statsmodels.formula.api import ols\n",
    "from statsmodels.stats.anova import anova_lm"
   ]
  },
  {
   "cell_type": "code",
   "execution_count": 27,
   "id": "b90dbb4b-c23d-43b4-9b6c-b1b0f11565c2",
   "metadata": {},
   "outputs": [
    {
     "data": {
      "text/html": [
       "<div>\n",
       "<style scoped>\n",
       "    .dataframe tbody tr th:only-of-type {\n",
       "        vertical-align: middle;\n",
       "    }\n",
       "\n",
       "    .dataframe tbody tr th {\n",
       "        vertical-align: top;\n",
       "    }\n",
       "\n",
       "    .dataframe thead th {\n",
       "        text-align: right;\n",
       "    }\n",
       "</style>\n",
       "<table border=\"1\" class=\"dataframe\">\n",
       "  <thead>\n",
       "    <tr style=\"text-align: right;\">\n",
       "      <th></th>\n",
       "      <th>Country</th>\n",
       "      <th>Happiness_Rank</th>\n",
       "      <th>Happiness_Score</th>\n",
       "      <th>year</th>\n",
       "    </tr>\n",
       "  </thead>\n",
       "  <tbody>\n",
       "    <tr>\n",
       "      <th>0</th>\n",
       "      <td>Switzerland</td>\n",
       "      <td>1</td>\n",
       "      <td>7.587</td>\n",
       "      <td>2015</td>\n",
       "    </tr>\n",
       "    <tr>\n",
       "      <th>1</th>\n",
       "      <td>Iceland</td>\n",
       "      <td>2</td>\n",
       "      <td>7.561</td>\n",
       "      <td>2015</td>\n",
       "    </tr>\n",
       "    <tr>\n",
       "      <th>2</th>\n",
       "      <td>Denmark</td>\n",
       "      <td>3</td>\n",
       "      <td>7.527</td>\n",
       "      <td>2015</td>\n",
       "    </tr>\n",
       "    <tr>\n",
       "      <th>3</th>\n",
       "      <td>Norway</td>\n",
       "      <td>4</td>\n",
       "      <td>7.522</td>\n",
       "      <td>2015</td>\n",
       "    </tr>\n",
       "    <tr>\n",
       "      <th>4</th>\n",
       "      <td>Canada</td>\n",
       "      <td>5</td>\n",
       "      <td>7.427</td>\n",
       "      <td>2015</td>\n",
       "    </tr>\n",
       "    <tr>\n",
       "      <th>...</th>\n",
       "      <td>...</td>\n",
       "      <td>...</td>\n",
       "      <td>...</td>\n",
       "      <td>...</td>\n",
       "    </tr>\n",
       "    <tr>\n",
       "      <th>464</th>\n",
       "      <td>Togo</td>\n",
       "      <td>150</td>\n",
       "      <td>3.495</td>\n",
       "      <td>2017</td>\n",
       "    </tr>\n",
       "    <tr>\n",
       "      <th>465</th>\n",
       "      <td>Rwanda</td>\n",
       "      <td>151</td>\n",
       "      <td>3.471</td>\n",
       "      <td>2017</td>\n",
       "    </tr>\n",
       "    <tr>\n",
       "      <th>466</th>\n",
       "      <td>Syria</td>\n",
       "      <td>152</td>\n",
       "      <td>3.462</td>\n",
       "      <td>2017</td>\n",
       "    </tr>\n",
       "    <tr>\n",
       "      <th>467</th>\n",
       "      <td>Tanzania</td>\n",
       "      <td>153</td>\n",
       "      <td>3.349</td>\n",
       "      <td>2017</td>\n",
       "    </tr>\n",
       "    <tr>\n",
       "      <th>468</th>\n",
       "      <td>Burundi</td>\n",
       "      <td>154</td>\n",
       "      <td>2.905</td>\n",
       "      <td>2017</td>\n",
       "    </tr>\n",
       "  </tbody>\n",
       "</table>\n",
       "<p>438 rows × 4 columns</p>\n",
       "</div>"
      ],
      "text/plain": [
       "         Country  Happiness_Rank  Happiness_Score  year\n",
       "0    Switzerland               1            7.587  2015\n",
       "1        Iceland               2            7.561  2015\n",
       "2        Denmark               3            7.527  2015\n",
       "3         Norway               4            7.522  2015\n",
       "4         Canada               5            7.427  2015\n",
       "..           ...             ...              ...   ...\n",
       "464         Togo             150            3.495  2017\n",
       "465       Rwanda             151            3.471  2017\n",
       "466        Syria             152            3.462  2017\n",
       "467     Tanzania             153            3.349  2017\n",
       "468      Burundi             154            2.905  2017\n",
       "\n",
       "[438 rows x 4 columns]"
      ]
     },
     "execution_count": 27,
     "metadata": {},
     "output_type": "execute_result"
    }
   ],
   "source": [
    "q3 = dataset11[dataset11['Country'].isin(q1_2.index.values)]\n",
    "q3"
   ]
  },
  {
   "cell_type": "code",
   "execution_count": 45,
   "id": "58c3efd6-f360-481e-87f4-9a1ec575818e",
   "metadata": {},
   "outputs": [],
   "source": [
    "# ' ', '-', '.' 변수명에 있으면 ols에서 사용 불가\n",
    "# C(수치형변수): 범주형으로 인식 -> 지정하지 않으면 regression\n",
    "anova = ols('Happiness_Score ~ C(year)', q3).fit()"
   ]
  },
  {
   "cell_type": "code",
   "execution_count": 46,
   "id": "87e866a3-58cf-4e8d-8cc1-0d5efc7510c5",
   "metadata": {},
   "outputs": [
    {
     "data": {
      "text/html": [
       "<div>\n",
       "<style scoped>\n",
       "    .dataframe tbody tr th:only-of-type {\n",
       "        vertical-align: middle;\n",
       "    }\n",
       "\n",
       "    .dataframe tbody tr th {\n",
       "        vertical-align: top;\n",
       "    }\n",
       "\n",
       "    .dataframe thead th {\n",
       "        text-align: right;\n",
       "    }\n",
       "</style>\n",
       "<table border=\"1\" class=\"dataframe\">\n",
       "  <thead>\n",
       "    <tr style=\"text-align: right;\">\n",
       "      <th></th>\n",
       "      <th>df</th>\n",
       "      <th>sum_sq</th>\n",
       "      <th>mean_sq</th>\n",
       "      <th>F</th>\n",
       "      <th>PR(&gt;F)</th>\n",
       "    </tr>\n",
       "  </thead>\n",
       "  <tbody>\n",
       "    <tr>\n",
       "      <th>C(year)</th>\n",
       "      <td>2.0</td>\n",
       "      <td>0.011198</td>\n",
       "      <td>0.005599</td>\n",
       "      <td>0.004277</td>\n",
       "      <td>0.995732</td>\n",
       "    </tr>\n",
       "    <tr>\n",
       "      <th>Residual</th>\n",
       "      <td>435.0</td>\n",
       "      <td>569.472307</td>\n",
       "      <td>1.309132</td>\n",
       "      <td>NaN</td>\n",
       "      <td>NaN</td>\n",
       "    </tr>\n",
       "  </tbody>\n",
       "</table>\n",
       "</div>"
      ],
      "text/plain": [
       "             df      sum_sq   mean_sq         F    PR(>F)\n",
       "C(year)     2.0    0.011198  0.005599  0.004277  0.995732\n",
       "Residual  435.0  569.472307  1.309132       NaN       NaN"
      ]
     },
     "execution_count": 46,
     "metadata": {},
     "output_type": "execute_result"
    }
   ],
   "source": [
    "anova_lm(anova)"
   ]
  },
  {
   "cell_type": "code",
   "execution_count": null,
   "id": "cafe9516-5d49-4b0c-a0ac-ea349c01d7e3",
   "metadata": {},
   "outputs": [],
   "source": [
    "# 통계량에 대한 분포(흩어진 정도)\n",
    "# p-value\n",
    "# 신뢰수준 1-a"
   ]
  },
  {
   "cell_type": "code",
   "execution_count": null,
   "id": "925bb980-a26a-48ca-80e1-5b165fc2adbf",
   "metadata": {},
   "outputs": [],
   "source": [
    "# (정답) 0.0042"
   ]
  },
  {
   "cell_type": "code",
   "execution_count": 40,
   "id": "e264018c-3a2b-4e96-a999-20f9c2fb4964",
   "metadata": {},
   "outputs": [],
   "source": [
    "# https://www.statsmodels.org/stable/search.html?q=pairwise_tukey#\n",
    "from statsmodels.stats.multicomp import pairwise_tukeyhsd"
   ]
  },
  {
   "cell_type": "code",
   "execution_count": 41,
   "id": "e8949b15-3f9e-4521-9754-8c11c20a7de8",
   "metadata": {},
   "outputs": [
    {
     "name": "stdout",
     "output_type": "stream",
     "text": [
      "Multiple Comparison of Means - Tukey HSD, FWER=0.05\n",
      "==================================================\n",
      "group1 group2 meandiff p-adj  lower  upper  reject\n",
      "--------------------------------------------------\n",
      "  2015   2016  -0.0112   0.9 -0.3261 0.3038  False\n",
      "  2015   2017   -0.001   0.9 -0.3159  0.314  False\n",
      "  2016   2017   0.0102   0.9 -0.3048 0.3251  False\n",
      "--------------------------------------------------\n"
     ]
    }
   ],
   "source": [
    "q3_out = pairwise_tukeyhsd(q3['Happiness_Score'], q3['year'])\n",
    "print(q3_out)"
   ]
  },
  {
   "cell_type": "code",
   "execution_count": 42,
   "id": "9e88fb5f-0006-451c-ae68-114d71557057",
   "metadata": {},
   "outputs": [
    {
     "data": {
      "text/plain": [
       "<statsmodels.sandbox.stats.multicomp.TukeyHSDResults at 0x27f2cdd0e88>"
      ]
     },
     "execution_count": 42,
     "metadata": {},
     "output_type": "execute_result"
    }
   ],
   "source": [
    "# q3_out => 안나옴"
   ]
  },
  {
   "cell_type": "code",
   "execution_count": null,
   "id": "218426e2-1980-49ac-986b-bec076a55a9f",
   "metadata": {},
   "outputs": [],
   "source": [
    "# 방법 2. f_oneway"
   ]
  },
  {
   "cell_type": "code",
   "execution_count": 43,
   "id": "b0345e99-ae7e-4795-b37d-aa1735dacbf8",
   "metadata": {},
   "outputs": [
    {
     "data": {
      "text/plain": [
       "F_onewayResult(statistic=0.004276725037689305, pvalue=0.9957324489944479)"
      ]
     },
     "execution_count": 43,
     "metadata": {},
     "output_type": "execute_result"
    }
   ],
   "source": [
    "from scipy.stats import f_oneway\n",
    "\n",
    "f_oneway(q1_2[2015], q1_2[2016], q1_2[2017])"
   ]
  },
  {
   "cell_type": "code",
   "execution_count": 44,
   "id": "957d0032-bbd5-4ad7-aba1-b2fce6d60213",
   "metadata": {},
   "outputs": [
    {
     "data": {
      "text/plain": [
       "F_onewayResult(statistic=0.004276725037689305, pvalue=0.9957324489944479)"
      ]
     },
     "execution_count": 44,
     "metadata": {},
     "output_type": "execute_result"
    }
   ],
   "source": [
    "f_oneway(q1_2[2015].values, q1_2[2016].values, q1_2[2017].values)"
   ]
  },
  {
   "cell_type": "markdown",
   "id": "f4668d48-557b-427e-a762-5cda09717d16",
   "metadata": {},
   "source": [
    "# Dataset_12"
   ]
  },
  {
   "cell_type": "code",
   "execution_count": null,
   "id": "bf6f92ad-550e-4d4e-907d-8fd539e5580e",
   "metadata": {},
   "outputs": [],
   "source": [
    "# =============================================================================\n",
    "# =============================================================================\n",
    "# # 문제 12 유형(DataSet_12.csv 이용)\n",
    "\n",
    "# 구분자 : comma(“,”), 5000 Rows, 7 Columns, UTF-8 인코딩\n",
    "\n",
    "# 직장인의 독서 실태를 분석하기 위해서 수도권 거주자 5000명을\n",
    "# 대상으로 간단한 인적 사항과 연간 독서량 정보를 취합하였다.\n",
    "\n",
    "# 컬 럼 / 정 의 / Type\n",
    "# Age / 나이 / String\n",
    "# Gender / 성별(M: 남성) / String\n",
    "# Dependent_Count / 부양가족 수 / Double\n",
    "# Education_Level / 교육 수준 / String\n",
    "# is_Married / 결혼 여부(1: 결혼) / Double\n",
    "# Read_Book_per_Year / 연간 독서량(권) / Double\n",
    "# Income_Range / 소득 수준에 따른 구간(A < B < C < D < E)이며 X는\n",
    "# 정보 누락 / String\n",
    "# =============================================================================\n",
    "# ============================================================================="
   ]
  },
  {
   "cell_type": "code",
   "execution_count": 47,
   "id": "58bde7fd-507a-42b4-b617-1a8b69260714",
   "metadata": {},
   "outputs": [],
   "source": [
    "import pandas as pd"
   ]
  },
  {
   "cell_type": "code",
   "execution_count": 47,
   "id": "c280cb28-5766-44a0-8e53-5a53886b94b5",
   "metadata": {},
   "outputs": [],
   "source": [
    "dataset12 = pd.read_csv('Dataset/Dataset_12.csv')"
   ]
  },
  {
   "cell_type": "markdown",
   "id": "d302eabc-ca62-4d82-8526-6e1a4d16fe34",
   "metadata": {},
   "source": [
    "## 1. "
   ]
  },
  {
   "cell_type": "code",
   "execution_count": null,
   "id": "0d022250-5b33-4427-bce9-abea3df039ac",
   "metadata": {},
   "outputs": [],
   "source": [
    "# =============================================================================\n",
    "# 1.수치형 변수를 대상으로 피어슨 상관분석을 실시하고 연간 독서량과 가장\n",
    "# 상관관계가 강한 변수의 상관계수를 기술하시오\n",
    "# - 상관계수는 반올림하여 소수점 셋째 자리까지 기술하시오. (답안 예시) 0.123\n",
    "# ============================================================================="
   ]
  },
  {
   "cell_type": "code",
   "execution_count": null,
   "id": "f6bfc628-4855-42e5-9454-45ac8614d167",
   "metadata": {},
   "outputs": [],
   "source": []
  },
  {
   "cell_type": "code",
   "execution_count": null,
   "id": "f4f2f6da-b1f3-41ae-a32c-f18dabdceafb",
   "metadata": {},
   "outputs": [],
   "source": []
  },
  {
   "cell_type": "markdown",
   "id": "5fa5357d-c2ae-4c1a-8062-dfa0165b0ee4",
   "metadata": {},
   "source": [
    "## 2. "
   ]
  },
  {
   "cell_type": "code",
   "execution_count": null,
   "id": "60484f27-d43e-4f88-a828-dace3d1fb698",
   "metadata": {},
   "outputs": [],
   "source": [
    "# =============================================================================\n",
    "# 2.석사 이상(석사 및 박사) 여부에 따라서 연간 독서량 평균이 유의미하게 다른지 가설\n",
    "# 검정을 활용하여 알아보고자 한다. 독립 2표본 t검정을 실시했을 때 \n",
    "# 유의 확률(p\u0002value)의 값을 기술하시오.\n",
    "# - 등분산 가정 하에서 검정을 실시한다.\n",
    "# - 유의 확률은 반올림하여 소수점 셋째 자리까지 기술한다. (답안 예시) 0.123\n",
    "# ============================================================================="
   ]
  },
  {
   "cell_type": "code",
   "execution_count": null,
   "id": "b4afb4fd-2826-4e7c-9865-7080111b4ec5",
   "metadata": {},
   "outputs": [],
   "source": []
  },
  {
   "cell_type": "code",
   "execution_count": null,
   "id": "3c329c47-76be-4ad3-ba52-881f39f8b705",
   "metadata": {},
   "outputs": [],
   "source": []
  },
  {
   "cell_type": "markdown",
   "id": "642d9966-0821-41a8-8d50-7bcd661598e1",
   "metadata": {},
   "source": [
    "## 3. Multiple Regression"
   ]
  },
  {
   "cell_type": "code",
   "execution_count": null,
   "id": "8101a76e-75b8-4d2a-aa5c-9e5a693d6bb5",
   "metadata": {},
   "outputs": [],
   "source": [
    "# =============================================================================\n",
    "# 3.독서량과 다른 수치형 변수의 관계를 다중선형회귀분석을 활용하여 알아보고자 한다. \n",
    "# 연간 독서량을 종속변수, 나머지 수치형 자료를 독립변수로 한다. 이렇게 생성한\n",
    "# 선형회귀 모델을 기준으로 다른 독립변수가 고정이면서 나이만 다를 때, 40살은 30살\n",
    "# 보다 독서량이 얼마나 많은가?\n",
    "# - 학사 이상이면서 소득 구간 정보가 있는 데이터만 사용하여 분석을 실시하시오.\n",
    "# - 결과값은 반올림하여 정수로 표기하시오. (답안 예시) 1\n",
    "# =============================================================================\n",
    "\n",
    "# (참고)\n",
    "# from statsmodels.formula.api import ols"
   ]
  },
  {
   "cell_type": "code",
   "execution_count": 48,
   "id": "9e76a035-3a17-40b1-88e5-135bac6b60fa",
   "metadata": {},
   "outputs": [
    {
     "data": {
      "text/plain": [
       "Index(['Age', 'Gender', 'Dependent_Count', 'Education_Level', 'is_Married',\n",
       "       'Read_Book_per_Year', 'Income_Range'],\n",
       "      dtype='object')"
      ]
     },
     "execution_count": 48,
     "metadata": {},
     "output_type": "execute_result"
    }
   ],
   "source": [
    "dataset12.columns"
   ]
  },
  {
   "cell_type": "code",
   "execution_count": 49,
   "id": "6dee9a10-a6f2-4cfd-9b56-fc140fe46468",
   "metadata": {},
   "outputs": [],
   "source": [
    "from statsmodels.formula.api import ols"
   ]
  },
  {
   "cell_type": "code",
   "execution_count": 50,
   "id": "379d6af9-b6e6-4a87-829d-fa9fb1243452",
   "metadata": {},
   "outputs": [],
   "source": [
    "var_list = dataset12.columns[dataset12.dtypes != 'object'].drop('Read_Book_per_Year')"
   ]
  },
  {
   "cell_type": "code",
   "execution_count": 53,
   "id": "85c90e69-46c3-4e7b-b39c-de171fa3d688",
   "metadata": {},
   "outputs": [
    {
     "data": {
      "text/plain": [
       "'Read_Book_per_Year~Age+Dependent_Count+is_Married'"
      ]
     },
     "execution_count": 53,
     "metadata": {},
     "output_type": "execute_result"
    }
   ],
   "source": [
    "form = 'Read_Book_per_Year~'+'+'.join(var_list)\n",
    "form"
   ]
  },
  {
   "cell_type": "code",
   "execution_count": 54,
   "id": "3b5015a5-be76-44b2-8574-7717f947bbaf",
   "metadata": {},
   "outputs": [],
   "source": [
    "ols1 = ols(form, data=dataset12).fit()"
   ]
  },
  {
   "cell_type": "code",
   "execution_count": 55,
   "id": "b8eba5b7-6aa0-4fa8-b793-58c70e11263a",
   "metadata": {},
   "outputs": [
    {
     "data": {
      "text/html": [
       "<table class=\"simpletable\">\n",
       "<caption>OLS Regression Results</caption>\n",
       "<tr>\n",
       "  <th>Dep. Variable:</th>    <td>Read_Book_per_Year</td> <th>  R-squared:         </th> <td>   0.635</td> \n",
       "</tr>\n",
       "<tr>\n",
       "  <th>Model:</th>                    <td>OLS</td>        <th>  Adj. R-squared:    </th> <td>   0.635</td> \n",
       "</tr>\n",
       "<tr>\n",
       "  <th>Method:</th>              <td>Least Squares</td>   <th>  F-statistic:       </th> <td>   2901.</td> \n",
       "</tr>\n",
       "<tr>\n",
       "  <th>Date:</th>              <td>Tue, 24 Aug 2021</td>  <th>  Prob (F-statistic):</th>  <td>  0.00</td>  \n",
       "</tr>\n",
       "<tr>\n",
       "  <th>Time:</th>                  <td>15:58:58</td>      <th>  Log-Likelihood:    </th> <td> -15057.</td> \n",
       "</tr>\n",
       "<tr>\n",
       "  <th>No. Observations:</th>       <td>  5000</td>       <th>  AIC:               </th> <td>3.012e+04</td>\n",
       "</tr>\n",
       "<tr>\n",
       "  <th>Df Residuals:</th>           <td>  4996</td>       <th>  BIC:               </th> <td>3.015e+04</td>\n",
       "</tr>\n",
       "<tr>\n",
       "  <th>Df Model:</th>               <td>     3</td>       <th>                     </th>     <td> </td>    \n",
       "</tr>\n",
       "<tr>\n",
       "  <th>Covariance Type:</th>       <td>nonrobust</td>     <th>                     </th>     <td> </td>    \n",
       "</tr>\n",
       "</table>\n",
       "<table class=\"simpletable\">\n",
       "<tr>\n",
       "         <td></td>            <th>coef</th>     <th>std err</th>      <th>t</th>      <th>P>|t|</th>  <th>[0.025</th>    <th>0.975]</th>  \n",
       "</tr>\n",
       "<tr>\n",
       "  <th>Intercept</th>       <td>   -0.3231</td> <td>    0.445</td> <td>   -0.726</td> <td> 0.468</td> <td>   -1.195</td> <td>    0.549</td>\n",
       "</tr>\n",
       "<tr>\n",
       "  <th>Age</th>             <td>    0.7894</td> <td>    0.009</td> <td>   91.923</td> <td> 0.000</td> <td>    0.773</td> <td>    0.806</td>\n",
       "</tr>\n",
       "<tr>\n",
       "  <th>Dependent_Count</th> <td>   -0.1150</td> <td>    0.054</td> <td>   -2.116</td> <td> 0.034</td> <td>   -0.221</td> <td>   -0.008</td>\n",
       "</tr>\n",
       "<tr>\n",
       "  <th>is_Married</th>      <td>   -0.0719</td> <td>    0.140</td> <td>   -0.514</td> <td> 0.608</td> <td>   -0.346</td> <td>    0.203</td>\n",
       "</tr>\n",
       "</table>\n",
       "<table class=\"simpletable\">\n",
       "<tr>\n",
       "  <th>Omnibus:</th>       <td>72.985</td> <th>  Durbin-Watson:     </th> <td>   2.026</td>\n",
       "</tr>\n",
       "<tr>\n",
       "  <th>Prob(Omnibus):</th> <td> 0.000</td> <th>  Jarque-Bera (JB):  </th> <td>  76.307</td>\n",
       "</tr>\n",
       "<tr>\n",
       "  <th>Skew:</th>          <td>-0.288</td> <th>  Prob(JB):          </th> <td>2.69e-17</td>\n",
       "</tr>\n",
       "<tr>\n",
       "  <th>Kurtosis:</th>      <td> 3.183</td> <th>  Cond. No.          </th> <td>    303.</td>\n",
       "</tr>\n",
       "</table><br/><br/>Notes:<br/>[1] Standard Errors assume that the covariance matrix of the errors is correctly specified."
      ],
      "text/plain": [
       "<class 'statsmodels.iolib.summary.Summary'>\n",
       "\"\"\"\n",
       "                            OLS Regression Results                            \n",
       "==============================================================================\n",
       "Dep. Variable:     Read_Book_per_Year   R-squared:                       0.635\n",
       "Model:                            OLS   Adj. R-squared:                  0.635\n",
       "Method:                 Least Squares   F-statistic:                     2901.\n",
       "Date:                Tue, 24 Aug 2021   Prob (F-statistic):               0.00\n",
       "Time:                        15:58:58   Log-Likelihood:                -15057.\n",
       "No. Observations:                5000   AIC:                         3.012e+04\n",
       "Df Residuals:                    4996   BIC:                         3.015e+04\n",
       "Df Model:                           3                                         \n",
       "Covariance Type:            nonrobust                                         \n",
       "===================================================================================\n",
       "                      coef    std err          t      P>|t|      [0.025      0.975]\n",
       "-----------------------------------------------------------------------------------\n",
       "Intercept          -0.3231      0.445     -0.726      0.468      -1.195       0.549\n",
       "Age                 0.7894      0.009     91.923      0.000       0.773       0.806\n",
       "Dependent_Count    -0.1150      0.054     -2.116      0.034      -0.221      -0.008\n",
       "is_Married         -0.0719      0.140     -0.514      0.608      -0.346       0.203\n",
       "==============================================================================\n",
       "Omnibus:                       72.985   Durbin-Watson:                   2.026\n",
       "Prob(Omnibus):                  0.000   Jarque-Bera (JB):               76.307\n",
       "Skew:                          -0.288   Prob(JB):                     2.69e-17\n",
       "Kurtosis:                       3.183   Cond. No.                         303.\n",
       "==============================================================================\n",
       "\n",
       "Notes:\n",
       "[1] Standard Errors assume that the covariance matrix of the errors is correctly specified.\n",
       "\"\"\""
      ]
     },
     "execution_count": 55,
     "metadata": {},
     "output_type": "execute_result"
    }
   ],
   "source": [
    "ols1.summary()"
   ]
  },
  {
   "cell_type": "code",
   "execution_count": 57,
   "id": "0e88540b-a8b1-45f8-9ccd-a832c82c96c1",
   "metadata": {},
   "outputs": [
    {
     "data": {
      "text/plain": [
       "7.894"
      ]
     },
     "execution_count": 57,
     "metadata": {},
     "output_type": "execute_result"
    }
   ],
   "source": [
    "q3_ans = 0.7894 * 10\n",
    "q3_ans"
   ]
  },
  {
   "cell_type": "code",
   "execution_count": null,
   "id": "b238960b-1003-4fff-a17d-e740afd79683",
   "metadata": {},
   "outputs": [],
   "source": [
    "# (정답) 8"
   ]
  },
  {
   "cell_type": "markdown",
   "id": "09aaa25b-9f84-426e-99bb-d020d1fc3405",
   "metadata": {},
   "source": [
    "# Dataset_13"
   ]
  },
  {
   "cell_type": "code",
   "execution_count": null,
   "id": "4e790918-3b2f-41fa-b559-d453a8bfbe79",
   "metadata": {},
   "outputs": [],
   "source": [
    "# =============================================================================\n",
    "# =============================================================================\n",
    "# # 문제 13 유형(DataSet13_train.csv / DataSet13_test.csv  이용)\n",
    "\n",
    "# 구분자 : \n",
    "#     comma(“,”), 1500 Rows, 10 Columns, UTF-8 인코딩 / \n",
    "#     comma(“,”), 500 Rows, 10 Columns, UTF-8 인코딩\n",
    "\n",
    "# 전국의 데이터 분석가 2000명을 대상으로 이직 관련 설문조사를 실시하였다. \n",
    "# 설문 대상자의 특성 및 이직 의사와 관련 인자를 면밀히 살펴보기 위해 다양한\n",
    "# 분석을 실시하고자 한다.\n",
    "\n",
    "# 컬 럼 / 정 의 / Type\n",
    "# city_development_index / 거주 도시 개발 지수 / Double\n",
    "# gender / 성별 / String\n",
    "# relevent_experience / 관련 직무 경험 여부(1 : 유경험) / Integer\n",
    "# enrolled_university / 대학 등록 형태(1 : 풀타임/파트타임) / Integer\n",
    "# education_level / 교육 수준 / String\n",
    "# major_discipline / 전공 / String\n",
    "# experience / 경력 / Double\n",
    "# last_new_job / 현 직장 직전 직무 공백 기간 / Double\n",
    "# training_hours / 관련 직무 교육 이수 시간 / Double\n",
    "# target / 이직 의사 여부(1 : 의사 있음) / Integer\n",
    "# =============================================================================\n",
    "# ============================================================================="
   ]
  },
  {
   "cell_type": "code",
   "execution_count": 58,
   "id": "e7d54c4c-8e10-4737-b3f7-fe0e07bec6f6",
   "metadata": {},
   "outputs": [],
   "source": [
    "import pandas as pd"
   ]
  },
  {
   "cell_type": "code",
   "execution_count": 60,
   "id": "5434484f-c919-4c97-a3f0-30e20a05f6be",
   "metadata": {},
   "outputs": [],
   "source": [
    "dataset13_train = pd.read_csv('Dataset/Dataset_13_train.csv')\n",
    "dataset13_test = pd.read_csv('Dataset/Dataset_13_test.csv')"
   ]
  },
  {
   "cell_type": "markdown",
   "id": "9f97bd3c-b9f9-435c-8290-e30a9cd9ceb1",
   "metadata": {},
   "source": [
    "## 1."
   ]
  },
  {
   "cell_type": "code",
   "execution_count": null,
   "id": "0caed02c-db07-42ec-bcf0-7bd674aa02ef",
   "metadata": {},
   "outputs": [],
   "source": [
    "# =============================================================================\n",
    "# 1.(Dataset_13_train.csv를 활용하여) 경력과 최근 이직시 공백기간의 상관관계를 보고자\n",
    "# 한다. 남여별 피어슨 상관계수를 각각 산출하고 더 높은 상관계수를 기술하시오.\n",
    "# - 상관계수는 반올림하여 소수점 둘째 자리까지 기술하시오. (답안 예시) 0.12\n",
    "# ============================================================================="
   ]
  },
  {
   "cell_type": "code",
   "execution_count": 85,
   "id": "2322440d-4269-4233-a659-1d09aa545309",
   "metadata": {},
   "outputs": [
    {
     "data": {
      "text/html": [
       "<div>\n",
       "<style scoped>\n",
       "    .dataframe tbody tr th:only-of-type {\n",
       "        vertical-align: middle;\n",
       "    }\n",
       "\n",
       "    .dataframe tbody tr th {\n",
       "        vertical-align: top;\n",
       "    }\n",
       "\n",
       "    .dataframe thead th {\n",
       "        text-align: right;\n",
       "    }\n",
       "</style>\n",
       "<table border=\"1\" class=\"dataframe\">\n",
       "  <thead>\n",
       "    <tr style=\"text-align: right;\">\n",
       "      <th></th>\n",
       "      <th>city_development_index</th>\n",
       "      <th>gender</th>\n",
       "      <th>relevent_experience</th>\n",
       "      <th>enrolled_university</th>\n",
       "      <th>education_level</th>\n",
       "      <th>major_discipline</th>\n",
       "      <th>experience</th>\n",
       "      <th>last_new_job</th>\n",
       "      <th>training_hours</th>\n",
       "      <th>target</th>\n",
       "    </tr>\n",
       "  </thead>\n",
       "  <tbody>\n",
       "    <tr>\n",
       "      <th>0</th>\n",
       "      <td>0.516</td>\n",
       "      <td>Male</td>\n",
       "      <td>1</td>\n",
       "      <td>0</td>\n",
       "      <td>Graduate</td>\n",
       "      <td>STEM</td>\n",
       "      <td>13</td>\n",
       "      <td>5</td>\n",
       "      <td>36</td>\n",
       "      <td>1</td>\n",
       "    </tr>\n",
       "    <tr>\n",
       "      <th>1</th>\n",
       "      <td>0.766</td>\n",
       "      <td>Male</td>\n",
       "      <td>1</td>\n",
       "      <td>0</td>\n",
       "      <td>Graduate</td>\n",
       "      <td>STEM</td>\n",
       "      <td>12</td>\n",
       "      <td>5</td>\n",
       "      <td>264</td>\n",
       "      <td>0</td>\n",
       "    </tr>\n",
       "    <tr>\n",
       "      <th>2</th>\n",
       "      <td>0.920</td>\n",
       "      <td>Male</td>\n",
       "      <td>1</td>\n",
       "      <td>0</td>\n",
       "      <td>Masters</td>\n",
       "      <td>STEM</td>\n",
       "      <td>10</td>\n",
       "      <td>2</td>\n",
       "      <td>99</td>\n",
       "      <td>0</td>\n",
       "    </tr>\n",
       "    <tr>\n",
       "      <th>3</th>\n",
       "      <td>0.899</td>\n",
       "      <td>Male</td>\n",
       "      <td>1</td>\n",
       "      <td>0</td>\n",
       "      <td>Graduate</td>\n",
       "      <td>Business Degree</td>\n",
       "      <td>16</td>\n",
       "      <td>1</td>\n",
       "      <td>20</td>\n",
       "      <td>0</td>\n",
       "    </tr>\n",
       "    <tr>\n",
       "      <th>4</th>\n",
       "      <td>0.884</td>\n",
       "      <td>Male</td>\n",
       "      <td>1</td>\n",
       "      <td>0</td>\n",
       "      <td>Masters</td>\n",
       "      <td>STEM</td>\n",
       "      <td>20</td>\n",
       "      <td>5</td>\n",
       "      <td>39</td>\n",
       "      <td>0</td>\n",
       "    </tr>\n",
       "  </tbody>\n",
       "</table>\n",
       "</div>"
      ],
      "text/plain": [
       "   city_development_index gender  relevent_experience  enrolled_university  \\\n",
       "0                   0.516   Male                    1                    0   \n",
       "1                   0.766   Male                    1                    0   \n",
       "2                   0.920   Male                    1                    0   \n",
       "3                   0.899   Male                    1                    0   \n",
       "4                   0.884   Male                    1                    0   \n",
       "\n",
       "  education_level major_discipline  experience  last_new_job  training_hours  \\\n",
       "0        Graduate             STEM          13             5              36   \n",
       "1        Graduate             STEM          12             5             264   \n",
       "2         Masters             STEM          10             2              99   \n",
       "3        Graduate  Business Degree          16             1              20   \n",
       "4         Masters             STEM          20             5              39   \n",
       "\n",
       "   target  \n",
       "0       1  \n",
       "1       0  \n",
       "2       0  \n",
       "3       0  \n",
       "4       0  "
      ]
     },
     "execution_count": 85,
     "metadata": {},
     "output_type": "execute_result"
    }
   ],
   "source": [
    "train = dataset13_train.copy()\n",
    "train.head()"
   ]
  },
  {
   "cell_type": "code",
   "execution_count": 63,
   "id": "27eec7f2-f486-460c-94b7-51b5ed2b9932",
   "metadata": {},
   "outputs": [
    {
     "data": {
      "text/plain": [
       "-0.17305295855881508"
      ]
     },
     "execution_count": 63,
     "metadata": {},
     "output_type": "execute_result"
    }
   ],
   "source": [
    "train.corr()['experience']['target']"
   ]
  },
  {
   "cell_type": "code",
   "execution_count": null,
   "id": "85a0855f-6c1d-41dc-a7f7-59ffeba7658d",
   "metadata": {},
   "outputs": [],
   "source": [
    "# (답) -0.17 -> 오답: 남여별"
   ]
  },
  {
   "cell_type": "code",
   "execution_count": null,
   "id": "b8f15189-8a10-4629-b258-5c4ca5167d9c",
   "metadata": {},
   "outputs": [],
   "source": [
    "# 오답풀이"
   ]
  },
  {
   "cell_type": "code",
   "execution_count": null,
   "id": "bc39c7f1-c68d-4b66-bd52-130745e18a7c",
   "metadata": {},
   "outputs": [],
   "source": []
  },
  {
   "cell_type": "code",
   "execution_count": null,
   "id": "7aa4c8d8-b6c5-4c9c-8be5-2e8cc63fb29f",
   "metadata": {},
   "outputs": [],
   "source": []
  },
  {
   "cell_type": "markdown",
   "id": "67d44a6f-c665-4acc-b4c1-47e5310242ff",
   "metadata": {},
   "source": [
    "### 해설"
   ]
  },
  {
   "cell_type": "code",
   "execution_count": 100,
   "id": "690087f4-130c-4436-9c61-dc9e0526d4cc",
   "metadata": {},
   "outputs": [],
   "source": [
    "df = pd.read_csv('Dataset/Dataset_13_train.csv')"
   ]
  },
  {
   "cell_type": "code",
   "execution_count": 101,
   "id": "4db2f76f-041f-48ed-b328-1b6bf253fbcb",
   "metadata": {},
   "outputs": [
    {
     "data": {
      "text/html": [
       "<div>\n",
       "<style scoped>\n",
       "    .dataframe tbody tr th:only-of-type {\n",
       "        vertical-align: middle;\n",
       "    }\n",
       "\n",
       "    .dataframe tbody tr th {\n",
       "        vertical-align: top;\n",
       "    }\n",
       "\n",
       "    .dataframe thead th {\n",
       "        text-align: right;\n",
       "    }\n",
       "</style>\n",
       "<table border=\"1\" class=\"dataframe\">\n",
       "  <thead>\n",
       "    <tr style=\"text-align: right;\">\n",
       "      <th></th>\n",
       "      <th></th>\n",
       "      <th>experience</th>\n",
       "      <th>last_new_job</th>\n",
       "    </tr>\n",
       "    <tr>\n",
       "      <th>gender</th>\n",
       "      <th></th>\n",
       "      <th></th>\n",
       "      <th></th>\n",
       "    </tr>\n",
       "  </thead>\n",
       "  <tbody>\n",
       "    <tr>\n",
       "      <th rowspan=\"2\" valign=\"top\">Female</th>\n",
       "      <th>experience</th>\n",
       "      <td>1.000000</td>\n",
       "      <td>0.451898</td>\n",
       "    </tr>\n",
       "    <tr>\n",
       "      <th>last_new_job</th>\n",
       "      <td>0.451898</td>\n",
       "      <td>1.000000</td>\n",
       "    </tr>\n",
       "    <tr>\n",
       "      <th rowspan=\"2\" valign=\"top\">Male</th>\n",
       "      <th>experience</th>\n",
       "      <td>1.000000</td>\n",
       "      <td>0.411155</td>\n",
       "    </tr>\n",
       "    <tr>\n",
       "      <th>last_new_job</th>\n",
       "      <td>0.411155</td>\n",
       "      <td>1.000000</td>\n",
       "    </tr>\n",
       "  </tbody>\n",
       "</table>\n",
       "</div>"
      ],
      "text/plain": [
       "                     experience  last_new_job\n",
       "gender                                       \n",
       "Female experience      1.000000      0.451898\n",
       "       last_new_job    0.451898      1.000000\n",
       "Male   experience      1.000000      0.411155\n",
       "       last_new_job    0.411155      1.000000"
      ]
     },
     "execution_count": 101,
     "metadata": {},
     "output_type": "execute_result"
    }
   ],
   "source": [
    "df.groupby([\"gender\"])[[\"experience\", \"last_new_job\"]].corr()"
   ]
  },
  {
   "cell_type": "code",
   "execution_count": null,
   "id": "8fe17114-dc68-4d0a-8eaf-3097d6f27375",
   "metadata": {},
   "outputs": [],
   "source": [
    "# (정답) 0.45"
   ]
  },
  {
   "cell_type": "markdown",
   "id": "e388ce37-9246-4468-a92c-f1a02a298c7a",
   "metadata": {},
   "source": [
    "## 2."
   ]
  },
  {
   "cell_type": "code",
   "execution_count": null,
   "id": "f8491a73-f9bb-4ed0-971e-17cc44ef3aaf",
   "metadata": {},
   "outputs": [],
   "source": [
    "# =============================================================================\n",
    "# 2.(Dataset_13_train.csv를 활용하여) 기존 데이터 분석 관련 직무 경험과 이직 의사가 서로\n",
    "# 관련이 있는지 알아보고자 한다. 이를 위해 독립성 검정을 실시하고 해당 검정의 p-value를 기술하시오.\n",
    "# - 검정은 STEM 전공자를 대상으로 한다.\n",
    "# - 검정은 충분히 발달된 도시(도시 개발 지수가 제 85 백분위수 초과)에 거주하는 사람을\n",
    "# 대상으로 한다.\n",
    "# - 이직 의사 여부(target)은 문자열로 변경 후 사용한다.\n",
    "# - p-value는 반올림하여 소수점 둘째 자리까지 기술하시오. (답안 예시) 0.12\n",
    "# ============================================================================="
   ]
  },
  {
   "cell_type": "code",
   "execution_count": 80,
   "id": "6d823e07-7072-4a4e-b01e-5d819582a279",
   "metadata": {},
   "outputs": [],
   "source": [
    "import numpy as np"
   ]
  },
  {
   "cell_type": "code",
   "execution_count": 86,
   "id": "7f088fcc-9ec6-4ee6-9e8e-e0f8049f8b13",
   "metadata": {},
   "outputs": [],
   "source": [
    "q2 = train.copy()"
   ]
  },
  {
   "cell_type": "code",
   "execution_count": 87,
   "id": "945a62fe-175d-4156-a6b8-dfe0e8aecbd0",
   "metadata": {},
   "outputs": [
    {
     "data": {
      "text/plain": [
       "Index(['city_development_index', 'gender', 'relevent_experience',\n",
       "       'enrolled_university', 'education_level', 'major_discipline',\n",
       "       'experience', 'last_new_job', 'training_hours', 'target'],\n",
       "      dtype='object')"
      ]
     },
     "execution_count": 87,
     "metadata": {},
     "output_type": "execute_result"
    }
   ],
   "source": [
    "q2.columns"
   ]
  },
  {
   "cell_type": "code",
   "execution_count": 88,
   "id": "8aa341ff-27d2-445f-973f-25d4fff4031e",
   "metadata": {},
   "outputs": [],
   "source": [
    "q2['target'] = np.where(q2.target == 1, '1', '0')"
   ]
  },
  {
   "cell_type": "code",
   "execution_count": 89,
   "id": "385ab6ca-d2ab-4c91-9e15-9201313f43e9",
   "metadata": {},
   "outputs": [
    {
     "data": {
      "text/plain": [
       "0       0.516\n",
       "1       0.766\n",
       "2       0.920\n",
       "3       0.899\n",
       "4       0.884\n",
       "        ...  \n",
       "1495    0.920\n",
       "1496    0.890\n",
       "1497    0.920\n",
       "1498    0.920\n",
       "1499    0.802\n",
       "Name: city_development_index, Length: 1500, dtype: float64"
      ]
     },
     "execution_count": 89,
     "metadata": {},
     "output_type": "execute_result"
    }
   ],
   "source": [
    "q2.city_development_index"
   ]
  },
  {
   "cell_type": "code",
   "execution_count": 71,
   "id": "6b44d6ca-22ba-48a3-95fd-83a2de0f2447",
   "metadata": {},
   "outputs": [
    {
     "data": {
      "text/plain": [
       "0.91"
      ]
     },
     "execution_count": 71,
     "metadata": {},
     "output_type": "execute_result"
    }
   ],
   "source": [
    "# q2.city_development_index.quantile()"
   ]
  },
  {
   "cell_type": "code",
   "execution_count": 90,
   "id": "f22bae67-919e-4d62-9758-3d7cc302bf38",
   "metadata": {},
   "outputs": [
    {
     "data": {
      "text/plain": [
       "0.9200000000000002"
      ]
     },
     "execution_count": 90,
     "metadata": {},
     "output_type": "execute_result"
    }
   ],
   "source": [
    "q_85 = q2.city_development_index.quantile(q=0.85)\n",
    "q_85"
   ]
  },
  {
   "cell_type": "code",
   "execution_count": 91,
   "id": "68ff9e43-31da-4fcf-8771-7023715c7258",
   "metadata": {},
   "outputs": [
    {
     "data": {
      "text/plain": [
       "array(['STEM', 'Business Degree', 'Arts', 'Humanities', 'Other'],\n",
       "      dtype=object)"
      ]
     },
     "execution_count": 91,
     "metadata": {},
     "output_type": "execute_result"
    }
   ],
   "source": [
    "q2.major_discipline.unique()"
   ]
  },
  {
   "cell_type": "code",
   "execution_count": 92,
   "id": "02b7e6cd-0f44-4bbc-8b95-c32d94523c91",
   "metadata": {},
   "outputs": [
    {
     "data": {
      "text/plain": [
       "1290"
      ]
     },
     "execution_count": 92,
     "metadata": {},
     "output_type": "execute_result"
    }
   ],
   "source": [
    "stem = q2[q2.major_discipline == 'STEM']\n",
    "len(stem)"
   ]
  },
  {
   "cell_type": "code",
   "execution_count": 93,
   "id": "65b5e6e9-bfce-4963-87dd-7903144df945",
   "metadata": {},
   "outputs": [
    {
     "data": {
      "text/plain": [
       "145"
      ]
     },
     "execution_count": 93,
     "metadata": {},
     "output_type": "execute_result"
    }
   ],
   "source": [
    "stem_85 = stem[stem.city_development_index > q_85]\n",
    "len(stem_85)"
   ]
  },
  {
   "cell_type": "code",
   "execution_count": 94,
   "id": "f72f0818-48d0-47bd-a396-33431c2c40d6",
   "metadata": {},
   "outputs": [
    {
     "data": {
      "text/plain": [
       "array(['1', '0'], dtype=object)"
      ]
     },
     "execution_count": 94,
     "metadata": {},
     "output_type": "execute_result"
    }
   ],
   "source": [
    "q2.target.unique()"
   ]
  },
  {
   "cell_type": "code",
   "execution_count": 95,
   "id": "22f624ae-2038-4d02-9cb0-09841038e6e0",
   "metadata": {},
   "outputs": [
    {
     "data": {
      "text/plain": [
       "array([1, 0], dtype=int64)"
      ]
     },
     "execution_count": 95,
     "metadata": {},
     "output_type": "execute_result"
    }
   ],
   "source": [
    "q2.relevent_experience.unique()"
   ]
  },
  {
   "cell_type": "code",
   "execution_count": 96,
   "id": "c276ca81-2da1-4a72-9a8e-6c917eef80d4",
   "metadata": {},
   "outputs": [
    {
     "data": {
      "text/html": [
       "<div>\n",
       "<style scoped>\n",
       "    .dataframe tbody tr th:only-of-type {\n",
       "        vertical-align: middle;\n",
       "    }\n",
       "\n",
       "    .dataframe tbody tr th {\n",
       "        vertical-align: top;\n",
       "    }\n",
       "\n",
       "    .dataframe thead th {\n",
       "        text-align: right;\n",
       "    }\n",
       "</style>\n",
       "<table border=\"1\" class=\"dataframe\">\n",
       "  <thead>\n",
       "    <tr style=\"text-align: right;\">\n",
       "      <th>relevent_experience</th>\n",
       "      <th>0</th>\n",
       "      <th>1</th>\n",
       "    </tr>\n",
       "    <tr>\n",
       "      <th>target</th>\n",
       "      <th></th>\n",
       "      <th></th>\n",
       "    </tr>\n",
       "  </thead>\n",
       "  <tbody>\n",
       "    <tr>\n",
       "      <th>0</th>\n",
       "      <td>213</td>\n",
       "      <td>907</td>\n",
       "    </tr>\n",
       "    <tr>\n",
       "      <th>1</th>\n",
       "      <td>143</td>\n",
       "      <td>237</td>\n",
       "    </tr>\n",
       "  </tbody>\n",
       "</table>\n",
       "</div>"
      ],
      "text/plain": [
       "relevent_experience    0    1\n",
       "target                       \n",
       "0                    213  907\n",
       "1                    143  237"
      ]
     },
     "execution_count": 96,
     "metadata": {},
     "output_type": "execute_result"
    }
   ],
   "source": [
    "q2_tab = pd.crosstab(index=q2['target'], columns=q2['relevent_experience'])\n",
    "q2_tab"
   ]
  },
  {
   "cell_type": "code",
   "execution_count": 97,
   "id": "1fd950e1-85b0-48bd-bc3d-28fa1e6eb418",
   "metadata": {},
   "outputs": [],
   "source": [
    "import scipy.stats as sc"
   ]
  },
  {
   "cell_type": "code",
   "execution_count": 99,
   "id": "042caf8d-4600-436f-b4cd-6cb513685498",
   "metadata": {},
   "outputs": [
    {
     "data": {
      "text/plain": [
       "(53.28695729305807,\n",
       " 2.882138021971537e-13,\n",
       " 1,\n",
       " array([[265.81333333, 854.18666667],\n",
       "        [ 90.18666667, 289.81333333]]))"
      ]
     },
     "execution_count": 99,
     "metadata": {},
     "output_type": "execute_result"
    }
   ],
   "source": [
    "q2_out = sc.chi2_contingency(q2_tab)\n",
    "q2_out"
   ]
  },
  {
   "cell_type": "markdown",
   "id": "65e075bb-0a70-421a-84a2-7a8d894e24a2",
   "metadata": {},
   "source": [
    "### 해설"
   ]
  },
  {
   "cell_type": "code",
   "execution_count": 102,
   "id": "80d108dc-298b-4f4b-b2fc-56df8363a1db",
   "metadata": {},
   "outputs": [],
   "source": [
    "from scipy.stats import chi2_contingency"
   ]
  },
  {
   "cell_type": "code",
   "execution_count": null,
   "id": "c478c935-c65d-47fb-96fe-a5683e84eb7d",
   "metadata": {},
   "outputs": [],
   "source": []
  },
  {
   "cell_type": "code",
   "execution_count": 103,
   "id": "2e62c585-9337-40fe-9c68-79083151af56",
   "metadata": {},
   "outputs": [],
   "source": [
    "df_q2 = \\\n",
    "df.loc[(df[\"major_discipline\"] == \"STEM\") & \n",
    "       (df[\"city_development_index\"] > df[\"city_development_index\"].quantile(0.85))]"
   ]
  },
  {
   "cell_type": "code",
   "execution_count": 108,
   "id": "ce51e2e2-d03f-487b-a6f0-2e9cc17a9070",
   "metadata": {},
   "outputs": [
    {
     "data": {
      "text/html": [
       "<div>\n",
       "<style scoped>\n",
       "    .dataframe tbody tr th:only-of-type {\n",
       "        vertical-align: middle;\n",
       "    }\n",
       "\n",
       "    .dataframe tbody tr th {\n",
       "        vertical-align: top;\n",
       "    }\n",
       "\n",
       "    .dataframe thead th {\n",
       "        text-align: right;\n",
       "    }\n",
       "</style>\n",
       "<table border=\"1\" class=\"dataframe\">\n",
       "  <thead>\n",
       "    <tr style=\"text-align: right;\">\n",
       "      <th></th>\n",
       "      <th>city_development_index</th>\n",
       "      <th>gender</th>\n",
       "      <th>relevent_experience</th>\n",
       "      <th>enrolled_university</th>\n",
       "      <th>education_level</th>\n",
       "      <th>major_discipline</th>\n",
       "      <th>experience</th>\n",
       "      <th>last_new_job</th>\n",
       "      <th>training_hours</th>\n",
       "      <th>target</th>\n",
       "    </tr>\n",
       "  </thead>\n",
       "  <tbody>\n",
       "    <tr>\n",
       "      <th>6</th>\n",
       "      <td>0.939</td>\n",
       "      <td>Female</td>\n",
       "      <td>1</td>\n",
       "      <td>0</td>\n",
       "      <td>Graduate</td>\n",
       "      <td>STEM</td>\n",
       "      <td>9</td>\n",
       "      <td>5</td>\n",
       "      <td>148</td>\n",
       "      <td>0</td>\n",
       "    </tr>\n",
       "    <tr>\n",
       "      <th>14</th>\n",
       "      <td>0.939</td>\n",
       "      <td>Male</td>\n",
       "      <td>1</td>\n",
       "      <td>0</td>\n",
       "      <td>Masters</td>\n",
       "      <td>STEM</td>\n",
       "      <td>20</td>\n",
       "      <td>1</td>\n",
       "      <td>73</td>\n",
       "      <td>0</td>\n",
       "    </tr>\n",
       "    <tr>\n",
       "      <th>20</th>\n",
       "      <td>0.925</td>\n",
       "      <td>Male</td>\n",
       "      <td>1</td>\n",
       "      <td>0</td>\n",
       "      <td>Masters</td>\n",
       "      <td>STEM</td>\n",
       "      <td>16</td>\n",
       "      <td>2</td>\n",
       "      <td>8</td>\n",
       "      <td>0</td>\n",
       "    </tr>\n",
       "    <tr>\n",
       "      <th>38</th>\n",
       "      <td>0.925</td>\n",
       "      <td>Male</td>\n",
       "      <td>1</td>\n",
       "      <td>0</td>\n",
       "      <td>Graduate</td>\n",
       "      <td>STEM</td>\n",
       "      <td>15</td>\n",
       "      <td>4</td>\n",
       "      <td>108</td>\n",
       "      <td>0</td>\n",
       "    </tr>\n",
       "    <tr>\n",
       "      <th>56</th>\n",
       "      <td>0.939</td>\n",
       "      <td>Male</td>\n",
       "      <td>0</td>\n",
       "      <td>0</td>\n",
       "      <td>Graduate</td>\n",
       "      <td>STEM</td>\n",
       "      <td>3</td>\n",
       "      <td>2</td>\n",
       "      <td>109</td>\n",
       "      <td>0</td>\n",
       "    </tr>\n",
       "    <tr>\n",
       "      <th>...</th>\n",
       "      <td>...</td>\n",
       "      <td>...</td>\n",
       "      <td>...</td>\n",
       "      <td>...</td>\n",
       "      <td>...</td>\n",
       "      <td>...</td>\n",
       "      <td>...</td>\n",
       "      <td>...</td>\n",
       "      <td>...</td>\n",
       "      <td>...</td>\n",
       "    </tr>\n",
       "    <tr>\n",
       "      <th>1428</th>\n",
       "      <td>0.926</td>\n",
       "      <td>Male</td>\n",
       "      <td>0</td>\n",
       "      <td>0</td>\n",
       "      <td>Masters</td>\n",
       "      <td>STEM</td>\n",
       "      <td>20</td>\n",
       "      <td>5</td>\n",
       "      <td>15</td>\n",
       "      <td>0</td>\n",
       "    </tr>\n",
       "    <tr>\n",
       "      <th>1448</th>\n",
       "      <td>0.923</td>\n",
       "      <td>Female</td>\n",
       "      <td>1</td>\n",
       "      <td>0</td>\n",
       "      <td>Graduate</td>\n",
       "      <td>STEM</td>\n",
       "      <td>20</td>\n",
       "      <td>2</td>\n",
       "      <td>56</td>\n",
       "      <td>1</td>\n",
       "    </tr>\n",
       "    <tr>\n",
       "      <th>1468</th>\n",
       "      <td>0.925</td>\n",
       "      <td>Male</td>\n",
       "      <td>0</td>\n",
       "      <td>1</td>\n",
       "      <td>Graduate</td>\n",
       "      <td>STEM</td>\n",
       "      <td>3</td>\n",
       "      <td>2</td>\n",
       "      <td>13</td>\n",
       "      <td>0</td>\n",
       "    </tr>\n",
       "    <tr>\n",
       "      <th>1469</th>\n",
       "      <td>0.939</td>\n",
       "      <td>Female</td>\n",
       "      <td>0</td>\n",
       "      <td>1</td>\n",
       "      <td>Graduate</td>\n",
       "      <td>STEM</td>\n",
       "      <td>9</td>\n",
       "      <td>0</td>\n",
       "      <td>9</td>\n",
       "      <td>1</td>\n",
       "    </tr>\n",
       "    <tr>\n",
       "      <th>1480</th>\n",
       "      <td>0.923</td>\n",
       "      <td>Female</td>\n",
       "      <td>1</td>\n",
       "      <td>0</td>\n",
       "      <td>Masters</td>\n",
       "      <td>STEM</td>\n",
       "      <td>12</td>\n",
       "      <td>1</td>\n",
       "      <td>81</td>\n",
       "      <td>0</td>\n",
       "    </tr>\n",
       "  </tbody>\n",
       "</table>\n",
       "<p>145 rows × 10 columns</p>\n",
       "</div>"
      ],
      "text/plain": [
       "      city_development_index  gender  relevent_experience  \\\n",
       "6                      0.939  Female                    1   \n",
       "14                     0.939    Male                    1   \n",
       "20                     0.925    Male                    1   \n",
       "38                     0.925    Male                    1   \n",
       "56                     0.939    Male                    0   \n",
       "...                      ...     ...                  ...   \n",
       "1428                   0.926    Male                    0   \n",
       "1448                   0.923  Female                    1   \n",
       "1468                   0.925    Male                    0   \n",
       "1469                   0.939  Female                    0   \n",
       "1480                   0.923  Female                    1   \n",
       "\n",
       "      enrolled_university education_level major_discipline  experience  \\\n",
       "6                       0        Graduate             STEM           9   \n",
       "14                      0         Masters             STEM          20   \n",
       "20                      0         Masters             STEM          16   \n",
       "38                      0        Graduate             STEM          15   \n",
       "56                      0        Graduate             STEM           3   \n",
       "...                   ...             ...              ...         ...   \n",
       "1428                    0         Masters             STEM          20   \n",
       "1448                    0        Graduate             STEM          20   \n",
       "1468                    1        Graduate             STEM           3   \n",
       "1469                    1        Graduate             STEM           9   \n",
       "1480                    0         Masters             STEM          12   \n",
       "\n",
       "      last_new_job  training_hours  target  \n",
       "6                5             148       0  \n",
       "14               1              73       0  \n",
       "20               2               8       0  \n",
       "38               4             108       0  \n",
       "56               2             109       0  \n",
       "...            ...             ...     ...  \n",
       "1428             5              15       0  \n",
       "1448             2              56       1  \n",
       "1468             2              13       0  \n",
       "1469             0               9       1  \n",
       "1480             1              81       0  \n",
       "\n",
       "[145 rows x 10 columns]"
      ]
     },
     "execution_count": 108,
     "metadata": {},
     "output_type": "execute_result"
    }
   ],
   "source": [
    "df_q2"
   ]
  },
  {
   "cell_type": "code",
   "execution_count": 107,
   "id": "61eb3742-7690-49a8-a072-a492d71cd9ac",
   "metadata": {},
   "outputs": [
    {
     "data": {
      "text/html": [
       "<div>\n",
       "<style scoped>\n",
       "    .dataframe tbody tr th:only-of-type {\n",
       "        vertical-align: middle;\n",
       "    }\n",
       "\n",
       "    .dataframe tbody tr th {\n",
       "        vertical-align: top;\n",
       "    }\n",
       "\n",
       "    .dataframe thead th {\n",
       "        text-align: right;\n",
       "    }\n",
       "</style>\n",
       "<table border=\"1\" class=\"dataframe\">\n",
       "  <thead>\n",
       "    <tr style=\"text-align: right;\">\n",
       "      <th></th>\n",
       "      <th>city_development_index</th>\n",
       "      <th>gender</th>\n",
       "      <th>relevent_experience</th>\n",
       "      <th>enrolled_university</th>\n",
       "      <th>education_level</th>\n",
       "      <th>major_discipline</th>\n",
       "      <th>experience</th>\n",
       "      <th>last_new_job</th>\n",
       "      <th>training_hours</th>\n",
       "      <th>target</th>\n",
       "    </tr>\n",
       "  </thead>\n",
       "  <tbody>\n",
       "    <tr>\n",
       "      <th>6</th>\n",
       "      <td>0.939</td>\n",
       "      <td>Female</td>\n",
       "      <td>1</td>\n",
       "      <td>0</td>\n",
       "      <td>Graduate</td>\n",
       "      <td>STEM</td>\n",
       "      <td>9</td>\n",
       "      <td>5</td>\n",
       "      <td>148</td>\n",
       "      <td>0</td>\n",
       "    </tr>\n",
       "    <tr>\n",
       "      <th>14</th>\n",
       "      <td>0.939</td>\n",
       "      <td>Male</td>\n",
       "      <td>1</td>\n",
       "      <td>0</td>\n",
       "      <td>Masters</td>\n",
       "      <td>STEM</td>\n",
       "      <td>20</td>\n",
       "      <td>1</td>\n",
       "      <td>73</td>\n",
       "      <td>0</td>\n",
       "    </tr>\n",
       "    <tr>\n",
       "      <th>20</th>\n",
       "      <td>0.925</td>\n",
       "      <td>Male</td>\n",
       "      <td>1</td>\n",
       "      <td>0</td>\n",
       "      <td>Masters</td>\n",
       "      <td>STEM</td>\n",
       "      <td>16</td>\n",
       "      <td>2</td>\n",
       "      <td>8</td>\n",
       "      <td>0</td>\n",
       "    </tr>\n",
       "    <tr>\n",
       "      <th>38</th>\n",
       "      <td>0.925</td>\n",
       "      <td>Male</td>\n",
       "      <td>1</td>\n",
       "      <td>0</td>\n",
       "      <td>Graduate</td>\n",
       "      <td>STEM</td>\n",
       "      <td>15</td>\n",
       "      <td>4</td>\n",
       "      <td>108</td>\n",
       "      <td>0</td>\n",
       "    </tr>\n",
       "    <tr>\n",
       "      <th>56</th>\n",
       "      <td>0.939</td>\n",
       "      <td>Male</td>\n",
       "      <td>0</td>\n",
       "      <td>0</td>\n",
       "      <td>Graduate</td>\n",
       "      <td>STEM</td>\n",
       "      <td>3</td>\n",
       "      <td>2</td>\n",
       "      <td>109</td>\n",
       "      <td>0</td>\n",
       "    </tr>\n",
       "    <tr>\n",
       "      <th>...</th>\n",
       "      <td>...</td>\n",
       "      <td>...</td>\n",
       "      <td>...</td>\n",
       "      <td>...</td>\n",
       "      <td>...</td>\n",
       "      <td>...</td>\n",
       "      <td>...</td>\n",
       "      <td>...</td>\n",
       "      <td>...</td>\n",
       "      <td>...</td>\n",
       "    </tr>\n",
       "    <tr>\n",
       "      <th>1428</th>\n",
       "      <td>0.926</td>\n",
       "      <td>Male</td>\n",
       "      <td>0</td>\n",
       "      <td>0</td>\n",
       "      <td>Masters</td>\n",
       "      <td>STEM</td>\n",
       "      <td>20</td>\n",
       "      <td>5</td>\n",
       "      <td>15</td>\n",
       "      <td>0</td>\n",
       "    </tr>\n",
       "    <tr>\n",
       "      <th>1448</th>\n",
       "      <td>0.923</td>\n",
       "      <td>Female</td>\n",
       "      <td>1</td>\n",
       "      <td>0</td>\n",
       "      <td>Graduate</td>\n",
       "      <td>STEM</td>\n",
       "      <td>20</td>\n",
       "      <td>2</td>\n",
       "      <td>56</td>\n",
       "      <td>1</td>\n",
       "    </tr>\n",
       "    <tr>\n",
       "      <th>1468</th>\n",
       "      <td>0.925</td>\n",
       "      <td>Male</td>\n",
       "      <td>0</td>\n",
       "      <td>1</td>\n",
       "      <td>Graduate</td>\n",
       "      <td>STEM</td>\n",
       "      <td>3</td>\n",
       "      <td>2</td>\n",
       "      <td>13</td>\n",
       "      <td>0</td>\n",
       "    </tr>\n",
       "    <tr>\n",
       "      <th>1469</th>\n",
       "      <td>0.939</td>\n",
       "      <td>Female</td>\n",
       "      <td>0</td>\n",
       "      <td>1</td>\n",
       "      <td>Graduate</td>\n",
       "      <td>STEM</td>\n",
       "      <td>9</td>\n",
       "      <td>0</td>\n",
       "      <td>9</td>\n",
       "      <td>1</td>\n",
       "    </tr>\n",
       "    <tr>\n",
       "      <th>1480</th>\n",
       "      <td>0.923</td>\n",
       "      <td>Female</td>\n",
       "      <td>1</td>\n",
       "      <td>0</td>\n",
       "      <td>Masters</td>\n",
       "      <td>STEM</td>\n",
       "      <td>12</td>\n",
       "      <td>1</td>\n",
       "      <td>81</td>\n",
       "      <td>0</td>\n",
       "    </tr>\n",
       "  </tbody>\n",
       "</table>\n",
       "<p>145 rows × 10 columns</p>\n",
       "</div>"
      ],
      "text/plain": [
       "      city_development_index  gender  relevent_experience  \\\n",
       "6                      0.939  Female                    1   \n",
       "14                     0.939    Male                    1   \n",
       "20                     0.925    Male                    1   \n",
       "38                     0.925    Male                    1   \n",
       "56                     0.939    Male                    0   \n",
       "...                      ...     ...                  ...   \n",
       "1428                   0.926    Male                    0   \n",
       "1448                   0.923  Female                    1   \n",
       "1468                   0.925    Male                    0   \n",
       "1469                   0.939  Female                    0   \n",
       "1480                   0.923  Female                    1   \n",
       "\n",
       "      enrolled_university education_level major_discipline  experience  \\\n",
       "6                       0        Graduate             STEM           9   \n",
       "14                      0         Masters             STEM          20   \n",
       "20                      0         Masters             STEM          16   \n",
       "38                      0        Graduate             STEM          15   \n",
       "56                      0        Graduate             STEM           3   \n",
       "...                   ...             ...              ...         ...   \n",
       "1428                    0         Masters             STEM          20   \n",
       "1448                    0        Graduate             STEM          20   \n",
       "1468                    1        Graduate             STEM           3   \n",
       "1469                    1        Graduate             STEM           9   \n",
       "1480                    0         Masters             STEM          12   \n",
       "\n",
       "      last_new_job  training_hours  target  \n",
       "6                5             148       0  \n",
       "14               1              73       0  \n",
       "20               2               8       0  \n",
       "38               4             108       0  \n",
       "56               2             109       0  \n",
       "...            ...             ...     ...  \n",
       "1428             5              15       0  \n",
       "1448             2              56       1  \n",
       "1468             2              13       0  \n",
       "1469             0               9       1  \n",
       "1480             1              81       0  \n",
       "\n",
       "[145 rows x 10 columns]"
      ]
     },
     "execution_count": 107,
     "metadata": {},
     "output_type": "execute_result"
    }
   ],
   "source": [
    "df[(df[\"major_discipline\"] == \"STEM\") & \n",
    "   (df[\"city_development_index\"] > df[\"city_development_index\"].quantile(0.85))]"
   ]
  },
  {
   "cell_type": "code",
   "execution_count": 104,
   "id": "7b1c9ae1-d2db-4caa-a970-79ff52953456",
   "metadata": {},
   "outputs": [
    {
     "data": {
      "text/plain": [
       "(0.22142211039568746,\n",
       " 0.6379584714909265,\n",
       " 1,\n",
       " array([[31.3862069,  5.6137931],\n",
       "        [91.6137931, 16.3862069]]))"
      ]
     },
     "execution_count": 104,
     "metadata": {},
     "output_type": "execute_result"
    }
   ],
   "source": [
    "chi2_contingency(pd.crosstab(df_q2[\"relevent_experience\"], df_q2[\"target\"]))"
   ]
  },
  {
   "cell_type": "code",
   "execution_count": 105,
   "id": "7184551c-a43a-4111-af37-ee89b1668ab4",
   "metadata": {},
   "outputs": [],
   "source": [
    "stat, p, dof, exp_v = \\\n",
    "chi2_contingency(pd.crosstab(df_q2[\"relevent_experience\"], df_q2[\"target\"]))"
   ]
  },
  {
   "cell_type": "code",
   "execution_count": 106,
   "id": "0254f353-55cd-4245-a1ee-674f77bd9c94",
   "metadata": {},
   "outputs": [
    {
     "data": {
      "text/plain": [
       "0.64"
      ]
     },
     "execution_count": 106,
     "metadata": {},
     "output_type": "execute_result"
    }
   ],
   "source": [
    "round(p, 2)"
   ]
  },
  {
   "cell_type": "code",
   "execution_count": null,
   "id": "7c5b4174-e8b3-4d4b-9592-190372a222bc",
   "metadata": {},
   "outputs": [],
   "source": [
    "# (정답) 0.64"
   ]
  },
  {
   "cell_type": "markdown",
   "id": "10981265-9dd0-4f47-ade6-477e75ce1807",
   "metadata": {},
   "source": [
    "## 3."
   ]
  },
  {
   "cell_type": "code",
   "execution_count": null,
   "id": "f2e6983c-2c96-4c78-9ce0-cf1772e4f1fe",
   "metadata": {},
   "outputs": [],
   "source": [
    "# =============================================================================\n",
    "# 3.(Dataset_13_train.csv를 활용하여) 인사팀에서는 어떤 직원이 이직 의사를 가지고 있을지\n",
    "# 사전에 파악하고 1:1 면담 등 집중 케어를 하고자 한다. 이를 위해 의사결정 나무를\n",
    "# 활용하여 모델을 생성하고 그 정확도를 확인하시오.\n",
    "# - target을 종속변수로 하고 나머지 변수 중 String이 아닌 변수를 독립변수로 한다.\n",
    "# - 학습은 전부 기본값으로 실시한다.\n",
    "# - 평가는 \"Dataset_13_test.csv\" 데이터로 실시한다.\n",
    "# - 정확도는 반올림하여 소수점 둘째 자리까지 기술하시오. (답안 예시) 0.12\n",
    "# \n",
    "# =============================================================================\n",
    "\n",
    "# (참고)\n",
    "# from sklearn.tree import DecisionTreeClassifier\n",
    "# random_state = 123"
   ]
  },
  {
   "cell_type": "markdown",
   "id": "1f4f868a-e705-4b7f-a01e-8f15545e45c6",
   "metadata": {},
   "source": [
    "### 해설"
   ]
  },
  {
   "cell_type": "code",
   "execution_count": 109,
   "id": "914b23f2-22c4-4f20-b0f9-8b835be94e97",
   "metadata": {},
   "outputs": [],
   "source": [
    "from sklearn.tree import DecisionTreeClassifier"
   ]
  },
  {
   "cell_type": "code",
   "execution_count": 110,
   "id": "7bbed205-f60a-422c-ab81-e870a7601a5f",
   "metadata": {},
   "outputs": [],
   "source": [
    "x_var = df.columns[df.dtypes != 'object'].drop('target')"
   ]
  },
  {
   "cell_type": "code",
   "execution_count": 112,
   "id": "84973075-3c18-452a-9146-060815e9084c",
   "metadata": {},
   "outputs": [],
   "source": [
    "dt = DecisionTreeClassifier(random_state=123).fit(df[x_var], df['target'])"
   ]
  },
  {
   "cell_type": "code",
   "execution_count": 114,
   "id": "3f932584-eebd-48a9-b672-71442cf2b46f",
   "metadata": {},
   "outputs": [],
   "source": [
    "test = pd.read_csv('Dataset/Dataset_13_test.csv')"
   ]
  },
  {
   "cell_type": "code",
   "execution_count": 115,
   "id": "39109d6e-2334-471b-8bf5-1151147647e2",
   "metadata": {},
   "outputs": [
    {
     "data": {
      "text/plain": [
       "0.672"
      ]
     },
     "execution_count": 115,
     "metadata": {},
     "output_type": "execute_result"
    }
   ],
   "source": [
    "dt.score(test[x_var], test['target'])"
   ]
  },
  {
   "cell_type": "code",
   "execution_count": null,
   "id": "32aad692-dd1d-4705-a0a3-880fa22978dc",
   "metadata": {},
   "outputs": [],
   "source": [
    "# (정답) 0.67"
   ]
  },
  {
   "cell_type": "markdown",
   "id": "13226872-8d7e-4fd3-aaf1-710711328f13",
   "metadata": {},
   "source": [
    "# Dataset_14"
   ]
  },
  {
   "cell_type": "code",
   "execution_count": null,
   "id": "f063ce08-5e23-4859-a839-6b0135e58b58",
   "metadata": {},
   "outputs": [],
   "source": [
    "# =============================================================================\n",
    "# =============================================================================\n",
    "# # 문제 14 유형(DataSet_14.csv 이용)\n",
    "#\n",
    "# 구분자 : comma(“,”), 2000 Rows, 9 Columns, UTF-8 인코딩\n",
    "#\n",
    "# 온라인 교육업체 싱글캠퍼스에서 런칭한 교육 플랫폼을 보다\n",
    "# 체계적으로 운영하기 위해 2014년부터 2016년 동안 개설된 강좌\n",
    "# 2000개를 대상으로 강좌 실적 및 고객의 서비스 분석을 실시하려고\n",
    "# 한다. 관련 데이터는 다음과 같다.\n",
    "#\n",
    "# 컬 럼 / 정 의 / Type\n",
    "# id / 강좌 일련번호 / Double\n",
    "# published / 강좌 개설일 / String\n",
    "# subject / 강좌 대주제 / String\n",
    "# level / 난이도 / String\n",
    "# price / 가격(만원) / Double\n",
    "# subscribers / 구독자 수(결제 인원) / Double\n",
    "# reviews / 리뷰 개수 / Double\n",
    "# lectures / 강좌 영상 수 / Double\n",
    "# duration / 강좌 총 길이(시간) / Double\n",
    "# =============================================================================\n",
    "# ============================================================================="
   ]
  },
  {
   "cell_type": "markdown",
   "id": "7bf08052-b698-4024-be9a-de4923e56d73",
   "metadata": {},
   "source": [
    "## 1."
   ]
  },
  {
   "cell_type": "code",
   "execution_count": null,
   "id": "5fb015d3-1d0e-4d24-a98d-1c82a2a025ee",
   "metadata": {},
   "outputs": [],
   "source": [
    "# =============================================================================\n",
    "# 1.결제 금액이 1억 이상이면서 구독자의 리뷰 작성 비율이 10% 이상인 교육의 수는?\n",
    "# - 결제 금액은 강좌 가격에 구독자 수를 곱한 값이다.\n",
    "# - 리뷰 작성 비율은 리뷰 개수에 구독자 수를 나눈 값이다. (답안 예시) 1\n",
    "# ============================================================================="
   ]
  },
  {
   "cell_type": "code",
   "execution_count": null,
   "id": "4ea53132-8165-4731-98a3-7be82c39e829",
   "metadata": {},
   "outputs": [],
   "source": [
    "# 단위 고려"
   ]
  },
  {
   "cell_type": "markdown",
   "id": "6bbcc558-96c4-4de0-b685-0a50e855d442",
   "metadata": {},
   "source": [
    "## 2."
   ]
  },
  {
   "cell_type": "code",
   "execution_count": null,
   "id": "a857a89b-054e-482b-884b-d0c02a024ef5",
   "metadata": {},
   "outputs": [],
   "source": [
    "# =============================================================================\n",
    "# 2.강좌 가격이 비쌀수록 구독자 숫자는 줄어든다는 가설을 확인하기 위해 상관분석을\n",
    "# 실시하고자 한다. 2016년 개설된 Web Development 강좌를 대상으로 강좌 가격과\n",
    "# 구독자 수의 피어슨 상관관계를 기술하시오.\n",
    "# - 상관계수는 반올림하여 소수점 둘째 자리까지 기술하시오. (답안 예시) 0.12\n",
    "# ============================================================================="
   ]
  },
  {
   "cell_type": "code",
   "execution_count": null,
   "id": "4471f144-6c01-487d-a5fe-df4cc4b9e0bd",
   "metadata": {},
   "outputs": [],
   "source": [
    "# 필터링 후 상관계수"
   ]
  },
  {
   "cell_type": "code",
   "execution_count": null,
   "id": "4c9c7de3-6055-4ed5-a646-4f7b66192d0c",
   "metadata": {},
   "outputs": [],
   "source": [
    "# 날짜.dt.year"
   ]
  },
  {
   "cell_type": "markdown",
   "id": "da4dd397-49df-49bb-abcc-49f08ba543ea",
   "metadata": {},
   "source": [
    "## 3."
   ]
  },
  {
   "cell_type": "code",
   "execution_count": null,
   "id": "879af1f4-f43f-4a9c-a87f-fc382c36d464",
   "metadata": {},
   "outputs": [],
   "source": [
    "# =============================================================================\n",
    "# 3.유저가 서비스 사용에 익숙해지고 컨텐츠의 좋은 내용을 서로 공유하려는 경향이\n",
    "# 전반적으로 증가하는 추세라고 한다. 이를 위해 먼저 강좌 개설 년도별 구독자의 리뷰\n",
    "# 작성 비율의 평균이 강좌 개설 년도별로 차이가 있는지 일원 분산 분석을 통해서\n",
    "# 알아보고자 한다. 이 때 검정통계량을 기술하시오.\n",
    "# - 검정통계량은 반올림하여 소수점 첫째 자리까지 기술하시오. (답안 예시) 0.1\n",
    "#\n",
    "# (참고)\n",
    "# from statsmodels.formula.api import ols\n",
    "# from statsmodels.stats.anova import anova_lm\n",
    "# ============================================================================="
   ]
  },
  {
   "cell_type": "code",
   "execution_count": null,
   "id": "aeda4e98-deb5-4ee0-a8e9-67cdeae29493",
   "metadata": {},
   "outputs": [],
   "source": []
  },
  {
   "cell_type": "markdown",
   "id": "47498af7-91ab-4e25-b9a7-2cbf47c3f258",
   "metadata": {},
   "source": [
    "# Dataset_15"
   ]
  },
  {
   "cell_type": "code",
   "execution_count": null,
   "id": "a63702bc-b1d3-40cf-aa42-ecbc914d7629",
   "metadata": {},
   "outputs": [],
   "source": [
    "# =============================================================================\n",
    "# =============================================================================\n",
    "# # 문제 15 유형(Dataset_05_Mart_POS.csv /  이용)\n",
    "#\n",
    "# =============================================================================\n",
    "# Dataset_05_Mart_POS.csv \n",
    "# 구분자 : comma(“,”), 20488 Rows, 3 Columns, UTF-8 인코딩\n",
    "# =============================================================================\n",
    "#\n",
    "# 원룸촌에 위치한 A마트는 데이터 분석을 통해 보다 체계적인 재고관리와\n",
    "# 운영을 하고자 한다. 이를 위해 다음의 두 데이터 세트를 준비하였다.\n",
    "#\n",
    "# 컬 럼 / 정 의 / Type\n",
    "# Member_number / 고객 고유 번호 / Double\n",
    "# Date / 구매일 / String\n",
    "# itemDescription / 상품명 / String\n",
    "\n",
    "# =============================================================================\n",
    "# Dataset_05_item_list.csv \n",
    "# 구분자 : comma(“,”), 167 Rows, 4 Columns, UTF-8 인코\n",
    "# =============================================================================\n",
    "#\n",
    "# 컬 럼 / 정 의 / Type\n",
    "# prod_id / 상품 고유 번호 / Double\n",
    "# prod_nm / 상품명 / String\n",
    "# alcohol / 주류 상품 여부(1 : 주류) / Integer\n",
    "# frozen / 냉동 상품 여부(1 : 냉동) / Integer\n",
    "# =============================================================================\n",
    "# ============================================================================="
   ]
  },
  {
   "cell_type": "markdown",
   "id": "e4e24351-a657-4d22-ba53-abec3c944979",
   "metadata": {},
   "source": [
    "## 1."
   ]
  },
  {
   "cell_type": "code",
   "execution_count": null,
   "id": "48efd311-540a-4ee8-bfe3-f9aee803495f",
   "metadata": {},
   "outputs": [],
   "source": [
    "# =============================================================================\n",
    "# 1.(Dataset_05_Mart_POS.csv를 활용하여) 가장 많은 제품이 팔린 날짜에 가장 많이 팔린\n",
    "# 제품의 판매 개수는? (답안 예시) 1\n",
    "# ============================================================================="
   ]
  },
  {
   "cell_type": "markdown",
   "id": "c6f340cc-4016-4f50-a4ab-2bbbff773423",
   "metadata": {},
   "source": [
    "### 해설"
   ]
  },
  {
   "cell_type": "code",
   "execution_count": 116,
   "id": "168ce655-5922-41af-a25e-58605f825543",
   "metadata": {},
   "outputs": [],
   "source": [
    "import pandas as pd"
   ]
  },
  {
   "cell_type": "code",
   "execution_count": 127,
   "id": "4358148a-9313-4a41-8a34-242f25b3530e",
   "metadata": {},
   "outputs": [],
   "source": [
    "pos = pd.read_csv('Dataset/Dataset_05_Mart_POS.csv')\n",
    "list1 = pd.read_csv('Dataset/Dataset_05_item_list.csv')"
   ]
  },
  {
   "cell_type": "code",
   "execution_count": 118,
   "id": "5060dee9-c3da-4202-b1b3-566ac4d5c2ae",
   "metadata": {},
   "outputs": [
    {
     "data": {
      "text/html": [
       "<div>\n",
       "<style scoped>\n",
       "    .dataframe tbody tr th:only-of-type {\n",
       "        vertical-align: middle;\n",
       "    }\n",
       "\n",
       "    .dataframe tbody tr th {\n",
       "        vertical-align: top;\n",
       "    }\n",
       "\n",
       "    .dataframe thead th {\n",
       "        text-align: right;\n",
       "    }\n",
       "</style>\n",
       "<table border=\"1\" class=\"dataframe\">\n",
       "  <thead>\n",
       "    <tr style=\"text-align: right;\">\n",
       "      <th></th>\n",
       "      <th>Member_number</th>\n",
       "      <th>Date</th>\n",
       "      <th>itemDescription</th>\n",
       "    </tr>\n",
       "  </thead>\n",
       "  <tbody>\n",
       "    <tr>\n",
       "      <th>0</th>\n",
       "      <td>1220</td>\n",
       "      <td>2015-01-01</td>\n",
       "      <td>canned beer</td>\n",
       "    </tr>\n",
       "    <tr>\n",
       "      <th>1</th>\n",
       "      <td>1220</td>\n",
       "      <td>2015-01-01</td>\n",
       "      <td>margarine</td>\n",
       "    </tr>\n",
       "    <tr>\n",
       "      <th>2</th>\n",
       "      <td>1220</td>\n",
       "      <td>2015-01-01</td>\n",
       "      <td>chocolate</td>\n",
       "    </tr>\n",
       "    <tr>\n",
       "      <th>3</th>\n",
       "      <td>1235</td>\n",
       "      <td>2015-01-01</td>\n",
       "      <td>sausage</td>\n",
       "    </tr>\n",
       "    <tr>\n",
       "      <th>4</th>\n",
       "      <td>1235</td>\n",
       "      <td>2015-01-01</td>\n",
       "      <td>sausage</td>\n",
       "    </tr>\n",
       "  </tbody>\n",
       "</table>\n",
       "</div>"
      ],
      "text/plain": [
       "   Member_number        Date itemDescription\n",
       "0           1220  2015-01-01     canned beer\n",
       "1           1220  2015-01-01       margarine\n",
       "2           1220  2015-01-01       chocolate\n",
       "3           1235  2015-01-01         sausage\n",
       "4           1235  2015-01-01         sausage"
      ]
     },
     "execution_count": 118,
     "metadata": {},
     "output_type": "execute_result"
    }
   ],
   "source": [
    "pos.head()"
   ]
  },
  {
   "cell_type": "code",
   "execution_count": 119,
   "id": "9fc7fa60-bed2-4ef8-9371-11e728d34a21",
   "metadata": {},
   "outputs": [
    {
     "data": {
      "text/plain": [
       "Member_number  Date        itemDescription \n",
       "1994           2015-03-11  whole milk          4\n",
       "3055           2015-08-18  other vegetables    3\n",
       "4843           2015-05-13  whole milk          3\n",
       "3679           2015-12-23  domestic eggs       3\n",
       "2736           2015-03-02  whole milk          3\n",
       "                                              ..\n",
       "2364           2015-06-21  napkins             1\n",
       "                           coffee              1\n",
       "                           UHT-milk            1\n",
       "               2015-05-11  white bread         1\n",
       "5000           2015-02-10  soda                1\n",
       "Length: 19981, dtype: int64"
      ]
     },
     "execution_count": 119,
     "metadata": {},
     "output_type": "execute_result"
    }
   ],
   "source": [
    "pos.value_counts()"
   ]
  },
  {
   "cell_type": "code",
   "execution_count": 120,
   "id": "a375ef8c-c50b-4f3d-bcc5-cd55494847cf",
   "metadata": {},
   "outputs": [
    {
     "data": {
      "text/plain": [
       "2015-01-21    96\n",
       "2015-07-21    93\n",
       "2015-08-08    92\n",
       "2015-11-29    92\n",
       "2015-04-30    91\n",
       "              ..\n",
       "2015-11-05    29\n",
       "2015-12-21    29\n",
       "2015-03-17    23\n",
       "2015-03-16    23\n",
       "2015-09-01    22\n",
       "Name: Date, Length: 364, dtype: int64"
      ]
     },
     "execution_count": 120,
     "metadata": {},
     "output_type": "execute_result"
    }
   ],
   "source": [
    "pos['Date'].value_counts()"
   ]
  },
  {
   "cell_type": "code",
   "execution_count": 121,
   "id": "378863f9-fd5a-436a-8217-9b8667b4564f",
   "metadata": {},
   "outputs": [
    {
     "data": {
      "text/plain": [
       "2015-01-21    96\n",
       "Name: Date, dtype: int64"
      ]
     },
     "execution_count": 121,
     "metadata": {},
     "output_type": "execute_result"
    }
   ],
   "source": [
    "q1_ans = pos['Date'].value_counts().nlargest(1)\n",
    "q1_ans"
   ]
  },
  {
   "cell_type": "code",
   "execution_count": null,
   "id": "cc5c1961-889f-40c1-9296-e305b849fd7f",
   "metadata": {},
   "outputs": [],
   "source": [
    "# (정답) 96"
   ]
  },
  {
   "cell_type": "markdown",
   "id": "f4fe859d-001a-421c-9c17-d92493b16fea",
   "metadata": {},
   "source": [
    "## 2."
   ]
  },
  {
   "cell_type": "code",
   "execution_count": null,
   "id": "450c147b-2a8a-4d81-98a0-cecd77394a25",
   "metadata": {},
   "outputs": [],
   "source": [
    "# =============================================================================\n",
    "# 2. (Dataset_05_Mart_POS.csv, Dataset_05_item_list.csv를 활용하여) 고객이 주류 제품을\n",
    "# 구매하는 요일이 다른 요일에 비해 금요일과 토요일이 많을 것이라는 가설을 세웠다. \n",
    "# 이를 확인하기 위해 금요일과 토요일의 일별 주류제품 구매 제품 수 평균과 다른\n",
    "# 요일의 일별 주류제품 구매 제품 수 평균이 서로 다른지 비교하기 위해 독립 2표본\n",
    "# t검정을 실시하시오. \n",
    "# 해당 검정의 p-value를 기술하시오.\n",
    "# - 1분기(1월 ~ 3월) 데이터만 사용하여 분석을 실시하시오.\n",
    "# - 등분산 가정을 만족하지 않는다는 조건 하에 분석을 실시하시오.\n",
    "# - p-value는 반올림하여 소수점 둘째 자리까지 기술하시오. (답안 예시) 0.12\n",
    "# ============================================================================="
   ]
  },
  {
   "cell_type": "markdown",
   "id": "5b378df4-6780-412e-847e-257f5525e4d3",
   "metadata": {},
   "source": [
    "### 해설"
   ]
  },
  {
   "cell_type": "code",
   "execution_count": null,
   "id": "9817d791-9345-48f4-b6f1-5ed9e9d1d5d7",
   "metadata": {},
   "outputs": [],
   "source": [
    "# 1. 데이터셋 결합\n",
    "# 2. 요일\n",
    "# 3. 1 분기 데이터 필터링(월 단위 추출)"
   ]
  },
  {
   "cell_type": "code",
   "execution_count": 122,
   "id": "6dfb93d9-0ee1-4610-9740-aa8f16c9e2d2",
   "metadata": {},
   "outputs": [],
   "source": [
    "q2 = pos.copy()"
   ]
  },
  {
   "cell_type": "code",
   "execution_count": 123,
   "id": "dc532be8-c81d-4491-9664-b95b8ff0b569",
   "metadata": {},
   "outputs": [
    {
     "data": {
      "text/plain": [
       "Member_number       int64\n",
       "Date               object\n",
       "itemDescription    object\n",
       "dtype: object"
      ]
     },
     "execution_count": 123,
     "metadata": {},
     "output_type": "execute_result"
    }
   ],
   "source": [
    "q2.dtypes"
   ]
  },
  {
   "cell_type": "code",
   "execution_count": 162,
   "id": "5f2f1651-b5b5-4286-b5a9-545272a73c38",
   "metadata": {},
   "outputs": [
    {
     "data": {
      "text/plain": [
       "0        2015-01-01\n",
       "1        2015-01-01\n",
       "2        2015-01-01\n",
       "3        2015-01-01\n",
       "4        2015-01-01\n",
       "            ...    \n",
       "20483    2015-12-30\n",
       "20484    2015-12-30\n",
       "20485    2015-12-30\n",
       "20486    2015-12-30\n",
       "20487    2015-12-30\n",
       "Name: Date, Length: 20488, dtype: object"
      ]
     },
     "execution_count": 162,
     "metadata": {},
     "output_type": "execute_result"
    }
   ],
   "source": [
    "q2.Date"
   ]
  },
  {
   "cell_type": "code",
   "execution_count": 130,
   "id": "d23728f8-a8a0-445f-8dfa-fd21e31f6fcc",
   "metadata": {},
   "outputs": [],
   "source": [
    "# https://pandas.pydata.org/docs/reference/series.html#accessors\n",
    "# https://pandas.pydata.org/docs/reference/series.html#api-series-dt"
   ]
  },
  {
   "cell_type": "code",
   "execution_count": 133,
   "id": "95e0cbca-641b-478e-9827-e8e1c7a60169",
   "metadata": {},
   "outputs": [
    {
     "data": {
      "text/plain": [
       "0        2015\n",
       "1        2015\n",
       "2        2015\n",
       "3        2015\n",
       "4        2015\n",
       "         ... \n",
       "20483    2015\n",
       "20484    2015\n",
       "20485    2015\n",
       "20486    2015\n",
       "20487    2015\n",
       "Name: Date, Length: 20488, dtype: int64"
      ]
     },
     "execution_count": 133,
     "metadata": {},
     "output_type": "execute_result"
    }
   ],
   "source": [
    "pd.to_datetime(q2.Date).dt.year"
   ]
  },
  {
   "cell_type": "code",
   "execution_count": 135,
   "id": "8e626746-f9cd-4e00-90ac-7a56f6299b5f",
   "metadata": {},
   "outputs": [
    {
     "data": {
      "text/plain": [
       "0         1\n",
       "1         1\n",
       "2         1\n",
       "3         1\n",
       "4         1\n",
       "         ..\n",
       "20483    12\n",
       "20484    12\n",
       "20485    12\n",
       "20486    12\n",
       "20487    12\n",
       "Name: Date, Length: 20488, dtype: int64"
      ]
     },
     "execution_count": 135,
     "metadata": {},
     "output_type": "execute_result"
    }
   ],
   "source": [
    "pd.to_datetime(q2.Date).dt.month"
   ]
  },
  {
   "cell_type": "code",
   "execution_count": 167,
   "id": "2db65878-b71f-4d81-a673-76934d4912ac",
   "metadata": {},
   "outputs": [
    {
     "data": {
      "text/plain": [
       "<bound method PandasDelegate._add_delegate_accessors.<locals>._create_delegator_method.<locals>.f of <pandas.core.indexes.accessors.DatetimeProperties object at 0x0000027F32498608>>"
      ]
     },
     "execution_count": 167,
     "metadata": {},
     "output_type": "execute_result"
    }
   ],
   "source": [
    "pd.to_datetime(q2.Date).dt.day_name"
   ]
  },
  {
   "cell_type": "code",
   "execution_count": 166,
   "id": "e844ea08-6a6e-47ff-84e2-61a83ea989a6",
   "metadata": {},
   "outputs": [
    {
     "data": {
      "text/plain": [
       "0        3\n",
       "1        3\n",
       "2        3\n",
       "3        3\n",
       "4        3\n",
       "        ..\n",
       "20483    2\n",
       "20484    2\n",
       "20485    2\n",
       "20486    2\n",
       "20487    2\n",
       "Name: Date, Length: 20488, dtype: int64"
      ]
     },
     "execution_count": 166,
     "metadata": {},
     "output_type": "execute_result"
    }
   ],
   "source": [
    "pd.to_datetime(q2.Date).dt.weekday"
   ]
  },
  {
   "cell_type": "code",
   "execution_count": 171,
   "id": "1777b351-fa2e-40b7-847f-210a736f32c1",
   "metadata": {},
   "outputs": [
    {
     "data": {
      "text/plain": [
       "0        ¸ñ¿äàï\n",
       "1        ¸ñ¿äàï\n",
       "2        ¸ñ¿äàï\n",
       "3        ¸ñ¿äàï\n",
       "4        ¸ñ¿äàï\n",
       "          ...  \n",
       "20483    ¼ö¿äàï\n",
       "20484    ¼ö¿äàï\n",
       "20485    ¼ö¿äàï\n",
       "20486    ¼ö¿äàï\n",
       "20487    ¼ö¿äàï\n",
       "Name: Date, Length: 20488, dtype: object"
      ]
     },
     "execution_count": 171,
     "metadata": {},
     "output_type": "execute_result"
    }
   ],
   "source": [
    "# locale 지정 -> but 깨짐 폰트 문제?\n",
    "# pd.to_datetime(q2.Date).dt.day_name(locale='ko_kr') # -> 실패\n",
    "# pd.to_datetime(q2.Date).dt.day_name(locale='ko_KR.UTP-8') # -> 실패\n",
    "# pd.to_datetime(q2.Date).dt.day_name(locale='ko_KR') # -> 실패"
   ]
  },
  {
   "cell_type": "code",
   "execution_count": 156,
   "id": "381e2e9c-32fd-4db7-8f0b-f930f52b997e",
   "metadata": {},
   "outputs": [
    {
     "data": {
      "text/plain": [
       "0        ¸ñ¿äàï\n",
       "1        ¸ñ¿äàï\n",
       "2        ¸ñ¿äàï\n",
       "3        ¸ñ¿äàï\n",
       "4        ¸ñ¿äàï\n",
       "          ...  \n",
       "20483    ¼ö¿äàï\n",
       "20484    ¼ö¿äàï\n",
       "20485    ¼ö¿äàï\n",
       "20486    ¼ö¿äàï\n",
       "20487    ¼ö¿äàï\n",
       "Name: Date, Length: 20488, dtype: object"
      ]
     },
     "execution_count": 156,
     "metadata": {},
     "output_type": "execute_result"
    }
   ],
   "source": [
    "# pd.to_datetime(q2.Date).dt.day_name(locale='ko_kr')"
   ]
  },
  {
   "cell_type": "code",
   "execution_count": 182,
   "id": "7dff5d89-c2bf-4f36-8946-209f13ed1eed",
   "metadata": {},
   "outputs": [],
   "source": [
    "q2['month'] = pd.to_datetime(q2.Date).dt.month\n",
    "# q2['day'] = pd.to_datetime(q2.Date).dt.day_name(locale='ko_kr')\n",
    "q2['day'] =pd.to_datetime(q2.Date).dt.weekday"
   ]
  },
  {
   "cell_type": "code",
   "execution_count": 183,
   "id": "3010aea1-0163-4b21-8dcd-1894e80eec07",
   "metadata": {},
   "outputs": [
    {
     "data": {
      "text/html": [
       "<div>\n",
       "<style scoped>\n",
       "    .dataframe tbody tr th:only-of-type {\n",
       "        vertical-align: middle;\n",
       "    }\n",
       "\n",
       "    .dataframe tbody tr th {\n",
       "        vertical-align: top;\n",
       "    }\n",
       "\n",
       "    .dataframe thead th {\n",
       "        text-align: right;\n",
       "    }\n",
       "</style>\n",
       "<table border=\"1\" class=\"dataframe\">\n",
       "  <thead>\n",
       "    <tr style=\"text-align: right;\">\n",
       "      <th></th>\n",
       "      <th>Member_number</th>\n",
       "      <th>Date</th>\n",
       "      <th>itemDescription</th>\n",
       "      <th>month</th>\n",
       "      <th>day</th>\n",
       "      <th>prod_id</th>\n",
       "      <th>prod_nm</th>\n",
       "      <th>alcohol</th>\n",
       "      <th>frozen</th>\n",
       "    </tr>\n",
       "  </thead>\n",
       "  <tbody>\n",
       "    <tr>\n",
       "      <th>0</th>\n",
       "      <td>1220</td>\n",
       "      <td>2015-01-01</td>\n",
       "      <td>canned beer</td>\n",
       "      <td>1</td>\n",
       "      <td>3</td>\n",
       "      <td>25</td>\n",
       "      <td>canned beer</td>\n",
       "      <td>1</td>\n",
       "      <td>0</td>\n",
       "    </tr>\n",
       "    <tr>\n",
       "      <th>1</th>\n",
       "      <td>1220</td>\n",
       "      <td>2015-01-01</td>\n",
       "      <td>margarine</td>\n",
       "      <td>1</td>\n",
       "      <td>3</td>\n",
       "      <td>70</td>\n",
       "      <td>margarine</td>\n",
       "      <td>0</td>\n",
       "      <td>0</td>\n",
       "    </tr>\n",
       "    <tr>\n",
       "      <th>2</th>\n",
       "      <td>1220</td>\n",
       "      <td>2015-01-01</td>\n",
       "      <td>chocolate</td>\n",
       "      <td>1</td>\n",
       "      <td>3</td>\n",
       "      <td>14</td>\n",
       "      <td>chocolate</td>\n",
       "      <td>0</td>\n",
       "      <td>0</td>\n",
       "    </tr>\n",
       "    <tr>\n",
       "      <th>3</th>\n",
       "      <td>1235</td>\n",
       "      <td>2015-01-01</td>\n",
       "      <td>sausage</td>\n",
       "      <td>1</td>\n",
       "      <td>3</td>\n",
       "      <td>19</td>\n",
       "      <td>sausage</td>\n",
       "      <td>0</td>\n",
       "      <td>0</td>\n",
       "    </tr>\n",
       "    <tr>\n",
       "      <th>4</th>\n",
       "      <td>1235</td>\n",
       "      <td>2015-01-01</td>\n",
       "      <td>sausage</td>\n",
       "      <td>1</td>\n",
       "      <td>3</td>\n",
       "      <td>19</td>\n",
       "      <td>sausage</td>\n",
       "      <td>0</td>\n",
       "      <td>0</td>\n",
       "    </tr>\n",
       "    <tr>\n",
       "      <th>...</th>\n",
       "      <td>...</td>\n",
       "      <td>...</td>\n",
       "      <td>...</td>\n",
       "      <td>...</td>\n",
       "      <td>...</td>\n",
       "      <td>...</td>\n",
       "      <td>...</td>\n",
       "      <td>...</td>\n",
       "      <td>...</td>\n",
       "    </tr>\n",
       "    <tr>\n",
       "      <th>20483</th>\n",
       "      <td>4058</td>\n",
       "      <td>2015-12-30</td>\n",
       "      <td>cream cheese</td>\n",
       "      <td>12</td>\n",
       "      <td>2</td>\n",
       "      <td>60</td>\n",
       "      <td>cream cheese</td>\n",
       "      <td>0</td>\n",
       "      <td>0</td>\n",
       "    </tr>\n",
       "    <tr>\n",
       "      <th>20484</th>\n",
       "      <td>4565</td>\n",
       "      <td>2015-12-30</td>\n",
       "      <td>canned beer</td>\n",
       "      <td>12</td>\n",
       "      <td>2</td>\n",
       "      <td>25</td>\n",
       "      <td>canned beer</td>\n",
       "      <td>1</td>\n",
       "      <td>0</td>\n",
       "    </tr>\n",
       "    <tr>\n",
       "      <th>20485</th>\n",
       "      <td>4565</td>\n",
       "      <td>2015-12-30</td>\n",
       "      <td>canned beer</td>\n",
       "      <td>12</td>\n",
       "      <td>2</td>\n",
       "      <td>25</td>\n",
       "      <td>canned beer</td>\n",
       "      <td>1</td>\n",
       "      <td>0</td>\n",
       "    </tr>\n",
       "    <tr>\n",
       "      <th>20486</th>\n",
       "      <td>4863</td>\n",
       "      <td>2015-12-30</td>\n",
       "      <td>dessert</td>\n",
       "      <td>12</td>\n",
       "      <td>2</td>\n",
       "      <td>51</td>\n",
       "      <td>dessert</td>\n",
       "      <td>0</td>\n",
       "      <td>0</td>\n",
       "    </tr>\n",
       "    <tr>\n",
       "      <th>20487</th>\n",
       "      <td>4863</td>\n",
       "      <td>2015-12-30</td>\n",
       "      <td>curd</td>\n",
       "      <td>12</td>\n",
       "      <td>2</td>\n",
       "      <td>45</td>\n",
       "      <td>curd</td>\n",
       "      <td>0</td>\n",
       "      <td>0</td>\n",
       "    </tr>\n",
       "  </tbody>\n",
       "</table>\n",
       "<p>20488 rows × 9 columns</p>\n",
       "</div>"
      ],
      "text/plain": [
       "       Member_number        Date itemDescription  month  day  prod_id  \\\n",
       "0               1220  2015-01-01     canned beer      1    3       25   \n",
       "1               1220  2015-01-01       margarine      1    3       70   \n",
       "2               1220  2015-01-01       chocolate      1    3       14   \n",
       "3               1235  2015-01-01         sausage      1    3       19   \n",
       "4               1235  2015-01-01         sausage      1    3       19   \n",
       "...              ...         ...             ...    ...  ...      ...   \n",
       "20483           4058  2015-12-30    cream cheese     12    2       60   \n",
       "20484           4565  2015-12-30     canned beer     12    2       25   \n",
       "20485           4565  2015-12-30     canned beer     12    2       25   \n",
       "20486           4863  2015-12-30         dessert     12    2       51   \n",
       "20487           4863  2015-12-30            curd     12    2       45   \n",
       "\n",
       "            prod_nm  alcohol  frozen  \n",
       "0       canned beer        1       0  \n",
       "1         margarine        0       0  \n",
       "2         chocolate        0       0  \n",
       "3           sausage        0       0  \n",
       "4           sausage        0       0  \n",
       "...             ...      ...     ...  \n",
       "20483  cream cheese        0       0  \n",
       "20484   canned beer        1       0  \n",
       "20485   canned beer        1       0  \n",
       "20486       dessert        0       0  \n",
       "20487          curd        0       0  \n",
       "\n",
       "[20488 rows x 9 columns]"
      ]
     },
     "execution_count": 183,
     "metadata": {},
     "output_type": "execute_result"
    }
   ],
   "source": [
    "q2_merge = pd.merge(q2, list1, \n",
    "                    left_on = 'itemDescription', \n",
    "                    right_on='prod_nm', \n",
    "                    how='left')\n",
    "q2_merge"
   ]
  },
  {
   "cell_type": "code",
   "execution_count": 184,
   "id": "5252c8e6-b62b-4746-ac84-372be920b9ba",
   "metadata": {},
   "outputs": [],
   "source": [
    "q2_merge['week'] = 0\n",
    "# q2_merge.loc[q2_merge.day.isin(['금요일', '토요일']), 'week'] = 1\n",
    "q2_merge.loc[q2_merge.day.isin([4, 5]), 'week'] = 1"
   ]
  },
  {
   "cell_type": "code",
   "execution_count": 185,
   "id": "c72bdf94-09ff-43de-bd02-f2347097f65b",
   "metadata": {},
   "outputs": [],
   "source": [
    "q2_2 = q2_merge[q2_merge.month.isin([1, 2, 3])]"
   ]
  },
  {
   "cell_type": "code",
   "execution_count": 186,
   "id": "d7250abc-7b0f-425d-a571-b411f5ddc6a7",
   "metadata": {},
   "outputs": [],
   "source": [
    "q2_tab = pd.pivot_table(q2_2, index='Date', columns='week', \n",
    "                        values='alcohol', \n",
    "                        aggfunc='sum')"
   ]
  },
  {
   "cell_type": "code",
   "execution_count": 187,
   "id": "b6cbcd3a-961c-4b4b-8570-a0fa0c22ce5b",
   "metadata": {},
   "outputs": [],
   "source": [
    "from scipy.stats import ttest_ind"
   ]
  },
  {
   "cell_type": "code",
   "execution_count": 188,
   "id": "ef08ef41-7f68-43c4-a180-a1c076775d42",
   "metadata": {},
   "outputs": [
    {
     "data": {
      "text/plain": [
       "Ttest_indResult(statistic=-2.335264239960428, pvalue=0.023062611047582393)"
      ]
     },
     "execution_count": 188,
     "metadata": {},
     "output_type": "execute_result"
    }
   ],
   "source": [
    "ttest_ind(q2_tab[1].dropna(), q2_tab[0].dropna(), equal_var=False)"
   ]
  },
  {
   "cell_type": "code",
   "execution_count": null,
   "id": "f0f6888c-4ff0-417b-8de2-88d3b49b1734",
   "metadata": {},
   "outputs": [],
   "source": [
    "# (정답) 0.02(이분산) / 0.04(등분산)"
   ]
  },
  {
   "cell_type": "markdown",
   "id": "2fe1e07c-c15e-45cf-a116-b46ab63c4510",
   "metadata": {},
   "source": [
    "## 3."
   ]
  },
  {
   "cell_type": "code",
   "execution_count": null,
   "id": "7d86fc39-c421-4c6c-acdc-4284ca2e1067",
   "metadata": {},
   "outputs": [],
   "source": [
    "# =============================================================================\n",
    "# 3.(Dataset_05_Mart_POS.csv를 활용하여) 1년 동안 가장 많이 판매된 10개 상품을 주력\n",
    "# 상품으로 설정하고 특정 요일에 프로모션을 진행할지 말지 결정하고자 한다. 먼저\n",
    "# 요일을 선정하기 전에 일원 분산 분석을 통하여 요일별 주력 상품의 판매 개수의\n",
    "# 평균이 유의미하게 차이가 나는지 알아보고자 한다. 이와 관련하여 일원 분산 분석을\n",
    "# 실시하고 p-value를 기술하시오.\n",
    "# - p-value는 반올림하여 소수점 둘째 자리까지 기술하시오. (답안 예시) 0.12\n",
    "# \n",
    "# (참고)\n",
    "# from statsmodels.formula.api import ols\n",
    "# from statsmodels.stats.anova import anova_lm\n",
    "# ============================================================================="
   ]
  },
  {
   "cell_type": "markdown",
   "id": "3882712b-b9b2-4f4e-9f7e-88672ba69616",
   "metadata": {},
   "source": [
    "### 해설"
   ]
  },
  {
   "cell_type": "code",
   "execution_count": null,
   "id": "67256f42-3e20-4a23-b5cb-20126a30136d",
   "metadata": {},
   "outputs": [],
   "source": [
    "# 전처리 난이도 상"
   ]
  },
  {
   "cell_type": "code",
   "execution_count": 143,
   "id": "682e6226-3bd4-431d-9856-dbd2694610a0",
   "metadata": {},
   "outputs": [
    {
     "data": {
      "text/plain": [
       "Index(['Member_number', 'Date', 'itemDescription'], dtype='object')"
      ]
     },
     "execution_count": 143,
     "metadata": {},
     "output_type": "execute_result"
    }
   ],
   "source": [
    "pos.columns"
   ]
  },
  {
   "cell_type": "code",
   "execution_count": 144,
   "id": "ba3edaab-6248-44c1-9f33-50355dc691c2",
   "metadata": {},
   "outputs": [
    {
     "data": {
      "text/plain": [
       "Index(['whole milk', 'other vegetables', 'rolls/buns', 'sausage', 'soda',\n",
       "       'yogurt', 'tropical fruit', 'root vegetables', 'citrus fruit',\n",
       "       'frankfurter'],\n",
       "      dtype='object')"
      ]
     },
     "execution_count": 144,
     "metadata": {},
     "output_type": "execute_result"
    }
   ],
   "source": [
    "top10 = pos['itemDescription'].value_counts().nlargest(10).index\n",
    "top10"
   ]
  },
  {
   "cell_type": "code",
   "execution_count": 145,
   "id": "68063431-6a6e-4988-98d4-6e42c0017947",
   "metadata": {},
   "outputs": [],
   "source": [
    "q3 = q2[q2['itemDescription'].isin(top10)]"
   ]
  },
  {
   "cell_type": "code",
   "execution_count": 149,
   "id": "86481c80-0c70-4f76-975b-0300dc4c0056",
   "metadata": {},
   "outputs": [
    {
     "data": {
      "text/html": [
       "<div>\n",
       "<style scoped>\n",
       "    .dataframe tbody tr th:only-of-type {\n",
       "        vertical-align: middle;\n",
       "    }\n",
       "\n",
       "    .dataframe tbody tr th {\n",
       "        vertical-align: top;\n",
       "    }\n",
       "\n",
       "    .dataframe thead th {\n",
       "        text-align: right;\n",
       "    }\n",
       "</style>\n",
       "<table border=\"1\" class=\"dataframe\">\n",
       "  <thead>\n",
       "    <tr style=\"text-align: right;\">\n",
       "      <th></th>\n",
       "      <th>Date</th>\n",
       "      <th>day</th>\n",
       "      <th>itemDescription</th>\n",
       "    </tr>\n",
       "  </thead>\n",
       "  <tbody>\n",
       "    <tr>\n",
       "      <th>0</th>\n",
       "      <td>2015-01-01</td>\n",
       "      <td>¸ñ¿äàï</td>\n",
       "      <td>16</td>\n",
       "    </tr>\n",
       "    <tr>\n",
       "      <th>1</th>\n",
       "      <td>2015-01-02</td>\n",
       "      <td>±ý¿äàï</td>\n",
       "      <td>13</td>\n",
       "    </tr>\n",
       "    <tr>\n",
       "      <th>2</th>\n",
       "      <td>2015-01-03</td>\n",
       "      <td>Åä¿äàï</td>\n",
       "      <td>28</td>\n",
       "    </tr>\n",
       "    <tr>\n",
       "      <th>3</th>\n",
       "      <td>2015-01-04</td>\n",
       "      <td>Àï¿äàï</td>\n",
       "      <td>21</td>\n",
       "    </tr>\n",
       "    <tr>\n",
       "      <th>4</th>\n",
       "      <td>2015-01-05</td>\n",
       "      <td>¿ù¿äàï</td>\n",
       "      <td>30</td>\n",
       "    </tr>\n",
       "    <tr>\n",
       "      <th>...</th>\n",
       "      <td>...</td>\n",
       "      <td>...</td>\n",
       "      <td>...</td>\n",
       "    </tr>\n",
       "    <tr>\n",
       "      <th>359</th>\n",
       "      <td>2015-12-26</td>\n",
       "      <td>Åä¿äàï</td>\n",
       "      <td>11</td>\n",
       "    </tr>\n",
       "    <tr>\n",
       "      <th>360</th>\n",
       "      <td>2015-12-27</td>\n",
       "      <td>Àï¿äàï</td>\n",
       "      <td>31</td>\n",
       "    </tr>\n",
       "    <tr>\n",
       "      <th>361</th>\n",
       "      <td>2015-12-28</td>\n",
       "      <td>¿ù¿äàï</td>\n",
       "      <td>21</td>\n",
       "    </tr>\n",
       "    <tr>\n",
       "      <th>362</th>\n",
       "      <td>2015-12-29</td>\n",
       "      <td>È­¿äàï</td>\n",
       "      <td>27</td>\n",
       "    </tr>\n",
       "    <tr>\n",
       "      <th>363</th>\n",
       "      <td>2015-12-30</td>\n",
       "      <td>¼ö¿äàï</td>\n",
       "      <td>18</td>\n",
       "    </tr>\n",
       "  </tbody>\n",
       "</table>\n",
       "<p>364 rows × 3 columns</p>\n",
       "</div>"
      ],
      "text/plain": [
       "           Date     day  itemDescription\n",
       "0    2015-01-01  ¸ñ¿äàï               16\n",
       "1    2015-01-02  ±ý¿äàï               13\n",
       "2    2015-01-03  Åä¿äàï               28\n",
       "3    2015-01-04  Àï¿äàï               21\n",
       "4    2015-01-05  ¿ù¿äàï               30\n",
       "..          ...     ...              ...\n",
       "359  2015-12-26  Åä¿äàï               11\n",
       "360  2015-12-27  Àï¿äàï               31\n",
       "361  2015-12-28  ¿ù¿äàï               21\n",
       "362  2015-12-29  È­¿äàï               27\n",
       "363  2015-12-30  ¼ö¿äàï               18\n",
       "\n",
       "[364 rows x 3 columns]"
      ]
     },
     "execution_count": 149,
     "metadata": {},
     "output_type": "execute_result"
    }
   ],
   "source": [
    "q3_tab = pd.pivot_table(data=q3, \n",
    "                        index=['Date', 'day'], \n",
    "                        values='itemDescription', \n",
    "                        aggfunc='count').reset_index()\n",
    "q3_tab"
   ]
  },
  {
   "cell_type": "code",
   "execution_count": 146,
   "id": "8b03cf0e-14c2-4f25-9ec9-00643da35414",
   "metadata": {},
   "outputs": [],
   "source": [
    "from statsmodels.formula.api import ols\n",
    "from statsmodels.stats.anova import anova_lm"
   ]
  },
  {
   "cell_type": "code",
   "execution_count": 152,
   "id": "43cce3b0-27c1-48a4-a0fb-ce9b64c16898",
   "metadata": {},
   "outputs": [],
   "source": [
    "ols1 = ols('itemDescription~day', q3_tab).fit()"
   ]
  },
  {
   "cell_type": "code",
   "execution_count": 154,
   "id": "b14d2654-31bd-4478-9d20-7ed067d02717",
   "metadata": {
    "tags": []
   },
   "outputs": [
    {
     "data": {
      "text/html": [
       "<div>\n",
       "<style scoped>\n",
       "    .dataframe tbody tr th:only-of-type {\n",
       "        vertical-align: middle;\n",
       "    }\n",
       "\n",
       "    .dataframe tbody tr th {\n",
       "        vertical-align: top;\n",
       "    }\n",
       "\n",
       "    .dataframe thead th {\n",
       "        text-align: right;\n",
       "    }\n",
       "</style>\n",
       "<table border=\"1\" class=\"dataframe\">\n",
       "  <thead>\n",
       "    <tr style=\"text-align: right;\">\n",
       "      <th></th>\n",
       "      <th>df</th>\n",
       "      <th>sum_sq</th>\n",
       "      <th>mean_sq</th>\n",
       "      <th>F</th>\n",
       "      <th>PR(&gt;F)</th>\n",
       "    </tr>\n",
       "  </thead>\n",
       "  <tbody>\n",
       "    <tr>\n",
       "      <th>day</th>\n",
       "      <td>6.0</td>\n",
       "      <td>219.527473</td>\n",
       "      <td>36.587912</td>\n",
       "      <td>0.86853</td>\n",
       "      <td>0.518128</td>\n",
       "    </tr>\n",
       "    <tr>\n",
       "      <th>Residual</th>\n",
       "      <td>357.0</td>\n",
       "      <td>15039.076923</td>\n",
       "      <td>42.126266</td>\n",
       "      <td>NaN</td>\n",
       "      <td>NaN</td>\n",
       "    </tr>\n",
       "  </tbody>\n",
       "</table>\n",
       "</div>"
      ],
      "text/plain": [
       "             df        sum_sq    mean_sq        F    PR(>F)\n",
       "day         6.0    219.527473  36.587912  0.86853  0.518128\n",
       "Residual  357.0  15039.076923  42.126266      NaN       NaN"
      ]
     },
     "execution_count": 154,
     "metadata": {},
     "output_type": "execute_result"
    }
   ],
   "source": [
    "q3_out = anova_lm(ols1)\n",
    "q3_out"
   ]
  },
  {
   "cell_type": "code",
   "execution_count": 155,
   "id": "cb68b5c1-c249-4810-8e69-c098d494e6c7",
   "metadata": {},
   "outputs": [
    {
     "data": {
      "text/plain": [
       "0.5181278037418005"
      ]
     },
     "execution_count": 155,
     "metadata": {},
     "output_type": "execute_result"
    }
   ],
   "source": [
    "q3_out['PR(>F)'][0]"
   ]
  },
  {
   "cell_type": "code",
   "execution_count": null,
   "id": "ae57005e-ef98-43bc-8ebe-4fc96d533508",
   "metadata": {},
   "outputs": [],
   "source": [
    "# (정답) 0.52"
   ]
  }
 ],
 "metadata": {
  "kernelspec": {
   "display_name": "Python Multi",
   "language": "python",
   "name": "multi"
  },
  "language_info": {
   "codemirror_mode": {
    "name": "ipython",
    "version": 3
   },
   "file_extension": ".py",
   "mimetype": "text/x-python",
   "name": "python",
   "nbconvert_exporter": "python",
   "pygments_lexer": "ipython3",
   "version": "3.7.6"
  }
 },
 "nbformat": 4,
 "nbformat_minor": 5
}
