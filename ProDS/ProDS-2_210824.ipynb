{
 "cells": [
  {
   "cell_type": "markdown",
   "id": "4f7ebf6e-7285-44d8-a57e-93f584265c29",
   "metadata": {},
   "source": [
    "# ProDS Associate 실기 대비 2"
   ]
  },
  {
   "cell_type": "markdown",
   "id": "e23d5052-f22f-4b27-b6c2-f5cb420f2910",
   "metadata": {},
   "source": [
    "# Dataset_05"
   ]
  },
  {
   "cell_type": "code",
   "execution_count": null,
   "id": "d40c05c2-70ef-4742-99f7-1493ee619775",
   "metadata": {},
   "outputs": [],
   "source": [
    "# =============================================================================\n",
    "# =============================================================================\n",
    "# # 문제 05 유형(DataSet_05.csv 이용)\n",
    "#\n",
    "# 구분자 : comma(“,”), 8,068 Rows, 12 Columns, UTF-8 인코딩\n",
    "#\n",
    "# A자동차 회사는 신규 진입하는 시장에 기존 모델을 판매하기 위한 마케팅 전략을 \n",
    "# 세우려고 한다. 기존 시장과 고객 특성이 유사하다는 전제 하에 기존 고객을 세분화하여\n",
    "# 각 그룹의 특징을 파악하고, 이를 이용하여 신규 진입 시장의 마케팅 계획을 \n",
    "# 수립하고자 한다. 다음은 기존 시장 고객에 대한 데이터이다.\n",
    "#\n",
    "\n",
    "# 컬 럼 / 정 의 / Type\n",
    "# ID / 고유 식별자 / Double\n",
    "# Age / 나이 / Double\n",
    "# Age_gr / 나이 그룹 (10/20/30/40/50/60/70) / Double\n",
    "# Gender / 성별 (여성 : 0 / 남성 : 1) / Double\n",
    "# Work_Experience / 취업 연수 (0 ~ 14) / Double\n",
    "# Family_Size / 가족 규모 (1 ~ 9) / Double\n",
    "# Ever_Married / 결혼 여부 (Unknown : 0 / No : 1 / Yes : 2) / Double\n",
    "# Graduated / 재학 중인지 여부 / Double\n",
    "# Profession / 직업 (Unknown : 0 / Artist ~ Marketing 등 9개) / Double\n",
    "# Spending_Score / 소비 점수 (Average : 0 / High : 1 / Low : 2) / Double\n",
    "# Var_1 / 내용이 알려지지 않은 고객 분류 코드 (0 ~ 7) / Double\n",
    "# Segmentation / 고객 세분화 결과 (A ~ D) / String\n",
    "# =============================================================================\n",
    "# ============================================================================="
   ]
  },
  {
   "cell_type": "code",
   "execution_count": null,
   "id": "37fc476c-938b-47fb-9fac-073e1fd0dd92",
   "metadata": {},
   "outputs": [],
   "source": [
    "#(참고)\n",
    "#1\n",
    "# import pandas as pd\n",
    "# #2\n",
    "# from scipy.stats import chi2_contingency\n",
    "# #3\n",
    "# from sklearn.model_selection import train_test_split\n",
    "# from sklearn import metrics\n",
    "# from sklearn.tree import DecisionTreeClassifier\n",
    "# from sklearn.tree import export_graphviz\n",
    "# import pydot"
   ]
  },
  {
   "cell_type": "code",
   "execution_count": 1,
   "id": "c414dd35-5fd5-4e03-98f9-8fe28f9881a8",
   "metadata": {},
   "outputs": [],
   "source": [
    "import pandas as pd"
   ]
  },
  {
   "cell_type": "code",
   "execution_count": null,
   "id": "be5a07e0-7ed6-42ac-9354-7be1df802e68",
   "metadata": {},
   "outputs": [],
   "source": [
    "# 결측치 인식 안 되는 경우 사전 처리"
   ]
  },
  {
   "cell_type": "code",
   "execution_count": 9,
   "id": "d304b1b1-39d3-4463-82fa-58e552d36572",
   "metadata": {
    "tags": []
   },
   "outputs": [],
   "source": [
    "dataset5 = pd.read_csv('Dataset/Dataset_05.csv', na_values=[\"NA\", \"?\", \"\", \" \"])"
   ]
  },
  {
   "cell_type": "code",
   "execution_count": 3,
   "id": "eb8aea85-f15d-4f2b-aa1f-138f700b0776",
   "metadata": {},
   "outputs": [
    {
     "data": {
      "text/plain": [
       "Index(['ID', 'Age', 'Age_gr', 'Gender', 'Work_Experience', 'Family_Size',\n",
       "       'Ever_Married', 'Graduated', 'Profession', 'Spending_Score', 'Var_1',\n",
       "       'Segmentation'],\n",
       "      dtype='object')"
      ]
     },
     "execution_count": 3,
     "metadata": {},
     "output_type": "execute_result"
    }
   ],
   "source": [
    "dataset5.columns"
   ]
  },
  {
   "cell_type": "code",
   "execution_count": 4,
   "id": "261f2793-cadb-44d0-b487-37c184d53334",
   "metadata": {},
   "outputs": [
    {
     "data": {
      "text/plain": [
       "ID                   int64\n",
       "Age                  int64\n",
       "Age_gr               int64\n",
       "Gender               int64\n",
       "Work_Experience    float64\n",
       "Family_Size        float64\n",
       "Ever_Married         int64\n",
       "Graduated            int64\n",
       "Profession           int64\n",
       "Spending_Score       int64\n",
       "Var_1                int64\n",
       "Segmentation        object\n",
       "dtype: object"
      ]
     },
     "execution_count": 4,
     "metadata": {},
     "output_type": "execute_result"
    }
   ],
   "source": [
    "dataset5.dtypes"
   ]
  },
  {
   "cell_type": "code",
   "execution_count": 5,
   "id": "95046359-975a-4357-a641-aa6766abd93a",
   "metadata": {},
   "outputs": [
    {
     "data": {
      "text/plain": [
       "(8068, 12)"
      ]
     },
     "execution_count": 5,
     "metadata": {},
     "output_type": "execute_result"
    }
   ],
   "source": [
    "dataset5.shape"
   ]
  },
  {
   "cell_type": "code",
   "execution_count": 6,
   "id": "4eda50ad-bd73-4e95-ae43-b47f657a103b",
   "metadata": {},
   "outputs": [
    {
     "name": "stdout",
     "output_type": "stream",
     "text": [
      "<class 'pandas.core.frame.DataFrame'>\n",
      "RangeIndex: 8068 entries, 0 to 8067\n",
      "Data columns (total 12 columns):\n",
      " #   Column           Non-Null Count  Dtype  \n",
      "---  ------           --------------  -----  \n",
      " 0   ID               8068 non-null   int64  \n",
      " 1   Age              8068 non-null   int64  \n",
      " 2   Age_gr           8068 non-null   int64  \n",
      " 3   Gender           8068 non-null   int64  \n",
      " 4   Work_Experience  7239 non-null   float64\n",
      " 5   Family_Size      7733 non-null   float64\n",
      " 6   Ever_Married     8068 non-null   int64  \n",
      " 7   Graduated        8068 non-null   int64  \n",
      " 8   Profession       8068 non-null   int64  \n",
      " 9   Spending_Score   8068 non-null   int64  \n",
      " 10  Var_1            8068 non-null   int64  \n",
      " 11  Segmentation     8066 non-null   object \n",
      "dtypes: float64(2), int64(9), object(1)\n",
      "memory usage: 756.5+ KB\n"
     ]
    }
   ],
   "source": [
    "dataset5.info()"
   ]
  },
  {
   "cell_type": "markdown",
   "id": "35443aa9-4f42-4788-afc6-87f43f3215c7",
   "metadata": {},
   "source": [
    "## 1. Missing Value"
   ]
  },
  {
   "cell_type": "code",
   "execution_count": null,
   "id": "ee1ef6de-187b-4a47-9bc7-0a54ef8fcb11",
   "metadata": {},
   "outputs": [],
   "source": [
    "# =============================================================================\n",
    "# 1.위의 표에 표시된 데이터 타입에 맞도록 전처리를 수행하였을 때, 데이터 파일 내에\n",
    "# 존재하는 결측값은 모두 몇 개인가? 숫자형 데이터와 문자열 데이터의 결측값을\n",
    "# 모두 더하여 답하시오.\n",
    "# (String 타입 변수의 경우 White Space(Blank)를 결측으로 처리한다) (답안 예시) 123\n",
    "# ============================================================================="
   ]
  },
  {
   "cell_type": "code",
   "execution_count": 7,
   "id": "375d245f-0325-48e2-a33f-cb6b23004f6e",
   "metadata": {},
   "outputs": [
    {
     "data": {
      "text/plain": [
       "ID                   0\n",
       "Age                  0\n",
       "Age_gr               0\n",
       "Gender               0\n",
       "Work_Experience    829\n",
       "Family_Size        335\n",
       "Ever_Married         0\n",
       "Graduated            0\n",
       "Profession           0\n",
       "Spending_Score       0\n",
       "Var_1                0\n",
       "Segmentation         2\n",
       "dtype: int64"
      ]
     },
     "execution_count": 7,
     "metadata": {},
     "output_type": "execute_result"
    }
   ],
   "source": [
    "dataset5.isna().sum()"
   ]
  },
  {
   "cell_type": "code",
   "execution_count": 8,
   "id": "2d787c4a-7dd7-45eb-b3b9-7a94e1fb23d8",
   "metadata": {},
   "outputs": [
    {
     "data": {
      "text/plain": [
       "1166"
      ]
     },
     "execution_count": 8,
     "metadata": {},
     "output_type": "execute_result"
    }
   ],
   "source": [
    "dataset5.isna().sum().sum()"
   ]
  },
  {
   "cell_type": "code",
   "execution_count": null,
   "id": "20b5f246-4890-4a6f-94f9-49abcdec9b6c",
   "metadata": {},
   "outputs": [],
   "source": [
    "# (정답) 1166"
   ]
  },
  {
   "cell_type": "markdown",
   "id": "0aa0d77d-da76-40b7-9ecc-d93120a2d828",
   "metadata": {},
   "source": [
    "## 2. Chi Square Test - Test of Independence"
   ]
  },
  {
   "cell_type": "code",
   "execution_count": null,
   "id": "20ab3de5-75cd-46c6-b452-19eacf94de09",
   "metadata": {},
   "outputs": [],
   "source": [
    "# =============================================================================\n",
    "# 2.이어지는 분석을 위해 결측값을 모두 삭제한다. 그리고, 성별이 세분화(Segmentation)에\n",
    "# 영향을 미치는지 독립성 검정을 수행한다. 수행 결과, p-value를 반올림하여 소수점\n",
    "# 넷째 자리까지 쓰고, 귀무가설을 기각하면 Y로, 기각할 수 없으면 N으로 기술하시오. \n",
    "# (답안 예시) 0.2345, N\n",
    "# ============================================================================="
   ]
  },
  {
   "cell_type": "code",
   "execution_count": 12,
   "id": "b5a37a16-9a36-4c2b-86a5-6c4972e6b161",
   "metadata": {},
   "outputs": [],
   "source": [
    "q2 = dataset5.dropna()"
   ]
  },
  {
   "cell_type": "code",
   "execution_count": 13,
   "id": "1b957001-cbb8-44f5-835d-690f6d3c0730",
   "metadata": {},
   "outputs": [
    {
     "data": {
      "text/plain": [
       "(8068, 6967)"
      ]
     },
     "execution_count": 13,
     "metadata": {},
     "output_type": "execute_result"
    }
   ],
   "source": [
    "len(dataset5), len(q2)"
   ]
  },
  {
   "cell_type": "code",
   "execution_count": 14,
   "id": "13ffbcf0-ba8d-48dd-b166-3596314d20a3",
   "metadata": {},
   "outputs": [
    {
     "data": {
      "text/html": [
       "<div>\n",
       "<style scoped>\n",
       "    .dataframe tbody tr th:only-of-type {\n",
       "        vertical-align: middle;\n",
       "    }\n",
       "\n",
       "    .dataframe tbody tr th {\n",
       "        vertical-align: top;\n",
       "    }\n",
       "\n",
       "    .dataframe thead th {\n",
       "        text-align: right;\n",
       "    }\n",
       "</style>\n",
       "<table border=\"1\" class=\"dataframe\">\n",
       "  <thead>\n",
       "    <tr style=\"text-align: right;\">\n",
       "      <th>Segmentation</th>\n",
       "      <th>A</th>\n",
       "      <th>B</th>\n",
       "      <th>C</th>\n",
       "      <th>D</th>\n",
       "    </tr>\n",
       "    <tr>\n",
       "      <th>Gender</th>\n",
       "      <th></th>\n",
       "      <th></th>\n",
       "      <th></th>\n",
       "      <th></th>\n",
       "    </tr>\n",
       "  </thead>\n",
       "  <tbody>\n",
       "    <tr>\n",
       "      <th>0</th>\n",
       "      <td>784</td>\n",
       "      <td>759</td>\n",
       "      <td>826</td>\n",
       "      <td>772</td>\n",
       "    </tr>\n",
       "    <tr>\n",
       "      <th>1</th>\n",
       "      <td>909</td>\n",
       "      <td>872</td>\n",
       "      <td>953</td>\n",
       "      <td>1092</td>\n",
       "    </tr>\n",
       "  </tbody>\n",
       "</table>\n",
       "</div>"
      ],
      "text/plain": [
       "Segmentation    A    B    C     D\n",
       "Gender                           \n",
       "0             784  759  826   772\n",
       "1             909  872  953  1092"
      ]
     },
     "execution_count": 14,
     "metadata": {},
     "output_type": "execute_result"
    }
   ],
   "source": [
    "q2_tab = pd.crosstab(index=q2.Gender, columns=q2.Segmentation)\n",
    "q2_tab"
   ]
  },
  {
   "cell_type": "code",
   "execution_count": 15,
   "id": "4086b2a5-3635-46f1-b8da-22580d156ed9",
   "metadata": {},
   "outputs": [],
   "source": [
    "import scipy.stats as sc"
   ]
  },
  {
   "cell_type": "code",
   "execution_count": 16,
   "id": "21936488-df95-4b68-8597-4792e7e06c3f",
   "metadata": {},
   "outputs": [
    {
     "data": {
      "text/plain": [
       "['__add__',\n",
       " '__class__',\n",
       " '__contains__',\n",
       " '__delattr__',\n",
       " '__dir__',\n",
       " '__doc__',\n",
       " '__eq__',\n",
       " '__format__',\n",
       " '__ge__',\n",
       " '__getattribute__',\n",
       " '__getitem__',\n",
       " '__getnewargs__',\n",
       " '__gt__',\n",
       " '__hash__',\n",
       " '__init__',\n",
       " '__init_subclass__',\n",
       " '__iter__',\n",
       " '__le__',\n",
       " '__len__',\n",
       " '__lt__',\n",
       " '__mul__',\n",
       " '__ne__',\n",
       " '__new__',\n",
       " '__reduce__',\n",
       " '__reduce_ex__',\n",
       " '__repr__',\n",
       " '__rmul__',\n",
       " '__setattr__',\n",
       " '__sizeof__',\n",
       " '__str__',\n",
       " '__subclasshook__',\n",
       " 'count',\n",
       " 'index']"
      ]
     },
     "execution_count": 16,
     "metadata": {},
     "output_type": "execute_result"
    }
   ],
   "source": [
    "q2_out = sc.chi2_contingency(q2_tab)\n",
    "dir(q2_out)"
   ]
  },
  {
   "cell_type": "code",
   "execution_count": 17,
   "id": "479ff65b-31f6-4935-a7c4-8011d44c0b8b",
   "metadata": {},
   "outputs": [
    {
     "data": {
      "text/plain": [
       "(13.84425336760869,\n",
       " 0.003125001283622576,\n",
       " 3,\n",
       " array([[ 763.27156595,  735.31950624,  802.04377781,  840.36514999],\n",
       "        [ 929.72843405,  895.68049376,  976.95622219, 1023.63485001]]))"
      ]
     },
     "execution_count": 17,
     "metadata": {},
     "output_type": "execute_result"
    }
   ],
   "source": [
    "q2_out"
   ]
  },
  {
   "cell_type": "code",
   "execution_count": 18,
   "id": "ab78079b-9f5f-49ff-85e6-18f211798ff4",
   "metadata": {},
   "outputs": [
    {
     "data": {
      "text/plain": [
       "0.003125001283622576"
      ]
     },
     "execution_count": 18,
     "metadata": {},
     "output_type": "execute_result"
    }
   ],
   "source": [
    "q2_out[1]"
   ]
  },
  {
   "cell_type": "code",
   "execution_count": null,
   "id": "190b0db0-c126-4ffd-b75a-4a72f4972bf1",
   "metadata": {},
   "outputs": [],
   "source": [
    "# pvalue가 유의수준 0.05보다 작으므로 귀무가설을 기각함(Y)"
   ]
  },
  {
   "cell_type": "code",
   "execution_count": null,
   "id": "4b2102ce-de9a-4cac-a9cc-5246ecd474b9",
   "metadata": {},
   "outputs": [],
   "source": [
    "# (정답) 0.0031, Y"
   ]
  },
  {
   "cell_type": "markdown",
   "id": "0ab52b85-8acc-41f4-86d9-a517d7cc016f",
   "metadata": {},
   "source": [
    "## 3. Decision Tree"
   ]
  },
  {
   "cell_type": "code",
   "execution_count": null,
   "id": "61f220e2-9726-4d40-8e7b-2c847e8c624a",
   "metadata": {},
   "outputs": [],
   "source": [
    "# =============================================================================\n",
    "# 3.Segmentation 값이 A 또는 D인 데이터만 사용하여 의사결정 나무 기법으로 분류\n",
    "# 정확도를\n",
    "# 측정해 본다. \n",
    "# - 결측치가 포함된 행은 제거한 후 진행하시오.\n",
    "# - Train대 Test 7대3으로 데이터를 분리한다. (Seed = 123)\n",
    "# - Train 데이터를 사용하여 의사결정나무 학습을 수행하고, Test 데이터로 평가를\n",
    "# 수행한다.\n",
    "# - 의사결정나무 학습 시, 다음과 같이 설정하시오:\n",
    "# • Feature: Age_gr, Gender, Work_Experience, Family_Size, \n",
    "#             Ever_Married, Graduated, Spending_Score\n",
    "# • Label : Segmentation\n",
    "# • Parameter : Gini / Max Depth = 7 / Seed = 123\n",
    "# 이 때 전체 정확도(Accuracy)를 소수점 셋째 자리 이하는 버리고 소수점 둘째자리까지\n",
    "# 기술하시오.\n",
    "# (답안 예시) 0.12\n",
    "# ============================================================================="
   ]
  },
  {
   "cell_type": "code",
   "execution_count": null,
   "id": "01b41946-ca06-4a9b-a1bf-af2a5313fb98",
   "metadata": {},
   "outputs": [],
   "source": [
    "# 결측치 있으면 Decision Tree 사용 불가"
   ]
  },
  {
   "cell_type": "code",
   "execution_count": 19,
   "id": "f0461fb3-2462-45e0-b71b-5f3c17f03d75",
   "metadata": {},
   "outputs": [
    {
     "data": {
      "text/plain": [
       "(6967, 3557)"
      ]
     },
     "execution_count": 19,
     "metadata": {},
     "output_type": "execute_result"
    }
   ],
   "source": [
    "q3 = q2[q2.Segmentation.isin(['A', 'D'])]\n",
    "len(q2), len(q3)"
   ]
  },
  {
   "cell_type": "code",
   "execution_count": 20,
   "id": "8e346cf1-38da-4547-a6dd-7812b98e3203",
   "metadata": {},
   "outputs": [],
   "source": [
    "from sklearn.model_selection import train_test_split\n",
    "from sklearn.tree import DecisionTreeClassifier"
   ]
  },
  {
   "cell_type": "code",
   "execution_count": 21,
   "id": "95bd8db6-470c-4a8e-b36d-a5b6fbd11ca9",
   "metadata": {},
   "outputs": [],
   "source": [
    "train, test = train_test_split(q3, \n",
    "                               test_size=0.3, \n",
    "                               random_state=123)"
   ]
  },
  {
   "cell_type": "code",
   "execution_count": 22,
   "id": "e064238f-ef7d-4712-b17a-1da2a09acc3c",
   "metadata": {},
   "outputs": [
    {
     "data": {
      "text/plain": [
       "Index(['ID', 'Age', 'Age_gr', 'Gender', 'Work_Experience', 'Family_Size',\n",
       "       'Ever_Married', 'Graduated', 'Profession', 'Spending_Score', 'Var_1',\n",
       "       'Segmentation'],\n",
       "      dtype='object')"
      ]
     },
     "execution_count": 22,
     "metadata": {},
     "output_type": "execute_result"
    }
   ],
   "source": [
    "train.columns"
   ]
  },
  {
   "cell_type": "code",
   "execution_count": 23,
   "id": "6f89f148-da96-475b-8792-0885548219c6",
   "metadata": {},
   "outputs": [],
   "source": [
    "x_var = ['Age_gr', 'Gender', 'Work_Experience', 'Family_Size', \n",
    "         'Ever_Married', 'Graduated', 'Spending_Score']"
   ]
  },
  {
   "cell_type": "code",
   "execution_count": 24,
   "id": "04c9dcf8-0a2a-44f0-a0a6-31f4ab7086b1",
   "metadata": {},
   "outputs": [],
   "source": [
    "dt = DecisionTreeClassifier(max_depth=7, random_state=123)"
   ]
  },
  {
   "cell_type": "code",
   "execution_count": 25,
   "id": "20b227a8-cc35-4be5-b27b-d2c592b0b4b3",
   "metadata": {},
   "outputs": [
    {
     "data": {
      "text/plain": [
       "DecisionTreeClassifier(max_depth=7, random_state=123)"
      ]
     },
     "execution_count": 25,
     "metadata": {},
     "output_type": "execute_result"
    }
   ],
   "source": [
    "dt.fit(train[x_var], train.Segmentation)"
   ]
  },
  {
   "cell_type": "code",
   "execution_count": 26,
   "id": "6da48373-110b-4e88-a0c7-ae7885a5eb0e",
   "metadata": {},
   "outputs": [],
   "source": [
    "pred = dt.predict(test[x_var])"
   ]
  },
  {
   "cell_type": "code",
   "execution_count": 28,
   "id": "0f9d9e26-262f-4825-b1a2-738cf0a81938",
   "metadata": {},
   "outputs": [
    {
     "data": {
      "text/plain": [
       "0.6807116104868914"
      ]
     },
     "execution_count": 28,
     "metadata": {},
     "output_type": "execute_result"
    }
   ],
   "source": [
    "dt.score(test[x_var], test.Segmentation)"
   ]
  },
  {
   "cell_type": "code",
   "execution_count": null,
   "id": "28c5d831-00b3-417a-be5e-2ffa02eb47bb",
   "metadata": {},
   "outputs": [],
   "source": [
    "# (정답) 0.68"
   ]
  },
  {
   "cell_type": "markdown",
   "id": "9a4c68bc-2579-44e3-b98e-1b95ea8cb8d5",
   "metadata": {},
   "source": [
    "# Dataset_06"
   ]
  },
  {
   "cell_type": "code",
   "execution_count": null,
   "id": "ac5d2532-9f73-4669-b48a-8915b6dc188e",
   "metadata": {},
   "outputs": [],
   "source": [
    "# =============================================================================\n",
    "# =============================================================================\n",
    "# # 문제 06 유형(DataSet_06.csv 이용)\n",
    "#\n",
    "# 구분자 : comma(“,”), 4,323 Rows, 19 Columns, UTF-8 인코딩\n",
    "\n",
    "# 주택 관련 정보를 바탕으로 주택 가격을 예측해 보고자 한다. \n",
    "# 다음은 확보한 주택 관련 데이터로 총 19개 컬럼으로 구성되어\n",
    "# 있다.\n",
    "\n",
    "# 컬 럼 / 정 의 / Type\n",
    "# id / 매물 번호 / Double\n",
    "# date / 날짜 / String\n",
    "# price / 거래 가격 / Double\n",
    "# bedrooms / 방 개수 / Double\n",
    "# bathrooms / 화장실 개수 (화장실은 있으나 샤워기 없는 경우 0.5로 처리) / Double\n",
    "# sqft_living / 건축물 면적 / Double\n",
    "# sqft_lot / 대지 면적 / Double\n",
    "# floors / 건축물의 층수 / Double\n",
    "# waterfront / 강변 조망 가능 여부 (0 / 1) / Double\n",
    "# view / 경관 (나쁨에서 좋음으로 0 ~ 4로 표시) / Double\n",
    "# condition / 관리 상태 (나쁨에서 좋음으로 1 ~ 5로 표시) / Double\n",
    "# grade / 등급 (낮음에서 높음으로 1 ~ 13으로 표시) / Double\n",
    "# sqft_above / 지상 면적 / Double\n",
    "# sqft_basement / 지하실 면적 / Double\n",
    "# yr_built / 건축 연도 / Double\n",
    "# yr_renovated / 개축 연도 / Double\n",
    "# zipcode / 우편번호 / Double\n",
    "# sqft_living15 / 15개의 인근 주택의 평균 건물 면적 / Double\n",
    "# sqft_lot15 / 15개의 인근 주택의 평균 대지 면적 / Double\n",
    "# =============================================================================\n",
    "# ============================================================================="
   ]
  },
  {
   "cell_type": "code",
   "execution_count": 41,
   "id": "ba17bcd4-0185-4499-ab65-057ca045a73a",
   "metadata": {},
   "outputs": [],
   "source": [
    "import pandas as pd\n",
    "import numpy as np"
   ]
  },
  {
   "cell_type": "markdown",
   "id": "42af322a-498f-44d1-978e-7df877cede05",
   "metadata": {},
   "source": [
    "## 1."
   ]
  },
  {
   "cell_type": "code",
   "execution_count": null,
   "id": "8f76de08-1736-4c99-aca7-9eb9a02271f9",
   "metadata": {},
   "outputs": [],
   "source": [
    "# =============================================================================\n",
    "# 1.강변 조망이 가능한지 여부(waterfront)에 따라 평균 주택 가격을 계산하고 조망이\n",
    "# 가능한 경우와 그렇지 않은 경우의 평균 가격 차이의 절대값을 구하시오. 답은\n",
    "# 소수점 이하는 버리고 정수부만 기술하시오. (답안 예시) 1234567\n",
    "# ============================================================================="
   ]
  },
  {
   "cell_type": "code",
   "execution_count": 29,
   "id": "eaada1a0-c5d2-4278-afa8-4203743d4432",
   "metadata": {},
   "outputs": [],
   "source": [
    "dataset6 = pd.read_csv('Dataset/Dataset_06.csv')"
   ]
  },
  {
   "cell_type": "code",
   "execution_count": 30,
   "id": "2e705329-50a9-47b6-a57c-b5c83ccacbd9",
   "metadata": {},
   "outputs": [
    {
     "name": "stdout",
     "output_type": "stream",
     "text": [
      "<class 'pandas.core.frame.DataFrame'>\n",
      "RangeIndex: 4323 entries, 0 to 4322\n",
      "Data columns (total 19 columns):\n",
      " #   Column         Non-Null Count  Dtype  \n",
      "---  ------         --------------  -----  \n",
      " 0   id             4323 non-null   int64  \n",
      " 1   date           4323 non-null   object \n",
      " 2   price          4323 non-null   float64\n",
      " 3   bedrooms       4323 non-null   int64  \n",
      " 4   bathrooms      4323 non-null   float64\n",
      " 5   sqft_living    4323 non-null   int64  \n",
      " 6   sqft_lot       4323 non-null   int64  \n",
      " 7   floors         4323 non-null   float64\n",
      " 8   waterfront     4323 non-null   int64  \n",
      " 9   view           4323 non-null   int64  \n",
      " 10  condition      4323 non-null   int64  \n",
      " 11  grade          4323 non-null   int64  \n",
      " 12  sqft_above     4323 non-null   int64  \n",
      " 13  sqft_basement  4323 non-null   int64  \n",
      " 14  yr_built       4323 non-null   int64  \n",
      " 15  yr_renovated   4323 non-null   int64  \n",
      " 16  zipcode        4323 non-null   int64  \n",
      " 17  sqft_living15  4323 non-null   int64  \n",
      " 18  sqft_lot15     4323 non-null   int64  \n",
      "dtypes: float64(3), int64(15), object(1)\n",
      "memory usage: 641.8+ KB\n"
     ]
    }
   ],
   "source": [
    "dataset6.info()"
   ]
  },
  {
   "cell_type": "code",
   "execution_count": 31,
   "id": "4326378c-4423-4d12-a1ab-ee170e347522",
   "metadata": {},
   "outputs": [],
   "source": [
    "q1 = dataset6.copy()"
   ]
  },
  {
   "cell_type": "code",
   "execution_count": 32,
   "id": "d2e82551-1ebd-4bda-b51b-19a9a43d67cf",
   "metadata": {},
   "outputs": [
    {
     "data": {
      "text/html": [
       "<div>\n",
       "<style scoped>\n",
       "    .dataframe tbody tr th:only-of-type {\n",
       "        vertical-align: middle;\n",
       "    }\n",
       "\n",
       "    .dataframe tbody tr th {\n",
       "        vertical-align: top;\n",
       "    }\n",
       "\n",
       "    .dataframe thead th {\n",
       "        text-align: right;\n",
       "    }\n",
       "</style>\n",
       "<table border=\"1\" class=\"dataframe\">\n",
       "  <thead>\n",
       "    <tr style=\"text-align: right;\">\n",
       "      <th></th>\n",
       "      <th>id</th>\n",
       "      <th>date</th>\n",
       "      <th>price</th>\n",
       "      <th>bedrooms</th>\n",
       "      <th>bathrooms</th>\n",
       "      <th>sqft_living</th>\n",
       "      <th>sqft_lot</th>\n",
       "      <th>floors</th>\n",
       "      <th>waterfront</th>\n",
       "      <th>view</th>\n",
       "      <th>condition</th>\n",
       "      <th>grade</th>\n",
       "      <th>sqft_above</th>\n",
       "      <th>sqft_basement</th>\n",
       "      <th>yr_built</th>\n",
       "      <th>yr_renovated</th>\n",
       "      <th>zipcode</th>\n",
       "      <th>sqft_living15</th>\n",
       "      <th>sqft_lot15</th>\n",
       "    </tr>\n",
       "  </thead>\n",
       "  <tbody>\n",
       "    <tr>\n",
       "      <th>0</th>\n",
       "      <td>2597000006</td>\n",
       "      <td>20150309T000000</td>\n",
       "      <td>347500.0</td>\n",
       "      <td>3</td>\n",
       "      <td>1.50</td>\n",
       "      <td>1180</td>\n",
       "      <td>8353</td>\n",
       "      <td>1.0</td>\n",
       "      <td>0</td>\n",
       "      <td>0</td>\n",
       "      <td>3</td>\n",
       "      <td>7</td>\n",
       "      <td>1180</td>\n",
       "      <td>0</td>\n",
       "      <td>1960</td>\n",
       "      <td>0</td>\n",
       "      <td>98155</td>\n",
       "      <td>1710</td>\n",
       "      <td>8748</td>\n",
       "    </tr>\n",
       "    <tr>\n",
       "      <th>1</th>\n",
       "      <td>8813400345</td>\n",
       "      <td>20150414T000000</td>\n",
       "      <td>575000.0</td>\n",
       "      <td>2</td>\n",
       "      <td>1.00</td>\n",
       "      <td>980</td>\n",
       "      <td>3663</td>\n",
       "      <td>1.0</td>\n",
       "      <td>0</td>\n",
       "      <td>0</td>\n",
       "      <td>5</td>\n",
       "      <td>7</td>\n",
       "      <td>980</td>\n",
       "      <td>0</td>\n",
       "      <td>1909</td>\n",
       "      <td>0</td>\n",
       "      <td>98105</td>\n",
       "      <td>1620</td>\n",
       "      <td>3706</td>\n",
       "    </tr>\n",
       "    <tr>\n",
       "      <th>2</th>\n",
       "      <td>226059106</td>\n",
       "      <td>20150102T000000</td>\n",
       "      <td>489500.0</td>\n",
       "      <td>3</td>\n",
       "      <td>1.75</td>\n",
       "      <td>2090</td>\n",
       "      <td>65558</td>\n",
       "      <td>1.0</td>\n",
       "      <td>0</td>\n",
       "      <td>0</td>\n",
       "      <td>3</td>\n",
       "      <td>8</td>\n",
       "      <td>1330</td>\n",
       "      <td>760</td>\n",
       "      <td>1977</td>\n",
       "      <td>0</td>\n",
       "      <td>98072</td>\n",
       "      <td>2450</td>\n",
       "      <td>47178</td>\n",
       "    </tr>\n",
       "    <tr>\n",
       "      <th>3</th>\n",
       "      <td>8645500270</td>\n",
       "      <td>20141028T000000</td>\n",
       "      <td>246000.0</td>\n",
       "      <td>4</td>\n",
       "      <td>1.75</td>\n",
       "      <td>1720</td>\n",
       "      <td>7455</td>\n",
       "      <td>1.0</td>\n",
       "      <td>0</td>\n",
       "      <td>0</td>\n",
       "      <td>4</td>\n",
       "      <td>7</td>\n",
       "      <td>1020</td>\n",
       "      <td>700</td>\n",
       "      <td>1963</td>\n",
       "      <td>0</td>\n",
       "      <td>98058</td>\n",
       "      <td>1720</td>\n",
       "      <td>7700</td>\n",
       "    </tr>\n",
       "    <tr>\n",
       "      <th>4</th>\n",
       "      <td>7010700550</td>\n",
       "      <td>20141114T000000</td>\n",
       "      <td>595000.0</td>\n",
       "      <td>3</td>\n",
       "      <td>2.50</td>\n",
       "      <td>2030</td>\n",
       "      <td>5100</td>\n",
       "      <td>2.0</td>\n",
       "      <td>0</td>\n",
       "      <td>0</td>\n",
       "      <td>3</td>\n",
       "      <td>7</td>\n",
       "      <td>2030</td>\n",
       "      <td>0</td>\n",
       "      <td>2008</td>\n",
       "      <td>0</td>\n",
       "      <td>98199</td>\n",
       "      <td>1790</td>\n",
       "      <td>4380</td>\n",
       "    </tr>\n",
       "  </tbody>\n",
       "</table>\n",
       "</div>"
      ],
      "text/plain": [
       "           id             date     price  bedrooms  bathrooms  sqft_living  \\\n",
       "0  2597000006  20150309T000000  347500.0         3       1.50         1180   \n",
       "1  8813400345  20150414T000000  575000.0         2       1.00          980   \n",
       "2   226059106  20150102T000000  489500.0         3       1.75         2090   \n",
       "3  8645500270  20141028T000000  246000.0         4       1.75         1720   \n",
       "4  7010700550  20141114T000000  595000.0         3       2.50         2030   \n",
       "\n",
       "   sqft_lot  floors  waterfront  view  condition  grade  sqft_above  \\\n",
       "0      8353     1.0           0     0          3      7        1180   \n",
       "1      3663     1.0           0     0          5      7         980   \n",
       "2     65558     1.0           0     0          3      8        1330   \n",
       "3      7455     1.0           0     0          4      7        1020   \n",
       "4      5100     2.0           0     0          3      7        2030   \n",
       "\n",
       "   sqft_basement  yr_built  yr_renovated  zipcode  sqft_living15  sqft_lot15  \n",
       "0              0      1960             0    98155           1710        8748  \n",
       "1              0      1909             0    98105           1620        3706  \n",
       "2            760      1977             0    98072           2450       47178  \n",
       "3            700      1963             0    98058           1720        7700  \n",
       "4              0      2008             0    98199           1790        4380  "
      ]
     },
     "execution_count": 32,
     "metadata": {},
     "output_type": "execute_result"
    }
   ],
   "source": [
    "q1.head()"
   ]
  },
  {
   "cell_type": "code",
   "execution_count": 33,
   "id": "89370c09-082e-490e-80ce-200da1247b84",
   "metadata": {},
   "outputs": [
    {
     "data": {
      "text/plain": [
       "waterfront\n",
       "0    5.321651e+05\n",
       "1    1.699438e+06\n",
       "Name: price, dtype: float64"
      ]
     },
     "execution_count": 33,
     "metadata": {},
     "output_type": "execute_result"
    }
   ],
   "source": [
    "q1_tab = q1.groupby(['waterfront'])['price'].mean()\n",
    "q1_tab"
   ]
  },
  {
   "cell_type": "code",
   "execution_count": 34,
   "id": "1edb8403-4fc9-4c5f-9b1d-74aabfebec46",
   "metadata": {},
   "outputs": [
    {
     "data": {
      "text/plain": [
       "532165.1307692308"
      ]
     },
     "execution_count": 34,
     "metadata": {},
     "output_type": "execute_result"
    }
   ],
   "source": [
    "q1_tab[0]"
   ]
  },
  {
   "cell_type": "code",
   "execution_count": 35,
   "id": "03bb25ed-d272-483e-847e-9dc1bef757fe",
   "metadata": {},
   "outputs": [
    {
     "data": {
      "text/plain": [
       "1167272.748018648"
      ]
     },
     "execution_count": 35,
     "metadata": {},
     "output_type": "execute_result"
    }
   ],
   "source": [
    "abs(q1_tab[0] - q1_tab[1])"
   ]
  },
  {
   "cell_type": "code",
   "execution_count": null,
   "id": "3ab60be6-cf0d-4b9f-8263-2ecbe3b897bd",
   "metadata": {},
   "outputs": [],
   "source": [
    "# (답) 1167272"
   ]
  },
  {
   "cell_type": "markdown",
   "id": "1d431dc6-272f-45ee-b282-c25178d203ac",
   "metadata": {},
   "source": [
    "### 해설"
   ]
  },
  {
   "cell_type": "code",
   "execution_count": 66,
   "id": "88babf0f-be3b-4592-9d12-08632a0c76a1",
   "metadata": {},
   "outputs": [],
   "source": [
    "q1_1 = dataset6[dataset6.waterfront==1]['price'].mean()\n",
    "q1_2 = dataset6[dataset6.waterfront==0]['price'].mean()"
   ]
  },
  {
   "cell_type": "code",
   "execution_count": 67,
   "id": "6a094c0e-b2d0-45ff-8afd-788fdcc88043",
   "metadata": {},
   "outputs": [
    {
     "data": {
      "text/plain": [
       "1167272.748018648"
      ]
     },
     "execution_count": 67,
     "metadata": {},
     "output_type": "execute_result"
    }
   ],
   "source": [
    "abs(q1_1 - q1_2)"
   ]
  },
  {
   "cell_type": "code",
   "execution_count": null,
   "id": "130f5ace-4ffb-453f-b246-d77b9ca0564a",
   "metadata": {},
   "outputs": [],
   "source": [
    "# (정답) 1167272"
   ]
  },
  {
   "cell_type": "markdown",
   "id": "0a502587-a4c6-4667-a146-e1b934c4bc19",
   "metadata": {},
   "source": [
    "## 2."
   ]
  },
  {
   "cell_type": "code",
   "execution_count": null,
   "id": "b54c69f6-7f0f-4556-a58b-9d0e3ceed07d",
   "metadata": {},
   "outputs": [],
   "source": [
    "# =============================================================================\n",
    "# 2.price, bedrooms, bathrooms, sqft_living, sqft_lot, floors, yr_built 등 7개의 변수 간의\n",
    "# 상관분석을 수행하고 price와의 상관계수의 절대값이 가장 큰 변수와 가장 작은\n",
    "# 변수를 차례로 기술하시오. (답안 예시) view, zipcode\n",
    "# \n",
    "# ============================================================================="
   ]
  },
  {
   "cell_type": "code",
   "execution_count": 45,
   "id": "56adba82-746e-4e16-8cf5-e56ee723bae9",
   "metadata": {},
   "outputs": [
    {
     "data": {
      "text/html": [
       "<div>\n",
       "<style scoped>\n",
       "    .dataframe tbody tr th:only-of-type {\n",
       "        vertical-align: middle;\n",
       "    }\n",
       "\n",
       "    .dataframe tbody tr th {\n",
       "        vertical-align: top;\n",
       "    }\n",
       "\n",
       "    .dataframe thead th {\n",
       "        text-align: right;\n",
       "    }\n",
       "</style>\n",
       "<table border=\"1\" class=\"dataframe\">\n",
       "  <thead>\n",
       "    <tr style=\"text-align: right;\">\n",
       "      <th></th>\n",
       "      <th>price</th>\n",
       "      <th>bedrooms</th>\n",
       "      <th>bathrooms</th>\n",
       "      <th>sqft_living</th>\n",
       "      <th>sqft_lot</th>\n",
       "      <th>floors</th>\n",
       "      <th>yr_built</th>\n",
       "    </tr>\n",
       "  </thead>\n",
       "  <tbody>\n",
       "    <tr>\n",
       "      <th>price</th>\n",
       "      <td>1.000000</td>\n",
       "      <td>0.279824</td>\n",
       "      <td>0.534277</td>\n",
       "      <td>0.709157</td>\n",
       "      <td>0.106341</td>\n",
       "      <td>0.270423</td>\n",
       "      <td>0.059895</td>\n",
       "    </tr>\n",
       "    <tr>\n",
       "      <th>bedrooms</th>\n",
       "      <td>0.279824</td>\n",
       "      <td>1.000000</td>\n",
       "      <td>0.468611</td>\n",
       "      <td>0.517502</td>\n",
       "      <td>0.017658</td>\n",
       "      <td>0.151279</td>\n",
       "      <td>0.137440</td>\n",
       "    </tr>\n",
       "    <tr>\n",
       "      <th>bathrooms</th>\n",
       "      <td>0.534277</td>\n",
       "      <td>0.468611</td>\n",
       "      <td>1.000000</td>\n",
       "      <td>0.751835</td>\n",
       "      <td>0.105676</td>\n",
       "      <td>0.495845</td>\n",
       "      <td>0.509019</td>\n",
       "    </tr>\n",
       "    <tr>\n",
       "      <th>sqft_living</th>\n",
       "      <td>0.709157</td>\n",
       "      <td>0.517502</td>\n",
       "      <td>0.751835</td>\n",
       "      <td>1.000000</td>\n",
       "      <td>0.180408</td>\n",
       "      <td>0.368670</td>\n",
       "      <td>0.323522</td>\n",
       "    </tr>\n",
       "    <tr>\n",
       "      <th>sqft_lot</th>\n",
       "      <td>0.106341</td>\n",
       "      <td>0.017658</td>\n",
       "      <td>0.105676</td>\n",
       "      <td>0.180408</td>\n",
       "      <td>1.000000</td>\n",
       "      <td>0.032762</td>\n",
       "      <td>0.062490</td>\n",
       "    </tr>\n",
       "    <tr>\n",
       "      <th>floors</th>\n",
       "      <td>0.270423</td>\n",
       "      <td>0.151279</td>\n",
       "      <td>0.495845</td>\n",
       "      <td>0.368670</td>\n",
       "      <td>0.032762</td>\n",
       "      <td>1.000000</td>\n",
       "      <td>0.505070</td>\n",
       "    </tr>\n",
       "    <tr>\n",
       "      <th>yr_built</th>\n",
       "      <td>0.059895</td>\n",
       "      <td>0.137440</td>\n",
       "      <td>0.509019</td>\n",
       "      <td>0.323522</td>\n",
       "      <td>0.062490</td>\n",
       "      <td>0.505070</td>\n",
       "      <td>1.000000</td>\n",
       "    </tr>\n",
       "  </tbody>\n",
       "</table>\n",
       "</div>"
      ],
      "text/plain": [
       "                price  bedrooms  bathrooms  sqft_living  sqft_lot    floors  \\\n",
       "price        1.000000  0.279824   0.534277     0.709157  0.106341  0.270423   \n",
       "bedrooms     0.279824  1.000000   0.468611     0.517502  0.017658  0.151279   \n",
       "bathrooms    0.534277  0.468611   1.000000     0.751835  0.105676  0.495845   \n",
       "sqft_living  0.709157  0.517502   0.751835     1.000000  0.180408  0.368670   \n",
       "sqft_lot     0.106341  0.017658   0.105676     0.180408  1.000000  0.032762   \n",
       "floors       0.270423  0.151279   0.495845     0.368670  0.032762  1.000000   \n",
       "yr_built     0.059895  0.137440   0.509019     0.323522  0.062490  0.505070   \n",
       "\n",
       "             yr_built  \n",
       "price        0.059895  \n",
       "bedrooms     0.137440  \n",
       "bathrooms    0.509019  \n",
       "sqft_living  0.323522  \n",
       "sqft_lot     0.062490  \n",
       "floors       0.505070  \n",
       "yr_built     1.000000  "
      ]
     },
     "execution_count": 45,
     "metadata": {},
     "output_type": "execute_result"
    }
   ],
   "source": [
    "q1[['price', 'bedrooms', 'bathrooms', 'sqft_living', 'sqft_lot', 'floors', 'yr_built']].corr()"
   ]
  },
  {
   "cell_type": "code",
   "execution_count": 47,
   "id": "7582d9a5-18f5-48fe-b5fb-6da4549d81b4",
   "metadata": {},
   "outputs": [
    {
     "data": {
      "text/plain": [
       "price          1.000000\n",
       "bedrooms       0.279824\n",
       "bathrooms      0.534277\n",
       "sqft_living    0.709157\n",
       "sqft_lot       0.106341\n",
       "floors         0.270423\n",
       "yr_built       0.059895\n",
       "Name: price, dtype: float64"
      ]
     },
     "execution_count": 47,
     "metadata": {},
     "output_type": "execute_result"
    }
   ],
   "source": [
    "q2_out = q1[['price', 'bedrooms', 'bathrooms', 'sqft_living', 'sqft_lot', 'floors', 'yr_built']].corr()['price']\n",
    "q2_out"
   ]
  },
  {
   "cell_type": "code",
   "execution_count": null,
   "id": "180915c1-080f-4e20-b4a1-a5dea3081c37",
   "metadata": {},
   "outputs": [],
   "source": [
    "# (답) sqft_living, yr_built"
   ]
  },
  {
   "cell_type": "markdown",
   "id": "1be42faa-3327-4924-beb8-aea246b46be9",
   "metadata": {},
   "source": [
    "### 해설"
   ]
  },
  {
   "cell_type": "code",
   "execution_count": 68,
   "id": "ab0bf0e9-eb4c-4d41-a820-28680074736f",
   "metadata": {},
   "outputs": [],
   "source": [
    "x_var = ['price', 'bedrooms', 'bathrooms', 'sqft_living', 'sqft_lot', 'floors', 'yr_built']"
   ]
  },
  {
   "cell_type": "code",
   "execution_count": 69,
   "id": "b9e1229e-7f59-4ef7-bafc-0935636ab334",
   "metadata": {},
   "outputs": [],
   "source": [
    "q2 = dataset6[x_var]"
   ]
  },
  {
   "cell_type": "code",
   "execution_count": 71,
   "id": "22c67feb-4aab-43d1-95c4-ad45e89fed39",
   "metadata": {},
   "outputs": [
    {
     "data": {
      "text/plain": [
       "price          1.000000\n",
       "bedrooms       0.279824\n",
       "bathrooms      0.534277\n",
       "sqft_living    0.709157\n",
       "sqft_lot       0.106341\n",
       "floors         0.270423\n",
       "yr_built       0.059895\n",
       "Name: price, dtype: float64"
      ]
     },
     "execution_count": 71,
     "metadata": {},
     "output_type": "execute_result"
    }
   ],
   "source": [
    "q2_out = q2.corr()['price']\n",
    "q2_out"
   ]
  },
  {
   "cell_type": "code",
   "execution_count": 72,
   "id": "1b6589cf-08a8-4510-a4ce-15eb2d05a7bd",
   "metadata": {},
   "outputs": [
    {
     "data": {
      "text/plain": [
       "bedrooms       0.279824\n",
       "bathrooms      0.534277\n",
       "sqft_living    0.709157\n",
       "sqft_lot       0.106341\n",
       "floors         0.270423\n",
       "yr_built       0.059895\n",
       "Name: price, dtype: float64"
      ]
     },
     "execution_count": 72,
     "metadata": {},
     "output_type": "execute_result"
    }
   ],
   "source": [
    "q2_out = q2.corr().iloc[1:, 0]\n",
    "q2_out"
   ]
  },
  {
   "cell_type": "code",
   "execution_count": 73,
   "id": "6fd7ad2f-aa78-4966-bd73-879ca66d74cc",
   "metadata": {},
   "outputs": [
    {
     "data": {
      "text/plain": [
       "0.7091565835706303"
      ]
     },
     "execution_count": 73,
     "metadata": {},
     "output_type": "execute_result"
    }
   ],
   "source": [
    "q2_out.max()"
   ]
  },
  {
   "cell_type": "code",
   "execution_count": 74,
   "id": "e4ca2a08-c6fe-4676-aa6d-da3ae1c75258",
   "metadata": {},
   "outputs": [
    {
     "data": {
      "text/plain": [
       "0.059895410779646746"
      ]
     },
     "execution_count": 74,
     "metadata": {},
     "output_type": "execute_result"
    }
   ],
   "source": [
    "q2_out.min()"
   ]
  },
  {
   "cell_type": "code",
   "execution_count": 79,
   "id": "4428a75d-a587-498d-bd88-9a801f9a4ab2",
   "metadata": {},
   "outputs": [
    {
     "data": {
      "text/plain": [
       "sqft_living    0.709157\n",
       "Name: price, dtype: float64"
      ]
     },
     "execution_count": 79,
     "metadata": {},
     "output_type": "execute_result"
    }
   ],
   "source": [
    "q2_out.nlargest(1)"
   ]
  },
  {
   "cell_type": "code",
   "execution_count": 80,
   "id": "f6ce7277-9ae3-4c61-b189-3aeb5cfeef94",
   "metadata": {},
   "outputs": [
    {
     "data": {
      "text/plain": [
       "yr_built    0.059895\n",
       "Name: price, dtype: float64"
      ]
     },
     "execution_count": 80,
     "metadata": {},
     "output_type": "execute_result"
    }
   ],
   "source": [
    "q2_out.nsmallest(1)"
   ]
  },
  {
   "cell_type": "code",
   "execution_count": null,
   "id": "2b9cdf7b-50a3-492d-9fda-c0cd63284d1f",
   "metadata": {},
   "outputs": [],
   "source": [
    "# (정답) sqft_living, yr_built"
   ]
  },
  {
   "cell_type": "markdown",
   "id": "208909c2-ac6d-40f7-a463-c5cfcaf79c9f",
   "metadata": {},
   "source": [
    "## 3."
   ]
  },
  {
   "cell_type": "code",
   "execution_count": null,
   "id": "1cb774e5-0eb5-456a-8622-1497ff7b6b25",
   "metadata": {},
   "outputs": [],
   "source": [
    "## =============================================================================\n",
    "# 3. id, date, 그리고 zipcode를 제외한 모든 변수를 독립변수로, price를 종속변수로 하여\n",
    "# 회귀분석을 수행하시오. 통계적 유의성을 갖지 못하는 독립변수를 제거하면 회귀\n",
    "# 모형에 남는 변수는 모두\n",
    "# 몇 개인가? 이 때 음의 회귀계수를 가지는 변수는 몇 개인가? (답안 예시) 5, 3\n",
    "# =============================================================================\n",
    "\n",
    "# =============================================================================\n",
    "# (참고)\n",
    "# import pandas as pd\n",
    "# import numpy as np\n",
    "# from sklearn.linear_model import LinearRegression\n",
    "# from statsmodels.formula.api import ols\n",
    "# ============================================================================="
   ]
  },
  {
   "cell_type": "code",
   "execution_count": 50,
   "id": "11c8940b-f831-428d-bfda-71796a9db1dc",
   "metadata": {},
   "outputs": [],
   "source": [
    "import pandas as pd\n",
    "import numpy as np\n",
    "from sklearn.linear_model import LinearRegression\n",
    "from statsmodels.formula.api import ols"
   ]
  },
  {
   "cell_type": "code",
   "execution_count": 51,
   "id": "6faa18fe-8d13-4829-8589-59b844496fab",
   "metadata": {},
   "outputs": [
    {
     "data": {
      "text/plain": [
       "Index(['id', 'date', 'price', 'bedrooms', 'bathrooms', 'sqft_living',\n",
       "       'sqft_lot', 'floors', 'waterfront', 'view', 'condition', 'grade',\n",
       "       'sqft_above', 'sqft_basement', 'yr_built', 'yr_renovated', 'zipcode',\n",
       "       'sqft_living15', 'sqft_lot15'],\n",
       "      dtype='object')"
      ]
     },
     "execution_count": 51,
     "metadata": {},
     "output_type": "execute_result"
    }
   ],
   "source": [
    "q1.columns"
   ]
  },
  {
   "cell_type": "code",
   "execution_count": 53,
   "id": "9af3c3e2-c245-404b-9e6a-3a584fa94f13",
   "metadata": {},
   "outputs": [],
   "source": [
    "x = q1[['bedrooms', 'bathrooms', 'sqft_living', 'sqft_lot', 'floors', 'waterfront', \n",
    "        'view', 'condition', 'grade', 'sqft_above', 'sqft_basement', 'yr_built', \n",
    "        'yr_renovated', 'sqft_living15', 'sqft_lot15']]\n",
    "y = q1['price']"
   ]
  },
  {
   "cell_type": "code",
   "execution_count": 54,
   "id": "9fdb58fa-fbce-4b18-98d9-dd6a4aa5f00a",
   "metadata": {},
   "outputs": [
    {
     "data": {
      "text/plain": [
       "LinearRegression()"
      ]
     },
     "execution_count": 54,
     "metadata": {},
     "output_type": "execute_result"
    }
   ],
   "source": [
    "lm = LinearRegression()\n",
    "lm.fit(x, y)"
   ]
  },
  {
   "cell_type": "code",
   "execution_count": 55,
   "id": "3a602d7c-36fe-4ede-8910-1e5ad8cb5cba",
   "metadata": {},
   "outputs": [
    {
     "data": {
      "text/plain": [
       "array([-2.49955251e+04,  5.17923445e+04,  9.23080441e+01,  5.44484390e-03,\n",
       "        3.74819905e+04,  6.27652844e+05,  4.03977832e+04,  1.57057341e+04,\n",
       "        1.30627396e+05,  3.37357935e+01,  5.85722507e+01, -3.66689567e+03,\n",
       "        1.77031918e+01,  2.30114429e+01, -2.32290365e-01])"
      ]
     },
     "execution_count": 55,
     "metadata": {},
     "output_type": "execute_result"
    }
   ],
   "source": [
    "lm.coef_"
   ]
  },
  {
   "cell_type": "code",
   "execution_count": 56,
   "id": "526d5223-5608-4338-8df1-5ddfe8ea54ce",
   "metadata": {
    "collapsed": true,
    "jupyter": {
     "outputs_hidden": true
    },
    "tags": []
   },
   "outputs": [
    {
     "data": {
      "text/plain": [
       "\u001b[1;31mType:\u001b[0m        LinearRegression\n",
       "\u001b[1;31mString form:\u001b[0m LinearRegression()\n",
       "\u001b[1;31mFile:\u001b[0m        c:\\users\\boram yun\\anaconda3\\envs\\multi\\lib\\site-packages\\sklearn\\linear_model\\_base.py\n",
       "\u001b[1;31mDocstring:\u001b[0m  \n",
       "Ordinary least squares Linear Regression.\n",
       "\n",
       "LinearRegression fits a linear model with coefficients w = (w1, ..., wp)\n",
       "to minimize the residual sum of squares between the observed targets in\n",
       "the dataset, and the targets predicted by the linear approximation.\n",
       "\n",
       "Parameters\n",
       "----------\n",
       "fit_intercept : bool, default=True\n",
       "    Whether to calculate the intercept for this model. If set\n",
       "    to False, no intercept will be used in calculations\n",
       "    (i.e. data is expected to be centered).\n",
       "\n",
       "normalize : bool, default=False\n",
       "    This parameter is ignored when ``fit_intercept`` is set to False.\n",
       "    If True, the regressors X will be normalized before regression by\n",
       "    subtracting the mean and dividing by the l2-norm.\n",
       "    If you wish to standardize, please use\n",
       "    :class:`sklearn.preprocessing.StandardScaler` before calling ``fit`` on\n",
       "    an estimator with ``normalize=False``.\n",
       "\n",
       "copy_X : bool, default=True\n",
       "    If True, X will be copied; else, it may be overwritten.\n",
       "\n",
       "n_jobs : int, default=None\n",
       "    The number of jobs to use for the computation. This will only provide\n",
       "    speedup for n_targets > 1 and sufficient large problems.\n",
       "    ``None`` means 1 unless in a :obj:`joblib.parallel_backend` context.\n",
       "    ``-1`` means using all processors. See :term:`Glossary <n_jobs>`\n",
       "    for more details.\n",
       "\n",
       "Attributes\n",
       "----------\n",
       "coef_ : array of shape (n_features, ) or (n_targets, n_features)\n",
       "    Estimated coefficients for the linear regression problem.\n",
       "    If multiple targets are passed during the fit (y 2D), this\n",
       "    is a 2D array of shape (n_targets, n_features), while if only\n",
       "    one target is passed, this is a 1D array of length n_features.\n",
       "\n",
       "rank_ : int\n",
       "    Rank of matrix `X`. Only available when `X` is dense.\n",
       "\n",
       "singular_ : array of shape (min(X, y),)\n",
       "    Singular values of `X`. Only available when `X` is dense.\n",
       "\n",
       "intercept_ : float or array of shape (n_targets,)\n",
       "    Independent term in the linear model. Set to 0.0 if\n",
       "    `fit_intercept = False`.\n",
       "\n",
       "See Also\n",
       "--------\n",
       "sklearn.linear_model.Ridge : Ridge regression addresses some of the\n",
       "    problems of Ordinary Least Squares by imposing a penalty on the\n",
       "    size of the coefficients with l2 regularization.\n",
       "sklearn.linear_model.Lasso : The Lasso is a linear model that estimates\n",
       "    sparse coefficients with l1 regularization.\n",
       "sklearn.linear_model.ElasticNet : Elastic-Net is a linear regression\n",
       "    model trained with both l1 and l2 -norm regularization of the\n",
       "    coefficients.\n",
       "\n",
       "Notes\n",
       "-----\n",
       "From the implementation point of view, this is just plain Ordinary\n",
       "Least Squares (scipy.linalg.lstsq) wrapped as a predictor object.\n",
       "\n",
       "Examples\n",
       "--------\n",
       ">>> import numpy as np\n",
       ">>> from sklearn.linear_model import LinearRegression\n",
       ">>> X = np.array([[1, 1], [1, 2], [2, 2], [2, 3]])\n",
       ">>> # y = 1 * x_0 + 2 * x_1 + 3\n",
       ">>> y = np.dot(X, np.array([1, 2])) + 3\n",
       ">>> reg = LinearRegression().fit(X, y)\n",
       ">>> reg.score(X, y)\n",
       "1.0\n",
       ">>> reg.coef_\n",
       "array([1., 2.])\n",
       ">>> reg.intercept_\n",
       "3.0000...\n",
       ">>> reg.predict(np.array([[3, 5]]))\n",
       "array([16.])\n"
      ]
     },
     "metadata": {},
     "output_type": "display_data"
    }
   ],
   "source": [
    "lm?"
   ]
  },
  {
   "cell_type": "code",
   "execution_count": 57,
   "id": "fd891265-3bf1-410a-8977-0150dacfcb18",
   "metadata": {},
   "outputs": [],
   "source": [
    "# 식 구성한 후 대입하는 방식\n",
    "var_list = list(q1.columns)"
   ]
  },
  {
   "cell_type": "code",
   "execution_count": 58,
   "id": "031f8026-f0b2-415f-a12e-80b6bcbb4806",
   "metadata": {},
   "outputs": [
    {
     "data": {
      "text/plain": [
       "'id+date+price+bedrooms+bathrooms+sqft_living+sqft_lot+floors+waterfront+view+condition+grade+sqft_above+sqft_basement+yr_built+yr_renovated+zipcode+sqft_living15+sqft_lot15'"
      ]
     },
     "execution_count": 58,
     "metadata": {},
     "output_type": "execute_result"
    }
   ],
   "source": [
    "'+'.join(var_list)"
   ]
  },
  {
   "cell_type": "code",
   "execution_count": 62,
   "id": "7f5b03a0-fcee-4bb1-8147-c17b10d34d06",
   "metadata": {},
   "outputs": [
    {
     "data": {
      "text/plain": [
       "'price~id+date+price+bedrooms+bathrooms+sqft_living+sqft_lot+floors+waterfront+view+condition+grade+sqft_above+sqft_basement+yr_built+yr_renovated+zipcode+sqft_living15+sqft_lot15'"
      ]
     },
     "execution_count": 62,
     "metadata": {},
     "output_type": "execute_result"
    }
   ],
   "source": [
    "form='price~'+'+'.join(var_list)\n",
    "form"
   ]
  },
  {
   "cell_type": "code",
   "execution_count": 63,
   "id": "f05b5e4c-c3b4-45aa-94a6-73217be5d40a",
   "metadata": {},
   "outputs": [],
   "source": [
    "form = 'price~bedrooms+bathrooms+sqft_living+sqft_lot+floors+waterfront+view+condition+grade+sqft_above+sqft_basement+yr_built+yr_renovated+sqft_living15+sqft_lot15'"
   ]
  },
  {
   "cell_type": "code",
   "execution_count": 64,
   "id": "55090c40-46cd-4bba-a893-7ff278a716df",
   "metadata": {},
   "outputs": [],
   "source": [
    "ols = ols(form, data=q1).fit()"
   ]
  },
  {
   "cell_type": "code",
   "execution_count": 65,
   "id": "44e65404-a979-447a-9717-9e274037237b",
   "metadata": {},
   "outputs": [
    {
     "data": {
      "text/html": [
       "<table class=\"simpletable\">\n",
       "<caption>OLS Regression Results</caption>\n",
       "<tr>\n",
       "  <th>Dep. Variable:</th>          <td>price</td>      <th>  R-squared:         </th> <td>   0.681</td> \n",
       "</tr>\n",
       "<tr>\n",
       "  <th>Model:</th>                   <td>OLS</td>       <th>  Adj. R-squared:    </th> <td>   0.680</td> \n",
       "</tr>\n",
       "<tr>\n",
       "  <th>Method:</th>             <td>Least Squares</td>  <th>  F-statistic:       </th> <td>   656.0</td> \n",
       "</tr>\n",
       "<tr>\n",
       "  <th>Date:</th>             <td>Tue, 24 Aug 2021</td> <th>  Prob (F-statistic):</th>  <td>  0.00</td>  \n",
       "</tr>\n",
       "<tr>\n",
       "  <th>Time:</th>                 <td>10:39:58</td>     <th>  Log-Likelihood:    </th> <td> -58960.</td> \n",
       "</tr>\n",
       "<tr>\n",
       "  <th>No. Observations:</th>      <td>  4323</td>      <th>  AIC:               </th> <td>1.180e+05</td>\n",
       "</tr>\n",
       "<tr>\n",
       "  <th>Df Residuals:</th>          <td>  4308</td>      <th>  BIC:               </th> <td>1.180e+05</td>\n",
       "</tr>\n",
       "<tr>\n",
       "  <th>Df Model:</th>              <td>    14</td>      <th>                     </th>     <td> </td>    \n",
       "</tr>\n",
       "<tr>\n",
       "  <th>Covariance Type:</th>      <td>nonrobust</td>    <th>                     </th>     <td> </td>    \n",
       "</tr>\n",
       "</table>\n",
       "<table class=\"simpletable\">\n",
       "<tr>\n",
       "        <td></td>           <th>coef</th>     <th>std err</th>      <th>t</th>      <th>P>|t|</th>  <th>[0.025</th>    <th>0.975]</th>  \n",
       "</tr>\n",
       "<tr>\n",
       "  <th>Intercept</th>     <td> 6.302e+06</td> <td> 2.95e+05</td> <td>   21.401</td> <td> 0.000</td> <td> 5.73e+06</td> <td> 6.88e+06</td>\n",
       "</tr>\n",
       "<tr>\n",
       "  <th>bedrooms</th>      <td>  -2.5e+04</td> <td> 3680.510</td> <td>   -6.791</td> <td> 0.000</td> <td>-3.22e+04</td> <td>-1.78e+04</td>\n",
       "</tr>\n",
       "<tr>\n",
       "  <th>bathrooms</th>     <td> 5.179e+04</td> <td> 7163.408</td> <td>    7.230</td> <td> 0.000</td> <td> 3.77e+04</td> <td> 6.58e+04</td>\n",
       "</tr>\n",
       "<tr>\n",
       "  <th>sqft_living</th>   <td>   92.3080</td> <td>    5.074</td> <td>   18.192</td> <td> 0.000</td> <td>   82.360</td> <td>  102.256</td>\n",
       "</tr>\n",
       "<tr>\n",
       "  <th>sqft_lot</th>      <td>    0.0054</td> <td>    0.093</td> <td>    0.059</td> <td> 0.953</td> <td>   -0.176</td> <td>    0.187</td>\n",
       "</tr>\n",
       "<tr>\n",
       "  <th>floors</th>        <td> 3.748e+04</td> <td> 8141.392</td> <td>    4.604</td> <td> 0.000</td> <td> 2.15e+04</td> <td> 5.34e+04</td>\n",
       "</tr>\n",
       "<tr>\n",
       "  <th>waterfront</th>    <td> 6.277e+05</td> <td> 3.91e+04</td> <td>   16.064</td> <td> 0.000</td> <td> 5.51e+05</td> <td> 7.04e+05</td>\n",
       "</tr>\n",
       "<tr>\n",
       "  <th>view</th>          <td>  4.04e+04</td> <td> 4797.344</td> <td>    8.421</td> <td> 0.000</td> <td>  3.1e+04</td> <td> 4.98e+04</td>\n",
       "</tr>\n",
       "<tr>\n",
       "  <th>condition</th>     <td> 1.571e+04</td> <td> 5317.387</td> <td>    2.954</td> <td> 0.003</td> <td> 5280.918</td> <td> 2.61e+04</td>\n",
       "</tr>\n",
       "<tr>\n",
       "  <th>grade</th>         <td> 1.306e+05</td> <td> 4700.604</td> <td>   27.789</td> <td> 0.000</td> <td> 1.21e+05</td> <td>  1.4e+05</td>\n",
       "</tr>\n",
       "<tr>\n",
       "  <th>sqft_above</th>    <td>   33.7358</td> <td>    4.981</td> <td>    6.773</td> <td> 0.000</td> <td>   23.971</td> <td>   43.501</td>\n",
       "</tr>\n",
       "<tr>\n",
       "  <th>sqft_basement</th> <td>   58.5723</td> <td>    5.840</td> <td>   10.030</td> <td> 0.000</td> <td>   47.123</td> <td>   70.021</td>\n",
       "</tr>\n",
       "<tr>\n",
       "  <th>yr_built</th>      <td>-3666.8957</td> <td>  150.805</td> <td>  -24.316</td> <td> 0.000</td> <td>-3962.551</td> <td>-3371.241</td>\n",
       "</tr>\n",
       "<tr>\n",
       "  <th>yr_renovated</th>  <td>   17.7032</td> <td>    8.265</td> <td>    2.142</td> <td> 0.032</td> <td>    1.499</td> <td>   33.908</td>\n",
       "</tr>\n",
       "<tr>\n",
       "  <th>sqft_living15</th> <td>   23.0114</td> <td>    7.561</td> <td>    3.044</td> <td> 0.002</td> <td>    8.188</td> <td>   37.834</td>\n",
       "</tr>\n",
       "<tr>\n",
       "  <th>sqft_lot15</th>    <td>   -0.2323</td> <td>    0.142</td> <td>   -1.637</td> <td> 0.102</td> <td>   -0.511</td> <td>    0.046</td>\n",
       "</tr>\n",
       "</table>\n",
       "<table class=\"simpletable\">\n",
       "<tr>\n",
       "  <th>Omnibus:</th>       <td>2170.721</td> <th>  Durbin-Watson:     </th> <td>   2.011</td> \n",
       "</tr>\n",
       "<tr>\n",
       "  <th>Prob(Omnibus):</th>  <td> 0.000</td>  <th>  Jarque-Bera (JB):  </th> <td>38362.875</td>\n",
       "</tr>\n",
       "<tr>\n",
       "  <th>Skew:</th>           <td> 1.971</td>  <th>  Prob(JB):          </th> <td>    0.00</td> \n",
       "</tr>\n",
       "<tr>\n",
       "  <th>Kurtosis:</th>       <td>17.051</td>  <th>  Cond. No.          </th> <td>2.29e+17</td> \n",
       "</tr>\n",
       "</table><br/><br/>Notes:<br/>[1] Standard Errors assume that the covariance matrix of the errors is correctly specified.<br/>[2] The smallest eigenvalue is 3.1e-22. This might indicate that there are<br/>strong multicollinearity problems or that the design matrix is singular."
      ],
      "text/plain": [
       "<class 'statsmodels.iolib.summary.Summary'>\n",
       "\"\"\"\n",
       "                            OLS Regression Results                            \n",
       "==============================================================================\n",
       "Dep. Variable:                  price   R-squared:                       0.681\n",
       "Model:                            OLS   Adj. R-squared:                  0.680\n",
       "Method:                 Least Squares   F-statistic:                     656.0\n",
       "Date:                Tue, 24 Aug 2021   Prob (F-statistic):               0.00\n",
       "Time:                        10:39:58   Log-Likelihood:                -58960.\n",
       "No. Observations:                4323   AIC:                         1.180e+05\n",
       "Df Residuals:                    4308   BIC:                         1.180e+05\n",
       "Df Model:                          14                                         \n",
       "Covariance Type:            nonrobust                                         \n",
       "=================================================================================\n",
       "                    coef    std err          t      P>|t|      [0.025      0.975]\n",
       "---------------------------------------------------------------------------------\n",
       "Intercept      6.302e+06   2.95e+05     21.401      0.000    5.73e+06    6.88e+06\n",
       "bedrooms        -2.5e+04   3680.510     -6.791      0.000   -3.22e+04   -1.78e+04\n",
       "bathrooms      5.179e+04   7163.408      7.230      0.000    3.77e+04    6.58e+04\n",
       "sqft_living      92.3080      5.074     18.192      0.000      82.360     102.256\n",
       "sqft_lot          0.0054      0.093      0.059      0.953      -0.176       0.187\n",
       "floors         3.748e+04   8141.392      4.604      0.000    2.15e+04    5.34e+04\n",
       "waterfront     6.277e+05   3.91e+04     16.064      0.000    5.51e+05    7.04e+05\n",
       "view            4.04e+04   4797.344      8.421      0.000     3.1e+04    4.98e+04\n",
       "condition      1.571e+04   5317.387      2.954      0.003    5280.918    2.61e+04\n",
       "grade          1.306e+05   4700.604     27.789      0.000    1.21e+05     1.4e+05\n",
       "sqft_above       33.7358      4.981      6.773      0.000      23.971      43.501\n",
       "sqft_basement    58.5723      5.840     10.030      0.000      47.123      70.021\n",
       "yr_built      -3666.8957    150.805    -24.316      0.000   -3962.551   -3371.241\n",
       "yr_renovated     17.7032      8.265      2.142      0.032       1.499      33.908\n",
       "sqft_living15    23.0114      7.561      3.044      0.002       8.188      37.834\n",
       "sqft_lot15       -0.2323      0.142     -1.637      0.102      -0.511       0.046\n",
       "==============================================================================\n",
       "Omnibus:                     2170.721   Durbin-Watson:                   2.011\n",
       "Prob(Omnibus):                  0.000   Jarque-Bera (JB):            38362.875\n",
       "Skew:                           1.971   Prob(JB):                         0.00\n",
       "Kurtosis:                      17.051   Cond. No.                     2.29e+17\n",
       "==============================================================================\n",
       "\n",
       "Notes:\n",
       "[1] Standard Errors assume that the covariance matrix of the errors is correctly specified.\n",
       "[2] The smallest eigenvalue is 3.1e-22. This might indicate that there are\n",
       "strong multicollinearity problems or that the design matrix is singular.\n",
       "\"\"\""
      ]
     },
     "execution_count": 65,
     "metadata": {},
     "output_type": "execute_result"
    }
   ],
   "source": [
    "# ols.summary()"
   ]
  },
  {
   "cell_type": "code",
   "execution_count": null,
   "id": "9789f375-6b48-424b-a8a2-a19d5bde9f56",
   "metadata": {},
   "outputs": [],
   "source": [
    "# (답) 14, 2"
   ]
  },
  {
   "cell_type": "markdown",
   "id": "65b7d1f9-8dfd-4d4d-9245-b802560f1efb",
   "metadata": {},
   "source": [
    "### 해설"
   ]
  },
  {
   "cell_type": "code",
   "execution_count": null,
   "id": "4c9773a3-ef2d-491d-b7df-50d10aa8c2f7",
   "metadata": {},
   "outputs": [],
   "source": [
    "# 디퍼런스?"
   ]
  },
  {
   "cell_type": "code",
   "execution_count": 81,
   "id": "ed5d5af3-06a7-45dc-8305-ea44d927b6c2",
   "metadata": {},
   "outputs": [],
   "source": [
    "q3 = dataset6.drop(columns=['id', 'date', 'zipcode'])"
   ]
  },
  {
   "cell_type": "code",
   "execution_count": 82,
   "id": "9c111df7-367f-4387-9565-0cbfe2c0d60a",
   "metadata": {},
   "outputs": [
    {
     "data": {
      "text/plain": [
       "Index(['bedrooms', 'bathrooms', 'sqft_living', 'sqft_lot', 'floors',\n",
       "       'waterfront', 'view', 'condition', 'grade', 'sqft_above',\n",
       "       'sqft_basement', 'yr_built', 'yr_renovated', 'sqft_living15',\n",
       "       'sqft_lot15'],\n",
       "      dtype='object')"
      ]
     },
     "execution_count": 82,
     "metadata": {},
     "output_type": "execute_result"
    }
   ],
   "source": [
    "x_var = q3.columns.drop('price')\n",
    "x_var"
   ]
  },
  {
   "cell_type": "code",
   "execution_count": 83,
   "id": "840abc50-908c-42ab-a41a-cf555eb3357d",
   "metadata": {},
   "outputs": [],
   "source": [
    "from statsmodels.formula.api import ols"
   ]
  },
  {
   "cell_type": "code",
   "execution_count": 86,
   "id": "1bb9fea3-91d4-41d1-9f12-69455d79329b",
   "metadata": {},
   "outputs": [
    {
     "data": {
      "text/plain": [
       "'price~bedrooms+bathrooms+sqft_living+sqft_lot+floors+waterfront+view+condition+grade+sqft_above+sqft_basement+yr_built+yr_renovated+sqft_living15+sqft_lot15'"
      ]
     },
     "execution_count": 86,
     "metadata": {},
     "output_type": "execute_result"
    }
   ],
   "source": [
    "form = 'price~'+'+'.join(x_var)\n",
    "form"
   ]
  },
  {
   "cell_type": "code",
   "execution_count": 87,
   "id": "ec93afad-661a-4cc1-a6ea-86441dfaf54c",
   "metadata": {},
   "outputs": [],
   "source": [
    "ols1 = ols(form, data=q3).fit()"
   ]
  },
  {
   "cell_type": "code",
   "execution_count": 88,
   "id": "10db92f9-9ebc-42a1-89f3-b1148dfa5c26",
   "metadata": {},
   "outputs": [
    {
     "data": {
      "text/html": [
       "<table class=\"simpletable\">\n",
       "<caption>OLS Regression Results</caption>\n",
       "<tr>\n",
       "  <th>Dep. Variable:</th>          <td>price</td>      <th>  R-squared:         </th> <td>   0.681</td> \n",
       "</tr>\n",
       "<tr>\n",
       "  <th>Model:</th>                   <td>OLS</td>       <th>  Adj. R-squared:    </th> <td>   0.680</td> \n",
       "</tr>\n",
       "<tr>\n",
       "  <th>Method:</th>             <td>Least Squares</td>  <th>  F-statistic:       </th> <td>   656.0</td> \n",
       "</tr>\n",
       "<tr>\n",
       "  <th>Date:</th>             <td>Tue, 24 Aug 2021</td> <th>  Prob (F-statistic):</th>  <td>  0.00</td>  \n",
       "</tr>\n",
       "<tr>\n",
       "  <th>Time:</th>                 <td>10:51:19</td>     <th>  Log-Likelihood:    </th> <td> -58960.</td> \n",
       "</tr>\n",
       "<tr>\n",
       "  <th>No. Observations:</th>      <td>  4323</td>      <th>  AIC:               </th> <td>1.180e+05</td>\n",
       "</tr>\n",
       "<tr>\n",
       "  <th>Df Residuals:</th>          <td>  4308</td>      <th>  BIC:               </th> <td>1.180e+05</td>\n",
       "</tr>\n",
       "<tr>\n",
       "  <th>Df Model:</th>              <td>    14</td>      <th>                     </th>     <td> </td>    \n",
       "</tr>\n",
       "<tr>\n",
       "  <th>Covariance Type:</th>      <td>nonrobust</td>    <th>                     </th>     <td> </td>    \n",
       "</tr>\n",
       "</table>\n",
       "<table class=\"simpletable\">\n",
       "<tr>\n",
       "        <td></td>           <th>coef</th>     <th>std err</th>      <th>t</th>      <th>P>|t|</th>  <th>[0.025</th>    <th>0.975]</th>  \n",
       "</tr>\n",
       "<tr>\n",
       "  <th>Intercept</th>     <td> 6.302e+06</td> <td> 2.95e+05</td> <td>   21.401</td> <td> 0.000</td> <td> 5.73e+06</td> <td> 6.88e+06</td>\n",
       "</tr>\n",
       "<tr>\n",
       "  <th>bedrooms</th>      <td>  -2.5e+04</td> <td> 3680.510</td> <td>   -6.791</td> <td> 0.000</td> <td>-3.22e+04</td> <td>-1.78e+04</td>\n",
       "</tr>\n",
       "<tr>\n",
       "  <th>bathrooms</th>     <td> 5.179e+04</td> <td> 7163.408</td> <td>    7.230</td> <td> 0.000</td> <td> 3.77e+04</td> <td> 6.58e+04</td>\n",
       "</tr>\n",
       "<tr>\n",
       "  <th>sqft_living</th>   <td>   92.3080</td> <td>    5.074</td> <td>   18.192</td> <td> 0.000</td> <td>   82.360</td> <td>  102.256</td>\n",
       "</tr>\n",
       "<tr>\n",
       "  <th>sqft_lot</th>      <td>    0.0054</td> <td>    0.093</td> <td>    0.059</td> <td> 0.953</td> <td>   -0.176</td> <td>    0.187</td>\n",
       "</tr>\n",
       "<tr>\n",
       "  <th>floors</th>        <td> 3.748e+04</td> <td> 8141.392</td> <td>    4.604</td> <td> 0.000</td> <td> 2.15e+04</td> <td> 5.34e+04</td>\n",
       "</tr>\n",
       "<tr>\n",
       "  <th>waterfront</th>    <td> 6.277e+05</td> <td> 3.91e+04</td> <td>   16.064</td> <td> 0.000</td> <td> 5.51e+05</td> <td> 7.04e+05</td>\n",
       "</tr>\n",
       "<tr>\n",
       "  <th>view</th>          <td>  4.04e+04</td> <td> 4797.344</td> <td>    8.421</td> <td> 0.000</td> <td>  3.1e+04</td> <td> 4.98e+04</td>\n",
       "</tr>\n",
       "<tr>\n",
       "  <th>condition</th>     <td> 1.571e+04</td> <td> 5317.387</td> <td>    2.954</td> <td> 0.003</td> <td> 5280.918</td> <td> 2.61e+04</td>\n",
       "</tr>\n",
       "<tr>\n",
       "  <th>grade</th>         <td> 1.306e+05</td> <td> 4700.604</td> <td>   27.789</td> <td> 0.000</td> <td> 1.21e+05</td> <td>  1.4e+05</td>\n",
       "</tr>\n",
       "<tr>\n",
       "  <th>sqft_above</th>    <td>   33.7358</td> <td>    4.981</td> <td>    6.773</td> <td> 0.000</td> <td>   23.971</td> <td>   43.501</td>\n",
       "</tr>\n",
       "<tr>\n",
       "  <th>sqft_basement</th> <td>   58.5723</td> <td>    5.840</td> <td>   10.030</td> <td> 0.000</td> <td>   47.123</td> <td>   70.021</td>\n",
       "</tr>\n",
       "<tr>\n",
       "  <th>yr_built</th>      <td>-3666.8957</td> <td>  150.805</td> <td>  -24.316</td> <td> 0.000</td> <td>-3962.551</td> <td>-3371.241</td>\n",
       "</tr>\n",
       "<tr>\n",
       "  <th>yr_renovated</th>  <td>   17.7032</td> <td>    8.265</td> <td>    2.142</td> <td> 0.032</td> <td>    1.499</td> <td>   33.908</td>\n",
       "</tr>\n",
       "<tr>\n",
       "  <th>sqft_living15</th> <td>   23.0114</td> <td>    7.561</td> <td>    3.044</td> <td> 0.002</td> <td>    8.188</td> <td>   37.834</td>\n",
       "</tr>\n",
       "<tr>\n",
       "  <th>sqft_lot15</th>    <td>   -0.2323</td> <td>    0.142</td> <td>   -1.637</td> <td> 0.102</td> <td>   -0.511</td> <td>    0.046</td>\n",
       "</tr>\n",
       "</table>\n",
       "<table class=\"simpletable\">\n",
       "<tr>\n",
       "  <th>Omnibus:</th>       <td>2170.721</td> <th>  Durbin-Watson:     </th> <td>   2.011</td> \n",
       "</tr>\n",
       "<tr>\n",
       "  <th>Prob(Omnibus):</th>  <td> 0.000</td>  <th>  Jarque-Bera (JB):  </th> <td>38362.875</td>\n",
       "</tr>\n",
       "<tr>\n",
       "  <th>Skew:</th>           <td> 1.971</td>  <th>  Prob(JB):          </th> <td>    0.00</td> \n",
       "</tr>\n",
       "<tr>\n",
       "  <th>Kurtosis:</th>       <td>17.051</td>  <th>  Cond. No.          </th> <td>2.29e+17</td> \n",
       "</tr>\n",
       "</table><br/><br/>Notes:<br/>[1] Standard Errors assume that the covariance matrix of the errors is correctly specified.<br/>[2] The smallest eigenvalue is 3.1e-22. This might indicate that there are<br/>strong multicollinearity problems or that the design matrix is singular."
      ],
      "text/plain": [
       "<class 'statsmodels.iolib.summary.Summary'>\n",
       "\"\"\"\n",
       "                            OLS Regression Results                            \n",
       "==============================================================================\n",
       "Dep. Variable:                  price   R-squared:                       0.681\n",
       "Model:                            OLS   Adj. R-squared:                  0.680\n",
       "Method:                 Least Squares   F-statistic:                     656.0\n",
       "Date:                Tue, 24 Aug 2021   Prob (F-statistic):               0.00\n",
       "Time:                        10:51:19   Log-Likelihood:                -58960.\n",
       "No. Observations:                4323   AIC:                         1.180e+05\n",
       "Df Residuals:                    4308   BIC:                         1.180e+05\n",
       "Df Model:                          14                                         \n",
       "Covariance Type:            nonrobust                                         \n",
       "=================================================================================\n",
       "                    coef    std err          t      P>|t|      [0.025      0.975]\n",
       "---------------------------------------------------------------------------------\n",
       "Intercept      6.302e+06   2.95e+05     21.401      0.000    5.73e+06    6.88e+06\n",
       "bedrooms        -2.5e+04   3680.510     -6.791      0.000   -3.22e+04   -1.78e+04\n",
       "bathrooms      5.179e+04   7163.408      7.230      0.000    3.77e+04    6.58e+04\n",
       "sqft_living      92.3080      5.074     18.192      0.000      82.360     102.256\n",
       "sqft_lot          0.0054      0.093      0.059      0.953      -0.176       0.187\n",
       "floors         3.748e+04   8141.392      4.604      0.000    2.15e+04    5.34e+04\n",
       "waterfront     6.277e+05   3.91e+04     16.064      0.000    5.51e+05    7.04e+05\n",
       "view            4.04e+04   4797.344      8.421      0.000     3.1e+04    4.98e+04\n",
       "condition      1.571e+04   5317.387      2.954      0.003    5280.918    2.61e+04\n",
       "grade          1.306e+05   4700.604     27.789      0.000    1.21e+05     1.4e+05\n",
       "sqft_above       33.7358      4.981      6.773      0.000      23.971      43.501\n",
       "sqft_basement    58.5723      5.840     10.030      0.000      47.123      70.021\n",
       "yr_built      -3666.8957    150.805    -24.316      0.000   -3962.551   -3371.241\n",
       "yr_renovated     17.7032      8.265      2.142      0.032       1.499      33.908\n",
       "sqft_living15    23.0114      7.561      3.044      0.002       8.188      37.834\n",
       "sqft_lot15       -0.2323      0.142     -1.637      0.102      -0.511       0.046\n",
       "==============================================================================\n",
       "Omnibus:                     2170.721   Durbin-Watson:                   2.011\n",
       "Prob(Omnibus):                  0.000   Jarque-Bera (JB):            38362.875\n",
       "Skew:                           1.971   Prob(JB):                         0.00\n",
       "Kurtosis:                      17.051   Cond. No.                     2.29e+17\n",
       "==============================================================================\n",
       "\n",
       "Notes:\n",
       "[1] Standard Errors assume that the covariance matrix of the errors is correctly specified.\n",
       "[2] The smallest eigenvalue is 3.1e-22. This might indicate that there are\n",
       "strong multicollinearity problems or that the design matrix is singular.\n",
       "\"\"\""
      ]
     },
     "execution_count": 88,
     "metadata": {},
     "output_type": "execute_result"
    }
   ],
   "source": [
    "ols1.summary()"
   ]
  },
  {
   "cell_type": "code",
   "execution_count": 89,
   "id": "e4782b36-122c-4587-8ef0-6c365af4eb38",
   "metadata": {},
   "outputs": [
    {
     "data": {
      "text/plain": [
       "15"
      ]
     },
     "execution_count": 89,
     "metadata": {},
     "output_type": "execute_result"
    }
   ],
   "source": [
    "len(x_var)"
   ]
  },
  {
   "cell_type": "code",
   "execution_count": 90,
   "id": "a4a8100e-925a-4ff8-8371-9451c160e854",
   "metadata": {
    "collapsed": true,
    "jupyter": {
     "outputs_hidden": true
    },
    "tags": []
   },
   "outputs": [
    {
     "data": {
      "text/plain": [
       "['HC0_se',\n",
       " 'HC1_se',\n",
       " 'HC2_se',\n",
       " 'HC3_se',\n",
       " '_HCCM',\n",
       " '__class__',\n",
       " '__delattr__',\n",
       " '__dict__',\n",
       " '__dir__',\n",
       " '__doc__',\n",
       " '__eq__',\n",
       " '__format__',\n",
       " '__ge__',\n",
       " '__getattribute__',\n",
       " '__gt__',\n",
       " '__hash__',\n",
       " '__init__',\n",
       " '__init_subclass__',\n",
       " '__le__',\n",
       " '__lt__',\n",
       " '__module__',\n",
       " '__ne__',\n",
       " '__new__',\n",
       " '__reduce__',\n",
       " '__reduce_ex__',\n",
       " '__repr__',\n",
       " '__setattr__',\n",
       " '__sizeof__',\n",
       " '__str__',\n",
       " '__subclasshook__',\n",
       " '__weakref__',\n",
       " '_abat_diagonal',\n",
       " '_cache',\n",
       " '_data_attr',\n",
       " '_data_in_cache',\n",
       " '_get_robustcov_results',\n",
       " '_is_nested',\n",
       " '_use_t',\n",
       " '_wexog_singular_values',\n",
       " 'aic',\n",
       " 'bic',\n",
       " 'bse',\n",
       " 'centered_tss',\n",
       " 'compare_f_test',\n",
       " 'compare_lm_test',\n",
       " 'compare_lr_test',\n",
       " 'condition_number',\n",
       " 'conf_int',\n",
       " 'conf_int_el',\n",
       " 'cov_HC0',\n",
       " 'cov_HC1',\n",
       " 'cov_HC2',\n",
       " 'cov_HC3',\n",
       " 'cov_kwds',\n",
       " 'cov_params',\n",
       " 'cov_type',\n",
       " 'df_model',\n",
       " 'df_resid',\n",
       " 'diagn',\n",
       " 'eigenvals',\n",
       " 'el_test',\n",
       " 'ess',\n",
       " 'f_pvalue',\n",
       " 'f_test',\n",
       " 'fittedvalues',\n",
       " 'fvalue',\n",
       " 'get_influence',\n",
       " 'get_prediction',\n",
       " 'get_robustcov_results',\n",
       " 'initialize',\n",
       " 'k_constant',\n",
       " 'llf',\n",
       " 'load',\n",
       " 'model',\n",
       " 'mse_model',\n",
       " 'mse_resid',\n",
       " 'mse_total',\n",
       " 'nobs',\n",
       " 'normalized_cov_params',\n",
       " 'outlier_test',\n",
       " 'params',\n",
       " 'predict',\n",
       " 'pvalues',\n",
       " 'remove_data',\n",
       " 'resid',\n",
       " 'resid_pearson',\n",
       " 'rsquared',\n",
       " 'rsquared_adj',\n",
       " 'save',\n",
       " 'scale',\n",
       " 'ssr',\n",
       " 'summary',\n",
       " 'summary2',\n",
       " 't_test',\n",
       " 't_test_pairwise',\n",
       " 'tvalues',\n",
       " 'uncentered_tss',\n",
       " 'use_t',\n",
       " 'wald_test',\n",
       " 'wald_test_terms',\n",
       " 'wresid']"
      ]
     },
     "execution_count": 90,
     "metadata": {},
     "output_type": "execute_result"
    }
   ],
   "source": [
    "dir(ols1)"
   ]
  },
  {
   "cell_type": "code",
   "execution_count": 100,
   "id": "a428303d-77fe-42a2-8ef1-365af7cd71cb",
   "metadata": {},
   "outputs": [
    {
     "data": {
      "text/plain": [
       "Intercept         True\n",
       "bedrooms          True\n",
       "bathrooms         True\n",
       "sqft_living       True\n",
       "sqft_lot         False\n",
       "floors            True\n",
       "waterfront        True\n",
       "view              True\n",
       "condition         True\n",
       "grade             True\n",
       "sqft_above        True\n",
       "sqft_basement     True\n",
       "yr_built          True\n",
       "yr_renovated      True\n",
       "sqft_living15     True\n",
       "sqft_lot15       False\n",
       "dtype: bool"
      ]
     },
     "execution_count": 100,
     "metadata": {},
     "output_type": "execute_result"
    }
   ],
   "source": [
    "ols1.pvalues < 0.05"
   ]
  },
  {
   "cell_type": "code",
   "execution_count": 101,
   "id": "b2bb9e21-4fc9-46b2-8e33-c21aec20a500",
   "metadata": {},
   "outputs": [
    {
     "data": {
      "text/plain": [
       "13"
      ]
     },
     "execution_count": 101,
     "metadata": {},
     "output_type": "execute_result"
    }
   ],
   "source": [
    "sum(ols1.pvalues < 0.05) - 1 # intercept 제외"
   ]
  },
  {
   "cell_type": "code",
   "execution_count": null,
   "id": "39f69b18-b07e-488f-b26f-78df6c828c04",
   "metadata": {},
   "outputs": [],
   "source": [
    "# (정답) 13, 2"
   ]
  },
  {
   "cell_type": "markdown",
   "id": "768e19a5-db3d-419e-bc1a-9c982fd3f327",
   "metadata": {},
   "source": [
    "# Dataset_07"
   ]
  },
  {
   "cell_type": "code",
   "execution_count": null,
   "id": "8831e3e7-29cb-4924-83de-c6c1d105539c",
   "metadata": {},
   "outputs": [],
   "source": [
    "# =============================================================================\n",
    "# =============================================================================\n",
    "# # 문제 07 유형(DataSet_07.csv 이용)\n",
    "#\n",
    "# 구분자 : comma(“,”), 400 Rows, 9 Columns, UTF-8 인코딩\n",
    "#\n",
    "# 대학원 진학을 위하여 어떤 항목이 중요하게 영향을 미치는지\n",
    "# 아래 데이터로 분석하고자 한다.\n",
    "\n",
    "# 컬 럼 / 정 의 / Type\n",
    "# Serial_No / 구분자 번호 / Double\n",
    "# GRE / GRE 시험 성적 / Double\n",
    "# TOEFL / TOEFL 시험 성적 / Double\n",
    "# University_Rating / 대학 평가 그룹 (1 ~ 5) / Double\n",
    "# SOP / 자기 소개서 점수 (1 ~ 5) / Double\n",
    "# LOR / 추천서 점수 (1 ~ 5) / Double\n",
    "# CGPA / 학부 평량 평점 (10점 만점 환산 점수) / Double\n",
    "# Research / 연구 참여 경험 여부 (0 / 1) / Double\n",
    "# Chance_of_Admit / 합격 가능성 / Double\n",
    "# =============================================================================\n",
    "# ============================================================================="
   ]
  },
  {
   "cell_type": "code",
   "execution_count": null,
   "id": "cfffffb1-1793-4e33-9382-357ce3c8e075",
   "metadata": {},
   "outputs": [],
   "source": [
    "# =============================================================================\n",
    "# (참고)\n",
    "# #1\n",
    "# import pandas as pd\n",
    "# #2\n",
    "# import scipy.stats as stats\n",
    "# #3\n",
    "# from sklearn.linear_model import LogisticRegression\n",
    "# Solver = ‘liblinear’, random_state = 12\n",
    "# ============================================================================="
   ]
  },
  {
   "cell_type": "code",
   "execution_count": 102,
   "id": "5fd504c8-e7e7-4a5b-a834-2b36fc46bf40",
   "metadata": {},
   "outputs": [],
   "source": [
    "import pandas as pd\n",
    "import scipy.stats as stats\n",
    "from sklearn.linear_model import LogisticRegression"
   ]
  },
  {
   "cell_type": "markdown",
   "id": "bdfaf861-cf7e-4477-b2b0-2a89d2928524",
   "metadata": {},
   "source": [
    "## 1. "
   ]
  },
  {
   "cell_type": "code",
   "execution_count": null,
   "id": "3b9a0f34-0f5e-44fa-9a3e-33f1e36f591b",
   "metadata": {},
   "outputs": [],
   "source": [
    "# =============================================================================\n",
    "# 1. 합격 가능성에 GRE, TOEFL, CGPA 점수 가운데 가장 영향이 큰 것이 어떤 점수인지\n",
    "# 알아 보기 위해서 상관 분석을 수행한다.\n",
    "# - 피어슨(Pearson) 상관계수 값을 구한다.\n",
    "# - Chance_of_Admit와의 가장 큰 상관계수 값을 가지는 항목의 상관계수를 소수점 넷째\n",
    "# 자리에서 반올림하여 셋째 자리까지 기술하시오. (답안 예시) 0.123\n",
    "# ============================================================================="
   ]
  },
  {
   "cell_type": "code",
   "execution_count": 103,
   "id": "4df31c2e-7ced-4151-adf0-96a1168aff3c",
   "metadata": {},
   "outputs": [],
   "source": [
    "dataset7 = pd.read_csv('Dataset/Dataset_07.csv')"
   ]
  },
  {
   "cell_type": "code",
   "execution_count": 104,
   "id": "e1a61cae-c3b2-4314-a042-91276d58ff81",
   "metadata": {},
   "outputs": [],
   "source": [
    "q1 = dataset7[['Chance_of_Admit', 'GRE', 'TOEFL', 'CGPA']]"
   ]
  },
  {
   "cell_type": "code",
   "execution_count": 106,
   "id": "5c7f7d32-de5d-4d59-a976-f903d437456a",
   "metadata": {},
   "outputs": [
    {
     "data": {
      "text/plain": [
       "Chance_of_Admit    1.000\n",
       "GRE                0.803\n",
       "TOEFL              0.792\n",
       "CGPA               0.873\n",
       "Name: Chance_of_Admit, dtype: float64"
      ]
     },
     "execution_count": 106,
     "metadata": {},
     "output_type": "execute_result"
    }
   ],
   "source": [
    "np.round(q1.corr()['Chance_of_Admit'], 3)"
   ]
  },
  {
   "cell_type": "code",
   "execution_count": null,
   "id": "88872247-e22d-407e-a18e-90d4b83dcc2a",
   "metadata": {},
   "outputs": [],
   "source": [
    "# (답) 0.873"
   ]
  },
  {
   "cell_type": "markdown",
   "id": "10a07521-ab68-4ae8-aa89-357233ec0af0",
   "metadata": {},
   "source": [
    "### 해설"
   ]
  },
  {
   "cell_type": "code",
   "execution_count": 115,
   "id": "98a122ba-9a62-4c13-b764-aa5841772baa",
   "metadata": {},
   "outputs": [],
   "source": [
    "q1 = dataset7[['GRE', 'TOEFL', 'CGPA', 'Chance_of_Admit']].corr()"
   ]
  },
  {
   "cell_type": "code",
   "execution_count": 116,
   "id": "152aad33-c92a-4113-9714-8822d8e6ecea",
   "metadata": {},
   "outputs": [
    {
     "data": {
      "text/plain": [
       "GRE      0.802610\n",
       "TOEFL    0.791594\n",
       "CGPA     0.873289\n",
       "Name: Chance_of_Admit, dtype: float64"
      ]
     },
     "execution_count": 116,
     "metadata": {},
     "output_type": "execute_result"
    }
   ],
   "source": [
    "q1.iloc[:-1, -1]"
   ]
  },
  {
   "cell_type": "code",
   "execution_count": 117,
   "id": "c2c88d8d-5ef4-4875-9f93-75c224dbaa67",
   "metadata": {},
   "outputs": [
    {
     "data": {
      "text/plain": [
       "0.8732890993553003"
      ]
     },
     "execution_count": 117,
     "metadata": {},
     "output_type": "execute_result"
    }
   ],
   "source": [
    "q1.iloc[:-1, -1].max()"
   ]
  },
  {
   "cell_type": "code",
   "execution_count": null,
   "id": "82479204-c162-49df-80ac-2133e382ab4c",
   "metadata": {},
   "outputs": [],
   "source": [
    "# (정답) 0.873"
   ]
  },
  {
   "cell_type": "markdown",
   "id": "dfc5b142-2440-4e81-8a47-e2f047974a93",
   "metadata": {},
   "source": [
    "## 2."
   ]
  },
  {
   "cell_type": "code",
   "execution_count": null,
   "id": "c2d7365f-b536-4b75-b2cd-5373829aa495",
   "metadata": {},
   "outputs": [],
   "source": [
    "# =============================================================================\n",
    "# 2.GRE 점수의 평균 이상을 받은 그룹과 평균 미만을 받은 그룹의 CGPA 평균은 차이가\n",
    "# 있는지\n",
    "# 검정을 하고자 한다.\n",
    "# - 적절한 검정 방법을 선택하고 양측 검정을 수행하시오 (등분산으로 가정)\n",
    "# - 검정 결과, 검정통계량의 추정치를 소수점 셋째 자리에서 반올림하여 소수점 두 자리까지\n",
    "# 기술하시오.\n",
    "# (답안 예시) 1.23\n",
    "# ============================================================================="
   ]
  },
  {
   "cell_type": "code",
   "execution_count": 108,
   "id": "f89fc254-8e9d-4c18-a479-49e301516402",
   "metadata": {},
   "outputs": [],
   "source": [
    "q2 = dataset7[['GRE', 'CGPA']]"
   ]
  },
  {
   "cell_type": "code",
   "execution_count": 107,
   "id": "3421b6cd-01eb-4c1a-9ab3-82d6ad49f380",
   "metadata": {},
   "outputs": [],
   "source": [
    "from scipy.stats import ttest_ind"
   ]
  },
  {
   "cell_type": "code",
   "execution_count": 109,
   "id": "e90c61f5-998c-4a48-a979-6573f9551f89",
   "metadata": {},
   "outputs": [
    {
     "data": {
      "text/plain": [
       "Ttest_indResult(statistic=19.443291692470982, pvalue=1.1127037052806161e-59)"
      ]
     },
     "execution_count": 109,
     "metadata": {},
     "output_type": "execute_result"
    }
   ],
   "source": [
    "ttest_ind(q2.CGPA[q2.GRE >= q2.GRE.mean()], \n",
    "          q2.CGPA[q2.GRE < q2.GRE.mean()], \n",
    "          equal_var=True) "
   ]
  },
  {
   "cell_type": "code",
   "execution_count": null,
   "id": "c0461686-17c1-46bb-bd24-fc5116ebbfba",
   "metadata": {},
   "outputs": [],
   "source": [
    "# (답) 19.44"
   ]
  },
  {
   "cell_type": "markdown",
   "id": "1cd62866-1f05-4872-a822-e0b32366947f",
   "metadata": {},
   "source": [
    "### 해설"
   ]
  },
  {
   "cell_type": "code",
   "execution_count": 118,
   "id": "ca428c35-bcaf-4834-bfe9-2b3a56a7698d",
   "metadata": {},
   "outputs": [],
   "source": [
    "q2 = dataset7.copy()"
   ]
  },
  {
   "cell_type": "code",
   "execution_count": 119,
   "id": "c63ed7cf-8d97-43c9-a50a-215a1e94fb1d",
   "metadata": {},
   "outputs": [
    {
     "data": {
      "text/plain": [
       "316.8075"
      ]
     },
     "execution_count": 119,
     "metadata": {},
     "output_type": "execute_result"
    }
   ],
   "source": [
    "GRE_avg = q2.GRE.mean()\n",
    "GRE_avg"
   ]
  },
  {
   "cell_type": "code",
   "execution_count": null,
   "id": "7d505b17-9ce3-4eea-8f8c-ad09f703aaa8",
   "metadata": {},
   "outputs": [],
   "source": [
    "# 방법 1. np.where"
   ]
  },
  {
   "cell_type": "code",
   "execution_count": null,
   "id": "2c490af8-a845-4fa3-8375-debd8dd9720e",
   "metadata": {},
   "outputs": [],
   "source": [
    "# 방법 2. "
   ]
  },
  {
   "cell_type": "code",
   "execution_count": 120,
   "id": "85526880-9f4b-4f8a-a513-651664900b37",
   "metadata": {},
   "outputs": [],
   "source": [
    "q2['GRE_gr'] = 'under'"
   ]
  },
  {
   "cell_type": "code",
   "execution_count": 121,
   "id": "29328889-64c4-4aac-9d5c-53a931e3bac0",
   "metadata": {},
   "outputs": [],
   "source": [
    "q2.loc[ q2['GRE'] >= GRE_avg , 'GRE_gr'] = 'over'"
   ]
  },
  {
   "cell_type": "code",
   "execution_count": 122,
   "id": "60b2d521-50b4-4d9e-be0d-d752440436a7",
   "metadata": {},
   "outputs": [],
   "source": [
    "from scipy.stats import ttest_ind"
   ]
  },
  {
   "cell_type": "code",
   "execution_count": 123,
   "id": "3c78abcd-81d0-4300-b0b8-efa1aaf95e05",
   "metadata": {},
   "outputs": [],
   "source": [
    "a = q2[q2['GRE_gr']=='over']['CGPA']\n",
    "b = q2[q2['GRE_gr']=='under']['CGPA']"
   ]
  },
  {
   "cell_type": "code",
   "execution_count": 124,
   "id": "efb330cb-a117-4749-a06d-850abd283408",
   "metadata": {},
   "outputs": [
    {
     "data": {
      "text/plain": [
       "Ttest_indResult(statistic=19.443291692470982, pvalue=1.1127037052806161e-59)"
      ]
     },
     "execution_count": 124,
     "metadata": {},
     "output_type": "execute_result"
    }
   ],
   "source": [
    "ttest_ind(a, b, equal_var=True)"
   ]
  },
  {
   "cell_type": "code",
   "execution_count": null,
   "id": "fc6efa5b-d7f8-4b15-8698-b902b3aefc7a",
   "metadata": {},
   "outputs": [],
   "source": [
    "# Ttest_indResult(statistic=19.443291692470982, \n",
    "#                 pvalue=1.1127037052806161e-59)"
   ]
  },
  {
   "cell_type": "code",
   "execution_count": null,
   "id": "450c8529-6440-4a3e-bc39-46c3429bf830",
   "metadata": {},
   "outputs": [],
   "source": [
    "# (정답) 19.443"
   ]
  },
  {
   "cell_type": "markdown",
   "id": "2e8a2e80-d0ff-4411-815a-54af8764ccc0",
   "metadata": {},
   "source": [
    "## 3."
   ]
  },
  {
   "cell_type": "code",
   "execution_count": null,
   "id": "636ae97f-6e2b-47e0-8bd8-7f5cb5f8e47d",
   "metadata": {},
   "outputs": [],
   "source": [
    "# =============================================================================\n",
    "# 3.Chance_of_Admit 확률이 0.5를 초과하면 합격으로, 이하이면 불합격으로 구분하고\n",
    "# 로지스틱 회귀분석을 수행하시오.\n",
    "# - 원데이터만 사용하고, 원데이터 가운데 Serial_No와 Label은 모형에서 제외\n",
    "# - 각 설정값은 다음과 같이 지정하고, 언급되지 않은 사항은 기본 설정값을 사용하시오\n",
    "# Seed : 123\n",
    "# - 로지스틱 회귀분석 수행 결과에서 로지스틱 회귀계수의 절대값이 가장 큰 변수와 그 값을\n",
    "# 기술하시오. \n",
    "# (로지스틱 회귀계수는 반올림하여 소수점 둘째 자리까지 / Intercept는 제외)\n",
    "# (답안 예시) abc, 0.12\n",
    "# ============================================================================="
   ]
  },
  {
   "cell_type": "code",
   "execution_count": 111,
   "id": "5ab2deca-dfd3-4c7f-833f-2c6cb36dfc6a",
   "metadata": {},
   "outputs": [
    {
     "data": {
      "text/plain": [
       "Index(['Serial_No', 'GRE', 'TOEFL', 'University_Rating', 'SOP', 'LOR', 'CGPA',\n",
       "       'Research', 'Chance_of_Admit'],\n",
       "      dtype='object')"
      ]
     },
     "execution_count": 111,
     "metadata": {},
     "output_type": "execute_result"
    }
   ],
   "source": [
    "dataset7.columns"
   ]
  },
  {
   "cell_type": "code",
   "execution_count": 125,
   "id": "db835a4d-905a-4c34-ae9d-9f29b8041085",
   "metadata": {},
   "outputs": [],
   "source": [
    "raw = dataset7.copy()"
   ]
  },
  {
   "cell_type": "code",
   "execution_count": 128,
   "id": "d88907a4-311f-46bb-bd1e-f8680d8c678d",
   "metadata": {},
   "outputs": [
    {
     "data": {
      "text/plain": [
       "0      1\n",
       "1      1\n",
       "2      1\n",
       "3      1\n",
       "4      1\n",
       "      ..\n",
       "395    1\n",
       "396    1\n",
       "397    1\n",
       "398    1\n",
       "399    1\n",
       "Name: Label, Length: 400, dtype: int32"
      ]
     },
     "execution_count": 128,
     "metadata": {},
     "output_type": "execute_result"
    }
   ],
   "source": [
    "raw['Label'] = np.where(raw.Chance_of_Admit >= 0.5, 1, 0)\n",
    "raw['Label']"
   ]
  },
  {
   "cell_type": "code",
   "execution_count": 129,
   "id": "3ce93ac7-0445-4423-b18b-94cf40057c88",
   "metadata": {},
   "outputs": [
    {
     "data": {
      "text/html": [
       "<div>\n",
       "<style scoped>\n",
       "    .dataframe tbody tr th:only-of-type {\n",
       "        vertical-align: middle;\n",
       "    }\n",
       "\n",
       "    .dataframe tbody tr th {\n",
       "        vertical-align: top;\n",
       "    }\n",
       "\n",
       "    .dataframe thead th {\n",
       "        text-align: right;\n",
       "    }\n",
       "</style>\n",
       "<table border=\"1\" class=\"dataframe\">\n",
       "  <thead>\n",
       "    <tr style=\"text-align: right;\">\n",
       "      <th></th>\n",
       "      <th>Serial_No</th>\n",
       "      <th>GRE</th>\n",
       "      <th>TOEFL</th>\n",
       "      <th>University_Rating</th>\n",
       "      <th>SOP</th>\n",
       "      <th>LOR</th>\n",
       "      <th>CGPA</th>\n",
       "      <th>Research</th>\n",
       "      <th>Chance_of_Admit</th>\n",
       "      <th>Label</th>\n",
       "    </tr>\n",
       "  </thead>\n",
       "  <tbody>\n",
       "    <tr>\n",
       "      <th>0</th>\n",
       "      <td>1</td>\n",
       "      <td>337</td>\n",
       "      <td>118</td>\n",
       "      <td>4</td>\n",
       "      <td>4.5</td>\n",
       "      <td>4.5</td>\n",
       "      <td>9.65</td>\n",
       "      <td>1</td>\n",
       "      <td>0.92</td>\n",
       "      <td>1</td>\n",
       "    </tr>\n",
       "    <tr>\n",
       "      <th>1</th>\n",
       "      <td>2</td>\n",
       "      <td>324</td>\n",
       "      <td>107</td>\n",
       "      <td>4</td>\n",
       "      <td>4.0</td>\n",
       "      <td>4.5</td>\n",
       "      <td>8.87</td>\n",
       "      <td>1</td>\n",
       "      <td>0.76</td>\n",
       "      <td>1</td>\n",
       "    </tr>\n",
       "    <tr>\n",
       "      <th>2</th>\n",
       "      <td>3</td>\n",
       "      <td>316</td>\n",
       "      <td>104</td>\n",
       "      <td>3</td>\n",
       "      <td>3.0</td>\n",
       "      <td>3.5</td>\n",
       "      <td>8.00</td>\n",
       "      <td>1</td>\n",
       "      <td>0.72</td>\n",
       "      <td>1</td>\n",
       "    </tr>\n",
       "    <tr>\n",
       "      <th>3</th>\n",
       "      <td>4</td>\n",
       "      <td>322</td>\n",
       "      <td>110</td>\n",
       "      <td>3</td>\n",
       "      <td>3.5</td>\n",
       "      <td>2.5</td>\n",
       "      <td>8.67</td>\n",
       "      <td>1</td>\n",
       "      <td>0.80</td>\n",
       "      <td>1</td>\n",
       "    </tr>\n",
       "    <tr>\n",
       "      <th>4</th>\n",
       "      <td>5</td>\n",
       "      <td>314</td>\n",
       "      <td>103</td>\n",
       "      <td>2</td>\n",
       "      <td>2.0</td>\n",
       "      <td>3.0</td>\n",
       "      <td>8.21</td>\n",
       "      <td>0</td>\n",
       "      <td>0.65</td>\n",
       "      <td>1</td>\n",
       "    </tr>\n",
       "  </tbody>\n",
       "</table>\n",
       "</div>"
      ],
      "text/plain": [
       "   Serial_No  GRE  TOEFL  University_Rating  SOP  LOR  CGPA  Research  \\\n",
       "0          1  337    118                  4  4.5  4.5  9.65         1   \n",
       "1          2  324    107                  4  4.0  4.5  8.87         1   \n",
       "2          3  316    104                  3  3.0  3.5  8.00         1   \n",
       "3          4  322    110                  3  3.5  2.5  8.67         1   \n",
       "4          5  314    103                  2  2.0  3.0  8.21         0   \n",
       "\n",
       "   Chance_of_Admit  Label  \n",
       "0             0.92      1  \n",
       "1             0.76      1  \n",
       "2             0.72      1  \n",
       "3             0.80      1  \n",
       "4             0.65      1  "
      ]
     },
     "execution_count": 129,
     "metadata": {},
     "output_type": "execute_result"
    }
   ],
   "source": [
    "raw.head()"
   ]
  },
  {
   "cell_type": "code",
   "execution_count": 131,
   "id": "295d94e9-0709-4a62-996c-6c65d45a6264",
   "metadata": {},
   "outputs": [],
   "source": [
    "q3 = raw.drop(columns = ['Serial_No', 'Chance_of_Admit', 'Label'])"
   ]
  },
  {
   "cell_type": "code",
   "execution_count": 136,
   "id": "34c99140-7797-42d2-83c8-82048e15797d",
   "metadata": {},
   "outputs": [
    {
     "data": {
      "text/plain": [
       "LogisticRegression(random_state=12, solver='liblinear')"
      ]
     },
     "execution_count": 136,
     "metadata": {},
     "output_type": "execute_result"
    }
   ],
   "source": [
    "log_lm = LogisticRegression(solver = 'liblinear', random_state = 12)\n",
    "log_lm.fit(q3, raw.Label)"
   ]
  },
  {
   "cell_type": "code",
   "execution_count": 137,
   "id": "9bfe24e4-1d06-47e8-8708-f11f0b3e7a03",
   "metadata": {},
   "outputs": [
    {
     "data": {
      "text/plain": [
       "array([[-0.09580381,  0.12816755,  0.03760055, -0.36607006,  1.00072287,\n",
       "         2.07552513,  0.78625153]])"
      ]
     },
     "execution_count": 137,
     "metadata": {},
     "output_type": "execute_result"
    }
   ],
   "source": [
    "log_lm.coef_"
   ]
  },
  {
   "cell_type": "code",
   "execution_count": null,
   "id": "9956fa25-5257-4cf5-9200-1b2541510cbd",
   "metadata": {},
   "outputs": [],
   "source": [
    "# (답) CGPA, 2.07"
   ]
  },
  {
   "cell_type": "code",
   "execution_count": 138,
   "id": "543db080-b908-4e8e-b509-44912656b506",
   "metadata": {},
   "outputs": [
    {
     "data": {
      "text/plain": [
       "LogisticRegression(C=100000, random_state=12, solver='liblinear')"
      ]
     },
     "execution_count": 138,
     "metadata": {},
     "output_type": "execute_result"
    }
   ],
   "source": [
    "log_lm2 = LogisticRegression(solver = 'liblinear', random_state = 12, C=100000)\n",
    "log_lm2.fit(q3, raw.Label)"
   ]
  },
  {
   "cell_type": "code",
   "execution_count": 139,
   "id": "091be92f-8fc7-44e9-bd3d-fccf59c2d187",
   "metadata": {},
   "outputs": [
    {
     "data": {
      "text/plain": [
       "array([[ 0.03033479,  0.16877131, -0.67546588, -0.7572899 ,  0.97055767,\n",
       "         3.98796499,  0.11021019]])"
      ]
     },
     "execution_count": 139,
     "metadata": {},
     "output_type": "execute_result"
    }
   ],
   "source": [
    "log_lm2.coef_"
   ]
  },
  {
   "cell_type": "markdown",
   "id": "7192b058-4c22-428e-a422-d20f02c1e52c",
   "metadata": {},
   "source": [
    "### 해설"
   ]
  },
  {
   "cell_type": "code",
   "execution_count": 140,
   "id": "d71bc6d4-2500-4179-abe5-1f6876d6fb6b",
   "metadata": {},
   "outputs": [
    {
     "data": {
      "text/plain": [
       "Index(['Serial_No', 'GRE', 'TOEFL', 'University_Rating', 'SOP', 'LOR', 'CGPA',\n",
       "       'Research', 'Chance_of_Admit'],\n",
       "      dtype='object')"
      ]
     },
     "execution_count": 140,
     "metadata": {},
     "output_type": "execute_result"
    }
   ],
   "source": [
    "dataset7.columns"
   ]
  },
  {
   "cell_type": "code",
   "execution_count": 141,
   "id": "d6029a16-cbe1-4274-a761-34b40fd0819f",
   "metadata": {},
   "outputs": [
    {
     "data": {
      "text/plain": [
       "Serial_No              int64\n",
       "GRE                    int64\n",
       "TOEFL                  int64\n",
       "University_Rating      int64\n",
       "SOP                  float64\n",
       "LOR                  float64\n",
       "CGPA                 float64\n",
       "Research               int64\n",
       "Chance_of_Admit      float64\n",
       "dtype: object"
      ]
     },
     "execution_count": 141,
     "metadata": {},
     "output_type": "execute_result"
    }
   ],
   "source": [
    "dataset7.dtypes"
   ]
  },
  {
   "cell_type": "code",
   "execution_count": 142,
   "id": "c1ce2f4b-c5f7-46af-9bac-697b655b9f2b",
   "metadata": {},
   "outputs": [],
   "source": [
    "q3 = dataset7.drop(columns=['Serial_No'])"
   ]
  },
  {
   "cell_type": "code",
   "execution_count": 143,
   "id": "7ef92dc4-c788-4e53-96d7-e32630156558",
   "metadata": {},
   "outputs": [],
   "source": [
    "import numpy as np"
   ]
  },
  {
   "cell_type": "code",
   "execution_count": 144,
   "id": "63cbc22c-a77e-4882-a848-b626ccc7cd97",
   "metadata": {},
   "outputs": [],
   "source": [
    "q3['ch_ad'] = np.where(q3.Chance_of_Admit > 0.5, 1, 0)"
   ]
  },
  {
   "cell_type": "code",
   "execution_count": 145,
   "id": "9a7d449b-cd10-4076-8c0e-a2f0f2946e62",
   "metadata": {},
   "outputs": [],
   "source": [
    "from sklearn.linear_model import LogisticRegression"
   ]
  },
  {
   "cell_type": "code",
   "execution_count": 161,
   "id": "a0cf1318-a42b-4fc8-9907-f0cd97062906",
   "metadata": {},
   "outputs": [],
   "source": [
    "x = q3.drop(columns=['Chance_of_Admit', 'ch_ad'])\n",
    "y = q3.ch_ad"
   ]
  },
  {
   "cell_type": "code",
   "execution_count": 162,
   "id": "3bed6e03-ad1b-4c50-adaa-0583bf77dbd3",
   "metadata": {},
   "outputs": [],
   "source": [
    "# 문제 조건 확인 (맞추지 않으면 최적 도달하지 못하는 경우)\n",
    "logit = LogisticRegression(fit_intercept=True, \n",
    "                           random_state=12, \n",
    "                           solver='liblinear', \n",
    "                           C=100000).fit(x, y)"
   ]
  },
  {
   "cell_type": "code",
   "execution_count": 163,
   "id": "0c6696d1-2272-4d40-8e46-ef7779e4588c",
   "metadata": {},
   "outputs": [
    {
     "data": {
      "text/plain": [
       "array([[-0.00735162,  0.1149377 , -0.43998563, -0.51819765,  1.05802024,\n",
       "         3.33949905,  0.11500903]])"
      ]
     },
     "execution_count": 163,
     "metadata": {},
     "output_type": "execute_result"
    }
   ],
   "source": [
    "logit.coef_"
   ]
  },
  {
   "cell_type": "code",
   "execution_count": 152,
   "id": "94a6a486-28f3-4742-a512-4401f1a01bab",
   "metadata": {},
   "outputs": [
    {
     "data": {
      "text/plain": [
       "Index(['GRE', 'TOEFL', 'University_Rating', 'SOP', 'LOR', 'CGPA', 'Research',\n",
       "       'ch_ad'],\n",
       "      dtype='object')"
      ]
     },
     "execution_count": 152,
     "metadata": {},
     "output_type": "execute_result"
    }
   ],
   "source": [
    "# x.columns"
   ]
  },
  {
   "cell_type": "code",
   "execution_count": 149,
   "id": "546928a7-0e47-4f74-aee3-86627043262c",
   "metadata": {},
   "outputs": [
    {
     "data": {
      "text/plain": [
       "array(['GRE', 'TOEFL', 'University_Rating', 'SOP', 'LOR', 'CGPA',\n",
       "       'Research', 'ch_ad'], dtype=object)"
      ]
     },
     "execution_count": 149,
     "metadata": {},
     "output_type": "execute_result"
    }
   ],
   "source": [
    "x.columns.values"
   ]
  },
  {
   "cell_type": "code",
   "execution_count": 164,
   "id": "5abac9c5-96c1-4f34-8884-d71dda16df8c",
   "metadata": {},
   "outputs": [
    {
     "data": {
      "text/html": [
       "<div>\n",
       "<style scoped>\n",
       "    .dataframe tbody tr th:only-of-type {\n",
       "        vertical-align: middle;\n",
       "    }\n",
       "\n",
       "    .dataframe tbody tr th {\n",
       "        vertical-align: top;\n",
       "    }\n",
       "\n",
       "    .dataframe thead th {\n",
       "        text-align: right;\n",
       "    }\n",
       "</style>\n",
       "<table border=\"1\" class=\"dataframe\">\n",
       "  <thead>\n",
       "    <tr style=\"text-align: right;\">\n",
       "      <th></th>\n",
       "      <th>0</th>\n",
       "      <th>1</th>\n",
       "      <th>2</th>\n",
       "      <th>3</th>\n",
       "      <th>4</th>\n",
       "      <th>5</th>\n",
       "      <th>6</th>\n",
       "    </tr>\n",
       "  </thead>\n",
       "  <tbody>\n",
       "    <tr>\n",
       "      <th>0</th>\n",
       "      <td>GRE</td>\n",
       "      <td>TOEFL</td>\n",
       "      <td>University_Rating</td>\n",
       "      <td>SOP</td>\n",
       "      <td>LOR</td>\n",
       "      <td>CGPA</td>\n",
       "      <td>Research</td>\n",
       "    </tr>\n",
       "    <tr>\n",
       "      <th>1</th>\n",
       "      <td>[-0.007351623910449681, 0.11493770280364839, -...</td>\n",
       "      <td>None</td>\n",
       "      <td>None</td>\n",
       "      <td>None</td>\n",
       "      <td>None</td>\n",
       "      <td>None</td>\n",
       "      <td>None</td>\n",
       "    </tr>\n",
       "  </tbody>\n",
       "</table>\n",
       "</div>"
      ],
      "text/plain": [
       "                                                   0      1  \\\n",
       "0                                                GRE  TOEFL   \n",
       "1  [-0.007351623910449681, 0.11493770280364839, -...   None   \n",
       "\n",
       "                   2     3     4     5         6  \n",
       "0  University_Rating   SOP   LOR  CGPA  Research  \n",
       "1               None  None  None  None      None  "
      ]
     },
     "execution_count": 164,
     "metadata": {},
     "output_type": "execute_result"
    }
   ],
   "source": [
    "q3_out = pd.DataFrame([x.columns.values, logit.coef_])\n",
    "q3_out"
   ]
  },
  {
   "cell_type": "code",
   "execution_count": 165,
   "id": "379d1a50-fc6a-490b-9b78-0892b665016a",
   "metadata": {},
   "outputs": [
    {
     "data": {
      "text/html": [
       "<div>\n",
       "<style scoped>\n",
       "    .dataframe tbody tr th:only-of-type {\n",
       "        vertical-align: middle;\n",
       "    }\n",
       "\n",
       "    .dataframe tbody tr th {\n",
       "        vertical-align: top;\n",
       "    }\n",
       "\n",
       "    .dataframe thead th {\n",
       "        text-align: right;\n",
       "    }\n",
       "</style>\n",
       "<table border=\"1\" class=\"dataframe\">\n",
       "  <thead>\n",
       "    <tr style=\"text-align: right;\">\n",
       "      <th></th>\n",
       "      <th>var</th>\n",
       "      <th>coef</th>\n",
       "    </tr>\n",
       "  </thead>\n",
       "  <tbody>\n",
       "    <tr>\n",
       "      <th>0</th>\n",
       "      <td>GRE</td>\n",
       "      <td>-0.007352</td>\n",
       "    </tr>\n",
       "    <tr>\n",
       "      <th>1</th>\n",
       "      <td>TOEFL</td>\n",
       "      <td>0.114938</td>\n",
       "    </tr>\n",
       "    <tr>\n",
       "      <th>2</th>\n",
       "      <td>University_Rating</td>\n",
       "      <td>-0.439986</td>\n",
       "    </tr>\n",
       "    <tr>\n",
       "      <th>3</th>\n",
       "      <td>SOP</td>\n",
       "      <td>-0.518198</td>\n",
       "    </tr>\n",
       "    <tr>\n",
       "      <th>4</th>\n",
       "      <td>LOR</td>\n",
       "      <td>1.058020</td>\n",
       "    </tr>\n",
       "    <tr>\n",
       "      <th>5</th>\n",
       "      <td>CGPA</td>\n",
       "      <td>3.339499</td>\n",
       "    </tr>\n",
       "    <tr>\n",
       "      <th>6</th>\n",
       "      <td>Research</td>\n",
       "      <td>0.115009</td>\n",
       "    </tr>\n",
       "  </tbody>\n",
       "</table>\n",
       "</div>"
      ],
      "text/plain": [
       "                 var      coef\n",
       "0                GRE -0.007352\n",
       "1              TOEFL  0.114938\n",
       "2  University_Rating -0.439986\n",
       "3                SOP -0.518198\n",
       "4                LOR  1.058020\n",
       "5               CGPA  3.339499\n",
       "6           Research  0.115009"
      ]
     },
     "execution_count": 165,
     "metadata": {},
     "output_type": "execute_result"
    }
   ],
   "source": [
    "q3_out = pd.DataFrame({'var' : x.columns.values, \n",
    "                       'coef' : logit.coef_.reshape(-1)})\n",
    "q3_out"
   ]
  },
  {
   "cell_type": "code",
   "execution_count": null,
   "id": "2c124f7a-d810-4943-9639-93c1673ef257",
   "metadata": {},
   "outputs": [],
   "source": [
    "# 수정"
   ]
  },
  {
   "cell_type": "code",
   "execution_count": 159,
   "id": "fa799cc5-91d5-4d03-b223-fc3401fbac62",
   "metadata": {},
   "outputs": [],
   "source": [
    "# 문제 조건 확인 (맞추지 않으면 최적 도달하지 못하는 경우)\n",
    "logit3 = LogisticRegression(fit_intercept=True, \n",
    "                           random_state=12, \n",
    "                           solver='liblinear').fit(x2, y)"
   ]
  },
  {
   "cell_type": "code",
   "execution_count": 160,
   "id": "13256c7d-9d65-4332-afd3-bea573e4c4b3",
   "metadata": {},
   "outputs": [
    {
     "data": {
      "text/html": [
       "<div>\n",
       "<style scoped>\n",
       "    .dataframe tbody tr th:only-of-type {\n",
       "        vertical-align: middle;\n",
       "    }\n",
       "\n",
       "    .dataframe tbody tr th {\n",
       "        vertical-align: top;\n",
       "    }\n",
       "\n",
       "    .dataframe thead th {\n",
       "        text-align: right;\n",
       "    }\n",
       "</style>\n",
       "<table border=\"1\" class=\"dataframe\">\n",
       "  <thead>\n",
       "    <tr style=\"text-align: right;\">\n",
       "      <th></th>\n",
       "      <th>var</th>\n",
       "      <th>coef</th>\n",
       "    </tr>\n",
       "  </thead>\n",
       "  <tbody>\n",
       "    <tr>\n",
       "      <th>0</th>\n",
       "      <td>GRE</td>\n",
       "      <td>-0.087786</td>\n",
       "    </tr>\n",
       "    <tr>\n",
       "      <th>1</th>\n",
       "      <td>TOEFL</td>\n",
       "      <td>0.106870</td>\n",
       "    </tr>\n",
       "    <tr>\n",
       "      <th>2</th>\n",
       "      <td>University_Rating</td>\n",
       "      <td>0.055942</td>\n",
       "    </tr>\n",
       "    <tr>\n",
       "      <th>3</th>\n",
       "      <td>SOP</td>\n",
       "      <td>-0.232291</td>\n",
       "    </tr>\n",
       "    <tr>\n",
       "      <th>4</th>\n",
       "      <td>LOR</td>\n",
       "      <td>0.983366</td>\n",
       "    </tr>\n",
       "    <tr>\n",
       "      <th>5</th>\n",
       "      <td>CGPA</td>\n",
       "      <td>1.978584</td>\n",
       "    </tr>\n",
       "    <tr>\n",
       "      <th>6</th>\n",
       "      <td>Research</td>\n",
       "      <td>0.662632</td>\n",
       "    </tr>\n",
       "  </tbody>\n",
       "</table>\n",
       "</div>"
      ],
      "text/plain": [
       "                 var      coef\n",
       "0                GRE -0.087786\n",
       "1              TOEFL  0.106870\n",
       "2  University_Rating  0.055942\n",
       "3                SOP -0.232291\n",
       "4                LOR  0.983366\n",
       "5               CGPA  1.978584\n",
       "6           Research  0.662632"
      ]
     },
     "execution_count": 160,
     "metadata": {},
     "output_type": "execute_result"
    }
   ],
   "source": [
    "q3_out3 = pd.DataFrame({'var' : x2.columns.values, \n",
    "                       'coef' : logit3.coef_.reshape(-1)})\n",
    "q3_out3"
   ]
  },
  {
   "cell_type": "markdown",
   "id": "ed03c342-7a67-4c49-9a09-834289e363da",
   "metadata": {},
   "source": [
    "# Dataset_08"
   ]
  },
  {
   "cell_type": "code",
   "execution_count": null,
   "id": "64eda58d-830b-4f14-abe0-cdc7bc6e1388",
   "metadata": {},
   "outputs": [],
   "source": [
    "# =============================================================================\n",
    "# =============================================================================\n",
    "# # 문제 08 유형(DataSet_08.csv 이용)\n",
    "#\n",
    "# 구분자 : comma(“,”), 50 Rows, 5 Columns, UTF-8 인코딩\n",
    "#\n",
    "# 스타트업 기업들의 수익성에 대한 분석을 하기 위하여\n",
    "# 아래와 같은 데이터를 입수하였다\n",
    "#\n",
    "# \n",
    "# 컬 럼 / 정 의 / Type\n",
    "# RandD_Spend / 연구개발비 지출 / Double\n",
    "# Administration / 운영관리비 지출 / Double\n",
    "# Marketing_Spend / 마케팅비 지출 / Double\n",
    "# State / 본사 위치 / String\n",
    "# Profit / 이익 / Double\n",
    "# =============================================================================\n",
    "# ============================================================================="
   ]
  },
  {
   "cell_type": "code",
   "execution_count": null,
   "id": "5157a68e-4044-4ed6-bd65-adf498623f02",
   "metadata": {},
   "outputs": [],
   "source": [
    "# =============================================================================\n",
    "# (참고)\n",
    "# #1\n",
    "# import pandas as pd\n",
    "# import numpy as np\n",
    "# #3\n",
    "# from sklearn.linear_model import LinearRegression\n",
    "# ============================================================================="
   ]
  },
  {
   "cell_type": "code",
   "execution_count": 166,
   "id": "59a1362d-a3a8-4bc7-a6df-4f62dc3a22ca",
   "metadata": {},
   "outputs": [],
   "source": [
    "import pandas as pd\n",
    "import numpy as np\n",
    "from sklearn.linear_model import LinearRegression"
   ]
  },
  {
   "cell_type": "code",
   "execution_count": 167,
   "id": "7e8cd367-e3be-401f-8c58-fabbbbc40753",
   "metadata": {},
   "outputs": [],
   "source": [
    "dataset8 = pd.read_csv('Dataset/Dataset_08.csv')"
   ]
  },
  {
   "cell_type": "code",
   "execution_count": 168,
   "id": "fe1d71c5-0d92-465a-96b1-f53ca7f355fe",
   "metadata": {},
   "outputs": [
    {
     "data": {
      "text/plain": [
       "Index(['RandD_Spend', 'Administration', 'Marketing_Spend', 'State', 'Profit'], dtype='object')"
      ]
     },
     "execution_count": 168,
     "metadata": {},
     "output_type": "execute_result"
    }
   ],
   "source": [
    "dataset8.columns"
   ]
  },
  {
   "cell_type": "code",
   "execution_count": 169,
   "id": "1ff338bd-ba54-491e-9fa6-fb45a950e3bd",
   "metadata": {},
   "outputs": [
    {
     "data": {
      "text/plain": [
       "RandD_Spend        float64\n",
       "Administration     float64\n",
       "Marketing_Spend    float64\n",
       "State               object\n",
       "Profit             float64\n",
       "dtype: object"
      ]
     },
     "execution_count": 169,
     "metadata": {},
     "output_type": "execute_result"
    }
   ],
   "source": [
    "dataset8.dtypes"
   ]
  },
  {
   "cell_type": "markdown",
   "id": "03fc9f9d-5e9e-4420-9259-2032dc51bd11",
   "metadata": {},
   "source": [
    "## 1."
   ]
  },
  {
   "cell_type": "code",
   "execution_count": null,
   "id": "68b83b3f-3f83-4a59-bb2f-b27ceee1d327",
   "metadata": {},
   "outputs": [],
   "source": [
    "# =============================================================================\n",
    "# 1.각 주(State)별 데이터 구성비를 소수점 둘째 자리까지 구하고, 알파벳 순으로\n",
    "# 기술하시오(주 이름 기준).\n",
    "# (답안 예시) 0.12, 0.34, 0.54\n",
    "# ============================================================================="
   ]
  },
  {
   "cell_type": "code",
   "execution_count": null,
   "id": "5b6246b1-d696-4be0-803c-533a2717b07d",
   "metadata": {},
   "outputs": [],
   "source": []
  },
  {
   "cell_type": "markdown",
   "id": "3ca04b74-6e59-4e51-a420-e9ae853a4806",
   "metadata": {},
   "source": [
    "## 2. "
   ]
  },
  {
   "cell_type": "code",
   "execution_count": null,
   "id": "29adb527-069a-4b8f-8b2f-c2f3ba987023",
   "metadata": {},
   "outputs": [],
   "source": [
    "# =============================================================================\n",
    "# 2.주별 이익의 평균을 구하고, 평균 이익이 가장 큰 주와 작은 주의 차이를 구하시오. \n",
    "# 차이값은 소수점 이하는 버리고 정수부분만 기술하시오. (답안 예시) 1234\n",
    "# ============================================================================="
   ]
  },
  {
   "cell_type": "code",
   "execution_count": null,
   "id": "f605a70b-ae8d-41fc-8164-b5ff1dbcd987",
   "metadata": {},
   "outputs": [],
   "source": []
  },
  {
   "cell_type": "markdown",
   "id": "95b4f02e-ed92-4dd5-bb6f-471f81d72dae",
   "metadata": {},
   "source": [
    "## 3."
   ]
  },
  {
   "cell_type": "code",
   "execution_count": null,
   "id": "a1091da6-60b3-4d32-b1c6-ddb0ef41ba65",
   "metadata": {},
   "outputs": [],
   "source": [
    "# =============================================================================\n",
    "# 3.독립변수로 RandD_Spend, Administration, Marketing_Spend를 사용하여 Profit을 주별로\n",
    "# 예측하는 회귀 모형을 만들고, 이 회귀모형을 사용하여 학습오차를 산출하시오.\n",
    "# - 주별로 계산된 학습오차 중 MAPE 기준으로 가장 낮은 오차를 보이는 주는 어느\n",
    "# 주이고 그 값은 무엇인가? (반올림하여 소수점 둘째 자리까지 기술하시오)\n",
    "# - (MAPE = Σ ( | y - y ̂ | / y ) * 100/n )\n",
    "# (답안 예시) ABC, 1.56\n",
    "# ============================================================================="
   ]
  },
  {
   "cell_type": "code",
   "execution_count": 237,
   "id": "b2b76890-45cc-4165-946f-597847ca8b31",
   "metadata": {},
   "outputs": [],
   "source": [
    "q3 = dataset8.copy()"
   ]
  },
  {
   "cell_type": "code",
   "execution_count": 238,
   "id": "69eaf87a-2ece-4514-ba3b-f77a7d8a8eff",
   "metadata": {},
   "outputs": [],
   "source": [
    "lm = LinearRegression().fit(q3[['RandD_Spend', 'Administration', 'Marketing_Spend']], q3.Profit)"
   ]
  },
  {
   "cell_type": "code",
   "execution_count": 239,
   "id": "3ce4bd0e-1510-4f36-9dde-40eed861f7ad",
   "metadata": {},
   "outputs": [
    {
     "data": {
      "text/plain": [
       "array([ 0.80571505, -0.02681597,  0.02722806])"
      ]
     },
     "execution_count": 239,
     "metadata": {},
     "output_type": "execute_result"
    }
   ],
   "source": [
    "lm.coef_"
   ]
  },
  {
   "cell_type": "code",
   "execution_count": 240,
   "id": "00ffdce3-8223-4b5f-a298-d8c80f2d79fd",
   "metadata": {},
   "outputs": [
    {
     "data": {
      "text/plain": [
       "Index(['RandD_Spend', 'Administration', 'Marketing_Spend', 'State', 'Profit'], dtype='object')"
      ]
     },
     "execution_count": 240,
     "metadata": {},
     "output_type": "execute_result"
    }
   ],
   "source": [
    "q3.columns"
   ]
  },
  {
   "cell_type": "code",
   "execution_count": 241,
   "id": "1fc57ce2-22ee-41d9-8735-9c56d5b51893",
   "metadata": {},
   "outputs": [
    {
     "data": {
      "text/plain": [
       "['New York', 'California', 'Florida']"
      ]
     },
     "execution_count": 241,
     "metadata": {},
     "output_type": "execute_result"
    }
   ],
   "source": [
    "state = list(q3.State.unique())\n",
    "state"
   ]
  },
  {
   "cell_type": "code",
   "execution_count": 247,
   "id": "def411cf-8c2c-405a-8e2f-8b59e78c839e",
   "metadata": {
    "collapsed": true,
    "jupyter": {
     "outputs_hidden": true
    },
    "tags": []
   },
   "outputs": [
    {
     "ename": "SyntaxError",
     "evalue": "unexpected EOF while parsing (<string>, line 1)",
     "output_type": "error",
     "traceback": [
      "Traceback \u001b[1;36m(most recent call last)\u001b[0m:\n",
      "  File \u001b[0;32m\"C:\\Users\\Boram Yun\\anaconda3\\envs\\multi\\lib\\site-packages\\IPython\\core\\interactiveshell.py\"\u001b[0m, line \u001b[0;32m3441\u001b[0m, in \u001b[0;35mrun_code\u001b[0m\n    exec(code_obj, self.user_global_ns, self.user_ns)\n",
      "\u001b[1;36m  File \u001b[1;32m\"<ipython-input-247-d008f5144158>\"\u001b[1;36m, line \u001b[1;32m7\u001b[1;36m, in \u001b[1;35m<module>\u001b[1;36m\u001b[0m\n\u001b[1;33m    r2_score = eval('lm_'+str(i)).score(temp[['RandD_Spend', 'Administration', 'Marketing_Spend']], temp.Profit)\u001b[0m\n",
      "\u001b[1;36m  File \u001b[1;32m\"<string>\"\u001b[1;36m, line \u001b[1;32m1\u001b[0m\n\u001b[1;33m    lm_New York\u001b[0m\n\u001b[1;37m              ^\u001b[0m\n\u001b[1;31mSyntaxError\u001b[0m\u001b[1;31m:\u001b[0m unexpected EOF while parsing\n"
     ]
    }
   ],
   "source": [
    "''' # state 변수명 변경 필요\n",
    "q3_out = []\n",
    "\n",
    "for i in state:\n",
    "    temp = q3[q3.State == i]\n",
    "    \n",
    "    globals()['lm_'+str(i)] = LinearRegression().fit(temp[['RandD_Spend', 'Administration', 'Marketing_Spend']], temp.Profit)\n",
    "    r2_score = eval('lm_'+str(i)).score(temp[['RandD_Spend', 'Administration', 'Marketing_Spend']], temp.Profit)\n",
    "    q3_out = q3_out + [[i, r2_score]]\n",
    "    \n",
    "q3_out = pd.DataFrame(q3_out, columns=['state', 'r2_score'])\n",
    "q3_out\n",
    "'''"
   ]
  },
  {
   "cell_type": "markdown",
   "id": "abff2af4-c4dd-43c1-ad94-250d827d2f99",
   "metadata": {},
   "source": [
    "### 해설"
   ]
  },
  {
   "cell_type": "code",
   "execution_count": 179,
   "id": "bc9a0b24-a26a-4998-a093-b2d156223be1",
   "metadata": {},
   "outputs": [],
   "source": [
    "from sklearn.linear_model import LinearRegression"
   ]
  },
  {
   "cell_type": "code",
   "execution_count": 178,
   "id": "ec901648-e244-4483-8914-cf991697ea25",
   "metadata": {},
   "outputs": [
    {
     "data": {
      "text/plain": [
       "array(['New York', 'California', 'Florida'], dtype=object)"
      ]
     },
     "execution_count": 178,
     "metadata": {},
     "output_type": "execute_result"
    }
   ],
   "source": [
    "dataset8.State.unique()"
   ]
  },
  {
   "cell_type": "code",
   "execution_count": 180,
   "id": "646a814d-1954-4606-be4d-93209bb86d83",
   "metadata": {},
   "outputs": [],
   "source": [
    "x_var = ['RandD_Spend', 'Administration', 'Marketing_Spend']"
   ]
  },
  {
   "cell_type": "code",
   "execution_count": 181,
   "id": "5947c7d9-e9a0-4ce9-b73c-7e4d7bb09c4b",
   "metadata": {},
   "outputs": [],
   "source": [
    "temp = dataset8[dataset8.State == 'New York']"
   ]
  },
  {
   "cell_type": "code",
   "execution_count": 183,
   "id": "efd17e85-f97d-4a20-b86b-b48195b995fa",
   "metadata": {},
   "outputs": [],
   "source": [
    "lm_NY = LinearRegression().fit(temp[x_var], temp.Profit)"
   ]
  },
  {
   "cell_type": "code",
   "execution_count": 185,
   "id": "58e3349c-6100-4a6c-a39b-32a5cb01be55",
   "metadata": {},
   "outputs": [],
   "source": [
    "pred_NY = lm_NY.predict(temp[x_var])"
   ]
  },
  {
   "cell_type": "code",
   "execution_count": 186,
   "id": "7947a0b5-63e0-4ff9-99de-1070bb0f2f16",
   "metadata": {},
   "outputs": [
    {
     "data": {
      "text/plain": [
       "8.524247700724837"
      ]
     },
     "execution_count": 186,
     "metadata": {},
     "output_type": "execute_result"
    }
   ],
   "source": [
    "mape_NY = (abs(temp.Profit - pred_NY) / temp.Profit).sum() * 100 / len(temp)\n",
    "mape_NY"
   ]
  },
  {
   "cell_type": "code",
   "execution_count": 187,
   "id": "b25c48d8-b82f-43ee-9726-6b80f9a39f47",
   "metadata": {},
   "outputs": [
    {
     "data": {
      "text/plain": [
       "15.227582003020185"
      ]
     },
     "execution_count": 187,
     "metadata": {},
     "output_type": "execute_result"
    }
   ],
   "source": [
    "temp = dataset8[dataset8.State == 'California']\n",
    "\n",
    "lm_Ca = LinearRegression().fit(temp[x_var], temp.Profit)\n",
    "pred_Ca = lm_Ca.predict(temp[x_var])\n",
    "\n",
    "mape_Ca = (abs(temp.Profit - pred_Ca) / temp.Profit).sum() * 100 / len(temp)\n",
    "mape_Ca"
   ]
  },
  {
   "cell_type": "code",
   "execution_count": 188,
   "id": "bf917c09-51ff-4d77-b0b9-b223a48b7977",
   "metadata": {},
   "outputs": [
    {
     "data": {
      "text/plain": [
       "5.706713100164492"
      ]
     },
     "execution_count": 188,
     "metadata": {},
     "output_type": "execute_result"
    }
   ],
   "source": [
    "temp = dataset8[dataset8.State == 'Florida']\n",
    "\n",
    "lm_Fl = LinearRegression().fit(temp[x_var], temp.Profit)\n",
    "pred_Fl = lm_Fl.predict(temp[x_var])\n",
    "\n",
    "mape_Fl = (abs(temp.Profit - pred_Fl) / temp.Profit).sum() * 100 / len(temp)\n",
    "mape_Fl"
   ]
  },
  {
   "cell_type": "code",
   "execution_count": null,
   "id": "6fee2371-1502-47ad-8d90-1c836ca879d8",
   "metadata": {},
   "outputs": [],
   "source": [
    "# (정답) Florida, 5.71"
   ]
  },
  {
   "cell_type": "markdown",
   "id": "f9f7a83b-aa49-42c8-bda6-1a4049e7491f",
   "metadata": {},
   "source": [
    "# Dataset_09"
   ]
  },
  {
   "cell_type": "code",
   "execution_count": null,
   "id": "5c85952d-0e15-4bb0-a9f3-f1411f938950",
   "metadata": {},
   "outputs": [],
   "source": [
    "# =============================================================================\n",
    "# =============================================================================\n",
    "# # 문제 09 유형(DataSet_09.csv 이용)\n",
    "#\n",
    "# 구분자 : comma(“,”), 2000 Rows, 16 Columns, UTF-8 인코딩\n",
    "#\n",
    "# 항공사에서 고객만족도 조사를 하고 서비스 개선에 활용하고자\n",
    "# 아래와 같은 데이터를 준비하였다.\n",
    "#\n",
    "# 컬 럼 / 정 의 / Type\n",
    "# satisfaction / 서비스 만족 여부 / String\n",
    "# Gender / 성별 / String\n",
    "# Age / 나이 / Double\n",
    "# Customer_Type / 고객 타입 / String\n",
    "# Class / 탑승 좌석 등급 / String\n",
    "# Flight_Distance / 비행 거리 / Double\n",
    "# Seat_comfort / 좌석 안락도 점수 / Double\n",
    "# Food_and_Drink / 식사와 음료 점수 / Double\n",
    "# Inflight_wifi_service / 기내 와이파이 서비스 점수 / Double\n",
    "# Inflight_entertainment / 기내 엔터테인먼트 서비스 점수 / Double\n",
    "# Onboard_service / 탑승 서비스 점수 / Double\n",
    "# Leg_room_service / 다리 공간 점수 / Double\n",
    "# Baggage_handling / 수하물 취급 점수 / Double\n",
    "# Cleanliness / 청결도 점수 / Double\n",
    "# Departure_Daly_in_Minutes / 출발 지연 (분) / Double\n",
    "# Arrival_Delay_in_Minutes / 도착 지연 (분) / Double\n",
    "# =============================================================================\n",
    "# ============================================================================="
   ]
  },
  {
   "cell_type": "code",
   "execution_count": null,
   "id": "52cc25c5-6172-4057-9673-0d9dcd612439",
   "metadata": {},
   "outputs": [],
   "source": [
    "# =============================================================================\n",
    "# (참고)\n",
    "# #1\n",
    "# import pandas as pd\n",
    "# import numpy as np\n",
    "# #2\n",
    "# import scipy.stats as stats\n",
    "# #3\n",
    "# from sklearn.linear_model import LogisticRegression\n",
    "# from sklearn.model_selection import train_test_split\n",
    "# from sklearn import metrics\n",
    "# \n",
    "# ============================================================================="
   ]
  },
  {
   "cell_type": "code",
   "execution_count": 189,
   "id": "55562c0a-0257-4254-8948-cf457518da9c",
   "metadata": {},
   "outputs": [],
   "source": [
    "import pandas as pd\n",
    "import numpy as np\n",
    "\n",
    "import scipy.stats as stats\n",
    "\n",
    "from sklearn.linear_model import LogisticRegression\n",
    "from sklearn.model_selection import train_test_split\n",
    "from sklearn import metrics"
   ]
  },
  {
   "cell_type": "code",
   "execution_count": null,
   "id": "d7c6276c-06f6-44f1-bf30-dc6b2e9e6390",
   "metadata": {},
   "outputs": [],
   "source": []
  },
  {
   "cell_type": "markdown",
   "id": "4aa826b7-1b76-44f9-ada1-fccfb1508fd6",
   "metadata": {},
   "source": [
    "## 1. "
   ]
  },
  {
   "cell_type": "code",
   "execution_count": null,
   "id": "cd53dbe6-d065-421f-a0bb-cbb6677e6075",
   "metadata": {},
   "outputs": [],
   "source": [
    "# =============================================================================\n",
    "# 1.데이터 타입을 위 표에 정의된 타입으로 전처리를 한 후, 데이터 파일 내에 결측값은\n",
    "# 총 몇 개인가? (답안 예시) 1\n",
    "# ============================================================================="
   ]
  },
  {
   "cell_type": "code",
   "execution_count": null,
   "id": "eaae6bc5-b317-4b02-96c6-4a9d8281df95",
   "metadata": {},
   "outputs": [],
   "source": []
  },
  {
   "cell_type": "markdown",
   "id": "9244270e-a887-496c-b1cd-312246b2c2b8",
   "metadata": {},
   "source": [
    "## 2."
   ]
  },
  {
   "cell_type": "code",
   "execution_count": null,
   "id": "131f076c-3536-46cc-8a4c-fe3622b959f3",
   "metadata": {},
   "outputs": [],
   "source": [
    "# =============================================================================\n",
    "# 2.다음에 제시된 데이터 처리를 하고 카이제곱 독립성 검정을 수행하시오.\n",
    "# - 결측값이 있다면 해당 행을 제거하시오.\n",
    "# - 나이는 20 이하이면 10, 30 이하이면 20, 40 이하이면 30, 50 이하이면 40, 60 이하이면 50, \n",
    "# 60 초과는 60으로 변환하여 Age_gr으로 파생변수를 생성하시오.\n",
    "# - Age_gr, Gender, Customer_Type, Class 변수가 satisfaction에 영향이 있는지 카이제곱\n",
    "# 독립성 검정을 수행하시오. \n",
    "# - 연관성이 있는 것으로 파악된 변수의 검정통계량 추정치를 정수 부분만 기술하시오. \n",
    "# (답안 예시) 123\n",
    "# ============================================================================="
   ]
  },
  {
   "cell_type": "code",
   "execution_count": null,
   "id": "138eaf8c-5092-4b76-b40f-4f881c84e21b",
   "metadata": {},
   "outputs": [],
   "source": []
  },
  {
   "cell_type": "markdown",
   "id": "a97d904f-c375-4ef7-9641-ae814bd2e5c3",
   "metadata": {},
   "source": [
    "## 3. "
   ]
  },
  {
   "cell_type": "code",
   "execution_count": null,
   "id": "44b5bb20-4859-428c-9992-f98137ffe108",
   "metadata": {},
   "outputs": [],
   "source": [
    "# =============================================================================\n",
    "# 3.고객 만족도를 라벨로 하여 다음과 같이 로지스틱 회귀분석을 수행하시오. \n",
    "# - 결측치가 포함된 행은 제거\n",
    "# - 데이터를 7대 3으로 분리 (Seed = 123)\n",
    "# - 아래의 11개 변수를 Feature로 사용\n",
    "# Flight_Distance, Seat_comfort, Food_and_drink, Inflight_wifi_service, \n",
    "# Inflight_entertainment,Onboard_service, Leg_room_service, Baggage_handling,\n",
    "# Cleanliness, Departure_Delay_in_Minutes, Arrival_Delay_in_Minutes\n",
    "# \n",
    "# - Seed = 123, 이외의 항목은 모두 Default 사용\n",
    "# - 예측 정확도를 측정하고 dissatisfied의 f1 score를 소수점 넷째 자리에서 반올림하여\n",
    "# 소수점 셋째 자리까지 기술하시오. (답안 예시) 0.123\n",
    "# ============================================================================="
   ]
  },
  {
   "cell_type": "code",
   "execution_count": null,
   "id": "9826bd03-75c9-4cf3-b37a-a8cf62bcaf91",
   "metadata": {},
   "outputs": [],
   "source": []
  },
  {
   "cell_type": "code",
   "execution_count": null,
   "id": "2b1f11f4-f1e5-47d8-9dbb-ac33766c50c2",
   "metadata": {},
   "outputs": [],
   "source": []
  },
  {
   "cell_type": "code",
   "execution_count": null,
   "id": "eed1211c-6c84-43c1-a37f-e5c44d8b5349",
   "metadata": {},
   "outputs": [],
   "source": []
  },
  {
   "cell_type": "markdown",
   "id": "5a661812-a77a-4396-a484-daaaf84dbb89",
   "metadata": {},
   "source": [
    "# Dataset_10"
   ]
  },
  {
   "cell_type": "code",
   "execution_count": null,
   "id": "acd69a45-7fb3-4851-85fc-40954adf5274",
   "metadata": {},
   "outputs": [],
   "source": [
    "# =============================================================================\n",
    "# =============================================================================\n",
    "# # 문제 10 유형(DataSet_10.csv 이용)\n",
    "#\n",
    "# 구분자 : comma(“,”), 1538 Rows, 6 Columns, UTF-8 인코딩\n",
    "\n",
    "# 중고 자동차 가격에 대한 분석을 위하여 아래와 같은 데이터를\n",
    "# 확보하였다.\n",
    "\n",
    "# 컬 럼 / 정 의 / Type\n",
    "# model / 모델명 / String\n",
    "# engine_power / 엔진 파워 / Double\n",
    "# age_in_days / 운행 일수 / Double\n",
    "# km / 운행 거리 / Double\n",
    "# previous_owners / 이전 소유자 수 / Double\n",
    "# price / 중고차 가격 / Double\n",
    "# =============================================================================\n",
    "# ============================================================================="
   ]
  },
  {
   "cell_type": "code",
   "execution_count": null,
   "id": "cdd6b8db-9ebc-4fcc-800a-cb2dd9b48919",
   "metadata": {},
   "outputs": [],
   "source": [
    "# =============================================================================\n",
    "# (참고)\n",
    "# #1\n",
    "# import pandas as pd\n",
    "# import numpy as np\n",
    "# #2\n",
    "# import scipy.stats as ststs\n",
    "# #3\n",
    "# from sklearn.linear_model import LinearRegression\n",
    "# ============================================================================="
   ]
  },
  {
   "cell_type": "code",
   "execution_count": null,
   "id": "b9f769f8-c8fa-4f3a-8b48-b7ac097c73f3",
   "metadata": {},
   "outputs": [],
   "source": [
    "import pandas as pd\n",
    "import numpy as np\n",
    "\n",
    "import scipy.stats as ststs\n",
    "\n",
    "from sklearn.linear_model import LinearRegression"
   ]
  },
  {
   "cell_type": "code",
   "execution_count": 190,
   "id": "ef08eaee-3d80-473c-aa31-3a6183bf5832",
   "metadata": {},
   "outputs": [],
   "source": [
    "dataset10 = pd.read_csv('Dataset/Dataset_10.csv')"
   ]
  },
  {
   "cell_type": "code",
   "execution_count": 191,
   "id": "e661eee7-848e-4173-abf2-8986524bb43f",
   "metadata": {},
   "outputs": [
    {
     "data": {
      "text/plain": [
       "Index(['model', 'engine_power', 'age_in_days', 'km', 'previous_owners',\n",
       "       'price', 'Unnamed: 6', 'Unnamed: 7', 'Unnamed: 8', 'Unnamed: 9',\n",
       "       'Unnamed: 10', 'Unnamed: 11', 'Unnamed: 12', 'Unnamed: 13',\n",
       "       'Unnamed: 14', 'Unnamed: 15', 'Unnamed: 16'],\n",
       "      dtype='object')"
      ]
     },
     "execution_count": 191,
     "metadata": {},
     "output_type": "execute_result"
    }
   ],
   "source": [
    "dataset10.columns"
   ]
  },
  {
   "cell_type": "code",
   "execution_count": 192,
   "id": "69aff974-0be5-4a09-a41b-d21d05b076f6",
   "metadata": {},
   "outputs": [
    {
     "name": "stdout",
     "output_type": "stream",
     "text": [
      "<class 'pandas.core.frame.DataFrame'>\n",
      "RangeIndex: 1538 entries, 0 to 1537\n",
      "Data columns (total 17 columns):\n",
      " #   Column           Non-Null Count  Dtype  \n",
      "---  ------           --------------  -----  \n",
      " 0   model            1538 non-null   object \n",
      " 1   engine_power     1538 non-null   int64  \n",
      " 2   age_in_days      1538 non-null   int64  \n",
      " 3   km               1538 non-null   int64  \n",
      " 4   previous_owners  1538 non-null   int64  \n",
      " 5   price            1538 non-null   int64  \n",
      " 6   Unnamed: 6       0 non-null      float64\n",
      " 7   Unnamed: 7       0 non-null      float64\n",
      " 8   Unnamed: 8       0 non-null      float64\n",
      " 9   Unnamed: 9       0 non-null      float64\n",
      " 10  Unnamed: 10      0 non-null      float64\n",
      " 11  Unnamed: 11      0 non-null      float64\n",
      " 12  Unnamed: 12      0 non-null      float64\n",
      " 13  Unnamed: 13      0 non-null      float64\n",
      " 14  Unnamed: 14      0 non-null      float64\n",
      " 15  Unnamed: 15      0 non-null      float64\n",
      " 16  Unnamed: 16      0 non-null      float64\n",
      "dtypes: float64(11), int64(5), object(1)\n",
      "memory usage: 204.4+ KB\n"
     ]
    }
   ],
   "source": [
    "dataset10.info()"
   ]
  },
  {
   "cell_type": "code",
   "execution_count": 197,
   "id": "adce336f-ccf2-49d0-aabd-d422accfa6d8",
   "metadata": {},
   "outputs": [
    {
     "data": {
      "text/html": [
       "<div>\n",
       "<style scoped>\n",
       "    .dataframe tbody tr th:only-of-type {\n",
       "        vertical-align: middle;\n",
       "    }\n",
       "\n",
       "    .dataframe tbody tr th {\n",
       "        vertical-align: top;\n",
       "    }\n",
       "\n",
       "    .dataframe thead th {\n",
       "        text-align: right;\n",
       "    }\n",
       "</style>\n",
       "<table border=\"1\" class=\"dataframe\">\n",
       "  <thead>\n",
       "    <tr style=\"text-align: right;\">\n",
       "      <th></th>\n",
       "      <th>model</th>\n",
       "      <th>engine_power</th>\n",
       "      <th>age_in_days</th>\n",
       "      <th>km</th>\n",
       "      <th>previous_owners</th>\n",
       "      <th>price</th>\n",
       "      <th>Unnamed: 6</th>\n",
       "      <th>Unnamed: 7</th>\n",
       "      <th>Unnamed: 8</th>\n",
       "      <th>Unnamed: 9</th>\n",
       "      <th>Unnamed: 10</th>\n",
       "      <th>Unnamed: 11</th>\n",
       "      <th>Unnamed: 12</th>\n",
       "      <th>Unnamed: 13</th>\n",
       "      <th>Unnamed: 14</th>\n",
       "      <th>Unnamed: 15</th>\n",
       "      <th>Unnamed: 16</th>\n",
       "    </tr>\n",
       "  </thead>\n",
       "  <tbody>\n",
       "    <tr>\n",
       "      <th>0</th>\n",
       "      <td>lounge</td>\n",
       "      <td>51</td>\n",
       "      <td>882</td>\n",
       "      <td>25000</td>\n",
       "      <td>1</td>\n",
       "      <td>8900</td>\n",
       "      <td>NaN</td>\n",
       "      <td>NaN</td>\n",
       "      <td>NaN</td>\n",
       "      <td>NaN</td>\n",
       "      <td>NaN</td>\n",
       "      <td>NaN</td>\n",
       "      <td>NaN</td>\n",
       "      <td>NaN</td>\n",
       "      <td>NaN</td>\n",
       "      <td>NaN</td>\n",
       "      <td>NaN</td>\n",
       "    </tr>\n",
       "    <tr>\n",
       "      <th>1</th>\n",
       "      <td>pop</td>\n",
       "      <td>51</td>\n",
       "      <td>1186</td>\n",
       "      <td>32500</td>\n",
       "      <td>1</td>\n",
       "      <td>8800</td>\n",
       "      <td>NaN</td>\n",
       "      <td>NaN</td>\n",
       "      <td>NaN</td>\n",
       "      <td>NaN</td>\n",
       "      <td>NaN</td>\n",
       "      <td>NaN</td>\n",
       "      <td>NaN</td>\n",
       "      <td>NaN</td>\n",
       "      <td>NaN</td>\n",
       "      <td>NaN</td>\n",
       "      <td>NaN</td>\n",
       "    </tr>\n",
       "    <tr>\n",
       "      <th>2</th>\n",
       "      <td>sport</td>\n",
       "      <td>74</td>\n",
       "      <td>4658</td>\n",
       "      <td>142228</td>\n",
       "      <td>1</td>\n",
       "      <td>4200</td>\n",
       "      <td>NaN</td>\n",
       "      <td>NaN</td>\n",
       "      <td>NaN</td>\n",
       "      <td>NaN</td>\n",
       "      <td>NaN</td>\n",
       "      <td>NaN</td>\n",
       "      <td>NaN</td>\n",
       "      <td>NaN</td>\n",
       "      <td>NaN</td>\n",
       "      <td>NaN</td>\n",
       "      <td>NaN</td>\n",
       "    </tr>\n",
       "    <tr>\n",
       "      <th>3</th>\n",
       "      <td>lounge</td>\n",
       "      <td>51</td>\n",
       "      <td>2739</td>\n",
       "      <td>160000</td>\n",
       "      <td>1</td>\n",
       "      <td>6000</td>\n",
       "      <td>NaN</td>\n",
       "      <td>NaN</td>\n",
       "      <td>NaN</td>\n",
       "      <td>NaN</td>\n",
       "      <td>NaN</td>\n",
       "      <td>NaN</td>\n",
       "      <td>NaN</td>\n",
       "      <td>NaN</td>\n",
       "      <td>NaN</td>\n",
       "      <td>NaN</td>\n",
       "      <td>NaN</td>\n",
       "    </tr>\n",
       "    <tr>\n",
       "      <th>4</th>\n",
       "      <td>pop</td>\n",
       "      <td>73</td>\n",
       "      <td>3074</td>\n",
       "      <td>106880</td>\n",
       "      <td>1</td>\n",
       "      <td>5700</td>\n",
       "      <td>NaN</td>\n",
       "      <td>NaN</td>\n",
       "      <td>NaN</td>\n",
       "      <td>NaN</td>\n",
       "      <td>NaN</td>\n",
       "      <td>NaN</td>\n",
       "      <td>NaN</td>\n",
       "      <td>NaN</td>\n",
       "      <td>NaN</td>\n",
       "      <td>NaN</td>\n",
       "      <td>NaN</td>\n",
       "    </tr>\n",
       "  </tbody>\n",
       "</table>\n",
       "</div>"
      ],
      "text/plain": [
       "    model  engine_power  age_in_days      km  previous_owners  price  \\\n",
       "0  lounge            51          882   25000                1   8900   \n",
       "1     pop            51         1186   32500                1   8800   \n",
       "2   sport            74         4658  142228                1   4200   \n",
       "3  lounge            51         2739  160000                1   6000   \n",
       "4     pop            73         3074  106880                1   5700   \n",
       "\n",
       "   Unnamed: 6  Unnamed: 7  Unnamed: 8  Unnamed: 9  Unnamed: 10  Unnamed: 11  \\\n",
       "0         NaN         NaN         NaN         NaN          NaN          NaN   \n",
       "1         NaN         NaN         NaN         NaN          NaN          NaN   \n",
       "2         NaN         NaN         NaN         NaN          NaN          NaN   \n",
       "3         NaN         NaN         NaN         NaN          NaN          NaN   \n",
       "4         NaN         NaN         NaN         NaN          NaN          NaN   \n",
       "\n",
       "   Unnamed: 12  Unnamed: 13  Unnamed: 14  Unnamed: 15  Unnamed: 16  \n",
       "0          NaN          NaN          NaN          NaN          NaN  \n",
       "1          NaN          NaN          NaN          NaN          NaN  \n",
       "2          NaN          NaN          NaN          NaN          NaN  \n",
       "3          NaN          NaN          NaN          NaN          NaN  \n",
       "4          NaN          NaN          NaN          NaN          NaN  "
      ]
     },
     "execution_count": 197,
     "metadata": {},
     "output_type": "execute_result"
    }
   ],
   "source": [
    "dataset10.head()"
   ]
  },
  {
   "cell_type": "markdown",
   "id": "2e94aa40-14e8-48c1-841f-488271652538",
   "metadata": {},
   "source": [
    "## 1. .drop(how=) & .pivor_table()"
   ]
  },
  {
   "cell_type": "code",
   "execution_count": null,
   "id": "a065c40b-04cf-4bf3-bcc0-5ac13f0bacd6",
   "metadata": {},
   "outputs": [],
   "source": [
    "# =============================================================================\n",
    "# 1.이전 소유자 수가 한 명이고 엔진 파워가 51인 차에 대해 모델별 하루 평균 운행\n",
    "# 거리를 산출하였을 때 가장 낮은 값을 가진 모델이 가장 큰 값을 가진 모델에 대한\n",
    "# 비율은 얼마인가? 소수점 셋째 자리에서 반올림하여 소수점 둘째 자리까지\n",
    "# 기술하시오.\n",
    "# (모델별 평균 → 일평균 → 최대최소 비율 계산) (답안 예시) 0.12\n",
    "# ============================================================================="
   ]
  },
  {
   "cell_type": "code",
   "execution_count": 198,
   "id": "f981fcb5-51e0-4627-9870-19469db0d707",
   "metadata": {},
   "outputs": [],
   "source": [
    "q1 = dataset10.copy()"
   ]
  },
  {
   "cell_type": "code",
   "execution_count": 199,
   "id": "2cbd027c-7d2d-44de-a96c-7be308e96f2c",
   "metadata": {},
   "outputs": [
    {
     "data": {
      "text/html": [
       "<div>\n",
       "<style scoped>\n",
       "    .dataframe tbody tr th:only-of-type {\n",
       "        vertical-align: middle;\n",
       "    }\n",
       "\n",
       "    .dataframe tbody tr th {\n",
       "        vertical-align: top;\n",
       "    }\n",
       "\n",
       "    .dataframe thead th {\n",
       "        text-align: right;\n",
       "    }\n",
       "</style>\n",
       "<table border=\"1\" class=\"dataframe\">\n",
       "  <thead>\n",
       "    <tr style=\"text-align: right;\">\n",
       "      <th></th>\n",
       "      <th>model</th>\n",
       "      <th>engine_power</th>\n",
       "      <th>age_in_days</th>\n",
       "      <th>km</th>\n",
       "      <th>previous_owners</th>\n",
       "      <th>price</th>\n",
       "      <th>Unnamed: 6</th>\n",
       "      <th>Unnamed: 7</th>\n",
       "      <th>Unnamed: 8</th>\n",
       "      <th>Unnamed: 9</th>\n",
       "      <th>Unnamed: 10</th>\n",
       "      <th>Unnamed: 11</th>\n",
       "      <th>Unnamed: 12</th>\n",
       "      <th>Unnamed: 13</th>\n",
       "      <th>Unnamed: 14</th>\n",
       "      <th>Unnamed: 15</th>\n",
       "      <th>Unnamed: 16</th>\n",
       "    </tr>\n",
       "  </thead>\n",
       "  <tbody>\n",
       "    <tr>\n",
       "      <th>0</th>\n",
       "      <td>lounge</td>\n",
       "      <td>51</td>\n",
       "      <td>882</td>\n",
       "      <td>25000</td>\n",
       "      <td>1</td>\n",
       "      <td>8900</td>\n",
       "      <td>NaN</td>\n",
       "      <td>NaN</td>\n",
       "      <td>NaN</td>\n",
       "      <td>NaN</td>\n",
       "      <td>NaN</td>\n",
       "      <td>NaN</td>\n",
       "      <td>NaN</td>\n",
       "      <td>NaN</td>\n",
       "      <td>NaN</td>\n",
       "      <td>NaN</td>\n",
       "      <td>NaN</td>\n",
       "    </tr>\n",
       "    <tr>\n",
       "      <th>1</th>\n",
       "      <td>pop</td>\n",
       "      <td>51</td>\n",
       "      <td>1186</td>\n",
       "      <td>32500</td>\n",
       "      <td>1</td>\n",
       "      <td>8800</td>\n",
       "      <td>NaN</td>\n",
       "      <td>NaN</td>\n",
       "      <td>NaN</td>\n",
       "      <td>NaN</td>\n",
       "      <td>NaN</td>\n",
       "      <td>NaN</td>\n",
       "      <td>NaN</td>\n",
       "      <td>NaN</td>\n",
       "      <td>NaN</td>\n",
       "      <td>NaN</td>\n",
       "      <td>NaN</td>\n",
       "    </tr>\n",
       "    <tr>\n",
       "      <th>3</th>\n",
       "      <td>lounge</td>\n",
       "      <td>51</td>\n",
       "      <td>2739</td>\n",
       "      <td>160000</td>\n",
       "      <td>1</td>\n",
       "      <td>6000</td>\n",
       "      <td>NaN</td>\n",
       "      <td>NaN</td>\n",
       "      <td>NaN</td>\n",
       "      <td>NaN</td>\n",
       "      <td>NaN</td>\n",
       "      <td>NaN</td>\n",
       "      <td>NaN</td>\n",
       "      <td>NaN</td>\n",
       "      <td>NaN</td>\n",
       "      <td>NaN</td>\n",
       "      <td>NaN</td>\n",
       "    </tr>\n",
       "    <tr>\n",
       "      <th>6</th>\n",
       "      <td>lounge</td>\n",
       "      <td>51</td>\n",
       "      <td>731</td>\n",
       "      <td>11600</td>\n",
       "      <td>1</td>\n",
       "      <td>10750</td>\n",
       "      <td>NaN</td>\n",
       "      <td>NaN</td>\n",
       "      <td>NaN</td>\n",
       "      <td>NaN</td>\n",
       "      <td>NaN</td>\n",
       "      <td>NaN</td>\n",
       "      <td>NaN</td>\n",
       "      <td>NaN</td>\n",
       "      <td>NaN</td>\n",
       "      <td>NaN</td>\n",
       "      <td>NaN</td>\n",
       "    </tr>\n",
       "    <tr>\n",
       "      <th>7</th>\n",
       "      <td>lounge</td>\n",
       "      <td>51</td>\n",
       "      <td>1521</td>\n",
       "      <td>49076</td>\n",
       "      <td>1</td>\n",
       "      <td>9190</td>\n",
       "      <td>NaN</td>\n",
       "      <td>NaN</td>\n",
       "      <td>NaN</td>\n",
       "      <td>NaN</td>\n",
       "      <td>NaN</td>\n",
       "      <td>NaN</td>\n",
       "      <td>NaN</td>\n",
       "      <td>NaN</td>\n",
       "      <td>NaN</td>\n",
       "      <td>NaN</td>\n",
       "      <td>NaN</td>\n",
       "    </tr>\n",
       "    <tr>\n",
       "      <th>...</th>\n",
       "      <td>...</td>\n",
       "      <td>...</td>\n",
       "      <td>...</td>\n",
       "      <td>...</td>\n",
       "      <td>...</td>\n",
       "      <td>...</td>\n",
       "      <td>...</td>\n",
       "      <td>...</td>\n",
       "      <td>...</td>\n",
       "      <td>...</td>\n",
       "      <td>...</td>\n",
       "      <td>...</td>\n",
       "      <td>...</td>\n",
       "      <td>...</td>\n",
       "      <td>...</td>\n",
       "      <td>...</td>\n",
       "      <td>...</td>\n",
       "    </tr>\n",
       "    <tr>\n",
       "      <th>1532</th>\n",
       "      <td>pop</td>\n",
       "      <td>51</td>\n",
       "      <td>1917</td>\n",
       "      <td>52008</td>\n",
       "      <td>1</td>\n",
       "      <td>9900</td>\n",
       "      <td>NaN</td>\n",
       "      <td>NaN</td>\n",
       "      <td>NaN</td>\n",
       "      <td>NaN</td>\n",
       "      <td>NaN</td>\n",
       "      <td>NaN</td>\n",
       "      <td>NaN</td>\n",
       "      <td>NaN</td>\n",
       "      <td>NaN</td>\n",
       "      <td>NaN</td>\n",
       "      <td>NaN</td>\n",
       "    </tr>\n",
       "    <tr>\n",
       "      <th>1533</th>\n",
       "      <td>sport</td>\n",
       "      <td>51</td>\n",
       "      <td>3712</td>\n",
       "      <td>115280</td>\n",
       "      <td>1</td>\n",
       "      <td>5200</td>\n",
       "      <td>NaN</td>\n",
       "      <td>NaN</td>\n",
       "      <td>NaN</td>\n",
       "      <td>NaN</td>\n",
       "      <td>NaN</td>\n",
       "      <td>NaN</td>\n",
       "      <td>NaN</td>\n",
       "      <td>NaN</td>\n",
       "      <td>NaN</td>\n",
       "      <td>NaN</td>\n",
       "      <td>NaN</td>\n",
       "    </tr>\n",
       "    <tr>\n",
       "      <th>1535</th>\n",
       "      <td>pop</td>\n",
       "      <td>51</td>\n",
       "      <td>2223</td>\n",
       "      <td>60457</td>\n",
       "      <td>1</td>\n",
       "      <td>7500</td>\n",
       "      <td>NaN</td>\n",
       "      <td>NaN</td>\n",
       "      <td>NaN</td>\n",
       "      <td>NaN</td>\n",
       "      <td>NaN</td>\n",
       "      <td>NaN</td>\n",
       "      <td>NaN</td>\n",
       "      <td>NaN</td>\n",
       "      <td>NaN</td>\n",
       "      <td>NaN</td>\n",
       "      <td>NaN</td>\n",
       "    </tr>\n",
       "    <tr>\n",
       "      <th>1536</th>\n",
       "      <td>lounge</td>\n",
       "      <td>51</td>\n",
       "      <td>2557</td>\n",
       "      <td>80750</td>\n",
       "      <td>1</td>\n",
       "      <td>5990</td>\n",
       "      <td>NaN</td>\n",
       "      <td>NaN</td>\n",
       "      <td>NaN</td>\n",
       "      <td>NaN</td>\n",
       "      <td>NaN</td>\n",
       "      <td>NaN</td>\n",
       "      <td>NaN</td>\n",
       "      <td>NaN</td>\n",
       "      <td>NaN</td>\n",
       "      <td>NaN</td>\n",
       "      <td>NaN</td>\n",
       "    </tr>\n",
       "    <tr>\n",
       "      <th>1537</th>\n",
       "      <td>pop</td>\n",
       "      <td>51</td>\n",
       "      <td>1766</td>\n",
       "      <td>54276</td>\n",
       "      <td>1</td>\n",
       "      <td>7900</td>\n",
       "      <td>NaN</td>\n",
       "      <td>NaN</td>\n",
       "      <td>NaN</td>\n",
       "      <td>NaN</td>\n",
       "      <td>NaN</td>\n",
       "      <td>NaN</td>\n",
       "      <td>NaN</td>\n",
       "      <td>NaN</td>\n",
       "      <td>NaN</td>\n",
       "      <td>NaN</td>\n",
       "      <td>NaN</td>\n",
       "    </tr>\n",
       "  </tbody>\n",
       "</table>\n",
       "<p>1312 rows × 17 columns</p>\n",
       "</div>"
      ],
      "text/plain": [
       "       model  engine_power  age_in_days      km  previous_owners  price  \\\n",
       "0     lounge            51          882   25000                1   8900   \n",
       "1        pop            51         1186   32500                1   8800   \n",
       "3     lounge            51         2739  160000                1   6000   \n",
       "6     lounge            51          731   11600                1  10750   \n",
       "7     lounge            51         1521   49076                1   9190   \n",
       "...      ...           ...          ...     ...              ...    ...   \n",
       "1532     pop            51         1917   52008                1   9900   \n",
       "1533   sport            51         3712  115280                1   5200   \n",
       "1535     pop            51         2223   60457                1   7500   \n",
       "1536  lounge            51         2557   80750                1   5990   \n",
       "1537     pop            51         1766   54276                1   7900   \n",
       "\n",
       "      Unnamed: 6  Unnamed: 7  Unnamed: 8  Unnamed: 9  Unnamed: 10  \\\n",
       "0            NaN         NaN         NaN         NaN          NaN   \n",
       "1            NaN         NaN         NaN         NaN          NaN   \n",
       "3            NaN         NaN         NaN         NaN          NaN   \n",
       "6            NaN         NaN         NaN         NaN          NaN   \n",
       "7            NaN         NaN         NaN         NaN          NaN   \n",
       "...          ...         ...         ...         ...          ...   \n",
       "1532         NaN         NaN         NaN         NaN          NaN   \n",
       "1533         NaN         NaN         NaN         NaN          NaN   \n",
       "1535         NaN         NaN         NaN         NaN          NaN   \n",
       "1536         NaN         NaN         NaN         NaN          NaN   \n",
       "1537         NaN         NaN         NaN         NaN          NaN   \n",
       "\n",
       "      Unnamed: 11  Unnamed: 12  Unnamed: 13  Unnamed: 14  Unnamed: 15  \\\n",
       "0             NaN          NaN          NaN          NaN          NaN   \n",
       "1             NaN          NaN          NaN          NaN          NaN   \n",
       "3             NaN          NaN          NaN          NaN          NaN   \n",
       "6             NaN          NaN          NaN          NaN          NaN   \n",
       "7             NaN          NaN          NaN          NaN          NaN   \n",
       "...           ...          ...          ...          ...          ...   \n",
       "1532          NaN          NaN          NaN          NaN          NaN   \n",
       "1533          NaN          NaN          NaN          NaN          NaN   \n",
       "1535          NaN          NaN          NaN          NaN          NaN   \n",
       "1536          NaN          NaN          NaN          NaN          NaN   \n",
       "1537          NaN          NaN          NaN          NaN          NaN   \n",
       "\n",
       "      Unnamed: 16  \n",
       "0             NaN  \n",
       "1             NaN  \n",
       "3             NaN  \n",
       "6             NaN  \n",
       "7             NaN  \n",
       "...           ...  \n",
       "1532          NaN  \n",
       "1533          NaN  \n",
       "1535          NaN  \n",
       "1536          NaN  \n",
       "1537          NaN  \n",
       "\n",
       "[1312 rows x 17 columns]"
      ]
     },
     "execution_count": 199,
     "metadata": {},
     "output_type": "execute_result"
    }
   ],
   "source": [
    "q1 = q1[(q1['previous_owners'] == 1) & (q1['engine_power'] == 51)]\n",
    "q1"
   ]
  },
  {
   "cell_type": "code",
   "execution_count": null,
   "id": "586e3c96-f552-4051-bcc3-ca22ec9d6bda",
   "metadata": {},
   "outputs": [],
   "source": []
  },
  {
   "cell_type": "code",
   "execution_count": null,
   "id": "106b636b-f4b3-4b8e-8366-aaffc6d955d1",
   "metadata": {},
   "outputs": [],
   "source": []
  },
  {
   "cell_type": "markdown",
   "id": "9b0f36c0-7225-4071-bb0c-b3fe72f49dd6",
   "metadata": {},
   "source": [
    "### 해설"
   ]
  },
  {
   "cell_type": "code",
   "execution_count": 201,
   "id": "7aa592c3-0e77-451a-b620-47b556fef9e9",
   "metadata": {},
   "outputs": [
    {
     "data": {
      "text/html": [
       "<div>\n",
       "<style scoped>\n",
       "    .dataframe tbody tr th:only-of-type {\n",
       "        vertical-align: middle;\n",
       "    }\n",
       "\n",
       "    .dataframe tbody tr th {\n",
       "        vertical-align: top;\n",
       "    }\n",
       "\n",
       "    .dataframe thead th {\n",
       "        text-align: right;\n",
       "    }\n",
       "</style>\n",
       "<table border=\"1\" class=\"dataframe\">\n",
       "  <thead>\n",
       "    <tr style=\"text-align: right;\">\n",
       "      <th></th>\n",
       "      <th>model</th>\n",
       "      <th>engine_power</th>\n",
       "      <th>age_in_days</th>\n",
       "      <th>km</th>\n",
       "      <th>previous_owners</th>\n",
       "      <th>price</th>\n",
       "    </tr>\n",
       "  </thead>\n",
       "  <tbody>\n",
       "    <tr>\n",
       "      <th>0</th>\n",
       "      <td>lounge</td>\n",
       "      <td>51</td>\n",
       "      <td>882</td>\n",
       "      <td>25000</td>\n",
       "      <td>1</td>\n",
       "      <td>8900</td>\n",
       "    </tr>\n",
       "    <tr>\n",
       "      <th>1</th>\n",
       "      <td>pop</td>\n",
       "      <td>51</td>\n",
       "      <td>1186</td>\n",
       "      <td>32500</td>\n",
       "      <td>1</td>\n",
       "      <td>8800</td>\n",
       "    </tr>\n",
       "    <tr>\n",
       "      <th>2</th>\n",
       "      <td>sport</td>\n",
       "      <td>74</td>\n",
       "      <td>4658</td>\n",
       "      <td>142228</td>\n",
       "      <td>1</td>\n",
       "      <td>4200</td>\n",
       "    </tr>\n",
       "    <tr>\n",
       "      <th>3</th>\n",
       "      <td>lounge</td>\n",
       "      <td>51</td>\n",
       "      <td>2739</td>\n",
       "      <td>160000</td>\n",
       "      <td>1</td>\n",
       "      <td>6000</td>\n",
       "    </tr>\n",
       "    <tr>\n",
       "      <th>4</th>\n",
       "      <td>pop</td>\n",
       "      <td>73</td>\n",
       "      <td>3074</td>\n",
       "      <td>106880</td>\n",
       "      <td>1</td>\n",
       "      <td>5700</td>\n",
       "    </tr>\n",
       "    <tr>\n",
       "      <th>...</th>\n",
       "      <td>...</td>\n",
       "      <td>...</td>\n",
       "      <td>...</td>\n",
       "      <td>...</td>\n",
       "      <td>...</td>\n",
       "      <td>...</td>\n",
       "    </tr>\n",
       "    <tr>\n",
       "      <th>1533</th>\n",
       "      <td>sport</td>\n",
       "      <td>51</td>\n",
       "      <td>3712</td>\n",
       "      <td>115280</td>\n",
       "      <td>1</td>\n",
       "      <td>5200</td>\n",
       "    </tr>\n",
       "    <tr>\n",
       "      <th>1534</th>\n",
       "      <td>lounge</td>\n",
       "      <td>74</td>\n",
       "      <td>3835</td>\n",
       "      <td>112000</td>\n",
       "      <td>1</td>\n",
       "      <td>4600</td>\n",
       "    </tr>\n",
       "    <tr>\n",
       "      <th>1535</th>\n",
       "      <td>pop</td>\n",
       "      <td>51</td>\n",
       "      <td>2223</td>\n",
       "      <td>60457</td>\n",
       "      <td>1</td>\n",
       "      <td>7500</td>\n",
       "    </tr>\n",
       "    <tr>\n",
       "      <th>1536</th>\n",
       "      <td>lounge</td>\n",
       "      <td>51</td>\n",
       "      <td>2557</td>\n",
       "      <td>80750</td>\n",
       "      <td>1</td>\n",
       "      <td>5990</td>\n",
       "    </tr>\n",
       "    <tr>\n",
       "      <th>1537</th>\n",
       "      <td>pop</td>\n",
       "      <td>51</td>\n",
       "      <td>1766</td>\n",
       "      <td>54276</td>\n",
       "      <td>1</td>\n",
       "      <td>7900</td>\n",
       "    </tr>\n",
       "  </tbody>\n",
       "</table>\n",
       "<p>1538 rows × 6 columns</p>\n",
       "</div>"
      ],
      "text/plain": [
       "       model  engine_power  age_in_days      km  previous_owners  price\n",
       "0     lounge            51          882   25000                1   8900\n",
       "1        pop            51         1186   32500                1   8800\n",
       "2      sport            74         4658  142228                1   4200\n",
       "3     lounge            51         2739  160000                1   6000\n",
       "4        pop            73         3074  106880                1   5700\n",
       "...      ...           ...          ...     ...              ...    ...\n",
       "1533   sport            51         3712  115280                1   5200\n",
       "1534  lounge            74         3835  112000                1   4600\n",
       "1535     pop            51         2223   60457                1   7500\n",
       "1536  lounge            51         2557   80750                1   5990\n",
       "1537     pop            51         1766   54276                1   7900\n",
       "\n",
       "[1538 rows x 6 columns]"
      ]
     },
     "execution_count": 201,
     "metadata": {},
     "output_type": "execute_result"
    }
   ],
   "source": [
    "import pandas as pd\n",
    "\n",
    "dataset10 = pd.read_csv('Dataset/Dataset_10.csv')\n",
    "# 불러올 때 na처리\n",
    "data1 = dataset10.dropna(axis=1, how='all')\n",
    "data1"
   ]
  },
  {
   "cell_type": "code",
   "execution_count": 203,
   "id": "261d3566-423c-40ed-93cc-b94eb0ac7cd2",
   "metadata": {},
   "outputs": [],
   "source": [
    "q1 = data1[data1.previous_owners == 1]\n",
    "q1_2 = q1[q1.engine_power == 51]"
   ]
  },
  {
   "cell_type": "code",
   "execution_count": 204,
   "id": "44f1ded8-3d29-4c72-9a80-d27c58179dec",
   "metadata": {},
   "outputs": [
    {
     "data": {
      "text/plain": [
       "(1538, 1389, 1312)"
      ]
     },
     "execution_count": 204,
     "metadata": {},
     "output_type": "execute_result"
    }
   ],
   "source": [
    "len(data1) # 1538\n",
    "len(q1) # 1389\n",
    "len(q1_2) # 1312"
   ]
  },
  {
   "cell_type": "code",
   "execution_count": 206,
   "id": "e3cc639d-ac41-4fd1-b78e-66636e0586bf",
   "metadata": {},
   "outputs": [
    {
     "data": {
      "text/html": [
       "<div>\n",
       "<style scoped>\n",
       "    .dataframe tbody tr th:only-of-type {\n",
       "        vertical-align: middle;\n",
       "    }\n",
       "\n",
       "    .dataframe tbody tr th {\n",
       "        vertical-align: top;\n",
       "    }\n",
       "\n",
       "    .dataframe thead th {\n",
       "        text-align: right;\n",
       "    }\n",
       "</style>\n",
       "<table border=\"1\" class=\"dataframe\">\n",
       "  <thead>\n",
       "    <tr style=\"text-align: right;\">\n",
       "      <th></th>\n",
       "      <th>age_in_days</th>\n",
       "      <th>km</th>\n",
       "    </tr>\n",
       "    <tr>\n",
       "      <th>model</th>\n",
       "      <th></th>\n",
       "      <th></th>\n",
       "    </tr>\n",
       "  </thead>\n",
       "  <tbody>\n",
       "    <tr>\n",
       "      <th>lounge</th>\n",
       "      <td>1343.450366</td>\n",
       "      <td>44123.670846</td>\n",
       "    </tr>\n",
       "    <tr>\n",
       "      <th>pop</th>\n",
       "      <td>1800.509804</td>\n",
       "      <td>58097.532680</td>\n",
       "    </tr>\n",
       "    <tr>\n",
       "      <th>sport</th>\n",
       "      <td>3031.387755</td>\n",
       "      <td>96460.979592</td>\n",
       "    </tr>\n",
       "  </tbody>\n",
       "</table>\n",
       "</div>"
      ],
      "text/plain": [
       "        age_in_days            km\n",
       "model                            \n",
       "lounge  1343.450366  44123.670846\n",
       "pop     1800.509804  58097.532680\n",
       "sport   3031.387755  96460.979592"
      ]
     },
     "execution_count": 206,
     "metadata": {},
     "output_type": "execute_result"
    }
   ],
   "source": [
    "# 모델별 평균\n",
    "q1_3 = pd.pivot_table(data=q1_2, index='model', \n",
    "                      values=['age_in_days', 'km'])\n",
    "q1_3"
   ]
  },
  {
   "cell_type": "code",
   "execution_count": 210,
   "id": "ce282b36-3b0f-436e-9075-bde3233f848b",
   "metadata": {},
   "outputs": [
    {
     "data": {
      "text/html": [
       "<div>\n",
       "<style scoped>\n",
       "    .dataframe tbody tr th:only-of-type {\n",
       "        vertical-align: middle;\n",
       "    }\n",
       "\n",
       "    .dataframe tbody tr th {\n",
       "        vertical-align: top;\n",
       "    }\n",
       "\n",
       "    .dataframe thead th {\n",
       "        text-align: right;\n",
       "    }\n",
       "</style>\n",
       "<table border=\"1\" class=\"dataframe\">\n",
       "  <thead>\n",
       "    <tr style=\"text-align: right;\">\n",
       "      <th></th>\n",
       "      <th>age_in_days</th>\n",
       "      <th>km</th>\n",
       "      <th>days</th>\n",
       "    </tr>\n",
       "    <tr>\n",
       "      <th>model</th>\n",
       "      <th></th>\n",
       "      <th></th>\n",
       "      <th></th>\n",
       "    </tr>\n",
       "  </thead>\n",
       "  <tbody>\n",
       "    <tr>\n",
       "      <th>lounge</th>\n",
       "      <td>1343.450366</td>\n",
       "      <td>44123.670846</td>\n",
       "      <td>32.843544</td>\n",
       "    </tr>\n",
       "    <tr>\n",
       "      <th>pop</th>\n",
       "      <td>1800.509804</td>\n",
       "      <td>58097.532680</td>\n",
       "      <td>32.267268</td>\n",
       "    </tr>\n",
       "    <tr>\n",
       "      <th>sport</th>\n",
       "      <td>3031.387755</td>\n",
       "      <td>96460.979592</td>\n",
       "      <td>31.820733</td>\n",
       "    </tr>\n",
       "  </tbody>\n",
       "</table>\n",
       "</div>"
      ],
      "text/plain": [
       "        age_in_days            km       days\n",
       "model                                       \n",
       "lounge  1343.450366  44123.670846  32.843544\n",
       "pop     1800.509804  58097.532680  32.267268\n",
       "sport   3031.387755  96460.979592  31.820733"
      ]
     },
     "execution_count": 210,
     "metadata": {},
     "output_type": "execute_result"
    }
   ],
   "source": [
    "q1_3['days'] = q1_3['km'] / q1_3['age_in_days']\n",
    "q1_3"
   ]
  },
  {
   "cell_type": "code",
   "execution_count": 211,
   "id": "7a2b5c13-7747-4f48-ae4f-22f6c287f448",
   "metadata": {},
   "outputs": [
    {
     "data": {
      "text/plain": [
       "31.82073274178998"
      ]
     },
     "execution_count": 211,
     "metadata": {},
     "output_type": "execute_result"
    }
   ],
   "source": [
    "q1_3['days']['sport']"
   ]
  },
  {
   "cell_type": "code",
   "execution_count": 212,
   "id": "a8b3df95-88ce-4fc8-9748-1d21d8c91331",
   "metadata": {},
   "outputs": [
    {
     "data": {
      "text/plain": [
       "0.9688580804724013"
      ]
     },
     "execution_count": 212,
     "metadata": {},
     "output_type": "execute_result"
    }
   ],
   "source": [
    "q1_3['days']['sport'] / q1_3['days']['lounge']"
   ]
  },
  {
   "cell_type": "code",
   "execution_count": null,
   "id": "632feef3-1a5d-4171-84f9-9b8b22c554e8",
   "metadata": {},
   "outputs": [],
   "source": [
    "# (정답) 0.97"
   ]
  },
  {
   "cell_type": "markdown",
   "id": "4b570ec4-7a91-4e7c-9832-61dec31773f4",
   "metadata": {},
   "source": [
    "## 2."
   ]
  },
  {
   "cell_type": "code",
   "execution_count": null,
   "id": "4ad75270-61d6-40fb-8343-8bf69508b0b2",
   "metadata": {},
   "outputs": [],
   "source": [
    "# =============================================================================\n",
    "# 2.운행 일수에 대한 운행 거리를 산출하고, 위 1번 문제에서 가장 큰 값을 가지고 있던\n",
    "# 모델과 가장 낮은 값을 가지고 있던 모델 간의 운행 일수 대비 운행거리 평균이 다른지\n",
    "# 적절한 통계 검정을 수행하고 p-value를 소수점 세자리 이하는 버리고 소수점\n",
    "# 두자리까지 기술하고 기각 여부를 Y / N로 답하시오. (등분산을 가정하고 equal_var = \n",
    "# True / var.equal = T로 분석을 실행하시오.)\n",
    "# (답안 예시) 0.23, Y\n",
    "# ============================================================================="
   ]
  },
  {
   "cell_type": "markdown",
   "id": "d1095d1e-66a0-4927-aeb3-3a29d02a677b",
   "metadata": {},
   "source": [
    "### 해설"
   ]
  },
  {
   "cell_type": "code",
   "execution_count": 213,
   "id": "f733db38-8bc1-4bb0-a26d-bda8b42b3901",
   "metadata": {},
   "outputs": [],
   "source": [
    "q2 = q1.copy()"
   ]
  },
  {
   "cell_type": "code",
   "execution_count": 214,
   "id": "78b3aefd-7c85-454d-8507-93d436da147c",
   "metadata": {},
   "outputs": [],
   "source": [
    "q2['km_per_day'] = q2['km'] / q2['age_in_days']"
   ]
  },
  {
   "cell_type": "code",
   "execution_count": 215,
   "id": "33bae9f5-641e-4ed8-a611-b97800670533",
   "metadata": {},
   "outputs": [],
   "source": [
    "big = q2[q2.model=='lounge']['km_per_day']\n",
    "small = q2[q2.model=='sport']['km_per_day']"
   ]
  },
  {
   "cell_type": "code",
   "execution_count": 217,
   "id": "e63aed38-d5c8-4bc9-8d70-636376bc596c",
   "metadata": {},
   "outputs": [],
   "source": [
    "from scipy.stats import ttest_ind"
   ]
  },
  {
   "cell_type": "code",
   "execution_count": 218,
   "id": "b42ea6d9-b05b-4e10-99fd-94ea68e33ff4",
   "metadata": {},
   "outputs": [
    {
     "data": {
      "text/plain": [
       "Ttest_indResult(statistic=1.1025375913936746, pvalue=0.27047828249848516)"
      ]
     },
     "execution_count": 218,
     "metadata": {},
     "output_type": "execute_result"
    }
   ],
   "source": [
    "ttest_ind(big, small, equal_var=True)"
   ]
  },
  {
   "cell_type": "code",
   "execution_count": null,
   "id": "5e856cbf-8195-4d1f-b5a4-a62e3e1fbb47",
   "metadata": {},
   "outputs": [],
   "source": [
    "# (정답) 0.27, N"
   ]
  },
  {
   "cell_type": "markdown",
   "id": "6a133bce-a889-4191-beca-3f76fffea51e",
   "metadata": {},
   "source": [
    "## 3."
   ]
  },
  {
   "cell_type": "code",
   "execution_count": null,
   "id": "41289bb2-f8ff-4644-8e02-a32480f33b6d",
   "metadata": {},
   "outputs": [],
   "source": [
    "# =============================================================================\n",
    "# 3.독립변수로 engine_power, age_in_days, km를 사용하고 종속변수로 price를 사용하여\n",
    "# 모델별 선형회귀분석을 수행하고, 산출된 모형을 사용하여 다음과 같은 조건의\n",
    "# 중고차에 대한 가격을 예측하고 예측된 가격을 정수부만 기술하시오.\n",
    "# - model : pop / engine_power : 51 / age_in_days : 400 / km : 9500 / previous_owners : 2\n",
    "\n",
    "# (답안 예시) 12345\n",
    "# ============================================================================="
   ]
  },
  {
   "cell_type": "code",
   "execution_count": 219,
   "id": "98063a58-47f6-4980-b350-fb25b1106f46",
   "metadata": {},
   "outputs": [],
   "source": [
    "q3 = dataset10.copy()"
   ]
  },
  {
   "cell_type": "code",
   "execution_count": null,
   "id": "86684454-e07c-4bd6-b24e-0d582e3a8c3b",
   "metadata": {},
   "outputs": [],
   "source": [
    "x_var = ['engine_power', 'age_in_days', 'km']"
   ]
  },
  {
   "cell_type": "code",
   "execution_count": null,
   "id": "2cd98c66-321a-4aa7-b0df-6f59f1b24013",
   "metadata": {},
   "outputs": [],
   "source": [
    "x = q3[x_var]\n",
    "y = q3.price"
   ]
  },
  {
   "cell_type": "code",
   "execution_count": 220,
   "id": "f83f9f14-ac8e-42b2-88bb-ae4148f8e4e3",
   "metadata": {},
   "outputs": [],
   "source": [
    "lm = LinearRegression().fit(x, y)"
   ]
  },
  {
   "cell_type": "code",
   "execution_count": null,
   "id": "86f193fe-96cc-4ac5-8398-3ae0b78740f3",
   "metadata": {},
   "outputs": [],
   "source": [
    "# test = model : pop / engine_power : 51 / age_in_days : 400 / km : 9500 / previous_owners : 2"
   ]
  },
  {
   "cell_type": "code",
   "execution_count": null,
   "id": "9a229f6c-016e-41a9-8390-c2dbca2548de",
   "metadata": {},
   "outputs": [],
   "source": [
    "lm.predict()"
   ]
  },
  {
   "cell_type": "markdown",
   "id": "46c259ea-f110-42b0-8b7b-31338efbde32",
   "metadata": {},
   "source": [
    "### 해설"
   ]
  },
  {
   "cell_type": "code",
   "execution_count": 221,
   "id": "db3b78a6-5566-4f10-b6e3-02bb45862509",
   "metadata": {},
   "outputs": [],
   "source": [
    "from sklearn.linear_model import LinearRegression"
   ]
  },
  {
   "cell_type": "code",
   "execution_count": 222,
   "id": "3d3e3741-8544-4a94-b69a-1e6bff27082a",
   "metadata": {},
   "outputs": [],
   "source": [
    "x_var = ['engine_power', 'age_in_days', 'km']"
   ]
  },
  {
   "cell_type": "code",
   "execution_count": 223,
   "id": "652c8ce5-846e-4bda-8985-623bc84fd44e",
   "metadata": {},
   "outputs": [],
   "source": [
    "lm = LinearRegression().fit(q3[x_var], q3.price)"
   ]
  },
  {
   "cell_type": "code",
   "execution_count": 225,
   "id": "79ddddbd-ce66-4c0d-845b-e49a485fa75c",
   "metadata": {},
   "outputs": [],
   "source": [
    "# ols는 다른 변수가 있어도 가능\n",
    "new_data = pd.DataFrame({\n",
    "    'model' : ['pop'], \n",
    "    'engine_power' : [51], \n",
    "    'age_in_days' : [400], \n",
    "    'km' : [9500], \n",
    "    'previous_owners' : [2]})"
   ]
  },
  {
   "cell_type": "code",
   "execution_count": 226,
   "id": "5091f9b2-7c91-42fe-817e-ae0a6fa5ef6f",
   "metadata": {},
   "outputs": [
    {
     "data": {
      "text/html": [
       "<div>\n",
       "<style scoped>\n",
       "    .dataframe tbody tr th:only-of-type {\n",
       "        vertical-align: middle;\n",
       "    }\n",
       "\n",
       "    .dataframe tbody tr th {\n",
       "        vertical-align: top;\n",
       "    }\n",
       "\n",
       "    .dataframe thead th {\n",
       "        text-align: right;\n",
       "    }\n",
       "</style>\n",
       "<table border=\"1\" class=\"dataframe\">\n",
       "  <thead>\n",
       "    <tr style=\"text-align: right;\">\n",
       "      <th></th>\n",
       "      <th>model</th>\n",
       "      <th>engine_power</th>\n",
       "      <th>age_in_days</th>\n",
       "      <th>km</th>\n",
       "      <th>previous_owners</th>\n",
       "    </tr>\n",
       "  </thead>\n",
       "  <tbody>\n",
       "    <tr>\n",
       "      <th>0</th>\n",
       "      <td>pop</td>\n",
       "      <td>51</td>\n",
       "      <td>400</td>\n",
       "      <td>9500</td>\n",
       "      <td>2</td>\n",
       "    </tr>\n",
       "  </tbody>\n",
       "</table>\n",
       "</div>"
      ],
      "text/plain": [
       "  model  engine_power  age_in_days    km  previous_owners\n",
       "0   pop            51          400  9500                2"
      ]
     },
     "execution_count": 226,
     "metadata": {},
     "output_type": "execute_result"
    }
   ],
   "source": [
    "new_data"
   ]
  },
  {
   "cell_type": "code",
   "execution_count": 228,
   "id": "cb421ae8-a76b-43b9-8c32-e18e7ca5d62c",
   "metadata": {},
   "outputs": [],
   "source": [
    "# LinearRegression 해당하는 변수만\n",
    "new_data = pd.DataFrame({\n",
    "    'engine_power' : [51], \n",
    "    'age_in_days' : [400], \n",
    "    'km' : [9500]})"
   ]
  },
  {
   "cell_type": "code",
   "execution_count": 229,
   "id": "91449dda-e023-4a5b-b014-636a6082f548",
   "metadata": {},
   "outputs": [
    {
     "data": {
      "text/html": [
       "<div>\n",
       "<style scoped>\n",
       "    .dataframe tbody tr th:only-of-type {\n",
       "        vertical-align: middle;\n",
       "    }\n",
       "\n",
       "    .dataframe tbody tr th {\n",
       "        vertical-align: top;\n",
       "    }\n",
       "\n",
       "    .dataframe thead th {\n",
       "        text-align: right;\n",
       "    }\n",
       "</style>\n",
       "<table border=\"1\" class=\"dataframe\">\n",
       "  <thead>\n",
       "    <tr style=\"text-align: right;\">\n",
       "      <th></th>\n",
       "      <th>engine_power</th>\n",
       "      <th>age_in_days</th>\n",
       "      <th>km</th>\n",
       "    </tr>\n",
       "  </thead>\n",
       "  <tbody>\n",
       "    <tr>\n",
       "      <th>0</th>\n",
       "      <td>51</td>\n",
       "      <td>400</td>\n",
       "      <td>9500</td>\n",
       "    </tr>\n",
       "  </tbody>\n",
       "</table>\n",
       "</div>"
      ],
      "text/plain": [
       "   engine_power  age_in_days    km\n",
       "0            51          400  9500"
      ]
     },
     "execution_count": 229,
     "metadata": {},
     "output_type": "execute_result"
    }
   ],
   "source": [
    "new_data"
   ]
  },
  {
   "cell_type": "code",
   "execution_count": 230,
   "id": "1c2715c9-1300-4b0e-8b85-e9cb7201aa1d",
   "metadata": {},
   "outputs": [],
   "source": [
    "new_data2 = np.array([[51, 400, 9500]])"
   ]
  },
  {
   "cell_type": "code",
   "execution_count": 231,
   "id": "ca07e8ff-ee16-4617-a6e1-7671de0fec21",
   "metadata": {},
   "outputs": [
    {
     "data": {
      "text/plain": [
       "array([10469.80695185])"
      ]
     },
     "execution_count": 231,
     "metadata": {},
     "output_type": "execute_result"
    }
   ],
   "source": [
    "lm.predict(new_data)"
   ]
  },
  {
   "cell_type": "code",
   "execution_count": 232,
   "id": "3bc11a36-09b6-4686-9d03-ff6c55fb120d",
   "metadata": {},
   "outputs": [
    {
     "data": {
      "text/plain": [
       "array([10469.80695185])"
      ]
     },
     "execution_count": 232,
     "metadata": {},
     "output_type": "execute_result"
    }
   ],
   "source": [
    "lm.predict(new_data2)"
   ]
  },
  {
   "cell_type": "code",
   "execution_count": null,
   "id": "64ac3fc4-c1d6-4448-8b77-ec938b0b925e",
   "metadata": {},
   "outputs": [],
   "source": [
    "# (정답) 10469"
   ]
  }
 ],
 "metadata": {
  "kernelspec": {
   "display_name": "Python Multi",
   "language": "python",
   "name": "multi"
  },
  "language_info": {
   "codemirror_mode": {
    "name": "ipython",
    "version": 3
   },
   "file_extension": ".py",
   "mimetype": "text/x-python",
   "name": "python",
   "nbconvert_exporter": "python",
   "pygments_lexer": "ipython3",
   "version": "3.7.6"
  }
 },
 "nbformat": 4,
 "nbformat_minor": 5
}
