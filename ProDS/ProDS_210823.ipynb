{
 "cells": [
  {
   "cell_type": "markdown",
   "id": "381523bc-cec1-4f5d-b473-c893c83c4b03",
   "metadata": {},
   "source": [
    "# ProDS Associate 실기 대비"
   ]
  },
  {
   "cell_type": "code",
   "execution_count": null,
   "id": "1def36d3-95fe-4478-99d3-1fb3c258694d",
   "metadata": {},
   "outputs": [],
   "source": [
    "# 바탕화면 : 함수 pdf 지원"
   ]
  },
  {
   "cell_type": "markdown",
   "id": "08d6a3fb-39c6-435f-a3f9-645e6bccab7f",
   "metadata": {},
   "source": [
    "# Dataset_01"
   ]
  },
  {
   "cell_type": "code",
   "execution_count": null,
   "id": "3bd8d734-b88a-4f18-9840-e04f8838661e",
   "metadata": {},
   "outputs": [],
   "source": [
    "# =============================================================================\n",
    "# # 문제 01 유형(DataSet_01.csv 이용)\n",
    "#\n",
    "# 구분자 : comma(“,”), 4,572 Rows, 5 Columns, UTF-8 인코딩\n",
    "# \n",
    "# 글로벌 전자제품 제조회사에서 효과적인 마케팅 방법을 찾기\n",
    "# 위해서 채널별 마케팅 예산과 매출금액과의 관계를 분석하고자\n",
    "# 한다.\n",
    "# 컬 럼 / 정 의  /   Type\n",
    "# TV   /     TV 마케팅 예산 (억원)  /   Double\n",
    "# Radio / 라디오 마케팅 예산 (억원)  /   Double\n",
    "# Social_Media / 소셜미디어 마케팅 예산 (억원)  / Double\n",
    "# Influencer / 인플루언서 마케팅\n",
    "# (인플루언서의 영향력 크기에 따라 Mega / Macro / Micro / \n",
    "# Nano) / String\n",
    "\n",
    "# SALES / 매출액 / Double\n",
    "# ============================================================================="
   ]
  },
  {
   "cell_type": "code",
   "execution_count": 1,
   "id": "e73fa897-1698-4c8e-81cf-9c378897dd37",
   "metadata": {},
   "outputs": [],
   "source": [
    "import pandas as pd\n",
    "# pandas, scipy, numpy, sklearn, statsmodels"
   ]
  },
  {
   "cell_type": "code",
   "execution_count": 2,
   "id": "c9739f9e-2d62-4cf1-9b17-7867f313e0da",
   "metadata": {},
   "outputs": [],
   "source": [
    "dat=pd.read_csv('Dataset/Dataset_01.csv')"
   ]
  },
  {
   "cell_type": "markdown",
   "id": "16890952-9d8d-494a-bb32-1a0ce16be8aa",
   "metadata": {},
   "source": [
    "## 1."
   ]
  },
  {
   "cell_type": "code",
   "execution_count": null,
   "id": "5cc2038c-bc14-48b8-a1d2-05c301ab13b5",
   "metadata": {},
   "outputs": [],
   "source": [
    "# =============================================================================\n",
    "# 1. 데이터 세트 내에 총 결측값의 개수는 몇 개인가? (답안 예시) 23\n",
    "# ============================================================================="
   ]
  },
  {
   "cell_type": "markdown",
   "id": "cc2496cd-372b-40eb-9248-a174b0146ba8",
   "metadata": {},
   "source": [
    "### 해설"
   ]
  },
  {
   "cell_type": "code",
   "execution_count": 3,
   "id": "3023549b-5ea9-4aa5-8939-f32ecba06752",
   "metadata": {},
   "outputs": [
    {
     "data": {
      "text/html": [
       "<div>\n",
       "<style scoped>\n",
       "    .dataframe tbody tr th:only-of-type {\n",
       "        vertical-align: middle;\n",
       "    }\n",
       "\n",
       "    .dataframe tbody tr th {\n",
       "        vertical-align: top;\n",
       "    }\n",
       "\n",
       "    .dataframe thead th {\n",
       "        text-align: right;\n",
       "    }\n",
       "</style>\n",
       "<table border=\"1\" class=\"dataframe\">\n",
       "  <thead>\n",
       "    <tr style=\"text-align: right;\">\n",
       "      <th></th>\n",
       "      <th>TV</th>\n",
       "      <th>Radio</th>\n",
       "      <th>Social_Media</th>\n",
       "      <th>Influencer</th>\n",
       "      <th>Sales</th>\n",
       "    </tr>\n",
       "  </thead>\n",
       "  <tbody>\n",
       "    <tr>\n",
       "      <th>0</th>\n",
       "      <td>False</td>\n",
       "      <td>False</td>\n",
       "      <td>False</td>\n",
       "      <td>False</td>\n",
       "      <td>False</td>\n",
       "    </tr>\n",
       "    <tr>\n",
       "      <th>1</th>\n",
       "      <td>False</td>\n",
       "      <td>False</td>\n",
       "      <td>False</td>\n",
       "      <td>False</td>\n",
       "      <td>False</td>\n",
       "    </tr>\n",
       "    <tr>\n",
       "      <th>2</th>\n",
       "      <td>False</td>\n",
       "      <td>False</td>\n",
       "      <td>False</td>\n",
       "      <td>False</td>\n",
       "      <td>False</td>\n",
       "    </tr>\n",
       "    <tr>\n",
       "      <th>3</th>\n",
       "      <td>False</td>\n",
       "      <td>False</td>\n",
       "      <td>False</td>\n",
       "      <td>False</td>\n",
       "      <td>False</td>\n",
       "    </tr>\n",
       "    <tr>\n",
       "      <th>4</th>\n",
       "      <td>False</td>\n",
       "      <td>False</td>\n",
       "      <td>False</td>\n",
       "      <td>False</td>\n",
       "      <td>False</td>\n",
       "    </tr>\n",
       "    <tr>\n",
       "      <th>...</th>\n",
       "      <td>...</td>\n",
       "      <td>...</td>\n",
       "      <td>...</td>\n",
       "      <td>...</td>\n",
       "      <td>...</td>\n",
       "    </tr>\n",
       "    <tr>\n",
       "      <th>4567</th>\n",
       "      <td>False</td>\n",
       "      <td>False</td>\n",
       "      <td>False</td>\n",
       "      <td>False</td>\n",
       "      <td>False</td>\n",
       "    </tr>\n",
       "    <tr>\n",
       "      <th>4568</th>\n",
       "      <td>False</td>\n",
       "      <td>False</td>\n",
       "      <td>False</td>\n",
       "      <td>False</td>\n",
       "      <td>False</td>\n",
       "    </tr>\n",
       "    <tr>\n",
       "      <th>4569</th>\n",
       "      <td>False</td>\n",
       "      <td>False</td>\n",
       "      <td>False</td>\n",
       "      <td>False</td>\n",
       "      <td>False</td>\n",
       "    </tr>\n",
       "    <tr>\n",
       "      <th>4570</th>\n",
       "      <td>False</td>\n",
       "      <td>False</td>\n",
       "      <td>False</td>\n",
       "      <td>False</td>\n",
       "      <td>False</td>\n",
       "    </tr>\n",
       "    <tr>\n",
       "      <th>4571</th>\n",
       "      <td>False</td>\n",
       "      <td>False</td>\n",
       "      <td>False</td>\n",
       "      <td>False</td>\n",
       "      <td>False</td>\n",
       "    </tr>\n",
       "  </tbody>\n",
       "</table>\n",
       "<p>4572 rows × 5 columns</p>\n",
       "</div>"
      ],
      "text/plain": [
       "         TV  Radio  Social_Media  Influencer  Sales\n",
       "0     False  False         False       False  False\n",
       "1     False  False         False       False  False\n",
       "2     False  False         False       False  False\n",
       "3     False  False         False       False  False\n",
       "4     False  False         False       False  False\n",
       "...     ...    ...           ...         ...    ...\n",
       "4567  False  False         False       False  False\n",
       "4568  False  False         False       False  False\n",
       "4569  False  False         False       False  False\n",
       "4570  False  False         False       False  False\n",
       "4571  False  False         False       False  False\n",
       "\n",
       "[4572 rows x 5 columns]"
      ]
     },
     "execution_count": 3,
     "metadata": {},
     "output_type": "execute_result"
    }
   ],
   "source": [
    "dat.isna()"
   ]
  },
  {
   "cell_type": "code",
   "execution_count": 4,
   "id": "0802de10-1b57-411a-be26-354c59146a24",
   "metadata": {},
   "outputs": [
    {
     "data": {
      "text/plain": [
       "TV              10\n",
       "Radio            4\n",
       "Social_Media     6\n",
       "Influencer       0\n",
       "Sales            6\n",
       "dtype: int64"
      ]
     },
     "execution_count": 4,
     "metadata": {},
     "output_type": "execute_result"
    }
   ],
   "source": [
    "dat.isna().sum() # 열별 결측치 수 확인 Series (index)"
   ]
  },
  {
   "cell_type": "code",
   "execution_count": 5,
   "id": "b092c66a-349d-47b8-a66b-358b7dfe9755",
   "metadata": {},
   "outputs": [
    {
     "data": {
      "text/plain": [
       "26"
      ]
     },
     "execution_count": 5,
     "metadata": {},
     "output_type": "execute_result"
    }
   ],
   "source": [
    "# 정답 26 입력\n",
    "dat.isna().sum().sum()"
   ]
  },
  {
   "cell_type": "code",
   "execution_count": 6,
   "id": "7abc92fa-0b8e-4a5b-aa41-d8b7cc341f3f",
   "metadata": {},
   "outputs": [
    {
     "data": {
      "text/plain": [
       "0       0\n",
       "1       0\n",
       "2       0\n",
       "3       0\n",
       "4       0\n",
       "       ..\n",
       "4567    0\n",
       "4568    0\n",
       "4569    0\n",
       "4570    0\n",
       "4571    0\n",
       "Length: 4572, dtype: int64"
      ]
     },
     "execution_count": 6,
     "metadata": {},
     "output_type": "execute_result"
    }
   ],
   "source": [
    "dat.isna().sum(axis=1) # 행별 결측치 수 확인"
   ]
  },
  {
   "cell_type": "code",
   "execution_count": 7,
   "id": "386906c1-f96e-465d-bb7f-b0ed6c12fe70",
   "metadata": {},
   "outputs": [
    {
     "data": {
      "text/plain": [
       "TV               True\n",
       "Radio            True\n",
       "Social_Media     True\n",
       "Influencer      False\n",
       "Sales            True\n",
       "dtype: bool"
      ]
     },
     "execution_count": 7,
     "metadata": {},
     "output_type": "execute_result"
    }
   ],
   "source": [
    "# 간략하게 확인\n",
    "dat.isna().any()"
   ]
  },
  {
   "cell_type": "code",
   "execution_count": 8,
   "id": "9c6e2aa8-cef4-4e15-926c-50e6c9837735",
   "metadata": {},
   "outputs": [
    {
     "data": {
      "text/plain": [
       "0       False\n",
       "1       False\n",
       "2       False\n",
       "3       False\n",
       "4       False\n",
       "        ...  \n",
       "4567    False\n",
       "4568    False\n",
       "4569    False\n",
       "4570    False\n",
       "4571    False\n",
       "Length: 4572, dtype: bool"
      ]
     },
     "execution_count": 8,
     "metadata": {},
     "output_type": "execute_result"
    }
   ],
   "source": [
    "dat.isna().any(axis=1)"
   ]
  },
  {
   "cell_type": "code",
   "execution_count": 9,
   "id": "9d039b02-e81b-4c3d-b84b-d2fd1c648096",
   "metadata": {},
   "outputs": [
    {
     "data": {
      "text/plain": [
       "26"
      ]
     },
     "execution_count": 9,
     "metadata": {},
     "output_type": "execute_result"
    }
   ],
   "source": [
    "dat.isna().any(axis=1).sum()"
   ]
  },
  {
   "cell_type": "markdown",
   "id": "9a2cdc66-df24-4dca-9e16-29e22a671316",
   "metadata": {},
   "source": [
    "## 2."
   ]
  },
  {
   "cell_type": "code",
   "execution_count": null,
   "id": "f0781e94-7509-4ceb-b669-f9238d6dd7f5",
   "metadata": {},
   "outputs": [],
   "source": [
    "# =============================================================================\n",
    "# 2. TV, Radio, Social Media 등 세 가지 다른 마케팅 채널의 예산과 매출액과의 상관분석을\n",
    "# 통하여 각 채널이 매출에 어느 정도 연관이 있는지 알아보고자 한다. \n",
    "# - 매출액과 가장 강한 상관관계를 가지고 있는 채널의 상관계수를 소수점 5번째\n",
    "# 자리에서 반올림하여 소수점 넷째 자리까지 기술하시오. (답안 예시) 0.1234\n",
    "# ============================================================================="
   ]
  },
  {
   "cell_type": "code",
   "execution_count": 10,
   "id": "e41c3b14-271f-44fa-93b7-5385de53fbf8",
   "metadata": {},
   "outputs": [
    {
     "name": "stdout",
     "output_type": "stream",
     "text": [
      "<class 'pandas.core.frame.DataFrame'>\n",
      "RangeIndex: 4572 entries, 0 to 4571\n",
      "Data columns (total 5 columns):\n",
      " #   Column        Non-Null Count  Dtype  \n",
      "---  ------        --------------  -----  \n",
      " 0   TV            4562 non-null   float64\n",
      " 1   Radio         4568 non-null   float64\n",
      " 2   Social_Media  4566 non-null   float64\n",
      " 3   Influencer    4572 non-null   object \n",
      " 4   Sales         4566 non-null   float64\n",
      "dtypes: float64(4), object(1)\n",
      "memory usage: 178.7+ KB\n"
     ]
    }
   ],
   "source": [
    "dat.info()"
   ]
  },
  {
   "cell_type": "code",
   "execution_count": 12,
   "id": "61c7502e-3df8-4cc5-a0d5-acfbf0a9b987",
   "metadata": {},
   "outputs": [],
   "source": [
    "import numpy as np"
   ]
  },
  {
   "cell_type": "code",
   "execution_count": 13,
   "id": "b68ba694-1969-4bd2-97e2-f5c8a411af1a",
   "metadata": {},
   "outputs": [
    {
     "data": {
      "text/html": [
       "<div>\n",
       "<style scoped>\n",
       "    .dataframe tbody tr th:only-of-type {\n",
       "        vertical-align: middle;\n",
       "    }\n",
       "\n",
       "    .dataframe tbody tr th {\n",
       "        vertical-align: top;\n",
       "    }\n",
       "\n",
       "    .dataframe thead th {\n",
       "        text-align: right;\n",
       "    }\n",
       "</style>\n",
       "<table border=\"1\" class=\"dataframe\">\n",
       "  <thead>\n",
       "    <tr style=\"text-align: right;\">\n",
       "      <th></th>\n",
       "      <th>TV</th>\n",
       "      <th>Radio</th>\n",
       "      <th>Social_Media</th>\n",
       "      <th>Sales</th>\n",
       "    </tr>\n",
       "  </thead>\n",
       "  <tbody>\n",
       "    <tr>\n",
       "      <th>TV</th>\n",
       "      <td>1.000000</td>\n",
       "      <td>0.869460</td>\n",
       "      <td>0.528168</td>\n",
       "      <td>0.999497</td>\n",
       "    </tr>\n",
       "    <tr>\n",
       "      <th>Radio</th>\n",
       "      <td>0.869460</td>\n",
       "      <td>1.000000</td>\n",
       "      <td>0.607452</td>\n",
       "      <td>0.869105</td>\n",
       "    </tr>\n",
       "    <tr>\n",
       "      <th>Social_Media</th>\n",
       "      <td>0.528168</td>\n",
       "      <td>0.607452</td>\n",
       "      <td>1.000000</td>\n",
       "      <td>0.528906</td>\n",
       "    </tr>\n",
       "    <tr>\n",
       "      <th>Sales</th>\n",
       "      <td>0.999497</td>\n",
       "      <td>0.869105</td>\n",
       "      <td>0.528906</td>\n",
       "      <td>1.000000</td>\n",
       "    </tr>\n",
       "  </tbody>\n",
       "</table>\n",
       "</div>"
      ],
      "text/plain": [
       "                    TV     Radio  Social_Media     Sales\n",
       "TV            1.000000  0.869460      0.528168  0.999497\n",
       "Radio         0.869460  1.000000      0.607452  0.869105\n",
       "Social_Media  0.528168  0.607452      1.000000  0.528906\n",
       "Sales         0.999497  0.869105      0.528906  1.000000"
      ]
     },
     "execution_count": 13,
     "metadata": {},
     "output_type": "execute_result"
    }
   ],
   "source": [
    "dat.corr()"
   ]
  },
  {
   "cell_type": "code",
   "execution_count": 21,
   "id": "2eb1fa32-c005-4934-97f9-428fa8ca18b4",
   "metadata": {},
   "outputs": [
    {
     "data": {
      "text/html": [
       "<div>\n",
       "<style scoped>\n",
       "    .dataframe tbody tr th:only-of-type {\n",
       "        vertical-align: middle;\n",
       "    }\n",
       "\n",
       "    .dataframe tbody tr th {\n",
       "        vertical-align: top;\n",
       "    }\n",
       "\n",
       "    .dataframe thead th {\n",
       "        text-align: right;\n",
       "    }\n",
       "</style>\n",
       "<table border=\"1\" class=\"dataframe\">\n",
       "  <thead>\n",
       "    <tr style=\"text-align: right;\">\n",
       "      <th></th>\n",
       "      <th>TV</th>\n",
       "      <th>Radio</th>\n",
       "      <th>Social_Media</th>\n",
       "      <th>Sales</th>\n",
       "    </tr>\n",
       "  </thead>\n",
       "  <tbody>\n",
       "    <tr>\n",
       "      <th>TV</th>\n",
       "      <td>1.0000</td>\n",
       "      <td>0.8695</td>\n",
       "      <td>0.5282</td>\n",
       "      <td>0.9995</td>\n",
       "    </tr>\n",
       "    <tr>\n",
       "      <th>Radio</th>\n",
       "      <td>0.8695</td>\n",
       "      <td>1.0000</td>\n",
       "      <td>0.6075</td>\n",
       "      <td>0.8691</td>\n",
       "    </tr>\n",
       "    <tr>\n",
       "      <th>Social_Media</th>\n",
       "      <td>0.5282</td>\n",
       "      <td>0.6075</td>\n",
       "      <td>1.0000</td>\n",
       "      <td>0.5289</td>\n",
       "    </tr>\n",
       "    <tr>\n",
       "      <th>Sales</th>\n",
       "      <td>0.9995</td>\n",
       "      <td>0.8691</td>\n",
       "      <td>0.5289</td>\n",
       "      <td>1.0000</td>\n",
       "    </tr>\n",
       "  </tbody>\n",
       "</table>\n",
       "</div>"
      ],
      "text/plain": [
       "                  TV   Radio  Social_Media   Sales\n",
       "TV            1.0000  0.8695        0.5282  0.9995\n",
       "Radio         0.8695  1.0000        0.6075  0.8691\n",
       "Social_Media  0.5282  0.6075        1.0000  0.5289\n",
       "Sales         0.9995  0.8691        0.5289  1.0000"
      ]
     },
     "execution_count": 21,
     "metadata": {},
     "output_type": "execute_result"
    }
   ],
   "source": [
    "np.round(dat.corr(), 4)"
   ]
  },
  {
   "cell_type": "code",
   "execution_count": 17,
   "id": "11923734-cba1-4377-9ab9-119e1b818038",
   "metadata": {},
   "outputs": [],
   "source": [
    "import matplotlib.pyplot as plt\n",
    "import seaborn as sns"
   ]
  },
  {
   "cell_type": "code",
   "execution_count": 23,
   "id": "093f882b-12dc-4886-8356-d91ed8f4f621",
   "metadata": {},
   "outputs": [
    {
     "data": {
      "text/plain": [
       "<AxesSubplot:>"
      ]
     },
     "execution_count": 23,
     "metadata": {},
     "output_type": "execute_result"
    },
    {
     "data": {
      "image/png": "[encoded data removed]",
      "text/plain": [
       "<Figure size 432x288 with 2 Axes>"
      ]
     },
     "metadata": {
      "needs_background": "light"
     },
     "output_type": "display_data"
    }
   ],
   "source": [
    "sns.heatmap(dat.corr(), annot=True, fmt='.2%')"
   ]
  },
  {
   "cell_type": "markdown",
   "id": "935afab4-81e4-4fc0-ae79-b6f7f5d1d7d4",
   "metadata": {},
   "source": [
    "### 해설"
   ]
  },
  {
   "cell_type": "code",
   "execution_count": 28,
   "id": "06ff42bf-a08b-4288-8aeb-752fef43ff84",
   "metadata": {},
   "outputs": [
    {
     "data": {
      "text/plain": [
       "Index(['TV', 'Radio', 'Social_Media', 'Influencer', 'Sales'], dtype='object')"
      ]
     },
     "execution_count": 28,
     "metadata": {},
     "output_type": "execute_result"
    }
   ],
   "source": [
    "dat.columns"
   ]
  },
  {
   "cell_type": "code",
   "execution_count": 26,
   "id": "706d8d99-57b3-4036-b9cb-e1d7a9edb188",
   "metadata": {},
   "outputs": [
    {
     "data": {
      "text/html": [
       "<div>\n",
       "<style scoped>\n",
       "    .dataframe tbody tr th:only-of-type {\n",
       "        vertical-align: middle;\n",
       "    }\n",
       "\n",
       "    .dataframe tbody tr th {\n",
       "        vertical-align: top;\n",
       "    }\n",
       "\n",
       "    .dataframe thead th {\n",
       "        text-align: right;\n",
       "    }\n",
       "</style>\n",
       "<table border=\"1\" class=\"dataframe\">\n",
       "  <thead>\n",
       "    <tr style=\"text-align: right;\">\n",
       "      <th></th>\n",
       "      <th>TV</th>\n",
       "      <th>Radio</th>\n",
       "      <th>Social_Media</th>\n",
       "      <th>Sales</th>\n",
       "    </tr>\n",
       "  </thead>\n",
       "  <tbody>\n",
       "    <tr>\n",
       "      <th>TV</th>\n",
       "      <td>1.000000</td>\n",
       "      <td>0.869460</td>\n",
       "      <td>0.528168</td>\n",
       "      <td>0.999497</td>\n",
       "    </tr>\n",
       "    <tr>\n",
       "      <th>Radio</th>\n",
       "      <td>0.869460</td>\n",
       "      <td>1.000000</td>\n",
       "      <td>0.607452</td>\n",
       "      <td>0.869105</td>\n",
       "    </tr>\n",
       "    <tr>\n",
       "      <th>Social_Media</th>\n",
       "      <td>0.528168</td>\n",
       "      <td>0.607452</td>\n",
       "      <td>1.000000</td>\n",
       "      <td>0.528906</td>\n",
       "    </tr>\n",
       "    <tr>\n",
       "      <th>Sales</th>\n",
       "      <td>0.999497</td>\n",
       "      <td>0.869105</td>\n",
       "      <td>0.528906</td>\n",
       "      <td>1.000000</td>\n",
       "    </tr>\n",
       "  </tbody>\n",
       "</table>\n",
       "</div>"
      ],
      "text/plain": [
       "                    TV     Radio  Social_Media     Sales\n",
       "TV            1.000000  0.869460      0.528168  0.999497\n",
       "Radio         0.869460  1.000000      0.607452  0.869105\n",
       "Social_Media  0.528168  0.607452      1.000000  0.528906\n",
       "Sales         0.999497  0.869105      0.528906  1.000000"
      ]
     },
     "execution_count": 26,
     "metadata": {},
     "output_type": "execute_result"
    }
   ],
   "source": [
    "# 데이터 종류 수치형\n",
    "# 통계학에서 corr 0.5 이상일 때 관련 높다.\n",
    "# 결측치 자동으로 제외하고 계산\n",
    "\n",
    "dat[['TV', 'Radio', 'Social_Media', 'Sales']].corr()"
   ]
  },
  {
   "cell_type": "code",
   "execution_count": 27,
   "id": "26a2d70c-0b4e-4baa-9407-b27cea31846a",
   "metadata": {},
   "outputs": [
    {
     "data": {
      "text/html": [
       "<div>\n",
       "<style scoped>\n",
       "    .dataframe tbody tr th:only-of-type {\n",
       "        vertical-align: middle;\n",
       "    }\n",
       "\n",
       "    .dataframe tbody tr th {\n",
       "        vertical-align: top;\n",
       "    }\n",
       "\n",
       "    .dataframe thead th {\n",
       "        text-align: right;\n",
       "    }\n",
       "</style>\n",
       "<table border=\"1\" class=\"dataframe\">\n",
       "  <thead>\n",
       "    <tr style=\"text-align: right;\">\n",
       "      <th></th>\n",
       "      <th>TV</th>\n",
       "      <th>Radio</th>\n",
       "      <th>Social_Media</th>\n",
       "      <th>Sales</th>\n",
       "    </tr>\n",
       "  </thead>\n",
       "  <tbody>\n",
       "    <tr>\n",
       "      <th>TV</th>\n",
       "      <td>1.000000</td>\n",
       "      <td>0.869460</td>\n",
       "      <td>0.528168</td>\n",
       "      <td>0.999497</td>\n",
       "    </tr>\n",
       "    <tr>\n",
       "      <th>Radio</th>\n",
       "      <td>0.869460</td>\n",
       "      <td>1.000000</td>\n",
       "      <td>0.607452</td>\n",
       "      <td>0.869105</td>\n",
       "    </tr>\n",
       "    <tr>\n",
       "      <th>Social_Media</th>\n",
       "      <td>0.528168</td>\n",
       "      <td>0.607452</td>\n",
       "      <td>1.000000</td>\n",
       "      <td>0.528906</td>\n",
       "    </tr>\n",
       "    <tr>\n",
       "      <th>Sales</th>\n",
       "      <td>0.999497</td>\n",
       "      <td>0.869105</td>\n",
       "      <td>0.528906</td>\n",
       "      <td>1.000000</td>\n",
       "    </tr>\n",
       "  </tbody>\n",
       "</table>\n",
       "</div>"
      ],
      "text/plain": [
       "                    TV     Radio  Social_Media     Sales\n",
       "TV            1.000000  0.869460      0.528168  0.999497\n",
       "Radio         0.869460  1.000000      0.607452  0.869105\n",
       "Social_Media  0.528168  0.607452      1.000000  0.528906\n",
       "Sales         0.999497  0.869105      0.528906  1.000000"
      ]
     },
     "execution_count": 27,
     "metadata": {},
     "output_type": "execute_result"
    }
   ],
   "source": [
    "dat[['TV', 'Radio', 'Social_Media', 'Sales']].corr().abs() # 절댓값"
   ]
  },
  {
   "cell_type": "code",
   "execution_count": 29,
   "id": "f1c9f665-1f3f-4dd1-a546-b3fbe5546cea",
   "metadata": {},
   "outputs": [],
   "source": [
    "Q2 = dat[['TV', 'Radio', 'Social_Media', 'Sales']].corr()\n",
    "Q2_abs = Q2.abs() # 음수 고려할 경우"
   ]
  },
  {
   "cell_type": "code",
   "execution_count": 30,
   "id": "e8271cd9-2827-43ea-9b11-ee92920c282a",
   "metadata": {},
   "outputs": [
    {
     "data": {
      "text/plain": [
       "TV              0.999497\n",
       "Radio           0.869105\n",
       "Social_Media    0.528906\n",
       "Sales           1.000000\n",
       "Name: Sales, dtype: float64"
      ]
     },
     "execution_count": 30,
     "metadata": {},
     "output_type": "execute_result"
    }
   ],
   "source": [
    "Q2_abs['Sales']"
   ]
  },
  {
   "cell_type": "code",
   "execution_count": 33,
   "id": "b291c77c-9213-4d4e-9b81-02cb4cf9696f",
   "metadata": {},
   "outputs": [
    {
     "data": {
      "text/plain": [
       "Sales           1.000000\n",
       "TV              0.999497\n",
       "Radio           0.869105\n",
       "Social_Media    0.528906\n",
       "Name: Sales, dtype: float64"
      ]
     },
     "execution_count": 33,
     "metadata": {},
     "output_type": "execute_result"
    }
   ],
   "source": [
    "Q2_abs['Sales'].sort_values(ascending=False)\n",
    "# ctrl + i (Spyder 사용시 함수 확인 단축키)"
   ]
  },
  {
   "cell_type": "code",
   "execution_count": 34,
   "id": "e507105f-248d-4d36-a029-dc18c878d205",
   "metadata": {},
   "outputs": [
    {
     "data": {
      "text/plain": [
       "0.999497444941335"
      ]
     },
     "execution_count": 34,
     "metadata": {},
     "output_type": "execute_result"
    }
   ],
   "source": [
    "Q2_ans = Q2_abs['Sales'].sort_values(ascending=False)[1]"
   ]
  },
  {
   "cell_type": "code",
   "execution_count": 31,
   "id": "e00a3b73-c37d-44c1-b3de-1e277890c8d0",
   "metadata": {},
   "outputs": [
    {
     "data": {
      "text/plain": [
       "Sales    1.000000\n",
       "TV       0.999497\n",
       "Name: Sales, dtype: float64"
      ]
     },
     "execution_count": 31,
     "metadata": {},
     "output_type": "execute_result"
    }
   ],
   "source": [
    "# (비교)\n",
    "Q2_abs['Sales'].nlargest(2) # Sales 제외한 큰 값"
   ]
  },
  {
   "cell_type": "code",
   "execution_count": 36,
   "id": "6d47649a-cef4-4210-bba0-d52a22fa5da5",
   "metadata": {},
   "outputs": [
    {
     "data": {
      "text/plain": [
       "0.999497444941335"
      ]
     },
     "execution_count": 36,
     "metadata": {},
     "output_type": "execute_result"
    }
   ],
   "source": [
    "Q2_abs['Sales'].nlargest(2)[1]"
   ]
  },
  {
   "cell_type": "markdown",
   "id": "f4cdb6d9-3dc4-4689-9c43-0b8b666fcded",
   "metadata": {},
   "source": [
    "## 3."
   ]
  },
  {
   "cell_type": "code",
   "execution_count": 24,
   "id": "7666f7ad-b3e3-4941-a13b-ab5dd4da87fb",
   "metadata": {},
   "outputs": [],
   "source": [
    "# =============================================================================\n",
    "# 3. 매출액을 종속변수, TV, Radio, Social Media의 예산을 독립변수로 하여 회귀분석을\n",
    "# 수행하였을 때, 세 개의 독립변수의 회귀계수를 큰 것에서부터 작은 것 순으로\n",
    "# 기술하시오. \n",
    "# - 분석 시 결측치가 포함된 행은 제거한 후 진행하며, 회귀계수는 소수점 넷째 자리\n",
    "# 이하는 버리고 소수점 셋째 자리까지 기술하시오. (답안 예시) 0.123\n",
    "# ============================================================================="
   ]
  },
  {
   "cell_type": "markdown",
   "id": "08ded3a8-c868-4f4a-b530-f5d684e0c313",
   "metadata": {},
   "source": [
    "### 해설"
   ]
  },
  {
   "cell_type": "code",
   "execution_count": null,
   "id": "ab2d6db7-1f2d-4e23-8296-2d7d40aed99e",
   "metadata": {},
   "outputs": [],
   "source": [
    "# 시험에서는 보통 값 하나 입력\n",
    "# 시험에서 지정한 함수 사용"
   ]
  },
  {
   "cell_type": "code",
   "execution_count": 39,
   "id": "a66da8cc-b4b6-4a3c-ab92-af9d2ab0e1b9",
   "metadata": {},
   "outputs": [
    {
     "name": "stdout",
     "output_type": "stream",
     "text": [
      "Collecting statsmodels\n",
      "  Downloading statsmodels-0.12.2-cp37-none-win_amd64.whl (9.3 MB)\n",
      "Requirement already satisfied: numpy>=1.15 in c:\\users\\boram yun\\anaconda3\\envs\\multi\\lib\\site-packages (from statsmodels) (1.19.5)\n",
      "Requirement already satisfied: scipy>=1.1 in c:\\users\\boram yun\\anaconda3\\envs\\multi\\lib\\site-packages (from statsmodels) (1.6.3)\n",
      "Collecting patsy>=0.5\n",
      "  Downloading patsy-0.5.1-py2.py3-none-any.whl (231 kB)\n",
      "Requirement already satisfied: pandas>=0.21 in c:\\users\\boram yun\\anaconda3\\envs\\multi\\lib\\site-packages (from statsmodels) (1.2.3)\n",
      "Requirement already satisfied: python-dateutil>=2.7.3 in c:\\users\\boram yun\\anaconda3\\envs\\multi\\lib\\site-packages (from pandas>=0.21->statsmodels) (2.8.1)\n",
      "Requirement already satisfied: pytz>=2017.3 in c:\\users\\boram yun\\anaconda3\\envs\\multi\\lib\\site-packages (from pandas>=0.21->statsmodels) (2021.1)\n",
      "Requirement already satisfied: six in c:\\users\\boram yun\\anaconda3\\envs\\multi\\lib\\site-packages (from patsy>=0.5->statsmodels) (1.15.0)\n",
      "Installing collected packages: patsy, statsmodels\n",
      "Successfully installed patsy-0.5.1 statsmodels-0.12.2\n"
     ]
    }
   ],
   "source": [
    "# !pip install statsmodels"
   ]
  },
  {
   "cell_type": "code",
   "execution_count": 41,
   "id": "6ddc1ffe-6515-4305-bdf5-e3dbe20f9fd0",
   "metadata": {},
   "outputs": [],
   "source": [
    "from sklearn.linear_model import LinearRegression # 최적화 GD 방식. 가정X\n",
    "from statsmodels.api import OLS, add_constant # 절편을 위한 상수항 추가\n",
    "from statsmodels.formula.api import ols # R 기반"
   ]
  },
  {
   "cell_type": "code",
   "execution_count": 43,
   "id": "78b72445-9875-4a1b-bdd2-76e93e264b54",
   "metadata": {},
   "outputs": [],
   "source": [
    "dat1 =  dat.dropna()"
   ]
  },
  {
   "cell_type": "code",
   "execution_count": null,
   "id": "3d0966fb-69bc-4e36-a118-e20b52942d32",
   "metadata": {},
   "outputs": [],
   "source": [
    "# 조건 만족하도록 설정 후 분석"
   ]
  },
  {
   "cell_type": "code",
   "execution_count": 49,
   "id": "c1c9a040-0f6c-4a74-9d6a-e2216d1fc0c6",
   "metadata": {},
   "outputs": [
    {
     "data": {
      "text/plain": [
       "LinearRegression()"
      ]
     },
     "execution_count": 49,
     "metadata": {},
     "output_type": "execute_result"
    }
   ],
   "source": [
    "# lm = LinearRegression(fit_intercept=True).fit(dat.drop(columns='Influencer'), dat.Sales)\n",
    "\n",
    "# 결측치 제외하고 작동\n",
    "lm = LinearRegression(fit_intercept=True)\n",
    "lm.fit(dat1.drop(columns=['Influencer', 'Sales']), dat1.Sales)"
   ]
  },
  {
   "cell_type": "code",
   "execution_count": 50,
   "id": "d0f45e3f-ff03-48e0-b850-b8324355a05d",
   "metadata": {
    "collapsed": true,
    "jupyter": {
     "outputs_hidden": true
    },
    "tags": []
   },
   "outputs": [
    {
     "data": {
      "text/plain": [
       "['__abstractmethods__',\n",
       " '__class__',\n",
       " '__delattr__',\n",
       " '__dict__',\n",
       " '__dir__',\n",
       " '__doc__',\n",
       " '__eq__',\n",
       " '__format__',\n",
       " '__ge__',\n",
       " '__getattribute__',\n",
       " '__getstate__',\n",
       " '__gt__',\n",
       " '__hash__',\n",
       " '__init__',\n",
       " '__init_subclass__',\n",
       " '__le__',\n",
       " '__lt__',\n",
       " '__module__',\n",
       " '__ne__',\n",
       " '__new__',\n",
       " '__reduce__',\n",
       " '__reduce_ex__',\n",
       " '__repr__',\n",
       " '__setattr__',\n",
       " '__setstate__',\n",
       " '__sizeof__',\n",
       " '__str__',\n",
       " '__subclasshook__',\n",
       " '__weakref__',\n",
       " '_abc_impl',\n",
       " '_check_n_features',\n",
       " '_decision_function',\n",
       " '_estimator_type',\n",
       " '_get_param_names',\n",
       " '_get_tags',\n",
       " '_more_tags',\n",
       " '_preprocess_data',\n",
       " '_repr_html_',\n",
       " '_repr_html_inner',\n",
       " '_repr_mimebundle_',\n",
       " '_residues',\n",
       " '_set_intercept',\n",
       " '_validate_data',\n",
       " 'coef_',\n",
       " 'copy_X',\n",
       " 'fit',\n",
       " 'fit_intercept',\n",
       " 'get_params',\n",
       " 'intercept_',\n",
       " 'n_features_in_',\n",
       " 'n_jobs',\n",
       " 'normalize',\n",
       " 'predict',\n",
       " 'rank_',\n",
       " 'score',\n",
       " 'set_params',\n",
       " 'singular_']"
      ]
     },
     "execution_count": 50,
     "metadata": {},
     "output_type": "execute_result"
    }
   ],
   "source": [
    "dir(lm) # attribute, methods 확인"
   ]
  },
  {
   "cell_type": "code",
   "execution_count": 51,
   "id": "7c6d904e-da5b-422a-be93-7c90d84fbcc9",
   "metadata": {},
   "outputs": [
    {
     "data": {
      "text/plain": [
       "array([ 3.56256963, -0.00397039,  0.00496402])"
      ]
     },
     "execution_count": 51,
     "metadata": {},
     "output_type": "execute_result"
    }
   ],
   "source": [
    "lm.coef_"
   ]
  },
  {
   "cell_type": "code",
   "execution_count": 59,
   "id": "7e166dc8-510c-4c97-963c-f823de8c1a7b",
   "metadata": {},
   "outputs": [
    {
     "data": {
      "text/plain": [
       "[3.562569627119931, 0.004964017947441284, -0.00397038664588853]"
      ]
     },
     "execution_count": 59,
     "metadata": {},
     "output_type": "execute_result"
    }
   ],
   "source": [
    "sorted(lm.coef_, reverse=True)"
   ]
  },
  {
   "cell_type": "code",
   "execution_count": 52,
   "id": "097b3053-90aa-4731-a1b5-8e64dc4fc0c0",
   "metadata": {},
   "outputs": [
    {
     "data": {
      "text/plain": [
       "-0.13396305194208935"
      ]
     },
     "execution_count": 52,
     "metadata": {},
     "output_type": "execute_result"
    }
   ],
   "source": [
    "# lm.intercept_"
   ]
  },
  {
   "cell_type": "code",
   "execution_count": null,
   "id": "d0238fd5-ef89-4be5-ae05-f77f8bfb3854",
   "metadata": {},
   "outputs": [],
   "source": [
    "statsmodels OLS 에서 상수항 여부에 따른 X\n",
    "(시계열 방식?)"
   ]
  },
  {
   "cell_type": "code",
   "execution_count": 65,
   "id": "40779a7f-d0c6-47a8-a6d8-93294016529a",
   "metadata": {},
   "outputs": [
    {
     "data": {
      "text/html": [
       "<div>\n",
       "<style scoped>\n",
       "    .dataframe tbody tr th:only-of-type {\n",
       "        vertical-align: middle;\n",
       "    }\n",
       "\n",
       "    .dataframe tbody tr th {\n",
       "        vertical-align: top;\n",
       "    }\n",
       "\n",
       "    .dataframe thead th {\n",
       "        text-align: right;\n",
       "    }\n",
       "</style>\n",
       "<table border=\"1\" class=\"dataframe\">\n",
       "  <thead>\n",
       "    <tr style=\"text-align: right;\">\n",
       "      <th></th>\n",
       "      <th>TV</th>\n",
       "      <th>Radio</th>\n",
       "      <th>Social_Media</th>\n",
       "    </tr>\n",
       "  </thead>\n",
       "  <tbody>\n",
       "    <tr>\n",
       "      <th>0</th>\n",
       "      <td>16.0</td>\n",
       "      <td>6.566231</td>\n",
       "      <td>2.907983</td>\n",
       "    </tr>\n",
       "    <tr>\n",
       "      <th>1</th>\n",
       "      <td>13.0</td>\n",
       "      <td>9.237765</td>\n",
       "      <td>2.409567</td>\n",
       "    </tr>\n",
       "    <tr>\n",
       "      <th>2</th>\n",
       "      <td>41.0</td>\n",
       "      <td>15.886446</td>\n",
       "      <td>2.913410</td>\n",
       "    </tr>\n",
       "    <tr>\n",
       "      <th>3</th>\n",
       "      <td>83.0</td>\n",
       "      <td>30.020028</td>\n",
       "      <td>6.922304</td>\n",
       "    </tr>\n",
       "    <tr>\n",
       "      <th>4</th>\n",
       "      <td>15.0</td>\n",
       "      <td>8.437408</td>\n",
       "      <td>1.405998</td>\n",
       "    </tr>\n",
       "    <tr>\n",
       "      <th>...</th>\n",
       "      <td>...</td>\n",
       "      <td>...</td>\n",
       "      <td>...</td>\n",
       "    </tr>\n",
       "    <tr>\n",
       "      <th>4567</th>\n",
       "      <td>26.0</td>\n",
       "      <td>4.472360</td>\n",
       "      <td>0.717090</td>\n",
       "    </tr>\n",
       "    <tr>\n",
       "      <th>4568</th>\n",
       "      <td>71.0</td>\n",
       "      <td>20.610685</td>\n",
       "      <td>6.545573</td>\n",
       "    </tr>\n",
       "    <tr>\n",
       "      <th>4569</th>\n",
       "      <td>44.0</td>\n",
       "      <td>19.800072</td>\n",
       "      <td>5.096192</td>\n",
       "    </tr>\n",
       "    <tr>\n",
       "      <th>4570</th>\n",
       "      <td>71.0</td>\n",
       "      <td>17.534640</td>\n",
       "      <td>1.940873</td>\n",
       "    </tr>\n",
       "    <tr>\n",
       "      <th>4571</th>\n",
       "      <td>42.0</td>\n",
       "      <td>15.966688</td>\n",
       "      <td>5.046548</td>\n",
       "    </tr>\n",
       "  </tbody>\n",
       "</table>\n",
       "<p>4546 rows × 3 columns</p>\n",
       "</div>"
      ],
      "text/plain": [
       "        TV      Radio  Social_Media\n",
       "0     16.0   6.566231      2.907983\n",
       "1     13.0   9.237765      2.409567\n",
       "2     41.0  15.886446      2.913410\n",
       "3     83.0  30.020028      6.922304\n",
       "4     15.0   8.437408      1.405998\n",
       "...    ...        ...           ...\n",
       "4567  26.0   4.472360      0.717090\n",
       "4568  71.0  20.610685      6.545573\n",
       "4569  44.0  19.800072      5.096192\n",
       "4570  71.0  17.534640      1.940873\n",
       "4571  42.0  15.966688      5.046548\n",
       "\n",
       "[4546 rows x 3 columns]"
      ]
     },
     "execution_count": 65,
     "metadata": {},
     "output_type": "execute_result"
    }
   ],
   "source": [
    "# 상수항 불포함\n",
    "x = dat1.drop(columns=['Influencer', 'Sales'])\n",
    "x"
   ]
  },
  {
   "cell_type": "code",
   "execution_count": 66,
   "id": "167d07e6-1093-4721-9513-c3bb9a725d60",
   "metadata": {},
   "outputs": [
    {
     "data": {
      "text/html": [
       "<div>\n",
       "<style scoped>\n",
       "    .dataframe tbody tr th:only-of-type {\n",
       "        vertical-align: middle;\n",
       "    }\n",
       "\n",
       "    .dataframe tbody tr th {\n",
       "        vertical-align: top;\n",
       "    }\n",
       "\n",
       "    .dataframe thead th {\n",
       "        text-align: right;\n",
       "    }\n",
       "</style>\n",
       "<table border=\"1\" class=\"dataframe\">\n",
       "  <thead>\n",
       "    <tr style=\"text-align: right;\">\n",
       "      <th></th>\n",
       "      <th>TV</th>\n",
       "      <th>Radio</th>\n",
       "      <th>Social_Media</th>\n",
       "    </tr>\n",
       "  </thead>\n",
       "  <tbody>\n",
       "    <tr>\n",
       "      <th>0</th>\n",
       "      <td>16.0</td>\n",
       "      <td>6.566231</td>\n",
       "      <td>2.907983</td>\n",
       "    </tr>\n",
       "    <tr>\n",
       "      <th>1</th>\n",
       "      <td>13.0</td>\n",
       "      <td>9.237765</td>\n",
       "      <td>2.409567</td>\n",
       "    </tr>\n",
       "    <tr>\n",
       "      <th>2</th>\n",
       "      <td>41.0</td>\n",
       "      <td>15.886446</td>\n",
       "      <td>2.913410</td>\n",
       "    </tr>\n",
       "    <tr>\n",
       "      <th>3</th>\n",
       "      <td>83.0</td>\n",
       "      <td>30.020028</td>\n",
       "      <td>6.922304</td>\n",
       "    </tr>\n",
       "    <tr>\n",
       "      <th>4</th>\n",
       "      <td>15.0</td>\n",
       "      <td>8.437408</td>\n",
       "      <td>1.405998</td>\n",
       "    </tr>\n",
       "    <tr>\n",
       "      <th>...</th>\n",
       "      <td>...</td>\n",
       "      <td>...</td>\n",
       "      <td>...</td>\n",
       "    </tr>\n",
       "    <tr>\n",
       "      <th>4567</th>\n",
       "      <td>26.0</td>\n",
       "      <td>4.472360</td>\n",
       "      <td>0.717090</td>\n",
       "    </tr>\n",
       "    <tr>\n",
       "      <th>4568</th>\n",
       "      <td>71.0</td>\n",
       "      <td>20.610685</td>\n",
       "      <td>6.545573</td>\n",
       "    </tr>\n",
       "    <tr>\n",
       "      <th>4569</th>\n",
       "      <td>44.0</td>\n",
       "      <td>19.800072</td>\n",
       "      <td>5.096192</td>\n",
       "    </tr>\n",
       "    <tr>\n",
       "      <th>4570</th>\n",
       "      <td>71.0</td>\n",
       "      <td>17.534640</td>\n",
       "      <td>1.940873</td>\n",
       "    </tr>\n",
       "    <tr>\n",
       "      <th>4571</th>\n",
       "      <td>42.0</td>\n",
       "      <td>15.966688</td>\n",
       "      <td>5.046548</td>\n",
       "    </tr>\n",
       "  </tbody>\n",
       "</table>\n",
       "<p>4546 rows × 3 columns</p>\n",
       "</div>"
      ],
      "text/plain": [
       "        TV      Radio  Social_Media\n",
       "0     16.0   6.566231      2.907983\n",
       "1     13.0   9.237765      2.409567\n",
       "2     41.0  15.886446      2.913410\n",
       "3     83.0  30.020028      6.922304\n",
       "4     15.0   8.437408      1.405998\n",
       "...    ...        ...           ...\n",
       "4567  26.0   4.472360      0.717090\n",
       "4568  71.0  20.610685      6.545573\n",
       "4569  44.0  19.800072      5.096192\n",
       "4570  71.0  17.534640      1.940873\n",
       "4571  42.0  15.966688      5.046548\n",
       "\n",
       "[4546 rows x 3 columns]"
      ]
     },
     "execution_count": 66,
     "metadata": {},
     "output_type": "execute_result"
    }
   ],
   "source": [
    "xx=add_constant(X)\n",
    "x"
   ]
  },
  {
   "cell_type": "code",
   "execution_count": 67,
   "id": "9cc4db12-f32b-4649-8211-5bf8d274caa3",
   "metadata": {},
   "outputs": [],
   "source": [
    "y=dat1.Sales"
   ]
  },
  {
   "cell_type": "code",
   "execution_count": 68,
   "id": "9fa4a2aa-0674-4275-b8b2-41b05c3dd633",
   "metadata": {},
   "outputs": [],
   "source": [
    "ols1 = OLS(y, x).fit()"
   ]
  },
  {
   "cell_type": "code",
   "execution_count": 69,
   "id": "97d8fa9c-0a0f-49f2-a6cc-cbb419f1fc4f",
   "metadata": {},
   "outputs": [
    {
     "data": {
      "text/html": [
       "<table class=\"simpletable\">\n",
       "<caption>OLS Regression Results</caption>\n",
       "<tr>\n",
       "  <th>Dep. Variable:</th>          <td>Sales</td>      <th>  R-squared (uncentered):</th>      <td>   1.000</td> \n",
       "</tr>\n",
       "<tr>\n",
       "  <th>Model:</th>                   <td>OLS</td>       <th>  Adj. R-squared (uncentered):</th> <td>   1.000</td> \n",
       "</tr>\n",
       "<tr>\n",
       "  <th>Method:</th>             <td>Least Squares</td>  <th>  F-statistic:       </th>          <td>7.951e+06</td>\n",
       "</tr>\n",
       "<tr>\n",
       "  <th>Date:</th>             <td>Mon, 23 Aug 2021</td> <th>  Prob (F-statistic):</th>           <td>  0.00</td>  \n",
       "</tr>\n",
       "<tr>\n",
       "  <th>Time:</th>                 <td>10:48:01</td>     <th>  Log-Likelihood:    </th>          <td> -11367.</td> \n",
       "</tr>\n",
       "<tr>\n",
       "  <th>No. Observations:</th>      <td>  4546</td>      <th>  AIC:               </th>          <td>2.274e+04</td>\n",
       "</tr>\n",
       "<tr>\n",
       "  <th>Df Residuals:</th>          <td>  4543</td>      <th>  BIC:               </th>          <td>2.276e+04</td>\n",
       "</tr>\n",
       "<tr>\n",
       "  <th>Df Model:</th>              <td>     3</td>      <th>                     </th>              <td> </td>    \n",
       "</tr>\n",
       "<tr>\n",
       "  <th>Covariance Type:</th>      <td>nonrobust</td>    <th>                     </th>              <td> </td>    \n",
       "</tr>\n",
       "</table>\n",
       "<table class=\"simpletable\">\n",
       "<tr>\n",
       "        <td></td>          <th>coef</th>     <th>std err</th>      <th>t</th>      <th>P>|t|</th>  <th>[0.025</th>    <th>0.975]</th>  \n",
       "</tr>\n",
       "<tr>\n",
       "  <th>TV</th>           <td>    3.5609</td> <td>    0.003</td> <td> 1133.941</td> <td> 0.000</td> <td>    3.555</td> <td>    3.567</td>\n",
       "</tr>\n",
       "<tr>\n",
       "  <th>Radio</th>        <td>   -0.0039</td> <td>    0.010</td> <td>   -0.400</td> <td> 0.689</td> <td>   -0.023</td> <td>    0.015</td>\n",
       "</tr>\n",
       "<tr>\n",
       "  <th>Social_Media</th> <td>   -0.0013</td> <td>    0.024</td> <td>   -0.054</td> <td> 0.957</td> <td>   -0.049</td> <td>    0.047</td>\n",
       "</tr>\n",
       "</table>\n",
       "<table class=\"simpletable\">\n",
       "<tr>\n",
       "  <th>Omnibus:</th>       <td> 0.061</td> <th>  Durbin-Watson:     </th> <td>   1.999</td>\n",
       "</tr>\n",
       "<tr>\n",
       "  <th>Prob(Omnibus):</th> <td> 0.970</td> <th>  Jarque-Bera (JB):  </th> <td>   0.038</td>\n",
       "</tr>\n",
       "<tr>\n",
       "  <th>Skew:</th>          <td>-0.001</td> <th>  Prob(JB):          </th> <td>   0.981</td>\n",
       "</tr>\n",
       "<tr>\n",
       "  <th>Kurtosis:</th>      <td> 3.014</td> <th>  Cond. No.          </th> <td>    35.8</td>\n",
       "</tr>\n",
       "</table><br/><br/>Notes:<br/>[1] R² is computed without centering (uncentered) since the model does not contain a constant.<br/>[2] Standard Errors assume that the covariance matrix of the errors is correctly specified."
      ],
      "text/plain": [
       "<class 'statsmodels.iolib.summary.Summary'>\n",
       "\"\"\"\n",
       "                                 OLS Regression Results                                \n",
       "=======================================================================================\n",
       "Dep. Variable:                  Sales   R-squared (uncentered):                   1.000\n",
       "Model:                            OLS   Adj. R-squared (uncentered):              1.000\n",
       "Method:                 Least Squares   F-statistic:                          7.951e+06\n",
       "Date:                Mon, 23 Aug 2021   Prob (F-statistic):                        0.00\n",
       "Time:                        10:48:01   Log-Likelihood:                         -11367.\n",
       "No. Observations:                4546   AIC:                                  2.274e+04\n",
       "Df Residuals:                    4543   BIC:                                  2.276e+04\n",
       "Df Model:                           3                                                  \n",
       "Covariance Type:            nonrobust                                                  \n",
       "================================================================================\n",
       "                   coef    std err          t      P>|t|      [0.025      0.975]\n",
       "--------------------------------------------------------------------------------\n",
       "TV               3.5609      0.003   1133.941      0.000       3.555       3.567\n",
       "Radio           -0.0039      0.010     -0.400      0.689      -0.023       0.015\n",
       "Social_Media    -0.0013      0.024     -0.054      0.957      -0.049       0.047\n",
       "==============================================================================\n",
       "Omnibus:                        0.061   Durbin-Watson:                   1.999\n",
       "Prob(Omnibus):                  0.970   Jarque-Bera (JB):                0.038\n",
       "Skew:                          -0.001   Prob(JB):                        0.981\n",
       "Kurtosis:                       3.014   Cond. No.                         35.8\n",
       "==============================================================================\n",
       "\n",
       "Notes:\n",
       "[1] R² is computed without centering (uncentered) since the model does not contain a constant.\n",
       "[2] Standard Errors assume that the covariance matrix of the errors is correctly specified.\n",
       "\"\"\""
      ]
     },
     "execution_count": 69,
     "metadata": {},
     "output_type": "execute_result"
    }
   ],
   "source": [
    "ols1.summary()\n",
    "# F-statistic / Prob(F-statistic)\n",
    "# t test 유의미한 변수"
   ]
  },
  {
   "cell_type": "code",
   "execution_count": 70,
   "id": "6aab7a8f-21fc-475a-9cef-848b04c3953f",
   "metadata": {},
   "outputs": [
    {
     "data": {
      "text/html": [
       "<table class=\"simpletable\">\n",
       "<caption>OLS Regression Results</caption>\n",
       "<tr>\n",
       "  <th>Dep. Variable:</th>          <td>Sales</td>      <th>  R-squared:         </th> <td>   0.999</td> \n",
       "</tr>\n",
       "<tr>\n",
       "  <th>Model:</th>                   <td>OLS</td>       <th>  Adj. R-squared:    </th> <td>   0.999</td> \n",
       "</tr>\n",
       "<tr>\n",
       "  <th>Method:</th>             <td>Least Squares</td>  <th>  F-statistic:       </th> <td>1.505e+06</td>\n",
       "</tr>\n",
       "<tr>\n",
       "  <th>Date:</th>             <td>Mon, 23 Aug 2021</td> <th>  Prob (F-statistic):</th>  <td>  0.00</td>  \n",
       "</tr>\n",
       "<tr>\n",
       "  <th>Time:</th>                 <td>11:17:34</td>     <th>  Log-Likelihood:    </th> <td> -11366.</td> \n",
       "</tr>\n",
       "<tr>\n",
       "  <th>No. Observations:</th>      <td>  4546</td>      <th>  AIC:               </th> <td>2.274e+04</td>\n",
       "</tr>\n",
       "<tr>\n",
       "  <th>Df Residuals:</th>          <td>  4542</td>      <th>  BIC:               </th> <td>2.277e+04</td>\n",
       "</tr>\n",
       "<tr>\n",
       "  <th>Df Model:</th>              <td>     3</td>      <th>                     </th>     <td> </td>    \n",
       "</tr>\n",
       "<tr>\n",
       "  <th>Covariance Type:</th>      <td>nonrobust</td>    <th>                     </th>     <td> </td>    \n",
       "</tr>\n",
       "</table>\n",
       "<table class=\"simpletable\">\n",
       "<tr>\n",
       "        <td></td>          <th>coef</th>     <th>std err</th>      <th>t</th>      <th>P>|t|</th>  <th>[0.025</th>    <th>0.975]</th>  \n",
       "</tr>\n",
       "<tr>\n",
       "  <th>const</th>        <td>   -0.1340</td> <td>    0.103</td> <td>   -1.303</td> <td> 0.193</td> <td>   -0.336</td> <td>    0.068</td>\n",
       "</tr>\n",
       "<tr>\n",
       "  <th>TV</th>           <td>    3.5626</td> <td>    0.003</td> <td> 1051.118</td> <td> 0.000</td> <td>    3.556</td> <td>    3.569</td>\n",
       "</tr>\n",
       "<tr>\n",
       "  <th>Radio</th>        <td>   -0.0040</td> <td>    0.010</td> <td>   -0.406</td> <td> 0.685</td> <td>   -0.023</td> <td>    0.015</td>\n",
       "</tr>\n",
       "<tr>\n",
       "  <th>Social_Media</th> <td>    0.0050</td> <td>    0.025</td> <td>    0.199</td> <td> 0.842</td> <td>   -0.044</td> <td>    0.054</td>\n",
       "</tr>\n",
       "</table>\n",
       "<table class=\"simpletable\">\n",
       "<tr>\n",
       "  <th>Omnibus:</th>       <td> 0.056</td> <th>  Durbin-Watson:     </th> <td>   1.998</td>\n",
       "</tr>\n",
       "<tr>\n",
       "  <th>Prob(Omnibus):</th> <td> 0.972</td> <th>  Jarque-Bera (JB):  </th> <td>   0.034</td>\n",
       "</tr>\n",
       "<tr>\n",
       "  <th>Skew:</th>          <td>-0.001</td> <th>  Prob(JB):          </th> <td>   0.983</td>\n",
       "</tr>\n",
       "<tr>\n",
       "  <th>Kurtosis:</th>      <td> 3.013</td> <th>  Cond. No.          </th> <td>    149.</td>\n",
       "</tr>\n",
       "</table><br/><br/>Notes:<br/>[1] Standard Errors assume that the covariance matrix of the errors is correctly specified."
      ],
      "text/plain": [
       "<class 'statsmodels.iolib.summary.Summary'>\n",
       "\"\"\"\n",
       "                            OLS Regression Results                            \n",
       "==============================================================================\n",
       "Dep. Variable:                  Sales   R-squared:                       0.999\n",
       "Model:                            OLS   Adj. R-squared:                  0.999\n",
       "Method:                 Least Squares   F-statistic:                 1.505e+06\n",
       "Date:                Mon, 23 Aug 2021   Prob (F-statistic):               0.00\n",
       "Time:                        11:17:34   Log-Likelihood:                -11366.\n",
       "No. Observations:                4546   AIC:                         2.274e+04\n",
       "Df Residuals:                    4542   BIC:                         2.277e+04\n",
       "Df Model:                           3                                         \n",
       "Covariance Type:            nonrobust                                         \n",
       "================================================================================\n",
       "                   coef    std err          t      P>|t|      [0.025      0.975]\n",
       "--------------------------------------------------------------------------------\n",
       "const           -0.1340      0.103     -1.303      0.193      -0.336       0.068\n",
       "TV               3.5626      0.003   1051.118      0.000       3.556       3.569\n",
       "Radio           -0.0040      0.010     -0.406      0.685      -0.023       0.015\n",
       "Social_Media     0.0050      0.025      0.199      0.842      -0.044       0.054\n",
       "==============================================================================\n",
       "Omnibus:                        0.056   Durbin-Watson:                   1.998\n",
       "Prob(Omnibus):                  0.972   Jarque-Bera (JB):                0.034\n",
       "Skew:                          -0.001   Prob(JB):                        0.983\n",
       "Kurtosis:                       3.013   Cond. No.                         149.\n",
       "==============================================================================\n",
       "\n",
       "Notes:\n",
       "[1] Standard Errors assume that the covariance matrix of the errors is correctly specified.\n",
       "\"\"\""
      ]
     },
     "execution_count": 70,
     "metadata": {},
     "output_type": "execute_result"
    }
   ],
   "source": [
    "# 상수항 포함\n",
    "ols2 = OLS(y, xx).fit()\n",
    "ols2.summary()"
   ]
  },
  {
   "cell_type": "markdown",
   "id": "dfb8c05c-4cee-4e3b-bbaf-408a396163a1",
   "metadata": {},
   "source": [
    "sklearn 결과와 statsmodels OLS 결과가 다름  \n",
    "(문제에 따라 반올림, 절삭)"
   ]
  },
  {
   "cell_type": "code",
   "execution_count": 71,
   "id": "244ce607-22bc-4065-8432-1e0012bf85b7",
   "metadata": {},
   "outputs": [],
   "source": [
    "# 자동으로 상수. 결측치 있을 경우 작동 X\n",
    "ols3 = ols('Sales ~ TV + Radio + Social_Media', data=dat1).fit()"
   ]
  },
  {
   "cell_type": "code",
   "execution_count": 72,
   "id": "604baf4b-284b-4c04-a1d0-da7d4add45fc",
   "metadata": {},
   "outputs": [
    {
     "data": {
      "text/html": [
       "<table class=\"simpletable\">\n",
       "<caption>OLS Regression Results</caption>\n",
       "<tr>\n",
       "  <th>Dep. Variable:</th>          <td>Sales</td>      <th>  R-squared:         </th> <td>   0.999</td> \n",
       "</tr>\n",
       "<tr>\n",
       "  <th>Model:</th>                   <td>OLS</td>       <th>  Adj. R-squared:    </th> <td>   0.999</td> \n",
       "</tr>\n",
       "<tr>\n",
       "  <th>Method:</th>             <td>Least Squares</td>  <th>  F-statistic:       </th> <td>1.505e+06</td>\n",
       "</tr>\n",
       "<tr>\n",
       "  <th>Date:</th>             <td>Mon, 23 Aug 2021</td> <th>  Prob (F-statistic):</th>  <td>  0.00</td>  \n",
       "</tr>\n",
       "<tr>\n",
       "  <th>Time:</th>                 <td>11:36:44</td>     <th>  Log-Likelihood:    </th> <td> -11366.</td> \n",
       "</tr>\n",
       "<tr>\n",
       "  <th>No. Observations:</th>      <td>  4546</td>      <th>  AIC:               </th> <td>2.274e+04</td>\n",
       "</tr>\n",
       "<tr>\n",
       "  <th>Df Residuals:</th>          <td>  4542</td>      <th>  BIC:               </th> <td>2.277e+04</td>\n",
       "</tr>\n",
       "<tr>\n",
       "  <th>Df Model:</th>              <td>     3</td>      <th>                     </th>     <td> </td>    \n",
       "</tr>\n",
       "<tr>\n",
       "  <th>Covariance Type:</th>      <td>nonrobust</td>    <th>                     </th>     <td> </td>    \n",
       "</tr>\n",
       "</table>\n",
       "<table class=\"simpletable\">\n",
       "<tr>\n",
       "        <td></td>          <th>coef</th>     <th>std err</th>      <th>t</th>      <th>P>|t|</th>  <th>[0.025</th>    <th>0.975]</th>  \n",
       "</tr>\n",
       "<tr>\n",
       "  <th>Intercept</th>    <td>   -0.1340</td> <td>    0.103</td> <td>   -1.303</td> <td> 0.193</td> <td>   -0.336</td> <td>    0.068</td>\n",
       "</tr>\n",
       "<tr>\n",
       "  <th>TV</th>           <td>    3.5626</td> <td>    0.003</td> <td> 1051.118</td> <td> 0.000</td> <td>    3.556</td> <td>    3.569</td>\n",
       "</tr>\n",
       "<tr>\n",
       "  <th>Radio</th>        <td>   -0.0040</td> <td>    0.010</td> <td>   -0.406</td> <td> 0.685</td> <td>   -0.023</td> <td>    0.015</td>\n",
       "</tr>\n",
       "<tr>\n",
       "  <th>Social_Media</th> <td>    0.0050</td> <td>    0.025</td> <td>    0.199</td> <td> 0.842</td> <td>   -0.044</td> <td>    0.054</td>\n",
       "</tr>\n",
       "</table>\n",
       "<table class=\"simpletable\">\n",
       "<tr>\n",
       "  <th>Omnibus:</th>       <td> 0.056</td> <th>  Durbin-Watson:     </th> <td>   1.998</td>\n",
       "</tr>\n",
       "<tr>\n",
       "  <th>Prob(Omnibus):</th> <td> 0.972</td> <th>  Jarque-Bera (JB):  </th> <td>   0.034</td>\n",
       "</tr>\n",
       "<tr>\n",
       "  <th>Skew:</th>          <td>-0.001</td> <th>  Prob(JB):          </th> <td>   0.983</td>\n",
       "</tr>\n",
       "<tr>\n",
       "  <th>Kurtosis:</th>      <td> 3.013</td> <th>  Cond. No.          </th> <td>    149.</td>\n",
       "</tr>\n",
       "</table><br/><br/>Notes:<br/>[1] Standard Errors assume that the covariance matrix of the errors is correctly specified."
      ],
      "text/plain": [
       "<class 'statsmodels.iolib.summary.Summary'>\n",
       "\"\"\"\n",
       "                            OLS Regression Results                            \n",
       "==============================================================================\n",
       "Dep. Variable:                  Sales   R-squared:                       0.999\n",
       "Model:                            OLS   Adj. R-squared:                  0.999\n",
       "Method:                 Least Squares   F-statistic:                 1.505e+06\n",
       "Date:                Mon, 23 Aug 2021   Prob (F-statistic):               0.00\n",
       "Time:                        11:36:44   Log-Likelihood:                -11366.\n",
       "No. Observations:                4546   AIC:                         2.274e+04\n",
       "Df Residuals:                    4542   BIC:                         2.277e+04\n",
       "Df Model:                           3                                         \n",
       "Covariance Type:            nonrobust                                         \n",
       "================================================================================\n",
       "                   coef    std err          t      P>|t|      [0.025      0.975]\n",
       "--------------------------------------------------------------------------------\n",
       "Intercept       -0.1340      0.103     -1.303      0.193      -0.336       0.068\n",
       "TV               3.5626      0.003   1051.118      0.000       3.556       3.569\n",
       "Radio           -0.0040      0.010     -0.406      0.685      -0.023       0.015\n",
       "Social_Media     0.0050      0.025      0.199      0.842      -0.044       0.054\n",
       "==============================================================================\n",
       "Omnibus:                        0.056   Durbin-Watson:                   1.998\n",
       "Prob(Omnibus):                  0.972   Jarque-Bera (JB):                0.034\n",
       "Skew:                          -0.001   Prob(JB):                        0.983\n",
       "Kurtosis:                       3.013   Cond. No.                         149.\n",
       "==============================================================================\n",
       "\n",
       "Notes:\n",
       "[1] Standard Errors assume that the covariance matrix of the errors is correctly specified.\n",
       "\"\"\""
      ]
     },
     "execution_count": 72,
     "metadata": {},
     "output_type": "execute_result"
    }
   ],
   "source": [
    "ols3.summary()"
   ]
  },
  {
   "cell_type": "code",
   "execution_count": 74,
   "id": "2d744703-a501-46cf-b804-46b97faa7bcd",
   "metadata": {},
   "outputs": [],
   "source": [
    "# 식 구성한 후 대입하는 방식\n",
    "var_list = list(dat1.columns[:-1]) # index -> list"
   ]
  },
  {
   "cell_type": "code",
   "execution_count": 75,
   "id": "9ff783f2-7d1d-476b-9b49-6d2b901f2ac0",
   "metadata": {},
   "outputs": [
    {
     "data": {
      "text/plain": [
       "'TV+Radio+Social_Media+Influencer'"
      ]
     },
     "execution_count": 75,
     "metadata": {},
     "output_type": "execute_result"
    }
   ],
   "source": [
    "'+'.join(var_list)"
   ]
  },
  {
   "cell_type": "code",
   "execution_count": 76,
   "id": "829c7dc3-422c-47cc-b2a8-291e17c0cedc",
   "metadata": {},
   "outputs": [
    {
     "data": {
      "text/plain": [
       "'Sales~TV+Radio+Social_Media+Influencer'"
      ]
     },
     "execution_count": 76,
     "metadata": {},
     "output_type": "execute_result"
    }
   ],
   "source": [
    "form='Sales~'+'+'.join(var_list)\n",
    "form"
   ]
  },
  {
   "cell_type": "code",
   "execution_count": 77,
   "id": "408a8e0e-56d3-486b-b2c8-5d9d658f3b05",
   "metadata": {},
   "outputs": [
    {
     "data": {
      "text/html": [
       "<table class=\"simpletable\">\n",
       "<caption>OLS Regression Results</caption>\n",
       "<tr>\n",
       "  <th>Dep. Variable:</th>          <td>Sales</td>      <th>  R-squared:         </th> <td>   0.999</td> \n",
       "</tr>\n",
       "<tr>\n",
       "  <th>Model:</th>                   <td>OLS</td>       <th>  Adj. R-squared:    </th> <td>   0.999</td> \n",
       "</tr>\n",
       "<tr>\n",
       "  <th>Method:</th>             <td>Least Squares</td>  <th>  F-statistic:       </th> <td>7.521e+05</td>\n",
       "</tr>\n",
       "<tr>\n",
       "  <th>Date:</th>             <td>Mon, 23 Aug 2021</td> <th>  Prob (F-statistic):</th>  <td>  0.00</td>  \n",
       "</tr>\n",
       "<tr>\n",
       "  <th>Time:</th>                 <td>11:40:08</td>     <th>  Log-Likelihood:    </th> <td> -11366.</td> \n",
       "</tr>\n",
       "<tr>\n",
       "  <th>No. Observations:</th>      <td>  4546</td>      <th>  AIC:               </th> <td>2.275e+04</td>\n",
       "</tr>\n",
       "<tr>\n",
       "  <th>Df Residuals:</th>          <td>  4539</td>      <th>  BIC:               </th> <td>2.279e+04</td>\n",
       "</tr>\n",
       "<tr>\n",
       "  <th>Df Model:</th>              <td>     6</td>      <th>                     </th>     <td> </td>    \n",
       "</tr>\n",
       "<tr>\n",
       "  <th>Covariance Type:</th>      <td>nonrobust</td>    <th>                     </th>     <td> </td>    \n",
       "</tr>\n",
       "</table>\n",
       "<table class=\"simpletable\">\n",
       "<tr>\n",
       "           <td></td>              <th>coef</th>     <th>std err</th>      <th>t</th>      <th>P>|t|</th>  <th>[0.025</th>    <th>0.975]</th>  \n",
       "</tr>\n",
       "<tr>\n",
       "  <th>Intercept</th>           <td>   -0.1033</td> <td>    0.130</td> <td>   -0.797</td> <td> 0.426</td> <td>   -0.358</td> <td>    0.151</td>\n",
       "</tr>\n",
       "<tr>\n",
       "  <th>Influencer[T.Mega]</th>  <td>    0.0116</td> <td>    0.124</td> <td>    0.094</td> <td> 0.926</td> <td>   -0.232</td> <td>    0.255</td>\n",
       "</tr>\n",
       "<tr>\n",
       "  <th>Influencer[T.Micro]</th> <td>   -0.0569</td> <td>    0.124</td> <td>   -0.458</td> <td> 0.647</td> <td>   -0.300</td> <td>    0.187</td>\n",
       "</tr>\n",
       "<tr>\n",
       "  <th>Influencer[T.Nano]</th>  <td>   -0.0739</td> <td>    0.125</td> <td>   -0.593</td> <td> 0.553</td> <td>   -0.318</td> <td>    0.170</td>\n",
       "</tr>\n",
       "<tr>\n",
       "  <th>TV</th>                  <td>    3.5626</td> <td>    0.003</td> <td> 1050.472</td> <td> 0.000</td> <td>    3.556</td> <td>    3.569</td>\n",
       "</tr>\n",
       "<tr>\n",
       "  <th>Radio</th>               <td>   -0.0039</td> <td>    0.010</td> <td>   -0.399</td> <td> 0.690</td> <td>   -0.023</td> <td>    0.015</td>\n",
       "</tr>\n",
       "<tr>\n",
       "  <th>Social_Media</th>        <td>    0.0045</td> <td>    0.025</td> <td>    0.179</td> <td> 0.858</td> <td>   -0.044</td> <td>    0.053</td>\n",
       "</tr>\n",
       "</table>\n",
       "<table class=\"simpletable\">\n",
       "<tr>\n",
       "  <th>Omnibus:</th>       <td> 0.067</td> <th>  Durbin-Watson:     </th> <td>   1.998</td>\n",
       "</tr>\n",
       "<tr>\n",
       "  <th>Prob(Omnibus):</th> <td> 0.967</td> <th>  Jarque-Bera (JB):  </th> <td>   0.043</td>\n",
       "</tr>\n",
       "<tr>\n",
       "  <th>Skew:</th>          <td>-0.001</td> <th>  Prob(JB):          </th> <td>   0.979</td>\n",
       "</tr>\n",
       "<tr>\n",
       "  <th>Kurtosis:</th>      <td> 3.015</td> <th>  Cond. No.          </th> <td>    288.</td>\n",
       "</tr>\n",
       "</table><br/><br/>Notes:<br/>[1] Standard Errors assume that the covariance matrix of the errors is correctly specified."
      ],
      "text/plain": [
       "<class 'statsmodels.iolib.summary.Summary'>\n",
       "\"\"\"\n",
       "                            OLS Regression Results                            \n",
       "==============================================================================\n",
       "Dep. Variable:                  Sales   R-squared:                       0.999\n",
       "Model:                            OLS   Adj. R-squared:                  0.999\n",
       "Method:                 Least Squares   F-statistic:                 7.521e+05\n",
       "Date:                Mon, 23 Aug 2021   Prob (F-statistic):               0.00\n",
       "Time:                        11:40:08   Log-Likelihood:                -11366.\n",
       "No. Observations:                4546   AIC:                         2.275e+04\n",
       "Df Residuals:                    4539   BIC:                         2.279e+04\n",
       "Df Model:                           6                                         \n",
       "Covariance Type:            nonrobust                                         \n",
       "=======================================================================================\n",
       "                          coef    std err          t      P>|t|      [0.025      0.975]\n",
       "---------------------------------------------------------------------------------------\n",
       "Intercept              -0.1033      0.130     -0.797      0.426      -0.358       0.151\n",
       "Influencer[T.Mega]      0.0116      0.124      0.094      0.926      -0.232       0.255\n",
       "Influencer[T.Micro]    -0.0569      0.124     -0.458      0.647      -0.300       0.187\n",
       "Influencer[T.Nano]     -0.0739      0.125     -0.593      0.553      -0.318       0.170\n",
       "TV                      3.5626      0.003   1050.472      0.000       3.556       3.569\n",
       "Radio                  -0.0039      0.010     -0.399      0.690      -0.023       0.015\n",
       "Social_Media            0.0045      0.025      0.179      0.858      -0.044       0.053\n",
       "==============================================================================\n",
       "Omnibus:                        0.067   Durbin-Watson:                   1.998\n",
       "Prob(Omnibus):                  0.967   Jarque-Bera (JB):                0.043\n",
       "Skew:                          -0.001   Prob(JB):                        0.979\n",
       "Kurtosis:                       3.015   Cond. No.                         288.\n",
       "==============================================================================\n",
       "\n",
       "Notes:\n",
       "[1] Standard Errors assume that the covariance matrix of the errors is correctly specified.\n",
       "\"\"\""
      ]
     },
     "execution_count": 77,
     "metadata": {},
     "output_type": "execute_result"
    }
   ],
   "source": [
    "ols4 = ols(form, data=dat1).fit()\n",
    "ols4.summary() # dummy 변수 자동"
   ]
  },
  {
   "cell_type": "code",
   "execution_count": null,
   "id": "07c1aef7-92a5-41c3-a5d2-db9a3ec4e771",
   "metadata": {},
   "outputs": [],
   "source": [
    "# from sklearn.linear import linearRegression을 사용하세요.\n",
    "# (정답) "
   ]
  },
  {
   "cell_type": "code",
   "execution_count": 78,
   "id": "2d8cb49d-f3da-469b-9753-bb795da7a20e",
   "metadata": {},
   "outputs": [
    {
     "ename": "SyntaxError",
     "evalue": "invalid syntax (<unknown>, line 1)",
     "output_type": "error",
     "traceback": [
      "Traceback \u001b[1;36m(most recent call last)\u001b[0m:\n",
      "  File \u001b[0;32m\"C:\\Users\\Boram Yun\\anaconda3\\envs\\multi\\lib\\site-packages\\IPython\\core\\interactiveshell.py\"\u001b[0m, line \u001b[0;32m3441\u001b[0m, in \u001b[0;35mrun_code\u001b[0m\n    exec(code_obj, self.user_global_ns, self.user_ns)\n",
      "  File \u001b[0;32m\"<ipython-input-78-ac01fa274b84>\"\u001b[0m, line \u001b[0;32m1\u001b[0m, in \u001b[0;35m<module>\u001b[0m\n    ols5 = ols('Sales ~ .', data=dat1).fit()\n",
      "  File \u001b[0;32m\"C:\\Users\\Boram Yun\\anaconda3\\envs\\multi\\lib\\site-packages\\statsmodels\\base\\model.py\"\u001b[0m, line \u001b[0;32m170\u001b[0m, in \u001b[0;35mfrom_formula\u001b[0m\n    missing=missing)\n",
      "  File \u001b[0;32m\"C:\\Users\\Boram Yun\\anaconda3\\envs\\multi\\lib\\site-packages\\statsmodels\\formula\\formulatools.py\"\u001b[0m, line \u001b[0;32m64\u001b[0m, in \u001b[0;35mhandle_formula_data\u001b[0m\n    NA_action=na_action)\n",
      "  File \u001b[0;32m\"C:\\Users\\Boram Yun\\anaconda3\\envs\\multi\\lib\\site-packages\\patsy\\highlevel.py\"\u001b[0m, line \u001b[0;32m310\u001b[0m, in \u001b[0;35mdmatrices\u001b[0m\n    NA_action, return_type)\n",
      "  File \u001b[0;32m\"C:\\Users\\Boram Yun\\anaconda3\\envs\\multi\\lib\\site-packages\\patsy\\highlevel.py\"\u001b[0m, line \u001b[0;32m165\u001b[0m, in \u001b[0;35m_do_highlevel_design\u001b[0m\n    NA_action)\n",
      "  File \u001b[0;32m\"C:\\Users\\Boram Yun\\anaconda3\\envs\\multi\\lib\\site-packages\\patsy\\highlevel.py\"\u001b[0m, line \u001b[0;32m70\u001b[0m, in \u001b[0;35m_try_incr_builders\u001b[0m\n    NA_action)\n",
      "  File \u001b[0;32m\"C:\\Users\\Boram Yun\\anaconda3\\envs\\multi\\lib\\site-packages\\patsy\\build.py\"\u001b[0m, line \u001b[0;32m689\u001b[0m, in \u001b[0;35mdesign_matrix_builders\u001b[0m\n    factor_states = _factors_memorize(all_factors, data_iter_maker, eval_env)\n",
      "  File \u001b[0;32m\"C:\\Users\\Boram Yun\\anaconda3\\envs\\multi\\lib\\site-packages\\patsy\\build.py\"\u001b[0m, line \u001b[0;32m354\u001b[0m, in \u001b[0;35m_factors_memorize\u001b[0m\n    which_pass = factor.memorize_passes_needed(state, eval_env)\n",
      "  File \u001b[0;32m\"C:\\Users\\Boram Yun\\anaconda3\\envs\\multi\\lib\\site-packages\\patsy\\eval.py\"\u001b[0m, line \u001b[0;32m474\u001b[0m, in \u001b[0;35mmemorize_passes_needed\u001b[0m\n    subset_names = [name for name in ast_names(self.code)\n",
      "  File \u001b[0;32m\"C:\\Users\\Boram Yun\\anaconda3\\envs\\multi\\lib\\site-packages\\patsy\\eval.py\"\u001b[0m, line \u001b[0;32m474\u001b[0m, in \u001b[0;35m<listcomp>\u001b[0m\n    subset_names = [name for name in ast_names(self.code)\n",
      "  File \u001b[0;32m\"C:\\Users\\Boram Yun\\anaconda3\\envs\\multi\\lib\\site-packages\\patsy\\eval.py\"\u001b[0m, line \u001b[0;32m105\u001b[0m, in \u001b[0;35mast_names\u001b[0m\n    for node in ast.walk(ast.parse(code)):\n",
      "\u001b[1;36m  File \u001b[1;32m\"C:\\Users\\Boram Yun\\anaconda3\\envs\\multi\\lib\\ast.py\"\u001b[1;36m, line \u001b[1;32m35\u001b[1;36m, in \u001b[1;35mparse\u001b[1;36m\u001b[0m\n\u001b[1;33m    return compile(source, filename, mode, PyCF_ONLY_AST)\u001b[0m\n",
      "\u001b[1;36m  File \u001b[1;32m\"<unknown>\"\u001b[1;36m, line \u001b[1;32m1\u001b[0m\n\u001b[1;33m    .\u001b[0m\n\u001b[1;37m    ^\u001b[0m\n\u001b[1;31mSyntaxError\u001b[0m\u001b[1;31m:\u001b[0m invalid syntax\n"
     ]
    }
   ],
   "source": [
    "ols5 = ols('Sales ~ .', data=dat1).fit()\n",
    "ols5.summary()"
   ]
  },
  {
   "cell_type": "markdown",
   "id": "59425c91-4f4b-4316-acd4-0500dd76c753",
   "metadata": {},
   "source": [
    "# DataSet_02"
   ]
  },
  {
   "cell_type": "code",
   "execution_count": null,
   "id": "01b8dd8c-9d61-44c9-9c2b-a378ea581a12",
   "metadata": {},
   "outputs": [],
   "source": [
    "# =============================================================================\n",
    "# =============================================================================\n",
    "# # 문제 02 유형(DataSet_02.csv 이용)\n",
    "# 구분자 : comma(“,”), 200 Rows, 6 Columns, UTF-8 인코딩\n",
    "\n",
    "# 환자의 상태와 그에 따라 처방된 약에 대한 정보를 분석하고자한다\n",
    "# \n",
    "# 컬 럼 / 정 의  / Type\n",
    "# Age  / 연령 / Integer\n",
    "# Sex / 성별 / String\n",
    "# BP / 혈압 레벨 / String\n",
    "# Cholesterol / 콜레스테롤 레벨 /  String\n",
    "# Na_to_k / 혈액 내 칼륨에 대비한 나트륨 비율 / Double\n",
    "# Drug / Drug Type / String\n",
    "# =============================================================================\n",
    "# ============================================================================="
   ]
  },
  {
   "cell_type": "code",
   "execution_count": 80,
   "id": "352905b7-b24f-43c7-bbaf-6fa8cc3036dd",
   "metadata": {},
   "outputs": [],
   "source": [
    "import pandas as pd"
   ]
  },
  {
   "cell_type": "code",
   "execution_count": 82,
   "id": "5b5dc0de-1777-456b-a65e-c94f5de782b0",
   "metadata": {},
   "outputs": [],
   "source": [
    "dataset2 = pd.read_csv('Dataset/Dataset_02.csv')"
   ]
  },
  {
   "cell_type": "code",
   "execution_count": 85,
   "id": "9b501715-5de8-428d-bb3e-b403d2a9e817",
   "metadata": {},
   "outputs": [
    {
     "data": {
      "text/plain": [
       "Index(['Age', 'Sex', 'BP', 'Cholesterol', 'Na_to_K', 'Drug'], dtype='object')"
      ]
     },
     "execution_count": 85,
     "metadata": {},
     "output_type": "execute_result"
    }
   ],
   "source": [
    "dataset2.columns"
   ]
  },
  {
   "cell_type": "code",
   "execution_count": 87,
   "id": "8fed260d-e35c-45fa-8ba8-ec4351257c0b",
   "metadata": {},
   "outputs": [
    {
     "data": {
      "text/plain": [
       "Age              int64\n",
       "Sex             object\n",
       "BP              object\n",
       "Cholesterol     object\n",
       "Na_to_K        float64\n",
       "Drug            object\n",
       "dtype: object"
      ]
     },
     "execution_count": 87,
     "metadata": {},
     "output_type": "execute_result"
    }
   ],
   "source": [
    "dataset2.dtypes"
   ]
  },
  {
   "cell_type": "code",
   "execution_count": 83,
   "id": "97e43b32-dc73-40d4-a7d9-372bc3d50ce9",
   "metadata": {},
   "outputs": [
    {
     "data": {
      "text/plain": [
       "(200, 6)"
      ]
     },
     "execution_count": 83,
     "metadata": {},
     "output_type": "execute_result"
    }
   ],
   "source": [
    "dataset2.shape"
   ]
  },
  {
   "cell_type": "markdown",
   "id": "61f37609-1318-4d08-bacd-43c6787514e2",
   "metadata": {},
   "source": [
    "## 1. Contingency Table"
   ]
  },
  {
   "cell_type": "code",
   "execution_count": null,
   "id": "e72bcca8-f8b0-4614-bd6c-f3b02161dab1",
   "metadata": {},
   "outputs": [],
   "source": [
    "# =============================================================================\n",
    "# 1.해당 데이터에 대한 EDA를 수행하고, 여성으로 혈압이 High, Cholesterol이 Normal인\n",
    "# 환자의 전체에 대비한 비율이 얼마인지 소수점 네 번째 자리에서 반올림하여 소수점 셋째\n",
    "# 자리까지 기술하시오. (답안 예시) 0.123\n",
    "# ============================================================================="
   ]
  },
  {
   "cell_type": "markdown",
   "id": "9c660dbc-67f9-47ab-b989-423603fbecb4",
   "metadata": {},
   "source": [
    "### 해설"
   ]
  },
  {
   "cell_type": "code",
   "execution_count": 88,
   "id": "4daf61c7-617f-45a5-a73d-970a1fd55ac0",
   "metadata": {},
   "outputs": [
    {
     "data": {
      "text/html": [
       "<div>\n",
       "<style scoped>\n",
       "    .dataframe tbody tr th:only-of-type {\n",
       "        vertical-align: middle;\n",
       "    }\n",
       "\n",
       "    .dataframe tbody tr th {\n",
       "        vertical-align: top;\n",
       "    }\n",
       "\n",
       "    .dataframe thead th {\n",
       "        text-align: right;\n",
       "    }\n",
       "</style>\n",
       "<table border=\"1\" class=\"dataframe\">\n",
       "  <thead>\n",
       "    <tr style=\"text-align: right;\">\n",
       "      <th>Cholesterol</th>\n",
       "      <th>HIGH</th>\n",
       "      <th>NORMAL</th>\n",
       "    </tr>\n",
       "    <tr>\n",
       "      <th>Sex</th>\n",
       "      <th></th>\n",
       "      <th></th>\n",
       "    </tr>\n",
       "  </thead>\n",
       "  <tbody>\n",
       "    <tr>\n",
       "      <th>F</th>\n",
       "      <td>49</td>\n",
       "      <td>47</td>\n",
       "    </tr>\n",
       "    <tr>\n",
       "      <th>M</th>\n",
       "      <td>54</td>\n",
       "      <td>50</td>\n",
       "    </tr>\n",
       "  </tbody>\n",
       "</table>\n",
       "</div>"
      ],
      "text/plain": [
       "Cholesterol  HIGH  NORMAL\n",
       "Sex                      \n",
       "F              49      47\n",
       "M              54      50"
      ]
     },
     "execution_count": 88,
     "metadata": {},
     "output_type": "execute_result"
    }
   ],
   "source": [
    "# Series, list 형태로 입력\n",
    "# normalize 비율\n",
    "\n",
    "# ['Age', 'Sex', 'BP', 'Cholesterol', 'Na_to_K', 'Drug']\n",
    "Q1 = pd.crosstab(index=dataset2.Sex, \n",
    "                 columns=dataset2.Cholesterol)\n",
    "Q1"
   ]
  },
  {
   "cell_type": "code",
   "execution_count": 89,
   "id": "ab6607a5-d73c-48e6-a391-ff6d2e0737db",
   "metadata": {},
   "outputs": [
    {
     "data": {
      "text/html": [
       "<div>\n",
       "<style scoped>\n",
       "    .dataframe tbody tr th:only-of-type {\n",
       "        vertical-align: middle;\n",
       "    }\n",
       "\n",
       "    .dataframe tbody tr th {\n",
       "        vertical-align: top;\n",
       "    }\n",
       "\n",
       "    .dataframe thead th {\n",
       "        text-align: right;\n",
       "    }\n",
       "</style>\n",
       "<table border=\"1\" class=\"dataframe\">\n",
       "  <thead>\n",
       "    <tr style=\"text-align: right;\">\n",
       "      <th></th>\n",
       "      <th>Cholesterol</th>\n",
       "      <th>HIGH</th>\n",
       "      <th>NORMAL</th>\n",
       "    </tr>\n",
       "    <tr>\n",
       "      <th>Sex</th>\n",
       "      <th>BP</th>\n",
       "      <th></th>\n",
       "      <th></th>\n",
       "    </tr>\n",
       "  </thead>\n",
       "  <tbody>\n",
       "    <tr>\n",
       "      <th rowspan=\"3\" valign=\"top\">F</th>\n",
       "      <th>HIGH</th>\n",
       "      <td>0.085</td>\n",
       "      <td>0.105</td>\n",
       "    </tr>\n",
       "    <tr>\n",
       "      <th>LOW</th>\n",
       "      <td>0.070</td>\n",
       "      <td>0.070</td>\n",
       "    </tr>\n",
       "    <tr>\n",
       "      <th>NORMAL</th>\n",
       "      <td>0.090</td>\n",
       "      <td>0.060</td>\n",
       "    </tr>\n",
       "    <tr>\n",
       "      <th rowspan=\"3\" valign=\"top\">M</th>\n",
       "      <th>HIGH</th>\n",
       "      <td>0.090</td>\n",
       "      <td>0.105</td>\n",
       "    </tr>\n",
       "    <tr>\n",
       "      <th>LOW</th>\n",
       "      <td>0.085</td>\n",
       "      <td>0.095</td>\n",
       "    </tr>\n",
       "    <tr>\n",
       "      <th>NORMAL</th>\n",
       "      <td>0.095</td>\n",
       "      <td>0.050</td>\n",
       "    </tr>\n",
       "  </tbody>\n",
       "</table>\n",
       "</div>"
      ],
      "text/plain": [
       "Cholesterol   HIGH  NORMAL\n",
       "Sex BP                    \n",
       "F   HIGH     0.085   0.105\n",
       "    LOW      0.070   0.070\n",
       "    NORMAL   0.090   0.060\n",
       "M   HIGH     0.090   0.105\n",
       "    LOW      0.085   0.095\n",
       "    NORMAL   0.095   0.050"
      ]
     },
     "execution_count": 89,
     "metadata": {},
     "output_type": "execute_result"
    }
   ],
   "source": [
    "Q1 = pd.crosstab(index=[dataset2.Sex, dataset2.BP], \n",
    "                 columns=dataset2.Cholesterol, \n",
    "                 normalize=True) # 0, 1 열, 행, True : 전체\n",
    "Q1"
   ]
  },
  {
   "cell_type": "code",
   "execution_count": null,
   "id": "8d965732-15fa-4d93-bc36-6a1e98534ace",
   "metadata": {},
   "outputs": [],
   "source": [
    "# 정답 0.105"
   ]
  },
  {
   "cell_type": "code",
   "execution_count": 90,
   "id": "88f44fe6-09be-4c1b-a3b1-5c6eaca7d5eb",
   "metadata": {},
   "outputs": [
    {
     "data": {
      "text/html": [
       "<div>\n",
       "<style scoped>\n",
       "    .dataframe tbody tr th:only-of-type {\n",
       "        vertical-align: middle;\n",
       "    }\n",
       "\n",
       "    .dataframe tbody tr th {\n",
       "        vertical-align: top;\n",
       "    }\n",
       "\n",
       "    .dataframe thead th {\n",
       "        text-align: right;\n",
       "    }\n",
       "</style>\n",
       "<table border=\"1\" class=\"dataframe\">\n",
       "  <thead>\n",
       "    <tr style=\"text-align: right;\">\n",
       "      <th></th>\n",
       "      <th>Cholesterol</th>\n",
       "      <th>HIGH</th>\n",
       "      <th>NORMAL</th>\n",
       "    </tr>\n",
       "    <tr>\n",
       "      <th>row_0</th>\n",
       "      <th>row_1</th>\n",
       "      <th></th>\n",
       "      <th></th>\n",
       "    </tr>\n",
       "  </thead>\n",
       "  <tbody>\n",
       "    <tr>\n",
       "      <th>Sex</th>\n",
       "      <th>BP</th>\n",
       "      <td>0.515</td>\n",
       "      <td>0.485</td>\n",
       "    </tr>\n",
       "  </tbody>\n",
       "</table>\n",
       "</div>"
      ],
      "text/plain": [
       "Cholesterol   HIGH  NORMAL\n",
       "row_0 row_1               \n",
       "Sex   BP     0.515   0.485"
      ]
     },
     "execution_count": 90,
     "metadata": {},
     "output_type": "execute_result"
    }
   ],
   "source": [
    "Q2 = pd.crosstab(index=['Sex', 'BP'], \n",
    "                 columns=dataset2.Cholesterol, \n",
    "                 normalize=True) # 0, 1 열, 행, True : 전체\n",
    "Q2"
   ]
  },
  {
   "cell_type": "code",
   "execution_count": 91,
   "id": "36d9870e-3d1b-46fc-a688-2946696f8cb4",
   "metadata": {
    "collapsed": true,
    "jupyter": {
     "outputs_hidden": true
    },
    "tags": []
   },
   "outputs": [
    {
     "data": {
      "text/plain": [
       "\u001b[1;31mSignature:\u001b[0m\n",
       "\u001b[0mpd\u001b[0m\u001b[1;33m.\u001b[0m\u001b[0mpivot_table\u001b[0m\u001b[1;33m(\u001b[0m\u001b[1;33m\n",
       "\u001b[0m    \u001b[0mdata\u001b[0m\u001b[1;33m,\u001b[0m\u001b[1;33m\n",
       "\u001b[0m    \u001b[0mvalues\u001b[0m\u001b[1;33m=\u001b[0m\u001b[1;32mNone\u001b[0m\u001b[1;33m,\u001b[0m\u001b[1;33m\n",
       "\u001b[0m    \u001b[0mindex\u001b[0m\u001b[1;33m=\u001b[0m\u001b[1;32mNone\u001b[0m\u001b[1;33m,\u001b[0m\u001b[1;33m\n",
       "\u001b[0m    \u001b[0mcolumns\u001b[0m\u001b[1;33m=\u001b[0m\u001b[1;32mNone\u001b[0m\u001b[1;33m,\u001b[0m\u001b[1;33m\n",
       "\u001b[0m    \u001b[0maggfunc\u001b[0m\u001b[1;33m=\u001b[0m\u001b[1;34m'mean'\u001b[0m\u001b[1;33m,\u001b[0m\u001b[1;33m\n",
       "\u001b[0m    \u001b[0mfill_value\u001b[0m\u001b[1;33m=\u001b[0m\u001b[1;32mNone\u001b[0m\u001b[1;33m,\u001b[0m\u001b[1;33m\n",
       "\u001b[0m    \u001b[0mmargins\u001b[0m\u001b[1;33m=\u001b[0m\u001b[1;32mFalse\u001b[0m\u001b[1;33m,\u001b[0m\u001b[1;33m\n",
       "\u001b[0m    \u001b[0mdropna\u001b[0m\u001b[1;33m=\u001b[0m\u001b[1;32mTrue\u001b[0m\u001b[1;33m,\u001b[0m\u001b[1;33m\n",
       "\u001b[0m    \u001b[0mmargins_name\u001b[0m\u001b[1;33m=\u001b[0m\u001b[1;34m'All'\u001b[0m\u001b[1;33m,\u001b[0m\u001b[1;33m\n",
       "\u001b[0m    \u001b[0mobserved\u001b[0m\u001b[1;33m=\u001b[0m\u001b[1;32mFalse\u001b[0m\u001b[1;33m,\u001b[0m\u001b[1;33m\n",
       "\u001b[0m\u001b[1;33m)\u001b[0m \u001b[1;33m->\u001b[0m \u001b[1;34m'DataFrame'\u001b[0m\u001b[1;33m\u001b[0m\u001b[1;33m\u001b[0m\u001b[0m\n",
       "\u001b[1;31mDocstring:\u001b[0m\n",
       "Create a spreadsheet-style pivot table as a DataFrame.\n",
       "\n",
       "The levels in the pivot table will be stored in MultiIndex objects\n",
       "(hierarchical indexes) on the index and columns of the result DataFrame.\n",
       "\n",
       "Parameters\n",
       "----------\n",
       "data : DataFrame\n",
       "values : column to aggregate, optional\n",
       "index : column, Grouper, array, or list of the previous\n",
       "    If an array is passed, it must be the same length as the data. The\n",
       "    list can contain any of the other types (except list).\n",
       "    Keys to group by on the pivot table index.  If an array is passed,\n",
       "    it is being used as the same manner as column values.\n",
       "columns : column, Grouper, array, or list of the previous\n",
       "    If an array is passed, it must be the same length as the data. The\n",
       "    list can contain any of the other types (except list).\n",
       "    Keys to group by on the pivot table column.  If an array is passed,\n",
       "    it is being used as the same manner as column values.\n",
       "aggfunc : function, list of functions, dict, default numpy.mean\n",
       "    If list of functions passed, the resulting pivot table will have\n",
       "    hierarchical columns whose top level are the function names\n",
       "    (inferred from the function objects themselves)\n",
       "    If dict is passed, the key is column to aggregate and value\n",
       "    is function or list of functions.\n",
       "fill_value : scalar, default None\n",
       "    Value to replace missing values with (in the resulting pivot table,\n",
       "    after aggregation).\n",
       "margins : bool, default False\n",
       "    Add all row / columns (e.g. for subtotal / grand totals).\n",
       "dropna : bool, default True\n",
       "    Do not include columns whose entries are all NaN.\n",
       "margins_name : str, default 'All'\n",
       "    Name of the row / column that will contain the totals\n",
       "    when margins is True.\n",
       "observed : bool, default False\n",
       "    This only applies if any of the groupers are Categoricals.\n",
       "    If True: only show observed values for categorical groupers.\n",
       "    If False: show all values for categorical groupers.\n",
       "\n",
       "    .. versionchanged:: 0.25.0\n",
       "\n",
       "Returns\n",
       "-------\n",
       "DataFrame\n",
       "    An Excel style pivot table.\n",
       "\n",
       "See Also\n",
       "--------\n",
       "DataFrame.pivot : Pivot without aggregation that can handle\n",
       "    non-numeric data.\n",
       "DataFrame.melt: Unpivot a DataFrame from wide to long format,\n",
       "    optionally leaving identifiers set.\n",
       "wide_to_long : Wide panel to long format. Less flexible but more\n",
       "    user-friendly than melt.\n",
       "\n",
       "Examples\n",
       "--------\n",
       ">>> df = pd.DataFrame({\"A\": [\"foo\", \"foo\", \"foo\", \"foo\", \"foo\",\n",
       "...                          \"bar\", \"bar\", \"bar\", \"bar\"],\n",
       "...                    \"B\": [\"one\", \"one\", \"one\", \"two\", \"two\",\n",
       "...                          \"one\", \"one\", \"two\", \"two\"],\n",
       "...                    \"C\": [\"small\", \"large\", \"large\", \"small\",\n",
       "...                          \"small\", \"large\", \"small\", \"small\",\n",
       "...                          \"large\"],\n",
       "...                    \"D\": [1, 2, 2, 3, 3, 4, 5, 6, 7],\n",
       "...                    \"E\": [2, 4, 5, 5, 6, 6, 8, 9, 9]})\n",
       ">>> df\n",
       "     A    B      C  D  E\n",
       "0  foo  one  small  1  2\n",
       "1  foo  one  large  2  4\n",
       "2  foo  one  large  2  5\n",
       "3  foo  two  small  3  5\n",
       "4  foo  two  small  3  6\n",
       "5  bar  one  large  4  6\n",
       "6  bar  one  small  5  8\n",
       "7  bar  two  small  6  9\n",
       "8  bar  two  large  7  9\n",
       "\n",
       "This first example aggregates values by taking the sum.\n",
       "\n",
       ">>> table = pd.pivot_table(df, values='D', index=['A', 'B'],\n",
       "...                     columns=['C'], aggfunc=np.sum)\n",
       ">>> table\n",
       "C        large  small\n",
       "A   B\n",
       "bar one    4.0    5.0\n",
       "    two    7.0    6.0\n",
       "foo one    4.0    1.0\n",
       "    two    NaN    6.0\n",
       "\n",
       "We can also fill missing values using the `fill_value` parameter.\n",
       "\n",
       ">>> table = pd.pivot_table(df, values='D', index=['A', 'B'],\n",
       "...                     columns=['C'], aggfunc=np.sum, fill_value=0)\n",
       ">>> table\n",
       "C        large  small\n",
       "A   B\n",
       "bar one      4      5\n",
       "    two      7      6\n",
       "foo one      4      1\n",
       "    two      0      6\n",
       "\n",
       "The next example aggregates by taking the mean across multiple columns.\n",
       "\n",
       ">>> table = pd.pivot_table(df, values=['D', 'E'], index=['A', 'C'],\n",
       "...                     aggfunc={'D': np.mean,\n",
       "...                              'E': np.mean})\n",
       ">>> table\n",
       "                D         E\n",
       "A   C\n",
       "bar large  5.500000  7.500000\n",
       "    small  5.500000  8.500000\n",
       "foo large  2.000000  4.500000\n",
       "    small  2.333333  4.333333\n",
       "\n",
       "We can also calculate multiple types of aggregations for any given\n",
       "value column.\n",
       "\n",
       ">>> table = pd.pivot_table(df, values=['D', 'E'], index=['A', 'C'],\n",
       "...                     aggfunc={'D': np.mean,\n",
       "...                              'E': [min, max, np.mean]})\n",
       ">>> table\n",
       "                D    E\n",
       "            mean  max      mean  min\n",
       "A   C\n",
       "bar large  5.500000  9.0  7.500000  6.0\n",
       "    small  5.500000  9.0  8.500000  8.0\n",
       "foo large  2.000000  5.0  4.500000  4.0\n",
       "    small  2.333333  6.0  4.333333  2.0\n",
       "\u001b[1;31mFile:\u001b[0m      c:\\users\\boram yun\\anaconda3\\envs\\multi\\lib\\site-packages\\pandas\\core\\reshape\\pivot.py\n",
       "\u001b[1;31mType:\u001b[0m      function\n"
      ]
     },
     "metadata": {},
     "output_type": "display_data"
    }
   ],
   "source": [
    "pd.pivot_table?"
   ]
  },
  {
   "cell_type": "code",
   "execution_count": 100,
   "id": "14539b9f-a529-416b-8f5d-98c42284a1fd",
   "metadata": {},
   "outputs": [
    {
     "data": {
      "text/html": [
       "<div>\n",
       "<style scoped>\n",
       "    .dataframe tbody tr th:only-of-type {\n",
       "        vertical-align: middle;\n",
       "    }\n",
       "\n",
       "    .dataframe tbody tr th {\n",
       "        vertical-align: top;\n",
       "    }\n",
       "\n",
       "    .dataframe thead tr th {\n",
       "        text-align: left;\n",
       "    }\n",
       "\n",
       "    .dataframe thead tr:last-of-type th {\n",
       "        text-align: right;\n",
       "    }\n",
       "</style>\n",
       "<table border=\"1\" class=\"dataframe\">\n",
       "  <thead>\n",
       "    <tr>\n",
       "      <th></th>\n",
       "      <th></th>\n",
       "      <th colspan=\"2\" halign=\"left\">Age</th>\n",
       "      <th colspan=\"2\" halign=\"left\">Drug</th>\n",
       "    </tr>\n",
       "    <tr>\n",
       "      <th></th>\n",
       "      <th>Cholesterol</th>\n",
       "      <th>HIGH</th>\n",
       "      <th>NORMAL</th>\n",
       "      <th>HIGH</th>\n",
       "      <th>NORMAL</th>\n",
       "    </tr>\n",
       "    <tr>\n",
       "      <th>Sex</th>\n",
       "      <th>BP</th>\n",
       "      <th></th>\n",
       "      <th></th>\n",
       "      <th></th>\n",
       "      <th></th>\n",
       "    </tr>\n",
       "  </thead>\n",
       "  <tbody>\n",
       "    <tr>\n",
       "      <th rowspan=\"3\" valign=\"top\">F</th>\n",
       "      <th>HIGH</th>\n",
       "      <td>41.941176</td>\n",
       "      <td>34.523810</td>\n",
       "      <td>17</td>\n",
       "      <td>21</td>\n",
       "    </tr>\n",
       "    <tr>\n",
       "      <th>LOW</th>\n",
       "      <td>46.785714</td>\n",
       "      <td>45.428571</td>\n",
       "      <td>14</td>\n",
       "      <td>14</td>\n",
       "    </tr>\n",
       "    <tr>\n",
       "      <th>NORMAL</th>\n",
       "      <td>45.166667</td>\n",
       "      <td>45.333333</td>\n",
       "      <td>18</td>\n",
       "      <td>12</td>\n",
       "    </tr>\n",
       "    <tr>\n",
       "      <th rowspan=\"3\" valign=\"top\">M</th>\n",
       "      <th>HIGH</th>\n",
       "      <td>50.666667</td>\n",
       "      <td>42.952381</td>\n",
       "      <td>18</td>\n",
       "      <td>21</td>\n",
       "    </tr>\n",
       "    <tr>\n",
       "      <th>LOW</th>\n",
       "      <td>47.235294</td>\n",
       "      <td>48.210526</td>\n",
       "      <td>17</td>\n",
       "      <td>19</td>\n",
       "    </tr>\n",
       "    <tr>\n",
       "      <th>NORMAL</th>\n",
       "      <td>41.105263</td>\n",
       "      <td>46.300000</td>\n",
       "      <td>19</td>\n",
       "      <td>10</td>\n",
       "    </tr>\n",
       "  </tbody>\n",
       "</table>\n",
       "</div>"
      ],
      "text/plain": [
       "                   Age            Drug       \n",
       "Cholesterol       HIGH     NORMAL HIGH NORMAL\n",
       "Sex BP                                       \n",
       "F   HIGH     41.941176  34.523810   17     21\n",
       "    LOW      46.785714  45.428571   14     14\n",
       "    NORMAL   45.166667  45.333333   18     12\n",
       "M   HIGH     50.666667  42.952381   18     21\n",
       "    LOW      47.235294  48.210526   17     19\n",
       "    NORMAL   41.105263  46.300000   19     10"
      ]
     },
     "execution_count": 100,
     "metadata": {},
     "output_type": "execute_result"
    }
   ],
   "source": [
    "Q1 = pd.pivot_table(index=['Sex', 'BP'], \n",
    "                    columns=['Cholesterol'], \n",
    "                    values=['Age', 'Drug'], data=dataset2,\n",
    "                    aggfunc={'Age':np.mean, 'Drug': 'count'}) # dict 형태 'mean', 'count'\n",
    "                    # normalize=True)\n",
    "Q1"
   ]
  },
  {
   "cell_type": "code",
   "execution_count": 94,
   "id": "31020d9f-7d36-43fb-ba07-eedb2417603d",
   "metadata": {},
   "outputs": [
    {
     "data": {
      "text/html": [
       "<div>\n",
       "<style scoped>\n",
       "    .dataframe tbody tr th:only-of-type {\n",
       "        vertical-align: middle;\n",
       "    }\n",
       "\n",
       "    .dataframe tbody tr th {\n",
       "        vertical-align: top;\n",
       "    }\n",
       "\n",
       "    .dataframe thead tr th {\n",
       "        text-align: left;\n",
       "    }\n",
       "\n",
       "    .dataframe thead tr:last-of-type th {\n",
       "        text-align: right;\n",
       "    }\n",
       "</style>\n",
       "<table border=\"1\" class=\"dataframe\">\n",
       "  <thead>\n",
       "    <tr>\n",
       "      <th></th>\n",
       "      <th></th>\n",
       "      <th colspan=\"2\" halign=\"left\">Drug</th>\n",
       "    </tr>\n",
       "    <tr>\n",
       "      <th></th>\n",
       "      <th>Cholesterol</th>\n",
       "      <th>HIGH</th>\n",
       "      <th>NORMAL</th>\n",
       "    </tr>\n",
       "    <tr>\n",
       "      <th>Sex</th>\n",
       "      <th>BP</th>\n",
       "      <th></th>\n",
       "      <th></th>\n",
       "    </tr>\n",
       "  </thead>\n",
       "  <tbody>\n",
       "    <tr>\n",
       "      <th rowspan=\"3\" valign=\"top\">F</th>\n",
       "      <th>HIGH</th>\n",
       "      <td>17</td>\n",
       "      <td>21</td>\n",
       "    </tr>\n",
       "    <tr>\n",
       "      <th>LOW</th>\n",
       "      <td>14</td>\n",
       "      <td>14</td>\n",
       "    </tr>\n",
       "    <tr>\n",
       "      <th>NORMAL</th>\n",
       "      <td>18</td>\n",
       "      <td>12</td>\n",
       "    </tr>\n",
       "    <tr>\n",
       "      <th rowspan=\"3\" valign=\"top\">M</th>\n",
       "      <th>HIGH</th>\n",
       "      <td>18</td>\n",
       "      <td>21</td>\n",
       "    </tr>\n",
       "    <tr>\n",
       "      <th>LOW</th>\n",
       "      <td>17</td>\n",
       "      <td>19</td>\n",
       "    </tr>\n",
       "    <tr>\n",
       "      <th>NORMAL</th>\n",
       "      <td>19</td>\n",
       "      <td>10</td>\n",
       "    </tr>\n",
       "  </tbody>\n",
       "</table>\n",
       "</div>"
      ],
      "text/plain": [
       "            Drug       \n",
       "Cholesterol HIGH NORMAL\n",
       "Sex BP                 \n",
       "F   HIGH      17     21\n",
       "    LOW       14     14\n",
       "    NORMAL    18     12\n",
       "M   HIGH      18     21\n",
       "    LOW       17     19\n",
       "    NORMAL    19     10"
      ]
     },
     "execution_count": 94,
     "metadata": {},
     "output_type": "execute_result"
    }
   ],
   "source": [
    "Q1 = pd.pivot_table(index=['Sex', 'BP'], \n",
    "                    columns=['Cholesterol'], \n",
    "                    values=['Drug'], \n",
    "                    data=dataset2,\n",
    "                    aggfunc='count')\n",
    "Q1"
   ]
  },
  {
   "cell_type": "code",
   "execution_count": 96,
   "id": "8672a2d4-60e6-471c-bfb2-48a3faa0ff93",
   "metadata": {},
   "outputs": [
    {
     "data": {
      "text/html": [
       "<div>\n",
       "<style scoped>\n",
       "    .dataframe tbody tr th:only-of-type {\n",
       "        vertical-align: middle;\n",
       "    }\n",
       "\n",
       "    .dataframe tbody tr th {\n",
       "        vertical-align: top;\n",
       "    }\n",
       "\n",
       "    .dataframe thead tr th {\n",
       "        text-align: left;\n",
       "    }\n",
       "\n",
       "    .dataframe thead tr:last-of-type th {\n",
       "        text-align: right;\n",
       "    }\n",
       "</style>\n",
       "<table border=\"1\" class=\"dataframe\">\n",
       "  <thead>\n",
       "    <tr>\n",
       "      <th></th>\n",
       "      <th></th>\n",
       "      <th colspan=\"2\" halign=\"left\">Drug</th>\n",
       "    </tr>\n",
       "    <tr>\n",
       "      <th></th>\n",
       "      <th>Cholesterol</th>\n",
       "      <th>HIGH</th>\n",
       "      <th>NORMAL</th>\n",
       "    </tr>\n",
       "    <tr>\n",
       "      <th>Sex</th>\n",
       "      <th>BP</th>\n",
       "      <th></th>\n",
       "      <th></th>\n",
       "    </tr>\n",
       "  </thead>\n",
       "  <tbody>\n",
       "    <tr>\n",
       "      <th rowspan=\"3\" valign=\"top\">F</th>\n",
       "      <th>HIGH</th>\n",
       "      <td>0.085</td>\n",
       "      <td>0.105</td>\n",
       "    </tr>\n",
       "    <tr>\n",
       "      <th>LOW</th>\n",
       "      <td>0.070</td>\n",
       "      <td>0.070</td>\n",
       "    </tr>\n",
       "    <tr>\n",
       "      <th>NORMAL</th>\n",
       "      <td>0.090</td>\n",
       "      <td>0.060</td>\n",
       "    </tr>\n",
       "    <tr>\n",
       "      <th rowspan=\"3\" valign=\"top\">M</th>\n",
       "      <th>HIGH</th>\n",
       "      <td>0.090</td>\n",
       "      <td>0.105</td>\n",
       "    </tr>\n",
       "    <tr>\n",
       "      <th>LOW</th>\n",
       "      <td>0.085</td>\n",
       "      <td>0.095</td>\n",
       "    </tr>\n",
       "    <tr>\n",
       "      <th>NORMAL</th>\n",
       "      <td>0.095</td>\n",
       "      <td>0.050</td>\n",
       "    </tr>\n",
       "  </tbody>\n",
       "</table>\n",
       "</div>"
      ],
      "text/plain": [
       "              Drug       \n",
       "Cholesterol   HIGH NORMAL\n",
       "Sex BP                   \n",
       "F   HIGH     0.085  0.105\n",
       "    LOW      0.070  0.070\n",
       "    NORMAL   0.090  0.060\n",
       "M   HIGH     0.090  0.105\n",
       "    LOW      0.085  0.095\n",
       "    NORMAL   0.095  0.050"
      ]
     },
     "execution_count": 96,
     "metadata": {},
     "output_type": "execute_result"
    }
   ],
   "source": [
    "Q1 = pd.pivot_table(index=['Sex', 'BP'], \n",
    "                    columns=['Cholesterol'], \n",
    "                    values=['Drug'], \n",
    "                    data=dataset2,\n",
    "                    aggfunc='count')/len(dataset2) # normalize 대신\n",
    "Q1"
   ]
  },
  {
   "cell_type": "markdown",
   "id": "fdb1c8d3-a33c-4daf-a8c3-295cba949116",
   "metadata": {},
   "source": [
    "## 2. Chi Square Test"
   ]
  },
  {
   "cell_type": "code",
   "execution_count": null,
   "id": "c74fd4a2-f7e5-4633-8970-bc804ebd3cf3",
   "metadata": {},
   "outputs": [],
   "source": [
    "# =============================================================================\n",
    "# 2. Age, Sex, BP, Cholesterol 및 Na_to_k 값이 Drug 타입에 영향을 미치는지 확인하기\n",
    "# 위하여 아래와 같이 데이터를 변환하고 분석을 수행하시오. \n",
    "# - Age_gr 컬럼을 만들고, Age가 20 미만은 ‘10’, 20부터 30 미만은 ‘20’, 30부터 40 미만은\n",
    "# ‘30’, 40부터 50 미만은 ‘40’, 50부터 60 미만은 ‘50’, 60이상은 ‘60’으로 변환하시오. \n",
    "# - Na_K_gr 컬럼을 만들고 Na_to_k 값이 10이하는 ‘Lv1’, 20이하는 ‘Lv2’, 30이하는 ‘Lv3’, 30 \n",
    "# 초과는 ‘Lv4’로 변환하시오.\n",
    "# - Sex, BP, Cholesterol, Age_gr, Na_K_gr이 Drug 변수와 영향이 있는지 독립성 검정을\n",
    "# 수행하시오.\n",
    "# - 검정 수행 결과, Drug 타입과 연관성이 있는 변수는 몇 개인가? 연관성이 있는 변수\n",
    "# 가운데 가장 큰 p-value를 찾아 소수점 여섯 번째 자리 이하는 버리고 소수점 다섯\n",
    "# 번째 자리까지 기술하시오.\n",
    "# (답안 예시) 3, 1.23456\n",
    "# ============================================================================="
   ]
  },
  {
   "cell_type": "markdown",
   "id": "ca3fa395-b59d-47f9-bfb8-1209412b7c3d",
   "metadata": {},
   "source": [
    "### 해설"
   ]
  },
  {
   "cell_type": "code",
   "execution_count": 101,
   "id": "a32d47c1-b53c-4849-ad58-4644976bdf07",
   "metadata": {},
   "outputs": [],
   "source": [
    "# Tip. 변수 생성 후 카이스퀘어 검정"
   ]
  },
  {
   "cell_type": "code",
   "execution_count": 102,
   "id": "1e94e292-6c69-400b-a284-8df38b02ba2f",
   "metadata": {},
   "outputs": [],
   "source": [
    "# 변수 변환\n",
    "import numpy as np\n",
    "# np.where\n",
    "# Series.cut()"
   ]
  },
  {
   "cell_type": "code",
   "execution_count": 103,
   "id": "e78c83a1-7b1a-4685-85ab-b510639b9176",
   "metadata": {},
   "outputs": [],
   "source": [
    "Q2 = dataset2.copy()"
   ]
  },
  {
   "cell_type": "code",
   "execution_count": 105,
   "id": "2a01923d-87de-4901-b63a-58df3234f503",
   "metadata": {},
   "outputs": [
    {
     "data": {
      "text/plain": [
       "0      20\n",
       "1      40\n",
       "2      40\n",
       "3      20\n",
       "4      60\n",
       "       ..\n",
       "195    50\n",
       "196    10\n",
       "197    50\n",
       "198    20\n",
       "199    40\n",
       "Name: Age_gr, Length: 200, dtype: object"
      ]
     },
     "execution_count": 105,
     "metadata": {},
     "output_type": "execute_result"
    }
   ],
   "source": [
    "# 연속선상에서는 np.where\n",
    "Q2['Age_gr'] = np.where(Q2.Age < 20, '10', \n",
    "                        np.where(Q2.Age < 30, '20', \n",
    "                                 np.where(Q2.Age < 40, '30', \n",
    "                                          np.where(Q2.Age < 50, '40', \n",
    "                                                   np.where(Q2.Age < 60, '50', '60')))))\n",
    "Q2['Age_gr']"
   ]
  },
  {
   "cell_type": "code",
   "execution_count": 106,
   "id": "93e71c4b-9af5-4b83-bfab-a5bca9581a45",
   "metadata": {},
   "outputs": [
    {
     "data": {
      "text/plain": [
       "0      20\n",
       "1      40\n",
       "2      40\n",
       "3      20\n",
       "4      60\n",
       "       ..\n",
       "195    50\n",
       "196    10\n",
       "197    50\n",
       "198    20\n",
       "199    40\n",
       "Name: Age, Length: 200, dtype: category\n",
       "Categories (6, object): ['10' < '20' < '30' < '40' < '50' < '60']"
      ]
     },
     "execution_count": 106,
     "metadata": {},
     "output_type": "execute_result"
    }
   ],
   "source": [
    "# pd.cut(x, bins, right=True, lavels=None, retbins=False,\n",
    "# precision=3, include_lowest=False, duplicates='raise', ordered=True)[source]\n",
    "# 최소 < x <=\n",
    "\n",
    "age_gr = pd.cut(Q2.Age, [0, 20, 30, 40, 50, 60, Q2.Age.max()+1], # [min, ..., max + 1] -> category\n",
    "                right = False, \n",
    "                labels=['10', '20', '30', '40', '50', '60']) \n",
    "age_gr"
   ]
  },
  {
   "cell_type": "code",
   "execution_count": 107,
   "id": "65352a03-33f8-4334-92a4-205ebeca6746",
   "metadata": {},
   "outputs": [
    {
     "data": {
      "text/plain": [
       "0      Lv3\n",
       "1      Lv2\n",
       "2      Lv2\n",
       "3      Lv1\n",
       "4      Lv2\n",
       "      ... \n",
       "195    Lv2\n",
       "196    Lv2\n",
       "197    Lv1\n",
       "198    Lv2\n",
       "199    Lv2\n",
       "Name: Na_k_gr, Length: 200, dtype: object"
      ]
     },
     "execution_count": 107,
     "metadata": {},
     "output_type": "execute_result"
    }
   ],
   "source": [
    "Q2['Na_k_gr'] = np.where(Q2['Na_to_K'] <= 10, 'Lv1',\n",
    "                        np.where(Q2['Na_to_K'] <= 20, 'Lv2',\n",
    "                                np.where(Q2['Na_to_K'] <= 30, 'Lv3', 'Lv4')))\n",
    "Q2['Na_k_gr']"
   ]
  },
  {
   "cell_type": "code",
   "execution_count": 108,
   "id": "c09fe243-d63b-49d5-aa65-ef40ed803fb3",
   "metadata": {},
   "outputs": [],
   "source": [
    "import scipy.stats as sc"
   ]
  },
  {
   "cell_type": "code",
   "execution_count": 109,
   "id": "7171fdcd-f9b2-4c62-9ff6-0fb1c8f0d73b",
   "metadata": {},
   "outputs": [
    {
     "data": {
      "text/plain": [
       "Index(['Age', 'Sex', 'BP', 'Cholesterol', 'Na_to_K', 'Drug', 'Age_gr',\n",
       "       'Na_k_gr'],\n",
       "      dtype='object')"
      ]
     },
     "execution_count": 109,
     "metadata": {},
     "output_type": "execute_result"
    }
   ],
   "source": [
    "Q2.columns"
   ]
  },
  {
   "cell_type": "code",
   "execution_count": 111,
   "id": "415062ff-5ea2-41a3-a1d5-fd9228fa92a4",
   "metadata": {},
   "outputs": [
    {
     "data": {
      "text/plain": [
       "(46.440652324723914,\n",
       " 0.0007010113024729462,\n",
       " 20,\n",
       " array([[ 5.46 ,  1.38 ,  0.96 ,  0.96 ,  3.24 ],\n",
       "        [15.925,  4.025,  2.8  ,  2.8  ,  9.45 ],\n",
       "        [16.835,  4.255,  2.96 ,  2.96 ,  9.99 ],\n",
       "        [17.29 ,  4.37 ,  3.04 ,  3.04 , 10.26 ],\n",
       "        [15.015,  3.795,  2.64 ,  2.64 ,  8.91 ],\n",
       "        [20.475,  5.175,  3.6  ,  3.6  , 12.15 ]]))"
      ]
     },
     "execution_count": 111,
     "metadata": {},
     "output_type": "execute_result"
    }
   ],
   "source": [
    "# 입력 값이 빈도 테이블로 들어가도록 변경\n",
    "# ['Age_gr', 'Sex', 'BP', 'Cholesterol', 'Na_k_gr',\n",
    "#  'Drug']\n",
    "\n",
    "Age_t = pd.crosstab(Q2.Age_gr, Q2.Drug)\n",
    "out_Age_t = sc.chi2_contingency(Age_t)\n",
    "out_Age_t"
   ]
  },
  {
   "cell_type": "code",
   "execution_count": 113,
   "id": "257b5277-00d0-4fa6-8c91-5b5b3b7057f1",
   "metadata": {
    "collapsed": true,
    "jupyter": {
     "outputs_hidden": true
    },
    "tags": []
   },
   "outputs": [
    {
     "data": {
      "text/plain": [
       "\u001b[1;31mSignature:\u001b[0m \u001b[0msc\u001b[0m\u001b[1;33m.\u001b[0m\u001b[0mchi2_contingency\u001b[0m\u001b[1;33m(\u001b[0m\u001b[0mobserved\u001b[0m\u001b[1;33m,\u001b[0m \u001b[0mcorrection\u001b[0m\u001b[1;33m=\u001b[0m\u001b[1;32mTrue\u001b[0m\u001b[1;33m,\u001b[0m \u001b[0mlambda_\u001b[0m\u001b[1;33m=\u001b[0m\u001b[1;32mNone\u001b[0m\u001b[1;33m)\u001b[0m\u001b[1;33m\u001b[0m\u001b[1;33m\u001b[0m\u001b[0m\n",
       "\u001b[1;31mDocstring:\u001b[0m\n",
       "Chi-square test of independence of variables in a contingency table.\n",
       "\n",
       "This function computes the chi-square statistic and p-value for the\n",
       "hypothesis test of independence of the observed frequencies in the\n",
       "contingency table [1]_ `observed`.  The expected frequencies are computed\n",
       "based on the marginal sums under the assumption of independence; see\n",
       "`scipy.stats.contingency.expected_freq`.  The number of degrees of\n",
       "freedom is (expressed using numpy functions and attributes)::\n",
       "\n",
       "    dof = observed.size - sum(observed.shape) + observed.ndim - 1\n",
       "\n",
       "\n",
       "Parameters\n",
       "----------\n",
       "observed : array_like\n",
       "    The contingency table. The table contains the observed frequencies\n",
       "    (i.e. number of occurrences) in each category.  In the two-dimensional\n",
       "    case, the table is often described as an \"R x C table\".\n",
       "correction : bool, optional\n",
       "    If True, *and* the degrees of freedom is 1, apply Yates' correction\n",
       "    for continuity.  The effect of the correction is to adjust each\n",
       "    observed value by 0.5 towards the corresponding expected value.\n",
       "lambda_ : float or str, optional.\n",
       "    By default, the statistic computed in this test is Pearson's\n",
       "    chi-squared statistic [2]_.  `lambda_` allows a statistic from the\n",
       "    Cressie-Read power divergence family [3]_ to be used instead.  See\n",
       "    `power_divergence` for details.\n",
       "\n",
       "Returns\n",
       "-------\n",
       "chi2 : float\n",
       "    The test statistic.\n",
       "p : float\n",
       "    The p-value of the test\n",
       "dof : int\n",
       "    Degrees of freedom\n",
       "expected : ndarray, same shape as `observed`\n",
       "    The expected frequencies, based on the marginal sums of the table.\n",
       "\n",
       "See Also\n",
       "--------\n",
       "contingency.expected_freq\n",
       "fisher_exact\n",
       "chisquare\n",
       "power_divergence\n",
       "\n",
       "Notes\n",
       "-----\n",
       "An often quoted guideline for the validity of this calculation is that\n",
       "the test should be used only if the observed and expected frequencies\n",
       "in each cell are at least 5.\n",
       "\n",
       "This is a test for the independence of different categories of a\n",
       "population. The test is only meaningful when the dimension of\n",
       "`observed` is two or more.  Applying the test to a one-dimensional\n",
       "table will always result in `expected` equal to `observed` and a\n",
       "chi-square statistic equal to 0.\n",
       "\n",
       "This function does not handle masked arrays, because the calculation\n",
       "does not make sense with missing values.\n",
       "\n",
       "Like stats.chisquare, this function computes a chi-square statistic;\n",
       "the convenience this function provides is to figure out the expected\n",
       "frequencies and degrees of freedom from the given contingency table.\n",
       "If these were already known, and if the Yates' correction was not\n",
       "required, one could use stats.chisquare.  That is, if one calls::\n",
       "\n",
       "    chi2, p, dof, ex = chi2_contingency(obs, correction=False)\n",
       "\n",
       "then the following is true::\n",
       "\n",
       "    (chi2, p) == stats.chisquare(obs.ravel(), f_exp=ex.ravel(),\n",
       "                                 ddof=obs.size - 1 - dof)\n",
       "\n",
       "The `lambda_` argument was added in version 0.13.0 of scipy.\n",
       "\n",
       "References\n",
       "----------\n",
       ".. [1] \"Contingency table\",\n",
       "       https://en.wikipedia.org/wiki/Contingency_table\n",
       ".. [2] \"Pearson's chi-squared test\",\n",
       "       https://en.wikipedia.org/wiki/Pearson%27s_chi-squared_test\n",
       ".. [3] Cressie, N. and Read, T. R. C., \"Multinomial Goodness-of-Fit\n",
       "       Tests\", J. Royal Stat. Soc. Series B, Vol. 46, No. 3 (1984),\n",
       "       pp. 440-464.\n",
       "\n",
       "Examples\n",
       "--------\n",
       "A two-way example (2 x 3):\n",
       "\n",
       ">>> from scipy.stats import chi2_contingency\n",
       ">>> obs = np.array([[10, 10, 20], [20, 20, 20]])\n",
       ">>> chi2_contingency(obs)\n",
       "(2.7777777777777777,\n",
       " 0.24935220877729619,\n",
       " 2,\n",
       " array([[ 12.,  12.,  16.],\n",
       "        [ 18.,  18.,  24.]]))\n",
       "\n",
       "Perform the test using the log-likelihood ratio (i.e. the \"G-test\")\n",
       "instead of Pearson's chi-squared statistic.\n",
       "\n",
       ">>> g, p, dof, expctd = chi2_contingency(obs, lambda_=\"log-likelihood\")\n",
       ">>> g, p\n",
       "(2.7688587616781319, 0.25046668010954165)\n",
       "\n",
       "A four-way example (2 x 2 x 2 x 2):\n",
       "\n",
       ">>> obs = np.array(\n",
       "...     [[[[12, 17],\n",
       "...        [11, 16]],\n",
       "...       [[11, 12],\n",
       "...        [15, 16]]],\n",
       "...      [[[23, 15],\n",
       "...        [30, 22]],\n",
       "...       [[14, 17],\n",
       "...        [15, 16]]]])\n",
       ">>> chi2_contingency(obs)\n",
       "(8.7584514426741897,\n",
       " 0.64417725029295503,\n",
       " 11,\n",
       " array([[[[ 14.15462386,  14.15462386],\n",
       "          [ 16.49423111,  16.49423111]],\n",
       "         [[ 11.2461395 ,  11.2461395 ],\n",
       "          [ 13.10500554,  13.10500554]]],\n",
       "        [[[ 19.5591166 ,  19.5591166 ],\n",
       "          [ 22.79202844,  22.79202844]],\n",
       "         [[ 15.54012004,  15.54012004],\n",
       "          [ 18.10873492,  18.10873492]]]]))\n",
       "\u001b[1;31mFile:\u001b[0m      c:\\users\\boram yun\\anaconda3\\envs\\multi\\lib\\site-packages\\scipy\\stats\\contingency.py\n",
       "\u001b[1;31mType:\u001b[0m      function\n"
      ]
     },
     "metadata": {},
     "output_type": "display_data"
    }
   ],
   "source": [
    "sc.chi2_contingency?"
   ]
  },
  {
   "cell_type": "code",
   "execution_count": 114,
   "id": "e795a91b-661a-46c6-898d-bc3f3d4c623d",
   "metadata": {},
   "outputs": [
    {
     "data": {
      "text/plain": [
       "0.0007010113024729462"
      ]
     },
     "execution_count": 114,
     "metadata": {},
     "output_type": "execute_result"
    }
   ],
   "source": [
    "# p-value\n",
    "out_Age_t[1]"
   ]
  },
  {
   "cell_type": "code",
   "execution_count": 117,
   "id": "a5fb3fb3-88f2-4a93-9dd3-c65a5690b243",
   "metadata": {},
   "outputs": [
    {
     "name": "stdout",
     "output_type": "stream",
     "text": [
      "Age_gr 0.0007010113024729462\n",
      "Sex 0.7138369773987128\n",
      "BP 5.0417334144665895e-27\n",
      "Cholesterol 0.0005962588389856497\n",
      "Na_k_gr 1.1254641594413981e-14\n"
     ]
    }
   ],
   "source": [
    "for i in ['Age_gr', 'Sex', 'BP', 'Cholesterol', 'Na_k_gr'] : \n",
    "    temp = pd.crosstab(Q2[i], Q2.Drug)\n",
    "    out_Age_t = sc.chi2_contingency(temp)\n",
    "    print(i, out_Age_t[1])"
   ]
  },
  {
   "cell_type": "code",
   "execution_count": 118,
   "id": "80126f31-58dc-453e-b69d-c1a660918bfe",
   "metadata": {},
   "outputs": [
    {
     "name": "stdout",
     "output_type": "stream",
     "text": [
      "Age_gr 0.0007010113024729462\n",
      "Sex 0.7138369773987128\n",
      "BP 5.0417334144665895e-27\n",
      "Cholesterol 0.0005962588389856497\n",
      "Na_k_gr 1.1254641594413981e-14\n"
     ]
    }
   ],
   "source": [
    "'''\n",
    "Q2_temp = []\n",
    "\n",
    "for i in ['Age_gr', 'Sex', 'BP', 'Cholesterol', 'Na_k_gr'] : \n",
    "    temp = pd.crosstab(Q2[i], Q2.Drug)\n",
    "    out_Age_t = sc.chi2_contingency(temp)\n",
    "    print(i, out_Age_t[1])\n",
    "    Q2_temp = Q2_temp + [i, out_Age_t[1]]\n",
    "'''"
   ]
  },
  {
   "cell_type": "code",
   "execution_count": 120,
   "id": "24767f22-5c9c-43e9-81da-3ee6ffdb33e1",
   "metadata": {},
   "outputs": [
    {
     "name": "stdout",
     "output_type": "stream",
     "text": [
      "Age_gr 0.0007010113024729462\n",
      "Sex 0.7138369773987128\n",
      "BP 5.0417334144665895e-27\n",
      "Cholesterol 0.0005962588389856497\n",
      "Na_k_gr 1.1254641594413981e-14\n"
     ]
    }
   ],
   "source": [
    "Q2_temp = []\n",
    "\n",
    "for i in ['Age_gr', 'Sex', 'BP', 'Cholesterol', 'Na_k_gr'] : \n",
    "    temp = pd.crosstab(Q2[i], Q2.Drug)\n",
    "    out_Age_t = sc.chi2_contingency(temp)\n",
    "    print(i, out_Age_t[1])\n",
    "    Q2_temp = Q2_temp + [[i, out_Age_t[1]]]\n",
    "    "
   ]
  },
  {
   "cell_type": "code",
   "execution_count": 121,
   "id": "385bc3e0-000a-488e-a925-82cf2f3ef49c",
   "metadata": {},
   "outputs": [
    {
     "data": {
      "text/plain": [
       "[['Age_gr', 0.0007010113024729462],\n",
       " ['Sex', 0.7138369773987128],\n",
       " ['BP', 5.0417334144665895e-27],\n",
       " ['Cholesterol', 0.0005962588389856497],\n",
       " ['Na_k_gr', 1.1254641594413981e-14]]"
      ]
     },
     "execution_count": 121,
     "metadata": {},
     "output_type": "execute_result"
    }
   ],
   "source": [
    "Q2_temp"
   ]
  },
  {
   "cell_type": "code",
   "execution_count": 122,
   "id": "376f24a1-caba-4b1d-a5a4-55efd410ed7b",
   "metadata": {},
   "outputs": [],
   "source": [
    "Q2_temp = pd.DataFrame(Q2_temp)"
   ]
  },
  {
   "cell_type": "code",
   "execution_count": 123,
   "id": "ad66a6d1-bb4b-4074-b0a7-d246628215cb",
   "metadata": {},
   "outputs": [
    {
     "data": {
      "text/html": [
       "<div>\n",
       "<style scoped>\n",
       "    .dataframe tbody tr th:only-of-type {\n",
       "        vertical-align: middle;\n",
       "    }\n",
       "\n",
       "    .dataframe tbody tr th {\n",
       "        vertical-align: top;\n",
       "    }\n",
       "\n",
       "    .dataframe thead th {\n",
       "        text-align: right;\n",
       "    }\n",
       "</style>\n",
       "<table border=\"1\" class=\"dataframe\">\n",
       "  <thead>\n",
       "    <tr style=\"text-align: right;\">\n",
       "      <th></th>\n",
       "      <th>0</th>\n",
       "      <th>1</th>\n",
       "    </tr>\n",
       "  </thead>\n",
       "  <tbody>\n",
       "    <tr>\n",
       "      <th>2</th>\n",
       "      <td>BP</td>\n",
       "      <td>5.041733e-27</td>\n",
       "    </tr>\n",
       "    <tr>\n",
       "      <th>4</th>\n",
       "      <td>Na_k_gr</td>\n",
       "      <td>1.125464e-14</td>\n",
       "    </tr>\n",
       "    <tr>\n",
       "      <th>3</th>\n",
       "      <td>Cholesterol</td>\n",
       "      <td>5.962588e-04</td>\n",
       "    </tr>\n",
       "    <tr>\n",
       "      <th>0</th>\n",
       "      <td>Age_gr</td>\n",
       "      <td>7.010113e-04</td>\n",
       "    </tr>\n",
       "    <tr>\n",
       "      <th>1</th>\n",
       "      <td>Sex</td>\n",
       "      <td>7.138370e-01</td>\n",
       "    </tr>\n",
       "  </tbody>\n",
       "</table>\n",
       "</div>"
      ],
      "text/plain": [
       "             0             1\n",
       "2           BP  5.041733e-27\n",
       "4      Na_k_gr  1.125464e-14\n",
       "3  Cholesterol  5.962588e-04\n",
       "0       Age_gr  7.010113e-04\n",
       "1          Sex  7.138370e-01"
      ]
     },
     "execution_count": 123,
     "metadata": {},
     "output_type": "execute_result"
    }
   ],
   "source": [
    "Q2_temp.sort_values(by=1)"
   ]
  },
  {
   "cell_type": "code",
   "execution_count": 130,
   "id": "7238ebb6-b091-4726-9b5a-5f4dfbc1c5b8",
   "metadata": {},
   "outputs": [
    {
     "data": {
      "text/html": [
       "<div>\n",
       "<style scoped>\n",
       "    .dataframe tbody tr th:only-of-type {\n",
       "        vertical-align: middle;\n",
       "    }\n",
       "\n",
       "    .dataframe tbody tr th {\n",
       "        vertical-align: top;\n",
       "    }\n",
       "\n",
       "    .dataframe thead th {\n",
       "        text-align: right;\n",
       "    }\n",
       "</style>\n",
       "<table border=\"1\" class=\"dataframe\">\n",
       "  <thead>\n",
       "    <tr style=\"text-align: right;\">\n",
       "      <th></th>\n",
       "      <th>0</th>\n",
       "      <th>1</th>\n",
       "    </tr>\n",
       "  </thead>\n",
       "  <tbody>\n",
       "    <tr>\n",
       "      <th>1</th>\n",
       "      <td>Sex</td>\n",
       "      <td>7.138370e-01</td>\n",
       "    </tr>\n",
       "    <tr>\n",
       "      <th>0</th>\n",
       "      <td>Age_gr</td>\n",
       "      <td>7.010113e-04</td>\n",
       "    </tr>\n",
       "    <tr>\n",
       "      <th>3</th>\n",
       "      <td>Cholesterol</td>\n",
       "      <td>5.962588e-04</td>\n",
       "    </tr>\n",
       "    <tr>\n",
       "      <th>4</th>\n",
       "      <td>Na_k_gr</td>\n",
       "      <td>1.125464e-14</td>\n",
       "    </tr>\n",
       "    <tr>\n",
       "      <th>2</th>\n",
       "      <td>BP</td>\n",
       "      <td>5.041733e-27</td>\n",
       "    </tr>\n",
       "  </tbody>\n",
       "</table>\n",
       "</div>"
      ],
      "text/plain": [
       "             0             1\n",
       "1          Sex  7.138370e-01\n",
       "0       Age_gr  7.010113e-04\n",
       "3  Cholesterol  5.962588e-04\n",
       "4      Na_k_gr  1.125464e-14\n",
       "2           BP  5.041733e-27"
      ]
     },
     "execution_count": 130,
     "metadata": {},
     "output_type": "execute_result"
    }
   ],
   "source": [
    "Q2_temp.sort_values(by=1, ascending=False)"
   ]
  },
  {
   "cell_type": "code",
   "execution_count": 128,
   "id": "2a9e21d4-436c-46b8-8096-4e55e148cd97",
   "metadata": {},
   "outputs": [
    {
     "data": {
      "text/plain": [
       "2    5.041733e-27\n",
       "4    1.125464e-14\n",
       "3    5.962588e-04\n",
       "0    7.010113e-04\n",
       "1    7.138370e-01\n",
       "Name: 1, dtype: float64"
      ]
     },
     "execution_count": 128,
     "metadata": {},
     "output_type": "execute_result"
    }
   ],
   "source": [
    "Q2_temp.sort_values(by=1)[1]"
   ]
  },
  {
   "cell_type": "code",
   "execution_count": 129,
   "id": "9f28f500-0dad-4259-9fe6-2f58d024ed12",
   "metadata": {},
   "outputs": [
    {
     "data": {
      "text/plain": [
       "0.7138369773987128"
      ]
     },
     "execution_count": 129,
     "metadata": {},
     "output_type": "execute_result"
    }
   ],
   "source": [
    "Q2_temp.sort_values(by=1)[1][1] # index명이 지정되어있음"
   ]
  },
  {
   "cell_type": "code",
   "execution_count": 131,
   "id": "1abd06da-d2ec-4a87-aed0-205f466bea9f",
   "metadata": {},
   "outputs": [],
   "source": [
    "Q2_temp.columns = ['var', 'pvalues']"
   ]
  },
  {
   "cell_type": "code",
   "execution_count": 132,
   "id": "07a09fbc-d8e1-44ee-a07a-a460f8f0176e",
   "metadata": {},
   "outputs": [
    {
     "data": {
      "text/plain": [
       "4"
      ]
     },
     "execution_count": 132,
     "metadata": {},
     "output_type": "execute_result"
    }
   ],
   "source": [
    "Q2_temp2 = Q2_temp[Q2_temp.pvalues < 0.05]\n",
    "len(Q2_temp2)"
   ]
  },
  {
   "cell_type": "code",
   "execution_count": 133,
   "id": "f38b0d54-5fda-43ed-8542-9ccf6c37bc66",
   "metadata": {},
   "outputs": [
    {
     "data": {
      "text/html": [
       "<div>\n",
       "<style scoped>\n",
       "    .dataframe tbody tr th:only-of-type {\n",
       "        vertical-align: middle;\n",
       "    }\n",
       "\n",
       "    .dataframe tbody tr th {\n",
       "        vertical-align: top;\n",
       "    }\n",
       "\n",
       "    .dataframe thead th {\n",
       "        text-align: right;\n",
       "    }\n",
       "</style>\n",
       "<table border=\"1\" class=\"dataframe\">\n",
       "  <thead>\n",
       "    <tr style=\"text-align: right;\">\n",
       "      <th></th>\n",
       "      <th>var</th>\n",
       "      <th>pvalues</th>\n",
       "    </tr>\n",
       "  </thead>\n",
       "  <tbody>\n",
       "    <tr>\n",
       "      <th>0</th>\n",
       "      <td>Age_gr</td>\n",
       "      <td>7.010113e-04</td>\n",
       "    </tr>\n",
       "    <tr>\n",
       "      <th>2</th>\n",
       "      <td>BP</td>\n",
       "      <td>5.041733e-27</td>\n",
       "    </tr>\n",
       "    <tr>\n",
       "      <th>3</th>\n",
       "      <td>Cholesterol</td>\n",
       "      <td>5.962588e-04</td>\n",
       "    </tr>\n",
       "    <tr>\n",
       "      <th>4</th>\n",
       "      <td>Na_k_gr</td>\n",
       "      <td>1.125464e-14</td>\n",
       "    </tr>\n",
       "  </tbody>\n",
       "</table>\n",
       "</div>"
      ],
      "text/plain": [
       "           var       pvalues\n",
       "0       Age_gr  7.010113e-04\n",
       "2           BP  5.041733e-27\n",
       "3  Cholesterol  5.962588e-04\n",
       "4      Na_k_gr  1.125464e-14"
      ]
     },
     "execution_count": 133,
     "metadata": {},
     "output_type": "execute_result"
    }
   ],
   "source": [
    "Q2_temp2"
   ]
  },
  {
   "cell_type": "code",
   "execution_count": 134,
   "id": "9b7ebd98-366a-4138-a1d4-ebd2b5444dd5",
   "metadata": {},
   "outputs": [
    {
     "data": {
      "text/html": [
       "<div>\n",
       "<style scoped>\n",
       "    .dataframe tbody tr th:only-of-type {\n",
       "        vertical-align: middle;\n",
       "    }\n",
       "\n",
       "    .dataframe tbody tr th {\n",
       "        vertical-align: top;\n",
       "    }\n",
       "\n",
       "    .dataframe thead th {\n",
       "        text-align: right;\n",
       "    }\n",
       "</style>\n",
       "<table border=\"1\" class=\"dataframe\">\n",
       "  <thead>\n",
       "    <tr style=\"text-align: right;\">\n",
       "      <th></th>\n",
       "      <th>var</th>\n",
       "      <th>pvalues</th>\n",
       "    </tr>\n",
       "  </thead>\n",
       "  <tbody>\n",
       "    <tr>\n",
       "      <th>0</th>\n",
       "      <td>Age_gr</td>\n",
       "      <td>0.000701</td>\n",
       "    </tr>\n",
       "  </tbody>\n",
       "</table>\n",
       "</div>"
      ],
      "text/plain": [
       "      var   pvalues\n",
       "0  Age_gr  0.000701"
      ]
     },
     "execution_count": 134,
     "metadata": {},
     "output_type": "execute_result"
    }
   ],
   "source": [
    "Q2_temp2.sort_values(by='pvalues').tail(1)"
   ]
  },
  {
   "cell_type": "code",
   "execution_count": null,
   "id": "01cb0ad3-51b6-4ac9-94a6-4fda541ce002",
   "metadata": {},
   "outputs": [],
   "source": [
    "# (정답) 4, Age_gr\t0.000701"
   ]
  },
  {
   "cell_type": "markdown",
   "id": "d588cf16-fef7-43ab-b6be-add26b936f43",
   "metadata": {},
   "source": [
    "## 3. Decision Tree"
   ]
  },
  {
   "cell_type": "code",
   "execution_count": null,
   "id": "311f5737-6585-46e5-90d4-f54f05d69f59",
   "metadata": {},
   "outputs": [],
   "source": [
    "# =============================================================================\n",
    "# 3.Sex, BP, Cholesterol 등 세 개의 변수를 다음과 같이 변환하고 의사결정나무를 이용한\n",
    "# 분석을 수행하시오.\n",
    "# - Sex는 M을 0, F를 1로 변환하여 Sex_cd 변수 생성\n",
    "# - BP는 LOW는 0, NORMAL은 1 그리고 HIGH는 2로 변환하여 BP_cd 변수 생성\n",
    "# - Cholesterol은 NORMAL은 0, HIGH는 1로 변환하여 Ch_cd 생성\n",
    "# - Age, Na_to_k, Sex_cd, BP_cd, Ch_cd를 Feature로, Drug을 Label로 하여 의사결정나무를\n",
    "# 수행하고 Root Node의 split feature와 split value를 기술하시오. \n",
    "# 이 때 split value는 소수점 셋째 자리까지 반올림하여 기술하시오. (답안 예시) Age, \n",
    "# 12.345\n",
    "# ============================================================================="
   ]
  },
  {
   "cell_type": "markdown",
   "id": "bcc2c518-b951-481b-96d8-82cb7d9937fb",
   "metadata": {},
   "source": [
    "### 해설"
   ]
  },
  {
   "cell_type": "code",
   "execution_count": 135,
   "id": "f7d582ec-3265-48d2-9e15-05ec9e65b525",
   "metadata": {},
   "outputs": [],
   "source": [
    "import numpy as np # np.where\n",
    "from sklearn.tree import DecisionTreeClassifier, plot_tree, export_text # 모델 안 내용 text"
   ]
  },
  {
   "cell_type": "code",
   "execution_count": 136,
   "id": "c1ed1aa7-8905-437a-8cfb-b50215318233",
   "metadata": {},
   "outputs": [],
   "source": [
    "Q3 = dataset2.copy()"
   ]
  },
  {
   "cell_type": "code",
   "execution_count": 142,
   "id": "03b8be29-7917-4654-8ba0-c56e0709e35f",
   "metadata": {},
   "outputs": [
    {
     "data": {
      "text/plain": [
       "0      1\n",
       "1      0\n",
       "2      0\n",
       "3      1\n",
       "4      1\n",
       "      ..\n",
       "195    1\n",
       "196    0\n",
       "197    0\n",
       "198    0\n",
       "199    1\n",
       "Name: Sex_cd, Length: 200, dtype: int32"
      ]
     },
     "execution_count": 142,
     "metadata": {},
     "output_type": "execute_result"
    }
   ],
   "source": [
    "# - Sex는 M을 0, F를 1로 변환하여 Sex_cd 변수 생성\n",
    "Q3['Sex_cd'] = np.where(Q3.Sex == 'M', 0, 1)\n",
    "Q3['Sex_cd']"
   ]
  },
  {
   "cell_type": "code",
   "execution_count": 143,
   "id": "f9077405-2efc-47a7-b755-6a372fd324d0",
   "metadata": {},
   "outputs": [
    {
     "data": {
      "text/plain": [
       "0    104\n",
       "1     96\n",
       "Name: Sex_cd, dtype: int64"
      ]
     },
     "execution_count": 143,
     "metadata": {},
     "output_type": "execute_result"
    }
   ],
   "source": [
    "Q3['Sex_cd'].value_counts()"
   ]
  },
  {
   "cell_type": "code",
   "execution_count": 144,
   "id": "7abd1486-fe4f-4e00-ade1-081643d0d1df",
   "metadata": {},
   "outputs": [
    {
     "data": {
      "text/plain": [
       "0      2\n",
       "1      0\n",
       "2      0\n",
       "3      1\n",
       "4      0\n",
       "      ..\n",
       "195    0\n",
       "196    0\n",
       "197    1\n",
       "198    1\n",
       "199    0\n",
       "Name: BP_cd, Length: 200, dtype: int32"
      ]
     },
     "execution_count": 144,
     "metadata": {},
     "output_type": "execute_result"
    }
   ],
   "source": [
    "# - BP는 LOW는 0, NORMAL은 1 그리고 HIGH는 2로 변환하여 BP_cd 변수 생성\n",
    "Q3['BP_cd'] = np.where(Q3.BP == 'LOW', 0, \n",
    "                 np.where(Q3.BP == 'NORMAL', 1, 2))\n",
    "Q3['BP_cd']"
   ]
  },
  {
   "cell_type": "code",
   "execution_count": 146,
   "id": "fa26a381-95eb-47de-946a-28e6b2036c5f",
   "metadata": {},
   "outputs": [
    {
     "data": {
      "text/plain": [
       "0      1\n",
       "1      1\n",
       "2      1\n",
       "3      1\n",
       "4      1\n",
       "      ..\n",
       "195    1\n",
       "196    1\n",
       "197    1\n",
       "198    0\n",
       "199    0\n",
       "Name: Ch_cd, Length: 200, dtype: int32"
      ]
     },
     "execution_count": 146,
     "metadata": {},
     "output_type": "execute_result"
    }
   ],
   "source": [
    "# - Cholesterol은 NORMAL은 0, HIGH는 1로 변환하여 Ch_cd 생성\n",
    "Q3['Ch_cd'] = np.where(Q3.Cholesterol == 'NORMAL', 0, 1)\n",
    "Q3['Ch_cd']"
   ]
  },
  {
   "cell_type": "code",
   "execution_count": 148,
   "id": "e684c64f-9134-47f3-b906-0df950684cdf",
   "metadata": {},
   "outputs": [],
   "source": [
    "x_var = ['Age', 'Na_to_K', 'Sex_cd', 'BP_cd', 'Ch_cd']"
   ]
  },
  {
   "cell_type": "code",
   "execution_count": 150,
   "id": "f5bcc9c2-dfd9-4d00-b3fa-f4f676efd3bf",
   "metadata": {},
   "outputs": [],
   "source": [
    "dt = DecisionTreeClassifier().fit(Q3[x_var], Q3.Drug)"
   ]
  },
  {
   "cell_type": "code",
   "execution_count": 151,
   "id": "759d2bba-2708-4086-8157-d5a2a8d22ee5",
   "metadata": {},
   "outputs": [
    {
     "data": {
      "text/plain": [
       "[Text(223.20000000000002, 195.696, 'Na_to_K <= 14.829\\ngini = 0.694\\nsamples = 200\\nvalue = [91, 23, 16, 16, 54]\\nclass = DrugY'),\n",
       " Text(186.0, 152.208, 'BP_cd <= 1.5\\ngini = 0.667\\nsamples = 109\\nvalue = [0, 23, 16, 16, 54]\\nclass = drugB'),\n",
       " Text(111.60000000000001, 108.72, 'BP_cd <= 0.5\\ngini = 0.353\\nsamples = 70\\nvalue = [0, 0, 0, 16, 54]\\nclass = drugB'),\n",
       " Text(74.4, 65.232, 'Ch_cd <= 0.5\\ngini = 0.498\\nsamples = 34\\nvalue = [0, 0, 0, 16, 18]\\nclass = drugB'),\n",
       " Text(37.2, 21.744, 'gini = 0.0\\nsamples = 18\\nvalue = [0, 0, 0, 0, 18]\\nclass = drugB'),\n",
       " Text(111.60000000000001, 21.744, 'gini = 0.0\\nsamples = 16\\nvalue = [0, 0, 0, 16, 0]\\nclass = drugA'),\n",
       " Text(148.8, 65.232, 'gini = 0.0\\nsamples = 36\\nvalue = [0, 0, 0, 0, 36]\\nclass = drugB'),\n",
       " Text(260.40000000000003, 108.72, 'Age <= 50.5\\ngini = 0.484\\nsamples = 39\\nvalue = [0, 23, 16, 0, 0]\\nclass = drugC'),\n",
       " Text(223.20000000000002, 65.232, 'gini = 0.0\\nsamples = 23\\nvalue = [0, 23, 0, 0, 0]\\nclass = drugC'),\n",
       " Text(297.6, 65.232, 'gini = 0.0\\nsamples = 16\\nvalue = [0, 0, 16, 0, 0]\\nclass = drugX'),\n",
       " Text(260.40000000000003, 152.208, 'gini = 0.0\\nsamples = 91\\nvalue = [91, 0, 0, 0, 0]\\nclass = DrugY')]"
      ]
     },
     "execution_count": 151,
     "metadata": {},
     "output_type": "execute_result"
    },
    {
     "data": {
      "image/png": "[encoded data removed]",
      "text/plain": [
       "<Figure size 432x288 with 1 Axes>"
      ]
     },
     "metadata": {
      "needs_background": "light"
     },
     "output_type": "display_data"
    }
   ],
   "source": [
    "plot_tree(dt, feature_names=x_var, class_names=Q3.Drug.unique())"
   ]
  },
  {
   "cell_type": "code",
   "execution_count": 152,
   "id": "48e93513-4034-4067-b5c6-e2981e946dda",
   "metadata": {},
   "outputs": [
    {
     "data": {
      "text/plain": [
       "'|--- feature_1 <= 14.83\\n|   |--- feature_3 <= 1.50\\n|   |   |--- feature_3 <= 0.50\\n|   |   |   |--- feature_4 <= 0.50\\n|   |   |   |   |--- class: drugX\\n|   |   |   |--- feature_4 >  0.50\\n|   |   |   |   |--- class: drugC\\n|   |   |--- feature_3 >  0.50\\n|   |   |   |--- class: drugX\\n|   |--- feature_3 >  1.50\\n|   |   |--- feature_0 <= 50.50\\n|   |   |   |--- class: drugA\\n|   |   |--- feature_0 >  50.50\\n|   |   |   |--- class: drugB\\n|--- feature_1 >  14.83\\n|   |--- class: DrugY\\n'"
      ]
     },
     "execution_count": 152,
     "metadata": {},
     "output_type": "execute_result"
    }
   ],
   "source": [
    "# export_text(dt)"
   ]
  },
  {
   "cell_type": "code",
   "execution_count": 153,
   "id": "dfadab9a-82b3-4083-8596-ae4c8e09e186",
   "metadata": {},
   "outputs": [
    {
     "data": {
      "text/plain": [
       "'|--- Na_to_K <= 14.83\\n|   |--- BP_cd <= 1.50\\n|   |   |--- BP_cd <= 0.50\\n|   |   |   |--- Ch_cd <= 0.50\\n|   |   |   |   |--- class: drugX\\n|   |   |   |--- Ch_cd >  0.50\\n|   |   |   |   |--- class: drugC\\n|   |   |--- BP_cd >  0.50\\n|   |   |   |--- class: drugX\\n|   |--- BP_cd >  1.50\\n|   |   |--- Age <= 50.50\\n|   |   |   |--- class: drugA\\n|   |   |--- Age >  50.50\\n|   |   |   |--- class: drugB\\n|--- Na_to_K >  14.83\\n|   |--- class: DrugY\\n'"
      ]
     },
     "execution_count": 153,
     "metadata": {},
     "output_type": "execute_result"
    }
   ],
   "source": [
    "export_text(dt, feature_names=x_var)"
   ]
  },
  {
   "cell_type": "code",
   "execution_count": 154,
   "id": "626402b4-92d2-425d-8342-bd7952b23cab",
   "metadata": {},
   "outputs": [
    {
     "data": {
      "text/plain": [
       "'|--- Na_to_K <= 14.829\\n|   |--- BP_cd <= 1.500\\n|   |   |--- BP_cd <= 0.500\\n|   |   |   |--- Ch_cd <= 0.500\\n|   |   |   |   |--- class: drugX\\n|   |   |   |--- Ch_cd >  0.500\\n|   |   |   |   |--- class: drugC\\n|   |   |--- BP_cd >  0.500\\n|   |   |   |--- class: drugX\\n|   |--- BP_cd >  1.500\\n|   |   |--- Age <= 50.500\\n|   |   |   |--- class: drugA\\n|   |   |--- Age >  50.500\\n|   |   |   |--- class: drugB\\n|--- Na_to_K >  14.829\\n|   |--- class: DrugY\\n'"
      ]
     },
     "execution_count": 154,
     "metadata": {},
     "output_type": "execute_result"
    }
   ],
   "source": [
    "export_text(dt, feature_names=x_var, decimals=3)"
   ]
  },
  {
   "cell_type": "code",
   "execution_count": null,
   "id": "5d5f44ef-d89b-4c7f-a973-c499675dc64d",
   "metadata": {},
   "outputs": [],
   "source": [
    "# (정답) Na_to_K , 14.829"
   ]
  },
  {
   "cell_type": "markdown",
   "id": "0de7415e-80e2-4a09-ae28-2919596d6f61",
   "metadata": {},
   "source": [
    "# Dataset_03"
   ]
  },
  {
   "cell_type": "code",
   "execution_count": null,
   "id": "edaec67b-f160-4177-b1a0-fec7fa0d26f6",
   "metadata": {},
   "outputs": [],
   "source": [
    "# =============================================================================\n",
    "# =============================================================================\n",
    "# # 문제 03 유형(DataSet_03.csv 이용)\n",
    "# \n",
    "# 구분자 : comma(“,”), 5,001 Rows, 8 Columns, UTF-8 인코딩\n",
    "# 안경 체인을 운영하고 있는 한 회사에서 고객 사진을 바탕으로 안경의 사이즈를\n",
    "# 맞춤 제작하는 비즈니스를 기획하고 있다. 우선 데이터만으로 고객의 성별을\n",
    "# 파악하는 것이 가능할 지를 연구하고자 한다.\n",
    "#\n",
    "# 컬 럼 / 정 의 / Type\n",
    "# long_hair / 머리카락 길이 (0 – 길지 않은 경우 / 1 – 긴\n",
    "# 경우) / Integer\n",
    "# forehead_width_cm / 이마의 폭 (cm) / Double\n",
    "# forehead_height_cm / 이마의 높이 (cm) / Double\n",
    "# nose_wide / 코의 넓이 (0 – 넓지 않은 경우 / 1 – 넓은 경우) / Integer\n",
    "# nose_long / 코의 길이 (0 – 길지 않은 경우 / 1 – 긴 경우) / Integer\n",
    "# lips_thin / 입술이 얇은지 여부 0 – 얇지 않은 경우 / 1 –\n",
    "# 얇은 경우) / Integer\n",
    "# distance_nose_to_lip_long / 인중의 길이(0 – 인중이 짧은 경우 / 1 – 인중이\n",
    "# 긴 경우) / Integer\n",
    "# gender / 성별 (Female / Male) / String\n",
    "# =============================================================================\n",
    "# ============================================================================="
   ]
  },
  {
   "cell_type": "markdown",
   "id": "5047fefc-03a9-4944-a39e-5ae3f0c9b946",
   "metadata": {},
   "source": [
    "## 1. Outlier"
   ]
  },
  {
   "cell_type": "code",
   "execution_count": null,
   "id": "2727f3d6-6a6f-4d72-bb8b-cff3df86e029",
   "metadata": {},
   "outputs": [],
   "source": [
    "# =============================================================================\n",
    "# 1.이마의 폭(forehead_width_cm)과 높이(forehead_height_cm) 사이의\n",
    "# 비율(forehead_ratio)에 대해서 평균으로부터 3 표준편차 밖의 경우를 이상치로\n",
    "# 정의할 때, 이상치에 해당하는 데이터는 몇 개인가? (답안 예시) 10\n",
    "# ============================================================================="
   ]
  },
  {
   "cell_type": "code",
   "execution_count": null,
   "id": "92f63d15-d996-4926-95d6-d56e00325e4c",
   "metadata": {},
   "outputs": [],
   "source": [
    "import pandas as pd"
   ]
  },
  {
   "cell_type": "code",
   "execution_count": 161,
   "id": "b5614010-5d43-4385-a0fc-54398fec4c06",
   "metadata": {},
   "outputs": [],
   "source": [
    "dataset3 = pd.read_csv('Dataset/Dataset_03.csv')"
   ]
  },
  {
   "cell_type": "code",
   "execution_count": 163,
   "id": "215dc76e-43a0-49eb-9cbf-92969d0529cb",
   "metadata": {},
   "outputs": [
    {
     "data": {
      "text/plain": [
       "Index(['long_hair', 'forehead_width_cm', 'forehead_height_cm', 'nose_wide',\n",
       "       'nose_long', 'lips_thin', 'distance_nose_to_lip_long', 'gender'],\n",
       "      dtype='object')"
      ]
     },
     "execution_count": 163,
     "metadata": {},
     "output_type": "execute_result"
    }
   ],
   "source": [
    "dataset3.columns"
   ]
  },
  {
   "cell_type": "code",
   "execution_count": 165,
   "id": "81a23d42-ae84-4e55-94b2-1210ff00aea1",
   "metadata": {},
   "outputs": [
    {
     "data": {
      "text/plain": [
       "long_hair                      int64\n",
       "forehead_width_cm            float64\n",
       "forehead_height_cm           float64\n",
       "nose_wide                      int64\n",
       "nose_long                      int64\n",
       "lips_thin                      int64\n",
       "distance_nose_to_lip_long      int64\n",
       "gender                        object\n",
       "dtype: object"
      ]
     },
     "execution_count": 165,
     "metadata": {},
     "output_type": "execute_result"
    }
   ],
   "source": [
    "dataset3.dtypes"
   ]
  },
  {
   "cell_type": "code",
   "execution_count": 166,
   "id": "6a0b8a31-fbfe-4bd9-b9b9-7ba0e4180b9d",
   "metadata": {},
   "outputs": [
    {
     "data": {
      "text/plain": [
       "(5001, 8)"
      ]
     },
     "execution_count": 166,
     "metadata": {},
     "output_type": "execute_result"
    }
   ],
   "source": [
    "dataset3.shape"
   ]
  },
  {
   "cell_type": "code",
   "execution_count": 174,
   "id": "c391d8aa-24ee-4a5e-92be-ce09c9e712b6",
   "metadata": {},
   "outputs": [],
   "source": [
    "Q1 = dataset3.copy()"
   ]
  },
  {
   "cell_type": "code",
   "execution_count": 172,
   "id": "db83df96-63b2-4813-8b11-8aed7eab60c6",
   "metadata": {},
   "outputs": [
    {
     "name": "stderr",
     "output_type": "stream",
     "text": [
      "C:\\Users\\Boram Yun\\anaconda3\\envs\\multi\\lib\\site-packages\\ipykernel_launcher.py:1: UserWarning: Pandas doesn't allow columns to be created via a new attribute name - see https://pandas.pydata.org/pandas-docs/stable/indexing.html#attribute-access\n",
      "  \"\"\"Entry point for launching an IPython kernel.\n"
     ]
    },
    {
     "data": {
      "text/plain": [
       "0       1.934426\n",
       "1       2.592593\n",
       "2       1.873016\n",
       "3       2.360656\n",
       "4       2.288136\n",
       "          ...   \n",
       "4996    2.666667\n",
       "4997    2.203704\n",
       "4998    2.263158\n",
       "4999    2.129032\n",
       "5000    2.851852\n",
       "Length: 5001, dtype: float64"
      ]
     },
     "execution_count": 172,
     "metadata": {},
     "output_type": "execute_result"
    }
   ],
   "source": [
    "# Q1.forehead_ratio = Q1.forehead_width_cm/Q1.forehead_height_cm\n",
    "# Q1.forehead_ratio"
   ]
  },
  {
   "cell_type": "markdown",
   "id": "a1ac7611-ee0f-403d-b609-f7f65a18d8ad",
   "metadata": {},
   "source": [
    "### 해설"
   ]
  },
  {
   "cell_type": "code",
   "execution_count": null,
   "id": "bc369d66-8e57-4f7b-8a66-d4a4762b24b4",
   "metadata": {},
   "outputs": [],
   "source": [
    "# 변수 생성(forehead_ratio)\n",
    "# 생성된 변수 기준으로 평균과 표준편차 계산\n",
    "# 평균 - 3*표준편차(LL), 평균 + 3*표준편차(UU) : 벗어난 이상치"
   ]
  },
  {
   "cell_type": "code",
   "execution_count": null,
   "id": "15126006-d734-4d4f-bcf3-ef3ef7487660",
   "metadata": {},
   "outputs": [],
   "source": [
    "forehead_ratio = forehead_width_cm/forehead_height_cm"
   ]
  },
  {
   "cell_type": "code",
   "execution_count": 175,
   "id": "80a69d36-d304-4044-b25c-55835eacd696",
   "metadata": {},
   "outputs": [
    {
     "data": {
      "text/plain": [
       "0       1.934426\n",
       "1       2.592593\n",
       "2       1.873016\n",
       "3       2.360656\n",
       "4       2.288136\n",
       "          ...   \n",
       "4996    2.666667\n",
       "4997    2.203704\n",
       "4998    2.263158\n",
       "4999    2.129032\n",
       "5000    2.851852\n",
       "Name: forehead_ratio, Length: 5001, dtype: float64"
      ]
     },
     "execution_count": 175,
     "metadata": {},
     "output_type": "execute_result"
    }
   ],
   "source": [
    "Q1['forehead_ratio'] = Q1['forehead_width_cm'] / Q1['forehead_height_cm']\n",
    "Q1['forehead_ratio']"
   ]
  },
  {
   "cell_type": "code",
   "execution_count": 176,
   "id": "4e188eef-4464-448e-931d-c7977285a33e",
   "metadata": {},
   "outputs": [],
   "source": [
    "m1 = Q1['forehead_ratio'].mean()\n",
    "sd1 = Q1['forehead_ratio'].std()"
   ]
  },
  {
   "cell_type": "code",
   "execution_count": 177,
   "id": "fa285d36-9447-4e47-aa0b-d7d71a8c5559",
   "metadata": {},
   "outputs": [],
   "source": [
    "LL = m1 - (3*sd1)\n",
    "UU = m1 + (3*sd1)"
   ]
  },
  {
   "cell_type": "code",
   "execution_count": 178,
   "id": "e7eced1c-f33d-4a03-9a85-2de292503939",
   "metadata": {},
   "outputs": [
    {
     "data": {
      "text/plain": [
       "3"
      ]
     },
     "execution_count": 178,
     "metadata": {},
     "output_type": "execute_result"
    }
   ],
   "source": [
    "Q1_out = Q1[(Q1['forehead_ratio'] < LL) | (Q1['forehead_ratio'] > UU)]\n",
    "len(Q1_out)"
   ]
  },
  {
   "cell_type": "code",
   "execution_count": null,
   "id": "84e21616-37f1-4189-bf06-2f430dc15d66",
   "metadata": {},
   "outputs": [],
   "source": [
    "# (정답) 3"
   ]
  },
  {
   "cell_type": "markdown",
   "id": "eb94f1b4-6489-4427-a72e-fe2f0968df13",
   "metadata": {},
   "source": [
    "## 2. t-test"
   ]
  },
  {
   "cell_type": "code",
   "execution_count": null,
   "id": "4590f74a-ecff-4351-8cb7-a2b73af1c35c",
   "metadata": {},
   "outputs": [],
   "source": [
    "# =============================================================================\n",
    "# 2.성별에 따라 forehead_ratio 평균에 차이가 있는지 적절한 통계 검정을 수행하시오.\n",
    "# - 검정은 이분산을 가정하고 수행한다.\n",
    "# - 검정통계량의 추정치는 절대값을 취한 후 소수점 셋째 자리까지 반올림하여\n",
    "# 기술하시오.\n",
    "# - 신뢰수준 99%에서 양측 검정을 수행하고 결과는 귀무가설 기각의 경우 Y로, 그렇지\n",
    "# 않을 경우 N으로 답하시오. (답안 예시) 1.234, Y\n",
    "# ============================================================================="
   ]
  },
  {
   "cell_type": "code",
   "execution_count": null,
   "id": "ae0b841c-b25e-4697-a937-47f4bf41ee04",
   "metadata": {},
   "outputs": [],
   "source": [
    "# 버전 차이 conf_level=0.99 현재 미지원"
   ]
  },
  {
   "cell_type": "markdown",
   "id": "2ad3747f-e3e8-412b-a679-fc21294f14ac",
   "metadata": {},
   "source": [
    "### 해설"
   ]
  },
  {
   "cell_type": "code",
   "execution_count": null,
   "id": "43dff5c8-0389-411a-882d-fde1719ae681",
   "metadata": {},
   "outputs": [],
   "source": [
    "# 반복 측정 - 동일한 환경에서 측정\n",
    "# 개인차\n",
    "\n",
    "# 독립 / 대응 \n",
    "# 독립 - 평균과 분산을 고려 (등분산, 이분산 고려)\n",
    "# 대응 - 분산을 고려하지 않음 (쌍으로, 대응이 되도록)"
   ]
  },
  {
   "cell_type": "code",
   "execution_count": null,
   "id": "ad981598-a4ed-4e77-b482-4121624fbdfd",
   "metadata": {},
   "outputs": [],
   "source": [
    "# 독립인 두 집단 간의 평균 차이 검정"
   ]
  },
  {
   "cell_type": "code",
   "execution_count": 179,
   "id": "ffc60e2b-484e-466b-ae1a-46e8fca7eace",
   "metadata": {},
   "outputs": [],
   "source": [
    "from scipy.stats import ttest_1samp, ttest_ind, ttest_rel\n",
    "# 독립 1표본, 독립 2표본, 대응"
   ]
  },
  {
   "cell_type": "code",
   "execution_count": 181,
   "id": "2ac42330-9245-4508-907f-410a4e9feb0d",
   "metadata": {},
   "outputs": [
    {
     "data": {
      "text/plain": [
       "Ttest_indResult(statistic=2.9994984197511543, pvalue=0.0027186702390657176)"
      ]
     },
     "execution_count": 181,
     "metadata": {},
     "output_type": "execute_result"
    }
   ],
   "source": [
    "# data filtering 후 \n",
    "ttest_ind(Q1.forehead_ratio[Q1.gender=='Male'], \n",
    "          Q1.forehead_ratio[Q1.gender=='Female'], \n",
    "          equal_var=False) \n",
    "          # conf_level=0.99)\n",
    "\n",
    "# Spyder에서 ctrl + ttest_ind 누르면 source \n",
    "# -> https://github.com/scipy/scipy/blob/v1.7.1/scipy/stats/stats.py#L5879-L6146"
   ]
  },
  {
   "cell_type": "code",
   "execution_count": null,
   "id": "8ea8112d-4114-4bc4-a555-a940a62fadbb",
   "metadata": {},
   "outputs": [],
   "source": [
    "# 신뢰수준에 따라 pvalue 해석"
   ]
  },
  {
   "cell_type": "code",
   "execution_count": null,
   "id": "d7bff961-0efd-4c4b-a452-0abc0250ab36",
   "metadata": {},
   "outputs": [],
   "source": [
    "# (정답) 2.999, Y"
   ]
  },
  {
   "cell_type": "markdown",
   "id": "e1fa16b3-0281-408d-abd4-7c20db69dc59",
   "metadata": {},
   "source": [
    "## 3. Logistic Regression"
   ]
  },
  {
   "cell_type": "code",
   "execution_count": null,
   "id": "221af70a-130e-423e-b2ed-91fed50aa9d3",
   "metadata": {},
   "outputs": [],
   "source": [
    "# =============================================================================\n",
    "# 3.주어진 데이터를 사용하여 성별을 구분할 수 있는지 로지스틱 회귀분석을 적용하여\n",
    "# 알아 보고자 한다. \n",
    "# - 데이터를 7대 3으로 나누어 각각 Train과 Test set로 사용한다. 이 때 seed는 123으로\n",
    "# 한다.\n",
    "# - 원 데이터에 있는 7개의 변수만 Feature로 사용하고 gender를 label로 사용한다.\n",
    "# (forehead_ratio는 사용하지 않음)\n",
    "# - 로지스틱 회귀분석 예측 함수와 Test dataset를 사용하여 예측을 수행하고 정확도를\n",
    "# 평가한다. 이 때 임계값은 0.5를 사용한다. \n",
    "# - Male의 Precision 값을 소수점 둘째 자리까지 반올림하여 기술하시오. (답안 예시) \n",
    "# 0.12\n",
    "# \n",
    "# \n",
    "# (참고) \n",
    "# from sklearn.linear_model import LogisticRegression\n",
    "# from sklearn.model_selection import train_test_split\n",
    "# from sklearn import metrics\n",
    "# train_test_split 의 random_state = 123\n",
    "# ============================================================================="
   ]
  },
  {
   "cell_type": "markdown",
   "id": "6b4f4f9d-8398-484e-9887-8e5ef84a916c",
   "metadata": {},
   "source": [
    "### 해설"
   ]
  },
  {
   "cell_type": "code",
   "execution_count": null,
   "id": "83601dfa-620d-4508-958b-e18a5258e7d5",
   "metadata": {},
   "outputs": [],
   "source": [
    "# 데이터셋 분리(seed 체크)\n",
    "# 모델 만들 때는 학습용 데이터셋 활용\n",
    "# 검정 시 테스트용 데이터셋 활용"
   ]
  },
  {
   "cell_type": "code",
   "execution_count": 182,
   "id": "9f539918-5317-4436-a951-771a7f750d65",
   "metadata": {},
   "outputs": [],
   "source": [
    "from sklearn.linear_model import LogisticRegression\n",
    "from sklearn.model_selection import train_test_split\n",
    "# from sklearn import metrics\n",
    "from sklearn.metrics import classification_report, precision_score"
   ]
  },
  {
   "cell_type": "code",
   "execution_count": 183,
   "id": "f4681b65-e995-4ab2-8765-791af7be4be9",
   "metadata": {},
   "outputs": [],
   "source": [
    "# 데이터 하나 넣으면 두 개로 나옴\n",
    "train, test = train_test_split(dataset3, test_size=0.3, random_state=123)"
   ]
  },
  {
   "cell_type": "code",
   "execution_count": 185,
   "id": "2b626e7c-abb3-443e-b890-3349e8585dc5",
   "metadata": {},
   "outputs": [],
   "source": [
    "model1 = LogisticRegression().fit(train.drop(columns='gender'), \n",
    "                                  train.gender)"
   ]
  },
  {
   "cell_type": "code",
   "execution_count": 188,
   "id": "ebfbe585-b56f-4ca2-95e1-1e45cdbc4794",
   "metadata": {},
   "outputs": [
    {
     "data": {
      "text/plain": [
       "array(['Male', 'Male', 'Male', ..., 'Female', 'Male', 'Male'],\n",
       "      dtype=object)"
      ]
     },
     "execution_count": 188,
     "metadata": {},
     "output_type": "execute_result"
    }
   ],
   "source": [
    "pred = model1.predict(test.drop(columns='gender'))\n",
    "pred"
   ]
  },
  {
   "cell_type": "code",
   "execution_count": 194,
   "id": "fe5e671f-a985-456d-bfd4-bd7a27b55a32",
   "metadata": {},
   "outputs": [
    {
     "data": {
      "text/plain": [
       "array([[2.13366044e-02, 9.78663396e-01],\n",
       "       [8.97496054e-05, 9.99910250e-01],\n",
       "       [2.54440411e-01, 7.45559589e-01],\n",
       "       ...,\n",
       "       [9.63308173e-01, 3.66918274e-02],\n",
       "       [8.55088606e-05, 9.99914491e-01],\n",
       "       [1.37076239e-04, 9.99862924e-01]])"
      ]
     },
     "execution_count": 194,
     "metadata": {},
     "output_type": "execute_result"
    }
   ],
   "source": [
    "pred_p = model1.predict_proba(test.drop(columns='gender'))\n",
    "pred_p"
   ]
  },
  {
   "cell_type": "code",
   "execution_count": 190,
   "id": "8846a2af-c47f-444a-8c90-f7a048dc189d",
   "metadata": {},
   "outputs": [
    {
     "data": {
      "text/plain": [
       "'              precision    recall  f1-score   support\\n\\n      Female       0.97      0.96      0.96       743\\n        Male       0.96      0.97      0.97       758\\n\\n    accuracy                           0.97      1501\\n   macro avg       0.97      0.97      0.97      1501\\nweighted avg       0.97      0.97      0.97      1501\\n'"
      ]
     },
     "execution_count": 190,
     "metadata": {},
     "output_type": "execute_result"
    }
   ],
   "source": [
    "classification_report(test.gender, pred)"
   ]
  },
  {
   "cell_type": "code",
   "execution_count": 191,
   "id": "f737908c-6464-46d6-8dd5-1f4b5272755e",
   "metadata": {},
   "outputs": [
    {
     "name": "stdout",
     "output_type": "stream",
     "text": [
      "              precision    recall  f1-score   support\n",
      "\n",
      "      Female       0.97      0.96      0.96       743\n",
      "        Male       0.96      0.97      0.97       758\n",
      "\n",
      "    accuracy                           0.97      1501\n",
      "   macro avg       0.97      0.97      0.97      1501\n",
      "weighted avg       0.97      0.97      0.97      1501\n",
      "\n"
     ]
    }
   ],
   "source": [
    "print(classification_report(test.gender, pred))"
   ]
  },
  {
   "cell_type": "code",
   "execution_count": 192,
   "id": "9903f0d0-c5e2-4e89-8118-ff9f477c0431",
   "metadata": {},
   "outputs": [
    {
     "data": {
      "text/plain": [
       "0.9596354166666666"
      ]
     },
     "execution_count": 192,
     "metadata": {},
     "output_type": "execute_result"
    }
   ],
   "source": [
    "precision_score(test.gender, pred, pos_label='Male')"
   ]
  },
  {
   "cell_type": "code",
   "execution_count": 195,
   "id": "34a6ed86-59ea-4725-a04d-780c129be811",
   "metadata": {},
   "outputs": [
    {
     "data": {
      "text/plain": [
       "735"
      ]
     },
     "execution_count": 195,
     "metadata": {},
     "output_type": "execute_result"
    }
   ],
   "source": [
    "(pred_p[:,1] > 0.7).sum()"
   ]
  },
  {
   "cell_type": "markdown",
   "id": "33469ffc-25dc-4570-827f-d2e4c2b5f356",
   "metadata": {},
   "source": [
    "# Dataset_04"
   ]
  },
  {
   "cell_type": "code",
   "execution_count": 196,
   "id": "35c0a670-ece0-4b97-adb9-0485035d4a08",
   "metadata": {},
   "outputs": [],
   "source": [
    "# =============================================================================\n",
    "# =============================================================================\n",
    "# # 문제 04 유형(DataSet_04.csv 이용)\n",
    "#\n",
    "#구분자 : comma(“,”), 6,718 Rows, 4 Columns, UTF-8 인코딩\n",
    "\n",
    "# 한국인의 식생활 변화가 건강에 미치는 영향을 분석하기에 앞서 육류\n",
    "# 소비량에 대한 분석을 하려고 한다. 확보한 데이터는 세계 각국의 1인당\n",
    "# 육류 소비량 데이터로 아래와 같은 내용을 담고 있다.\n",
    "\n",
    "# 컬 럼 / 정 의 / Type\n",
    "# LOCATION / 국가명 / String\n",
    "# SUBJECT / 육류 종류 (BEEF / PIG / POULTRY / SHEEP) / String\n",
    "# TIME / 연도 (1990 ~ 2026) / Integer\n",
    "# Value / 1인당 육류 소비량 (KG) / Double\n",
    "# =============================================================================\n",
    "# =============================================================================\n",
    "\n",
    "# (참고)\n",
    "# #1\n",
    "# import pandas as pd\n",
    "# import numpy as np\n",
    "# #2\n",
    "# from scipy.stats import ttest_rel\n",
    "# #3\n",
    "# from sklearn.linear_model import LinearRegression"
   ]
  },
  {
   "cell_type": "markdown",
   "id": "3368b958-2b6f-4515-89b2-b9a9720501a2",
   "metadata": {},
   "source": [
    "## 1. Correlation"
   ]
  },
  {
   "cell_type": "code",
   "execution_count": null,
   "id": "eabdf20d-265d-422d-a29a-84411b52535e",
   "metadata": {},
   "outputs": [],
   "source": [
    "# =============================================================================\n",
    "# 1.한국인의 1인당 육류 소비량이 해가 갈수록 증가하는 것으로 보여 상관분석을 통하여\n",
    "# 확인하려고 한다. \n",
    "# - 데이터 파일로부터 한국 데이터만 추출한다. 한국은 KOR로 표기되어 있다.\n",
    "# - 년도별 육류 소비량 합계를 구하여 TIME과 Value간의 상관분석을 수행하고\n",
    "# 상관계수를 소수점 셋째 자리에서 반올림하여 소수점 둘째 자리까지만 기술하시오. \n",
    "# (답안 예시) 0.55\n",
    "# ============================================================================="
   ]
  },
  {
   "cell_type": "code",
   "execution_count": 197,
   "id": "62876f80-0111-4443-bccf-59873df26179",
   "metadata": {},
   "outputs": [],
   "source": [
    "import pandas as pd\n",
    "import numpy as np\n",
    "from scipy.stats import ttest_rel\n",
    "from sklearn.linear_model import LinearRegression"
   ]
  },
  {
   "cell_type": "code",
   "execution_count": 198,
   "id": "a63905dd-8126-4fe1-bfda-6301cc180d54",
   "metadata": {},
   "outputs": [],
   "source": [
    "dataset4 = pd.read_csv('Dataset/dataset_04.csv')"
   ]
  },
  {
   "cell_type": "code",
   "execution_count": 200,
   "id": "312863c7-0b10-441e-9df7-41069e04c51e",
   "metadata": {},
   "outputs": [
    {
     "data": {
      "text/plain": [
       "LOCATION     object\n",
       "SUBJECT      object\n",
       "TIME          int64\n",
       "Value       float64\n",
       "dtype: object"
      ]
     },
     "execution_count": 200,
     "metadata": {},
     "output_type": "execute_result"
    }
   ],
   "source": [
    "dataset4.dtypes"
   ]
  },
  {
   "cell_type": "code",
   "execution_count": 202,
   "id": "6d26cf96-5ef9-424e-93c9-58a7a9892448",
   "metadata": {},
   "outputs": [
    {
     "data": {
      "text/plain": [
       "(6718, 4)"
      ]
     },
     "execution_count": 202,
     "metadata": {},
     "output_type": "execute_result"
    }
   ],
   "source": [
    "dataset4.shape"
   ]
  },
  {
   "cell_type": "markdown",
   "id": "2b89ab3f-3506-432c-a029-8ba1c27e2963",
   "metadata": {},
   "source": [
    "### 해설"
   ]
  },
  {
   "cell_type": "code",
   "execution_count": 199,
   "id": "609b2d1c-53b1-4353-93fa-fa85705998a6",
   "metadata": {},
   "outputs": [
    {
     "data": {
      "text/plain": [
       "Index(['LOCATION', 'SUBJECT', 'TIME', 'Value'], dtype='object')"
      ]
     },
     "execution_count": 199,
     "metadata": {},
     "output_type": "execute_result"
    }
   ],
   "source": [
    "dataset4.columns"
   ]
  },
  {
   "cell_type": "code",
   "execution_count": 207,
   "id": "e15c4bc8-5263-4da0-a63a-d6d82ff66d48",
   "metadata": {},
   "outputs": [],
   "source": [
    "Q1 = dataset4[dataset4.LOCATION == 'KOR']"
   ]
  },
  {
   "cell_type": "code",
   "execution_count": 212,
   "id": "923afe67-19c5-4e66-93c6-aec9ea0b8a76",
   "metadata": {},
   "outputs": [
    {
     "data": {
      "text/html": [
       "<div>\n",
       "<style scoped>\n",
       "    .dataframe tbody tr th:only-of-type {\n",
       "        vertical-align: middle;\n",
       "    }\n",
       "\n",
       "    .dataframe tbody tr th {\n",
       "        vertical-align: top;\n",
       "    }\n",
       "\n",
       "    .dataframe thead th {\n",
       "        text-align: right;\n",
       "    }\n",
       "</style>\n",
       "<table border=\"1\" class=\"dataframe\">\n",
       "  <thead>\n",
       "    <tr style=\"text-align: right;\">\n",
       "      <th></th>\n",
       "      <th>Value</th>\n",
       "    </tr>\n",
       "    <tr>\n",
       "      <th>TIME</th>\n",
       "      <th></th>\n",
       "    </tr>\n",
       "  </thead>\n",
       "  <tbody>\n",
       "    <tr>\n",
       "      <th>1990</th>\n",
       "      <td>5.774255</td>\n",
       "    </tr>\n",
       "    <tr>\n",
       "      <th>1991</th>\n",
       "      <td>21.911207</td>\n",
       "    </tr>\n",
       "    <tr>\n",
       "      <th>1992</th>\n",
       "      <td>26.901769</td>\n",
       "    </tr>\n",
       "    <tr>\n",
       "      <th>1993</th>\n",
       "      <td>26.938255</td>\n",
       "    </tr>\n",
       "    <tr>\n",
       "      <th>1994</th>\n",
       "      <td>27.877341</td>\n",
       "    </tr>\n",
       "    <tr>\n",
       "      <th>1995</th>\n",
       "      <td>30.042035</td>\n",
       "    </tr>\n",
       "    <tr>\n",
       "      <th>1996</th>\n",
       "      <td>31.928922</td>\n",
       "    </tr>\n",
       "    <tr>\n",
       "      <th>1997</th>\n",
       "      <td>32.002991</td>\n",
       "    </tr>\n",
       "    <tr>\n",
       "      <th>1998</th>\n",
       "      <td>30.009057</td>\n",
       "    </tr>\n",
       "    <tr>\n",
       "      <th>1999</th>\n",
       "      <td>35.383138</td>\n",
       "    </tr>\n",
       "    <tr>\n",
       "      <th>2000</th>\n",
       "      <td>34.957160</td>\n",
       "    </tr>\n",
       "    <tr>\n",
       "      <th>2001</th>\n",
       "      <td>35.336550</td>\n",
       "    </tr>\n",
       "    <tr>\n",
       "      <th>2002</th>\n",
       "      <td>37.162442</td>\n",
       "    </tr>\n",
       "    <tr>\n",
       "      <th>2003</th>\n",
       "      <td>39.471677</td>\n",
       "    </tr>\n",
       "    <tr>\n",
       "      <th>2004</th>\n",
       "      <td>35.171424</td>\n",
       "    </tr>\n",
       "    <tr>\n",
       "      <th>2005</th>\n",
       "      <td>36.617273</td>\n",
       "    </tr>\n",
       "    <tr>\n",
       "      <th>2006</th>\n",
       "      <td>41.910995</td>\n",
       "    </tr>\n",
       "    <tr>\n",
       "      <th>2007</th>\n",
       "      <td>43.690430</td>\n",
       "    </tr>\n",
       "    <tr>\n",
       "      <th>2008</th>\n",
       "      <td>43.941183</td>\n",
       "    </tr>\n",
       "    <tr>\n",
       "      <th>2009</th>\n",
       "      <td>43.336372</td>\n",
       "    </tr>\n",
       "    <tr>\n",
       "      <th>2010</th>\n",
       "      <td>46.412261</td>\n",
       "    </tr>\n",
       "    <tr>\n",
       "      <th>2011</th>\n",
       "      <td>46.799325</td>\n",
       "    </tr>\n",
       "    <tr>\n",
       "      <th>2012</th>\n",
       "      <td>46.128025</td>\n",
       "    </tr>\n",
       "    <tr>\n",
       "      <th>2013</th>\n",
       "      <td>49.496899</td>\n",
       "    </tr>\n",
       "    <tr>\n",
       "      <th>2014</th>\n",
       "      <td>53.274723</td>\n",
       "    </tr>\n",
       "    <tr>\n",
       "      <th>2015</th>\n",
       "      <td>55.254123</td>\n",
       "    </tr>\n",
       "    <tr>\n",
       "      <th>2016</th>\n",
       "      <td>55.665778</td>\n",
       "    </tr>\n",
       "    <tr>\n",
       "      <th>2017</th>\n",
       "      <td>55.885227</td>\n",
       "    </tr>\n",
       "    <tr>\n",
       "      <th>2018</th>\n",
       "      <td>56.146592</td>\n",
       "    </tr>\n",
       "    <tr>\n",
       "      <th>2019</th>\n",
       "      <td>56.394942</td>\n",
       "    </tr>\n",
       "    <tr>\n",
       "      <th>2020</th>\n",
       "      <td>56.643664</td>\n",
       "    </tr>\n",
       "    <tr>\n",
       "      <th>2021</th>\n",
       "      <td>56.900853</td>\n",
       "    </tr>\n",
       "    <tr>\n",
       "      <th>2022</th>\n",
       "      <td>57.194312</td>\n",
       "    </tr>\n",
       "    <tr>\n",
       "      <th>2023</th>\n",
       "      <td>57.491758</td>\n",
       "    </tr>\n",
       "    <tr>\n",
       "      <th>2024</th>\n",
       "      <td>57.781372</td>\n",
       "    </tr>\n",
       "    <tr>\n",
       "      <th>2025</th>\n",
       "      <td>58.083483</td>\n",
       "    </tr>\n",
       "    <tr>\n",
       "      <th>2026</th>\n",
       "      <td>58.392009</td>\n",
       "    </tr>\n",
       "  </tbody>\n",
       "</table>\n",
       "</div>"
      ],
      "text/plain": [
       "          Value\n",
       "TIME           \n",
       "1990   5.774255\n",
       "1991  21.911207\n",
       "1992  26.901769\n",
       "1993  26.938255\n",
       "1994  27.877341\n",
       "1995  30.042035\n",
       "1996  31.928922\n",
       "1997  32.002991\n",
       "1998  30.009057\n",
       "1999  35.383138\n",
       "2000  34.957160\n",
       "2001  35.336550\n",
       "2002  37.162442\n",
       "2003  39.471677\n",
       "2004  35.171424\n",
       "2005  36.617273\n",
       "2006  41.910995\n",
       "2007  43.690430\n",
       "2008  43.941183\n",
       "2009  43.336372\n",
       "2010  46.412261\n",
       "2011  46.799325\n",
       "2012  46.128025\n",
       "2013  49.496899\n",
       "2014  53.274723\n",
       "2015  55.254123\n",
       "2016  55.665778\n",
       "2017  55.885227\n",
       "2018  56.146592\n",
       "2019  56.394942\n",
       "2020  56.643664\n",
       "2021  56.900853\n",
       "2022  57.194312\n",
       "2023  57.491758\n",
       "2024  57.781372\n",
       "2025  58.083483\n",
       "2026  58.392009"
      ]
     },
     "execution_count": 212,
     "metadata": {},
     "output_type": "execute_result"
    }
   ],
   "source": [
    "# 소문자 -> Spyder variable explore에서 table 출력 위해\n",
    "q1_out = pd.pivot_table(data=Q1, index='TIME', \n",
    "                        values='Value', # columns= 여러 개\n",
    "                        aggfunc='sum')\n",
    "q1_out"
   ]
  },
  {
   "cell_type": "code",
   "execution_count": 213,
   "id": "8a5c918b-93b1-4909-b11f-30f968d02463",
   "metadata": {},
   "outputs": [],
   "source": [
    "q1_out.reset_index(inplace=True)\n",
    "# q1_out = q1_out.reset_index()"
   ]
  },
  {
   "cell_type": "code",
   "execution_count": 214,
   "id": "615e6a5b-4149-49cd-9919-4090833f6237",
   "metadata": {},
   "outputs": [
    {
     "data": {
      "text/html": [
       "<div>\n",
       "<style scoped>\n",
       "    .dataframe tbody tr th:only-of-type {\n",
       "        vertical-align: middle;\n",
       "    }\n",
       "\n",
       "    .dataframe tbody tr th {\n",
       "        vertical-align: top;\n",
       "    }\n",
       "\n",
       "    .dataframe thead th {\n",
       "        text-align: right;\n",
       "    }\n",
       "</style>\n",
       "<table border=\"1\" class=\"dataframe\">\n",
       "  <thead>\n",
       "    <tr style=\"text-align: right;\">\n",
       "      <th></th>\n",
       "      <th>TIME</th>\n",
       "      <th>Value</th>\n",
       "    </tr>\n",
       "  </thead>\n",
       "  <tbody>\n",
       "    <tr>\n",
       "      <th>TIME</th>\n",
       "      <td>1.000000</td>\n",
       "      <td>0.960124</td>\n",
       "    </tr>\n",
       "    <tr>\n",
       "      <th>Value</th>\n",
       "      <td>0.960124</td>\n",
       "      <td>1.000000</td>\n",
       "    </tr>\n",
       "  </tbody>\n",
       "</table>\n",
       "</div>"
      ],
      "text/plain": [
       "           TIME     Value\n",
       "TIME   1.000000  0.960124\n",
       "Value  0.960124  1.000000"
      ]
     },
     "execution_count": 214,
     "metadata": {},
     "output_type": "execute_result"
    }
   ],
   "source": [
    "q1_out.corr()"
   ]
  },
  {
   "cell_type": "code",
   "execution_count": 215,
   "id": "ef27e286-81b3-43fc-ab90-07f3bba8a567",
   "metadata": {},
   "outputs": [
    {
     "data": {
      "text/plain": [
       "0.9601244896033334"
      ]
     },
     "execution_count": 215,
     "metadata": {},
     "output_type": "execute_result"
    }
   ],
   "source": [
    "q1_out.corr()['Value']['TIME']"
   ]
  },
  {
   "cell_type": "code",
   "execution_count": 216,
   "id": "fbd72aa7-8352-4adb-af15-b3fb89c67dc6",
   "metadata": {},
   "outputs": [
    {
     "data": {
      "text/plain": [
       "0.9601244896033334"
      ]
     },
     "execution_count": 216,
     "metadata": {},
     "output_type": "execute_result"
    }
   ],
   "source": [
    "q1_out.corr()['TIME']['Value']"
   ]
  },
  {
   "cell_type": "markdown",
   "id": "34f4cd33-7f53-4c28-ae05-b24e6258668e",
   "metadata": {},
   "source": [
    "## 2. "
   ]
  },
  {
   "cell_type": "code",
   "execution_count": null,
   "id": "cff0ebe5-0844-4463-a8f9-6b80b96a42d6",
   "metadata": {},
   "outputs": [],
   "source": [
    "# =============================================================================\n",
    "# 2. 한국 인근 국가 가운데 식생의 유사성이 상대적으로 높은 일본(JPN)과 비교하여, 연도별\n",
    "# 소비량에 평균 차이가 있는지 분석하고자 한다.\n",
    "# - 두 국가의 육류별 소비량을 연도기준으로 비교하는 대응표본 t 검정을 수행하시오.\n",
    "# - 두 국가 간의 연도별 소비량 차이가 없는 것으로 판단할 수 있는 육류 종류를 모두\n",
    "# 적으시오. (알파벳 순서) (답안 예시) BEEF, PIG, POULTRY, SHEEP\n",
    "# ============================================================================="
   ]
  },
  {
   "cell_type": "markdown",
   "id": "6dd7ac27-c2d4-4d04-927a-7e8bfcac72f7",
   "metadata": {},
   "source": [
    "### 해설"
   ]
  },
  {
   "cell_type": "code",
   "execution_count": 221,
   "id": "1e153574-0541-4028-864d-af454d643169",
   "metadata": {},
   "outputs": [
    {
     "data": {
      "text/plain": [
       "(6718, 294)"
      ]
     },
     "execution_count": 221,
     "metadata": {},
     "output_type": "execute_result"
    }
   ],
   "source": [
    "q2 = dataset4[dataset4.LOCATION.isin(['KOR', 'JPN'])] # | or 써도 가능\n",
    "len(dataset4), len(q2)                                     "
   ]
  },
  {
   "cell_type": "code",
   "execution_count": 224,
   "id": "8ea872d4-2d72-4c6c-abf5-946cd03eb9f4",
   "metadata": {},
   "outputs": [
    {
     "data": {
      "text/html": [
       "<div>\n",
       "<style scoped>\n",
       "    .dataframe tbody tr th:only-of-type {\n",
       "        vertical-align: middle;\n",
       "    }\n",
       "\n",
       "    .dataframe tbody tr th {\n",
       "        vertical-align: top;\n",
       "    }\n",
       "\n",
       "    .dataframe thead th {\n",
       "        text-align: right;\n",
       "    }\n",
       "</style>\n",
       "<table border=\"1\" class=\"dataframe\">\n",
       "  <thead>\n",
       "    <tr style=\"text-align: right;\">\n",
       "      <th></th>\n",
       "      <th>LOCATION</th>\n",
       "      <th>JPN</th>\n",
       "      <th>KOR</th>\n",
       "    </tr>\n",
       "    <tr>\n",
       "      <th>TIME</th>\n",
       "      <th>SUBJECT</th>\n",
       "      <th></th>\n",
       "      <th></th>\n",
       "    </tr>\n",
       "  </thead>\n",
       "  <tbody>\n",
       "    <tr>\n",
       "      <th rowspan=\"4\" valign=\"top\">1990</th>\n",
       "      <th>BEEF</th>\n",
       "      <td>6.111035</td>\n",
       "      <td>NaN</td>\n",
       "    </tr>\n",
       "    <tr>\n",
       "      <th>PIG</th>\n",
       "      <td>13.219006</td>\n",
       "      <td>NaN</td>\n",
       "    </tr>\n",
       "    <tr>\n",
       "      <th>POULTRY</th>\n",
       "      <td>12.844865</td>\n",
       "      <td>5.570102</td>\n",
       "    </tr>\n",
       "    <tr>\n",
       "      <th>SHEEP</th>\n",
       "      <td>0.756696</td>\n",
       "      <td>0.204153</td>\n",
       "    </tr>\n",
       "    <tr>\n",
       "      <th>1991</th>\n",
       "      <th>BEEF</th>\n",
       "      <td>6.517055</td>\n",
       "      <td>5.085481</td>\n",
       "    </tr>\n",
       "    <tr>\n",
       "      <th>...</th>\n",
       "      <th>...</th>\n",
       "      <td>...</td>\n",
       "      <td>...</td>\n",
       "    </tr>\n",
       "    <tr>\n",
       "      <th>2025</th>\n",
       "      <th>SHEEP</th>\n",
       "      <td>0.125060</td>\n",
       "      <td>0.201451</td>\n",
       "    </tr>\n",
       "    <tr>\n",
       "      <th rowspan=\"4\" valign=\"top\">2026</th>\n",
       "      <th>BEEF</th>\n",
       "      <td>6.844875</td>\n",
       "      <td>10.737425</td>\n",
       "    </tr>\n",
       "    <tr>\n",
       "      <th>PIG</th>\n",
       "      <td>15.544018</td>\n",
       "      <td>29.544063</td>\n",
       "    </tr>\n",
       "    <tr>\n",
       "      <th>POULTRY</th>\n",
       "      <td>14.768340</td>\n",
       "      <td>17.907865</td>\n",
       "    </tr>\n",
       "    <tr>\n",
       "      <th>SHEEP</th>\n",
       "      <td>0.122136</td>\n",
       "      <td>0.202656</td>\n",
       "    </tr>\n",
       "  </tbody>\n",
       "</table>\n",
       "<p>148 rows × 2 columns</p>\n",
       "</div>"
      ],
      "text/plain": [
       "LOCATION            JPN        KOR\n",
       "TIME SUBJECT                      \n",
       "1990 BEEF      6.111035        NaN\n",
       "     PIG      13.219006        NaN\n",
       "     POULTRY  12.844865   5.570102\n",
       "     SHEEP     0.756696   0.204153\n",
       "1991 BEEF      6.517055   5.085481\n",
       "...                 ...        ...\n",
       "2025 SHEEP     0.125060   0.201451\n",
       "2026 BEEF      6.844875  10.737425\n",
       "     PIG      15.544018  29.544063\n",
       "     POULTRY  14.768340  17.907865\n",
       "     SHEEP     0.122136   0.202656\n",
       "\n",
       "[148 rows x 2 columns]"
      ]
     },
     "execution_count": 224,
     "metadata": {},
     "output_type": "execute_result"
    }
   ],
   "source": [
    "q2_out = pd.pivot_table(data=q2, index=['TIME', 'SUBJECT'], \n",
    "                    columns=['LOCATION'],\n",
    "                    values='Value')\n",
    "q2_out"
   ]
  },
  {
   "cell_type": "code",
   "execution_count": 225,
   "id": "31ac9643-14fb-4242-a129-2f2ea03eca52",
   "metadata": {},
   "outputs": [
    {
     "data": {
      "text/html": [
       "<div>\n",
       "<style scoped>\n",
       "    .dataframe tbody tr th:only-of-type {\n",
       "        vertical-align: middle;\n",
       "    }\n",
       "\n",
       "    .dataframe tbody tr th {\n",
       "        vertical-align: top;\n",
       "    }\n",
       "\n",
       "    .dataframe thead th {\n",
       "        text-align: right;\n",
       "    }\n",
       "</style>\n",
       "<table border=\"1\" class=\"dataframe\">\n",
       "  <thead>\n",
       "    <tr style=\"text-align: right;\">\n",
       "      <th>LOCATION</th>\n",
       "      <th>TIME</th>\n",
       "      <th>SUBJECT</th>\n",
       "      <th>JPN</th>\n",
       "      <th>KOR</th>\n",
       "    </tr>\n",
       "  </thead>\n",
       "  <tbody>\n",
       "    <tr>\n",
       "      <th>0</th>\n",
       "      <td>1990</td>\n",
       "      <td>POULTRY</td>\n",
       "      <td>12.844865</td>\n",
       "      <td>5.570102</td>\n",
       "    </tr>\n",
       "    <tr>\n",
       "      <th>1</th>\n",
       "      <td>1990</td>\n",
       "      <td>SHEEP</td>\n",
       "      <td>0.756696</td>\n",
       "      <td>0.204153</td>\n",
       "    </tr>\n",
       "    <tr>\n",
       "      <th>2</th>\n",
       "      <td>1991</td>\n",
       "      <td>BEEF</td>\n",
       "      <td>6.517055</td>\n",
       "      <td>5.085481</td>\n",
       "    </tr>\n",
       "    <tr>\n",
       "      <th>3</th>\n",
       "      <td>1991</td>\n",
       "      <td>PIG</td>\n",
       "      <td>13.239267</td>\n",
       "      <td>9.930182</td>\n",
       "    </tr>\n",
       "    <tr>\n",
       "      <th>4</th>\n",
       "      <td>1991</td>\n",
       "      <td>POULTRY</td>\n",
       "      <td>12.055422</td>\n",
       "      <td>6.738203</td>\n",
       "    </tr>\n",
       "    <tr>\n",
       "      <th>...</th>\n",
       "      <td>...</td>\n",
       "      <td>...</td>\n",
       "      <td>...</td>\n",
       "      <td>...</td>\n",
       "    </tr>\n",
       "    <tr>\n",
       "      <th>141</th>\n",
       "      <td>2025</td>\n",
       "      <td>SHEEP</td>\n",
       "      <td>0.125060</td>\n",
       "      <td>0.201451</td>\n",
       "    </tr>\n",
       "    <tr>\n",
       "      <th>142</th>\n",
       "      <td>2026</td>\n",
       "      <td>BEEF</td>\n",
       "      <td>6.844875</td>\n",
       "      <td>10.737425</td>\n",
       "    </tr>\n",
       "    <tr>\n",
       "      <th>143</th>\n",
       "      <td>2026</td>\n",
       "      <td>PIG</td>\n",
       "      <td>15.544018</td>\n",
       "      <td>29.544063</td>\n",
       "    </tr>\n",
       "    <tr>\n",
       "      <th>144</th>\n",
       "      <td>2026</td>\n",
       "      <td>POULTRY</td>\n",
       "      <td>14.768340</td>\n",
       "      <td>17.907865</td>\n",
       "    </tr>\n",
       "    <tr>\n",
       "      <th>145</th>\n",
       "      <td>2026</td>\n",
       "      <td>SHEEP</td>\n",
       "      <td>0.122136</td>\n",
       "      <td>0.202656</td>\n",
       "    </tr>\n",
       "  </tbody>\n",
       "</table>\n",
       "<p>146 rows × 4 columns</p>\n",
       "</div>"
      ],
      "text/plain": [
       "LOCATION  TIME  SUBJECT        JPN        KOR\n",
       "0         1990  POULTRY  12.844865   5.570102\n",
       "1         1990    SHEEP   0.756696   0.204153\n",
       "2         1991     BEEF   6.517055   5.085481\n",
       "3         1991      PIG  13.239267   9.930182\n",
       "4         1991  POULTRY  12.055422   6.738203\n",
       "..         ...      ...        ...        ...\n",
       "141       2025    SHEEP   0.125060   0.201451\n",
       "142       2026     BEEF   6.844875  10.737425\n",
       "143       2026      PIG  15.544018  29.544063\n",
       "144       2026  POULTRY  14.768340  17.907865\n",
       "145       2026    SHEEP   0.122136   0.202656\n",
       "\n",
       "[146 rows x 4 columns]"
      ]
     },
     "execution_count": 225,
     "metadata": {},
     "output_type": "execute_result"
    }
   ],
   "source": [
    "q2_out = q2_out.dropna()\n",
    "q2_out = q2_out.reset_index()\n",
    "q2_out"
   ]
  },
  {
   "cell_type": "code",
   "execution_count": 228,
   "id": "0031603b-bf8a-4aa5-bf86-bad62f9027d1",
   "metadata": {},
   "outputs": [
    {
     "data": {
      "text/plain": [
       "array(['POULTRY', 'SHEEP', 'BEEF', 'PIG'], dtype=object)"
      ]
     },
     "execution_count": 228,
     "metadata": {},
     "output_type": "execute_result"
    }
   ],
   "source": [
    "sub_list = q2_out.SUBJECT.unique()\n",
    "sub_list"
   ]
  },
  {
   "cell_type": "code",
   "execution_count": 231,
   "id": "b9275bd0-cd9c-46e1-b023-7630946058f7",
   "metadata": {},
   "outputs": [
    {
     "data": {
      "text/html": [
       "<div>\n",
       "<style scoped>\n",
       "    .dataframe tbody tr th:only-of-type {\n",
       "        vertical-align: middle;\n",
       "    }\n",
       "\n",
       "    .dataframe tbody tr th {\n",
       "        vertical-align: top;\n",
       "    }\n",
       "\n",
       "    .dataframe thead th {\n",
       "        text-align: right;\n",
       "    }\n",
       "</style>\n",
       "<table border=\"1\" class=\"dataframe\">\n",
       "  <thead>\n",
       "    <tr style=\"text-align: right;\">\n",
       "      <th></th>\n",
       "      <th>sub</th>\n",
       "      <th>pvalue</th>\n",
       "    </tr>\n",
       "  </thead>\n",
       "  <tbody>\n",
       "    <tr>\n",
       "      <th>0</th>\n",
       "      <td>POULTRY</td>\n",
       "      <td>4.690626e-01</td>\n",
       "    </tr>\n",
       "    <tr>\n",
       "      <th>1</th>\n",
       "      <td>SHEEP</td>\n",
       "      <td>4.346643e-05</td>\n",
       "    </tr>\n",
       "    <tr>\n",
       "      <th>2</th>\n",
       "      <td>BEEF</td>\n",
       "      <td>3.541916e-04</td>\n",
       "    </tr>\n",
       "    <tr>\n",
       "      <th>3</th>\n",
       "      <td>PIG</td>\n",
       "      <td>1.063500e-10</td>\n",
       "    </tr>\n",
       "  </tbody>\n",
       "</table>\n",
       "</div>"
      ],
      "text/plain": [
       "       sub        pvalue\n",
       "0  POULTRY  4.690626e-01\n",
       "1    SHEEP  4.346643e-05\n",
       "2     BEEF  3.541916e-04\n",
       "3      PIG  1.063500e-10"
      ]
     },
     "execution_count": 231,
     "metadata": {},
     "output_type": "execute_result"
    }
   ],
   "source": [
    "from scipy.stats import ttest_rel\n",
    "\n",
    "q2_out2=[]\n",
    "for i in sub_list:\n",
    "    temp = q2_out[q2_out.SUBJECT == i]\n",
    "    pvalue = ttest_rel(temp['KOR'], temp['JPN']).pvalue\n",
    "    q2_out2 = q2_out2 + [[i, pvalue]]\n",
    "    \n",
    "q2_out2 = pd.DataFrame(q2_out2, columns=['sub', 'pvalue'])\n",
    "q2_out2"
   ]
  },
  {
   "cell_type": "code",
   "execution_count": 232,
   "id": "edcb3ac5-0998-45e8-82b6-334a9c3fbf82",
   "metadata": {},
   "outputs": [
    {
     "data": {
      "text/html": [
       "<div>\n",
       "<style scoped>\n",
       "    .dataframe tbody tr th:only-of-type {\n",
       "        vertical-align: middle;\n",
       "    }\n",
       "\n",
       "    .dataframe tbody tr th {\n",
       "        vertical-align: top;\n",
       "    }\n",
       "\n",
       "    .dataframe thead th {\n",
       "        text-align: right;\n",
       "    }\n",
       "</style>\n",
       "<table border=\"1\" class=\"dataframe\">\n",
       "  <thead>\n",
       "    <tr style=\"text-align: right;\">\n",
       "      <th></th>\n",
       "      <th>sub</th>\n",
       "      <th>pvalue</th>\n",
       "    </tr>\n",
       "  </thead>\n",
       "  <tbody>\n",
       "    <tr>\n",
       "      <th>0</th>\n",
       "      <td>POULTRY</td>\n",
       "      <td>0.469063</td>\n",
       "    </tr>\n",
       "  </tbody>\n",
       "</table>\n",
       "</div>"
      ],
      "text/plain": [
       "       sub    pvalue\n",
       "0  POULTRY  0.469063"
      ]
     },
     "execution_count": 232,
     "metadata": {},
     "output_type": "execute_result"
    }
   ],
   "source": [
    "q2_out2[q2_out2.pvalue >= 0.05]"
   ]
  },
  {
   "cell_type": "code",
   "execution_count": null,
   "id": "111f921a-61da-4f34-9d67-bac41b1cad3b",
   "metadata": {},
   "outputs": [],
   "source": [
    "# (정답) POULTRY"
   ]
  },
  {
   "cell_type": "markdown",
   "id": "4535180e-4497-48d3-96ff-afb5db52e4c5",
   "metadata": {},
   "source": [
    "## 3. "
   ]
  },
  {
   "cell_type": "code",
   "execution_count": null,
   "id": "3cb39814-13ec-4662-9665-1bb26faff0ad",
   "metadata": {},
   "outputs": [],
   "source": [
    "# =============================================================================\n",
    "# 3.(한국만 포함한 데이터에서) Time을 독립변수로, Value를 종속변수로 하여 육류\n",
    "# 종류(SUBJECT) 별로 회귀분석을 수행하였을 때, 가장 높은 결정계수를 가진 모델의\n",
    "# 학습오차 중 MAPE를 반올림하여 소수점 둘째 자리까지 기술하시오. (답안 예시) 21.12\n",
    "# (MAPE : Mean Absolute Percentage Error, 평균 절대 백분율 오차)\n",
    "# (MAPE = Σ ( | y - y ̂ | / y ) * 100/n ))\n",
    "# \n",
    "# ============================================================================="
   ]
  },
  {
   "cell_type": "markdown",
   "id": "b914840e-f903-4837-b65b-f4875f9513a5",
   "metadata": {},
   "source": [
    "### 해설"
   ]
  },
  {
   "cell_type": "code",
   "execution_count": 233,
   "id": "a6ef22f5-33da-480c-a287-33f159165938",
   "metadata": {},
   "outputs": [],
   "source": [
    "from sklearn.linear_model import LinearRegression\n",
    "from statsmodels.api import OLS, add_constant\n",
    "from sklearn.metrics import r2_score, mean_absolute_error "
   ]
  },
  {
   "cell_type": "code",
   "execution_count": 235,
   "id": "c4ca956e-23b9-4c05-913b-86d8e15272ad",
   "metadata": {},
   "outputs": [
    {
     "data": {
      "text/html": [
       "<div>\n",
       "<style scoped>\n",
       "    .dataframe tbody tr th:only-of-type {\n",
       "        vertical-align: middle;\n",
       "    }\n",
       "\n",
       "    .dataframe tbody tr th {\n",
       "        vertical-align: top;\n",
       "    }\n",
       "\n",
       "    .dataframe thead th {\n",
       "        text-align: right;\n",
       "    }\n",
       "</style>\n",
       "<table border=\"1\" class=\"dataframe\">\n",
       "  <thead>\n",
       "    <tr style=\"text-align: right;\">\n",
       "      <th>LOCATION</th>\n",
       "      <th>TIME</th>\n",
       "      <th>SUBJECT</th>\n",
       "      <th>KOR</th>\n",
       "    </tr>\n",
       "  </thead>\n",
       "  <tbody>\n",
       "    <tr>\n",
       "      <th>0</th>\n",
       "      <td>1990</td>\n",
       "      <td>POULTRY</td>\n",
       "      <td>5.570102</td>\n",
       "    </tr>\n",
       "    <tr>\n",
       "      <th>1</th>\n",
       "      <td>1990</td>\n",
       "      <td>SHEEP</td>\n",
       "      <td>0.204153</td>\n",
       "    </tr>\n",
       "    <tr>\n",
       "      <th>2</th>\n",
       "      <td>1991</td>\n",
       "      <td>BEEF</td>\n",
       "      <td>5.085481</td>\n",
       "    </tr>\n",
       "    <tr>\n",
       "      <th>3</th>\n",
       "      <td>1991</td>\n",
       "      <td>PIG</td>\n",
       "      <td>9.930182</td>\n",
       "    </tr>\n",
       "    <tr>\n",
       "      <th>4</th>\n",
       "      <td>1991</td>\n",
       "      <td>POULTRY</td>\n",
       "      <td>6.738203</td>\n",
       "    </tr>\n",
       "    <tr>\n",
       "      <th>...</th>\n",
       "      <td>...</td>\n",
       "      <td>...</td>\n",
       "      <td>...</td>\n",
       "    </tr>\n",
       "    <tr>\n",
       "      <th>141</th>\n",
       "      <td>2025</td>\n",
       "      <td>SHEEP</td>\n",
       "      <td>0.201451</td>\n",
       "    </tr>\n",
       "    <tr>\n",
       "      <th>142</th>\n",
       "      <td>2026</td>\n",
       "      <td>BEEF</td>\n",
       "      <td>10.737425</td>\n",
       "    </tr>\n",
       "    <tr>\n",
       "      <th>143</th>\n",
       "      <td>2026</td>\n",
       "      <td>PIG</td>\n",
       "      <td>29.544063</td>\n",
       "    </tr>\n",
       "    <tr>\n",
       "      <th>144</th>\n",
       "      <td>2026</td>\n",
       "      <td>POULTRY</td>\n",
       "      <td>17.907865</td>\n",
       "    </tr>\n",
       "    <tr>\n",
       "      <th>145</th>\n",
       "      <td>2026</td>\n",
       "      <td>SHEEP</td>\n",
       "      <td>0.202656</td>\n",
       "    </tr>\n",
       "  </tbody>\n",
       "</table>\n",
       "<p>146 rows × 3 columns</p>\n",
       "</div>"
      ],
      "text/plain": [
       "LOCATION  TIME  SUBJECT        KOR\n",
       "0         1990  POULTRY   5.570102\n",
       "1         1990    SHEEP   0.204153\n",
       "2         1991     BEEF   5.085481\n",
       "3         1991      PIG   9.930182\n",
       "4         1991  POULTRY   6.738203\n",
       "..         ...      ...        ...\n",
       "141       2025    SHEEP   0.201451\n",
       "142       2026     BEEF  10.737425\n",
       "143       2026      PIG  29.544063\n",
       "144       2026  POULTRY  17.907865\n",
       "145       2026    SHEEP   0.202656\n",
       "\n",
       "[146 rows x 3 columns]"
      ]
     },
     "execution_count": 235,
     "metadata": {},
     "output_type": "execute_result"
    }
   ],
   "source": [
    "q3 = q2_out.drop(columns='JPN')\n",
    "q3"
   ]
  },
  {
   "cell_type": "code",
   "execution_count": 236,
   "id": "01e3e342-2b20-4c26-96b2-1204b53b0aa3",
   "metadata": {},
   "outputs": [
    {
     "data": {
      "text/plain": [
       "((146,), (146, 1))"
      ]
     },
     "execution_count": 236,
     "metadata": {},
     "output_type": "execute_result"
    }
   ],
   "source": [
    "q3['TIME'].shape, q3[['TIME']].shape"
   ]
  },
  {
   "cell_type": "code",
   "execution_count": 237,
   "id": "884998dc-d981-4a8d-bf25-a871e48e1742",
   "metadata": {},
   "outputs": [
    {
     "data": {
      "text/html": [
       "<div>\n",
       "<style scoped>\n",
       "    .dataframe tbody tr th:only-of-type {\n",
       "        vertical-align: middle;\n",
       "    }\n",
       "\n",
       "    .dataframe tbody tr th {\n",
       "        vertical-align: top;\n",
       "    }\n",
       "\n",
       "    .dataframe thead th {\n",
       "        text-align: right;\n",
       "    }\n",
       "</style>\n",
       "<table border=\"1\" class=\"dataframe\">\n",
       "  <thead>\n",
       "    <tr style=\"text-align: right;\">\n",
       "      <th></th>\n",
       "      <th>sub</th>\n",
       "      <th>r2_score</th>\n",
       "    </tr>\n",
       "  </thead>\n",
       "  <tbody>\n",
       "    <tr>\n",
       "      <th>0</th>\n",
       "      <td>POULTRY</td>\n",
       "      <td>0.951498</td>\n",
       "    </tr>\n",
       "    <tr>\n",
       "      <th>1</th>\n",
       "      <td>SHEEP</td>\n",
       "      <td>0.004083</td>\n",
       "    </tr>\n",
       "    <tr>\n",
       "      <th>2</th>\n",
       "      <td>BEEF</td>\n",
       "      <td>0.835456</td>\n",
       "    </tr>\n",
       "    <tr>\n",
       "      <th>3</th>\n",
       "      <td>PIG</td>\n",
       "      <td>0.940681</td>\n",
       "    </tr>\n",
       "  </tbody>\n",
       "</table>\n",
       "</div>"
      ],
      "text/plain": [
       "       sub  r2_score\n",
       "0  POULTRY  0.951498\n",
       "1    SHEEP  0.004083\n",
       "2     BEEF  0.835456\n",
       "3      PIG  0.940681"
      ]
     },
     "execution_count": 237,
     "metadata": {},
     "output_type": "execute_result"
    }
   ],
   "source": [
    "q3_out = []\n",
    "sub_list = q3.SUBJECT.unique()\n",
    "\n",
    "for i in sub_list:\n",
    "    temp = q3[q3.SUBJECT == i]\n",
    "    lm = LinearRegression().fit(temp[['TIME']], temp.KOR) \n",
    "    # 사이킷런 기본적으로 X(입력변수) 2차원 구조 열 벡터로 입력\n",
    "    r2_score = lm.score(temp[['TIME']], temp.KOR)\n",
    "    q3_out = q3_out + [[i, r2_score]]\n",
    "    \n",
    "    # .predict -> r2_score\n",
    "\n",
    "q3_out = pd.DataFrame(q3_out, columns=['sub', 'r2_score'])\n",
    "q3_out"
   ]
  },
  {
   "cell_type": "code",
   "execution_count": null,
   "id": "391b4cfc-a49a-4c0e-b8f9-bf5ab2ebee3b",
   "metadata": {},
   "outputs": [],
   "source": [
    "# MAPE = Σ ( | y - y ̂ | / y ) * 100/n "
   ]
  },
  {
   "cell_type": "code",
   "execution_count": 238,
   "id": "29c231ed-cb37-47e7-8fe2-50cf9031b7b9",
   "metadata": {},
   "outputs": [],
   "source": [
    "temp = q3[q3.SUBJECT == 'POULTRY']\n",
    "lm2 = LinearRegression().fit(temp[['TIME']], temp.KOR)\n",
    "pred = lm2.predict(temp[['TIME']])"
   ]
  },
  {
   "cell_type": "code",
   "execution_count": 239,
   "id": "db70ea1a-5d8f-4c45-9733-627e9757a18b",
   "metadata": {},
   "outputs": [],
   "source": [
    "mape = (abs(temp.KOR - pred) / temp.KOR).sum() * 100/len(temp) # .abs()"
   ]
  },
  {
   "cell_type": "code",
   "execution_count": 240,
   "id": "02439b94-3fd9-4da2-abff-a9c934b23906",
   "metadata": {},
   "outputs": [
    {
     "name": "stdout",
     "output_type": "stream",
     "text": [
      "5.783357902874552\n"
     ]
    }
   ],
   "source": [
    "print(mape)"
   ]
  },
  {
   "cell_type": "code",
   "execution_count": null,
   "id": "66871dc2-df42-4827-903b-a796e658b375",
   "metadata": {},
   "outputs": [],
   "source": []
  }
 ],
 "metadata": {
  "kernelspec": {
   "display_name": "Python Multi",
   "language": "python",
   "name": "multi"
  },
  "language_info": {
   "codemirror_mode": {
    "name": "ipython",
    "version": 3
   },
   "file_extension": ".py",
   "mimetype": "text/x-python",
   "name": "python",
   "nbconvert_exporter": "python",
   "pygments_lexer": "ipython3",
   "version": "3.7.6"
  }
 },
 "nbformat": 4,
 "nbformat_minor": 5
}
